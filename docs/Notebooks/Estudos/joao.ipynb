{
 "cells": [
  {
   "cell_type": "code",
   "execution_count": 1,
   "metadata": {},
   "outputs": [],
   "source": [
    "# Bibiotecas\n",
    "import geopandas as gpd\n",
    "import matplotlib.pyplot as plt\n",
    "import contextily as cx\n",
    "import shapely.geometry \n",
    "import shapely.wkt \n",
    "import folium as fl\n",
    "import pandas as pd\n",
    "from functools import partial\n",
    "import pyproj"
   ]
  },
  {
   "cell_type": "code",
   "execution_count": 2,
   "metadata": {},
   "outputs": [],
   "source": [
    "# Abre o dataframe corretamente\n",
    "FILE_PARADAS = \"../../../databases/paradas/paradas.shp\"\n",
    "FILE_LINHAS = \"../../../databases/linhas/Linhas.shp\"\n",
    "\n",
    "from shapely.geometry import Point\n",
    "import pyproj\n",
    "\n",
    "def converter_para_EPSG_4326(point):\n",
    "    # Define a transformação de EPSG 31983 para EPSG 4326\n",
    "    transformer = pyproj.Transformer.from_crs(\"epsg:31983\", \"epsg:4326\", always_xy=True)\n",
    "\n",
    "    # Converte o ponto\n",
    "    lon, lat = transformer.transform(point.x, point.y)\n",
    "    ponto_EPSG_4326 = Point(lon, lat)\n",
    "\n",
    "    return ponto_EPSG_4326\n"
   ]
  },
  {
   "cell_type": "code",
   "execution_count": 3,
   "metadata": {},
   "outputs": [],
   "source": [
    "from shapely.geometry import Point\n",
    "from shapely.ops import transform\n",
    "from functools import partial\n",
    "import pyproj\n",
    "\n",
    "def calcular_distancia_km(point1, point2):\n",
    "    project_to_EPSG_4326 = partial(\n",
    "        pyproj.transform,\n",
    "        pyproj.Proj(init='epsg:31983'),  # Projeto de origem (EPSG 31983)\n",
    "        pyproj.Proj(init='epsg:4326'),  # Projeto de destino (EPSG 4326)\n",
    "    )\n",
    "\n",
    "    # Transforma os pontos para o EPSG 4326\n",
    "    point1_wgs84 = transform(project_to_EPSG_4326, point1)\n",
    "    point2_wgs84 = transform(project_to_EPSG_4326, point2)\n",
    "\n",
    "    # Calcula a distância entre os pontos em graus\n",
    "    distancia_graus = point1_wgs84.distance(point2_wgs84)\n",
    "\n",
    "    # Converte a distância para metros (considerando que 1 grau de latitude ~= 111.32 km)\n",
    "    distancia_metros = distancia_graus * 111320.0\n",
    "\n",
    "    return distancia_metros"
   ]
  },
  {
   "cell_type": "code",
   "execution_count": 4,
   "metadata": {},
   "outputs": [],
   "source": [
    "# Usa a função do Luiz para armazenar as distâncias\n",
    "def Armazenar_distancias(df, distancias):\n",
    "    for i in range(len(df)):\n",
    "        if (i != len(df)):\n",
    "            distancia = calcular_distancia_km(df.iloc[i], df.iloc[i+1])\n",
    "            distancias.append(distancia)\n",
    "\n",
    "# Calcula a media a partir da funcao Armazenar_distancias\n",
    "def calcular_media(distancias):\n",
    "    if len(distancias) == 0:\n",
    "        return 0\n",
    "    soma = sum(distancias)\n",
    "    media = soma / len(distancias)\n",
    "    return media\n",
    "\n",
    "# Calcula a moda a partir da função Armazenar_distancias\n",
    "def calcular_moda(distancias):\n",
    "    moda = distancias.mode\n",
    "    return moda"
   ]
  },
  {
   "cell_type": "code",
   "execution_count": 5,
   "metadata": {},
   "outputs": [],
   "source": [
    "# Teste da função da media\n",
    "df = pd.DataFrame({'Latitude': [40.7128, 34.0522, 41.8781, 29.7604],\n",
    "                   'Longitude': [-74.0060, -118.2437, -87.6298, -95.3698]})\n",
    "#distancias = []\n",
    "#Armazenar_distancias(df,distancias)\n",
    "#media = calcular_media(distancias)"
   ]
  },
  {
   "cell_type": "code",
   "execution_count": 6,
   "metadata": {},
   "outputs": [],
   "source": [
    "# Remover paradas usnado limiar e deixar dataframe das paradas em ordem\n",
    "# Uma ideia de como calcular o limiar\n",
    "def limiar (media):\n",
    "    media = media * 0,8\n",
    "    return media"
   ]
  },
  {
   "cell_type": "code",
   "execution_count": 7,
   "metadata": {},
   "outputs": [],
   "source": [
    "# Plotar uma rota de paradas."
   ]
  }
 ],
 "metadata": {
  "kernelspec": {
   "display_name": "Python 3",
   "language": "python",
   "name": "python3"
  },
  "language_info": {
   "codemirror_mode": {
    "name": "ipython",
    "version": 3
   },
   "file_extension": ".py",
   "mimetype": "text/x-python",
   "name": "python",
   "nbconvert_exporter": "python",
   "pygments_lexer": "ipython3",
   "version": "3.10.12"
  },
  "orig_nbformat": 4
 },
 "nbformat": 4,
 "nbformat_minor": 2
}
