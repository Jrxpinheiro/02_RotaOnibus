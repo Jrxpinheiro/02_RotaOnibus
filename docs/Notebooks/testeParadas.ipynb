{
 "cells": [
  {
   "cell_type": "code",
   "execution_count": 32,
   "metadata": {},
   "outputs": [
    {
     "name": "stdout",
     "output_type": "stream",
     "text": [
      "Requirement already satisfied: geopandas in /home/luiz/.pyenv/versions/3.11.3/envs/dev/lib/python3.11/site-packages (0.13.2)\n",
      "Requirement already satisfied: matplotlib in /home/luiz/.pyenv/versions/3.11.3/envs/dev/lib/python3.11/site-packages (3.7.1)\n",
      "Requirement already satisfied: contextily in /home/luiz/.pyenv/versions/3.11.3/envs/dev/lib/python3.11/site-packages (1.3.0)\n",
      "Requirement already satisfied: shapely in /home/luiz/.pyenv/versions/3.11.3/envs/dev/lib/python3.11/site-packages (2.0.1)\n",
      "Requirement already satisfied: fiona>=1.8.19 in /home/luiz/.pyenv/versions/3.11.3/envs/dev/lib/python3.11/site-packages (from geopandas) (1.9.4.post1)\n",
      "Requirement already satisfied: packaging in /home/luiz/.pyenv/versions/3.11.3/envs/dev/lib/python3.11/site-packages (from geopandas) (23.1)\n",
      "Requirement already satisfied: pandas>=1.1.0 in /home/luiz/.pyenv/versions/3.11.3/envs/dev/lib/python3.11/site-packages (from geopandas) (2.0.2)\n",
      "Requirement already satisfied: pyproj>=3.0.1 in /home/luiz/.pyenv/versions/3.11.3/envs/dev/lib/python3.11/site-packages (from geopandas) (3.6.0)\n",
      "Requirement already satisfied: contourpy>=1.0.1 in /home/luiz/.pyenv/versions/3.11.3/envs/dev/lib/python3.11/site-packages (from matplotlib) (1.0.7)\n",
      "Requirement already satisfied: cycler>=0.10 in /home/luiz/.pyenv/versions/3.11.3/envs/dev/lib/python3.11/site-packages (from matplotlib) (0.11.0)\n",
      "Requirement already satisfied: fonttools>=4.22.0 in /home/luiz/.pyenv/versions/3.11.3/envs/dev/lib/python3.11/site-packages (from matplotlib) (4.39.4)\n",
      "Requirement already satisfied: kiwisolver>=1.0.1 in /home/luiz/.pyenv/versions/3.11.3/envs/dev/lib/python3.11/site-packages (from matplotlib) (1.4.4)\n",
      "Requirement already satisfied: numpy>=1.20 in /home/luiz/.pyenv/versions/3.11.3/envs/dev/lib/python3.11/site-packages (from matplotlib) (1.24.3)\n",
      "Requirement already satisfied: pillow>=6.2.0 in /home/luiz/.pyenv/versions/3.11.3/envs/dev/lib/python3.11/site-packages (from matplotlib) (9.5.0)\n",
      "Requirement already satisfied: pyparsing>=2.3.1 in /home/luiz/.pyenv/versions/3.11.3/envs/dev/lib/python3.11/site-packages (from matplotlib) (3.0.9)\n",
      "Requirement already satisfied: python-dateutil>=2.7 in /home/luiz/.pyenv/versions/3.11.3/envs/dev/lib/python3.11/site-packages (from matplotlib) (2.8.2)\n",
      "Requirement already satisfied: geopy in /home/luiz/.pyenv/versions/3.11.3/envs/dev/lib/python3.11/site-packages (from contextily) (2.3.0)\n",
      "Requirement already satisfied: mercantile in /home/luiz/.pyenv/versions/3.11.3/envs/dev/lib/python3.11/site-packages (from contextily) (1.2.1)\n",
      "Requirement already satisfied: rasterio in /home/luiz/.pyenv/versions/3.11.3/envs/dev/lib/python3.11/site-packages (from contextily) (1.3.8)\n",
      "Requirement already satisfied: requests in /home/luiz/.pyenv/versions/3.11.3/envs/dev/lib/python3.11/site-packages (from contextily) (2.31.0)\n",
      "Requirement already satisfied: joblib in /home/luiz/.pyenv/versions/3.11.3/envs/dev/lib/python3.11/site-packages (from contextily) (1.3.1)\n",
      "Requirement already satisfied: xyzservices in /home/luiz/.pyenv/versions/3.11.3/envs/dev/lib/python3.11/site-packages (from contextily) (2023.7.0)\n",
      "Requirement already satisfied: attrs>=19.2.0 in /home/luiz/.pyenv/versions/3.11.3/envs/dev/lib/python3.11/site-packages (from fiona>=1.8.19->geopandas) (23.1.0)\n",
      "Requirement already satisfied: certifi in /home/luiz/.pyenv/versions/3.11.3/envs/dev/lib/python3.11/site-packages (from fiona>=1.8.19->geopandas) (2023.5.7)\n",
      "Requirement already satisfied: click~=8.0 in /home/luiz/.pyenv/versions/3.11.3/envs/dev/lib/python3.11/site-packages (from fiona>=1.8.19->geopandas) (8.1.6)\n",
      "Requirement already satisfied: click-plugins>=1.0 in /home/luiz/.pyenv/versions/3.11.3/envs/dev/lib/python3.11/site-packages (from fiona>=1.8.19->geopandas) (1.1.1)\n",
      "Requirement already satisfied: cligj>=0.5 in /home/luiz/.pyenv/versions/3.11.3/envs/dev/lib/python3.11/site-packages (from fiona>=1.8.19->geopandas) (0.7.2)\n",
      "Requirement already satisfied: six in /home/luiz/.pyenv/versions/3.11.3/envs/dev/lib/python3.11/site-packages (from fiona>=1.8.19->geopandas) (1.16.0)\n",
      "Requirement already satisfied: pytz>=2020.1 in /home/luiz/.pyenv/versions/3.11.3/envs/dev/lib/python3.11/site-packages (from pandas>=1.1.0->geopandas) (2023.3)\n",
      "Requirement already satisfied: tzdata>=2022.1 in /home/luiz/.pyenv/versions/3.11.3/envs/dev/lib/python3.11/site-packages (from pandas>=1.1.0->geopandas) (2023.3)\n",
      "Requirement already satisfied: geographiclib<3,>=1.52 in /home/luiz/.pyenv/versions/3.11.3/envs/dev/lib/python3.11/site-packages (from geopy->contextily) (2.0)\n",
      "Requirement already satisfied: affine in /home/luiz/.pyenv/versions/3.11.3/envs/dev/lib/python3.11/site-packages (from rasterio->contextily) (2.4.0)\n",
      "Requirement already satisfied: snuggs>=1.4.1 in /home/luiz/.pyenv/versions/3.11.3/envs/dev/lib/python3.11/site-packages (from rasterio->contextily) (1.4.7)\n",
      "Requirement already satisfied: setuptools in /home/luiz/.pyenv/versions/3.11.3/envs/dev/lib/python3.11/site-packages (from rasterio->contextily) (65.5.0)\n",
      "Requirement already satisfied: charset-normalizer<4,>=2 in /home/luiz/.pyenv/versions/3.11.3/envs/dev/lib/python3.11/site-packages (from requests->contextily) (3.1.0)\n",
      "Requirement already satisfied: idna<4,>=2.5 in /home/luiz/.pyenv/versions/3.11.3/envs/dev/lib/python3.11/site-packages (from requests->contextily) (3.4)\n",
      "Requirement already satisfied: urllib3<3,>=1.21.1 in /home/luiz/.pyenv/versions/3.11.3/envs/dev/lib/python3.11/site-packages (from requests->contextily) (1.26.16)\n",
      "\n",
      "\u001b[1m[\u001b[0m\u001b[34;49mnotice\u001b[0m\u001b[1;39;49m]\u001b[0m\u001b[39;49m A new release of pip is available: \u001b[0m\u001b[31;49m23.1.2\u001b[0m\u001b[39;49m -> \u001b[0m\u001b[32;49m23.2.1\u001b[0m\n",
      "\u001b[1m[\u001b[0m\u001b[34;49mnotice\u001b[0m\u001b[1;39;49m]\u001b[0m\u001b[39;49m To update, run: \u001b[0m\u001b[32;49mpip install --upgrade pip\u001b[0m\n",
      "Note: you may need to restart the kernel to use updated packages.\n"
     ]
    }
   ],
   "source": [
    "# Istalando pacotes necessários\n",
    "%pip install geopandas matplotlib contextily shapely"
   ]
  },
  {
   "cell_type": "code",
   "execution_count": 33,
   "metadata": {},
   "outputs": [],
   "source": [
    "import geopandas as gpd\n",
    "import matplotlib.pyplot as plt\n",
    "import contextily as cx\n",
    "from shapely.geometry import box, Point, Polygon, MultiPolygon\n",
    "from shapely.wkt import loads"
   ]
  },
  {
   "cell_type": "code",
   "execution_count": 34,
   "metadata": {},
   "outputs": [],
   "source": [
    "# lendo o arquivo .shp\n",
    "caminho_shp = '../databases/paradas/paradas.shp'\n",
    "df = gpd.read_file(caminho_shp)"
   ]
  },
  {
   "cell_type": "code",
   "execution_count": 35,
   "metadata": {},
   "outputs": [
    {
     "name": "stdout",
     "output_type": "stream",
     "text": [
      "<class 'geopandas.geodataframe.GeoDataFrame'>\n",
      "RangeIndex: 5457 entries, 0 to 5456\n",
      "Data columns (total 6 columns):\n",
      " #   Column      Non-Null Count  Dtype   \n",
      "---  ------      --------------  -----   \n",
      " 0   parada      5457 non-null   object  \n",
      " 1   descricao   5456 non-null   object  \n",
      " 2   situacao    5457 non-null   object  \n",
      " 3   estrutura_  4948 non-null   object  \n",
      " 4   tipo        5455 non-null   object  \n",
      " 5   geometry    5457 non-null   geometry\n",
      "dtypes: geometry(1), object(5)\n",
      "memory usage: 255.9+ KB\n"
     ]
    }
   ],
   "source": [
    "# pegando algumas informações\n",
    "df.info()"
   ]
  },
  {
   "cell_type": "code",
   "execution_count": 36,
   "metadata": {},
   "outputs": [
    {
     "data": {
      "text/plain": [
       "0       POINT (203628.051 8238910.255)\n",
       "1       POINT (203626.569 8238879.548)\n",
       "2       POINT (203515.071 8238613.416)\n",
       "3       POINT (203481.047 8238551.784)\n",
       "4       POINT (203579.703 8239213.734)\n",
       "                     ...              \n",
       "5452    POINT (167354.394 8264495.757)\n",
       "5453    POINT (167311.355 8264500.454)\n",
       "5454    POINT (163265.979 8265332.396)\n",
       "5455    POINT (162912.871 8269061.030)\n",
       "5456    POINT (163217.911 8264159.565)\n",
       "Name: geometry, Length: 5457, dtype: geometry"
      ]
     },
     "execution_count": 36,
     "metadata": {},
     "output_type": "execute_result"
    }
   ],
   "source": [
    "# O que temos na coluna 'geometry' ?\n",
    "df['geometry']"
   ]
  },
  {
   "cell_type": "code",
   "execution_count": 37,
   "metadata": {},
   "outputs": [
    {
     "data": {
      "text/plain": [
       "<Projected CRS: EPSG:31983>\n",
       "Name: SIRGAS 2000 / UTM zone 23S\n",
       "Axis Info [cartesian]:\n",
       "- E[east]: Easting (metre)\n",
       "- N[north]: Northing (metre)\n",
       "Area of Use:\n",
       "- name: Brazil - between 48°W and 42°W, northern and southern hemispheres, onshore and offshore.\n",
       "- bounds: (-48.0, -33.5, -42.0, 5.13)\n",
       "Coordinate Operation:\n",
       "- name: UTM zone 23S\n",
       "- method: Transverse Mercator\n",
       "Datum: Sistema de Referencia Geocentrico para las AmericaS 2000\n",
       "- Ellipsoid: GRS 1980\n",
       "- Prime Meridian: Greenwich"
      ]
     },
     "execution_count": 37,
     "metadata": {},
     "output_type": "execute_result"
    }
   ],
   "source": [
    "# Qual sistemas estamos?\n",
    "# acessando o atributo crs\n",
    "df.crs"
   ]
  },
  {
   "cell_type": "code",
   "execution_count": 38,
   "metadata": {},
   "outputs": [],
   "source": [
    "# O folium trabalha no sistema WGS 84(EPSG:4326), o correto é converter para esse formato\n",
    "df = df.to_crs('EPSG:4326')"
   ]
  },
  {
   "cell_type": "code",
   "execution_count": 39,
   "metadata": {},
   "outputs": [
    {
     "name": "stdout",
     "output_type": "stream",
     "text": [
      "Coordenada x é longitude e vale: -47.76791017881488\n",
      "Coordena y é latitude e vale: -15.911319542624627\n"
     ]
    }
   ],
   "source": [
    "# Agora conseguimos plotar\n",
    "\n",
    "# Pegando uma cordenada pelo indice\n",
    "x = df.geometry.x.iloc[0] # longitude\n",
    "y = df.geometry.y.iloc[0] # latitute\n",
    "print(f'Coordenada x é longitude e vale: {x}\\nCoordena y é latitude e vale: {y}')"
   ]
  },
  {
   "cell_type": "code",
   "execution_count": 40,
   "metadata": {},
   "outputs": [
    {
     "data": {
      "text/html": [
       "<div style=\"width:100%;\"><div style=\"position:relative;width:100%;height:0;padding-bottom:60%;\"><span style=\"color:#565656\">Make this Notebook Trusted to load map: File -> Trust Notebook</span><iframe srcdoc=\"&lt;!DOCTYPE html&gt;\n",
       "&lt;html&gt;\n",
       "&lt;head&gt;\n",
       "    \n",
       "    &lt;meta http-equiv=&quot;content-type&quot; content=&quot;text/html; charset=UTF-8&quot; /&gt;\n",
       "    \n",
       "        &lt;script&gt;\n",
       "            L_NO_TOUCH = false;\n",
       "            L_DISABLE_3D = false;\n",
       "        &lt;/script&gt;\n",
       "    \n",
       "    &lt;style&gt;html, body {width: 100%;height: 100%;margin: 0;padding: 0;}&lt;/style&gt;\n",
       "    &lt;style&gt;#map {position:absolute;top:0;bottom:0;right:0;left:0;}&lt;/style&gt;\n",
       "    &lt;script src=&quot;https://cdn.jsdelivr.net/npm/leaflet@1.9.3/dist/leaflet.js&quot;&gt;&lt;/script&gt;\n",
       "    &lt;script src=&quot;https://code.jquery.com/jquery-1.12.4.min.js&quot;&gt;&lt;/script&gt;\n",
       "    &lt;script src=&quot;https://cdn.jsdelivr.net/npm/bootstrap@5.2.2/dist/js/bootstrap.bundle.min.js&quot;&gt;&lt;/script&gt;\n",
       "    &lt;script src=&quot;https://cdnjs.cloudflare.com/ajax/libs/Leaflet.awesome-markers/2.0.2/leaflet.awesome-markers.js&quot;&gt;&lt;/script&gt;\n",
       "    &lt;link rel=&quot;stylesheet&quot; href=&quot;https://cdn.jsdelivr.net/npm/leaflet@1.9.3/dist/leaflet.css&quot;/&gt;\n",
       "    &lt;link rel=&quot;stylesheet&quot; href=&quot;https://cdn.jsdelivr.net/npm/bootstrap@5.2.2/dist/css/bootstrap.min.css&quot;/&gt;\n",
       "    &lt;link rel=&quot;stylesheet&quot; href=&quot;https://netdna.bootstrapcdn.com/bootstrap/3.0.0/css/bootstrap.min.css&quot;/&gt;\n",
       "    &lt;link rel=&quot;stylesheet&quot; href=&quot;https://cdn.jsdelivr.net/npm/@fortawesome/fontawesome-free@6.2.0/css/all.min.css&quot;/&gt;\n",
       "    &lt;link rel=&quot;stylesheet&quot; href=&quot;https://cdnjs.cloudflare.com/ajax/libs/Leaflet.awesome-markers/2.0.2/leaflet.awesome-markers.css&quot;/&gt;\n",
       "    &lt;link rel=&quot;stylesheet&quot; href=&quot;https://cdn.jsdelivr.net/gh/python-visualization/folium/folium/templates/leaflet.awesome.rotate.min.css&quot;/&gt;\n",
       "    \n",
       "            &lt;meta name=&quot;viewport&quot; content=&quot;width=device-width,\n",
       "                initial-scale=1.0, maximum-scale=1.0, user-scalable=no&quot; /&gt;\n",
       "            &lt;style&gt;\n",
       "                #map_03c0bb5137b7158485f562ebe4732a72 {\n",
       "                    position: relative;\n",
       "                    width: 100.0%;\n",
       "                    height: 100.0%;\n",
       "                    left: 0.0%;\n",
       "                    top: 0.0%;\n",
       "                }\n",
       "                .leaflet-container { font-size: 1rem; }\n",
       "            &lt;/style&gt;\n",
       "        \n",
       "&lt;/head&gt;\n",
       "&lt;body&gt;\n",
       "    \n",
       "    \n",
       "            &lt;div class=&quot;folium-map&quot; id=&quot;map_03c0bb5137b7158485f562ebe4732a72&quot; &gt;&lt;/div&gt;\n",
       "        \n",
       "&lt;/body&gt;\n",
       "&lt;script&gt;\n",
       "    \n",
       "    \n",
       "            var map_03c0bb5137b7158485f562ebe4732a72 = L.map(\n",
       "                &quot;map_03c0bb5137b7158485f562ebe4732a72&quot;,\n",
       "                {\n",
       "                    center: [-15.911319542624627, -47.76791017881488],\n",
       "                    crs: L.CRS.EPSG3857,\n",
       "                    zoom: 12,\n",
       "                    zoomControl: true,\n",
       "                    preferCanvas: false,\n",
       "                }\n",
       "            );\n",
       "\n",
       "            \n",
       "\n",
       "        \n",
       "    \n",
       "            var tile_layer_2ae10e17f3888a7597462c6a2202720e = L.tileLayer(\n",
       "                &quot;https://{s}.tile.openstreetmap.org/{z}/{x}/{y}.png&quot;,\n",
       "                {&quot;attribution&quot;: &quot;Data by \\u0026copy; \\u003ca target=\\&quot;_blank\\&quot; href=\\&quot;http://openstreetmap.org\\&quot;\\u003eOpenStreetMap\\u003c/a\\u003e, under \\u003ca target=\\&quot;_blank\\&quot; href=\\&quot;http://www.openstreetmap.org/copyright\\&quot;\\u003eODbL\\u003c/a\\u003e.&quot;, &quot;detectRetina&quot;: false, &quot;maxNativeZoom&quot;: 18, &quot;maxZoom&quot;: 18, &quot;minZoom&quot;: 0, &quot;noWrap&quot;: false, &quot;opacity&quot;: 1, &quot;subdomains&quot;: &quot;abc&quot;, &quot;tms&quot;: false}\n",
       "            ).addTo(map_03c0bb5137b7158485f562ebe4732a72);\n",
       "        \n",
       "    \n",
       "            var marker_a37aa8df5fccc2d3813370c9447b264c = L.marker(\n",
       "                [-15.911319542624627, -47.76791017881488],\n",
       "                {}\n",
       "            ).addTo(map_03c0bb5137b7158485f562ebe4732a72);\n",
       "        \n",
       "&lt;/script&gt;\n",
       "&lt;/html&gt;\" style=\"position:absolute;width:100%;height:100%;left:0;top:0;border:none !important;\" allowfullscreen webkitallowfullscreen mozallowfullscreen></iframe></div></div>"
      ],
      "text/plain": [
       "<folium.folium.Map at 0x7fab686363d0>"
      ]
     },
     "execution_count": 40,
     "metadata": {},
     "output_type": "execute_result"
    }
   ],
   "source": [
    "import folium\n",
    "\n",
    "# Criar um mapa Folium centrado nas coordenadas do ponto selecionado\n",
    "mapa = folium.Map(location=[y, x], zoom_start=12)\n",
    "\n",
    "# Adicionar um marcador para o ponto no mapa\n",
    "folium.Marker(location=[y, x]).add_to(mapa)\n",
    "\n",
    "# Exibir o mapa\n",
    "mapa"
   ]
  },
  {
   "cell_type": "code",
   "execution_count": 41,
   "metadata": {},
   "outputs": [
    {
     "data": {
      "text/plain": [
       "'Avenida Morro da Cruz'"
      ]
     },
     "execution_count": 41,
     "metadata": {},
     "output_type": "execute_result"
    }
   ],
   "source": [
    "# verificando se faz sentido o plot\n",
    "df['descricao'].iloc[0]"
   ]
  },
  {
   "cell_type": "code",
   "execution_count": 42,
   "metadata": {},
   "outputs": [
    {
     "data": {
      "text/plain": [
       "1308"
      ]
     },
     "execution_count": 42,
     "metadata": {},
     "output_type": "execute_result"
    }
   ],
   "source": [
    "# Lendo o arquivo das linhas\n",
    "file = '../databases/linhas/Linhas.shp'\n",
    "linhas = gpd.read_file(file)\n",
    "linhas.head(5)\n",
    "linhas.linha.shape[0]"
   ]
  },
  {
   "cell_type": "code",
   "execution_count": 43,
   "metadata": {},
   "outputs": [],
   "source": [
    "linestringRecanto = linhas[linhas['linha']=='813.2']\n",
    "linestringRecantoIda = linestringRecanto.iloc[1] # ida\n",
    "linestringRecantoVolta = linestringRecanto.iloc[0] # volta\n"
   ]
  },
  {
   "cell_type": "code",
   "execution_count": 44,
   "metadata": {},
   "outputs": [
    {
     "data": {
      "text/html": [
       "<div style=\"width:100%;\"><div style=\"position:relative;width:100%;height:0;padding-bottom:60%;\"><span style=\"color:#565656\">Make this Notebook Trusted to load map: File -> Trust Notebook</span><iframe srcdoc=\"&lt;!DOCTYPE html&gt;\n",
       "&lt;html&gt;\n",
       "&lt;head&gt;\n",
       "    \n",
       "    &lt;meta http-equiv=&quot;content-type&quot; content=&quot;text/html; charset=UTF-8&quot; /&gt;\n",
       "    \n",
       "        &lt;script&gt;\n",
       "            L_NO_TOUCH = false;\n",
       "            L_DISABLE_3D = false;\n",
       "        &lt;/script&gt;\n",
       "    \n",
       "    &lt;style&gt;html, body {width: 100%;height: 100%;margin: 0;padding: 0;}&lt;/style&gt;\n",
       "    &lt;style&gt;#map {position:absolute;top:0;bottom:0;right:0;left:0;}&lt;/style&gt;\n",
       "    &lt;script src=&quot;https://cdn.jsdelivr.net/npm/leaflet@1.9.3/dist/leaflet.js&quot;&gt;&lt;/script&gt;\n",
       "    &lt;script src=&quot;https://code.jquery.com/jquery-1.12.4.min.js&quot;&gt;&lt;/script&gt;\n",
       "    &lt;script src=&quot;https://cdn.jsdelivr.net/npm/bootstrap@5.2.2/dist/js/bootstrap.bundle.min.js&quot;&gt;&lt;/script&gt;\n",
       "    &lt;script src=&quot;https://cdnjs.cloudflare.com/ajax/libs/Leaflet.awesome-markers/2.0.2/leaflet.awesome-markers.js&quot;&gt;&lt;/script&gt;\n",
       "    &lt;link rel=&quot;stylesheet&quot; href=&quot;https://cdn.jsdelivr.net/npm/leaflet@1.9.3/dist/leaflet.css&quot;/&gt;\n",
       "    &lt;link rel=&quot;stylesheet&quot; href=&quot;https://cdn.jsdelivr.net/npm/bootstrap@5.2.2/dist/css/bootstrap.min.css&quot;/&gt;\n",
       "    &lt;link rel=&quot;stylesheet&quot; href=&quot;https://netdna.bootstrapcdn.com/bootstrap/3.0.0/css/bootstrap.min.css&quot;/&gt;\n",
       "    &lt;link rel=&quot;stylesheet&quot; href=&quot;https://cdn.jsdelivr.net/npm/@fortawesome/fontawesome-free@6.2.0/css/all.min.css&quot;/&gt;\n",
       "    &lt;link rel=&quot;stylesheet&quot; href=&quot;https://cdnjs.cloudflare.com/ajax/libs/Leaflet.awesome-markers/2.0.2/leaflet.awesome-markers.css&quot;/&gt;\n",
       "    &lt;link rel=&quot;stylesheet&quot; href=&quot;https://cdn.jsdelivr.net/gh/python-visualization/folium/folium/templates/leaflet.awesome.rotate.min.css&quot;/&gt;\n",
       "    \n",
       "            &lt;meta name=&quot;viewport&quot; content=&quot;width=device-width,\n",
       "                initial-scale=1.0, maximum-scale=1.0, user-scalable=no&quot; /&gt;\n",
       "            &lt;style&gt;\n",
       "                #map_36cfc70747b20643f0c487762ee3e95a {\n",
       "                    position: relative;\n",
       "                    width: 100.0%;\n",
       "                    height: 100.0%;\n",
       "                    left: 0.0%;\n",
       "                    top: 0.0%;\n",
       "                }\n",
       "                .leaflet-container { font-size: 1rem; }\n",
       "            &lt;/style&gt;\n",
       "        \n",
       "&lt;/head&gt;\n",
       "&lt;body&gt;\n",
       "    \n",
       "    \n",
       "            &lt;div class=&quot;folium-map&quot; id=&quot;map_36cfc70747b20643f0c487762ee3e95a&quot; &gt;&lt;/div&gt;\n",
       "        \n",
       "&lt;/body&gt;\n",
       "&lt;script&gt;\n",
       "    \n",
       "    \n",
       "            var map_36cfc70747b20643f0c487762ee3e95a = L.map(\n",
       "                &quot;map_36cfc70747b20643f0c487762ee3e95a&quot;,\n",
       "                {\n",
       "                    center: [-15.7605, -47.78134],\n",
       "                    crs: L.CRS.EPSG3857,\n",
       "                    zoom: 10,\n",
       "                    zoomControl: true,\n",
       "                    preferCanvas: false,\n",
       "                }\n",
       "            );\n",
       "\n",
       "            \n",
       "\n",
       "        \n",
       "    \n",
       "            var tile_layer_acfb6d14114e10590b207508beb4622a = L.tileLayer(\n",
       "                &quot;https://{s}.tile.openstreetmap.org/{z}/{x}/{y}.png&quot;,\n",
       "                {&quot;attribution&quot;: &quot;Data by \\u0026copy; \\u003ca target=\\&quot;_blank\\&quot; href=\\&quot;http://openstreetmap.org\\&quot;\\u003eOpenStreetMap\\u003c/a\\u003e, under \\u003ca target=\\&quot;_blank\\&quot; href=\\&quot;http://www.openstreetmap.org/copyright\\&quot;\\u003eODbL\\u003c/a\\u003e.&quot;, &quot;detectRetina&quot;: false, &quot;maxNativeZoom&quot;: 18, &quot;maxZoom&quot;: 18, &quot;minZoom&quot;: 0, &quot;noWrap&quot;: false, &quot;opacity&quot;: 1, &quot;subdomains&quot;: &quot;abc&quot;, &quot;tms&quot;: false}\n",
       "            ).addTo(map_36cfc70747b20643f0c487762ee3e95a);\n",
       "        \n",
       "    \n",
       "            var poly_line_c159f9f0a5a281214d896080cce2ad08 = L.polyline(\n",
       "                [[-15.736292122908715, -47.90742176540436], [-15.736347013886695, -47.90757465790603], [-15.736457793168467, -47.90768780048404], [-15.736586241002362, -47.90776226464094], [-15.736738481263583, -47.907823139915656], [-15.73703585120781, -47.90881540750094], [-15.73728352110014, -47.909639191889326], [-15.737406434285857, -47.910051980542285], [-15.738089838560812, -47.912315248134206], [-15.73813080655775, -47.912356557936924], [-15.738204344605261, -47.912446202869056], [-15.738240397515696, -47.91254460215859], [-15.73827628972429, -47.91259030529494], [-15.738311029918131, -47.9125927651703], [-15.738347752813752, -47.91257631921602], [-15.738369099964984, -47.91249356348797], [-15.738378373522403, -47.91239821186479], [-15.737781591504412, -47.91040763616767], [-15.737493691838232, -47.90943892477332], [-15.737310347376384, -47.90882856404787], [-15.735970930814169, -47.904371059526795], [-15.73568458365515, -47.90341135388101], [-15.735167614940627, -47.901702075947085], [-15.734760399776697, -47.90033304345277], [-15.73475353659279, -47.900147653635834], [-15.734764612125486, -47.900039679453826], [-15.734797003420288, -47.899917104760924], [-15.734882482794141, -47.89973765425392], [-15.735494759116508, -47.89874772283872], [-15.735593131038488, -47.89861462245733], [-15.73563883014794, -47.89860775384819], [-15.735669534603366, -47.898604671435194], [-15.735727920249984, -47.89860818844276], [-15.736070119799171, -47.89885705529494], [-15.736344645197422, -47.89903056114926], [-15.73670381536712, -47.89918980624844], [-15.736996641532837, -47.89927537077932], [-15.737049649558864, -47.899284948547546], [-15.737477058547436, -47.89934429776253], [-15.737740143574438, -47.89935380493265], [-15.737982639036968, -47.89932766021488], [-15.738231997276998, -47.899292008326995], [-15.73845727308813, -47.89922579675076], [-15.738579725688293, -47.89918980624845], [-15.738982357842561, -47.899059082659576], [-15.739478783889675, -47.898902214352944], [-15.740439605053338, -47.89859323132471], [-15.741304340217873, -47.89831039301427], [-15.741791544955307, -47.89815123668552], [-15.742272015683263, -47.89799427960849], [-15.74303151187607, -47.89775897714853], [-15.743934364973065, -47.8974636772006], [-15.74427484627555, -47.897351140737555], [-15.744366949950384, -47.89732091269049], [-15.74471922398159, -47.897208410810265], [-15.74490050096387, -47.89715051826219], [-15.745121612824716, -47.89708171054895], [-15.74555658502302, -47.896946365900256], [-15.74580181881165, -47.89687005674426], [-15.7465864653582, -47.89660860956654], [-15.7477805863583, -47.89622356917752], [-15.748010740640245, -47.89615209493652], [-15.748400519972197, -47.89603104898302], [-15.750255734357424, -47.89543209726676], [-15.750946028802808, -47.89521066522421], [-15.751774664224175, -47.89494485479918], [-15.752184132832012, -47.8948117544178], [-15.754078200344958, -47.89421517949408], [-15.755313452250297, -47.89382063193498], [-15.755969962705219, -47.89360909740027], [-15.757742759078864, -47.893038667194325], [-15.759163272487001, -47.89257994623704], [-15.759668799015497, -47.89241832434535], [-15.760890292309734, -47.89202377678624], [-15.761526197894694, -47.89182412621415], [-15.762905574414095, -47.89137079116826], [-15.763351556097641, -47.89123705846053], [-15.764783467208556, -47.8907830910883], [-15.765238657282628, -47.8906285995742], [-15.76690157917672, -47.89011045880378], [-15.768744832237275, -47.88958554932288], [-15.770032959066269, -47.889271451042546], [-15.77050643596834, -47.889164495378935], [-15.771636371549565, -47.888903048201215], [-15.772347724527291, -47.88876281744226], [-15.773532544849639, -47.88856792045523], [-15.774214156493708, -47.888449080828984], [-15.775229707848784, -47.888287458937306], [-15.776096582122134, -47.888204271198944], [-15.7772562208047, -47.8880759244026], [-15.777828032309625, -47.888021258174554], [-15.779682977731657, -47.887869143452974], [-15.780531535269986, -47.887809723639855], [-15.781384663662166, -47.88776694137441], [-15.781535618982398, -47.88776218778936], [-15.783134366156395, -47.887728912694016], [-15.783486592021925, -47.88772178231645], [-15.78371073543585, -47.88774317344918], [-15.784838310278888, -47.8878501291128], [-15.785547329787352, -47.887911925718434], [-15.785789768146977, -47.88794044722875], [-15.786190019521191, -47.88802363496712], [-15.786633725835008, -47.888128213838215], [-15.78777264598099, -47.88841585329556], [-15.787966697353552, -47.8884689729721], [-15.788223586992094, -47.88855651557694], [-15.78830580363467, -47.88858961623139], [-15.788838520120944, -47.88873904951711], [-15.789325675788518, -47.888912555371434], [-15.789947769586096, -47.88912171311362], [-15.790508109365152, -47.889311858662474], [-15.7911258464678, -47.88951811945582], [-15.7922931924282, -47.889912239272945], [-15.792836797833544, -47.89009022486041], [-15.793526632581674, -47.89032210904541], [-15.794226022488868, -47.89055413081076], [-15.79448417039827, -47.890636762426034], [-15.79485317965815, -47.890782661423266], [-15.795285993972886, -47.890936870110714], [-15.795509036267617, -47.891009133472444], [-15.79566830611478, -47.891070620606875], [-15.795986615801747, -47.891210866198165], [-15.796354731435644, -47.89137896482904], [-15.797230998254516, -47.89175005806652], [-15.797336567087706, -47.89179762086752], [-15.797564228219965, -47.89192671052036], [-15.797654185931084, -47.891989682471646], [-15.797895786115946, -47.89214858381128], [-15.799309472696498, -47.89301758536662], [-15.799438682737751, -47.89309345519723], [-15.799762677474034, -47.893344838788984], [-15.800072469774852, -47.89358615017092], [-15.800632193383754, -47.894033374997406], [-15.801225294690916, -47.894486012660934], [-15.801416790551228, -47.89463927207787], [-15.80193755947337, -47.895095820256074], [-15.802700294922147, -47.89577298155903], [-15.803245217644543, -47.89625455773262], [-15.803685581727816, -47.896648274220254], [-15.804211423320659, -47.897127115764874], [-15.804588507521828, -47.89747304615567], [-15.805166544544441, -47.89802420298073], [-15.806029811230042, -47.89882127597607], [-15.806700260691189, -47.89951936149947], [-15.807423101917806, -47.900274959498574], [-15.808284044868351, -47.90120034792248], [-15.809207470096592, -47.9022771767659], [-15.809827308615594, -47.90300664513014], [-15.810007819295176, -47.90322184638253], [-15.810448773454732, -47.90379290283437], [-15.811326930277062, -47.904948081282534], [-15.811956053293033, -47.905786286057925], [-15.812707413457936, -47.90681874071463], [-15.813061689330526, -47.90730504971716], [-15.813197184620401, -47.90749321548773], [-15.814076198087996, -47.90871393670981], [-15.81457709375653, -47.90940225268747], [-15.815473032401837, -47.91065398180714], [-15.816574411487771, -47.91217520320965], [-15.817450455227046, -47.913394587220274], [-15.818535286765876, -47.91490079201382], [-15.819735201959615, -47.916554274639005], [-15.820289931729581, -47.91732087204429], [-15.820435402207208, -47.917521903426625], [-15.820970236844397, -47.91826010826555], [-15.822394566682386, -47.92023522691439], [-15.822685466856331, -47.92063978400203], [-15.823821892994566, -47.92220794723053], [-15.825286122033141, -47.92423305411949], [-15.825690643379307, -47.924799121956944], [-15.825866611368209, -47.92503858733767], [-15.825969016612508, -47.92518097143122], [-15.827050403544042, -47.92668454855633], [-15.827666247452825, -47.92752515756647], [-15.827927148138766, -47.92788582729714], [-15.828111298264528, -47.928140398034884], [-15.828246595345435, -47.928327434512106], [-15.828535845646583, -47.9287272997058], [-15.828913350218608, -47.92921401680506], [-15.829052751859505, -47.929418409197865], [-15.829134993979265, -47.929520786330706], [-15.829231702440318, -47.929613499821315], [-15.829345266089506, -47.929696584129516], [-15.829561182771172, -47.92980829349874], [-15.829660449746903, -47.9298442782519], [-15.829846111879965, -47.929896317543395], [-15.830127460795243, -47.92993986461431], [-15.830187401890315, -47.92999036348123], [-15.830230848259427, -47.93004502970931], [-15.830253714765723, -47.93011395669253], [-15.830242281512913, -47.93019952122342], [-15.830210268401535, -47.930270824999184], [-15.829734644435273, -47.930653488595695], [-15.829686624645689, -47.93067725652094], [-15.829629458214646, -47.930682010106], [-15.829572291767413, -47.93067250293589], [-15.829533418574083, -47.93064398142558], [-15.82949454537325, -47.93059882236762], [-15.829473965440396, -47.93054177934702], [-15.829462532143436, -47.93047285236379], [-15.829483112077464, -47.93040630217309], [-15.829512838645153, -47.93034688235997], [-15.829537991891332, -47.93031360726463], [-15.829659893515245, -47.93017116254001], [-15.830095935819507, -47.92985132111849], [-15.83043436007453, -47.92957798997812], [-15.830544939671112, -47.92949025894378], [-15.830876971710323, -47.92925998301922], [-15.831499898057574, -47.928937141904676], [-15.831721873865032, -47.928855878204374], [-15.83210324411912, -47.928688060316695], [-15.832686842228183, -47.92848586143324], [-15.833457991780401, -47.92831378935684], [-15.833607514463175, -47.928329108506354], [-15.834075711836153, -47.92833695589583], [-15.834672711103096, -47.92840041150393], [-15.835015784824638, -47.92847336972944], [-15.835351999139409, -47.92858242904061], [-15.835622624763575, -47.92867299155336], [-15.835782760025431, -47.92874254740568], [-15.835953048580324, -47.92881761944983], [-15.83738342591288, -47.929604483212444], [-15.837906394193526, -47.92988106092918], [-15.838195584360726, -47.93001220851052], [-15.83848938207622, -47.930195255083405], [-15.838981114495482, -47.930460141371675], [-15.839529537459642, -47.93076341901264], [-15.840236077537114, -47.931050058342564], [-15.840784986505897, -47.9312143039347], [-15.841451175560675, -47.93130455190891], [-15.842445012618882, -47.93138626569441], [-15.8426186374169, -47.931444925564094], [-15.842700392453336, -47.93149485403742], [-15.842862407250301, -47.93157278385469], [-15.843057356458985, -47.93173295015124], [-15.843189749065727, -47.931881106057844], [-15.843338763338298, -47.93212514691194], [-15.844102987013528, -47.93395961151771], [-15.844300751077908, -47.93476424229882], [-15.844419103621844, -47.93543402841162], [-15.844456113444295, -47.935994035004754], [-15.84445492300326, -47.93655184335236], [-15.844415552292745, -47.937693251932046], [-15.844321767738682, -47.93880018437264], [-15.844246836824514, -47.93978192481568], [-15.844197522160014, -47.94011028521363], [-15.844105843216006, -47.940547723084066], [-15.84406936693892, -47.94062872295378], [-15.84399084963101, -47.94078441736979], [-15.843889112830572, -47.94098566604481], [-15.843641275594251, -47.94178806953756], [-15.843575181519572, -47.94201382600225], [-15.843538126918697, -47.942198483748975], [-15.84352549139672, -47.942411395565934], [-15.843515615533285, -47.94255320543154], [-15.843479155998823, -47.94275006190843], [-15.843363812850404, -47.943110897393524], [-15.842016434549086, -47.947450216319865], [-15.842006691258879, -47.94758205447601], [-15.842005520898548, -47.94776676101948], [-15.84197713785374, -47.9481682012234], [-15.841955664911376, -47.948327437936605], [-15.841902282768014, -47.948505722155545], [-15.841570321096269, -47.94960555879377], [-15.840623996525332, -47.95267365019289], [-15.840519132960535, -47.95299356504404], [-15.840351822158091, -47.95352080292073], [-15.840273555492255, -47.953763969975654], [-15.84024547026705, -47.95384568089276], [-15.840135483986186, -47.95408310697631], [-15.840068890877738, -47.954198864915746], [-15.839973812752635, -47.95430071721279], [-15.839890864341664, -47.954345848941465], [-15.839798464940175, -47.95437617893912], [-15.839697789939091, -47.954388791498005], [-15.839603579388733, -47.95438793908007], [-15.839474236192558, -47.95434095635017], [-15.839390680827792, -47.95428336483849], [-15.839326128034385, -47.954214774757276], [-15.839269943631283, -47.954138847704314], [-15.839231607861006, -47.95405617078642], [-15.83920336589056, -47.9539762109344], [-15.839192425417304, -47.95390532599438], [-15.839199719000547, -47.95380703104249], [-15.839218679593126, -47.95372633100385], [-15.839251528817131, -47.9536458329974], [-15.83929916092823, -47.95357272510026], [-15.839362567982759, -47.95350702173663], [-15.839426799429285, -47.95345363047584], [-15.839501789717678, -47.953411670835166], [-15.839642653169925, -47.95337221703685], [-15.839793466036525, -47.953350963360016], [-15.83995094066495, -47.95336682909111], [-15.84113694899788, -47.953525148425186], [-15.841271917307285, -47.95355055298849], [-15.841508695679739, -47.95358093560941], [-15.8422011650653, -47.9536685440425], [-15.842557639999686, -47.95371574616374], [-15.842831361202483, -47.95375748852496], [-15.842901604197529, -47.953769655648536], [-15.843008675787226, -47.953787637912015], [-15.845650234524367, -47.95419738997837], [-15.846585080655595, -47.95434738026024], [-15.846923733011629, -47.954475787242195], [-15.847428821433072, -47.95464551847649], [-15.847542366824463, -47.95467064903364], [-15.847831241976545, -47.95471868029498], [-15.848193156306861, -47.95477885608343], [-15.848937040542927, -47.954893356533006], [-15.849558171949868, -47.9549863241915], [-15.850217851358806, -47.95509960052711], [-15.850834241452795, -47.95520951860918], [-15.851203727003837, -47.95527167188636], [-15.852524447350358, -47.95548590959052], [-15.853739126033389, -47.95568763998095], [-15.854474522805075, -47.95580311990401], [-15.855845337936172, -47.956023035219935], [-15.856195391212827, -47.95608879650955], [-15.856546915136136, -47.956168420594445], [-15.856929949749706, -47.956269035967125], [-15.857181766739963, -47.9563319552496], [-15.8573783016717, -47.95636825763899], [-15.857772611019932, -47.956433254769685], [-15.858147650577951, -47.9564956248531], [-15.858436540967151, -47.956547611537275], [-15.859165729535837, -47.95665942292847], [-15.859397766122155, -47.95669775900139], [-15.859677064641627, -47.956744068817244], [-15.859810648875927, -47.95677476145774], [-15.8599740967437, -47.956822315150475], [-15.860129508652319, -47.95687620461436], [-15.860273358192208, -47.95694517779563], [-15.860684141494778, -47.95715502157639], [-15.862141347575804, -47.957950336003485], [-15.862411611925136, -47.95815901367521], [-15.8626068132283, -47.958334331759815], [-15.862826413894302, -47.958593894617515], [-15.863053174089057, -47.958952703361355], [-15.863186108635436, -47.95919692303712], [-15.863527036270296, -47.959864209040255], [-15.864131397509603, -47.96105216965563], [-15.86427460738196, -47.96137515090263], [-15.864373845528968, -47.96167490458896], [-15.864484932551244, -47.96198011137801], [-15.864553297991725, -47.96215006133456], [-15.864636606825217, -47.96232756273203], [-15.865010409244862, -47.963060454835095], [-15.86549101951978, -47.96399205016594], [-15.865653013961607, -47.96429445535272], [-15.865815824155659, -47.96455407725992], [-15.86603025189607, -47.96490039715114], [-15.866155983290472, -47.965131025509294], [-15.866274382607111, -47.965358027012975], [-15.866391372870595, -47.9656049538545], [-15.867095307957674, -47.96704416462045], [-15.867780444948503, -47.96838352649874], [-15.867988407482967, -47.968786662735084], [-15.868771995225039, -47.97031579088328], [-15.869362867252644, -47.97146811707866], [-15.869712834604378, -47.97215610498283], [-15.869922827865967, -47.972565066748416], [-15.869989656359708, -47.97269196043554], [-15.870360679227172, -47.97341751321758], [-15.87074026042797, -47.97416050012045], [-15.871001199653183, -47.97467412797287], [-15.87137165093626, -47.97539938554084], [-15.872005290344973, -47.97661865815048], [-15.872560950465909, -47.97770684810414], [-15.873459398057683, -47.97946593555203], [-15.87453222675162, -47.981581982115216], [-15.874933769623947, -47.98236400039679], [-15.875163113766476, -47.982861342215635], [-15.87533198836048, -47.98329678201221], [-15.875474879081423, -47.98376351909683], [-15.87556492252409, -47.98410979999116], [-15.875656711684869, -47.98457637153538], [-15.875714120440492, -47.98494211826906], [-15.875756428635418, -47.985332282122044], [-15.875947207850036, -47.98751100527556], [-15.876011340338652, -47.98819100630528], [-15.876096154887714, -47.98914088120971], [-15.87613434758381, -47.989581730429194], [-15.876211380690494, -47.990433991769955], [-15.876228100164735, -47.990644375404706], [-15.876250422437861, -47.99092258457868], [-15.876292176823458, -47.99143026727881], [-15.87632156472248, -47.99176651256478], [-15.876402715665304, -47.99261714309915], [-15.87684432125563, -47.99758188432609], [-15.877178245246968, -48.00138336265257], [-15.8772830367156, -48.002628035169536], [-15.877390902367209, -48.00377412532946], [-15.877407757059009, -48.00394985497098], [-15.877425325970378, -48.0041242392891], [-15.877476351117984, -48.00483745793205], [-15.877694581043285, -48.007292167197235], [-15.877888820415725, -48.009776885457164], [-15.877890715895928, -48.009966988862274], [-15.877876765450171, -48.010153336782224], [-15.87784195969726, -48.010328006231305], [-15.877790903006037, -48.010482165752904], [-15.877769122501636, -48.01053447812718], [-15.877743276900695, -48.01067479948909], [-15.877743878213021, -48.01080317142094], [-15.877782216589766, -48.01096666373986], [-15.87783052191704, -48.01110068198526], [-15.877968053071895, -48.011317423786565], [-15.87801843303922, -48.011503376686804], [-15.87804737357585, -48.01160254790357], [-15.878061550510418, -48.01200472327436], [-15.878030362593524, -48.012574226807985], [-15.877953638687446, -48.013361760526465], [-15.877877054385316, -48.01390904785254], [-15.877815142790373, -48.014324002748346], [-15.877776041134663, -48.01465562456098], [-15.877746772376138, -48.01488120128139], [-15.877682364009438, -48.01527845790891], [-15.877608221843825, -48.015765303432694], [-15.877496145635766, -48.01655727634015], [-15.877450149667448, -48.01686559771468], [-15.877407375375176, -48.01723030047482], [-15.877363216894066, -48.017579242089035], [-15.877220962968531, -48.01862203736938], [-15.876626907198734, -48.02300770434424], [-15.876448443067646, -48.02423742810118], [-15.876326950177486, -48.02463920950667], [-15.87611713252589, -48.02512113056613], [-15.875985703821838, -48.02554991525995], [-15.875919835102072, -48.02581799421032], [-15.875775518075164, -48.02667671515837], [-15.875753574875217, -48.02683622024158], [-15.875337430970596, -48.02987388001681], [-15.875200202555034, -48.0308488180566], [-15.874817695847554, -48.03343036453448], [-15.874754488016062, -48.03388525967368], [-15.874660558509616, -48.03459481671132], [-15.874544937816788, -48.03541888467399], [-15.874409853236122, -48.036378388739365], [-15.874280390035592, -48.037111031911735], [-15.874249855494568, -48.03729400997772], [-15.874195034116223, -48.037631838671956], [-15.874139060694688, -48.038051624746196], [-15.874102304361415, -48.03830707702453], [-15.874058931301157, -48.03861685582887], [-15.874018640117987, -48.038892412500665], [-15.873880016811905, -48.03984816046949], [-15.873840453853454, -48.040141197330456], [-15.873786074561322, -48.04051665815608], [-15.87350341365505, -48.04258059000864], [-15.873488845673421, -48.04283142399398], [-15.873480425124887, -48.04310510273093], [-15.873493336519969, -48.043469229288135], [-15.873530182439291, -48.043851077495134], [-15.873574597409931, -48.044195071600384], [-15.8737154763744, -48.04484042282372], [-15.873760123715483, -48.044994963827214], [-15.873824396363055, -48.045199018128315], [-15.8738980681655, -48.04540522961302], [-15.874047651669777, -48.04577401175248], [-15.874158946952374, -48.046028833707524], [-15.874328951191991, -48.04634870358314], [-15.874501205446153, -48.046631486009375], [-15.874742731443801, -48.047005684615286], [-15.875366822669871, -48.04792116423108], [-15.876545279042487, -48.049691959883], [-15.877559745770972, -48.05121572134354], [-15.877766808168706, -48.05151986626332], [-15.87812601128659, -48.05205677724453], [-15.87901633057958, -48.053413393217284], [-15.879708820458426, -48.054433419751646], [-15.880252372520177, -48.05526408315756], [-15.880454387000123, -48.055625919807284], [-15.880762066852613, -48.05633913639819], [-15.880787408062897, -48.05647861012285], [-15.880913658016334, -48.056794311319436], [-15.88106448388391, -48.05725753848603], [-15.881132436657985, -48.057434819524346], [-15.881249080087596, -48.0577239640078], [-15.881385345639933, -48.058074388166865], [-15.881572443887064, -48.05851736928433], [-15.881642512964161, -48.05866692655562], [-15.8816975565017, -48.0588281560514], [-15.881931074952437, -48.05954611653345], [-15.882296835677256, -48.06072690557811], [-15.882295693962002, -48.060807521197475], [-15.882314958362498, -48.06091666686846], [-15.88237127021706, -48.06111910057814], [-15.882407087039574, -48.061253358412905], [-15.882438526873406, -48.06142114712951], [-15.882431100556298, -48.06150184151233], [-15.88238227056162, -48.06161597870971], [-15.88230029824542, -48.06170443636043], [-15.882205011872802, -48.06176515390468], [-15.882105658967959, -48.061790403058644], [-15.881982489313222, -48.06177673789137], [-15.881866706619881, -48.06172541723239], [-15.88172373502363, -48.06160444553805], [-15.881627799177739, -48.061495987582056], [-15.88154609105747, -48.06135076450235], [-15.881502561180671, -48.0611982506649], [-15.881495813145607, -48.061083273411974], [-15.881527321397824, -48.06095549870765], [-15.881568247939628, -48.060861699481485], [-15.88162811111723, -48.06078667654817], [-15.881693068824376, -48.06074599846524], [-15.881826282698382, -48.06066133240157], [-15.881909730851326, -48.060600775613516], [-15.883205345173554, -48.06017201730795], [-15.885113221176423, -48.05956636539087], [-15.885588816680787, -48.059413630297136], [-15.886529538213072, -48.05911270395517], [-15.887674057858767, -48.05874833204505], [-15.889347132529393, -48.05821118741743], [-15.889988089364634, -48.05799979783012], [-15.893486970802233, -48.056886129103326], [-15.893919502162882, -48.05674348564155], [-15.895385470753434, -48.056273745678936], [-15.897526927126535, -48.05558808141093], [-15.898152117936782, -48.055387865039535], [-15.898295823571193, -48.055342996526214], [-15.898825593378985, -48.055176281297044], [-15.89916407538805, -48.05506211539279], [-15.899421354856026, -48.054987714430354], [-15.899666964308842, -48.05491078501481], [-15.899883794610378, -48.054845516710095], [-15.900058556922657, -48.054811868891825], [-15.900207121803586, -48.05479126532075], [-15.90034115451642, -48.05478657028212], [-15.900427016666619, -48.05478517950034], [-15.900526541659612, -48.05480633930516], [-15.900584046678341, -48.0548327443121], [-15.900675621600483, -48.054887216309695], [-15.90072567037208, -48.05493501287611], [-15.900799857483657, -48.05504634270699], [-15.90085116745815, -48.05514287880608], [-15.900886089707754, -48.05524857539201], [-15.900983692806767, -48.05554338086826], [-15.901044811649662, -48.05575094637777], [-15.901100300380024, -48.055919786538865], [-15.901196345282205, -48.05623271312849], [-15.90132658011602, -48.056657037886914], [-15.901382299650816, -48.05685545020058], [-15.901449306774412, -48.057060417333645], [-15.901730812131184, -48.05798465186612], [-15.901849567582843, -48.05835249857592], [-15.902013584866863, -48.058910923574345], [-15.902382087573844, -48.0601200662281], [-15.902415214962538, -48.06023749708368], [-15.902425316815366, -48.060327699084645], [-15.902424191647253, -48.06038413072862], [-15.9024182439144, -48.060551370676855], [-15.902401413329903, -48.060629914500325], [-15.902400484491823, -48.06074900812026], [-15.902418825501456, -48.06085514055492], [-15.902444668130155, -48.060935151228065], [-15.902481349623095, -48.06100828347399], [-15.902598480494197, -48.06116361087737], [-15.902677505641483, -48.06125452062035], [-15.902737848198296, -48.06135589965637], [-15.902778978737842, -48.06143198293383], [-15.903343250267572, -48.06328432837101], [-15.90351202205417, -48.06385607829571], [-15.90376699680049, -48.064677107532624], [-15.90385921708289, -48.06498359840873], [-15.904012142798534, -48.065548894119495], [-15.904108648853034, -48.06598850869482], [-15.904146928182334, -48.066177924317174], [-15.904177253660269, -48.06642366822383], [-15.904197920575951, -48.066616848799384], [-15.904209953662264, -48.066822666595016], [-15.904216100261415, -48.06719102158631], [-15.904200608595533, -48.06754896796845], [-15.904169033867413, -48.06789457392071], [-15.904121165283009, -48.06819692374101], [-15.904014047234956, -48.06868720845282], [-15.90396419180016, -48.06885478977829], [-15.903931509509377, -48.06897351951516], [-15.903885252137785, -48.069146922964975], [-15.903780913860517, -48.06957878379649], [-15.903720694567753, -48.069880608675085], [-15.903664524752923, -48.070263471637745], [-15.903617227336362, -48.070662597201874], [-15.903597580187395, -48.07094655744661], [-15.903595965438097, -48.07124288764928], [-15.90359205533204, -48.071426285895825], [-15.903607411405499, -48.071855259008004], [-15.903635559883496, -48.07216212142005], [-15.903673536990976, -48.072463757185616], [-15.903717652122042, -48.072745326125016], [-15.903778240896083, -48.07305738582009], [-15.903892199614546, -48.0735033142357], [-15.90402269862899, -48.0739293343541], [-15.904029797204446, -48.074001682957174], [-15.904026765482072, -48.074077573536805], [-15.904002669918373, -48.07417128793051], [-15.903985496540592, -48.07428123571025], [-15.903990878664318, -48.07435994224101], [-15.904002141001788, -48.074436722188175], [-15.90402575654978, -48.07451369002883], [-15.90406308306614, -48.074586834394516], [-15.904109062572138, -48.07465038635398], [-15.904142756151954, -48.07470027126064], [-15.904210832008328, -48.07476044330663], [-15.904292082873162, -48.074854416132574], [-15.904334620177929, -48.07492696790818], [-15.904736808818862, -48.07620687654619], [-15.905003607162586, -48.077061698977715], [-15.905106812855697, -48.077394570038365], [-15.905259168147955, -48.07788342363853], [-15.905407277662137, -48.078350708877714], [-15.905878730308197, -48.079856470505675], [-15.906451075756973, -48.081673572463295], [-15.906583432722634, -48.082059308534326], [-15.906712598733828, -48.082408080946905], [-15.906901037915956, -48.082906517900426], [-15.907026867012659, -48.083202778250566], [-15.907236069438406, -48.08367167394882], [-15.907399335299505, -48.08403301956055], [-15.907621051974624, -48.08449068354293], [-15.907791823370335, -48.08482728042869], [-15.908000960409883, -48.08520948842557], [-15.908174074810953, -48.085518569636], [-15.908317423601776, -48.085771755644416], [-15.908380108465712, -48.085890315329316], [-15.908417821206875, -48.08598161315528], [-15.908446319523678, -48.08610334694258], [-15.908460342836612, -48.08621410745769], [-15.908455852483016, -48.086300728717966], [-15.908461239459129, -48.08637876464138], [-15.908487745449113, -48.08648064362347], [-15.908519283016838, -48.086548998763064], [-15.908565237801032, -48.08663235845218], [-15.9086062139488, -48.08667733730031], [-15.908655049698723, -48.086718404133954], [-15.908733293169396, -48.08679486497261], [-15.908817357540325, -48.0868962793505], [-15.908883494321472, -48.08700078001552], [-15.909097362111918, -48.087597437187085], [-15.909176567879452, -48.087833852989746], [-15.909253367427013, -48.088097019843985], [-15.909375464314204, -48.088613071127845], [-15.909442038801457, -48.088959505040826], [-15.909569840394475, -48.08966237175533], [-15.90962753618224, -48.08994751682458], [-15.909709104684643, -48.09024579540035], [-15.909853798379768, -48.090722452029], [-15.910036157315691, -48.09124807061634], [-15.910167198900867, -48.091588100045016], [-15.910270474938098, -48.09182354228205], [-15.910488252134014, -48.092282502851866], [-15.910636219890245, -48.09257575129966], [-15.911355902248971, -48.093814547915215], [-15.911749389068483, -48.094490914341485], [-15.91185230544691, -48.09466049595316], [-15.912015592666101, -48.094939533986974], [-15.912180561346213, -48.09522599043743], [-15.912271287896925, -48.09538396158657], [-15.912997230214815, -48.09663832912197], [-15.913242071053764, -48.09706848175603], [-15.913346765653047, -48.09729521509339], [-15.913371265154115, -48.097377913746236], [-15.913393603841708, -48.097497876651424], [-15.91339869111313, -48.097641767927485], [-15.913383089078433, -48.09777727763724], [-15.913346035566965, -48.09795748397321], [-15.913077292599953, -48.09896542947201], [-15.912989356634546, -48.09933772498168], [-15.91297438445362, -48.099474587812374], [-15.91297741039822, -48.09958081374013], [-15.91299727273284, -48.09969200214899], [-15.913038921683258, -48.099825701603336], [-15.913085459515637, -48.099935955340314], [-15.913135138546624, -48.1000086240686], [-15.913200334355757, -48.1000875791522], [-15.91333172359937, -48.100221311953476], [-15.914109789395352, -48.10101414646198], [-15.9145821815386, -48.101492489098796], [-15.914672265974176, -48.10155905887576], [-15.914773441623025, -48.10162311091494], [-15.914874945700086, -48.10166431913857], [-15.914966900339293, -48.101691268193555], [-15.915070081466888, -48.101706293169435], [-15.915194328331815, -48.101703496889485], [-15.915302533908497, -48.1016856696576], [-15.915424624561423, -48.101651926935645], [-15.915639005093732, -48.101576591464294], [-15.916055239353655, -48.101437824366755], [-15.916318632545643, -48.1013457683105], [-15.916492957650618, -48.10129737063539], [-15.916634427321881, -48.10127266160725], [-15.916812117199907, -48.101261613398016], [-15.916977973902947, -48.10125945596173], [-15.917049733721877, -48.10126627017041], [-15.917178867868323, -48.10128539001515], [-15.917326639080217, -48.10131991689633], [-15.91750658945434, -48.101377787242065], [-15.917797079712521, -48.101504223003275], [-15.918027401689889, -48.10163175121763], [-15.918150730606564, -48.10169278473572], [-15.918622426634213, -48.101948012255086], [-15.91943433621542, -48.10237647823662], [-15.92014361446316, -48.10275162365541], [-15.920501848323008, -48.10293790864343], [-15.9213884069442, -48.10339810930275], [-15.921901339937442, -48.10366537430706], [-15.92213558639321, -48.10380543200366], [-15.922290297692303, -48.10389988143588], [-15.922360313046443, -48.10396009835693], [-15.922463536549065, -48.10406249307805], [-15.922549650852307, -48.104133710465454], [-15.92264000458193, -48.104181471284306], [-15.922756451393848, -48.104223584891926], [-15.922988421928984, -48.10428158802498], [-15.923135179111334, -48.10434130524493], [-15.923226420910368, -48.10439512847829], [-15.92371095561786, -48.10468417069131], [-15.923984200623755, -48.10485638709613], [-15.924531554778207, -48.10523107733895], [-15.925117181300509, -48.10565743514235], [-15.926047144607287, -48.10642176523577], [-15.927658604446087, -48.10790831355259], [-15.927767657149976, -48.108012147093504], [-15.928187720135952, -48.10841984094181], [-15.928802868465032, -48.10900796829573], [-15.929566948651603, -48.10973012045205], [-15.930115417182733, -48.11025203709511], [-15.93111916431822, -48.111208179746434], [-15.931156035799358, -48.111255190164464], [-15.931181353168553, -48.11134832712281], [-15.931185424235077, -48.111426686822256], [-15.931203099739282, -48.111486102129206], [-15.931231235404253, -48.11154340794207], [-15.931275637554478, -48.111596601223134], [-15.931338216652689, -48.11163117013199], [-15.931414604028923, -48.111655198779374], [-15.931490739014265, -48.11165166838163], [-15.931578974386076, -48.11162076940955], [-15.931651266550755, -48.11156811804698], [-15.931703894088164, -48.111481223439576], [-15.931722791704098, -48.111410946637115], [-15.931714950096294, -48.11132088095083], [-15.931742863005496, -48.11124810910187], [-15.931803437691345, -48.111151255714425], [-15.932125349787652, -48.11074457058299], [-15.932404327793233, -48.11038393187138], [-15.932548522614821, -48.11017041662219], [-15.932611672843882, -48.11003025289008], [-15.932640792331359, -48.10990502238863], [-15.932640204255442, -48.109810585761224], [-15.932622256343045, -48.10972495466339], [-15.932610931063012, -48.109631024621166], [-15.932614457862305, -48.10958940987438], [-15.932635732538797, -48.109534627016785], [-15.9330129263594, -48.10902918064128], [-15.933102266916315, -48.10891754199306]],\n",
       "                {&quot;bubblingMouseEvents&quot;: true, &quot;color&quot;: &quot;blue&quot;, &quot;dashArray&quot;: null, &quot;dashOffset&quot;: null, &quot;fill&quot;: false, &quot;fillColor&quot;: &quot;blue&quot;, &quot;fillOpacity&quot;: 0.2, &quot;fillRule&quot;: &quot;evenodd&quot;, &quot;lineCap&quot;: &quot;round&quot;, &quot;lineJoin&quot;: &quot;round&quot;, &quot;noClip&quot;: false, &quot;opacity&quot;: 1.0, &quot;smoothFactor&quot;: 1.0, &quot;stroke&quot;: true, &quot;weight&quot;: 3}\n",
       "            ).addTo(map_36cfc70747b20643f0c487762ee3e95a);\n",
       "        \n",
       "    \n",
       "            poly_line_c159f9f0a5a281214d896080cce2ad08.bindTooltip(\n",
       "                `&lt;div&gt;\n",
       "                     813.2 VOLTA\n",
       "                 &lt;/div&gt;`,\n",
       "                {&quot;sticky&quot;: true}\n",
       "            );\n",
       "        \n",
       "    \n",
       "            var poly_line_d4f25f79b805b868e30bb6e5398dd331 = L.polyline(\n",
       "                [[-15.933102266916315, -48.10891754199306], [-15.933185998136672, -48.108807991238685], [-15.93340999523403, -48.108525495088145], [-15.933419523786512, -48.10849607013923], [-15.933419959958936, -48.10846583300539], [-15.933400571090756, -48.10841243949764], [-15.933305764283789, -48.108312854282865], [-15.933273562383947, -48.10830244488579], [-15.933243403196407, -48.10829693958246], [-15.933220235717016, -48.10830263140659], [-15.93319534110125, -48.108315353512296], [-15.932700948146334, -48.10895831300553], [-15.93244584156172, -48.10928197251519], [-15.932424904573713, -48.10928472361605], [-15.93240834520544, -48.10928312425452], [-15.932380701672058, -48.10927228097145], [-15.932011948441897, -48.10873397427042], [-15.9319625077659, -48.1087127140331], [-15.93191012725656, -48.108714931329196], [-15.931868362720541, -48.10872504111831], [-15.931834666028479, -48.1087639420912], [-15.931817167792971, -48.108823842662865], [-15.93224759865376, -48.109460764766446], [-15.932321336402978, -48.10959571923842], [-15.932344136311603, -48.10968349132112], [-15.932367098872463, -48.10980940054195], [-15.932362568692431, -48.10994307490539], [-15.932332517852501, -48.11008778122817], [-15.932263448418889, -48.11023255807511], [-15.93209405341763, -48.11047996059222], [-15.931919835284383, -48.11070107721031], [-15.93164789365474, -48.11106270696772], [-15.931610964986419, -48.11109401754556], [-15.931574144423534, -48.111099498503286], [-15.931544642856275, -48.11110475627459], [-15.931483116669263, -48.11109859898729], [-15.931430758331183, -48.11109995995848], [-15.931371718561225, -48.11111233911027], [-15.931314214428127, -48.11108658559446], [-15.931269858707546, -48.11105095367196], [-15.930189570128569, -48.110025346991186], [-15.929577608801964, -48.10944196575682], [-15.928258037828765, -48.10818838831729], [-15.927937294253818, -48.10788303427563], [-15.927807778842629, -48.10776257301313], [-15.927210362084208, -48.10719977473577], [-15.926851237016852, -48.106850148913], [-15.926316459959788, -48.10637012890984], [-15.926169384872782, -48.10624063970011], [-15.925699120415898, -48.10584314095591], [-15.92525405323611, -48.10549937884536], [-15.924633154958842, -48.10503975958355], [-15.92395940611415, -48.1045912156602], [-15.923597558362033, -48.104362528563165], [-15.923343469062997, -48.104214801694184], [-15.92323780194924, -48.10414664355253], [-15.92319567549768, -48.10409155944784], [-15.923160069885034, -48.104035231519724], [-15.923109431305207, -48.103939021310445], [-15.92307430063913, -48.103872283901616], [-15.923025215874963, -48.10380365184531], [-15.92297204641075, -48.10374772603555], [-15.922885035416126, -48.10368950153665], [-15.922772894873813, -48.103638245467074], [-15.922690773798758, -48.10361754051622], [-15.922600893039867, -48.103606900456164], [-15.92250622087745, -48.10361794380703], [-15.922447029236828, -48.10362809402743], [-15.922376056345888, -48.10363439553978], [-15.92231755238569, -48.10363282412056], [-15.922270905887581, -48.10362068217038], [-15.922191459484145, -48.10358317013326], [-15.92137248006535, -48.10314920666675], [-15.920771956285819, -48.102831171896646], [-15.920291771589174, -48.1025784965517], [-15.919486956621927, -48.1021541685875], [-15.918420606179355, -48.10160217223159], [-15.918236877854712, -48.10149048016219], [-15.918079902974803, -48.10139832132596], [-15.91799305090816, -48.10132981466096], [-15.917593551639234, -48.10102831954673], [-15.91740140651629, -48.1008687847479], [-15.91727878235172, -48.100758704211934], [-15.91701458934576, -48.10049927468045], [-15.916837677258178, -48.10032048571828], [-15.916482445936925, -48.099970279520946], [-15.916257154646464, -48.099718841476964], [-15.915045130008883, -48.098351814272284], [-15.91492382183887, -48.098217899751674], [-15.913771142545345, -48.09690623443199], [-15.91356507143006, -48.096674586537624], [-15.913440937405515, -48.096533574419475], [-15.913153510848991, -48.096216005249346], [-15.912786501261927, -48.09577961327875], [-15.91266405238138, -48.09561174714032], [-15.912407609728605, -48.0952081322935], [-15.912248416497256, -48.09493839652076], [-15.912191764644609, -48.094830341133715], [-15.911110613711209, -48.092976728183935], [-15.910814175207351, -48.09245549567407], [-15.910693307221498, -48.09222247138474], [-15.910461515276173, -48.09174313535762], [-15.910358604981711, -48.09148216182523], [-15.910114186493892, -48.090840005900496], [-15.909943187174441, -48.09029305648313], [-15.909838269276639, -48.089899666087156], [-15.909791887555293, -48.08968727153048], [-15.909666721434165, -48.08902745337652], [-15.909513719017907, -48.08826775179026], [-15.909336502854437, -48.08765485254897], [-15.909229077194354, -48.08733195212261], [-15.909099896133123, -48.08696578101077], [-15.909061690897904, -48.08681802587543], [-15.909052723424214, -48.086740271046104], [-15.909044558177198, -48.08667462476086], [-15.909042377440816, -48.08655430058312], [-15.909039861945612, -48.08643464329935], [-15.90902495637741, -48.08636284592083], [-15.909004199316783, -48.086290959178015], [-15.90897494043888, -48.08624515122348], [-15.908943377151477, -48.086201324134606], [-15.90889037690258, -48.086133145100966], [-15.908831882262096, -48.086085378668244], [-15.908790451184673, -48.08604946512158], [-15.908716571186584, -48.08598617543482], [-15.908669509599575, -48.08593471959826], [-15.908599418609967, -48.085839848640816], [-15.908501642232125, -48.085668054338896], [-15.908236550191788, -48.085196956823765], [-15.90797723154266, -48.08473132467248], [-15.907845723516175, -48.08446857620211], [-15.907536207096305, -48.083829472480915], [-15.907435300872079, -48.08360952873843], [-15.907232456058349, -48.08315080974606], [-15.90701421968094, -48.08263137575118], [-15.906683336298812, -48.0817120584974], [-15.906020705609201, -48.079614022446755], [-15.905645113139041, -48.0784087639267], [-15.905348396547202, -48.0774634330555], [-15.905237256082886, -48.077094152300646], [-15.905134508559366, -48.076774728225374], [-15.904959080575606, -48.07621630737393], [-15.904541939009244, -48.07489047326336], [-15.904526594655598, -48.074780702654124], [-15.90453341345846, -48.074667237132864], [-15.904545825040119, -48.074594849119855], [-15.904556098743857, -48.074478298239825], [-15.904549680203438, -48.07435256717666], [-15.904493336950226, -48.07421766872224], [-15.904377795849204, -48.0740550376938], [-15.904321666952033, -48.0739644570999], [-15.904262913286704, -48.07388897084799], [-15.904212038178887, -48.07380822838969], [-15.904181863263391, -48.0737351928112], [-15.90409959498719, -48.073461443188286], [-15.90397484184181, -48.07295150958724], [-15.903938012469647, -48.072752035815654], [-15.903869726736456, -48.07229537750882], [-15.90383932202166, -48.07200998466827], [-15.903812386977108, -48.07129792032141], [-15.9038137722641, -48.07097201802061], [-15.903837291609412, -48.07064443583391], [-15.903871682156566, -48.070375483260285], [-15.903914772710964, -48.070043493937796], [-15.904076361894184, -48.069289938447994], [-15.904185538133577, -48.068883686566885], [-15.904264458428816, -48.06859289652715], [-15.90432118244532, -48.068353850056965], [-15.904349117023662, -48.06814334912996], [-15.90438481541693, -48.06790322497135], [-15.904422251343933, -48.06755703559553], [-15.904437176888571, -48.06710163862141], [-15.904413240946896, -48.066520657727416], [-15.904393425738755, -48.06635907439265], [-15.904363532090953, -48.066174489802705], [-15.904291836436126, -48.06575087517639], [-15.904234833898483, -48.065506070551564], [-15.904043652892842, -48.064864088907925], [-15.90393016587348, -48.064498138395294], [-15.903863008534866, -48.06428140485698], [-15.90369158973022, -48.06371297365228], [-15.903501388511089, -48.06309318580401], [-15.903137972652733, -48.06189351865088], [-15.903006979002466, -48.06145472854554], [-15.902977352131378, -48.06134272632503], [-15.90295861626136, -48.06124231320846], [-15.902956823098393, -48.06113946861878], [-15.902963922790908, -48.061051542886], [-15.9029653497429, -48.06097742708312], [-15.902959527739371, -48.06091609630002], [-15.902958303976524, -48.06081285399493], [-15.90293714884856, -48.060646587754874], [-15.902873252547522, -48.060520626615784], [-15.90281178078558, -48.06045116526356], [-15.902731236923557, -48.06035450640984], [-15.902670765260696, -48.0602621977629], [-15.902611400890423, -48.06013764950755], [-15.90256275358917, -48.05999108724741], [-15.902191668630667, -48.05878056047268], [-15.901978337136033, -48.058093901076305], [-15.901580452616999, -48.0568003175993], [-15.901527210126813, -48.056610678627706], [-15.901096413517344, -48.05518354500178], [-15.901021249687487, -48.05493443891046], [-15.901007664481964, -48.05483746474091], [-15.90100931286316, -48.054766928984435], [-15.901025696779223, -48.05471207200278], [-15.901065103254803, -48.05463874665951], [-15.901259515619385, -48.05450325042351], [-15.901646943869297, -48.054284988816136], [-15.901968862716334, -48.05416665716538], [-15.903753873258333, -48.053580625886774], [-15.903845305827423, -48.05351231884918], [-15.903853661213617, -48.05346428654541], [-15.903834044226562, -48.05341696485393], [-15.903806956559317, -48.053393892867284], [-15.903713720688295, -48.05339588397822], [-15.903075921926606, -48.05360277002381], [-15.902202683486538, -48.05387071552425], [-15.901760590038112, -48.054002185462785], [-15.90159043357681, -48.05403895084446], [-15.901418968971262, -48.0540646890984], [-15.901180196823391, -48.054078744949194], [-15.901058964691074, -48.054083716633066], [-15.90095462131117, -48.05408200021718], [-15.900883803620127, -48.05407723445367], [-15.900826616013994, -48.054074354599194], [-15.900738957283185, -48.05408781462244], [-15.900690361816515, -48.054098168670144], [-15.900553620459908, -48.05415785840904], [-15.90042370886675, -48.05423416336804], [-15.9003318636097, -48.054308998167976], [-15.900241143454913, -48.05438242863758], [-15.900116922653211, -48.05447247421549], [-15.899946289208012, -48.05456522771335], [-15.899797161129891, -48.054625639096244], [-15.89953465326277, -48.05472041718718], [-15.89928743061928, -48.05480089092099], [-15.898918072499873, -48.0549327584458], [-15.898192598145894, -48.055170290049375], [-15.8963052699766, -48.05577270983649], [-15.89587446863744, -48.05590649442891], [-15.89555638832355, -48.05601335008514], [-15.895286145530859, -48.056099362898365], [-15.894413754226834, -48.05637923369843], [-15.893893599186617, -48.056544717648244], [-15.893653596476344, -48.0566225378416], [-15.893574082467824, -48.05664360339013], [-15.892932209633347, -48.05684955652836], [-15.892795906477737, -48.056895270653065], [-15.892306922538298, -48.05705201202919], [-15.891892623775039, -48.05718566889187], [-15.891414072824247, -48.057339225962615], [-15.891371397870895, -48.05735080297222], [-15.889988579336153, -48.05778141567541], [-15.88952217202433, -48.05792824737962], [-15.889341679822587, -48.057985118083], [-15.885065356566033, -48.05935625124571], [-15.884761257034489, -48.05946142808269], [-15.884470336097634, -48.059463325246604], [-15.884220794809211, -48.05944696407176], [-15.883918850674576, -48.05936686476533], [-15.882842288174592, -48.058706972339166], [-15.88252151968923, -48.0584503424343], [-15.88232838886859, -48.05821452533945], [-15.882144651990497, -48.05785295921491], [-15.8817368664691, -48.056964774574254], [-15.881628067602207, -48.05672312155737], [-15.881576757350308, -48.05658056737415], [-15.881529932290388, -48.05652024409425], [-15.881402612201319, -48.05624868746037], [-15.881214003878082, -48.05582433254207], [-15.881113954775929, -48.05561330400923], [-15.881008991188438, -48.05544406551314], [-15.880926496647668, -48.05522690352272], [-15.880791304271694, -48.05498329816439], [-15.88062625685892, -48.05470449117605], [-15.880364609817049, -48.05432270034102], [-15.880048140929485, -48.053844577498204], [-15.879923180794577, -48.05366504617801], [-15.879046088195574, -48.0523424430834], [-15.878650402522963, -48.05174880274121], [-15.878135291393402, -48.05098922839562], [-15.877692687877547, -48.05032313692239], [-15.877212976064573, -48.049612414899926], [-15.877040359303248, -48.04934621641081], [-15.876540736920258, -48.04859281983377], [-15.875951865273091, -48.047710946352744], [-15.875518804359265, -48.04706535394392], [-15.875371748154237, -48.04684785618485], [-15.875171905277915, -48.04654716957884], [-15.874750695163897, -48.04584860685009], [-15.874626057225923, -48.04559388152776], [-15.874514992249356, -48.045319164802684], [-15.874367534351022, -48.04490818575441], [-15.87429843427, -48.04466004007497], [-15.87415142860578, -48.04393069458894], [-15.87411550978899, -48.043594097599744], [-15.874097758380026, -48.04285547418632], [-15.874103460131941, -48.04267343146026], [-15.874121951933827, -48.042469694662294], [-15.874380690163985, -48.040639802013786], [-15.874445379094837, -48.04025792723972], [-15.87455330828979, -48.039660039300145], [-15.874660949149913, -48.03882110159919], [-15.874716485387808, -48.03842971022172], [-15.874775610824582, -48.03764390555273], [-15.874824298003059, -48.03730296025416], [-15.874917778265539, -48.036666701680154], [-15.875120928860214, -48.035248111629905], [-15.876033467344161, -48.02908892918022], [-15.876190017435178, -48.027970941802266], [-15.876267946815041, -48.02732872607577], [-15.876394743813332, -48.026540421149875], [-15.876449307836728, -48.026173349682054], [-15.876637939564308, -48.02459747346229], [-15.876716856955571, -48.02407965417824], [-15.876765477681461, -48.023730941369244], [-15.87687301475813, -48.02304840537393], [-15.877125458583695, -48.02145430887989], [-15.87729450341988, -48.020201844704395], [-15.877423496728111, -48.01930597656981], [-15.877996974897238, -48.01527092308646], [-15.878082745563072, -48.01464010090243], [-15.878295941549917, -48.013093261561394], [-15.878341646370334, -48.01257533698099], [-15.878358882594533, -48.01214397495313], [-15.878371775146693, -48.011736572942716], [-15.878403115557363, -48.01144377024886], [-15.878418814209498, -48.01135287496423], [-15.878441701451406, -48.01127447978439], [-15.878482712752149, -48.01116030315313], [-15.87852565368953, -48.011007552989945], [-15.878550151601772, -48.01084616356813], [-15.878547077955549, -48.01072143702315], [-15.878526328432283, -48.01060183006594], [-15.878487091980103, -48.01045992344467], [-15.878351712235927, -48.01023080624136], [-15.87830343687026, -48.01012361348111], [-15.878262489683436, -48.009954830770944], [-15.878226318662731, -48.00976019563532], [-15.878205332608722, -48.009575088029216], [-15.877990625724573, -48.007153420251484], [-15.877808389573351, -48.005069267598046], [-15.87770039278351, -48.00382279461871], [-15.87753983176272, -48.00204460169339], [-15.877482258267685, -48.00140664139613], [-15.877458108752377, -48.00110122304696], [-15.877374578674535, -48.00020592340502], [-15.877333769509926, -47.99975066127385], [-15.87720620433102, -47.99834549305095], [-15.877151138298588, -47.99768967716327], [-15.87706465526759, -47.9966376971886], [-15.876944317795328, -47.99528308872848], [-15.876913219398254, -47.99490482236932], [-15.876865548896728, -47.994329194531396], [-15.8767857531951, -47.99340813795048], [-15.876717799080742, -47.99265680014261], [-15.876567927616586, -47.99095210858282], [-15.876536618559705, -47.990588505639856], [-15.876436151213756, -47.98943658799562], [-15.876395399683048, -47.98897546064504], [-15.876252855063889, -47.98741636883319], [-15.876105024263206, -47.98566360233386], [-15.876044052169444, -47.98506255252558], [-15.875981511676457, -47.9845952008315], [-15.875888502239485, -47.98411456762554], [-15.875756334657444, -47.98359952693364], [-15.87558882369873, -47.98311840798341], [-15.875427174979203, -47.98269422058284], [-15.875281938980763, -47.98237675365939], [-15.875173024944157, -47.98214283384817], [-15.874914272625492, -47.981636846435165], [-15.873701015427391, -47.97925858747034], [-15.872788985103993, -47.97747553931011], [-15.872274194558793, -47.9764706667093], [-15.871520908383456, -47.974992096433034], [-15.871289899378695, -47.97453170469304], [-15.871025181211778, -47.9740244738245], [-15.870704049644809, -47.97338823701192], [-15.870366763033813, -47.97272711907886], [-15.869922984376782, -47.97186234476715], [-15.869669735230458, -47.97136702121991], [-15.868991831557413, -47.9700400641581], [-15.868064044963322, -47.968250855315354], [-15.867350002327148, -47.96685547546277], [-15.866772649604973, -47.965726443541435], [-15.866675705532723, -47.96547817780399], [-15.866524530262657, -47.96517728088646], [-15.86630583955763, -47.964747036325555], [-15.8657889893357, -47.96373605847864], [-15.865726595540036, -47.963603070333775], [-15.865688526687142, -47.96350521405195], [-15.865682896685138, -47.963460253947034], [-15.865686825092302, -47.96342217993876], [-15.865692974058653, -47.96338780488221], [-15.865708755757607, -47.963354890603824], [-15.86571467368002, -47.963317259925205], [-15.86571060157729, -47.96328810744534], [-15.865695581749362, -47.96325086089133], [-15.865668482917625, -47.96322331158714], [-15.865646087112221, -47.96321382409026], [-15.86562379738905, -47.963205340514115], [-15.865596765518838, -47.96319520661824], [-15.865549936528394, -47.96317687052819], [-15.865504902516847, -47.963148346834096], [-15.865471131356244, -47.963105908526266], [-15.865449635754844, -47.963065833098035], [-15.86501100303619, -47.9622500257665], [-15.8645485197826, -47.96134819384244], [-15.864305458584386, -47.960863469534175], [-15.864191976207117, -47.9606916877751], [-15.863659766838785, -47.95966669183649], [-15.863347165968325, -47.95911538980065], [-15.86263484201931, -47.957717018072664], [-15.862541362305985, -47.95753555836133], [-15.862018938201622, -47.95649957415137], [-15.861792351804597, -47.95604456479491], [-15.861714255254531, -47.9558898330484], [-15.861639601288756, -47.95575791787066], [-15.861508122319428, -47.95558814791302], [-15.861388860564897, -47.95548783696201], [-15.861255051685562, -47.95539932662423], [-15.861133683390086, -47.955338339799184], [-15.861007623112183, -47.95529719809424], [-15.860870340489999, -47.955267038787106], [-15.860717241871614, -47.95525160798019], [-15.86059428688879, -47.95525333546531], [-15.860431412231534, -47.955288505388005], [-15.860309476011228, -47.955319579017285], [-15.86019588707613, -47.955363093431], [-15.859862276071617, -47.95551016623203], [-15.859568084609519, -47.955639627946184], [-15.859387522131852, -47.95572264275028], [-15.859242429354454, -47.955786229345556], [-15.85910751563516, -47.955848308485415], [-15.859005197074737, -47.955861085015485], [-15.858879247696422, -47.95586379523788], [-15.858783362605113, -47.95585829108419], [-15.858537645486951, -47.95582684461852], [-15.85797565727132, -47.95573300607931], [-15.857641067578328, -47.95568149288796], [-15.857355079730551, -47.95564682032143], [-15.85686391302386, -47.95558510622881], [-15.85666272409118, -47.95555694954464], [-15.8565029211458, -47.95553350241398], [-15.856322889223382, -47.95549450856437], [-15.855387755945754, -47.955350171347746], [-15.853835628095645, -47.95511034156464], [-15.852704444538057, -47.95492601584007], [-15.851875894074155, -47.954800404134026], [-15.851566026682589, -47.95474652454332], [-15.851022463209844, -47.9546596218904], [-15.85044671845227, -47.95456731470715], [-15.84969872105694, -47.95444781710221], [-15.848953145848297, -47.95432588786594], [-15.848555633003114, -47.95426840418129], [-15.84825089625804, -47.95422433695041], [-15.848103094965948, -47.954199970648446], [-15.847874209838714, -47.95416455084991], [-15.84753451576765, -47.954107771900496], [-15.847253245747638, -47.954059248530584], [-15.846916396497772, -47.954004210849924], [-15.846140777919642, -47.95387824290716], [-15.845811875444195, -47.95382594218278], [-15.84525890307618, -47.95373694526594], [-15.844234514943622, -47.95357421845613], [-15.843978985535768, -47.95353354541522], [-15.843745716395102, -47.95348439777984], [-15.843400442220004, -47.95336264463419], [-15.843246921610099, -47.95327903102097], [-15.843034274848119, -47.95314908206865], [-15.842865091693909, -47.95302226646373], [-15.842688544204307, -47.952852523925145], [-15.842515970302308, -47.952641192645], [-15.842404660150287, -47.95247591908134], [-15.842302057195157, -47.95229669453467], [-15.84221647774733, -47.95210151809416], [-15.842154276564283, -47.9519326287211], [-15.842115978187122, -47.95176191359159], [-15.842060833711335, -47.951456144578316], [-15.842047190841058, -47.95124888540736], [-15.842033202382916, -47.95082279517689], [-15.84205785581259, -47.95046596314386], [-15.842107183900826, -47.95005431777622], [-15.842197193489485, -47.94961569416691], [-15.842582773486516, -47.94832026898811], [-15.843161796547959, -47.946453384659264], [-15.843265132043962, -47.9461199473414], [-15.8441128650866, -47.943380062467384], [-15.844255621747218, -47.942992287428325], [-15.84437636515249, -47.94277729505579], [-15.844471407220377, -47.942594191979346], [-15.844530730504243, -47.94246981603336], [-15.84461840411897, -47.94228572594167], [-15.844699696849194, -47.94203514050212], [-15.84481476960801, -47.94156149835887], [-15.844863618491107, -47.941216821390206], [-15.84488069322589, -47.94109201274544], [-15.844874878961617, -47.94093560835845], [-15.84485180792783, -47.940771266036386], [-15.844849384582432, -47.94055952237838], [-15.844893003365726, -47.94020258929774], [-15.84491783482426, -47.939631832623846], [-15.844829722563407, -47.938806670830125], [-15.844801551715525, -47.93847761565236], [-15.844891202926979, -47.937017134123174], [-15.844935457969198, -47.93624494284372], [-15.845084621739284, -47.9338746542537], [-15.845096497034435, -47.933727147047485], [-15.845119439762144, -47.933290013290666], [-15.84521177212955, -47.93179671093553], [-15.845279209399896, -47.930673773026456], [-15.845298592937043, -47.92999653753642], [-15.845308147042802, -47.9295937909312], [-15.845319961009812, -47.92942694131827], [-15.845340159037896, -47.92911704671867], [-15.8454310431613, -47.92769662828917], [-15.845471284533113, -47.92707250963553], [-15.845499623258357, -47.92664870296099], [-15.84557384135152, -47.925386645245666], [-15.84559949753917, -47.92489544710351], [-15.84560943555933, -47.924580001238574], [-15.845604672136863, -47.9243055168673], [-15.845577969048286, -47.92389511568184], [-15.84551507627721, -47.92315731706206], [-15.845462949159959, -47.92268611527751], [-15.845425815747495, -47.922429237503934], [-15.845385146091084, -47.92224504692519], [-15.845338470706857, -47.92207594147073], [-15.845243390672847, -47.92172504065411], [-15.84509556729833, -47.921275925809816], [-15.844961332331692, -47.920882293783826], [-15.844800489350158, -47.92047214789532], [-15.8444296047318, -47.919583984817216], [-15.844090869815817, -47.91879586135621], [-15.84394755209765, -47.918538631653504], [-15.843874760088271, -47.91846250085179], [-15.843758507036105, -47.91828733418616], [-15.843488144600123, -47.91767706557604], [-15.843454402624031, -47.91759331076892], [-15.843424678108049, -47.9175338909558], [-15.84339724008941, -47.91750536944549], [-15.84335151005008, -47.91750299265296], [-15.843298920492021, -47.917531514163265], [-15.843273768959413, -47.91757429642872], [-15.843267786476686, -47.917680057270196], [-15.843276102654736, -47.91777931106009], [-15.843425979624252, -47.91811875681789], [-15.843532136108232, -47.91837369148634], [-15.843575854757175, -47.918500437733144], [-15.843614683866631, -47.91865292384138], [-15.843631030985657, -47.918798780810995], [-15.843620644499246, -47.918926948819646], [-15.843591306830646, -47.91903691513034], [-15.843502908599172, -47.91921532604293], [-15.843382401206496, -47.919372266241936], [-15.84279596393087, -47.919826065453876], [-15.842233071372872, -47.92026025687351], [-15.842042501672445, -47.920412374679586], [-15.841506832698354, -47.92083536423223], [-15.841231649920694, -47.92104360769878], [-15.840877730326362, -47.921308344155605], [-15.840725663897308, -47.921426405683036], [-15.840585401727992, -47.92153231865931], [-15.840428896304896, -47.92164269040266], [-15.840358725215943, -47.92170913759725], [-15.840013487033906, -47.921961678614196], [-15.83984235351396, -47.92210410118751], [-15.83968764179578, -47.92226215228747], [-15.838026427747412, -47.92351018940857], [-15.837873178821216, -47.92369227505954], [-15.83773078367495, -47.92385696510433], [-15.836893719417557, -47.925450877394866], [-15.836685037414675, -47.925923955484684], [-15.836620589923879, -47.92605685700149], [-15.836272818418243, -47.92660691072177], [-15.8361617443586, -47.92673255791658], [-15.835604146236467, -47.92713259166397], [-15.835249674527823, -47.927274475089575], [-15.834921439311387, -47.92736079144832], [-15.834795772765721, -47.92738750096364], [-15.834376223396688, -47.927473049322664], [-15.834177106521322, -47.92751296042694], [-15.83261090686554, -47.92781837274251], [-15.832510558324174, -47.92785751324495], [-15.832289906049333, -47.92799803226874], [-15.832074043695636, -47.92817701302372], [-15.831893957336174, -47.9282823221301], [-15.831749869208979, -47.92834544767287], [-15.831025593051558, -47.92888504781197], [-15.83090522392671, -47.92898947518668], [-15.83064343767326, -47.92912769945341], [-15.830533799763293, -47.92915138809104], [-15.83039865535495, -47.92913917376302], [-15.830228469972134, -47.92911776786315], [-15.830046915921127, -47.92908909108706], [-15.829930601909071, -47.92909767977093], [-15.829861197034143, -47.92911405180525], [-15.829796514817332, -47.92914865429376], [-15.829693484616234, -47.92922147109943], [-15.829505978668303, -47.92935694827336], [-15.829416798949087, -47.92938071619861], [-15.829327619190515, -47.92935932506588], [-15.829247586040342, -47.92930703563033], [-15.82910962733172, -47.92912684288629], [-15.828984505523065, -47.928963672859204], [-15.828799546398304, -47.92870218949461], [-15.828399565548409, -47.92814233405406], [-15.82793016760723, -47.92749208116592], [-15.827035183666656, -47.926242947594965], [-15.826437074494326, -47.925424648578705], [-15.825909018912327, -47.92469527721587], [-15.825754854529746, -47.92448269038966], [-15.82552220297593, -47.924161874008895], [-15.825351709901623, -47.923925222337004], [-15.82532773455404, -47.923892052627416], [-15.824774589487522, -47.923125029607704], [-15.824327753475602, -47.92250714705442], [-15.823811782256172, -47.921788934975005], [-15.823089933268289, -47.920789497946046], [-15.822429623196626, -47.91987733233758], [-15.82192156185187, -47.91919194787762], [-15.821569974486454, -47.918685892965485], [-15.821426511995716, -47.91848702314168], [-15.821199374337581, -47.91817216276642], [-15.82073321058145, -47.91752440773286], [-15.819886949669582, -47.91635785946676], [-15.81959894957395, -47.91596440266002], [-15.81921191764598, -47.91542823451052], [-15.818713460183817, -47.91473807295193], [-15.818272441687231, -47.91412956414887], [-15.817682627274538, -47.9133029782283], [-15.817274451564657, -47.91273936927345], [-15.816431144052435, -47.911572901554266], [-15.815627711308743, -47.91046130877426], [-15.81515392819825, -47.90980052205868], [-15.813839680819925, -47.907981977672534], [-15.813548815825328, -47.907578013887566], [-15.81275931861654, -47.906494414724804], [-15.812297266379511, -47.90584862096235], [-15.811768069742707, -47.90513153543486], [-15.81154966831263, -47.90484707413807], [-15.810954412154398, -47.904066735911506], [-15.810548132673958, -47.90353774045995], [-15.810272850248207, -47.90317948718226], [-15.809922899263091, -47.90275737350601], [-15.809122683791532, -47.90181085144147], [-15.808960356840739, -47.90162097667928], [-15.808445070633061, -47.901023803878964], [-15.808298097504732, -47.900847105653305], [-15.808112111239986, -47.90063961995413], [-15.807989536995803, -47.900514478572745], [-15.807852827061833, -47.90037432857836], [-15.807417337210962, -47.899929456539056], [-15.806510755007743, -47.8989768974803], [-15.805804362695461, -47.89828632281997], [-15.805127013583366, -47.89765724583357], [-15.804267415043613, -47.896853446986114], [-15.803830700821699, -47.896454845035954], [-15.803073833958662, -47.89578578091878], [-15.801957928305603, -47.894805606014735], [-15.80123063315011, -47.89420298894028], [-15.80032155595163, -47.89347995505211], [-15.799619246050192, -47.892929526675275], [-15.799058834763747, -47.89257854104147], [-15.797903526112114, -47.89186436438661], [-15.797847838156539, -47.891829641557045], [-15.797730995311737, -47.891759671069394], [-15.797518307396556, -47.89163494299706], [-15.797413917459343, -47.89157916959172], [-15.797223953256173, -47.891490100002784], [-15.796623234129038, -47.89120518037037], [-15.795552704585335, -47.89076306023171], [-15.795173608142166, -47.89061208186832], [-15.794388578315543, -47.89035169768659], [-15.79325095655402, -47.88996847884959], [-15.792789440912305, -47.88981633490102], [-15.792326933220743, -47.88966594735067], [-15.791877132041801, -47.88953124522475], [-15.791038144874914, -47.88924049383453], [-15.790105579841331, -47.888919685749], [-15.789339398466424, -47.888658238571274], [-15.788747035357897, -47.88846334158422], [-15.788541194484313, -47.88838966099105], [-15.78791223498716, -47.88820902478407], [-15.786992807037588, -47.88797134553158], [-15.786423308528942, -47.88783586835767], [-15.785938433035387, -47.88772178231646], [-15.785744025082453, -47.8876861304286], [-15.78489548936346, -47.887617203445366], [-15.783651268839986, -47.88750549419669], [-15.783310479165646, -47.887476972686386], [-15.782929172126956, -47.88748652150742], [-15.782345286508988, -47.88749598702657], [-15.781037008557742, -47.88752213174435], [-15.78078084125719, -47.88753163891444], [-15.7793627664169, -47.887645724955625], [-15.777544414004725, -47.88780021646972], [-15.77583125951903, -47.88798560628665], [-15.775071971321237, -47.88807008873547], [-15.77463501623083, -47.88811870666804], [-15.774054046581808, -47.888216155161544], [-15.772304265735247, -47.88851563101966], [-15.770979911765393, -47.88880559970768], [-15.77057505571754, -47.888891164238586], [-15.76920723100389, -47.88920727764437], [-15.768868704400385, -47.889302349345364], [-15.76734761505619, -47.889732548792345], [-15.765753318196932, -47.890212660882355], [-15.763831910791222, -47.89082587335374], [-15.762900412133515, -47.89112404732893], [-15.761931071995434, -47.89143433224008], [-15.760101126134085, -47.89201902320117], [-15.758248289144161, -47.89263461246509], [-15.75632681070329, -47.89323356418133], [-15.754471651767249, -47.89382776231253], [-15.75258216297812, -47.89443384440635], [-15.750828175749552, -47.895003629267876], [-15.750701806806466, -47.89504468008521], [-15.74884888406404, -47.8956388782164], [-15.747503854750496, -47.8960665723852], [-15.747032545863267, -47.89621643879992], [-15.745454223386577, -47.89672117019144], [-15.745211616205758, -47.89679875296849], [-15.744984585106643, -47.896872755236124], [-15.744638228805151, -47.89698565209193], [-15.744281092168114, -47.89710206255748], [-15.744001458574388, -47.897192582132284], [-15.743344917610388, -47.897407211854826], [-15.741505653696558, -47.8979895260234], [-15.74112291183042, -47.8981152049945], [-15.739652647103433, -47.89859798490974], [-15.738608445089566, -47.8989194513874], [-15.7382983402435, -47.899018677186625], [-15.738131338941693, -47.89904244511186], [-15.73794146058261, -47.89902343077166], [-15.737662361949752, -47.89890934473046], [-15.737259727169684, -47.898664535049114], [-15.736973390374809, -47.89844929383898], [-15.73687081784144, -47.89837218961985], [-15.736598580860834, -47.89819155338796], [-15.736060968934474, -47.89783978804308], [-15.735754981038658, -47.89762355204605], [-15.735463831576244, -47.89741979356617], [-15.735348737144442, -47.8974064366355], [-15.73527399404841, -47.897407211854805], [-15.735164183355424, -47.897440486950146], [-15.735077249848098, -47.89751179072589], [-15.735036070805343, -47.89755219619882], [-15.735015481280822, -47.897597355256785], [-15.734981165402026, -47.89766152865496], [-15.73497658995108, -47.897739962808274], [-15.734969726774453, -47.897830280924225], [-15.735006264992496, -47.8979450733036], [-15.735061235776886, -47.89802993149632], [-15.735203074649306, -47.898229582068396], [-15.735267351276347, -47.89827445800883], [-15.735325471987709, -47.898344757283574], [-15.735355952954151, -47.898401180084264], [-15.735355208168803, -47.898469638113305], [-15.734656875475979, -47.89960136728809], [-15.734581956919818, -47.89974597569913], [-15.734528168191414, -47.89988564998137], [-15.734501886356224, -47.90003356759464], [-15.734492302131985, -47.900233981853646], [-15.73449596872446, -47.90034249688195], [-15.734517297417815, -47.90044657216823], [-15.73474667339681, -47.901188688710164], [-15.734778701593406, -47.90130990515468], [-15.735416976632816, -47.903451395245355], [-15.735452367923054, -47.90356407507941], [-15.735487895957332, -47.903677190535205], [-15.735872298862342, -47.90496048103787], [-15.736473676848012, -47.90695149168832], [-15.736371411395453, -47.907029644391194], [-15.73629458239808, -47.907137543573484], [-15.736268152793436, -47.90725658815072], [-15.736292122908715, -47.90742176540436]],\n",
       "                {&quot;bubblingMouseEvents&quot;: true, &quot;color&quot;: &quot;red&quot;, &quot;dashArray&quot;: null, &quot;dashOffset&quot;: null, &quot;fill&quot;: false, &quot;fillColor&quot;: &quot;red&quot;, &quot;fillOpacity&quot;: 0.2, &quot;fillRule&quot;: &quot;evenodd&quot;, &quot;lineCap&quot;: &quot;round&quot;, &quot;lineJoin&quot;: &quot;round&quot;, &quot;noClip&quot;: false, &quot;opacity&quot;: 1.0, &quot;smoothFactor&quot;: 1.0, &quot;stroke&quot;: true, &quot;weight&quot;: 3}\n",
       "            ).addTo(map_36cfc70747b20643f0c487762ee3e95a);\n",
       "        \n",
       "    \n",
       "            poly_line_d4f25f79b805b868e30bb6e5398dd331.bindTooltip(\n",
       "                `&lt;div&gt;\n",
       "                     813.2 IDA\n",
       "                 &lt;/div&gt;`,\n",
       "                {&quot;sticky&quot;: true}\n",
       "            );\n",
       "        \n",
       "&lt;/script&gt;\n",
       "&lt;/html&gt;\" style=\"position:absolute;width:100%;height:100%;left:0;top:0;border:none !important;\" allowfullscreen webkitallowfullscreen mozallowfullscreen></iframe></div></div>"
      ],
      "text/plain": [
       "<folium.folium.Map at 0x7fab685a34d0>"
      ]
     },
     "execution_count": 44,
     "metadata": {},
     "output_type": "execute_result"
    }
   ],
   "source": [
    "import folium\n",
    "from shapely.geometry import LineString\n",
    "\n",
    "# Criar o objeto Linestring\n",
    "linestringRecanto = linestringRecanto.to_crs('EPSG:4326')\n",
    "\n",
    "# Criar um mapa inicial\n",
    "m = folium.Map(location=[-15.76050, -47.78134], zoom_start=10)\n",
    "\n",
    "# Obter o objeto LineString a partir da coluna \"geometry\" do DataFrame\n",
    "linestring1 = linestringRecanto.geometry.iloc[1] # Ida\n",
    "linestring2 = linestringRecanto.geometry.iloc[0] # Volta\n",
    "\n",
    "# Converter as coordenadas do Linestring para o formato que o Folium espera (latitude, longitude)\n",
    "lat_lon_coordsIda = [(lat1, lon1) for lon1, lat1 in linestring1.coords]\n",
    "lat_lon_coordsVolta = [(lat2, lon2) for lon2, lat2 in linestring2.coords]\n",
    "\n",
    "\n",
    "# Adicionar o Linestring ao mapa como uma polilinha (linha poligonal)\n",
    "\n",
    "# Plotando a ida\n",
    "folium.PolyLine(locations=lat_lon_coordsIda, color='blue', tooltip=linestringRecanto['linha'].iloc[1]+ ' ' + linestringRecanto['sentido'].iloc[1]).add_to(m)\n",
    "\n",
    "# Plotando a volta\n",
    "folium.PolyLine(locations=lat_lon_coordsVolta, color='red', tooltip=linestringRecanto['linha'].iloc[0]+ ' ' + linestringRecanto['sentido'].iloc[0]).add_to(m)\n",
    "\n",
    "# Mostrar o mapa\n",
    "m.save('mapaLinestring.html')\n",
    "m"
   ]
  },
  {
   "cell_type": "code",
   "execution_count": 45,
   "metadata": {},
   "outputs": [
    {
     "data": {
      "text/html": [
       "<div>\n",
       "<style scoped>\n",
       "    .dataframe tbody tr th:only-of-type {\n",
       "        vertical-align: middle;\n",
       "    }\n",
       "\n",
       "    .dataframe tbody tr th {\n",
       "        vertical-align: top;\n",
       "    }\n",
       "\n",
       "    .dataframe thead th {\n",
       "        text-align: right;\n",
       "    }\n",
       "</style>\n",
       "<table border=\"1\" class=\"dataframe\">\n",
       "  <thead>\n",
       "    <tr style=\"text-align: right;\">\n",
       "      <th></th>\n",
       "      <th>parada</th>\n",
       "      <th>descricao</th>\n",
       "      <th>situacao</th>\n",
       "      <th>estrutura_</th>\n",
       "      <th>tipo</th>\n",
       "      <th>geometry</th>\n",
       "    </tr>\n",
       "  </thead>\n",
       "  <tbody>\n",
       "    <tr>\n",
       "      <th>5452</th>\n",
       "      <td>1163</td>\n",
       "      <td>NUCLEO RURAL RODEADOR - LADO OPOSTO ESCOLA ROD...</td>\n",
       "      <td>ATIVA</td>\n",
       "      <td>ACOSTAMENTO OU BAIA</td>\n",
       "      <td>Tipo C</td>\n",
       "      <td>POINT (167354.394 8264495.757)</td>\n",
       "    </tr>\n",
       "    <tr>\n",
       "      <th>5453</th>\n",
       "      <td>1164</td>\n",
       "      <td>NUCLEO RURAL RODEADOR - EM FRENTE ESCOLA RODEA...</td>\n",
       "      <td>ATIVA</td>\n",
       "      <td>ACOSTAMENTO OU BAIA</td>\n",
       "      <td>Tipo C</td>\n",
       "      <td>POINT (167311.355 8264500.454)</td>\n",
       "    </tr>\n",
       "    <tr>\n",
       "      <th>5454</th>\n",
       "      <td>1166</td>\n",
       "      <td>ANTES DA ENTRADA PARA A DF 445 NORTE - KM 7 DF...</td>\n",
       "      <td>ATIVA</td>\n",
       "      <td>SEM ESTRUTURA</td>\n",
       "      <td>Tipo C</td>\n",
       "      <td>POINT (163265.979 8265332.396)</td>\n",
       "    </tr>\n",
       "    <tr>\n",
       "      <th>5455</th>\n",
       "      <td>1159</td>\n",
       "      <td>LADO OPOSTO A ENTRADA DA RADIOBRAS E DF 220 DF...</td>\n",
       "      <td>ATIVA</td>\n",
       "      <td>SEM ESTRUTURA</td>\n",
       "      <td>Habitual</td>\n",
       "      <td>POINT (162912.871 8269061.030)</td>\n",
       "    </tr>\n",
       "    <tr>\n",
       "      <th>5456</th>\n",
       "      <td>6374</td>\n",
       "      <td>Km 07 - Gleba 02 - Chácara 116 - Chácara Beatr...</td>\n",
       "      <td>ATIVA</td>\n",
       "      <td>SEM ESTRUTURA</td>\n",
       "      <td>Padrão</td>\n",
       "      <td>POINT (163217.911 8264159.565)</td>\n",
       "    </tr>\n",
       "  </tbody>\n",
       "</table>\n",
       "</div>"
      ],
      "text/plain": [
       "     parada                                          descricao situacao  \\\n",
       "5452   1163  NUCLEO RURAL RODEADOR - LADO OPOSTO ESCOLA ROD...    ATIVA   \n",
       "5453   1164  NUCLEO RURAL RODEADOR - EM FRENTE ESCOLA RODEA...    ATIVA   \n",
       "5454   1166  ANTES DA ENTRADA PARA A DF 445 NORTE - KM 7 DF...    ATIVA   \n",
       "5455   1159  LADO OPOSTO A ENTRADA DA RADIOBRAS E DF 220 DF...    ATIVA   \n",
       "5456   6374  Km 07 - Gleba 02 - Chácara 116 - Chácara Beatr...    ATIVA   \n",
       "\n",
       "               estrutura_      tipo                        geometry  \n",
       "5452  ACOSTAMENTO OU BAIA    Tipo C  POINT (167354.394 8264495.757)  \n",
       "5453  ACOSTAMENTO OU BAIA    Tipo C  POINT (167311.355 8264500.454)  \n",
       "5454        SEM ESTRUTURA    Tipo C  POINT (163265.979 8265332.396)  \n",
       "5455        SEM ESTRUTURA  Habitual  POINT (162912.871 8269061.030)  \n",
       "5456        SEM ESTRUTURA    Padrão  POINT (163217.911 8264159.565)  "
      ]
     },
     "execution_count": 45,
     "metadata": {},
     "output_type": "execute_result"
    }
   ],
   "source": [
    "# Visualizando os rótulos  do dataframe das paradas\n",
    "paradas = gpd.read_file(\"../databases/paradas/paradas.shp\")\n",
    "paradas.tail(5)"
   ]
  },
  {
   "cell_type": "code",
   "execution_count": 46,
   "metadata": {},
   "outputs": [
    {
     "data": {
      "text/html": [
       "<div>\n",
       "<style scoped>\n",
       "    .dataframe tbody tr th:only-of-type {\n",
       "        vertical-align: middle;\n",
       "    }\n",
       "\n",
       "    .dataframe tbody tr th {\n",
       "        vertical-align: top;\n",
       "    }\n",
       "\n",
       "    .dataframe thead th {\n",
       "        text-align: right;\n",
       "    }\n",
       "</style>\n",
       "<table border=\"1\" class=\"dataframe\">\n",
       "  <thead>\n",
       "    <tr style=\"text-align: right;\">\n",
       "      <th></th>\n",
       "      <th>parada</th>\n",
       "      <th>descricao</th>\n",
       "      <th>situacao</th>\n",
       "      <th>estrutura_</th>\n",
       "      <th>tipo</th>\n",
       "      <th>geometry</th>\n",
       "    </tr>\n",
       "  </thead>\n",
       "  <tbody>\n",
       "    <tr>\n",
       "      <th>0</th>\n",
       "      <td>6710</td>\n",
       "      <td>Avenida Morro da Cruz</td>\n",
       "      <td>DESATIVADA</td>\n",
       "      <td>SEM ESTRUTURA</td>\n",
       "      <td>Habitual</td>\n",
       "      <td>POINT (-47.76791 -15.91132)</td>\n",
       "    </tr>\n",
       "    <tr>\n",
       "      <th>1</th>\n",
       "      <td>6711</td>\n",
       "      <td>Avenida Morro da Cruz</td>\n",
       "      <td>DESATIVADA</td>\n",
       "      <td>SEM ESTRUTURA</td>\n",
       "      <td>Habitual</td>\n",
       "      <td>POINT (-47.76793 -15.91160)</td>\n",
       "    </tr>\n",
       "    <tr>\n",
       "      <th>2</th>\n",
       "      <td>6712</td>\n",
       "      <td>Avenida Morro da Cruz</td>\n",
       "      <td>DESATIVADA</td>\n",
       "      <td>SEM ESTRUTURA</td>\n",
       "      <td>Habitual</td>\n",
       "      <td>POINT (-47.76900 -15.91399)</td>\n",
       "    </tr>\n",
       "    <tr>\n",
       "      <th>3</th>\n",
       "      <td>6713</td>\n",
       "      <td>Avenida Morro da Cruz</td>\n",
       "      <td>DESATIVADA</td>\n",
       "      <td>SEM ESTRUTURA</td>\n",
       "      <td>Habitual</td>\n",
       "      <td>POINT (-47.76933 -15.91454)</td>\n",
       "    </tr>\n",
       "    <tr>\n",
       "      <th>4</th>\n",
       "      <td>6827</td>\n",
       "      <td>Residencial Vitoria</td>\n",
       "      <td>DESATIVADA</td>\n",
       "      <td>SEM ESTRUTURA</td>\n",
       "      <td>Habitual</td>\n",
       "      <td>POINT (-47.76832 -15.90857)</td>\n",
       "    </tr>\n",
       "    <tr>\n",
       "      <th>...</th>\n",
       "      <td>...</td>\n",
       "      <td>...</td>\n",
       "      <td>...</td>\n",
       "      <td>...</td>\n",
       "      <td>...</td>\n",
       "      <td>...</td>\n",
       "    </tr>\n",
       "    <tr>\n",
       "      <th>5452</th>\n",
       "      <td>1163</td>\n",
       "      <td>NUCLEO RURAL RODEADOR - LADO OPOSTO ESCOLA ROD...</td>\n",
       "      <td>ATIVA</td>\n",
       "      <td>ACOSTAMENTO OU BAIA</td>\n",
       "      <td>Tipo C</td>\n",
       "      <td>POINT (-48.10282 -15.67575)</td>\n",
       "    </tr>\n",
       "    <tr>\n",
       "      <th>5453</th>\n",
       "      <td>1164</td>\n",
       "      <td>NUCLEO RURAL RODEADOR - EM FRENTE ESCOLA RODEA...</td>\n",
       "      <td>ATIVA</td>\n",
       "      <td>ACOSTAMENTO OU BAIA</td>\n",
       "      <td>Tipo C</td>\n",
       "      <td>POINT (-48.10322 -15.67570)</td>\n",
       "    </tr>\n",
       "    <tr>\n",
       "      <th>5454</th>\n",
       "      <td>1166</td>\n",
       "      <td>ANTES DA ENTRADA PARA A DF 445 NORTE - KM 7 DF...</td>\n",
       "      <td>ATIVA</td>\n",
       "      <td>SEM ESTRUTURA</td>\n",
       "      <td>Tipo C</td>\n",
       "      <td>POINT (-48.14080 -15.66765)</td>\n",
       "    </tr>\n",
       "    <tr>\n",
       "      <th>5455</th>\n",
       "      <td>1159</td>\n",
       "      <td>LADO OPOSTO A ENTRADA DA RADIOBRAS E DF 220 DF...</td>\n",
       "      <td>ATIVA</td>\n",
       "      <td>SEM ESTRUTURA</td>\n",
       "      <td>Habitual</td>\n",
       "      <td>POINT (-48.14358 -15.63395)</td>\n",
       "    </tr>\n",
       "    <tr>\n",
       "      <th>5456</th>\n",
       "      <td>6374</td>\n",
       "      <td>Km 07 - Gleba 02 - Chácara 116 - Chácara Beatr...</td>\n",
       "      <td>ATIVA</td>\n",
       "      <td>SEM ESTRUTURA</td>\n",
       "      <td>Padrão</td>\n",
       "      <td>POINT (-48.14141 -15.67823)</td>\n",
       "    </tr>\n",
       "  </tbody>\n",
       "</table>\n",
       "<p>5457 rows × 6 columns</p>\n",
       "</div>"
      ],
      "text/plain": [
       "     parada                                          descricao    situacao  \\\n",
       "0      6710                              Avenida Morro da Cruz  DESATIVADA   \n",
       "1      6711                              Avenida Morro da Cruz  DESATIVADA   \n",
       "2      6712                              Avenida Morro da Cruz  DESATIVADA   \n",
       "3      6713                              Avenida Morro da Cruz  DESATIVADA   \n",
       "4      6827                                Residencial Vitoria  DESATIVADA   \n",
       "...     ...                                                ...         ...   \n",
       "5452   1163  NUCLEO RURAL RODEADOR - LADO OPOSTO ESCOLA ROD...       ATIVA   \n",
       "5453   1164  NUCLEO RURAL RODEADOR - EM FRENTE ESCOLA RODEA...       ATIVA   \n",
       "5454   1166  ANTES DA ENTRADA PARA A DF 445 NORTE - KM 7 DF...       ATIVA   \n",
       "5455   1159  LADO OPOSTO A ENTRADA DA RADIOBRAS E DF 220 DF...       ATIVA   \n",
       "5456   6374  Km 07 - Gleba 02 - Chácara 116 - Chácara Beatr...       ATIVA   \n",
       "\n",
       "               estrutura_      tipo                     geometry  \n",
       "0           SEM ESTRUTURA  Habitual  POINT (-47.76791 -15.91132)  \n",
       "1           SEM ESTRUTURA  Habitual  POINT (-47.76793 -15.91160)  \n",
       "2           SEM ESTRUTURA  Habitual  POINT (-47.76900 -15.91399)  \n",
       "3           SEM ESTRUTURA  Habitual  POINT (-47.76933 -15.91454)  \n",
       "4           SEM ESTRUTURA  Habitual  POINT (-47.76832 -15.90857)  \n",
       "...                   ...       ...                          ...  \n",
       "5452  ACOSTAMENTO OU BAIA    Tipo C  POINT (-48.10282 -15.67575)  \n",
       "5453  ACOSTAMENTO OU BAIA    Tipo C  POINT (-48.10322 -15.67570)  \n",
       "5454        SEM ESTRUTURA    Tipo C  POINT (-48.14080 -15.66765)  \n",
       "5455        SEM ESTRUTURA  Habitual  POINT (-48.14358 -15.63395)  \n",
       "5456        SEM ESTRUTURA    Padrão  POINT (-48.14141 -15.67823)  \n",
       "\n",
       "[5457 rows x 6 columns]"
      ]
     },
     "execution_count": 46,
     "metadata": {},
     "output_type": "execute_result"
    }
   ],
   "source": [
    "# convertendo para o sistema adequado\n",
    "paradas = paradas.to_crs('EPSG:4326')\n",
    "paradas"
   ]
  },
  {
   "cell_type": "code",
   "execution_count": 47,
   "metadata": {},
   "outputs": [
    {
     "data": {
      "text/html": [
       "<div>\n",
       "<style scoped>\n",
       "    .dataframe tbody tr th:only-of-type {\n",
       "        vertical-align: middle;\n",
       "    }\n",
       "\n",
       "    .dataframe tbody tr th {\n",
       "        vertical-align: top;\n",
       "    }\n",
       "\n",
       "    .dataframe thead th {\n",
       "        text-align: right;\n",
       "    }\n",
       "</style>\n",
       "<table border=\"1\" class=\"dataframe\">\n",
       "  <thead>\n",
       "    <tr style=\"text-align: right;\">\n",
       "      <th></th>\n",
       "      <th>parada</th>\n",
       "      <th>descricao</th>\n",
       "      <th>situacao</th>\n",
       "      <th>estrutura_</th>\n",
       "      <th>tipo</th>\n",
       "      <th>geometry</th>\n",
       "    </tr>\n",
       "  </thead>\n",
       "  <tbody>\n",
       "    <tr>\n",
       "      <th>69</th>\n",
       "      <td>3517</td>\n",
       "      <td>EQN 513/514 W3 NORTE</td>\n",
       "      <td>ATIVA</td>\n",
       "      <td>ACOSTAMENTO OU BAIA</td>\n",
       "      <td>Tradicional</td>\n",
       "      <td>POINT (-47.89601 -15.74749)</td>\n",
       "    </tr>\n",
       "    <tr>\n",
       "      <th>70</th>\n",
       "      <td>3473</td>\n",
       "      <td>SQN 113 EIXO W NORTE</td>\n",
       "      <td>ATIVA</td>\n",
       "      <td>ACOSTAMENTO OU BAIA</td>\n",
       "      <td>Tradicional</td>\n",
       "      <td>POINT (-47.88979 -15.74707)</td>\n",
       "    </tr>\n",
       "    <tr>\n",
       "      <th>119</th>\n",
       "      <td>2649</td>\n",
       "      <td>BL. 300 NB 1</td>\n",
       "      <td>ATIVA</td>\n",
       "      <td>SEM ESTRUTURA</td>\n",
       "      <td>Placa</td>\n",
       "      <td>POINT (-47.96304 -15.86636)</td>\n",
       "    </tr>\n",
       "    <tr>\n",
       "      <th>120</th>\n",
       "      <td>2672</td>\n",
       "      <td>EM FRENTE AO BL. 211 NB 1</td>\n",
       "      <td>ATIVA</td>\n",
       "      <td>ACOSTAMENTO OU BAIA</td>\n",
       "      <td>Cemusa</td>\n",
       "      <td>POINT (-47.96287 -15.86609)</td>\n",
       "    </tr>\n",
       "    <tr>\n",
       "      <th>121</th>\n",
       "      <td>6057</td>\n",
       "      <td>FRENTE A RODA DO CHOPP EPNB</td>\n",
       "      <td>ATIVA</td>\n",
       "      <td>ACOSTAMENTO OU BAIA</td>\n",
       "      <td>Tipo C</td>\n",
       "      <td>POINT (-47.96680 -15.86686)</td>\n",
       "    </tr>\n",
       "    <tr>\n",
       "      <th>...</th>\n",
       "      <td>...</td>\n",
       "      <td>...</td>\n",
       "      <td>...</td>\n",
       "      <td>...</td>\n",
       "      <td>...</td>\n",
       "      <td>...</td>\n",
       "    </tr>\n",
       "    <tr>\n",
       "      <th>5292</th>\n",
       "      <td>3291</td>\n",
       "      <td>EQS 106/107 - Cine Brasília Eixo W Sul</td>\n",
       "      <td>ATIVA</td>\n",
       "      <td>ACOSTAMENTO OU BAIA</td>\n",
       "      <td>Cemusa</td>\n",
       "      <td>POINT (-47.89929 -15.81486)</td>\n",
       "    </tr>\n",
       "    <tr>\n",
       "      <th>5293</th>\n",
       "      <td>3343</td>\n",
       "      <td>EQS 106/107 - Cine Brasília Eixo W Sul</td>\n",
       "      <td>ATIVA</td>\n",
       "      <td>ACOSTAMENTO OU BAIA</td>\n",
       "      <td>Cemusa</td>\n",
       "      <td>POINT (-47.89912 -15.81473)</td>\n",
       "    </tr>\n",
       "    <tr>\n",
       "      <th>5300</th>\n",
       "      <td>3383</td>\n",
       "      <td>EQS 106/107 - CINE BRASILIA EIXO W SUL</td>\n",
       "      <td>ATIVA</td>\n",
       "      <td>ACOSTAMENTO OU BAIA</td>\n",
       "      <td>Fibra de Vidro</td>\n",
       "      <td>POINT (-47.89896 -15.81460)</td>\n",
       "    </tr>\n",
       "    <tr>\n",
       "      <th>5353</th>\n",
       "      <td>4723</td>\n",
       "      <td>APOS O VIADUTO DE ACESSO AO LAGO NORTE BR-020</td>\n",
       "      <td>ATIVA</td>\n",
       "      <td>SEM ESTRUTURA</td>\n",
       "      <td>Tipo C</td>\n",
       "      <td>POINT (-47.89611 -15.72536)</td>\n",
       "    </tr>\n",
       "    <tr>\n",
       "      <th>5354</th>\n",
       "      <td>4583</td>\n",
       "      <td>APOS VIADUTO DF-007</td>\n",
       "      <td>ATIVA</td>\n",
       "      <td>ACOSTAMENTO OU BAIA</td>\n",
       "      <td>Tipo C</td>\n",
       "      <td>POINT (-47.89579 -15.72520)</td>\n",
       "    </tr>\n",
       "  </tbody>\n",
       "</table>\n",
       "<p>400 rows × 6 columns</p>\n",
       "</div>"
      ],
      "text/plain": [
       "     parada                                      descricao situacao  \\\n",
       "69     3517                           EQN 513/514 W3 NORTE    ATIVA   \n",
       "70     3473                           SQN 113 EIXO W NORTE    ATIVA   \n",
       "119    2649                                   BL. 300 NB 1    ATIVA   \n",
       "120    2672                      EM FRENTE AO BL. 211 NB 1    ATIVA   \n",
       "121    6057                    FRENTE A RODA DO CHOPP EPNB    ATIVA   \n",
       "...     ...                                            ...      ...   \n",
       "5292   3291         EQS 106/107 - Cine Brasília Eixo W Sul    ATIVA   \n",
       "5293   3343         EQS 106/107 - Cine Brasília Eixo W Sul    ATIVA   \n",
       "5300   3383         EQS 106/107 - CINE BRASILIA EIXO W SUL    ATIVA   \n",
       "5353   4723  APOS O VIADUTO DE ACESSO AO LAGO NORTE BR-020    ATIVA   \n",
       "5354   4583                            APOS VIADUTO DF-007    ATIVA   \n",
       "\n",
       "               estrutura_            tipo                     geometry  \n",
       "69    ACOSTAMENTO OU BAIA     Tradicional  POINT (-47.89601 -15.74749)  \n",
       "70    ACOSTAMENTO OU BAIA     Tradicional  POINT (-47.88979 -15.74707)  \n",
       "119         SEM ESTRUTURA           Placa  POINT (-47.96304 -15.86636)  \n",
       "120   ACOSTAMENTO OU BAIA          Cemusa  POINT (-47.96287 -15.86609)  \n",
       "121   ACOSTAMENTO OU BAIA          Tipo C  POINT (-47.96680 -15.86686)  \n",
       "...                   ...             ...                          ...  \n",
       "5292  ACOSTAMENTO OU BAIA          Cemusa  POINT (-47.89929 -15.81486)  \n",
       "5293  ACOSTAMENTO OU BAIA          Cemusa  POINT (-47.89912 -15.81473)  \n",
       "5300  ACOSTAMENTO OU BAIA  Fibra de Vidro  POINT (-47.89896 -15.81460)  \n",
       "5353        SEM ESTRUTURA          Tipo C  POINT (-47.89611 -15.72536)  \n",
       "5354  ACOSTAMENTO OU BAIA          Tipo C  POINT (-47.89579 -15.72520)  \n",
       "\n",
       "[400 rows x 6 columns]"
      ]
     },
     "metadata": {},
     "output_type": "display_data"
    }
   ],
   "source": [
    "import geopandas as gpd\n",
    "from shapely.geometry import LineString, Point\n",
    "import folium\n",
    "\n",
    "# Criar o objeto Linestring\n",
    "linestringRecanto = linestringRecanto.to_crs('EPSG:4326')\n",
    "\n",
    "# Obter o objeto LineString a partir da coluna \"geometry\" do DataFrame\n",
    "linestring = linestringRecanto.geometry.iloc[0]\n",
    "\n",
    "# Lista para armazenar as paradas encontradas\n",
    "paradas_encontradas = []\n",
    "\n",
    "# Conjunto para armazenar os números das paradas encontradas\n",
    "numeros_paradas_encontradas = set()\n",
    "\n",
    "# Função para aproximar as coordenadas para 2 casas decimais\n",
    "def aproximar_coordenadas(coord):\n",
    "    return round(coord, 2)\n",
    "\n",
    "# Iterar sobre os pontos de paradas e verificar se estão contidos na Linestring\n",
    "for idx, ponto_parada in paradas.iterrows():\n",
    "    numero_parada = ponto_parada[\"parada\"]\n",
    "    ponto = ponto_parada[\"geometry\"]\n",
    "    ponto_aproximado = Point(aproximar_coordenadas(ponto.x), aproximar_coordenadas(ponto.y))\n",
    "    linestring_aproximada = LineString([Point(aproximar_coordenadas(x), aproximar_coordenadas(y)) for x, y in linestring.coords])\n",
    "    if linestring_aproximada.contains(ponto_aproximado) and numero_parada not in numeros_paradas_encontradas:\n",
    "        paradas_encontradas.append(ponto_parada)\n",
    "        numeros_paradas_encontradas.add(numero_parada)\n",
    "\n",
    "# Criar um novo GeoDataFrame com as paradas encontradas\n",
    "gdf_paradas_encontradas = gpd.GeoDataFrame(paradas_encontradas, crs='EPSG:4326')\n",
    "display(gdf_paradas_encontradas)\n",
    "# Plotar as paradas de ônibus no mapa com o Folium\n",
    "m = folium.Map(location=[-15.76050, -47.78134], zoom_start=10)\n",
    "\n",
    "for idx, ponto_parada in gdf_paradas_encontradas.iterrows():\n",
    "    lat, lon = ponto_parada[\"geometry\"].y, ponto_parada[\"geometry\"].x\n",
    "    folium.Marker([lat, lon], popup=ponto_parada['descricao']).add_to(m)\n",
    "\n",
    "# Mostrar o mapa com as paradas de ônibus\n",
    "m.save('mapa_paradas_onibus.html')\n"
   ]
  },
  {
   "cell_type": "code",
   "execution_count": 48,
   "metadata": {},
   "outputs": [
    {
     "data": {
      "text/html": [
       "<div>\n",
       "<style scoped>\n",
       "    .dataframe tbody tr th:only-of-type {\n",
       "        vertical-align: middle;\n",
       "    }\n",
       "\n",
       "    .dataframe tbody tr th {\n",
       "        vertical-align: top;\n",
       "    }\n",
       "\n",
       "    .dataframe thead th {\n",
       "        text-align: right;\n",
       "    }\n",
       "</style>\n",
       "<table border=\"1\" class=\"dataframe\">\n",
       "  <thead>\n",
       "    <tr style=\"text-align: right;\">\n",
       "      <th></th>\n",
       "      <th>parada</th>\n",
       "      <th>descricao</th>\n",
       "      <th>situacao</th>\n",
       "      <th>estrutura_</th>\n",
       "      <th>tipo</th>\n",
       "      <th>geometry</th>\n",
       "    </tr>\n",
       "  </thead>\n",
       "  <tbody>\n",
       "    <tr>\n",
       "      <th>69</th>\n",
       "      <td>3517</td>\n",
       "      <td>EQN 513/514 W3 NORTE</td>\n",
       "      <td>ATIVA</td>\n",
       "      <td>ACOSTAMENTO OU BAIA</td>\n",
       "      <td>Tradicional</td>\n",
       "      <td>POINT (-47.89601 -15.74749)</td>\n",
       "    </tr>\n",
       "    <tr>\n",
       "      <th>122</th>\n",
       "      <td>6058</td>\n",
       "      <td>FRENTE AO BLOCO 440 EPNB</td>\n",
       "      <td>ATIVA</td>\n",
       "      <td>ACOSTAMENTO OU BAIA</td>\n",
       "      <td>Tipo C</td>\n",
       "      <td>POINT (-47.96505 -15.86656)</td>\n",
       "    </tr>\n",
       "    <tr>\n",
       "      <th>123</th>\n",
       "      <td>6059</td>\n",
       "      <td>FRENTE AO BLOCO 91 EPNB</td>\n",
       "      <td>ATIVA</td>\n",
       "      <td>ACOSTAMENTO OU BAIA</td>\n",
       "      <td>Tipo C</td>\n",
       "      <td>POINT (-47.96109 -15.86449)</td>\n",
       "    </tr>\n",
       "    <tr>\n",
       "      <th>226</th>\n",
       "      <td>4027</td>\n",
       "      <td>QN 01 CONJ. 16 CASA 13 APOS A PASSARELA DF 075</td>\n",
       "      <td>ATIVA</td>\n",
       "      <td>ACOSTAMENTO OU BAIA</td>\n",
       "      <td>Tipo C</td>\n",
       "      <td>POINT (-48.00549 -15.87796)</td>\n",
       "    </tr>\n",
       "    <tr>\n",
       "      <th>227</th>\n",
       "      <td>4028</td>\n",
       "      <td>QN 01 CONJ. 31 CASA 24 DF 075</td>\n",
       "      <td>ATIVA</td>\n",
       "      <td>ACOSTAMENTO OU BAIA</td>\n",
       "      <td>Tipo C</td>\n",
       "      <td>POINT (-48.00207 -15.87766)</td>\n",
       "    </tr>\n",
       "    <tr>\n",
       "      <th>...</th>\n",
       "      <td>...</td>\n",
       "      <td>...</td>\n",
       "      <td>...</td>\n",
       "      <td>...</td>\n",
       "      <td>...</td>\n",
       "      <td>...</td>\n",
       "    </tr>\n",
       "    <tr>\n",
       "      <th>5211</th>\n",
       "      <td>3572</td>\n",
       "      <td>ENTREQUADRA 509/508 - HOSPITAL DIA W3 SUL</td>\n",
       "      <td>ATIVA</td>\n",
       "      <td>ACOSTAMENTO OU BAIA</td>\n",
       "      <td>Tradicional</td>\n",
       "      <td>POINT (-47.90791 -15.81387)</td>\n",
       "    </tr>\n",
       "    <tr>\n",
       "      <th>5243</th>\n",
       "      <td>3470</td>\n",
       "      <td>LATERAL HOSPITAL SANTA HELENA LIGACAO</td>\n",
       "      <td>ATIVA</td>\n",
       "      <td>SEM ESTRUTURA</td>\n",
       "      <td>Tipo C</td>\n",
       "      <td>POINT (-47.89732 -15.73542)</td>\n",
       "    </tr>\n",
       "    <tr>\n",
       "      <th>5249</th>\n",
       "      <td>3520</td>\n",
       "      <td>EM FRENTE JUSTICA DO TRABALHO LIGACAO</td>\n",
       "      <td>ATIVA</td>\n",
       "      <td>SEM ESTRUTURA</td>\n",
       "      <td>Cemusa</td>\n",
       "      <td>POINT (-47.89838 -15.73702)</td>\n",
       "    </tr>\n",
       "    <tr>\n",
       "      <th>5255</th>\n",
       "      <td>3519</td>\n",
       "      <td>EQN 515/516 - BRB W3 NORTE</td>\n",
       "      <td>ATIVA</td>\n",
       "      <td>ACOSTAMENTO OU BAIA</td>\n",
       "      <td>Tradicional</td>\n",
       "      <td>POINT (-47.89805 -15.74110)</td>\n",
       "    </tr>\n",
       "    <tr>\n",
       "      <th>5271</th>\n",
       "      <td>3518</td>\n",
       "      <td>EQN 514/515 - HYUNDAI W3 NORTE</td>\n",
       "      <td>ATIVA</td>\n",
       "      <td>ACOSTAMENTO OU BAIA</td>\n",
       "      <td>Tradicional</td>\n",
       "      <td>POINT (-47.89692 -15.74462)</td>\n",
       "    </tr>\n",
       "  </tbody>\n",
       "</table>\n",
       "<p>99 rows × 6 columns</p>\n",
       "</div>"
      ],
      "text/plain": [
       "     parada                                       descricao situacao  \\\n",
       "69     3517                            EQN 513/514 W3 NORTE    ATIVA   \n",
       "122    6058                        FRENTE AO BLOCO 440 EPNB    ATIVA   \n",
       "123    6059                         FRENTE AO BLOCO 91 EPNB    ATIVA   \n",
       "226    4027  QN 01 CONJ. 16 CASA 13 APOS A PASSARELA DF 075    ATIVA   \n",
       "227    4028                   QN 01 CONJ. 31 CASA 24 DF 075    ATIVA   \n",
       "...     ...                                             ...      ...   \n",
       "5211   3572       ENTREQUADRA 509/508 - HOSPITAL DIA W3 SUL    ATIVA   \n",
       "5243   3470           LATERAL HOSPITAL SANTA HELENA LIGACAO    ATIVA   \n",
       "5249   3520           EM FRENTE JUSTICA DO TRABALHO LIGACAO    ATIVA   \n",
       "5255   3519                      EQN 515/516 - BRB W3 NORTE    ATIVA   \n",
       "5271   3518                  EQN 514/515 - HYUNDAI W3 NORTE    ATIVA   \n",
       "\n",
       "               estrutura_         tipo                     geometry  \n",
       "69    ACOSTAMENTO OU BAIA  Tradicional  POINT (-47.89601 -15.74749)  \n",
       "122   ACOSTAMENTO OU BAIA       Tipo C  POINT (-47.96505 -15.86656)  \n",
       "123   ACOSTAMENTO OU BAIA       Tipo C  POINT (-47.96109 -15.86449)  \n",
       "226   ACOSTAMENTO OU BAIA       Tipo C  POINT (-48.00549 -15.87796)  \n",
       "227   ACOSTAMENTO OU BAIA       Tipo C  POINT (-48.00207 -15.87766)  \n",
       "...                   ...          ...                          ...  \n",
       "5211  ACOSTAMENTO OU BAIA  Tradicional  POINT (-47.90791 -15.81387)  \n",
       "5243        SEM ESTRUTURA       Tipo C  POINT (-47.89732 -15.73542)  \n",
       "5249        SEM ESTRUTURA       Cemusa  POINT (-47.89838 -15.73702)  \n",
       "5255  ACOSTAMENTO OU BAIA  Tradicional  POINT (-47.89805 -15.74110)  \n",
       "5271  ACOSTAMENTO OU BAIA  Tradicional  POINT (-47.89692 -15.74462)  \n",
       "\n",
       "[99 rows x 6 columns]"
      ]
     },
     "metadata": {},
     "output_type": "display_data"
    },
    {
     "data": {
      "text/html": [
       "<div style=\"width:100%;\"><div style=\"position:relative;width:100%;height:0;padding-bottom:60%;\"><span style=\"color:#565656\">Make this Notebook Trusted to load map: File -> Trust Notebook</span><iframe srcdoc=\"&lt;!DOCTYPE html&gt;\n",
       "&lt;html&gt;\n",
       "&lt;head&gt;\n",
       "    \n",
       "    &lt;meta http-equiv=&quot;content-type&quot; content=&quot;text/html; charset=UTF-8&quot; /&gt;\n",
       "    \n",
       "        &lt;script&gt;\n",
       "            L_NO_TOUCH = false;\n",
       "            L_DISABLE_3D = false;\n",
       "        &lt;/script&gt;\n",
       "    \n",
       "    &lt;style&gt;html, body {width: 100%;height: 100%;margin: 0;padding: 0;}&lt;/style&gt;\n",
       "    &lt;style&gt;#map {position:absolute;top:0;bottom:0;right:0;left:0;}&lt;/style&gt;\n",
       "    &lt;script src=&quot;https://cdn.jsdelivr.net/npm/leaflet@1.9.3/dist/leaflet.js&quot;&gt;&lt;/script&gt;\n",
       "    &lt;script src=&quot;https://code.jquery.com/jquery-1.12.4.min.js&quot;&gt;&lt;/script&gt;\n",
       "    &lt;script src=&quot;https://cdn.jsdelivr.net/npm/bootstrap@5.2.2/dist/js/bootstrap.bundle.min.js&quot;&gt;&lt;/script&gt;\n",
       "    &lt;script src=&quot;https://cdnjs.cloudflare.com/ajax/libs/Leaflet.awesome-markers/2.0.2/leaflet.awesome-markers.js&quot;&gt;&lt;/script&gt;\n",
       "    &lt;link rel=&quot;stylesheet&quot; href=&quot;https://cdn.jsdelivr.net/npm/leaflet@1.9.3/dist/leaflet.css&quot;/&gt;\n",
       "    &lt;link rel=&quot;stylesheet&quot; href=&quot;https://cdn.jsdelivr.net/npm/bootstrap@5.2.2/dist/css/bootstrap.min.css&quot;/&gt;\n",
       "    &lt;link rel=&quot;stylesheet&quot; href=&quot;https://netdna.bootstrapcdn.com/bootstrap/3.0.0/css/bootstrap.min.css&quot;/&gt;\n",
       "    &lt;link rel=&quot;stylesheet&quot; href=&quot;https://cdn.jsdelivr.net/npm/@fortawesome/fontawesome-free@6.2.0/css/all.min.css&quot;/&gt;\n",
       "    &lt;link rel=&quot;stylesheet&quot; href=&quot;https://cdnjs.cloudflare.com/ajax/libs/Leaflet.awesome-markers/2.0.2/leaflet.awesome-markers.css&quot;/&gt;\n",
       "    &lt;link rel=&quot;stylesheet&quot; href=&quot;https://cdn.jsdelivr.net/gh/python-visualization/folium/folium/templates/leaflet.awesome.rotate.min.css&quot;/&gt;\n",
       "    \n",
       "            &lt;meta name=&quot;viewport&quot; content=&quot;width=device-width,\n",
       "                initial-scale=1.0, maximum-scale=1.0, user-scalable=no&quot; /&gt;\n",
       "            &lt;style&gt;\n",
       "                #map_405b717e66835aa95fe0f40b638364be {\n",
       "                    position: relative;\n",
       "                    width: 100.0%;\n",
       "                    height: 100.0%;\n",
       "                    left: 0.0%;\n",
       "                    top: 0.0%;\n",
       "                }\n",
       "                .leaflet-container { font-size: 1rem; }\n",
       "            &lt;/style&gt;\n",
       "        \n",
       "&lt;/head&gt;\n",
       "&lt;body&gt;\n",
       "    \n",
       "    \n",
       "            &lt;div class=&quot;folium-map&quot; id=&quot;map_405b717e66835aa95fe0f40b638364be&quot; &gt;&lt;/div&gt;\n",
       "        \n",
       "&lt;/body&gt;\n",
       "&lt;script&gt;\n",
       "    \n",
       "    \n",
       "            var map_405b717e66835aa95fe0f40b638364be = L.map(\n",
       "                &quot;map_405b717e66835aa95fe0f40b638364be&quot;,\n",
       "                {\n",
       "                    center: [-15.7605, -47.78134],\n",
       "                    crs: L.CRS.EPSG3857,\n",
       "                    zoom: 10,\n",
       "                    zoomControl: true,\n",
       "                    preferCanvas: false,\n",
       "                }\n",
       "            );\n",
       "\n",
       "            \n",
       "\n",
       "        \n",
       "    \n",
       "            var tile_layer_862a4de610e9de7db6d164f32e8f3396 = L.tileLayer(\n",
       "                &quot;https://{s}.tile.openstreetmap.org/{z}/{x}/{y}.png&quot;,\n",
       "                {&quot;attribution&quot;: &quot;Data by \\u0026copy; \\u003ca target=\\&quot;_blank\\&quot; href=\\&quot;http://openstreetmap.org\\&quot;\\u003eOpenStreetMap\\u003c/a\\u003e, under \\u003ca target=\\&quot;_blank\\&quot; href=\\&quot;http://www.openstreetmap.org/copyright\\&quot;\\u003eODbL\\u003c/a\\u003e.&quot;, &quot;detectRetina&quot;: false, &quot;maxNativeZoom&quot;: 18, &quot;maxZoom&quot;: 18, &quot;minZoom&quot;: 0, &quot;noWrap&quot;: false, &quot;opacity&quot;: 1, &quot;subdomains&quot;: &quot;abc&quot;, &quot;tms&quot;: false}\n",
       "            ).addTo(map_405b717e66835aa95fe0f40b638364be);\n",
       "        \n",
       "    \n",
       "            var marker_75f96db871ac64798b0ea32ecfc0fa3a = L.marker(\n",
       "                [-15.747487243955707, -47.89600866323914],\n",
       "                {}\n",
       "            ).addTo(map_405b717e66835aa95fe0f40b638364be);\n",
       "        \n",
       "    \n",
       "        var popup_16a49fb0354a390648219016d20390a3 = L.popup({&quot;maxWidth&quot;: &quot;100%&quot;});\n",
       "\n",
       "        \n",
       "            \n",
       "                var html_c28ca1a0e54078b5c84c4861128447b7 = $(`&lt;div id=&quot;html_c28ca1a0e54078b5c84c4861128447b7&quot; style=&quot;width: 100.0%; height: 100.0%;&quot;&gt;3517&lt;/div&gt;`)[0];\n",
       "                popup_16a49fb0354a390648219016d20390a3.setContent(html_c28ca1a0e54078b5c84c4861128447b7);\n",
       "            \n",
       "        \n",
       "\n",
       "        marker_75f96db871ac64798b0ea32ecfc0fa3a.bindPopup(popup_16a49fb0354a390648219016d20390a3)\n",
       "        ;\n",
       "\n",
       "        \n",
       "    \n",
       "    \n",
       "            var marker_11f90ac5c4bb040a5742e6a489b58b5c = L.marker(\n",
       "                [-15.866555379423424, -47.96504713913905],\n",
       "                {}\n",
       "            ).addTo(map_405b717e66835aa95fe0f40b638364be);\n",
       "        \n",
       "    \n",
       "        var popup_c14fb937d82fca6552a987764caa4c29 = L.popup({&quot;maxWidth&quot;: &quot;100%&quot;});\n",
       "\n",
       "        \n",
       "            \n",
       "                var html_55f773384d82bb951ce2bf0d7936b56c = $(`&lt;div id=&quot;html_55f773384d82bb951ce2bf0d7936b56c&quot; style=&quot;width: 100.0%; height: 100.0%;&quot;&gt;6058&lt;/div&gt;`)[0];\n",
       "                popup_c14fb937d82fca6552a987764caa4c29.setContent(html_55f773384d82bb951ce2bf0d7936b56c);\n",
       "            \n",
       "        \n",
       "\n",
       "        marker_11f90ac5c4bb040a5742e6a489b58b5c.bindPopup(popup_c14fb937d82fca6552a987764caa4c29)\n",
       "        ;\n",
       "\n",
       "        \n",
       "    \n",
       "    \n",
       "            var marker_416496f3b3de6b4b1bd9fc4730a24e9a = L.marker(\n",
       "                [-15.864490388747809, -47.96108520646956],\n",
       "                {}\n",
       "            ).addTo(map_405b717e66835aa95fe0f40b638364be);\n",
       "        \n",
       "    \n",
       "        var popup_8ed335bf70008f66448d716ab5e821ec = L.popup({&quot;maxWidth&quot;: &quot;100%&quot;});\n",
       "\n",
       "        \n",
       "            \n",
       "                var html_81585445e2d95dce13b23ce95daa52cc = $(`&lt;div id=&quot;html_81585445e2d95dce13b23ce95daa52cc&quot; style=&quot;width: 100.0%; height: 100.0%;&quot;&gt;6059&lt;/div&gt;`)[0];\n",
       "                popup_8ed335bf70008f66448d716ab5e821ec.setContent(html_81585445e2d95dce13b23ce95daa52cc);\n",
       "            \n",
       "        \n",
       "\n",
       "        marker_416496f3b3de6b4b1bd9fc4730a24e9a.bindPopup(popup_8ed335bf70008f66448d716ab5e821ec)\n",
       "        ;\n",
       "\n",
       "        \n",
       "    \n",
       "    \n",
       "            var marker_2e80e95289e2c5d40bda552ad3d49262 = L.marker(\n",
       "                [-15.877962420610736, -48.00549404760407],\n",
       "                {}\n",
       "            ).addTo(map_405b717e66835aa95fe0f40b638364be);\n",
       "        \n",
       "    \n",
       "        var popup_b898dd69d62585b3f49ac83fc241a151 = L.popup({&quot;maxWidth&quot;: &quot;100%&quot;});\n",
       "\n",
       "        \n",
       "            \n",
       "                var html_017adcb2bdb89bb0cceb179fe0db53aa = $(`&lt;div id=&quot;html_017adcb2bdb89bb0cceb179fe0db53aa&quot; style=&quot;width: 100.0%; height: 100.0%;&quot;&gt;4027&lt;/div&gt;`)[0];\n",
       "                popup_b898dd69d62585b3f49ac83fc241a151.setContent(html_017adcb2bdb89bb0cceb179fe0db53aa);\n",
       "            \n",
       "        \n",
       "\n",
       "        marker_2e80e95289e2c5d40bda552ad3d49262.bindPopup(popup_b898dd69d62585b3f49ac83fc241a151)\n",
       "        ;\n",
       "\n",
       "        \n",
       "    \n",
       "    \n",
       "            var marker_b0b65955f81501732cbd37ee21e0b89c = L.marker(\n",
       "                [-15.877661139468985, -48.00206983803816],\n",
       "                {}\n",
       "            ).addTo(map_405b717e66835aa95fe0f40b638364be);\n",
       "        \n",
       "    \n",
       "        var popup_078dd9076cbffc1e736b394688c9b5f0 = L.popup({&quot;maxWidth&quot;: &quot;100%&quot;});\n",
       "\n",
       "        \n",
       "            \n",
       "                var html_e1049de33a48ea9d03d63468ccaf8b6d = $(`&lt;div id=&quot;html_e1049de33a48ea9d03d63468ccaf8b6d&quot; style=&quot;width: 100.0%; height: 100.0%;&quot;&gt;4028&lt;/div&gt;`)[0];\n",
       "                popup_078dd9076cbffc1e736b394688c9b5f0.setContent(html_e1049de33a48ea9d03d63468ccaf8b6d);\n",
       "            \n",
       "        \n",
       "\n",
       "        marker_b0b65955f81501732cbd37ee21e0b89c.bindPopup(popup_078dd9076cbffc1e736b394688c9b5f0)\n",
       "        ;\n",
       "\n",
       "        \n",
       "    \n",
       "    \n",
       "            var marker_9ba946cdb3ef6fd21a145a5c24a65190 = L.marker(\n",
       "                [-15.877232176663743, -47.997782177170706],\n",
       "                {}\n",
       "            ).addTo(map_405b717e66835aa95fe0f40b638364be);\n",
       "        \n",
       "    \n",
       "        var popup_a864a13a13c2ec5a1331e41ede7b727d = L.popup({&quot;maxWidth&quot;: &quot;100%&quot;});\n",
       "\n",
       "        \n",
       "            \n",
       "                var html_e22b7fc430207cf50c4c4b11fa827791 = $(`&lt;div id=&quot;html_e22b7fc430207cf50c4c4b11fa827791&quot; style=&quot;width: 100.0%; height: 100.0%;&quot;&gt;6051&lt;/div&gt;`)[0];\n",
       "                popup_a864a13a13c2ec5a1331e41ede7b727d.setContent(html_e22b7fc430207cf50c4c4b11fa827791);\n",
       "            \n",
       "        \n",
       "\n",
       "        marker_9ba946cdb3ef6fd21a145a5c24a65190.bindPopup(popup_a864a13a13c2ec5a1331e41ede7b727d)\n",
       "        ;\n",
       "\n",
       "        \n",
       "    \n",
       "    \n",
       "            var marker_a5c12e0813775fcffffb842b4c37917f = L.marker(\n",
       "                [-15.868950341304968, -47.96971542650532],\n",
       "                {}\n",
       "            ).addTo(map_405b717e66835aa95fe0f40b638364be);\n",
       "        \n",
       "    \n",
       "        var popup_8841ee0624d21ed0aa061eea479dcbd4 = L.popup({&quot;maxWidth&quot;: &quot;100%&quot;});\n",
       "\n",
       "        \n",
       "            \n",
       "                var html_f4530cee5ce8611beb0d07986f313626 = $(`&lt;div id=&quot;html_f4530cee5ce8611beb0d07986f313626&quot; style=&quot;width: 100.0%; height: 100.0%;&quot;&gt;6055&lt;/div&gt;`)[0];\n",
       "                popup_8841ee0624d21ed0aa061eea479dcbd4.setContent(html_f4530cee5ce8611beb0d07986f313626);\n",
       "            \n",
       "        \n",
       "\n",
       "        marker_a5c12e0813775fcffffb842b4c37917f.bindPopup(popup_8841ee0624d21ed0aa061eea479dcbd4)\n",
       "        ;\n",
       "\n",
       "        \n",
       "    \n",
       "    \n",
       "            var marker_a14fa305510db42d9142930f5c393a7c = L.marker(\n",
       "                [-15.923732177932882, -48.10436178761736],\n",
       "                {}\n",
       "            ).addTo(map_405b717e66835aa95fe0f40b638364be);\n",
       "        \n",
       "    \n",
       "        var popup_24a974e18f25b764f6f448297ec5b333 = L.popup({&quot;maxWidth&quot;: &quot;100%&quot;});\n",
       "\n",
       "        \n",
       "            \n",
       "                var html_5afcf7ac62f5a04b596344178f25d42e = $(`&lt;div id=&quot;html_5afcf7ac62f5a04b596344178f25d42e&quot; style=&quot;width: 100.0%; height: 100.0%;&quot;&gt;3893&lt;/div&gt;`)[0];\n",
       "                popup_24a974e18f25b764f6f448297ec5b333.setContent(html_5afcf7ac62f5a04b596344178f25d42e);\n",
       "            \n",
       "        \n",
       "\n",
       "        marker_a14fa305510db42d9142930f5c393a7c.bindPopup(popup_24a974e18f25b764f6f448297ec5b333)\n",
       "        ;\n",
       "\n",
       "        \n",
       "    \n",
       "    \n",
       "            var marker_609342e4c0e30f92fb12a828a28aba98 = L.marker(\n",
       "                [-15.921286375823692, -48.10301513885338],\n",
       "                {}\n",
       "            ).addTo(map_405b717e66835aa95fe0f40b638364be);\n",
       "        \n",
       "    \n",
       "        var popup_e4ae916b027893fc3f2aca9fff364c62 = L.popup({&quot;maxWidth&quot;: &quot;100%&quot;});\n",
       "\n",
       "        \n",
       "            \n",
       "                var html_9d6acc29126d463129956ab0d2cc4c54 = $(`&lt;div id=&quot;html_9d6acc29126d463129956ab0d2cc4c54&quot; style=&quot;width: 100.0%; height: 100.0%;&quot;&gt;3894&lt;/div&gt;`)[0];\n",
       "                popup_e4ae916b027893fc3f2aca9fff364c62.setContent(html_9d6acc29126d463129956ab0d2cc4c54);\n",
       "            \n",
       "        \n",
       "\n",
       "        marker_609342e4c0e30f92fb12a828a28aba98.bindPopup(popup_e4ae916b027893fc3f2aca9fff364c62)\n",
       "        ;\n",
       "\n",
       "        \n",
       "    \n",
       "    \n",
       "            var marker_335ecda20dc6574ceca3a9c6a915dd1a = L.marker(\n",
       "                [-15.91878145395848, -48.101702426843005],\n",
       "                {}\n",
       "            ).addTo(map_405b717e66835aa95fe0f40b638364be);\n",
       "        \n",
       "    \n",
       "        var popup_4bff6fd40472a219a11dc2d1eb7cee85 = L.popup({&quot;maxWidth&quot;: &quot;100%&quot;});\n",
       "\n",
       "        \n",
       "            \n",
       "                var html_1c9aa277020fe8b2736f06a4be4aac26 = $(`&lt;div id=&quot;html_1c9aa277020fe8b2736f06a4be4aac26&quot; style=&quot;width: 100.0%; height: 100.0%;&quot;&gt;3895&lt;/div&gt;`)[0];\n",
       "                popup_4bff6fd40472a219a11dc2d1eb7cee85.setContent(html_1c9aa277020fe8b2736f06a4be4aac26);\n",
       "            \n",
       "        \n",
       "\n",
       "        marker_335ecda20dc6574ceca3a9c6a915dd1a.bindPopup(popup_4bff6fd40472a219a11dc2d1eb7cee85)\n",
       "        ;\n",
       "\n",
       "        \n",
       "    \n",
       "    \n",
       "            var marker_f982a85f1d0fb20be5ff21322ef643ea = L.marker(\n",
       "                [-15.916169945218833, -48.099503742472415],\n",
       "                {}\n",
       "            ).addTo(map_405b717e66835aa95fe0f40b638364be);\n",
       "        \n",
       "    \n",
       "        var popup_958c09e4dcac4f2575bfef6098168eae = L.popup({&quot;maxWidth&quot;: &quot;100%&quot;});\n",
       "\n",
       "        \n",
       "            \n",
       "                var html_592473c224a2e5ea5d9c6497ef625bd2 = $(`&lt;div id=&quot;html_592473c224a2e5ea5d9c6497ef625bd2&quot; style=&quot;width: 100.0%; height: 100.0%;&quot;&gt;3896&lt;/div&gt;`)[0];\n",
       "                popup_958c09e4dcac4f2575bfef6098168eae.setContent(html_592473c224a2e5ea5d9c6497ef625bd2);\n",
       "            \n",
       "        \n",
       "\n",
       "        marker_f982a85f1d0fb20be5ff21322ef643ea.bindPopup(popup_958c09e4dcac4f2575bfef6098168eae)\n",
       "        ;\n",
       "\n",
       "        \n",
       "    \n",
       "    \n",
       "            var marker_be0e3a6fc1d558f4ac9d3011bc188374 = L.marker(\n",
       "                [-15.853222773929913, -47.954938640960606],\n",
       "                {}\n",
       "            ).addTo(map_405b717e66835aa95fe0f40b638364be);\n",
       "        \n",
       "    \n",
       "        var popup_fa738cf516d1df2dfe2f9d52bb21d3a4 = L.popup({&quot;maxWidth&quot;: &quot;100%&quot;});\n",
       "\n",
       "        \n",
       "            \n",
       "                var html_703bbc53a47df8b23fb0e2e7078d7b26 = $(`&lt;div id=&quot;html_703bbc53a47df8b23fb0e2e7078d7b26&quot; style=&quot;width: 100.0%; height: 100.0%;&quot;&gt;1235&lt;/div&gt;`)[0];\n",
       "                popup_fa738cf516d1df2dfe2f9d52bb21d3a4.setContent(html_703bbc53a47df8b23fb0e2e7078d7b26);\n",
       "            \n",
       "        \n",
       "\n",
       "        marker_be0e3a6fc1d558f4ac9d3011bc188374.bindPopup(popup_fa738cf516d1df2dfe2f9d52bb21d3a4)\n",
       "        ;\n",
       "\n",
       "        \n",
       "    \n",
       "    \n",
       "            var marker_f6acc02d0bfaedef7450687dff421ade = L.marker(\n",
       "                [-15.852580454517865, -47.95501218125944],\n",
       "                {}\n",
       "            ).addTo(map_405b717e66835aa95fe0f40b638364be);\n",
       "        \n",
       "    \n",
       "        var popup_235a9eb4481317001c1fbb2161ce4421 = L.popup({&quot;maxWidth&quot;: &quot;100%&quot;});\n",
       "\n",
       "        \n",
       "            \n",
       "                var html_57df0aeb27d908070a4602030ff5148b = $(`&lt;div id=&quot;html_57df0aeb27d908070a4602030ff5148b&quot; style=&quot;width: 100.0%; height: 100.0%;&quot;&gt;1236&lt;/div&gt;`)[0];\n",
       "                popup_235a9eb4481317001c1fbb2161ce4421.setContent(html_57df0aeb27d908070a4602030ff5148b);\n",
       "            \n",
       "        \n",
       "\n",
       "        marker_f6acc02d0bfaedef7450687dff421ade.bindPopup(popup_235a9eb4481317001c1fbb2161ce4421)\n",
       "        ;\n",
       "\n",
       "        \n",
       "    \n",
       "    \n",
       "            var marker_c8e9573637467cb082b585ce7ec2e5fc = L.marker(\n",
       "                [-15.905765859448325, -48.07850522929963],\n",
       "                {}\n",
       "            ).addTo(map_405b717e66835aa95fe0f40b638364be);\n",
       "        \n",
       "    \n",
       "        var popup_b9430b47bb7a34effbde822a989e9b6c = L.popup({&quot;maxWidth&quot;: &quot;100%&quot;});\n",
       "\n",
       "        \n",
       "            \n",
       "                var html_1803f3606d03e7ef3ce107e911d78009 = $(`&lt;div id=&quot;html_1803f3606d03e7ef3ce107e911d78009&quot; style=&quot;width: 100.0%; height: 100.0%;&quot;&gt;3903&lt;/div&gt;`)[0];\n",
       "                popup_b9430b47bb7a34effbde822a989e9b6c.setContent(html_1803f3606d03e7ef3ce107e911d78009);\n",
       "            \n",
       "        \n",
       "\n",
       "        marker_c8e9573637467cb082b585ce7ec2e5fc.bindPopup(popup_b9430b47bb7a34effbde822a989e9b6c)\n",
       "        ;\n",
       "\n",
       "        \n",
       "    \n",
       "    \n",
       "            var marker_0fa1ddd8e95d38d3d72b261d73310b7d = L.marker(\n",
       "                [-15.903887039812487, -48.07138779205818],\n",
       "                {}\n",
       "            ).addTo(map_405b717e66835aa95fe0f40b638364be);\n",
       "        \n",
       "    \n",
       "        var popup_05387ae7329cc99e8f6ca9fafa7f6125 = L.popup({&quot;maxWidth&quot;: &quot;100%&quot;});\n",
       "\n",
       "        \n",
       "            \n",
       "                var html_2232a45bd2568e61423f7e36ba1c3dba = $(`&lt;div id=&quot;html_2232a45bd2568e61423f7e36ba1c3dba&quot; style=&quot;width: 100.0%; height: 100.0%;&quot;&gt;3905&lt;/div&gt;`)[0];\n",
       "                popup_05387ae7329cc99e8f6ca9fafa7f6125.setContent(html_2232a45bd2568e61423f7e36ba1c3dba);\n",
       "            \n",
       "        \n",
       "\n",
       "        marker_0fa1ddd8e95d38d3d72b261d73310b7d.bindPopup(popup_05387ae7329cc99e8f6ca9fafa7f6125)\n",
       "        ;\n",
       "\n",
       "        \n",
       "    \n",
       "    \n",
       "            var marker_0b30266f4699e5c8da66034f261b1f64 = L.marker(\n",
       "                [-15.90475134526757, -48.075263090432585],\n",
       "                {}\n",
       "            ).addTo(map_405b717e66835aa95fe0f40b638364be);\n",
       "        \n",
       "    \n",
       "        var popup_9b99ae3e821091bfe3962f4a045e5071 = L.popup({&quot;maxWidth&quot;: &quot;100%&quot;});\n",
       "\n",
       "        \n",
       "            \n",
       "                var html_cd5717c430f9cd29af2d2cab3ea2c783 = $(`&lt;div id=&quot;html_cd5717c430f9cd29af2d2cab3ea2c783&quot; style=&quot;width: 100.0%; height: 100.0%;&quot;&gt;3904&lt;/div&gt;`)[0];\n",
       "                popup_9b99ae3e821091bfe3962f4a045e5071.setContent(html_cd5717c430f9cd29af2d2cab3ea2c783);\n",
       "            \n",
       "        \n",
       "\n",
       "        marker_0b30266f4699e5c8da66034f261b1f64.bindPopup(popup_9b99ae3e821091bfe3962f4a045e5071)\n",
       "        ;\n",
       "\n",
       "        \n",
       "    \n",
       "    \n",
       "            var marker_cbbb8fe0d8416428cdb1ac60bd24d6d5 = L.marker(\n",
       "                [-15.871570983237856, -47.97481788694283],\n",
       "                {}\n",
       "            ).addTo(map_405b717e66835aa95fe0f40b638364be);\n",
       "        \n",
       "    \n",
       "        var popup_0468e421b8a5cf30ced02f19eb6ed744 = L.popup({&quot;maxWidth&quot;: &quot;100%&quot;});\n",
       "\n",
       "        \n",
       "            \n",
       "                var html_fb374959fa457d1feb5d2ee11f8cc0ce = $(`&lt;div id=&quot;html_fb374959fa457d1feb5d2ee11f8cc0ce&quot; style=&quot;width: 100.0%; height: 100.0%;&quot;&gt;6054&lt;/div&gt;`)[0];\n",
       "                popup_0468e421b8a5cf30ced02f19eb6ed744.setContent(html_fb374959fa457d1feb5d2ee11f8cc0ce);\n",
       "            \n",
       "        \n",
       "\n",
       "        marker_cbbb8fe0d8416428cdb1ac60bd24d6d5.bindPopup(popup_0468e421b8a5cf30ced02f19eb6ed744)\n",
       "        ;\n",
       "\n",
       "        \n",
       "    \n",
       "    \n",
       "            var marker_2e2297bb0a8ac0e95f555137f4a23695 = L.marker(\n",
       "                [-15.9289187416444, -48.10868894292837],\n",
       "                {}\n",
       "            ).addTo(map_405b717e66835aa95fe0f40b638364be);\n",
       "        \n",
       "    \n",
       "        var popup_4716613aacdce25106213c0ffdb6b6c1 = L.popup({&quot;maxWidth&quot;: &quot;100%&quot;});\n",
       "\n",
       "        \n",
       "            \n",
       "                var html_ca7e6fd56ad6615d1adbb0ed13057422 = $(`&lt;div id=&quot;html_ca7e6fd56ad6615d1adbb0ed13057422&quot; style=&quot;width: 100.0%; height: 100.0%;&quot;&gt;3891&lt;/div&gt;`)[0];\n",
       "                popup_4716613aacdce25106213c0ffdb6b6c1.setContent(html_ca7e6fd56ad6615d1adbb0ed13057422);\n",
       "            \n",
       "        \n",
       "\n",
       "        marker_2e2297bb0a8ac0e95f555137f4a23695.bindPopup(popup_4716613aacdce25106213c0ffdb6b6c1)\n",
       "        ;\n",
       "\n",
       "        \n",
       "    \n",
       "    \n",
       "            var marker_286fff17185dea6ef9e1b64f998a0fa0 = L.marker(\n",
       "                [-15.926671447944107, -48.10656869744007],\n",
       "                {}\n",
       "            ).addTo(map_405b717e66835aa95fe0f40b638364be);\n",
       "        \n",
       "    \n",
       "        var popup_0e0f83f38c03713eba7eeb598427c4ba = L.popup({&quot;maxWidth&quot;: &quot;100%&quot;});\n",
       "\n",
       "        \n",
       "            \n",
       "                var html_b44d35f85d472f87dd06df9209bbe797 = $(`&lt;div id=&quot;html_b44d35f85d472f87dd06df9209bbe797&quot; style=&quot;width: 100.0%; height: 100.0%;&quot;&gt;3892&lt;/div&gt;`)[0];\n",
       "                popup_0e0f83f38c03713eba7eeb598427c4ba.setContent(html_b44d35f85d472f87dd06df9209bbe797);\n",
       "            \n",
       "        \n",
       "\n",
       "        marker_286fff17185dea6ef9e1b64f998a0fa0.bindPopup(popup_0e0f83f38c03713eba7eeb598427c4ba)\n",
       "        ;\n",
       "\n",
       "        \n",
       "    \n",
       "    \n",
       "            var marker_94d1e8000c91ba64bcbed99ce4d2d864 = L.marker(\n",
       "                [-15.898733, -48.054869],\n",
       "                {}\n",
       "            ).addTo(map_405b717e66835aa95fe0f40b638364be);\n",
       "        \n",
       "    \n",
       "        var popup_b3457b3ed4d9916410e24c43a1d79a92 = L.popup({&quot;maxWidth&quot;: &quot;100%&quot;});\n",
       "\n",
       "        \n",
       "            \n",
       "                var html_3343f842ff901b2a166f726a2041b21f = $(`&lt;div id=&quot;html_3343f842ff901b2a166f726a2041b21f&quot; style=&quot;width: 100.0%; height: 100.0%;&quot;&gt;7918&lt;/div&gt;`)[0];\n",
       "                popup_b3457b3ed4d9916410e24c43a1d79a92.setContent(html_3343f842ff901b2a166f726a2041b21f);\n",
       "            \n",
       "        \n",
       "\n",
       "        marker_94d1e8000c91ba64bcbed99ce4d2d864.bindPopup(popup_b3457b3ed4d9916410e24c43a1d79a92)\n",
       "        ;\n",
       "\n",
       "        \n",
       "    \n",
       "    \n",
       "            var marker_1b2f165655726f04f46d0c6eee66c6f0 = L.marker(\n",
       "                [-15.898733, -48.054869],\n",
       "                {}\n",
       "            ).addTo(map_405b717e66835aa95fe0f40b638364be);\n",
       "        \n",
       "    \n",
       "        var popup_e79c6bbe75824780a034656fe67103b4 = L.popup({&quot;maxWidth&quot;: &quot;100%&quot;});\n",
       "\n",
       "        \n",
       "            \n",
       "                var html_b3712e9459bcf14f0da044d3c090caba = $(`&lt;div id=&quot;html_b3712e9459bcf14f0da044d3c090caba&quot; style=&quot;width: 100.0%; height: 100.0%;&quot;&gt;7919&lt;/div&gt;`)[0];\n",
       "                popup_e79c6bbe75824780a034656fe67103b4.setContent(html_b3712e9459bcf14f0da044d3c090caba);\n",
       "            \n",
       "        \n",
       "\n",
       "        marker_1b2f165655726f04f46d0c6eee66c6f0.bindPopup(popup_e79c6bbe75824780a034656fe67103b4)\n",
       "        ;\n",
       "\n",
       "        \n",
       "    \n",
       "    \n",
       "            var marker_1fdcc563ebdbbf5cdda38ff82496a55c = L.marker(\n",
       "                [-15.898733, -48.054869],\n",
       "                {}\n",
       "            ).addTo(map_405b717e66835aa95fe0f40b638364be);\n",
       "        \n",
       "    \n",
       "        var popup_c7f5fb294021b6d4289f5c91c1b74a1d = L.popup({&quot;maxWidth&quot;: &quot;100%&quot;});\n",
       "\n",
       "        \n",
       "            \n",
       "                var html_1d6543436ec4d719e34a68eabb7d79d6 = $(`&lt;div id=&quot;html_1d6543436ec4d719e34a68eabb7d79d6&quot; style=&quot;width: 100.0%; height: 100.0%;&quot;&gt;7920&lt;/div&gt;`)[0];\n",
       "                popup_c7f5fb294021b6d4289f5c91c1b74a1d.setContent(html_1d6543436ec4d719e34a68eabb7d79d6);\n",
       "            \n",
       "        \n",
       "\n",
       "        marker_1fdcc563ebdbbf5cdda38ff82496a55c.bindPopup(popup_c7f5fb294021b6d4289f5c91c1b74a1d)\n",
       "        ;\n",
       "\n",
       "        \n",
       "    \n",
       "    \n",
       "            var marker_9efcd1d24493e7ec6702d575025198b4 = L.marker(\n",
       "                [-15.898709949993485, -48.05487915994132],\n",
       "                {}\n",
       "            ).addTo(map_405b717e66835aa95fe0f40b638364be);\n",
       "        \n",
       "    \n",
       "        var popup_7da67551226a5aa47daf6d38c809182e = L.popup({&quot;maxWidth&quot;: &quot;100%&quot;});\n",
       "\n",
       "        \n",
       "            \n",
       "                var html_30271c31c661775060ec9cd39bff3951 = $(`&lt;div id=&quot;html_30271c31c661775060ec9cd39bff3951&quot; style=&quot;width: 100.0%; height: 100.0%;&quot;&gt;3822&lt;/div&gt;`)[0];\n",
       "                popup_7da67551226a5aa47daf6d38c809182e.setContent(html_30271c31c661775060ec9cd39bff3951);\n",
       "            \n",
       "        \n",
       "\n",
       "        marker_9efcd1d24493e7ec6702d575025198b4.bindPopup(popup_7da67551226a5aa47daf6d38c809182e)\n",
       "        ;\n",
       "\n",
       "        \n",
       "    \n",
       "    \n",
       "            var marker_dee7a9c1a99ca04b45cc982fd3c300aa = L.marker(\n",
       "                [-15.87546998873825, -48.033746649855836],\n",
       "                {}\n",
       "            ).addTo(map_405b717e66835aa95fe0f40b638364be);\n",
       "        \n",
       "    \n",
       "        var popup_3d8ec45e18c35822a4c38713f9e20581 = L.popup({&quot;maxWidth&quot;: &quot;100%&quot;});\n",
       "\n",
       "        \n",
       "            \n",
       "                var html_c221d5d6a3c4648304aa814d4bcd9695 = $(`&lt;div id=&quot;html_c221d5d6a3c4648304aa814d4bcd9695&quot; style=&quot;width: 100.0%; height: 100.0%;&quot;&gt;4021&lt;/div&gt;`)[0];\n",
       "                popup_3d8ec45e18c35822a4c38713f9e20581.setContent(html_c221d5d6a3c4648304aa814d4bcd9695);\n",
       "            \n",
       "        \n",
       "\n",
       "        marker_dee7a9c1a99ca04b45cc982fd3c300aa.bindPopup(popup_3d8ec45e18c35822a4c38713f9e20581)\n",
       "        ;\n",
       "\n",
       "        \n",
       "    \n",
       "    \n",
       "            var marker_47de76ac91db0bcf7856f1e4344a7493 = L.marker(\n",
       "                [-15.876096193611582, -48.02930795061011],\n",
       "                {}\n",
       "            ).addTo(map_405b717e66835aa95fe0f40b638364be);\n",
       "        \n",
       "    \n",
       "        var popup_708e96da7b9ef2968f32c21d37e51915 = L.popup({&quot;maxWidth&quot;: &quot;100%&quot;});\n",
       "\n",
       "        \n",
       "            \n",
       "                var html_8ed6e106d55f133308b703ceca9f7af8 = $(`&lt;div id=&quot;html_8ed6e106d55f133308b703ceca9f7af8&quot; style=&quot;width: 100.0%; height: 100.0%;&quot;&gt;4022&lt;/div&gt;`)[0];\n",
       "                popup_708e96da7b9ef2968f32c21d37e51915.setContent(html_8ed6e106d55f133308b703ceca9f7af8);\n",
       "            \n",
       "        \n",
       "\n",
       "        marker_47de76ac91db0bcf7856f1e4344a7493.bindPopup(popup_708e96da7b9ef2968f32c21d37e51915)\n",
       "        ;\n",
       "\n",
       "        \n",
       "    \n",
       "    \n",
       "            var marker_e9ace455c320516d114615a9b576e89e = L.marker(\n",
       "                [-15.876390893268065, -47.98769511151485],\n",
       "                {}\n",
       "            ).addTo(map_405b717e66835aa95fe0f40b638364be);\n",
       "        \n",
       "    \n",
       "        var popup_5ef90f9bb7bc3c413abe987de8e20197 = L.popup({&quot;maxWidth&quot;: &quot;100%&quot;});\n",
       "\n",
       "        \n",
       "            \n",
       "                var html_c2c68241925ad21e5a49681cc739d7e2 = $(`&lt;div id=&quot;html_c2c68241925ad21e5a49681cc739d7e2&quot; style=&quot;width: 100.0%; height: 100.0%;&quot;&gt;6063&lt;/div&gt;`)[0];\n",
       "                popup_5ef90f9bb7bc3c413abe987de8e20197.setContent(html_c2c68241925ad21e5a49681cc739d7e2);\n",
       "            \n",
       "        \n",
       "\n",
       "        marker_e9ace455c320516d114615a9b576e89e.bindPopup(popup_5ef90f9bb7bc3c413abe987de8e20197)\n",
       "        ;\n",
       "\n",
       "        \n",
       "    \n",
       "    \n",
       "            var marker_dc5a5eb0628195237c60da2d819fbbf8 = L.marker(\n",
       "                [-15.876755940977297, -47.99203008744984],\n",
       "                {}\n",
       "            ).addTo(map_405b717e66835aa95fe0f40b638364be);\n",
       "        \n",
       "    \n",
       "        var popup_5c88237600607eb5cefe0504e75ed7b8 = L.popup({&quot;maxWidth&quot;: &quot;100%&quot;});\n",
       "\n",
       "        \n",
       "            \n",
       "                var html_568523cd3c1b0febee7aaf87a899fb95 = $(`&lt;div id=&quot;html_568523cd3c1b0febee7aaf87a899fb95&quot; style=&quot;width: 100.0%; height: 100.0%;&quot;&gt;6052&lt;/div&gt;`)[0];\n",
       "                popup_5c88237600607eb5cefe0504e75ed7b8.setContent(html_568523cd3c1b0febee7aaf87a899fb95);\n",
       "            \n",
       "        \n",
       "\n",
       "        marker_dc5a5eb0628195237c60da2d819fbbf8.bindPopup(popup_5c88237600607eb5cefe0504e75ed7b8)\n",
       "        ;\n",
       "\n",
       "        \n",
       "    \n",
       "    \n",
       "            var marker_e03cedf7e35f350adc682457a9b6fc4f = L.marker(\n",
       "                [-15.876014476321995, -47.98426659742092],\n",
       "                {}\n",
       "            ).addTo(map_405b717e66835aa95fe0f40b638364be);\n",
       "        \n",
       "    \n",
       "        var popup_cdd135b1e9e5aef7d0525bf81a340935 = L.popup({&quot;maxWidth&quot;: &quot;100%&quot;});\n",
       "\n",
       "        \n",
       "            \n",
       "                var html_0290e8f891404fce93b5486f9b0b5be1 = $(`&lt;div id=&quot;html_0290e8f891404fce93b5486f9b0b5be1&quot; style=&quot;width: 100.0%; height: 100.0%;&quot;&gt;6053&lt;/div&gt;`)[0];\n",
       "                popup_cdd135b1e9e5aef7d0525bf81a340935.setContent(html_0290e8f891404fce93b5486f9b0b5be1);\n",
       "            \n",
       "        \n",
       "\n",
       "        marker_e03cedf7e35f350adc682457a9b6fc4f.bindPopup(popup_cdd135b1e9e5aef7d0525bf81a340935)\n",
       "        ;\n",
       "\n",
       "        \n",
       "    \n",
       "    \n",
       "            var marker_decd23377e9e2f29fc2e90f84351908c = L.marker(\n",
       "                [-15.911888999999992, -48.094153],\n",
       "                {}\n",
       "            ).addTo(map_405b717e66835aa95fe0f40b638364be);\n",
       "        \n",
       "    \n",
       "        var popup_dc5ab1468dfb47c5d7fb06d767353360 = L.popup({&quot;maxWidth&quot;: &quot;100%&quot;});\n",
       "\n",
       "        \n",
       "            \n",
       "                var html_3e17244ae3ad28207fcafb38e6195cae = $(`&lt;div id=&quot;html_3e17244ae3ad28207fcafb38e6195cae&quot; style=&quot;width: 100.0%; height: 100.0%;&quot;&gt;7865&lt;/div&gt;`)[0];\n",
       "                popup_dc5ab1468dfb47c5d7fb06d767353360.setContent(html_3e17244ae3ad28207fcafb38e6195cae);\n",
       "            \n",
       "        \n",
       "\n",
       "        marker_decd23377e9e2f29fc2e90f84351908c.bindPopup(popup_dc5ab1468dfb47c5d7fb06d767353360)\n",
       "        ;\n",
       "\n",
       "        \n",
       "    \n",
       "    \n",
       "            var marker_3d7e14bbe514f1322a02934d216c7ab1 = L.marker(\n",
       "                [-15.911841259651768, -48.09406068191614],\n",
       "                {}\n",
       "            ).addTo(map_405b717e66835aa95fe0f40b638364be);\n",
       "        \n",
       "    \n",
       "        var popup_b20e455273fd5a128cd4f1ed1aa018c4 = L.popup({&quot;maxWidth&quot;: &quot;100%&quot;});\n",
       "\n",
       "        \n",
       "            \n",
       "                var html_9e3032ada1dd7a60e6aa5e607c1d01a1 = $(`&lt;div id=&quot;html_9e3032ada1dd7a60e6aa5e607c1d01a1&quot; style=&quot;width: 100.0%; height: 100.0%;&quot;&gt;3898&lt;/div&gt;`)[0];\n",
       "                popup_b20e455273fd5a128cd4f1ed1aa018c4.setContent(html_9e3032ada1dd7a60e6aa5e607c1d01a1);\n",
       "            \n",
       "        \n",
       "\n",
       "        marker_3d7e14bbe514f1322a02934d216c7ab1.bindPopup(popup_b20e455273fd5a128cd4f1ed1aa018c4)\n",
       "        ;\n",
       "\n",
       "        \n",
       "    \n",
       "    \n",
       "            var marker_24415ba0cc0ae711a5c05ad764d026b4 = L.marker(\n",
       "                [-15.914083, -48.097389],\n",
       "                {}\n",
       "            ).addTo(map_405b717e66835aa95fe0f40b638364be);\n",
       "        \n",
       "    \n",
       "        var popup_eb0b2fca0c24115ab911d8230ac6f7dd = L.popup({&quot;maxWidth&quot;: &quot;100%&quot;});\n",
       "\n",
       "        \n",
       "            \n",
       "                var html_16079d9438e18bd86af48096b0d984f6 = $(`&lt;div id=&quot;html_16079d9438e18bd86af48096b0d984f6&quot; style=&quot;width: 100.0%; height: 100.0%;&quot;&gt;8015&lt;/div&gt;`)[0];\n",
       "                popup_eb0b2fca0c24115ab911d8230ac6f7dd.setContent(html_16079d9438e18bd86af48096b0d984f6);\n",
       "            \n",
       "        \n",
       "\n",
       "        marker_24415ba0cc0ae711a5c05ad764d026b4.bindPopup(popup_eb0b2fca0c24115ab911d8230ac6f7dd)\n",
       "        ;\n",
       "\n",
       "        \n",
       "    \n",
       "    \n",
       "            var marker_40dde5621dd679cf54952806de7aee43 = L.marker(\n",
       "                [-15.914072908245076, -48.09714676060153],\n",
       "                {}\n",
       "            ).addTo(map_405b717e66835aa95fe0f40b638364be);\n",
       "        \n",
       "    \n",
       "        var popup_e08239937a543aa2bd6caa4e57f0d24d = L.popup({&quot;maxWidth&quot;: &quot;100%&quot;});\n",
       "\n",
       "        \n",
       "            \n",
       "                var html_acd569fd57fc09e7ccec33bc0753c1de = $(`&lt;div id=&quot;html_acd569fd57fc09e7ccec33bc0753c1de&quot; style=&quot;width: 100.0%; height: 100.0%;&quot;&gt;3897&lt;/div&gt;`)[0];\n",
       "                popup_e08239937a543aa2bd6caa4e57f0d24d.setContent(html_acd569fd57fc09e7ccec33bc0753c1de);\n",
       "            \n",
       "        \n",
       "\n",
       "        marker_40dde5621dd679cf54952806de7aee43.bindPopup(popup_e08239937a543aa2bd6caa4e57f0d24d)\n",
       "        ;\n",
       "\n",
       "        \n",
       "    \n",
       "    \n",
       "            var marker_75ed8820bcdd7542d19d391f8682f952 = L.marker(\n",
       "                [-15.876264185865082, -48.04798756342396],\n",
       "                {}\n",
       "            ).addTo(map_405b717e66835aa95fe0f40b638364be);\n",
       "        \n",
       "    \n",
       "        var popup_dcf7792bed6a4d262f0b2850a5df5ec4 = L.popup({&quot;maxWidth&quot;: &quot;100%&quot;});\n",
       "\n",
       "        \n",
       "            \n",
       "                var html_7a01306a1f0903a27c50e963b680d162 = $(`&lt;div id=&quot;html_7a01306a1f0903a27c50e963b680d162&quot; style=&quot;width: 100.0%; height: 100.0%;&quot;&gt;4018&lt;/div&gt;`)[0];\n",
       "                popup_dcf7792bed6a4d262f0b2850a5df5ec4.setContent(html_7a01306a1f0903a27c50e963b680d162);\n",
       "            \n",
       "        \n",
       "\n",
       "        marker_75ed8820bcdd7542d19d391f8682f952.bindPopup(popup_dcf7792bed6a4d262f0b2850a5df5ec4)\n",
       "        ;\n",
       "\n",
       "        \n",
       "    \n",
       "    \n",
       "            var marker_8258e409beb0d8109765f8ef4ca4e816 = L.marker(\n",
       "                [-15.874655767236849, -48.0394544647222],\n",
       "                {}\n",
       "            ).addTo(map_405b717e66835aa95fe0f40b638364be);\n",
       "        \n",
       "    \n",
       "        var popup_ceb1865f7d7b9d5984ce83c33bc7085a = L.popup({&quot;maxWidth&quot;: &quot;100%&quot;});\n",
       "\n",
       "        \n",
       "            \n",
       "                var html_35ec1e3e2abdfb48866c2875ee166bff = $(`&lt;div id=&quot;html_35ec1e3e2abdfb48866c2875ee166bff&quot; style=&quot;width: 100.0%; height: 100.0%;&quot;&gt;5391&lt;/div&gt;`)[0];\n",
       "                popup_ceb1865f7d7b9d5984ce83c33bc7085a.setContent(html_35ec1e3e2abdfb48866c2875ee166bff);\n",
       "            \n",
       "        \n",
       "\n",
       "        marker_8258e409beb0d8109765f8ef4ca4e816.bindPopup(popup_ceb1865f7d7b9d5984ce83c33bc7085a)\n",
       "        ;\n",
       "\n",
       "        \n",
       "    \n",
       "    \n",
       "            var marker_361c80b8e914d62aa28a002f678796a8 = L.marker(\n",
       "                [-15.874219321801254, -48.04365980236096],\n",
       "                {}\n",
       "            ).addTo(map_405b717e66835aa95fe0f40b638364be);\n",
       "        \n",
       "    \n",
       "        var popup_bbc9ce7dd791e00f21a2be5878748ca5 = L.popup({&quot;maxWidth&quot;: &quot;100%&quot;});\n",
       "\n",
       "        \n",
       "            \n",
       "                var html_4f61315f04df4b654fa58963eedb6920 = $(`&lt;div id=&quot;html_4f61315f04df4b654fa58963eedb6920&quot; style=&quot;width: 100.0%; height: 100.0%;&quot;&gt;4019&lt;/div&gt;`)[0];\n",
       "                popup_bbc9ce7dd791e00f21a2be5878748ca5.setContent(html_4f61315f04df4b654fa58963eedb6920);\n",
       "            \n",
       "        \n",
       "\n",
       "        marker_361c80b8e914d62aa28a002f678796a8.bindPopup(popup_bbc9ce7dd791e00f21a2be5878748ca5)\n",
       "        ;\n",
       "\n",
       "        \n",
       "    \n",
       "    \n",
       "            var marker_56f74accaf15f7f490b1fda0c9b84b5e = L.marker(\n",
       "                [-15.90659112552102, -48.08117391153368],\n",
       "                {}\n",
       "            ).addTo(map_405b717e66835aa95fe0f40b638364be);\n",
       "        \n",
       "    \n",
       "        var popup_64435abadfbfa2c0b4ce4331cbf2ee03 = L.popup({&quot;maxWidth&quot;: &quot;100%&quot;});\n",
       "\n",
       "        \n",
       "            \n",
       "                var html_6af070834d5336c06a9cfab101ef8db6 = $(`&lt;div id=&quot;html_6af070834d5336c06a9cfab101ef8db6&quot; style=&quot;width: 100.0%; height: 100.0%;&quot;&gt;3902&lt;/div&gt;`)[0];\n",
       "                popup_64435abadfbfa2c0b4ce4331cbf2ee03.setContent(html_6af070834d5336c06a9cfab101ef8db6);\n",
       "            \n",
       "        \n",
       "\n",
       "        marker_56f74accaf15f7f490b1fda0c9b84b5e.bindPopup(popup_64435abadfbfa2c0b4ce4331cbf2ee03)\n",
       "        ;\n",
       "\n",
       "        \n",
       "    \n",
       "    \n",
       "            var marker_7e7ee2d645539abdfbda7e4844ce99b2 = L.marker(\n",
       "                [-15.877039108227745, -48.022609565870326],\n",
       "                {}\n",
       "            ).addTo(map_405b717e66835aa95fe0f40b638364be);\n",
       "        \n",
       "    \n",
       "        var popup_bd718aae396b159f7de6ecd2b18679e9 = L.popup({&quot;maxWidth&quot;: &quot;100%&quot;});\n",
       "\n",
       "        \n",
       "            \n",
       "                var html_bc073ae8857f37a2fa550c3b79d6fc36 = $(`&lt;div id=&quot;html_bc073ae8857f37a2fa550c3b79d6fc36&quot; style=&quot;width: 100.0%; height: 100.0%;&quot;&gt;4023&lt;/div&gt;`)[0];\n",
       "                popup_bd718aae396b159f7de6ecd2b18679e9.setContent(html_bc073ae8857f37a2fa550c3b79d6fc36);\n",
       "            \n",
       "        \n",
       "\n",
       "        marker_7e7ee2d645539abdfbda7e4844ce99b2.bindPopup(popup_bd718aae396b159f7de6ecd2b18679e9)\n",
       "        ;\n",
       "\n",
       "        \n",
       "    \n",
       "    \n",
       "            var marker_03a5c571b0aea8e21ea1100c9ba3b8dd = L.marker(\n",
       "                [-15.877544140261374, -48.01911238393973],\n",
       "                {}\n",
       "            ).addTo(map_405b717e66835aa95fe0f40b638364be);\n",
       "        \n",
       "    \n",
       "        var popup_3a1d6abae4e60839c7b863b0d74f9ca5 = L.popup({&quot;maxWidth&quot;: &quot;100%&quot;});\n",
       "\n",
       "        \n",
       "            \n",
       "                var html_8788c166851d29471475f65a31bf68e5 = $(`&lt;div id=&quot;html_8788c166851d29471475f65a31bf68e5&quot; style=&quot;width: 100.0%; height: 100.0%;&quot;&gt;4024&lt;/div&gt;`)[0];\n",
       "                popup_3a1d6abae4e60839c7b863b0d74f9ca5.setContent(html_8788c166851d29471475f65a31bf68e5);\n",
       "            \n",
       "        \n",
       "\n",
       "        marker_03a5c571b0aea8e21ea1100c9ba3b8dd.bindPopup(popup_3a1d6abae4e60839c7b863b0d74f9ca5)\n",
       "        ;\n",
       "\n",
       "        \n",
       "    \n",
       "    \n",
       "            var marker_f2a6496d6de7d330f796cfc9c8c369fc = L.marker(\n",
       "                [-15.736227202321027, -47.906332156391095],\n",
       "                {}\n",
       "            ).addTo(map_405b717e66835aa95fe0f40b638364be);\n",
       "        \n",
       "    \n",
       "        var popup_e89a60f49b46db3a3c0bb4975532ef62 = L.popup({&quot;maxWidth&quot;: &quot;100%&quot;});\n",
       "\n",
       "        \n",
       "            \n",
       "                var html_9fd1a32d2fa1357faff06e4cd703c3c5 = $(`&lt;div id=&quot;html_9fd1a32d2fa1357faff06e4cd703c3c5&quot; style=&quot;width: 100.0%; height: 100.0%;&quot;&gt;6289&lt;/div&gt;`)[0];\n",
       "                popup_e89a60f49b46db3a3c0bb4975532ef62.setContent(html_9fd1a32d2fa1357faff06e4cd703c3c5);\n",
       "            \n",
       "        \n",
       "\n",
       "        marker_f2a6496d6de7d330f796cfc9c8c369fc.bindPopup(popup_e89a60f49b46db3a3c0bb4975532ef62)\n",
       "        ;\n",
       "\n",
       "        \n",
       "    \n",
       "    \n",
       "            var marker_9fd575eed67e43da720a455cd87188c8 = L.marker(\n",
       "                [-15.878236735744501, -48.014479196442934],\n",
       "                {}\n",
       "            ).addTo(map_405b717e66835aa95fe0f40b638364be);\n",
       "        \n",
       "    \n",
       "        var popup_ed58afda2be678df8bb6811e704bffd2 = L.popup({&quot;maxWidth&quot;: &quot;100%&quot;});\n",
       "\n",
       "        \n",
       "            \n",
       "                var html_3ece56a699623085a115fe9f3471a136 = $(`&lt;div id=&quot;html_3ece56a699623085a115fe9f3471a136&quot; style=&quot;width: 100.0%; height: 100.0%;&quot;&gt;4025&lt;/div&gt;`)[0];\n",
       "                popup_ed58afda2be678df8bb6811e704bffd2.setContent(html_3ece56a699623085a115fe9f3471a136);\n",
       "            \n",
       "        \n",
       "\n",
       "        marker_9fd575eed67e43da720a455cd87188c8.bindPopup(popup_ed58afda2be678df8bb6811e704bffd2)\n",
       "        ;\n",
       "\n",
       "        \n",
       "    \n",
       "    \n",
       "            var marker_eeb74302ad9b348ebdf5758e11267ebc = L.marker(\n",
       "                [-15.87819398719129, -48.00830349622176],\n",
       "                {}\n",
       "            ).addTo(map_405b717e66835aa95fe0f40b638364be);\n",
       "        \n",
       "    \n",
       "        var popup_450f7290124bd6b2e6fdb7ef2a5006a1 = L.popup({&quot;maxWidth&quot;: &quot;100%&quot;});\n",
       "\n",
       "        \n",
       "            \n",
       "                var html_848b70e424dd9869cef35a9f4f731e95 = $(`&lt;div id=&quot;html_848b70e424dd9869cef35a9f4f731e95&quot; style=&quot;width: 100.0%; height: 100.0%;&quot;&gt;4026&lt;/div&gt;`)[0];\n",
       "                popup_450f7290124bd6b2e6fdb7ef2a5006a1.setContent(html_848b70e424dd9869cef35a9f4f731e95);\n",
       "            \n",
       "        \n",
       "\n",
       "        marker_eeb74302ad9b348ebdf5758e11267ebc.bindPopup(popup_450f7290124bd6b2e6fdb7ef2a5006a1)\n",
       "        ;\n",
       "\n",
       "        \n",
       "    \n",
       "    \n",
       "            var marker_b032f60d36cbd21a335a12523d540bce = L.marker(\n",
       "                [-15.9044180218172, -48.068197398424736],\n",
       "                {}\n",
       "            ).addTo(map_405b717e66835aa95fe0f40b638364be);\n",
       "        \n",
       "    \n",
       "        var popup_d274828e8881ee75b3d58187393f5033 = L.popup({&quot;maxWidth&quot;: &quot;100%&quot;});\n",
       "\n",
       "        \n",
       "            \n",
       "                var html_d1831b65f1b9b45a825477425affae47 = $(`&lt;div id=&quot;html_d1831b65f1b9b45a825477425affae47&quot; style=&quot;width: 100.0%; height: 100.0%;&quot;&gt;3906&lt;/div&gt;`)[0];\n",
       "                popup_d274828e8881ee75b3d58187393f5033.setContent(html_d1831b65f1b9b45a825477425affae47);\n",
       "            \n",
       "        \n",
       "\n",
       "        marker_b032f60d36cbd21a335a12523d540bce.bindPopup(popup_d274828e8881ee75b3d58187393f5033)\n",
       "        ;\n",
       "\n",
       "        \n",
       "    \n",
       "    \n",
       "            var marker_0e81b7e981a8037c5d9354fbd487d34c = L.marker(\n",
       "                [-15.90429257982713, -48.06538186779065],\n",
       "                {}\n",
       "            ).addTo(map_405b717e66835aa95fe0f40b638364be);\n",
       "        \n",
       "    \n",
       "        var popup_53770ad456be74ea99a11e99f9c15ead = L.popup({&quot;maxWidth&quot;: &quot;100%&quot;});\n",
       "\n",
       "        \n",
       "            \n",
       "                var html_e2d2d2c6f674952387cd4b9a69629304 = $(`&lt;div id=&quot;html_e2d2d2c6f674952387cd4b9a69629304&quot; style=&quot;width: 100.0%; height: 100.0%;&quot;&gt;3907&lt;/div&gt;`)[0];\n",
       "                popup_53770ad456be74ea99a11e99f9c15ead.setContent(html_e2d2d2c6f674952387cd4b9a69629304);\n",
       "            \n",
       "        \n",
       "\n",
       "        marker_0e81b7e981a8037c5d9354fbd487d34c.bindPopup(popup_53770ad456be74ea99a11e99f9c15ead)\n",
       "        ;\n",
       "\n",
       "        \n",
       "    \n",
       "    \n",
       "            var marker_2c63e5d9705521b47796f3d4e6b63766 = L.marker(\n",
       "                [-15.887040211574627, -48.05861497232256],\n",
       "                {}\n",
       "            ).addTo(map_405b717e66835aa95fe0f40b638364be);\n",
       "        \n",
       "    \n",
       "        var popup_32fa0ad342e6680dbfddc1a061509b46 = L.popup({&quot;maxWidth&quot;: &quot;100%&quot;});\n",
       "\n",
       "        \n",
       "            \n",
       "                var html_3156ce5327f7c642a13baac10fee6382 = $(`&lt;div id=&quot;html_3156ce5327f7c642a13baac10fee6382&quot; style=&quot;width: 100.0%; height: 100.0%;&quot;&gt;3825&lt;/div&gt;`)[0];\n",
       "                popup_32fa0ad342e6680dbfddc1a061509b46.setContent(html_3156ce5327f7c642a13baac10fee6382);\n",
       "            \n",
       "        \n",
       "\n",
       "        marker_2c63e5d9705521b47796f3d4e6b63766.bindPopup(popup_32fa0ad342e6680dbfddc1a061509b46)\n",
       "        ;\n",
       "\n",
       "        \n",
       "    \n",
       "    \n",
       "            var marker_7e0adbe43e5ac2f5c6523459923caab1 = L.marker(\n",
       "                [-15.910156000000002, -48.090839],\n",
       "                {}\n",
       "            ).addTo(map_405b717e66835aa95fe0f40b638364be);\n",
       "        \n",
       "    \n",
       "        var popup_04f19574ce3ddcd6b3b198390466cd29 = L.popup({&quot;maxWidth&quot;: &quot;100%&quot;});\n",
       "\n",
       "        \n",
       "            \n",
       "                var html_f96d8bd453a958959a12106f700e0525 = $(`&lt;div id=&quot;html_f96d8bd453a958959a12106f700e0525&quot; style=&quot;width: 100.0%; height: 100.0%;&quot;&gt;7888&lt;/div&gt;`)[0];\n",
       "                popup_04f19574ce3ddcd6b3b198390466cd29.setContent(html_f96d8bd453a958959a12106f700e0525);\n",
       "            \n",
       "        \n",
       "\n",
       "        marker_7e0adbe43e5ac2f5c6523459923caab1.bindPopup(popup_04f19574ce3ddcd6b3b198390466cd29)\n",
       "        ;\n",
       "\n",
       "        \n",
       "    \n",
       "    \n",
       "            var marker_22af4afe6812e85dca45adb51fa4da06 = L.marker(\n",
       "                [-15.907720278953988, -48.08402278176974],\n",
       "                {}\n",
       "            ).addTo(map_405b717e66835aa95fe0f40b638364be);\n",
       "        \n",
       "    \n",
       "        var popup_bb8f132089cbe838ef36372ae12d907d = L.popup({&quot;maxWidth&quot;: &quot;100%&quot;});\n",
       "\n",
       "        \n",
       "            \n",
       "                var html_ca540cebc00c86c82a13012db7e36656 = $(`&lt;div id=&quot;html_ca540cebc00c86c82a13012db7e36656&quot; style=&quot;width: 100.0%; height: 100.0%;&quot;&gt;3901&lt;/div&gt;`)[0];\n",
       "                popup_bb8f132089cbe838ef36372ae12d907d.setContent(html_ca540cebc00c86c82a13012db7e36656);\n",
       "            \n",
       "        \n",
       "\n",
       "        marker_22af4afe6812e85dca45adb51fa4da06.bindPopup(popup_bb8f132089cbe838ef36372ae12d907d)\n",
       "        ;\n",
       "\n",
       "        \n",
       "    \n",
       "    \n",
       "            var marker_709ca36d48e8fb1f3cb897095f73be5f = L.marker(\n",
       "                [-15.91026472965508, -48.09104949228238],\n",
       "                {}\n",
       "            ).addTo(map_405b717e66835aa95fe0f40b638364be);\n",
       "        \n",
       "    \n",
       "        var popup_fd41786023c2fac54ace92a7b3a42577 = L.popup({&quot;maxWidth&quot;: &quot;100%&quot;});\n",
       "\n",
       "        \n",
       "            \n",
       "                var html_66eddbd3ae90b0e943d7c3352f90b9ab = $(`&lt;div id=&quot;html_66eddbd3ae90b0e943d7c3352f90b9ab&quot; style=&quot;width: 100.0%; height: 100.0%;&quot;&gt;3899&lt;/div&gt;`)[0];\n",
       "                popup_fd41786023c2fac54ace92a7b3a42577.setContent(html_66eddbd3ae90b0e943d7c3352f90b9ab);\n",
       "            \n",
       "        \n",
       "\n",
       "        marker_709ca36d48e8fb1f3cb897095f73be5f.bindPopup(popup_fd41786023c2fac54ace92a7b3a42577)\n",
       "        ;\n",
       "\n",
       "        \n",
       "    \n",
       "    \n",
       "            var marker_cc179a981049ecb4d658a1d21fd46d3d = L.marker(\n",
       "                [-15.909530868020195, -48.08802369672664],\n",
       "                {}\n",
       "            ).addTo(map_405b717e66835aa95fe0f40b638364be);\n",
       "        \n",
       "    \n",
       "        var popup_5edc213a0c76deec430e5f2463605b5b = L.popup({&quot;maxWidth&quot;: &quot;100%&quot;});\n",
       "\n",
       "        \n",
       "            \n",
       "                var html_1dde04acd184836075f5a6a3242758fe = $(`&lt;div id=&quot;html_1dde04acd184836075f5a6a3242758fe&quot; style=&quot;width: 100.0%; height: 100.0%;&quot;&gt;3900&lt;/div&gt;`)[0];\n",
       "                popup_5edc213a0c76deec430e5f2463605b5b.setContent(html_1dde04acd184836075f5a6a3242758fe);\n",
       "            \n",
       "        \n",
       "\n",
       "        marker_cc179a981049ecb4d658a1d21fd46d3d.bindPopup(popup_5edc213a0c76deec430e5f2463605b5b)\n",
       "        ;\n",
       "\n",
       "        \n",
       "    \n",
       "    \n",
       "            var marker_c8581bc167510a7a94ce8372efee5e4d = L.marker(\n",
       "                [-15.894557999999998, -48.056217],\n",
       "                {}\n",
       "            ).addTo(map_405b717e66835aa95fe0f40b638364be);\n",
       "        \n",
       "    \n",
       "        var popup_13de3bcf3e1714d60de0cc0a2640a516 = L.popup({&quot;maxWidth&quot;: &quot;100%&quot;});\n",
       "\n",
       "        \n",
       "            \n",
       "                var html_744e90f34ab05b00da67290c3d0d00d7 = $(`&lt;div id=&quot;html_744e90f34ab05b00da67290c3d0d00d7&quot; style=&quot;width: 100.0%; height: 100.0%;&quot;&gt;7921&lt;/div&gt;`)[0];\n",
       "                popup_13de3bcf3e1714d60de0cc0a2640a516.setContent(html_744e90f34ab05b00da67290c3d0d00d7);\n",
       "            \n",
       "        \n",
       "\n",
       "        marker_c8581bc167510a7a94ce8372efee5e4d.bindPopup(popup_13de3bcf3e1714d60de0cc0a2640a516)\n",
       "        ;\n",
       "\n",
       "        \n",
       "    \n",
       "    \n",
       "            var marker_06ff22be1f5d6151707b6181d456d07a = L.marker(\n",
       "                [-15.891674999999996, -48.057164],\n",
       "                {}\n",
       "            ).addTo(map_405b717e66835aa95fe0f40b638364be);\n",
       "        \n",
       "    \n",
       "        var popup_a10e49741b89d765e5c813c7da1061cd = L.popup({&quot;maxWidth&quot;: &quot;100%&quot;});\n",
       "\n",
       "        \n",
       "            \n",
       "                var html_fba4574d551f10e98b583e6725f7e425 = $(`&lt;div id=&quot;html_fba4574d551f10e98b583e6725f7e425&quot; style=&quot;width: 100.0%; height: 100.0%;&quot;&gt;7922&lt;/div&gt;`)[0];\n",
       "                popup_a10e49741b89d765e5c813c7da1061cd.setContent(html_fba4574d551f10e98b583e6725f7e425);\n",
       "            \n",
       "        \n",
       "\n",
       "        marker_06ff22be1f5d6151707b6181d456d07a.bindPopup(popup_a10e49741b89d765e5c813c7da1061cd)\n",
       "        ;\n",
       "\n",
       "        \n",
       "    \n",
       "    \n",
       "            var marker_b68694d842f7df5f92b1f523d434c4e2 = L.marker(\n",
       "                [-15.891674999999996, -48.057164],\n",
       "                {}\n",
       "            ).addTo(map_405b717e66835aa95fe0f40b638364be);\n",
       "        \n",
       "    \n",
       "        var popup_11b1a2ef22f4124644d5e9fb29e02256 = L.popup({&quot;maxWidth&quot;: &quot;100%&quot;});\n",
       "\n",
       "        \n",
       "            \n",
       "                var html_81ef8cd93743a1e1e7603443a167a1a8 = $(`&lt;div id=&quot;html_81ef8cd93743a1e1e7603443a167a1a8&quot; style=&quot;width: 100.0%; height: 100.0%;&quot;&gt;7923&lt;/div&gt;`)[0];\n",
       "                popup_11b1a2ef22f4124644d5e9fb29e02256.setContent(html_81ef8cd93743a1e1e7603443a167a1a8);\n",
       "            \n",
       "        \n",
       "\n",
       "        marker_b68694d842f7df5f92b1f523d434c4e2.bindPopup(popup_11b1a2ef22f4124644d5e9fb29e02256)\n",
       "        ;\n",
       "\n",
       "        \n",
       "    \n",
       "    \n",
       "            var marker_ae59e62bedd56474afed93ed910663b3 = L.marker(\n",
       "                [-15.89454093286884, -48.05621395775726],\n",
       "                {}\n",
       "            ).addTo(map_405b717e66835aa95fe0f40b638364be);\n",
       "        \n",
       "    \n",
       "        var popup_fc24a75172eac85171090604980ec5b1 = L.popup({&quot;maxWidth&quot;: &quot;100%&quot;});\n",
       "\n",
       "        \n",
       "            \n",
       "                var html_626c2b69a2e3c74d3e975821b5998e7a = $(`&lt;div id=&quot;html_626c2b69a2e3c74d3e975821b5998e7a&quot; style=&quot;width: 100.0%; height: 100.0%;&quot;&gt;3823&lt;/div&gt;`)[0];\n",
       "                popup_fc24a75172eac85171090604980ec5b1.setContent(html_626c2b69a2e3c74d3e975821b5998e7a);\n",
       "            \n",
       "        \n",
       "\n",
       "        marker_ae59e62bedd56474afed93ed910663b3.bindPopup(popup_fc24a75172eac85171090604980ec5b1)\n",
       "        ;\n",
       "\n",
       "        \n",
       "    \n",
       "    \n",
       "            var marker_ca1fa6f54e7adb100815c48f419589cc = L.marker(\n",
       "                [-15.892066753113202, -48.05697748106128],\n",
       "                {}\n",
       "            ).addTo(map_405b717e66835aa95fe0f40b638364be);\n",
       "        \n",
       "    \n",
       "        var popup_66d1fe9e85090fc2e8546deaaf210daf = L.popup({&quot;maxWidth&quot;: &quot;100%&quot;});\n",
       "\n",
       "        \n",
       "            \n",
       "                var html_c82352c2752d80479bedfa33de63a36e = $(`&lt;div id=&quot;html_c82352c2752d80479bedfa33de63a36e&quot; style=&quot;width: 100.0%; height: 100.0%;&quot;&gt;3824&lt;/div&gt;`)[0];\n",
       "                popup_66d1fe9e85090fc2e8546deaaf210daf.setContent(html_c82352c2752d80479bedfa33de63a36e);\n",
       "            \n",
       "        \n",
       "\n",
       "        marker_ca1fa6f54e7adb100815c48f419589cc.bindPopup(popup_66d1fe9e85090fc2e8546deaaf210daf)\n",
       "        ;\n",
       "\n",
       "        \n",
       "    \n",
       "    \n",
       "            var marker_f8acbe9914c1858e4e3e07e54ab961c4 = L.marker(\n",
       "                [-15.9320432171429, -48.109250444235066],\n",
       "                {}\n",
       "            ).addTo(map_405b717e66835aa95fe0f40b638364be);\n",
       "        \n",
       "    \n",
       "        var popup_62e45f256fa3c877001255dbe3efa63c = L.popup({&quot;maxWidth&quot;: &quot;100%&quot;});\n",
       "\n",
       "        \n",
       "            \n",
       "                var html_c488366fda59e459878f381002166a41 = $(`&lt;div id=&quot;html_c488366fda59e459878f381002166a41&quot; style=&quot;width: 100.0%; height: 100.0%;&quot;&gt;3950&lt;/div&gt;`)[0];\n",
       "                popup_62e45f256fa3c877001255dbe3efa63c.setContent(html_c488366fda59e459878f381002166a41);\n",
       "            \n",
       "        \n",
       "\n",
       "        marker_f8acbe9914c1858e4e3e07e54ab961c4.bindPopup(popup_62e45f256fa3c877001255dbe3efa63c)\n",
       "        ;\n",
       "\n",
       "        \n",
       "    \n",
       "    \n",
       "            var marker_4e828f60ae29bce6f7dcbb2e7299857d = L.marker(\n",
       "                [-15.930804360099163, -48.11051481546714],\n",
       "                {}\n",
       "            ).addTo(map_405b717e66835aa95fe0f40b638364be);\n",
       "        \n",
       "    \n",
       "        var popup_f642aa11cbec818d842474f198895d0a = L.popup({&quot;maxWidth&quot;: &quot;100%&quot;});\n",
       "\n",
       "        \n",
       "            \n",
       "                var html_75e453364728d29b49a2112a5dfa770c = $(`&lt;div id=&quot;html_75e453364728d29b49a2112a5dfa770c&quot; style=&quot;width: 100.0%; height: 100.0%;&quot;&gt;3890&lt;/div&gt;`)[0];\n",
       "                popup_f642aa11cbec818d842474f198895d0a.setContent(html_75e453364728d29b49a2112a5dfa770c);\n",
       "            \n",
       "        \n",
       "\n",
       "        marker_4e828f60ae29bce6f7dcbb2e7299857d.bindPopup(popup_f642aa11cbec818d842474f198895d0a)\n",
       "        ;\n",
       "\n",
       "        \n",
       "    \n",
       "    \n",
       "            var marker_04652a849cc82df6181adc1345378037 = L.marker(\n",
       "                [-15.821642039849799, -47.91868013956277],\n",
       "                {}\n",
       "            ).addTo(map_405b717e66835aa95fe0f40b638364be);\n",
       "        \n",
       "    \n",
       "        var popup_ea585768d8c95f3304aed4fecb628d3a = L.popup({&quot;maxWidth&quot;: &quot;100%&quot;});\n",
       "\n",
       "        \n",
       "            \n",
       "                var html_4f8d26810ba8c43548a5bcdf4cdb1eed = $(`&lt;div id=&quot;html_4f8d26810ba8c43548a5bcdf4cdb1eed&quot; style=&quot;width: 100.0%; height: 100.0%;&quot;&gt;3568&lt;/div&gt;`)[0];\n",
       "                popup_ea585768d8c95f3304aed4fecb628d3a.setContent(html_4f8d26810ba8c43548a5bcdf4cdb1eed);\n",
       "            \n",
       "        \n",
       "\n",
       "        marker_04652a849cc82df6181adc1345378037.bindPopup(popup_ea585768d8c95f3304aed4fecb628d3a)\n",
       "        ;\n",
       "\n",
       "        \n",
       "    \n",
       "    \n",
       "            var marker_f9d126761c773b1c25f408a3452f1014 = L.marker(\n",
       "                [-15.750807913099322, -47.8949281116755],\n",
       "                {}\n",
       "            ).addTo(map_405b717e66835aa95fe0f40b638364be);\n",
       "        \n",
       "    \n",
       "        var popup_448b5d35a0c08ac9d48996d5f735c2ce = L.popup({&quot;maxWidth&quot;: &quot;100%&quot;});\n",
       "\n",
       "        \n",
       "            \n",
       "                var html_fb7f06b4c8715185903eb3b80ab28663 = $(`&lt;div id=&quot;html_fb7f06b4c8715185903eb3b80ab28663&quot; style=&quot;width: 100.0%; height: 100.0%;&quot;&gt;3516&lt;/div&gt;`)[0];\n",
       "                popup_448b5d35a0c08ac9d48996d5f735c2ce.setContent(html_fb7f06b4c8715185903eb3b80ab28663);\n",
       "            \n",
       "        \n",
       "\n",
       "        marker_f9d126761c773b1c25f408a3452f1014.bindPopup(popup_448b5d35a0c08ac9d48996d5f735c2ce)\n",
       "        ;\n",
       "\n",
       "        \n",
       "    \n",
       "    \n",
       "            var marker_386858caae10f78dfa94de016384f8be = L.marker(\n",
       "                [-15.753694998623457, -47.89400504430343],\n",
       "                {}\n",
       "            ).addTo(map_405b717e66835aa95fe0f40b638364be);\n",
       "        \n",
       "    \n",
       "        var popup_2ec702a394f8ae95223681b197d3b977 = L.popup({&quot;maxWidth&quot;: &quot;100%&quot;});\n",
       "\n",
       "        \n",
       "            \n",
       "                var html_367f99599843f455f6fb177a03bcb555 = $(`&lt;div id=&quot;html_367f99599843f455f6fb177a03bcb555&quot; style=&quot;width: 100.0%; height: 100.0%;&quot;&gt;3515&lt;/div&gt;`)[0];\n",
       "                popup_2ec702a394f8ae95223681b197d3b977.setContent(html_367f99599843f455f6fb177a03bcb555);\n",
       "            \n",
       "        \n",
       "\n",
       "        marker_386858caae10f78dfa94de016384f8be.bindPopup(popup_2ec702a394f8ae95223681b197d3b977)\n",
       "        ;\n",
       "\n",
       "        \n",
       "    \n",
       "    \n",
       "            var marker_39ade69e4e5bf9ea75082984a3e692ec = L.marker(\n",
       "                [-15.760012169623284, -47.891976176212104],\n",
       "                {}\n",
       "            ).addTo(map_405b717e66835aa95fe0f40b638364be);\n",
       "        \n",
       "    \n",
       "        var popup_8f3c08ff5257ca356a5520e5c510a04e = L.popup({&quot;maxWidth&quot;: &quot;100%&quot;});\n",
       "\n",
       "        \n",
       "            \n",
       "                var html_d5539144241175158d03242044fe2bb2 = $(`&lt;div id=&quot;html_d5539144241175158d03242044fe2bb2&quot; style=&quot;width: 100.0%; height: 100.0%;&quot;&gt;3513&lt;/div&gt;`)[0];\n",
       "                popup_8f3c08ff5257ca356a5520e5c510a04e.setContent(html_d5539144241175158d03242044fe2bb2);\n",
       "            \n",
       "        \n",
       "\n",
       "        marker_39ade69e4e5bf9ea75082984a3e692ec.bindPopup(popup_8f3c08ff5257ca356a5520e5c510a04e)\n",
       "        ;\n",
       "\n",
       "        \n",
       "    \n",
       "    \n",
       "            var marker_86fa65db684211362c58d478ce0d1c4f = L.marker(\n",
       "                [-15.757033653547683, -47.89293900668162],\n",
       "                {}\n",
       "            ).addTo(map_405b717e66835aa95fe0f40b638364be);\n",
       "        \n",
       "    \n",
       "        var popup_fc19a5c2a73a378edba44909a23f0bdc = L.popup({&quot;maxWidth&quot;: &quot;100%&quot;});\n",
       "\n",
       "        \n",
       "            \n",
       "                var html_e33f330b954a37174dac8ae2bee84475 = $(`&lt;div id=&quot;html_e33f330b954a37174dac8ae2bee84475&quot; style=&quot;width: 100.0%; height: 100.0%;&quot;&gt;3514&lt;/div&gt;`)[0];\n",
       "                popup_fc19a5c2a73a378edba44909a23f0bdc.setContent(html_e33f330b954a37174dac8ae2bee84475);\n",
       "            \n",
       "        \n",
       "\n",
       "        marker_86fa65db684211362c58d478ce0d1c4f.bindPopup(popup_fc19a5c2a73a378edba44909a23f0bdc)\n",
       "        ;\n",
       "\n",
       "        \n",
       "    \n",
       "    \n",
       "            var marker_ceab5af00dabd373d7d8e2400a3ac53b = L.marker(\n",
       "                [-15.780738695652959, -47.887459438755265],\n",
       "                {}\n",
       "            ).addTo(map_405b717e66835aa95fe0f40b638364be);\n",
       "        \n",
       "    \n",
       "        var popup_bc0f9b90a7eafcd3be09649ca1cb32c3 = L.popup({&quot;maxWidth&quot;: &quot;100%&quot;});\n",
       "\n",
       "        \n",
       "            \n",
       "                var html_2627d03b3b1f31ee2f4190e7363ae0bc = $(`&lt;div id=&quot;html_2627d03b3b1f31ee2f4190e7363ae0bc&quot; style=&quot;width: 100.0%; height: 100.0%;&quot;&gt;3506&lt;/div&gt;`)[0];\n",
       "                popup_bc0f9b90a7eafcd3be09649ca1cb32c3.setContent(html_2627d03b3b1f31ee2f4190e7363ae0bc);\n",
       "            \n",
       "        \n",
       "\n",
       "        marker_ceab5af00dabd373d7d8e2400a3ac53b.bindPopup(popup_bc0f9b90a7eafcd3be09649ca1cb32c3)\n",
       "        ;\n",
       "\n",
       "        \n",
       "    \n",
       "    \n",
       "            var marker_e79c0e97584413e24c0eca1e407236a0 = L.marker(\n",
       "                [-15.777509708768566, -47.88773230535398],\n",
       "                {}\n",
       "            ).addTo(map_405b717e66835aa95fe0f40b638364be);\n",
       "        \n",
       "    \n",
       "        var popup_600e5e18639d6065bd7f99a22533f2ea = L.popup({&quot;maxWidth&quot;: &quot;100%&quot;});\n",
       "\n",
       "        \n",
       "            \n",
       "                var html_45060bb7a9e640eb353ca4d3cbc04eb5 = $(`&lt;div id=&quot;html_45060bb7a9e640eb353ca4d3cbc04eb5&quot; style=&quot;width: 100.0%; height: 100.0%;&quot;&gt;3507&lt;/div&gt;`)[0];\n",
       "                popup_600e5e18639d6065bd7f99a22533f2ea.setContent(html_45060bb7a9e640eb353ca4d3cbc04eb5);\n",
       "            \n",
       "        \n",
       "\n",
       "        marker_e79c0e97584413e24c0eca1e407236a0.bindPopup(popup_600e5e18639d6065bd7f99a22533f2ea)\n",
       "        ;\n",
       "\n",
       "        \n",
       "    \n",
       "    \n",
       "            var marker_0c6e15a194db0803953dfd136c97ebfa = L.marker(\n",
       "                [-15.80164148572705, -47.89444234052956],\n",
       "                {}\n",
       "            ).addTo(map_405b717e66835aa95fe0f40b638364be);\n",
       "        \n",
       "    \n",
       "        var popup_be233691fd92300c32a16b97734505b6 = L.popup({&quot;maxWidth&quot;: &quot;100%&quot;});\n",
       "\n",
       "        \n",
       "            \n",
       "                var html_5874ee25238bd9c2a9c014cd46df72bb = $(`&lt;div id=&quot;html_5874ee25238bd9c2a9c014cd46df72bb&quot; style=&quot;width: 100.0%; height: 100.0%;&quot;&gt;3577&lt;/div&gt;`)[0];\n",
       "                popup_be233691fd92300c32a16b97734505b6.setContent(html_5874ee25238bd9c2a9c014cd46df72bb);\n",
       "            \n",
       "        \n",
       "\n",
       "        marker_0c6e15a194db0803953dfd136c97ebfa.bindPopup(popup_be233691fd92300c32a16b97734505b6)\n",
       "        ;\n",
       "\n",
       "        \n",
       "    \n",
       "    \n",
       "            var marker_455bf6570cf5573eb1b0731b69391ecc = L.marker(\n",
       "                [-15.804051771822037, -47.89656602660574],\n",
       "                {}\n",
       "            ).addTo(map_405b717e66835aa95fe0f40b638364be);\n",
       "        \n",
       "    \n",
       "        var popup_9bb7432ff2a46a8bc188baead7e35396 = L.popup({&quot;maxWidth&quot;: &quot;100%&quot;});\n",
       "\n",
       "        \n",
       "            \n",
       "                var html_52e65e06d5dfc750f46dc4cd535c0952 = $(`&lt;div id=&quot;html_52e65e06d5dfc750f46dc4cd535c0952&quot; style=&quot;width: 100.0%; height: 100.0%;&quot;&gt;3576&lt;/div&gt;`)[0];\n",
       "                popup_9bb7432ff2a46a8bc188baead7e35396.setContent(html_52e65e06d5dfc750f46dc4cd535c0952);\n",
       "            \n",
       "        \n",
       "\n",
       "        marker_455bf6570cf5573eb1b0731b69391ecc.bindPopup(popup_9bb7432ff2a46a8bc188baead7e35396)\n",
       "        ;\n",
       "\n",
       "        \n",
       "    \n",
       "    \n",
       "            var marker_ea44a6f5cdede448011c5d2f5d08f20d = L.marker(\n",
       "                [-15.771152364468017, -47.88868146558276],\n",
       "                {}\n",
       "            ).addTo(map_405b717e66835aa95fe0f40b638364be);\n",
       "        \n",
       "    \n",
       "        var popup_bcd9f4678e90631de24001e19354416b = L.popup({&quot;maxWidth&quot;: &quot;100%&quot;});\n",
       "\n",
       "        \n",
       "            \n",
       "                var html_7fbcbe27a22d2ad00048ee1384fbcf4d = $(`&lt;div id=&quot;html_7fbcbe27a22d2ad00048ee1384fbcf4d&quot; style=&quot;width: 100.0%; height: 100.0%;&quot;&gt;3509&lt;/div&gt;`)[0];\n",
       "                popup_bcd9f4678e90631de24001e19354416b.setContent(html_7fbcbe27a22d2ad00048ee1384fbcf4d);\n",
       "            \n",
       "        \n",
       "\n",
       "        marker_ea44a6f5cdede448011c5d2f5d08f20d.bindPopup(popup_bcd9f4678e90631de24001e19354416b)\n",
       "        ;\n",
       "\n",
       "        \n",
       "    \n",
       "    \n",
       "            var marker_cc2930d605af153ebf5e83ce463a476a = L.marker(\n",
       "                [-15.774801330614789, -47.88800228388125],\n",
       "                {}\n",
       "            ).addTo(map_405b717e66835aa95fe0f40b638364be);\n",
       "        \n",
       "    \n",
       "        var popup_64254363d2edbe8fd6e5d111513212b1 = L.popup({&quot;maxWidth&quot;: &quot;100%&quot;});\n",
       "\n",
       "        \n",
       "            \n",
       "                var html_2c5c06f01eb8131d409909d23c5d36c2 = $(`&lt;div id=&quot;html_2c5c06f01eb8131d409909d23c5d36c2&quot; style=&quot;width: 100.0%; height: 100.0%;&quot;&gt;3508&lt;/div&gt;`)[0];\n",
       "                popup_64254363d2edbe8fd6e5d111513212b1.setContent(html_2c5c06f01eb8131d409909d23c5d36c2);\n",
       "            \n",
       "        \n",
       "\n",
       "        marker_cc2930d605af153ebf5e83ce463a476a.bindPopup(popup_64254363d2edbe8fd6e5d111513212b1)\n",
       "        ;\n",
       "\n",
       "        \n",
       "    \n",
       "    \n",
       "            var marker_034a55ff50a8942f2a2f82a864a3e2f5 = L.marker(\n",
       "                [-15.766141701235163, -47.890017882666925],\n",
       "                {}\n",
       "            ).addTo(map_405b717e66835aa95fe0f40b638364be);\n",
       "        \n",
       "    \n",
       "        var popup_9014771adf0f1977c109443415192a8f = L.popup({&quot;maxWidth&quot;: &quot;100%&quot;});\n",
       "\n",
       "        \n",
       "            \n",
       "                var html_d112af6bf0713792ebfedfe81ce91c09 = $(`&lt;div id=&quot;html_d112af6bf0713792ebfedfe81ce91c09&quot; style=&quot;width: 100.0%; height: 100.0%;&quot;&gt;3511&lt;/div&gt;`)[0];\n",
       "                popup_9014771adf0f1977c109443415192a8f.setContent(html_d112af6bf0713792ebfedfe81ce91c09);\n",
       "            \n",
       "        \n",
       "\n",
       "        marker_034a55ff50a8942f2a2f82a864a3e2f5.bindPopup(popup_9014771adf0f1977c109443415192a8f)\n",
       "        ;\n",
       "\n",
       "        \n",
       "    \n",
       "    \n",
       "            var marker_87f5efb5ce84aeb9156f5b220a0fd5cb = L.marker(\n",
       "                [-15.763216046795371, -47.89095602356193],\n",
       "                {}\n",
       "            ).addTo(map_405b717e66835aa95fe0f40b638364be);\n",
       "        \n",
       "    \n",
       "        var popup_87a589f807ed90906a96d5b97c679f9c = L.popup({&quot;maxWidth&quot;: &quot;100%&quot;});\n",
       "\n",
       "        \n",
       "            \n",
       "                var html_aef87639aeafd1375914603555af78ab = $(`&lt;div id=&quot;html_aef87639aeafd1375914603555af78ab&quot; style=&quot;width: 100.0%; height: 100.0%;&quot;&gt;3512&lt;/div&gt;`)[0];\n",
       "                popup_87a589f807ed90906a96d5b97c679f9c.setContent(html_aef87639aeafd1375914603555af78ab);\n",
       "            \n",
       "        \n",
       "\n",
       "        marker_87f5efb5ce84aeb9156f5b220a0fd5cb.bindPopup(popup_87a589f807ed90906a96d5b97c679f9c)\n",
       "        ;\n",
       "\n",
       "        \n",
       "    \n",
       "    \n",
       "            var marker_9483e4e3fa69bdd3d82a67d8ce4defc1 = L.marker(\n",
       "                [-15.769141094278112, -47.88915290178694],\n",
       "                {}\n",
       "            ).addTo(map_405b717e66835aa95fe0f40b638364be);\n",
       "        \n",
       "    \n",
       "        var popup_066053d3784f6ad20aae7c0ae0d0e386 = L.popup({&quot;maxWidth&quot;: &quot;100%&quot;});\n",
       "\n",
       "        \n",
       "            \n",
       "                var html_71043ab68e1fff90c0ad3cf5c15aaac0 = $(`&lt;div id=&quot;html_71043ab68e1fff90c0ad3cf5c15aaac0&quot; style=&quot;width: 100.0%; height: 100.0%;&quot;&gt;3510&lt;/div&gt;`)[0];\n",
       "                popup_066053d3784f6ad20aae7c0ae0d0e386.setContent(html_71043ab68e1fff90c0ad3cf5c15aaac0);\n",
       "            \n",
       "        \n",
       "\n",
       "        marker_9483e4e3fa69bdd3d82a67d8ce4defc1.bindPopup(popup_066053d3784f6ad20aae7c0ae0d0e386)\n",
       "        ;\n",
       "\n",
       "        \n",
       "    \n",
       "    \n",
       "            var marker_ce9a8c04d47bcf100f5b67aae6b783be = L.marker(\n",
       "                [-15.817759322090723, -47.913306202798566],\n",
       "                {}\n",
       "            ).addTo(map_405b717e66835aa95fe0f40b638364be);\n",
       "        \n",
       "    \n",
       "        var popup_1edc2ece072b9f49da0331cd56e84289 = L.popup({&quot;maxWidth&quot;: &quot;100%&quot;});\n",
       "\n",
       "        \n",
       "            \n",
       "                var html_58082155b7ac45c3b988c3f9dac9017a = $(`&lt;div id=&quot;html_58082155b7ac45c3b988c3f9dac9017a&quot; style=&quot;width: 100.0%; height: 100.0%;&quot;&gt;3570&lt;/div&gt;`)[0];\n",
       "                popup_1edc2ece072b9f49da0331cd56e84289.setContent(html_58082155b7ac45c3b988c3f9dac9017a);\n",
       "            \n",
       "        \n",
       "\n",
       "        marker_ce9a8c04d47bcf100f5b67aae6b783be.bindPopup(popup_1edc2ece072b9f49da0331cd56e84289)\n",
       "        ;\n",
       "\n",
       "        \n",
       "    \n",
       "    \n",
       "            var marker_5244b9a9084cd24a0024221bebbe49d8 = L.marker(\n",
       "                [-15.819700430682687, -47.91599181258493],\n",
       "                {}\n",
       "            ).addTo(map_405b717e66835aa95fe0f40b638364be);\n",
       "        \n",
       "    \n",
       "        var popup_5e8910a9ecf45c79578387f131904506 = L.popup({&quot;maxWidth&quot;: &quot;100%&quot;});\n",
       "\n",
       "        \n",
       "            \n",
       "                var html_31355abacce167f109ed7b2e84ccdb08 = $(`&lt;div id=&quot;html_31355abacce167f109ed7b2e84ccdb08&quot; style=&quot;width: 100.0%; height: 100.0%;&quot;&gt;3569&lt;/div&gt;`)[0];\n",
       "                popup_5e8910a9ecf45c79578387f131904506.setContent(html_31355abacce167f109ed7b2e84ccdb08);\n",
       "            \n",
       "        \n",
       "\n",
       "        marker_5244b9a9084cd24a0024221bebbe49d8.bindPopup(popup_5e8910a9ecf45c79578387f131904506)\n",
       "        ;\n",
       "\n",
       "        \n",
       "    \n",
       "    \n",
       "            var marker_7f03f83a0510f7d35d2660d293a2f682 = L.marker(\n",
       "                [-15.845543768544298, -47.92273446326752],\n",
       "                {}\n",
       "            ).addTo(map_405b717e66835aa95fe0f40b638364be);\n",
       "        \n",
       "    \n",
       "        var popup_4f9a474f04fc34ca79beae35ef861fb1 = L.popup({&quot;maxWidth&quot;: &quot;100%&quot;});\n",
       "\n",
       "        \n",
       "            \n",
       "                var html_92013a325b4158492039800e4dfac899 = $(`&lt;div id=&quot;html_92013a325b4158492039800e4dfac899&quot; style=&quot;width: 100.0%; height: 100.0%;&quot;&gt;3283&lt;/div&gt;`)[0];\n",
       "                popup_4f9a474f04fc34ca79beae35ef861fb1.setContent(html_92013a325b4158492039800e4dfac899);\n",
       "            \n",
       "        \n",
       "\n",
       "        marker_7f03f83a0510f7d35d2660d293a2f682.bindPopup(popup_4f9a474f04fc34ca79beae35ef861fb1)\n",
       "        ;\n",
       "\n",
       "        \n",
       "    \n",
       "    \n",
       "            var marker_09503df1f6c158aac34af19e4e98c54a = L.marker(\n",
       "                [-15.8446518918745, -47.91992587940996],\n",
       "                {}\n",
       "            ).addTo(map_405b717e66835aa95fe0f40b638364be);\n",
       "        \n",
       "    \n",
       "        var popup_e815f75583333f210e91bbfabc291716 = L.popup({&quot;maxWidth&quot;: &quot;100%&quot;});\n",
       "\n",
       "        \n",
       "            \n",
       "                var html_2595003f008313ec5f808fe898533b75 = $(`&lt;div id=&quot;html_2595003f008313ec5f808fe898533b75&quot; style=&quot;width: 100.0%; height: 100.0%;&quot;&gt;3284&lt;/div&gt;`)[0];\n",
       "                popup_e815f75583333f210e91bbfabc291716.setContent(html_2595003f008313ec5f808fe898533b75);\n",
       "            \n",
       "        \n",
       "\n",
       "        marker_09503df1f6c158aac34af19e4e98c54a.bindPopup(popup_e815f75583333f210e91bbfabc291716)\n",
       "        ;\n",
       "\n",
       "        \n",
       "    \n",
       "    \n",
       "            var marker_d00fdba4e24b78960f82ec199bf42be8 = L.marker(\n",
       "                [-15.841132138484848, -47.92105110477898],\n",
       "                {}\n",
       "            ).addTo(map_405b717e66835aa95fe0f40b638364be);\n",
       "        \n",
       "    \n",
       "        var popup_85d515e16eb26f5a06f106c9b45122ae = L.popup({&quot;maxWidth&quot;: &quot;100%&quot;});\n",
       "\n",
       "        \n",
       "            \n",
       "                var html_177dfff1d4fbc1dab37c08f466c7469a = $(`&lt;div id=&quot;html_177dfff1d4fbc1dab37c08f466c7469a&quot; style=&quot;width: 100.0%; height: 100.0%;&quot;&gt;3281&lt;/div&gt;`)[0];\n",
       "                popup_85d515e16eb26f5a06f106c9b45122ae.setContent(html_177dfff1d4fbc1dab37c08f466c7469a);\n",
       "            \n",
       "        \n",
       "\n",
       "        marker_d00fdba4e24b78960f82ec199bf42be8.bindPopup(popup_85d515e16eb26f5a06f106c9b45122ae)\n",
       "        ;\n",
       "\n",
       "        \n",
       "    \n",
       "    \n",
       "            var marker_1215382165db5219aca27f17d1bbdf27 = L.marker(\n",
       "                [-15.844839672077953, -47.9416497019183],\n",
       "                {}\n",
       "            ).addTo(map_405b717e66835aa95fe0f40b638364be);\n",
       "        \n",
       "    \n",
       "        var popup_86797a2381f54b1e0fa5d941b4adfa60 = L.popup({&quot;maxWidth&quot;: &quot;100%&quot;});\n",
       "\n",
       "        \n",
       "            \n",
       "                var html_6438bc6edb6a41efc6d805607852fd46 = $(`&lt;div id=&quot;html_6438bc6edb6a41efc6d805607852fd46&quot; style=&quot;width: 100.0%; height: 100.0%;&quot;&gt;3673&lt;/div&gt;`)[0];\n",
       "                popup_86797a2381f54b1e0fa5d941b4adfa60.setContent(html_6438bc6edb6a41efc6d805607852fd46);\n",
       "            \n",
       "        \n",
       "\n",
       "        marker_1215382165db5219aca27f17d1bbdf27.bindPopup(popup_86797a2381f54b1e0fa5d941b4adfa60)\n",
       "        ;\n",
       "\n",
       "        \n",
       "    \n",
       "    \n",
       "            var marker_380e4016926dff08f41512f24b94f98e = L.marker(\n",
       "                [-15.787162382832602, -47.887918091709295],\n",
       "                {}\n",
       "            ).addTo(map_405b717e66835aa95fe0f40b638364be);\n",
       "        \n",
       "    \n",
       "        var popup_2e75a94adb698e7a7007242797eb0a1b = L.popup({&quot;maxWidth&quot;: &quot;100%&quot;});\n",
       "\n",
       "        \n",
       "            \n",
       "                var html_705c3da4dfc25aa3d52a59c275bb418c = $(`&lt;div id=&quot;html_705c3da4dfc25aa3d52a59c275bb418c&quot; style=&quot;width: 100.0%; height: 100.0%;&quot;&gt;3504&lt;/div&gt;`)[0];\n",
       "                popup_2e75a94adb698e7a7007242797eb0a1b.setContent(html_705c3da4dfc25aa3d52a59c275bb418c);\n",
       "            \n",
       "        \n",
       "\n",
       "        marker_380e4016926dff08f41512f24b94f98e.bindPopup(popup_2e75a94adb698e7a7007242797eb0a1b)\n",
       "        ;\n",
       "\n",
       "        \n",
       "    \n",
       "    \n",
       "            var marker_73c08b0584626ad5f54ae5548f6f54d1 = L.marker(\n",
       "                [-15.783898226654156, -47.88744731247922],\n",
       "                {}\n",
       "            ).addTo(map_405b717e66835aa95fe0f40b638364be);\n",
       "        \n",
       "    \n",
       "        var popup_257064d87a030047e4273528fc47232e = L.popup({&quot;maxWidth&quot;: &quot;100%&quot;});\n",
       "\n",
       "        \n",
       "            \n",
       "                var html_b8f04bd459827f56dd936f94ef5a234d = $(`&lt;div id=&quot;html_b8f04bd459827f56dd936f94ef5a234d&quot; style=&quot;width: 100.0%; height: 100.0%;&quot;&gt;3505&lt;/div&gt;`)[0];\n",
       "                popup_257064d87a030047e4273528fc47232e.setContent(html_b8f04bd459827f56dd936f94ef5a234d);\n",
       "            \n",
       "        \n",
       "\n",
       "        marker_73c08b0584626ad5f54ae5548f6f54d1.bindPopup(popup_257064d87a030047e4273528fc47232e)\n",
       "        ;\n",
       "\n",
       "        \n",
       "    \n",
       "    \n",
       "            var marker_c31fa03b7205ed68281c314d56425d3a = L.marker(\n",
       "                [-15.857910143892939, -47.955659883758],\n",
       "                {}\n",
       "            ).addTo(map_405b717e66835aa95fe0f40b638364be);\n",
       "        \n",
       "    \n",
       "        var popup_b5b1ee08234a32f5a201ee40224ed14b = L.popup({&quot;maxWidth&quot;: &quot;100%&quot;});\n",
       "\n",
       "        \n",
       "            \n",
       "                var html_72d3796ea8615a5aa2cbc9fca18d6871 = $(`&lt;div id=&quot;html_72d3796ea8615a5aa2cbc9fca18d6871&quot; style=&quot;width: 100.0%; height: 100.0%;&quot;&gt;1233&lt;/div&gt;`)[0];\n",
       "                popup_b5b1ee08234a32f5a201ee40224ed14b.setContent(html_72d3796ea8615a5aa2cbc9fca18d6871);\n",
       "            \n",
       "        \n",
       "\n",
       "        marker_c31fa03b7205ed68281c314d56425d3a.bindPopup(popup_b5b1ee08234a32f5a201ee40224ed14b)\n",
       "        ;\n",
       "\n",
       "        \n",
       "    \n",
       "    \n",
       "            var marker_14d635131e771a8f845b8155a551eff4 = L.marker(\n",
       "                [-15.857273654816499, -47.95573359509429],\n",
       "                {}\n",
       "            ).addTo(map_405b717e66835aa95fe0f40b638364be);\n",
       "        \n",
       "    \n",
       "        var popup_b7ad6bed555b1c8a5aeb884e75edba20 = L.popup({&quot;maxWidth&quot;: &quot;100%&quot;});\n",
       "\n",
       "        \n",
       "            \n",
       "                var html_f0d6416b5f67e9097ea99623a971d148 = $(`&lt;div id=&quot;html_f0d6416b5f67e9097ea99623a971d148&quot; style=&quot;width: 100.0%; height: 100.0%;&quot;&gt;1234&lt;/div&gt;`)[0];\n",
       "                popup_b7ad6bed555b1c8a5aeb884e75edba20.setContent(html_f0d6416b5f67e9097ea99623a971d148);\n",
       "            \n",
       "        \n",
       "\n",
       "        marker_14d635131e771a8f845b8155a551eff4.bindPopup(popup_b7ad6bed555b1c8a5aeb884e75edba20)\n",
       "        ;\n",
       "\n",
       "        \n",
       "    \n",
       "    \n",
       "            var marker_4fb9be2c683666bf6590ab17a6e464b7 = L.marker(\n",
       "                [-15.879045439663862, -48.05214416419446],\n",
       "                {}\n",
       "            ).addTo(map_405b717e66835aa95fe0f40b638364be);\n",
       "        \n",
       "    \n",
       "        var popup_f5bf5f2d93d94de4a918f1267e91e90c = L.popup({&quot;maxWidth&quot;: &quot;100%&quot;});\n",
       "\n",
       "        \n",
       "            \n",
       "                var html_311fcd6c7df0552658dc509134e4daf3 = $(`&lt;div id=&quot;html_311fcd6c7df0552658dc509134e4daf3&quot; style=&quot;width: 100.0%; height: 100.0%;&quot;&gt;4017&lt;/div&gt;`)[0];\n",
       "                popup_f5bf5f2d93d94de4a918f1267e91e90c.setContent(html_311fcd6c7df0552658dc509134e4daf3);\n",
       "            \n",
       "        \n",
       "\n",
       "        marker_4fb9be2c683666bf6590ab17a6e464b7.bindPopup(popup_f5bf5f2d93d94de4a918f1267e91e90c)\n",
       "        ;\n",
       "\n",
       "        \n",
       "    \n",
       "    \n",
       "            var marker_1dba286b16fa8f7991655bb63fc19b68 = L.marker(\n",
       "                [-15.901506000000001, -48.056244],\n",
       "                {}\n",
       "            ).addTo(map_405b717e66835aa95fe0f40b638364be);\n",
       "        \n",
       "    \n",
       "        var popup_6599e3da4bc32d570db08ed74a8ddbf7 = L.popup({&quot;maxWidth&quot;: &quot;100%&quot;});\n",
       "\n",
       "        \n",
       "            \n",
       "                var html_86b886d35fdba836b59b07b03b91c0bc = $(`&lt;div id=&quot;html_86b886d35fdba836b59b07b03b91c0bc&quot; style=&quot;width: 100.0%; height: 100.0%;&quot;&gt;7889&lt;/div&gt;`)[0];\n",
       "                popup_6599e3da4bc32d570db08ed74a8ddbf7.setContent(html_86b886d35fdba836b59b07b03b91c0bc);\n",
       "            \n",
       "        \n",
       "\n",
       "        marker_1dba286b16fa8f7991655bb63fc19b68.bindPopup(popup_6599e3da4bc32d570db08ed74a8ddbf7)\n",
       "        ;\n",
       "\n",
       "        \n",
       "    \n",
       "    \n",
       "            var marker_58917eef29267c867f69950a59d36522 = L.marker(\n",
       "                [-15.901506000000001, -48.056244],\n",
       "                {}\n",
       "            ).addTo(map_405b717e66835aa95fe0f40b638364be);\n",
       "        \n",
       "    \n",
       "        var popup_bf56ed9c3dd0b328bfdc5d7f64073508 = L.popup({&quot;maxWidth&quot;: &quot;100%&quot;});\n",
       "\n",
       "        \n",
       "            \n",
       "                var html_e9fca9bbfbd74b1b2b8e57d7fc581e70 = $(`&lt;div id=&quot;html_e9fca9bbfbd74b1b2b8e57d7fc581e70&quot; style=&quot;width: 100.0%; height: 100.0%;&quot;&gt;7890&lt;/div&gt;`)[0];\n",
       "                popup_bf56ed9c3dd0b328bfdc5d7f64073508.setContent(html_e9fca9bbfbd74b1b2b8e57d7fc581e70);\n",
       "            \n",
       "        \n",
       "\n",
       "        marker_58917eef29267c867f69950a59d36522.bindPopup(popup_bf56ed9c3dd0b328bfdc5d7f64073508)\n",
       "        ;\n",
       "\n",
       "        \n",
       "    \n",
       "    \n",
       "            var marker_81396a26eb686970606f206f3898fcb6 = L.marker(\n",
       "                [-15.90324937694194, -48.06200257905907],\n",
       "                {}\n",
       "            ).addTo(map_405b717e66835aa95fe0f40b638364be);\n",
       "        \n",
       "    \n",
       "        var popup_26cc5dac7d227322c802f71bbdb0fedd = L.popup({&quot;maxWidth&quot;: &quot;100%&quot;});\n",
       "\n",
       "        \n",
       "            \n",
       "                var html_954e1e97904faa8e42c16b77abd66081 = $(`&lt;div id=&quot;html_954e1e97904faa8e42c16b77abd66081&quot; style=&quot;width: 100.0%; height: 100.0%;&quot;&gt;3908&lt;/div&gt;`)[0];\n",
       "                popup_26cc5dac7d227322c802f71bbdb0fedd.setContent(html_954e1e97904faa8e42c16b77abd66081);\n",
       "            \n",
       "        \n",
       "\n",
       "        marker_81396a26eb686970606f206f3898fcb6.bindPopup(popup_26cc5dac7d227322c802f71bbdb0fedd)\n",
       "        ;\n",
       "\n",
       "        \n",
       "    \n",
       "    \n",
       "            var marker_a4cfd10998a5df3eefd8fcbe344d35a5 = L.marker(\n",
       "                [-15.90217438952289, -48.05847149849638],\n",
       "                {}\n",
       "            ).addTo(map_405b717e66835aa95fe0f40b638364be);\n",
       "        \n",
       "    \n",
       "        var popup_f19b4d0abe32700bc262c42c8e24d855 = L.popup({&quot;maxWidth&quot;: &quot;100%&quot;});\n",
       "\n",
       "        \n",
       "            \n",
       "                var html_d5ddbc3c6074a7b45f74228d2db32a16 = $(`&lt;div id=&quot;html_d5ddbc3c6074a7b45f74228d2db32a16&quot; style=&quot;width: 100.0%; height: 100.0%;&quot;&gt;3909&lt;/div&gt;`)[0];\n",
       "                popup_f19b4d0abe32700bc262c42c8e24d855.setContent(html_d5ddbc3c6074a7b45f74228d2db32a16);\n",
       "            \n",
       "        \n",
       "\n",
       "        marker_a4cfd10998a5df3eefd8fcbe344d35a5.bindPopup(popup_f19b4d0abe32700bc262c42c8e24d855)\n",
       "        ;\n",
       "\n",
       "        \n",
       "    \n",
       "    \n",
       "            var marker_51e297a647d907d741938f363f057b97 = L.marker(\n",
       "                [-15.901517401438511, -48.056316032829415],\n",
       "                {}\n",
       "            ).addTo(map_405b717e66835aa95fe0f40b638364be);\n",
       "        \n",
       "    \n",
       "        var popup_e3899c1763d5d07f8f347c0aeb117d02 = L.popup({&quot;maxWidth&quot;: &quot;100%&quot;});\n",
       "\n",
       "        \n",
       "            \n",
       "                var html_41fe38cfdf6d5374fc44facf24c6921a = $(`&lt;div id=&quot;html_41fe38cfdf6d5374fc44facf24c6921a&quot; style=&quot;width: 100.0%; height: 100.0%;&quot;&gt;3910&lt;/div&gt;`)[0];\n",
       "                popup_e3899c1763d5d07f8f347c0aeb117d02.setContent(html_41fe38cfdf6d5374fc44facf24c6921a);\n",
       "            \n",
       "        \n",
       "\n",
       "        marker_51e297a647d907d741938f363f057b97.bindPopup(popup_e3899c1763d5d07f8f347c0aeb117d02)\n",
       "        ;\n",
       "\n",
       "        \n",
       "    \n",
       "    \n",
       "            var marker_1c89678d220aa9a7729504763bef4df4 = L.marker(\n",
       "                [-15.79657539360549, -47.89113634914568],\n",
       "                {}\n",
       "            ).addTo(map_405b717e66835aa95fe0f40b638364be);\n",
       "        \n",
       "    \n",
       "        var popup_65d4ffb67c7cb50bd2a1f12890902fa9 = L.popup({&quot;maxWidth&quot;: &quot;100%&quot;});\n",
       "\n",
       "        \n",
       "            \n",
       "                var html_fc3303a2dd6bd012dbc8d0777accc79c = $(`&lt;div id=&quot;html_fc3303a2dd6bd012dbc8d0777accc79c&quot; style=&quot;width: 100.0%; height: 100.0%;&quot;&gt;3579&lt;/div&gt;`)[0];\n",
       "                popup_65d4ffb67c7cb50bd2a1f12890902fa9.setContent(html_fc3303a2dd6bd012dbc8d0777accc79c);\n",
       "            \n",
       "        \n",
       "\n",
       "        marker_1c89678d220aa9a7729504763bef4df4.bindPopup(popup_65d4ffb67c7cb50bd2a1f12890902fa9)\n",
       "        ;\n",
       "\n",
       "        \n",
       "    \n",
       "    \n",
       "            var marker_c803f12917fba8229e3c4810ccdac996 = L.marker(\n",
       "                [-15.798567538343542, -47.89219857275555],\n",
       "                {}\n",
       "            ).addTo(map_405b717e66835aa95fe0f40b638364be);\n",
       "        \n",
       "    \n",
       "        var popup_7a884960a195d2afc3249abc4941f6e2 = L.popup({&quot;maxWidth&quot;: &quot;100%&quot;});\n",
       "\n",
       "        \n",
       "            \n",
       "                var html_b64709d47c37accfd099d5f8bce8b1ec = $(`&lt;div id=&quot;html_b64709d47c37accfd099d5f8bce8b1ec&quot; style=&quot;width: 100.0%; height: 100.0%;&quot;&gt;3578&lt;/div&gt;`)[0];\n",
       "                popup_7a884960a195d2afc3249abc4941f6e2.setContent(html_b64709d47c37accfd099d5f8bce8b1ec);\n",
       "            \n",
       "        \n",
       "\n",
       "        marker_c803f12917fba8229e3c4810ccdac996.bindPopup(popup_7a884960a195d2afc3249abc4941f6e2)\n",
       "        ;\n",
       "\n",
       "        \n",
       "    \n",
       "    \n",
       "            var marker_d1a4303bda1f220abc3e6f6f94278d75 = L.marker(\n",
       "                [-15.823589739821033, -47.92137852239049],\n",
       "                {}\n",
       "            ).addTo(map_405b717e66835aa95fe0f40b638364be);\n",
       "        \n",
       "    \n",
       "        var popup_e800a0dddf6495a9392a5e2262bf4660 = L.popup({&quot;maxWidth&quot;: &quot;100%&quot;});\n",
       "\n",
       "        \n",
       "            \n",
       "                var html_6db5028b83972b957b01c28be618dce3 = $(`&lt;div id=&quot;html_6db5028b83972b957b01c28be618dce3&quot; style=&quot;width: 100.0%; height: 100.0%;&quot;&gt;3567&lt;/div&gt;`)[0];\n",
       "                popup_e800a0dddf6495a9392a5e2262bf4660.setContent(html_6db5028b83972b957b01c28be618dce3);\n",
       "            \n",
       "        \n",
       "\n",
       "        marker_d1a4303bda1f220abc3e6f6f94278d75.bindPopup(popup_e800a0dddf6495a9392a5e2262bf4660)\n",
       "        ;\n",
       "\n",
       "        \n",
       "    \n",
       "    \n",
       "            var marker_854b647585600723431da02831269a77 = L.marker(\n",
       "                [-15.825534276356807, -47.92407131326225],\n",
       "                {}\n",
       "            ).addTo(map_405b717e66835aa95fe0f40b638364be);\n",
       "        \n",
       "    \n",
       "        var popup_0baeaf387c3a5c2288f9fc7060437178 = L.popup({&quot;maxWidth&quot;: &quot;100%&quot;});\n",
       "\n",
       "        \n",
       "            \n",
       "                var html_7c60da7d198e91dd892631bda123d21d = $(`&lt;div id=&quot;html_7c60da7d198e91dd892631bda123d21d&quot; style=&quot;width: 100.0%; height: 100.0%;&quot;&gt;3566&lt;/div&gt;`)[0];\n",
       "                popup_0baeaf387c3a5c2288f9fc7060437178.setContent(html_7c60da7d198e91dd892631bda123d21d);\n",
       "            \n",
       "        \n",
       "\n",
       "        marker_854b647585600723431da02831269a77.bindPopup(popup_0baeaf387c3a5c2288f9fc7060437178)\n",
       "        ;\n",
       "\n",
       "        \n",
       "    \n",
       "    \n",
       "            var marker_f727d5766748fdca031202bc5e73a942 = L.marker(\n",
       "                [-15.827472215930385, -47.92675051633629],\n",
       "                {}\n",
       "            ).addTo(map_405b717e66835aa95fe0f40b638364be);\n",
       "        \n",
       "    \n",
       "        var popup_adde1c5f85449d6c42f9567929f51225 = L.popup({&quot;maxWidth&quot;: &quot;100%&quot;});\n",
       "\n",
       "        \n",
       "            \n",
       "                var html_fb5d0a4674c58f2fc5f5250462892d07 = $(`&lt;div id=&quot;html_fb5d0a4674c58f2fc5f5250462892d07&quot; style=&quot;width: 100.0%; height: 100.0%;&quot;&gt;3565&lt;/div&gt;`)[0];\n",
       "                popup_adde1c5f85449d6c42f9567929f51225.setContent(html_fb5d0a4674c58f2fc5f5250462892d07);\n",
       "            \n",
       "        \n",
       "\n",
       "        marker_f727d5766748fdca031202bc5e73a942.bindPopup(popup_adde1c5f85449d6c42f9567929f51225)\n",
       "        ;\n",
       "\n",
       "        \n",
       "    \n",
       "    \n",
       "            var marker_558d78d70cbb7b421c8b7a2727334a72 = L.marker(\n",
       "                [-15.808200459104249, -47.90064052596685],\n",
       "                {}\n",
       "            ).addTo(map_405b717e66835aa95fe0f40b638364be);\n",
       "        \n",
       "    \n",
       "        var popup_44904975ca74830175c567c0d8e0ba2e = L.popup({&quot;maxWidth&quot;: &quot;100%&quot;});\n",
       "\n",
       "        \n",
       "            \n",
       "                var html_0ab03540bb0a066e280e0305c1f6bd30 = $(`&lt;div id=&quot;html_0ab03540bb0a066e280e0305c1f6bd30&quot; style=&quot;width: 100.0%; height: 100.0%;&quot;&gt;3574&lt;/div&gt;`)[0];\n",
       "                popup_44904975ca74830175c567c0d8e0ba2e.setContent(html_0ab03540bb0a066e280e0305c1f6bd30);\n",
       "            \n",
       "        \n",
       "\n",
       "        marker_558d78d70cbb7b421c8b7a2727334a72.bindPopup(popup_44904975ca74830175c567c0d8e0ba2e)\n",
       "        ;\n",
       "\n",
       "        \n",
       "    \n",
       "    \n",
       "            var marker_10a1d83aaece28d5c617ac873fdcce01 = L.marker(\n",
       "                [-15.806247857893846, -47.898621300099805],\n",
       "                {}\n",
       "            ).addTo(map_405b717e66835aa95fe0f40b638364be);\n",
       "        \n",
       "    \n",
       "        var popup_dd5cedfb81fee43715b3aca9a3a27395 = L.popup({&quot;maxWidth&quot;: &quot;100%&quot;});\n",
       "\n",
       "        \n",
       "            \n",
       "                var html_8437a60097a75464434333365a10adbe = $(`&lt;div id=&quot;html_8437a60097a75464434333365a10adbe&quot; style=&quot;width: 100.0%; height: 100.0%;&quot;&gt;3575&lt;/div&gt;`)[0];\n",
       "                popup_dd5cedfb81fee43715b3aca9a3a27395.setContent(html_8437a60097a75464434333365a10adbe);\n",
       "            \n",
       "        \n",
       "\n",
       "        marker_10a1d83aaece28d5c617ac873fdcce01.bindPopup(popup_dd5cedfb81fee43715b3aca9a3a27395)\n",
       "        ;\n",
       "\n",
       "        \n",
       "    \n",
       "    \n",
       "            var marker_6be985a19e69fb58214db36b6a74c373 = L.marker(\n",
       "                [-15.811932091357574, -47.90526178698546],\n",
       "                {}\n",
       "            ).addTo(map_405b717e66835aa95fe0f40b638364be);\n",
       "        \n",
       "    \n",
       "        var popup_e1fa4b3a14ac3c40ac2bbcd43c7170a3 = L.popup({&quot;maxWidth&quot;: &quot;100%&quot;});\n",
       "\n",
       "        \n",
       "            \n",
       "                var html_b54f198ac61d25b94d463b51dae2450a = $(`&lt;div id=&quot;html_b54f198ac61d25b94d463b51dae2450a&quot; style=&quot;width: 100.0%; height: 100.0%;&quot;&gt;3573&lt;/div&gt;`)[0];\n",
       "                popup_e1fa4b3a14ac3c40ac2bbcd43c7170a3.setContent(html_b54f198ac61d25b94d463b51dae2450a);\n",
       "            \n",
       "        \n",
       "\n",
       "        marker_6be985a19e69fb58214db36b6a74c373.bindPopup(popup_e1fa4b3a14ac3c40ac2bbcd43c7170a3)\n",
       "        ;\n",
       "\n",
       "        \n",
       "    \n",
       "    \n",
       "            var marker_474958466840cf30214762aaf678fcf4 = L.marker(\n",
       "                [-15.815806945688909, -47.91059247958316],\n",
       "                {}\n",
       "            ).addTo(map_405b717e66835aa95fe0f40b638364be);\n",
       "        \n",
       "    \n",
       "        var popup_55b694da31209f86a478abca994b0017 = L.popup({&quot;maxWidth&quot;: &quot;100%&quot;});\n",
       "\n",
       "        \n",
       "            \n",
       "                var html_d60798ad186c2e831b24fe08d859fd25 = $(`&lt;div id=&quot;html_d60798ad186c2e831b24fe08d859fd25&quot; style=&quot;width: 100.0%; height: 100.0%;&quot;&gt;3571&lt;/div&gt;`)[0];\n",
       "                popup_55b694da31209f86a478abca994b0017.setContent(html_d60798ad186c2e831b24fe08d859fd25);\n",
       "            \n",
       "        \n",
       "\n",
       "        marker_474958466840cf30214762aaf678fcf4.bindPopup(popup_55b694da31209f86a478abca994b0017)\n",
       "        ;\n",
       "\n",
       "        \n",
       "    \n",
       "    \n",
       "            var marker_cad9de01ec5450ad23edde15db339717 = L.marker(\n",
       "                [-15.813865081730327, -47.90790781376469],\n",
       "                {}\n",
       "            ).addTo(map_405b717e66835aa95fe0f40b638364be);\n",
       "        \n",
       "    \n",
       "        var popup_0db4cd5131e4285e5b6285922306aa19 = L.popup({&quot;maxWidth&quot;: &quot;100%&quot;});\n",
       "\n",
       "        \n",
       "            \n",
       "                var html_77a88cd9c8fc9856bad69f67ee4ed7e0 = $(`&lt;div id=&quot;html_77a88cd9c8fc9856bad69f67ee4ed7e0&quot; style=&quot;width: 100.0%; height: 100.0%;&quot;&gt;3572&lt;/div&gt;`)[0];\n",
       "                popup_0db4cd5131e4285e5b6285922306aa19.setContent(html_77a88cd9c8fc9856bad69f67ee4ed7e0);\n",
       "            \n",
       "        \n",
       "\n",
       "        marker_cad9de01ec5450ad23edde15db339717.bindPopup(popup_0db4cd5131e4285e5b6285922306aa19)\n",
       "        ;\n",
       "\n",
       "        \n",
       "    \n",
       "    \n",
       "            var marker_d8f67ce690975bd4cb5996926d0d5c44 = L.marker(\n",
       "                [-15.73541921559784, -47.897317053648564],\n",
       "                {}\n",
       "            ).addTo(map_405b717e66835aa95fe0f40b638364be);\n",
       "        \n",
       "    \n",
       "        var popup_449a0ed010e37239e44bcdcb19256b8b = L.popup({&quot;maxWidth&quot;: &quot;100%&quot;});\n",
       "\n",
       "        \n",
       "            \n",
       "                var html_677e99333f3d4cbdc90767c06c9e8667 = $(`&lt;div id=&quot;html_677e99333f3d4cbdc90767c06c9e8667&quot; style=&quot;width: 100.0%; height: 100.0%;&quot;&gt;3470&lt;/div&gt;`)[0];\n",
       "                popup_449a0ed010e37239e44bcdcb19256b8b.setContent(html_677e99333f3d4cbdc90767c06c9e8667);\n",
       "            \n",
       "        \n",
       "\n",
       "        marker_d8f67ce690975bd4cb5996926d0d5c44.bindPopup(popup_449a0ed010e37239e44bcdcb19256b8b)\n",
       "        ;\n",
       "\n",
       "        \n",
       "    \n",
       "    \n",
       "            var marker_5b282d82fd67b980b81dada97e39e4ee = L.marker(\n",
       "                [-15.737021646013647, -47.89837691322528],\n",
       "                {}\n",
       "            ).addTo(map_405b717e66835aa95fe0f40b638364be);\n",
       "        \n",
       "    \n",
       "        var popup_36cfa1737b25aa449a79eb51b15fb1f0 = L.popup({&quot;maxWidth&quot;: &quot;100%&quot;});\n",
       "\n",
       "        \n",
       "            \n",
       "                var html_5312aa9cb18ed8358982df82ef311fec = $(`&lt;div id=&quot;html_5312aa9cb18ed8358982df82ef311fec&quot; style=&quot;width: 100.0%; height: 100.0%;&quot;&gt;3520&lt;/div&gt;`)[0];\n",
       "                popup_36cfa1737b25aa449a79eb51b15fb1f0.setContent(html_5312aa9cb18ed8358982df82ef311fec);\n",
       "            \n",
       "        \n",
       "\n",
       "        marker_5b282d82fd67b980b81dada97e39e4ee.bindPopup(popup_36cfa1737b25aa449a79eb51b15fb1f0)\n",
       "        ;\n",
       "\n",
       "        \n",
       "    \n",
       "    \n",
       "            var marker_aff78c76495b9705a8e9f4fe063619ac = L.marker(\n",
       "                [-15.741101319354277, -47.898045528987495],\n",
       "                {}\n",
       "            ).addTo(map_405b717e66835aa95fe0f40b638364be);\n",
       "        \n",
       "    \n",
       "        var popup_d97d2d3877f1f3956149a5a7c645318d = L.popup({&quot;maxWidth&quot;: &quot;100%&quot;});\n",
       "\n",
       "        \n",
       "            \n",
       "                var html_ecceb3a099c248c17744dc59cbf00bbb = $(`&lt;div id=&quot;html_ecceb3a099c248c17744dc59cbf00bbb&quot; style=&quot;width: 100.0%; height: 100.0%;&quot;&gt;3519&lt;/div&gt;`)[0];\n",
       "                popup_d97d2d3877f1f3956149a5a7c645318d.setContent(html_ecceb3a099c248c17744dc59cbf00bbb);\n",
       "            \n",
       "        \n",
       "\n",
       "        marker_aff78c76495b9705a8e9f4fe063619ac.bindPopup(popup_d97d2d3877f1f3956149a5a7c645318d)\n",
       "        ;\n",
       "\n",
       "        \n",
       "    \n",
       "    \n",
       "            var marker_0cd96834e141c52376b2370104b5040d = L.marker(\n",
       "                [-15.744621728383612, -47.8969247962739],\n",
       "                {}\n",
       "            ).addTo(map_405b717e66835aa95fe0f40b638364be);\n",
       "        \n",
       "    \n",
       "        var popup_6895d598d65c9fe53d2dc4d183141e71 = L.popup({&quot;maxWidth&quot;: &quot;100%&quot;});\n",
       "\n",
       "        \n",
       "            \n",
       "                var html_1e194418f20224743dafad2df10857ac = $(`&lt;div id=&quot;html_1e194418f20224743dafad2df10857ac&quot; style=&quot;width: 100.0%; height: 100.0%;&quot;&gt;3518&lt;/div&gt;`)[0];\n",
       "                popup_6895d598d65c9fe53d2dc4d183141e71.setContent(html_1e194418f20224743dafad2df10857ac);\n",
       "            \n",
       "        \n",
       "\n",
       "        marker_0cd96834e141c52376b2370104b5040d.bindPopup(popup_6895d598d65c9fe53d2dc4d183141e71)\n",
       "        ;\n",
       "\n",
       "        \n",
       "    \n",
       "&lt;/script&gt;\n",
       "&lt;/html&gt;\" style=\"position:absolute;width:100%;height:100%;left:0;top:0;border:none !important;\" allowfullscreen webkitallowfullscreen mozallowfullscreen></iframe></div></div>"
      ],
      "text/plain": [
       "<folium.folium.Map at 0x7faba8375650>"
      ]
     },
     "execution_count": 48,
     "metadata": {},
     "output_type": "execute_result"
    }
   ],
   "source": [
    "import geopandas as gpd\n",
    "from shapely.geometry import LineString, Point\n",
    "import folium\n",
    "\n",
    "# Criar o objeto Linestring\n",
    "linestringRecanto = linestringRecanto.to_crs('EPSG:4326')\n",
    "\n",
    "# Obter o objeto LineString a partir da coluna \"geometry\" do DataFrame\n",
    "linestring = linestringRecanto.geometry.iloc[0]\n",
    "\n",
    "# Lista para armazenar as paradas encontradas\n",
    "paradas_encontradas = []\n",
    "\n",
    "# Função para aproximar as coordenadas para 2 casas decimais\n",
    "\n",
    "#def aproximar_coordenadas(coord):\n",
    "#    return round(coord, )\n",
    "\n",
    "# Definir o limite de proximidade aceitável (em graus)\n",
    "limite_proximidade = 0.0002\n",
    "\n",
    "#Iterar sobre os pontos de paradas e verificar se estão próximos da Linestring\n",
    "for idx, ponto_parada in paradas.iterrows():\n",
    "    ponto = ponto_parada[\"geometry\"]\n",
    "    distancia = linestring.distance(ponto)\n",
    "    if distancia <= limite_proximidade:\n",
    "        paradas_encontradas.append(ponto_parada)\n",
    "\n",
    "\n",
    "# Criar um novo GeoDataFrame com as paradas encontradas\n",
    "gdf_paradas_encontradas = gpd.GeoDataFrame(paradas_encontradas, crs='EPSG:4326')\n",
    "display(gdf_paradas_encontradas)\n",
    "# Plotar as paradas de ônibus no mapa com o Folium\n",
    "m = folium.Map(location=[-15.76050, -47.78134], zoom_start=10)\n",
    "\n",
    "for idx, ponto_parada in gdf_paradas_encontradas.iterrows():\n",
    "    lat, lon = ponto_parada[\"geometry\"].y, ponto_parada[\"geometry\"].x\n",
    "    folium.Marker([lat, lon], popup=ponto_parada['parada']).add_to(m)\n",
    "\n",
    "# Mostrar o mapa com as paradas de ônibus\n",
    "m.save('mapa_paradas_onibus.html')\n",
    "m"
   ]
  },
  {
   "cell_type": "code",
   "execution_count": 49,
   "metadata": {},
   "outputs": [
    {
     "data": {
      "text/plain": [
       "'0.018'"
      ]
     },
     "metadata": {},
     "output_type": "display_data"
    },
    {
     "data": {
      "text/plain": [
       "'0.946'"
      ]
     },
     "metadata": {},
     "output_type": "display_data"
    },
    {
     "data": {
      "text/plain": [
       "'0.373'"
      ]
     },
     "metadata": {},
     "output_type": "display_data"
    },
    {
     "data": {
      "text/plain": [
       "'503.3'"
      ]
     },
     "metadata": {},
     "output_type": "display_data"
    },
    {
     "data": {
      "text/plain": [
       "'531.1'"
      ]
     },
     "metadata": {},
     "output_type": "display_data"
    },
    {
     "data": {
      "text/plain": [
       "'0.851'"
      ]
     },
     "metadata": {},
     "output_type": "display_data"
    },
    {
     "data": {
      "text/plain": [
       "'330.1'"
      ]
     },
     "metadata": {},
     "output_type": "display_data"
    },
    {
     "data": {
      "text/plain": [
       "'0.522'"
      ]
     },
     "metadata": {},
     "output_type": "display_data"
    },
    {
     "data": {
      "text/plain": [
       "'519.3'"
      ]
     },
     "metadata": {},
     "output_type": "display_data"
    },
    {
     "data": {
      "text/plain": [
       "'0.520'"
      ]
     },
     "metadata": {},
     "output_type": "display_data"
    },
    {
     "data": {
      "text/plain": [
       "'932.4'"
      ]
     },
     "metadata": {},
     "output_type": "display_data"
    },
    {
     "data": {
      "text/plain": [
       "'0.550'"
      ]
     },
     "metadata": {},
     "output_type": "display_data"
    },
    {
     "data": {
      "text/plain": [
       "'0.853'"
      ]
     },
     "metadata": {},
     "output_type": "display_data"
    },
    {
     "data": {
      "text/plain": [
       "'0.882'"
      ]
     },
     "metadata": {},
     "output_type": "display_data"
    },
    {
     "data": {
      "text/plain": [
       "'807.4'"
      ]
     },
     "metadata": {},
     "output_type": "display_data"
    },
    {
     "data": {
      "text/plain": [
       "'617.2'"
      ]
     },
     "metadata": {},
     "output_type": "display_data"
    },
    {
     "data": {
      "text/plain": [
       "'920.4'"
      ]
     },
     "metadata": {},
     "output_type": "display_data"
    },
    {
     "data": {
      "text/plain": [
       "'0.883'"
      ]
     },
     "metadata": {},
     "output_type": "display_data"
    },
    {
     "data": {
      "text/plain": [
       "'156.7'"
      ]
     },
     "metadata": {},
     "output_type": "display_data"
    },
    {
     "data": {
      "text/plain": [
       "'1001'"
      ]
     },
     "metadata": {},
     "output_type": "display_data"
    },
    {
     "data": {
      "text/plain": [
       "'515.6'"
      ]
     },
     "metadata": {},
     "output_type": "display_data"
    },
    {
     "data": {
      "text/plain": [
       "'506.4'"
      ]
     },
     "metadata": {},
     "output_type": "display_data"
    },
    {
     "data": {
      "text/plain": [
       "'2205'"
      ]
     },
     "metadata": {},
     "output_type": "display_data"
    },
    {
     "data": {
      "text/plain": [
       "'0.958'"
      ]
     },
     "metadata": {},
     "output_type": "display_data"
    },
    {
     "data": {
      "text/plain": [
       "'0.555'"
      ]
     },
     "metadata": {},
     "output_type": "display_data"
    },
    {
     "data": {
      "text/plain": [
       "'376.2'"
      ]
     },
     "metadata": {},
     "output_type": "display_data"
    },
    {
     "data": {
      "text/plain": [
       "'759.1'"
      ]
     },
     "metadata": {},
     "output_type": "display_data"
    },
    {
     "data": {
      "text/plain": [
       "'206.9'"
      ]
     },
     "metadata": {},
     "output_type": "display_data"
    },
    {
     "data": {
      "text/plain": [
       "'504.5'"
      ]
     },
     "metadata": {},
     "output_type": "display_data"
    },
    {
     "data": {
      "text/plain": [
       "'305.4'"
      ]
     },
     "metadata": {},
     "output_type": "display_data"
    },
    {
     "data": {
      "text/plain": [
       "'0.305'"
      ]
     },
     "metadata": {},
     "output_type": "display_data"
    },
    {
     "data": {
      "text/plain": [
       "'136.9'"
      ]
     },
     "metadata": {},
     "output_type": "display_data"
    },
    {
     "data": {
      "text/plain": [
       "'300.1'"
      ]
     },
     "metadata": {},
     "output_type": "display_data"
    },
    {
     "data": {
      "text/plain": [
       "'823.2'"
      ]
     },
     "metadata": {},
     "output_type": "display_data"
    },
    {
     "data": {
      "text/plain": [
       "'0.181'"
      ]
     },
     "metadata": {},
     "output_type": "display_data"
    },
    {
     "data": {
      "text/plain": [
       "'156.9'"
      ]
     },
     "metadata": {},
     "output_type": "display_data"
    },
    {
     "data": {
      "text/plain": [
       "'0.101'"
      ]
     },
     "metadata": {},
     "output_type": "display_data"
    },
    {
     "data": {
      "text/plain": [
       "'0.322'"
      ]
     },
     "metadata": {},
     "output_type": "display_data"
    },
    {
     "data": {
      "text/plain": [
       "'0.175'"
      ]
     },
     "metadata": {},
     "output_type": "display_data"
    },
    {
     "data": {
      "text/plain": [
       "'167.1'"
      ]
     },
     "metadata": {},
     "output_type": "display_data"
    },
    {
     "data": {
      "text/plain": [
       "'0.370'"
      ]
     },
     "metadata": {},
     "output_type": "display_data"
    },
    {
     "data": {
      "text/plain": [
       "'158.3'"
      ]
     },
     "metadata": {},
     "output_type": "display_data"
    },
    {
     "data": {
      "text/plain": [
       "'348.1'"
      ]
     },
     "metadata": {},
     "output_type": "display_data"
    },
    {
     "data": {
      "text/plain": [
       "'147.2'"
      ]
     },
     "metadata": {},
     "output_type": "display_data"
    },
    {
     "data": {
      "text/plain": [
       "'807.8'"
      ]
     },
     "metadata": {},
     "output_type": "display_data"
    },
    {
     "data": {
      "text/plain": [
       "'0.624'"
      ]
     },
     "metadata": {},
     "output_type": "display_data"
    },
    {
     "data": {
      "text/plain": [
       "'0.382'"
      ]
     },
     "metadata": {},
     "output_type": "display_data"
    },
    {
     "data": {
      "text/plain": [
       "'0.394'"
      ]
     },
     "metadata": {},
     "output_type": "display_data"
    },
    {
     "data": {
      "text/plain": [
       "'557.1'"
      ]
     },
     "metadata": {},
     "output_type": "display_data"
    },
    {
     "data": {
      "text/plain": [
       "'373.2'"
      ]
     },
     "metadata": {},
     "output_type": "display_data"
    },
    {
     "data": {
      "text/plain": [
       "'761.1'"
      ]
     },
     "metadata": {},
     "output_type": "display_data"
    },
    {
     "data": {
      "text/plain": [
       "'194.1'"
      ]
     },
     "metadata": {},
     "output_type": "display_data"
    },
    {
     "data": {
      "text/plain": [
       "'501.2'"
      ]
     },
     "metadata": {},
     "output_type": "display_data"
    },
    {
     "data": {
      "text/plain": [
       "'136.6'"
      ]
     },
     "metadata": {},
     "output_type": "display_data"
    },
    {
     "data": {
      "text/plain": [
       "'0.871'"
      ]
     },
     "metadata": {},
     "output_type": "display_data"
    },
    {
     "data": {
      "text/plain": [
       "'600.2'"
      ]
     },
     "metadata": {},
     "output_type": "display_data"
    },
    {
     "data": {
      "text/plain": [
       "'519.1'"
      ]
     },
     "metadata": {},
     "output_type": "display_data"
    },
    {
     "data": {
      "text/plain": [
       "'501.3'"
      ]
     },
     "metadata": {},
     "output_type": "display_data"
    },
    {
     "data": {
      "text/plain": [
       "'322.1'"
      ]
     },
     "metadata": {},
     "output_type": "display_data"
    },
    {
     "data": {
      "text/plain": [
       "'190.2'"
      ]
     },
     "metadata": {},
     "output_type": "display_data"
    },
    {
     "data": {
      "text/plain": [
       "'844.2'"
      ]
     },
     "metadata": {},
     "output_type": "display_data"
    },
    {
     "data": {
      "text/plain": [
       "'180.2'"
      ]
     },
     "metadata": {},
     "output_type": "display_data"
    },
    {
     "data": {
      "text/plain": [
       "'396.3'"
      ]
     },
     "metadata": {},
     "output_type": "display_data"
    },
    {
     "data": {
      "text/plain": [
       "'100.8'"
      ]
     },
     "metadata": {},
     "output_type": "display_data"
    },
    {
     "data": {
      "text/plain": [
       "'413.2'"
      ]
     },
     "metadata": {},
     "output_type": "display_data"
    },
    {
     "data": {
      "text/plain": [
       "'0.420'"
      ]
     },
     "metadata": {},
     "output_type": "display_data"
    },
    {
     "data": {
      "text/plain": [
       "'0.421'"
      ]
     },
     "metadata": {},
     "output_type": "display_data"
    },
    {
     "data": {
      "text/plain": [
       "'413.4'"
      ]
     },
     "metadata": {},
     "output_type": "display_data"
    },
    {
     "data": {
      "text/plain": [
       "'136.7'"
      ]
     },
     "metadata": {},
     "output_type": "display_data"
    },
    {
     "data": {
      "text/plain": [
       "'2306'"
      ]
     },
     "metadata": {},
     "output_type": "display_data"
    },
    {
     "data": {
      "text/plain": [
       "'199.1'"
      ]
     },
     "metadata": {},
     "output_type": "display_data"
    },
    {
     "data": {
      "text/plain": [
       "'340.1'"
      ]
     },
     "metadata": {},
     "output_type": "display_data"
    },
    {
     "data": {
      "text/plain": [
       "'197.3'"
      ]
     },
     "metadata": {},
     "output_type": "display_data"
    },
    {
     "data": {
      "text/plain": [
       "'611.1'"
      ]
     },
     "metadata": {},
     "output_type": "display_data"
    },
    {
     "data": {
      "text/plain": [
       "'0.412'"
      ]
     },
     "metadata": {},
     "output_type": "display_data"
    },
    {
     "data": {
      "text/plain": [
       "'0.403'"
      ]
     },
     "metadata": {},
     "output_type": "display_data"
    },
    {
     "data": {
      "text/plain": [
       "'0.404'"
      ]
     },
     "metadata": {},
     "output_type": "display_data"
    },
    {
     "data": {
      "text/plain": [
       "'0.930'"
      ]
     },
     "metadata": {},
     "output_type": "display_data"
    },
    {
     "data": {
      "text/plain": [
       "'413.1'"
      ]
     },
     "metadata": {},
     "output_type": "display_data"
    },
    {
     "data": {
      "text/plain": [
       "'0.503'"
      ]
     },
     "metadata": {},
     "output_type": "display_data"
    },
    {
     "data": {
      "text/plain": [
       "'0.611'"
      ]
     },
     "metadata": {},
     "output_type": "display_data"
    },
    {
     "data": {
      "text/plain": [
       "'3317'"
      ]
     },
     "metadata": {},
     "output_type": "display_data"
    },
    {
     "data": {
      "text/plain": [
       "'100.9'"
      ]
     },
     "metadata": {},
     "output_type": "display_data"
    },
    {
     "data": {
      "text/plain": [
       "'0.773'"
      ]
     },
     "metadata": {},
     "output_type": "display_data"
    },
    {
     "data": {
      "text/plain": [
       "'0.884'"
      ]
     },
     "metadata": {},
     "output_type": "display_data"
    },
    {
     "data": {
      "text/plain": [
       "'638.1'"
      ]
     },
     "metadata": {},
     "output_type": "display_data"
    },
    {
     "data": {
      "text/plain": [
       "'0.819'"
      ]
     },
     "metadata": {},
     "output_type": "display_data"
    },
    {
     "data": {
      "text/plain": [
       "'0.511'"
      ]
     },
     "metadata": {},
     "output_type": "display_data"
    },
    {
     "data": {
      "text/plain": [
       "'616.3'"
      ]
     },
     "metadata": {},
     "output_type": "display_data"
    },
    {
     "data": {
      "text/plain": [
       "'392.2'"
      ]
     },
     "metadata": {},
     "output_type": "display_data"
    },
    {
     "data": {
      "text/plain": [
       "'813.2'"
      ]
     },
     "metadata": {},
     "output_type": "display_data"
    },
    {
     "data": {
      "text/plain": [
       "'630.2'"
      ]
     },
     "metadata": {},
     "output_type": "display_data"
    },
    {
     "data": {
      "text/plain": [
       "'501.7'"
      ]
     },
     "metadata": {},
     "output_type": "display_data"
    },
    {
     "data": {
      "text/plain": [
       "'3311'"
      ]
     },
     "metadata": {},
     "output_type": "display_data"
    },
    {
     "data": {
      "text/plain": [
       "'423.1'"
      ]
     },
     "metadata": {},
     "output_type": "display_data"
    },
    {
     "data": {
      "text/plain": [
       "'0.527'"
      ]
     },
     "metadata": {},
     "output_type": "display_data"
    },
    {
     "data": {
      "text/plain": [
       "'136.3'"
      ]
     },
     "metadata": {},
     "output_type": "display_data"
    },
    {
     "data": {
      "text/plain": [
       "'181.4'"
      ]
     },
     "metadata": {},
     "output_type": "display_data"
    },
    {
     "data": {
      "text/plain": [
       "'411.1'"
      ]
     },
     "metadata": {},
     "output_type": "display_data"
    },
    {
     "data": {
      "text/plain": [
       "'0.913'"
      ]
     },
     "metadata": {},
     "output_type": "display_data"
    },
    {
     "data": {
      "text/plain": [
       "'100.2'"
      ]
     },
     "metadata": {},
     "output_type": "display_data"
    },
    {
     "data": {
      "text/plain": [
       "'808.1'"
      ]
     },
     "metadata": {},
     "output_type": "display_data"
    },
    {
     "data": {
      "text/plain": [
       "'196.2'"
      ]
     },
     "metadata": {},
     "output_type": "display_data"
    },
    {
     "data": {
      "text/plain": [
       "'170.1'"
      ]
     },
     "metadata": {},
     "output_type": "display_data"
    },
    {
     "data": {
      "text/plain": [
       "'807.9'"
      ]
     },
     "metadata": {},
     "output_type": "display_data"
    },
    {
     "data": {
      "text/plain": [
       "'0.911'"
      ]
     },
     "metadata": {},
     "output_type": "display_data"
    },
    {
     "data": {
      "text/plain": [
       "'0.622'"
      ]
     },
     "metadata": {},
     "output_type": "display_data"
    },
    {
     "data": {
      "text/plain": [
       "'0.346'"
      ]
     },
     "metadata": {},
     "output_type": "display_data"
    },
    {
     "data": {
      "text/plain": [
       "'0.374'"
      ]
     },
     "metadata": {},
     "output_type": "display_data"
    },
    {
     "data": {
      "text/plain": [
       "'374.2'"
      ]
     },
     "metadata": {},
     "output_type": "display_data"
    },
    {
     "data": {
      "text/plain": [
       "'0.756'"
      ]
     },
     "metadata": {},
     "output_type": "display_data"
    },
    {
     "data": {
      "text/plain": [
       "'0.526'"
      ]
     },
     "metadata": {},
     "output_type": "display_data"
    },
    {
     "data": {
      "text/plain": [
       "'0.771'"
      ]
     },
     "metadata": {},
     "output_type": "display_data"
    },
    {
     "data": {
      "text/plain": [
       "'0.878'"
      ]
     },
     "metadata": {},
     "output_type": "display_data"
    },
    {
     "data": {
      "text/plain": [
       "'963.1'"
      ]
     },
     "metadata": {},
     "output_type": "display_data"
    },
    {
     "data": {
      "text/plain": [
       "'0.850'"
      ]
     },
     "metadata": {},
     "output_type": "display_data"
    },
    {
     "data": {
      "text/plain": [
       "'172.7'"
      ]
     },
     "metadata": {},
     "output_type": "display_data"
    },
    {
     "data": {
      "text/plain": [
       "'0.640'"
      ]
     },
     "metadata": {},
     "output_type": "display_data"
    },
    {
     "data": {
      "text/plain": [
       "'0.903'"
      ]
     },
     "metadata": {},
     "output_type": "display_data"
    },
    {
     "data": {
      "text/plain": [
       "'0.513'"
      ]
     },
     "metadata": {},
     "output_type": "display_data"
    },
    {
     "data": {
      "text/plain": [
       "'871.3'"
      ]
     },
     "metadata": {},
     "output_type": "display_data"
    },
    {
     "data": {
      "text/plain": [
       "'206.3'"
      ]
     },
     "metadata": {},
     "output_type": "display_data"
    },
    {
     "data": {
      "text/plain": [
       "'0.377'"
      ]
     },
     "metadata": {},
     "output_type": "display_data"
    },
    {
     "data": {
      "text/plain": [
       "'0.617'"
      ]
     },
     "metadata": {},
     "output_type": "display_data"
    },
    {
     "data": {
      "text/plain": [
       "'0.182'"
      ]
     },
     "metadata": {},
     "output_type": "display_data"
    },
    {
     "data": {
      "text/plain": [
       "'643.1'"
      ]
     },
     "metadata": {},
     "output_type": "display_data"
    },
    {
     "data": {
      "text/plain": [
       "'323.2'"
      ]
     },
     "metadata": {},
     "output_type": "display_data"
    },
    {
     "data": {
      "text/plain": [
       "'154.3'"
      ]
     },
     "metadata": {},
     "output_type": "display_data"
    },
    {
     "data": {
      "text/plain": [
       "'147.7'"
      ]
     },
     "metadata": {},
     "output_type": "display_data"
    },
    {
     "data": {
      "text/plain": [
       "'382.1'"
      ]
     },
     "metadata": {},
     "output_type": "display_data"
    },
    {
     "data": {
      "text/plain": [
       "'806.1'"
      ]
     },
     "metadata": {},
     "output_type": "display_data"
    },
    {
     "data": {
      "text/plain": [
       "'616.4'"
      ]
     },
     "metadata": {},
     "output_type": "display_data"
    },
    {
     "data": {
      "text/plain": [
       "'181.1'"
      ]
     },
     "metadata": {},
     "output_type": "display_data"
    },
    {
     "data": {
      "text/plain": [
       "'400.2'"
      ]
     },
     "metadata": {},
     "output_type": "display_data"
    },
    {
     "data": {
      "text/plain": [
       "'0.376'"
      ]
     },
     "metadata": {},
     "output_type": "display_data"
    },
    {
     "data": {
      "text/plain": [
       "'376.3'"
      ]
     },
     "metadata": {},
     "output_type": "display_data"
    },
    {
     "data": {
      "text/plain": [
       "'305.6'"
      ]
     },
     "metadata": {},
     "output_type": "display_data"
    },
    {
     "data": {
      "text/plain": [
       "'910.1'"
      ]
     },
     "metadata": {},
     "output_type": "display_data"
    },
    {
     "data": {
      "text/plain": [
       "'411.2'"
      ]
     },
     "metadata": {},
     "output_type": "display_data"
    },
    {
     "data": {
      "text/plain": [
       "'0.764'"
      ]
     },
     "metadata": {},
     "output_type": "display_data"
    },
    {
     "data": {
      "text/plain": [
       "'0.942'"
      ]
     },
     "metadata": {},
     "output_type": "display_data"
    },
    {
     "data": {
      "text/plain": [
       "'376.1'"
      ]
     },
     "metadata": {},
     "output_type": "display_data"
    },
    {
     "data": {
      "text/plain": [
       "'0.378'"
      ]
     },
     "metadata": {},
     "output_type": "display_data"
    },
    {
     "data": {
      "text/plain": [
       "'0.808'"
      ]
     },
     "metadata": {},
     "output_type": "display_data"
    },
    {
     "data": {
      "text/plain": [
       "'180.0'"
      ]
     },
     "metadata": {},
     "output_type": "display_data"
    },
    {
     "data": {
      "text/plain": [
       "'160.1'"
      ]
     },
     "metadata": {},
     "output_type": "display_data"
    },
    {
     "data": {
      "text/plain": [
       "'0.198'"
      ]
     },
     "metadata": {},
     "output_type": "display_data"
    },
    {
     "data": {
      "text/plain": [
       "'0.314'"
      ]
     },
     "metadata": {},
     "output_type": "display_data"
    },
    {
     "data": {
      "text/plain": [
       "'0.818'"
      ]
     },
     "metadata": {},
     "output_type": "display_data"
    },
    {
     "data": {
      "text/plain": [
       "'0.806'"
      ]
     },
     "metadata": {},
     "output_type": "display_data"
    },
    {
     "data": {
      "text/plain": [
       "'624.1'"
      ]
     },
     "metadata": {},
     "output_type": "display_data"
    },
    {
     "data": {
      "text/plain": [
       "'0.317'"
      ]
     },
     "metadata": {},
     "output_type": "display_data"
    },
    {
     "data": {
      "text/plain": [
       "'0.762'"
      ]
     },
     "metadata": {},
     "output_type": "display_data"
    },
    {
     "data": {
      "text/plain": [
       "'0.375'"
      ]
     },
     "metadata": {},
     "output_type": "display_data"
    },
    {
     "data": {
      "text/plain": [
       "'372.9'"
      ]
     },
     "metadata": {},
     "output_type": "display_data"
    },
    {
     "data": {
      "text/plain": [
       "'0.918'"
      ]
     },
     "metadata": {},
     "output_type": "display_data"
    },
    {
     "data": {
      "text/plain": [
       "'515.3'"
      ]
     },
     "metadata": {},
     "output_type": "display_data"
    },
    {
     "data": {
      "text/plain": [
       "'0.834'"
      ]
     },
     "metadata": {},
     "output_type": "display_data"
    },
    {
     "data": {
      "text/plain": [
       "'373.3'"
      ]
     },
     "metadata": {},
     "output_type": "display_data"
    },
    {
     "data": {
      "text/plain": [
       "'0.199'"
      ]
     },
     "metadata": {},
     "output_type": "display_data"
    },
    {
     "data": {
      "text/plain": [
       "'808.5'"
      ]
     },
     "metadata": {},
     "output_type": "display_data"
    },
    {
     "data": {
      "text/plain": [
       "'540.1'"
      ]
     },
     "metadata": {},
     "output_type": "display_data"
    },
    {
     "data": {
      "text/plain": [
       "'335.1'"
      ]
     },
     "metadata": {},
     "output_type": "display_data"
    },
    {
     "data": {
      "text/plain": [
       "'0.258'"
      ]
     },
     "metadata": {},
     "output_type": "display_data"
    },
    {
     "data": {
      "text/plain": [
       "'147.9'"
      ]
     },
     "metadata": {},
     "output_type": "display_data"
    },
    {
     "data": {
      "text/plain": [
       "'0.215'"
      ]
     },
     "metadata": {},
     "output_type": "display_data"
    },
    {
     "data": {
      "text/plain": [
       "'336.1'"
      ]
     },
     "metadata": {},
     "output_type": "display_data"
    },
    {
     "data": {
      "text/plain": [
       "'147.4'"
      ]
     },
     "metadata": {},
     "output_type": "display_data"
    },
    {
     "data": {
      "text/plain": [
       "'160.2'"
      ]
     },
     "metadata": {},
     "output_type": "display_data"
    },
    {
     "data": {
      "text/plain": [
       "'533.1'"
      ]
     },
     "metadata": {},
     "output_type": "display_data"
    },
    {
     "data": {
      "text/plain": [
       "'398.1'"
      ]
     },
     "metadata": {},
     "output_type": "display_data"
    },
    {
     "data": {
      "text/plain": [
       "'0.821'"
      ]
     },
     "metadata": {},
     "output_type": "display_data"
    },
    {
     "data": {
      "text/plain": [
       "'0.424'"
      ]
     },
     "metadata": {},
     "output_type": "display_data"
    },
    {
     "data": {
      "text/plain": [
       "'600.3'"
      ]
     },
     "metadata": {},
     "output_type": "display_data"
    },
    {
     "data": {
      "text/plain": [
       "'850.1'"
      ]
     },
     "metadata": {},
     "output_type": "display_data"
    },
    {
     "data": {
      "text/plain": [
       "'182.2'"
      ]
     },
     "metadata": {},
     "output_type": "display_data"
    },
    {
     "data": {
      "text/plain": [
       "'2303'"
      ]
     },
     "metadata": {},
     "output_type": "display_data"
    },
    {
     "data": {
      "text/plain": [
       "'0.153'"
      ]
     },
     "metadata": {},
     "output_type": "display_data"
    },
    {
     "data": {
      "text/plain": [
       "'336.2'"
      ]
     },
     "metadata": {},
     "output_type": "display_data"
    },
    {
     "data": {
      "text/plain": [
       "'0.380'"
      ]
     },
     "metadata": {},
     "output_type": "display_data"
    },
    {
     "data": {
      "text/plain": [
       "'386.1'"
      ]
     },
     "metadata": {},
     "output_type": "display_data"
    },
    {
     "data": {
      "text/plain": [
       "'343.2'"
      ]
     },
     "metadata": {},
     "output_type": "display_data"
    },
    {
     "data": {
      "text/plain": [
       "'504.4'"
      ]
     },
     "metadata": {},
     "output_type": "display_data"
    },
    {
     "data": {
      "text/plain": [
       "'760.1'"
      ]
     },
     "metadata": {},
     "output_type": "display_data"
    },
    {
     "data": {
      "text/plain": [
       "'825.1'"
      ]
     },
     "metadata": {},
     "output_type": "display_data"
    },
    {
     "data": {
      "text/plain": [
       "'0.768'"
      ]
     },
     "metadata": {},
     "output_type": "display_data"
    },
    {
     "data": {
      "text/plain": [
       "'0.205'"
      ]
     },
     "metadata": {},
     "output_type": "display_data"
    },
    {
     "data": {
      "text/plain": [
       "'0.234'"
      ]
     },
     "metadata": {},
     "output_type": "display_data"
    },
    {
     "data": {
      "text/plain": [
       "'0.841'"
      ]
     },
     "metadata": {},
     "output_type": "display_data"
    },
    {
     "data": {
      "text/plain": [
       "'0.331'"
      ]
     },
     "metadata": {},
     "output_type": "display_data"
    },
    {
     "data": {
      "text/plain": [
       "'0.162'"
      ]
     },
     "metadata": {},
     "output_type": "display_data"
    },
    {
     "data": {
      "text/plain": [
       "'3312'"
      ]
     },
     "metadata": {},
     "output_type": "display_data"
    },
    {
     "data": {
      "text/plain": [
       "'942.2'"
      ]
     },
     "metadata": {},
     "output_type": "display_data"
    },
    {
     "data": {
      "text/plain": [
       "'604.3'"
      ]
     },
     "metadata": {},
     "output_type": "display_data"
    },
    {
     "data": {
      "text/plain": [
       "'0.525'"
      ]
     },
     "metadata": {},
     "output_type": "display_data"
    },
    {
     "data": {
      "text/plain": [
       "'0.330'"
      ]
     },
     "metadata": {},
     "output_type": "display_data"
    },
    {
     "data": {
      "text/plain": [
       "'0.631'"
      ]
     },
     "metadata": {},
     "output_type": "display_data"
    },
    {
     "data": {
      "text/plain": [
       "'0.962'"
      ]
     },
     "metadata": {},
     "output_type": "display_data"
    },
    {
     "data": {
      "text/plain": [
       "'147.3'"
      ]
     },
     "metadata": {},
     "output_type": "display_data"
    },
    {
     "data": {
      "text/plain": [
       "'616.6'"
      ]
     },
     "metadata": {},
     "output_type": "display_data"
    },
    {
     "data": {
      "text/plain": [
       "'0.185'"
      ]
     },
     "metadata": {},
     "output_type": "display_data"
    },
    {
     "data": {
      "text/plain": [
       "'100.4'"
      ]
     },
     "metadata": {},
     "output_type": "display_data"
    },
    {
     "data": {
      "text/plain": [
       "'0.953'"
      ]
     },
     "metadata": {},
     "output_type": "display_data"
    },
    {
     "data": {
      "text/plain": [
       "'367.8'"
      ]
     },
     "metadata": {},
     "output_type": "display_data"
    },
    {
     "data": {
      "text/plain": [
       "'374.1'"
      ]
     },
     "metadata": {},
     "output_type": "display_data"
    },
    {
     "data": {
      "text/plain": [
       "'640.1'"
      ]
     },
     "metadata": {},
     "output_type": "display_data"
    },
    {
     "data": {
      "text/plain": [
       "'197.1'"
      ]
     },
     "metadata": {},
     "output_type": "display_data"
    },
    {
     "data": {
      "text/plain": [
       "'0.147'"
      ]
     },
     "metadata": {},
     "output_type": "display_data"
    },
    {
     "data": {
      "text/plain": [
       "'519.2'"
      ]
     },
     "metadata": {},
     "output_type": "display_data"
    },
    {
     "data": {
      "text/plain": [
       "'0.554'"
      ]
     },
     "metadata": {},
     "output_type": "display_data"
    },
    {
     "data": {
      "text/plain": [
       "'147.5'"
      ]
     },
     "metadata": {},
     "output_type": "display_data"
    },
    {
     "data": {
      "text/plain": [
       "'0.910'"
      ]
     },
     "metadata": {},
     "output_type": "display_data"
    },
    {
     "data": {
      "text/plain": [
       "'0.519'"
      ]
     },
     "metadata": {},
     "output_type": "display_data"
    },
    {
     "data": {
      "text/plain": [
       "'0.194'"
      ]
     },
     "metadata": {},
     "output_type": "display_data"
    },
    {
     "data": {
      "text/plain": [
       "'379.1'"
      ]
     },
     "metadata": {},
     "output_type": "display_data"
    },
    {
     "data": {
      "text/plain": [
       "'2202'"
      ]
     },
     "metadata": {},
     "output_type": "display_data"
    },
    {
     "data": {
      "text/plain": [
       "'630.1'"
      ]
     },
     "metadata": {},
     "output_type": "display_data"
    },
    {
     "data": {
      "text/plain": [
       "'0.781'"
      ]
     },
     "metadata": {},
     "output_type": "display_data"
    },
    {
     "data": {
      "text/plain": [
       "'0.255'"
      ]
     },
     "metadata": {},
     "output_type": "display_data"
    },
    {
     "data": {
      "text/plain": [
       "'780.1'"
      ]
     },
     "metadata": {},
     "output_type": "display_data"
    },
    {
     "data": {
      "text/plain": [
       "'0.881'"
      ]
     },
     "metadata": {},
     "output_type": "display_data"
    },
    {
     "data": {
      "text/plain": [
       "'158.4'"
      ]
     },
     "metadata": {},
     "output_type": "display_data"
    },
    {
     "data": {
      "text/plain": [
       "'389.1'"
      ]
     },
     "metadata": {},
     "output_type": "display_data"
    },
    {
     "data": {
      "text/plain": [
       "'0.310'"
      ]
     },
     "metadata": {},
     "output_type": "display_data"
    },
    {
     "data": {
      "text/plain": [
       "'640.2'"
      ]
     },
     "metadata": {},
     "output_type": "display_data"
    },
    {
     "data": {
      "text/plain": [
       "'152.3'"
      ]
     },
     "metadata": {},
     "output_type": "display_data"
    },
    {
     "data": {
      "text/plain": [
       "'188.1'"
      ]
     },
     "metadata": {},
     "output_type": "display_data"
    },
    {
     "data": {
      "text/plain": [
       "'620.1'"
      ]
     },
     "metadata": {},
     "output_type": "display_data"
    },
    {
     "data": {
      "text/plain": [
       "'132.3'"
      ]
     },
     "metadata": {},
     "output_type": "display_data"
    },
    {
     "data": {
      "text/plain": [
       "'0.400'"
      ]
     },
     "metadata": {},
     "output_type": "display_data"
    },
    {
     "data": {
      "text/plain": [
       "'0.906'"
      ]
     },
     "metadata": {},
     "output_type": "display_data"
    },
    {
     "data": {
      "text/plain": [
       "'0.638'"
      ]
     },
     "metadata": {},
     "output_type": "display_data"
    },
    {
     "data": {
      "text/plain": [
       "'805.7'"
      ]
     },
     "metadata": {},
     "output_type": "display_data"
    },
    {
     "data": {
      "text/plain": [
       "'512.1'"
      ]
     },
     "metadata": {},
     "output_type": "display_data"
    },
    {
     "data": {
      "text/plain": [
       "'0.300'"
      ]
     },
     "metadata": {},
     "output_type": "display_data"
    },
    {
     "data": {
      "text/plain": [
       "'0.516'"
      ]
     },
     "metadata": {},
     "output_type": "display_data"
    },
    {
     "data": {
      "text/plain": [
       "'3310'"
      ]
     },
     "metadata": {},
     "output_type": "display_data"
    },
    {
     "data": {
      "text/plain": [
       "'0.340'"
      ]
     },
     "metadata": {},
     "output_type": "display_data"
    },
    {
     "data": {
      "text/plain": [
       "'0.769'"
      ]
     },
     "metadata": {},
     "output_type": "display_data"
    },
    {
     "data": {
      "text/plain": [
       "'2203'"
      ]
     },
     "metadata": {},
     "output_type": "display_data"
    },
    {
     "data": {
      "text/plain": [
       "'306.5'"
      ]
     },
     "metadata": {},
     "output_type": "display_data"
    },
    {
     "data": {
      "text/plain": [
       "'0.338'"
      ]
     },
     "metadata": {},
     "output_type": "display_data"
    },
    {
     "data": {
      "text/plain": [
       "'0.216'"
      ]
     },
     "metadata": {},
     "output_type": "display_data"
    },
    {
     "data": {
      "text/plain": [
       "'0.954'"
      ]
     },
     "metadata": {},
     "output_type": "display_data"
    },
    {
     "data": {
      "text/plain": [
       "'0.405'"
      ]
     },
     "metadata": {},
     "output_type": "display_data"
    },
    {
     "data": {
      "text/plain": [
       "'0.160'"
      ]
     },
     "metadata": {},
     "output_type": "display_data"
    },
    {
     "data": {
      "text/plain": [
       "'334.4'"
      ]
     },
     "metadata": {},
     "output_type": "display_data"
    },
    {
     "data": {
      "text/plain": [
       "'0.552'"
      ]
     },
     "metadata": {},
     "output_type": "display_data"
    },
    {
     "data": {
      "text/plain": [
       "'0.324'"
      ]
     },
     "metadata": {},
     "output_type": "display_data"
    },
    {
     "data": {
      "text/plain": [
       "'0.385'"
      ]
     },
     "metadata": {},
     "output_type": "display_data"
    },
    {
     "data": {
      "text/plain": [
       "'600.8'"
      ]
     },
     "metadata": {},
     "output_type": "display_data"
    },
    {
     "data": {
      "text/plain": [
       "'206.8'"
      ]
     },
     "metadata": {},
     "output_type": "display_data"
    },
    {
     "data": {
      "text/plain": [
       "'0.763'"
      ]
     },
     "metadata": {},
     "output_type": "display_data"
    },
    {
     "data": {
      "text/plain": [
       "'0.180'"
      ]
     },
     "metadata": {},
     "output_type": "display_data"
    },
    {
     "data": {
      "text/plain": [
       "'602.1'"
      ]
     },
     "metadata": {},
     "output_type": "display_data"
    },
    {
     "data": {
      "text/plain": [
       "'932.1'"
      ]
     },
     "metadata": {},
     "output_type": "display_data"
    },
    {
     "data": {
      "text/plain": [
       "'616.5'"
      ]
     },
     "metadata": {},
     "output_type": "display_data"
    },
    {
     "data": {
      "text/plain": [
       "'0.604'"
      ]
     },
     "metadata": {},
     "output_type": "display_data"
    },
    {
     "data": {
      "text/plain": [
       "'0.605'"
      ]
     },
     "metadata": {},
     "output_type": "display_data"
    },
    {
     "data": {
      "text/plain": [
       "'0.835'"
      ]
     },
     "metadata": {},
     "output_type": "display_data"
    },
    {
     "data": {
      "text/plain": [
       "'384.1'"
      ]
     },
     "metadata": {},
     "output_type": "display_data"
    },
    {
     "data": {
      "text/plain": [
       "'0.391'"
      ]
     },
     "metadata": {},
     "output_type": "display_data"
    },
    {
     "data": {
      "text/plain": [
       "'0.616'"
      ]
     },
     "metadata": {},
     "output_type": "display_data"
    },
    {
     "data": {
      "text/plain": [
       "'616.2'"
      ]
     },
     "metadata": {},
     "output_type": "display_data"
    },
    {
     "data": {
      "text/plain": [
       "'306.2'"
      ]
     },
     "metadata": {},
     "output_type": "display_data"
    },
    {
     "data": {
      "text/plain": [
       "'844.1'"
      ]
     },
     "metadata": {},
     "output_type": "display_data"
    },
    {
     "data": {
      "text/plain": [
       "'604.1'"
      ]
     },
     "metadata": {},
     "output_type": "display_data"
    },
    {
     "data": {
      "text/plain": [
       "'604.2'"
      ]
     },
     "metadata": {},
     "output_type": "display_data"
    },
    {
     "data": {
      "text/plain": [
       "'764.2'"
      ]
     },
     "metadata": {},
     "output_type": "display_data"
    },
    {
     "data": {
      "text/plain": [
       "'932.3'"
      ]
     },
     "metadata": {},
     "output_type": "display_data"
    },
    {
     "data": {
      "text/plain": [
       "'0.517'"
      ]
     },
     "metadata": {},
     "output_type": "display_data"
    },
    {
     "data": {
      "text/plain": [
       "'0.760'"
      ]
     },
     "metadata": {},
     "output_type": "display_data"
    },
    {
     "data": {
      "text/plain": [
       "'605.1'"
      ]
     },
     "metadata": {},
     "output_type": "display_data"
    },
    {
     "data": {
      "text/plain": [
       "'515.4'"
      ]
     },
     "metadata": {},
     "output_type": "display_data"
    },
    {
     "data": {
      "text/plain": [
       "'346.1'"
      ]
     },
     "metadata": {},
     "output_type": "display_data"
    },
    {
     "data": {
      "text/plain": [
       "'550.1'"
      ]
     },
     "metadata": {},
     "output_type": "display_data"
    },
    {
     "data": {
      "text/plain": [
       "'0.907'"
      ]
     },
     "metadata": {},
     "output_type": "display_data"
    },
    {
     "data": {
      "text/plain": [
       "'380.4'"
      ]
     },
     "metadata": {},
     "output_type": "display_data"
    },
    {
     "data": {
      "text/plain": [
       "'615.1'"
      ]
     },
     "metadata": {},
     "output_type": "display_data"
    },
    {
     "data": {
      "text/plain": [
       "'0.558'"
      ]
     },
     "metadata": {},
     "output_type": "display_data"
    },
    {
     "data": {
      "text/plain": [
       "'811.1'"
      ]
     },
     "metadata": {},
     "output_type": "display_data"
    },
    {
     "data": {
      "text/plain": [
       "'902.2'"
      ]
     },
     "metadata": {},
     "output_type": "display_data"
    },
    {
     "data": {
      "text/plain": [
       "'932.2'"
      ]
     },
     "metadata": {},
     "output_type": "display_data"
    },
    {
     "data": {
      "text/plain": [
       "'0.392'"
      ]
     },
     "metadata": {},
     "output_type": "display_data"
    },
    {
     "data": {
      "text/plain": [
       "'173.1'"
      ]
     },
     "metadata": {},
     "output_type": "display_data"
    },
    {
     "data": {
      "text/plain": [
       "'0.366'"
      ]
     },
     "metadata": {},
     "output_type": "display_data"
    },
    {
     "data": {
      "text/plain": [
       "'0.334'"
      ]
     },
     "metadata": {},
     "output_type": "display_data"
    },
    {
     "data": {
      "text/plain": [
       "'0.170'"
      ]
     },
     "metadata": {},
     "output_type": "display_data"
    },
    {
     "data": {
      "text/plain": [
       "'506.0'"
      ]
     },
     "metadata": {},
     "output_type": "display_data"
    },
    {
     "data": {
      "text/plain": [
       "'0.627'"
      ]
     },
     "metadata": {},
     "output_type": "display_data"
    },
    {
     "data": {
      "text/plain": [
       "'2206'"
      ]
     },
     "metadata": {},
     "output_type": "display_data"
    },
    {
     "data": {
      "text/plain": [
       "'0.186'"
      ]
     },
     "metadata": {},
     "output_type": "display_data"
    },
    {
     "data": {
      "text/plain": [
       "'180.1'"
      ]
     },
     "metadata": {},
     "output_type": "display_data"
    },
    {
     "data": {
      "text/plain": [
       "'0.167'"
      ]
     },
     "metadata": {},
     "output_type": "display_data"
    },
    {
     "data": {
      "text/plain": [
       "'0.301'"
      ]
     },
     "metadata": {},
     "output_type": "display_data"
    },
    {
     "data": {
      "text/plain": [
       "'600.7'"
      ]
     },
     "metadata": {},
     "output_type": "display_data"
    },
    {
     "data": {
      "text/plain": [
       "'255.2'"
      ]
     },
     "metadata": {},
     "output_type": "display_data"
    },
    {
     "data": {
      "text/plain": [
       "'170.6'"
      ]
     },
     "metadata": {},
     "output_type": "display_data"
    },
    {
     "data": {
      "text/plain": [
       "'100.6'"
      ]
     },
     "metadata": {},
     "output_type": "display_data"
    },
    {
     "data": {
      "text/plain": [
       "'517.2'"
      ]
     },
     "metadata": {},
     "output_type": "display_data"
    },
    {
     "data": {
      "text/plain": [
       "'396.2'"
      ]
     },
     "metadata": {},
     "output_type": "display_data"
    },
    {
     "data": {
      "text/plain": [
       "'158.6'"
      ]
     },
     "metadata": {},
     "output_type": "display_data"
    },
    {
     "data": {
      "text/plain": [
       "'0.224'"
      ]
     },
     "metadata": {},
     "output_type": "display_data"
    },
    {
     "data": {
      "text/plain": [
       "'0.518'"
      ]
     },
     "metadata": {},
     "output_type": "display_data"
    },
    {
     "data": {
      "text/plain": [
       "'648.1'"
      ]
     },
     "metadata": {},
     "output_type": "display_data"
    },
    {
     "data": {
      "text/plain": [
       "'087.5'"
      ]
     },
     "metadata": {},
     "output_type": "display_data"
    },
    {
     "data": {
      "text/plain": [
       "'0.275'"
      ]
     },
     "metadata": {},
     "output_type": "display_data"
    },
    {
     "data": {
      "text/plain": [
       "'207.2'"
      ]
     },
     "metadata": {},
     "output_type": "display_data"
    },
    {
     "data": {
      "text/plain": [
       "'874.4'"
      ]
     },
     "metadata": {},
     "output_type": "display_data"
    },
    {
     "data": {
      "text/plain": [
       "'0.349'"
      ]
     },
     "metadata": {},
     "output_type": "display_data"
    },
    {
     "data": {
      "text/plain": [
       "'180.3'"
      ]
     },
     "metadata": {},
     "output_type": "display_data"
    },
    {
     "data": {
      "text/plain": [
       "'504.1'"
      ]
     },
     "metadata": {},
     "output_type": "display_data"
    },
    {
     "data": {
      "text/plain": [
       "'2309'"
      ]
     },
     "metadata": {},
     "output_type": "display_data"
    },
    {
     "data": {
      "text/plain": [
       "'0.531'"
      ]
     },
     "metadata": {},
     "output_type": "display_data"
    },
    {
     "data": {
      "text/plain": [
       "'0.556'"
      ]
     },
     "metadata": {},
     "output_type": "display_data"
    },
    {
     "data": {
      "text/plain": [
       "'366.5'"
      ]
     },
     "metadata": {},
     "output_type": "display_data"
    },
    {
     "data": {
      "text/plain": [
       "'0.641'"
      ]
     },
     "metadata": {},
     "output_type": "display_data"
    },
    {
     "data": {
      "text/plain": [
       "'383.3'"
      ]
     },
     "metadata": {},
     "output_type": "display_data"
    },
    {
     "data": {
      "text/plain": [
       "'616.7'"
      ]
     },
     "metadata": {},
     "output_type": "display_data"
    },
    {
     "data": {
      "text/plain": [
       "'340.3'"
      ]
     },
     "metadata": {},
     "output_type": "display_data"
    },
    {
     "data": {
      "text/plain": [
       "'380.2'"
      ]
     },
     "metadata": {},
     "output_type": "display_data"
    },
    {
     "data": {
      "text/plain": [
       "'0.312'"
      ]
     },
     "metadata": {},
     "output_type": "display_data"
    },
    {
     "data": {
      "text/plain": [
       "'0.602'"
      ]
     },
     "metadata": {},
     "output_type": "display_data"
    },
    {
     "data": {
      "text/plain": [
       "'343.6'"
      ]
     },
     "metadata": {},
     "output_type": "display_data"
    },
    {
     "data": {
      "text/plain": [
       "'865.1'"
      ]
     },
     "metadata": {},
     "output_type": "display_data"
    },
    {
     "data": {
      "text/plain": [
       "'509.1'"
      ]
     },
     "metadata": {},
     "output_type": "display_data"
    },
    {
     "data": {
      "text/plain": [
       "'2208'"
      ]
     },
     "metadata": {},
     "output_type": "display_data"
    },
    {
     "data": {
      "text/plain": [
       "'0.960'"
      ]
     },
     "metadata": {},
     "output_type": "display_data"
    },
    {
     "data": {
      "text/plain": [
       "'0.092'"
      ]
     },
     "metadata": {},
     "output_type": "display_data"
    },
    {
     "data": {
      "text/plain": [
       "'0.601'"
      ]
     },
     "metadata": {},
     "output_type": "display_data"
    },
    {
     "data": {
      "text/plain": [
       "'942.1'"
      ]
     },
     "metadata": {},
     "output_type": "display_data"
    },
    {
     "data": {
      "text/plain": [
       "'625.1'"
      ]
     },
     "metadata": {},
     "output_type": "display_data"
    },
    {
     "data": {
      "text/plain": [
       "'379.2'"
      ]
     },
     "metadata": {},
     "output_type": "display_data"
    },
    {
     "data": {
      "text/plain": [
       "'190.4'"
      ]
     },
     "metadata": {},
     "output_type": "display_data"
    },
    {
     "data": {
      "text/plain": [
       "'394.1'"
      ]
     },
     "metadata": {},
     "output_type": "display_data"
    },
    {
     "data": {
      "text/plain": [
       "'0.197'"
      ]
     },
     "metadata": {},
     "output_type": "display_data"
    },
    {
     "data": {
      "text/plain": [
       "'0.816'"
      ]
     },
     "metadata": {},
     "output_type": "display_data"
    },
    {
     "data": {
      "text/plain": [
       "'066.1'"
      ]
     },
     "metadata": {},
     "output_type": "display_data"
    },
    {
     "data": {
      "text/plain": [
       "'163.1'"
      ]
     },
     "metadata": {},
     "output_type": "display_data"
    },
    {
     "data": {
      "text/plain": [
       "'206.2'"
      ]
     },
     "metadata": {},
     "output_type": "display_data"
    },
    {
     "data": {
      "text/plain": [
       "'194.2'"
      ]
     },
     "metadata": {},
     "output_type": "display_data"
    },
    {
     "data": {
      "text/plain": [
       "'2212'"
      ]
     },
     "metadata": {},
     "output_type": "display_data"
    },
    {
     "data": {
      "text/plain": [
       "'0.195'"
      ]
     },
     "metadata": {},
     "output_type": "display_data"
    },
    {
     "data": {
      "text/plain": [
       "'2310'"
      ]
     },
     "metadata": {},
     "output_type": "display_data"
    },
    {
     "data": {
      "text/plain": [
       "'206.5'"
      ]
     },
     "metadata": {},
     "output_type": "display_data"
    },
    {
     "data": {
      "text/plain": [
       "'0.348'"
      ]
     },
     "metadata": {},
     "output_type": "display_data"
    },
    {
     "data": {
      "text/plain": [
       "'0.811'"
      ]
     },
     "metadata": {},
     "output_type": "display_data"
    },
    {
     "data": {
      "text/plain": [
       "'338.1'"
      ]
     },
     "metadata": {},
     "output_type": "display_data"
    },
    {
     "data": {
      "text/plain": [
       "'0.411'"
      ]
     },
     "metadata": {},
     "output_type": "display_data"
    },
    {
     "data": {
      "text/plain": [
       "'0.339'"
      ]
     },
     "metadata": {},
     "output_type": "display_data"
    },
    {
     "data": {
      "text/plain": [
       "'870.1'"
      ]
     },
     "metadata": {},
     "output_type": "display_data"
    },
    {
     "data": {
      "text/plain": [
       "'197.6'"
      ]
     },
     "metadata": {},
     "output_type": "display_data"
    },
    {
     "data": {
      "text/plain": [
       "'158.7'"
      ]
     },
     "metadata": {},
     "output_type": "display_data"
    },
    {
     "data": {
      "text/plain": [
       "'260.3'"
      ]
     },
     "metadata": {},
     "output_type": "display_data"
    },
    {
     "data": {
      "text/plain": [
       "'616.1'"
      ]
     },
     "metadata": {},
     "output_type": "display_data"
    },
    {
     "data": {
      "text/plain": [
       "'0.345'"
      ]
     },
     "metadata": {},
     "output_type": "display_data"
    },
    {
     "data": {
      "text/plain": [
       "'322.2'"
      ]
     },
     "metadata": {},
     "output_type": "display_data"
    },
    {
     "data": {
      "text/plain": [
       "'0.273'"
      ]
     },
     "metadata": {},
     "output_type": "display_data"
    },
    {
     "data": {
      "text/plain": [
       "'0.643'"
      ]
     },
     "metadata": {},
     "output_type": "display_data"
    },
    {
     "data": {
      "text/plain": [
       "'0.379'"
      ]
     },
     "metadata": {},
     "output_type": "display_data"
    },
    {
     "data": {
      "text/plain": [
       "'806.8'"
      ]
     },
     "metadata": {},
     "output_type": "display_data"
    },
    {
     "data": {
      "text/plain": [
       "'642.1'"
      ]
     },
     "metadata": {},
     "output_type": "display_data"
    },
    {
     "data": {
      "text/plain": [
       "'397.2'"
      ]
     },
     "metadata": {},
     "output_type": "display_data"
    },
    {
     "data": {
      "text/plain": [
       "'0.914'"
      ]
     },
     "metadata": {},
     "output_type": "display_data"
    },
    {
     "data": {
      "text/plain": [
       "'3211'"
      ]
     },
     "metadata": {},
     "output_type": "display_data"
    },
    {
     "data": {
      "text/plain": [
       "'0.196'"
      ]
     },
     "metadata": {},
     "output_type": "display_data"
    },
    {
     "data": {
      "text/plain": [
       "'0.920'"
      ]
     },
     "metadata": {},
     "output_type": "display_data"
    },
    {
     "data": {
      "text/plain": [
       "'0.176'"
      ]
     },
     "metadata": {},
     "output_type": "display_data"
    },
    {
     "data": {
      "text/plain": [
       "'313.2'"
      ]
     },
     "metadata": {},
     "output_type": "display_data"
    },
    {
     "data": {
      "text/plain": [
       "'0.761'"
      ]
     },
     "metadata": {},
     "output_type": "display_data"
    },
    {
     "data": {
      "text/plain": [
       "'0.813'"
      ]
     },
     "metadata": {},
     "output_type": "display_data"
    },
    {
     "data": {
      "text/plain": [
       "'391.3'"
      ]
     },
     "metadata": {},
     "output_type": "display_data"
    },
    {
     "data": {
      "text/plain": [
       "'0.600'"
      ]
     },
     "metadata": {},
     "output_type": "display_data"
    },
    {
     "data": {
      "text/plain": [
       "'0.620'"
      ]
     },
     "metadata": {},
     "output_type": "display_data"
    },
    {
     "data": {
      "text/plain": [
       "'603.1'"
      ]
     },
     "metadata": {},
     "output_type": "display_data"
    },
    {
     "data": {
      "text/plain": [
       "'147.6'"
      ]
     },
     "metadata": {},
     "output_type": "display_data"
    },
    {
     "data": {
      "text/plain": [
       "'2307'"
      ]
     },
     "metadata": {},
     "output_type": "display_data"
    },
    {
     "data": {
      "text/plain": [
       "'845.2'"
      ]
     },
     "metadata": {},
     "output_type": "display_data"
    },
    {
     "data": {
      "text/plain": [
       "'101.8'"
      ]
     },
     "metadata": {},
     "output_type": "display_data"
    },
    {
     "data": {
      "text/plain": [
       "'0.603'"
      ]
     },
     "metadata": {},
     "output_type": "display_data"
    },
    {
     "data": {
      "text/plain": [
       "'805.3'"
      ]
     },
     "metadata": {},
     "output_type": "display_data"
    },
    {
     "data": {
      "text/plain": [
       "'160.3'"
      ]
     },
     "metadata": {},
     "output_type": "display_data"
    },
    {
     "data": {
      "text/plain": [
       "'0.780'"
      ]
     },
     "metadata": {},
     "output_type": "display_data"
    },
    {
     "data": {
      "text/plain": [
       "'2301'"
      ]
     },
     "metadata": {},
     "output_type": "display_data"
    },
    {
     "data": {
      "text/plain": [
       "'2201'"
      ]
     },
     "metadata": {},
     "output_type": "display_data"
    },
    {
     "data": {
      "text/plain": [
       "'156.8'"
      ]
     },
     "metadata": {},
     "output_type": "display_data"
    },
    {
     "data": {
      "text/plain": [
       "'823.1'"
      ]
     },
     "metadata": {},
     "output_type": "display_data"
    },
    {
     "data": {
      "text/plain": [
       "'383.1'"
      ]
     },
     "metadata": {},
     "output_type": "display_data"
    },
    {
     "data": {
      "text/plain": [
       "'0.504'"
      ]
     },
     "metadata": {},
     "output_type": "display_data"
    },
    {
     "data": {
      "text/plain": [
       "'870.7'"
      ]
     },
     "metadata": {},
     "output_type": "display_data"
    },
    {
     "data": {
      "text/plain": [
       "'511.4'"
      ]
     },
     "metadata": {},
     "output_type": "display_data"
    },
    {
     "data": {
      "text/plain": [
       "'158.2'"
      ]
     },
     "metadata": {},
     "output_type": "display_data"
    },
    {
     "data": {
      "text/plain": [
       "'3313'"
      ]
     },
     "metadata": {},
     "output_type": "display_data"
    },
    {
     "data": {
      "text/plain": [
       "'0.648'"
      ]
     },
     "metadata": {},
     "output_type": "display_data"
    },
    {
     "data": {
      "text/plain": [
       "'0.129'"
      ]
     },
     "metadata": {},
     "output_type": "display_data"
    },
    {
     "data": {
      "text/plain": [
       "'324.1'"
      ]
     },
     "metadata": {},
     "output_type": "display_data"
    },
    {
     "data": {
      "text/plain": [
       "'0.825'"
      ]
     },
     "metadata": {},
     "output_type": "display_data"
    },
    {
     "data": {
      "text/plain": [
       "'0.902'"
      ]
     },
     "metadata": {},
     "output_type": "display_data"
    },
    {
     "data": {
      "text/plain": [
       "'600.4'"
      ]
     },
     "metadata": {},
     "output_type": "display_data"
    },
    {
     "data": {
      "text/plain": [
       "'760.2'"
      ]
     },
     "metadata": {},
     "output_type": "display_data"
    },
    {
     "data": {
      "text/plain": [
       "'366.7'"
      ]
     },
     "metadata": {},
     "output_type": "display_data"
    },
    {
     "data": {
      "text/plain": [
       "'197.5'"
      ]
     },
     "metadata": {},
     "output_type": "display_data"
    },
    {
     "data": {
      "text/plain": [
       "'531.3'"
      ]
     },
     "metadata": {},
     "output_type": "display_data"
    },
    {
     "data": {
      "text/plain": [
       "'156.1'"
      ]
     },
     "metadata": {},
     "output_type": "display_data"
    },
    {
     "data": {
      "text/plain": [
       "'306.1'"
      ]
     },
     "metadata": {},
     "output_type": "display_data"
    },
    {
     "data": {
      "text/plain": [
       "'154.2'"
      ]
     },
     "metadata": {},
     "output_type": "display_data"
    },
    {
     "data": {
      "text/plain": [
       "'205.1'"
      ]
     },
     "metadata": {},
     "output_type": "display_data"
    },
    {
     "data": {
      "text/plain": [
       "'0.372'"
      ]
     },
     "metadata": {},
     "output_type": "display_data"
    },
    {
     "data": {
      "text/plain": [
       "'0.515'"
      ]
     },
     "metadata": {},
     "output_type": "display_data"
    },
    {
     "data": {
      "text/plain": [
       "'0.810'"
      ]
     },
     "metadata": {},
     "output_type": "display_data"
    },
    {
     "data": {
      "text/plain": [
       "'0.822'"
      ]
     },
     "metadata": {},
     "output_type": "display_data"
    },
    {
     "data": {
      "text/plain": [
       "'398.3'"
      ]
     },
     "metadata": {},
     "output_type": "display_data"
    },
    {
     "data": {
      "text/plain": [
       "'2302'"
      ]
     },
     "metadata": {},
     "output_type": "display_data"
    },
    {
     "data": {
      "text/plain": [
       "'0.253'"
      ]
     },
     "metadata": {},
     "output_type": "display_data"
    },
    {
     "data": {
      "text/plain": [
       "'642.2'"
      ]
     },
     "metadata": {},
     "output_type": "display_data"
    },
    {
     "data": {
      "text/plain": [
       "'0.383'"
      ]
     },
     "metadata": {},
     "output_type": "display_data"
    },
    {
     "data": {
      "text/plain": [
       "'505.4'"
      ]
     },
     "metadata": {},
     "output_type": "display_data"
    },
    {
     "data": {
      "text/plain": [
       "'0.765'"
      ]
     },
     "metadata": {},
     "output_type": "display_data"
    },
    {
     "data": {
      "text/plain": [
       "'0.642'"
      ]
     },
     "metadata": {},
     "output_type": "display_data"
    },
    {
     "data": {
      "text/plain": [
       "'0.886'"
      ]
     },
     "metadata": {},
     "output_type": "display_data"
    },
    {
     "data": {
      "text/plain": [
       "'818.1'"
      ]
     },
     "metadata": {},
     "output_type": "display_data"
    },
    {
     "data": {
      "text/plain": [
       "'0.759'"
      ]
     },
     "metadata": {},
     "output_type": "display_data"
    },
    {
     "data": {
      "text/plain": [
       "'813.1'"
      ]
     },
     "metadata": {},
     "output_type": "display_data"
    },
    {
     "data": {
      "text/plain": [
       "'761.2'"
      ]
     },
     "metadata": {},
     "output_type": "display_data"
    },
    {
     "data": {
      "text/plain": [
       "'067.1'"
      ]
     },
     "metadata": {},
     "output_type": "display_data"
    },
    {
     "data": {
      "text/plain": [
       "'197.7'"
      ]
     },
     "metadata": {},
     "output_type": "display_data"
    },
    {
     "data": {
      "text/plain": [
       "'0.965'"
      ]
     },
     "metadata": {},
     "output_type": "display_data"
    },
    {
     "data": {
      "text/plain": [
       "'101.1'"
      ]
     },
     "metadata": {},
     "output_type": "display_data"
    },
    {
     "data": {
      "text/plain": [
       "'2308'"
      ]
     },
     "metadata": {},
     "output_type": "display_data"
    },
    {
     "data": {
      "text/plain": [
       "'872.3'"
      ]
     },
     "metadata": {},
     "output_type": "display_data"
    },
    {
     "data": {
      "text/plain": [
       "'0.158'"
      ]
     },
     "metadata": {},
     "output_type": "display_data"
    },
    {
     "data": {
      "text/plain": [
       "'0.171'"
      ]
     },
     "metadata": {},
     "output_type": "display_data"
    },
    {
     "data": {
      "text/plain": [
       "'0.397'"
      ]
     },
     "metadata": {},
     "output_type": "display_data"
    },
    {
     "data": {
      "text/plain": [
       "'0.343'"
      ]
     },
     "metadata": {},
     "output_type": "display_data"
    },
    {
     "data": {
      "text/plain": [
       "'642.3'"
      ]
     },
     "metadata": {},
     "output_type": "display_data"
    },
    {
     "data": {
      "text/plain": [
       "'0.371'"
      ]
     },
     "metadata": {},
     "output_type": "display_data"
    },
    {
     "data": {
      "text/plain": [
       "'380.3'"
      ]
     },
     "metadata": {},
     "output_type": "display_data"
    },
    {
     "data": {
      "text/plain": [
       "'366.1'"
      ]
     },
     "metadata": {},
     "output_type": "display_data"
    },
    {
     "data": {
      "text/plain": [
       "'207.3'"
      ]
     },
     "metadata": {},
     "output_type": "display_data"
    },
    {
     "data": {
      "text/plain": [
       "'0.132'"
      ]
     },
     "metadata": {},
     "output_type": "display_data"
    },
    {
     "data": {
      "text/plain": [
       "'157.9'"
      ]
     },
     "metadata": {},
     "output_type": "display_data"
    },
    {
     "data": {
      "text/plain": [
       "'600.5'"
      ]
     },
     "metadata": {},
     "output_type": "display_data"
    },
    {
     "data": {
      "text/plain": [
       "'394.4'"
      ]
     },
     "metadata": {},
     "output_type": "display_data"
    },
    {
     "data": {
      "text/plain": [
       "'0.509'"
      ]
     },
     "metadata": {},
     "output_type": "display_data"
    },
    {
     "data": {
      "text/plain": [
       "'670.3'"
      ]
     },
     "metadata": {},
     "output_type": "display_data"
    },
    {
     "data": {
      "text/plain": [
       "'158.5'"
      ]
     },
     "metadata": {},
     "output_type": "display_data"
    },
    {
     "data": {
      "text/plain": [
       "'372.2'"
      ]
     },
     "metadata": {},
     "output_type": "display_data"
    },
    {
     "data": {
      "text/plain": [
       "'0.966'"
      ]
     },
     "metadata": {},
     "output_type": "display_data"
    },
    {
     "data": {
      "text/plain": [
       "'870.9'"
      ]
     },
     "metadata": {},
     "output_type": "display_data"
    },
    {
     "data": {
      "text/plain": [
       "'0.932'"
      ]
     },
     "metadata": {},
     "output_type": "display_data"
    },
    {
     "data": {
      "text/plain": [
       "'0.306'"
      ]
     },
     "metadata": {},
     "output_type": "display_data"
    },
    {
     "data": {
      "text/plain": [
       "'0.225'"
      ]
     },
     "metadata": {},
     "output_type": "display_data"
    },
    {
     "data": {
      "text/plain": [
       "'807.1'"
      ]
     },
     "metadata": {},
     "output_type": "display_data"
    },
    {
     "data": {
      "text/plain": [
       "'501.1'"
      ]
     },
     "metadata": {},
     "output_type": "display_data"
    },
    {
     "data": {
      "text/plain": [
       "'0.845'"
      ]
     },
     "metadata": {},
     "output_type": "display_data"
    },
    {
     "data": {
      "text/plain": [
       "'2210'"
      ]
     },
     "metadata": {},
     "output_type": "display_data"
    },
    {
     "data": {
      "text/plain": [
       "'0.159'"
      ]
     },
     "metadata": {},
     "output_type": "display_data"
    },
    {
     "data": {
      "text/plain": [
       "'0.670'"
      ]
     },
     "metadata": {},
     "output_type": "display_data"
    },
    {
     "data": {
      "text/plain": [
       "'0.809'"
      ]
     },
     "metadata": {},
     "output_type": "display_data"
    },
    {
     "data": {
      "text/plain": [
       "'157.5'"
      ]
     },
     "metadata": {},
     "output_type": "display_data"
    },
    {
     "data": {
      "text/plain": [
       "'0.521'"
      ]
     },
     "metadata": {},
     "output_type": "display_data"
    },
    {
     "data": {
      "text/plain": [
       "'0.876'"
      ]
     },
     "metadata": {},
     "output_type": "display_data"
    },
    {
     "data": {
      "text/plain": [
       "'844.3'"
      ]
     },
     "metadata": {},
     "output_type": "display_data"
    },
    {
     "data": {
      "text/plain": [
       "'0.900'"
      ]
     },
     "metadata": {},
     "output_type": "display_data"
    },
    {
     "data": {
      "text/plain": [
       "'310.1'"
      ]
     },
     "metadata": {},
     "output_type": "display_data"
    },
    {
     "data": {
      "text/plain": [
       "'180.6'"
      ]
     },
     "metadata": {},
     "output_type": "display_data"
    },
    {
     "data": {
      "text/plain": [
       "'180.5'"
      ]
     },
     "metadata": {},
     "output_type": "display_data"
    },
    {
     "data": {
      "text/plain": [
       "'501.5'"
      ]
     },
     "metadata": {},
     "output_type": "display_data"
    },
    {
     "data": {
      "text/plain": [
       "'0.512'"
      ]
     },
     "metadata": {},
     "output_type": "display_data"
    },
    {
     "data": {
      "text/plain": [
       "'337.1'"
      ]
     },
     "metadata": {},
     "output_type": "display_data"
    },
    {
     "data": {
      "text/plain": [
       "'600.6'"
      ]
     },
     "metadata": {},
     "output_type": "display_data"
    },
    {
     "data": {
      "text/plain": [
       "'0.399'"
      ]
     },
     "metadata": {},
     "output_type": "display_data"
    },
    {
     "data": {
      "text/plain": [
       "'0.501'"
      ]
     },
     "metadata": {},
     "output_type": "display_data"
    },
    {
     "data": {
      "text/plain": [
       "'0.336'"
      ]
     },
     "metadata": {},
     "output_type": "display_data"
    },
    {
     "data": {
      "text/plain": [
       "'206.1'"
      ]
     },
     "metadata": {},
     "output_type": "display_data"
    },
    {
     "data": {
      "text/plain": [
       "'385.1'"
      ]
     },
     "metadata": {},
     "output_type": "display_data"
    },
    {
     "data": {
      "text/plain": [
       "'0.823'"
      ]
     },
     "metadata": {},
     "output_type": "display_data"
    },
    {
     "data": {
      "text/plain": [
       "'401.1'"
      ]
     },
     "metadata": {},
     "output_type": "display_data"
    },
    {
     "data": {
      "text/plain": [
       "'637.2'"
      ]
     },
     "metadata": {},
     "output_type": "display_data"
    },
    {
     "data": {
      "text/plain": [
       "'0.347'"
      ]
     },
     "metadata": {},
     "output_type": "display_data"
    },
    {
     "data": {
      "text/plain": [
       "'100.3'"
      ]
     },
     "metadata": {},
     "output_type": "display_data"
    },
    {
     "data": {
      "text/plain": [
       "'0.873'"
      ]
     },
     "metadata": {},
     "output_type": "display_data"
    },
    {
     "data": {
      "text/plain": [
       "'0.844'"
      ]
     },
     "metadata": {},
     "output_type": "display_data"
    },
    {
     "data": {
      "text/plain": [
       "'0.172'"
      ]
     },
     "metadata": {},
     "output_type": "display_data"
    },
    {
     "data": {
      "text/plain": [
       "'805.6'"
      ]
     },
     "metadata": {},
     "output_type": "display_data"
    },
    {
     "data": {
      "text/plain": [
       "'506.2'"
      ]
     },
     "metadata": {},
     "output_type": "display_data"
    },
    {
     "data": {
      "text/plain": [
       "'813.3'"
      ]
     },
     "metadata": {},
     "output_type": "display_data"
    }
   ],
   "source": [
    "linestringLinhas = linhas[linhas['sentido']=='IDA']\n",
    "for i in range(linestringLinhas.shape[0]):\n",
    "     line = linestringLinhas.iloc[i]\n",
    "     display(line.linha)"
   ]
  },
  {
   "cell_type": "code",
   "execution_count": 50,
   "metadata": {},
   "outputs": [
    {
     "name": "stderr",
     "output_type": "stream",
     "text": [
      "/home/luiz/.pyenv/versions/3.11.3/envs/dev/lib/python3.11/site-packages/shapely/measurement.py:74: RuntimeWarning: invalid value encountered in distance\n",
      "  return lib.distance(a, b, **kwargs)\n",
      "/home/luiz/.pyenv/versions/3.11.3/envs/dev/lib/python3.11/site-packages/shapely/measurement.py:74: RuntimeWarning: invalid value encountered in distance\n",
      "  return lib.distance(a, b, **kwargs)\n",
      "/home/luiz/.pyenv/versions/3.11.3/envs/dev/lib/python3.11/site-packages/shapely/measurement.py:74: RuntimeWarning: invalid value encountered in distance\n",
      "  return lib.distance(a, b, **kwargs)\n"
     ]
    }
   ],
   "source": [
    "import geopandas as gpd\n",
    "from shapely.geometry import LineString, Point\n",
    "import folium\n",
    "import pandas as pd\n",
    "\n",
    "# Filtrando a linestring apenas pelas linhas de onibus de ida\n",
    "linestringLinhas = linhas[linhas['sentido']=='IDA']\n",
    "linestringLinhas = linestringLinhas.to_crs('EPSG:4326')\n",
    "# Criando um pandasdatagrame para armazenar todas as nossas linhas\n",
    "df = pd.DataFrame(columns=['linha', 'parada'])\n",
    "\n",
    "# Fazendo um loop para percorrer todas as linhas de onibus\n",
    "for i in range(linestringLinhas.shape[0]):\n",
    "    line = linestringLinhas.iloc[i]\n",
    "    linestring = linestringLinhas.geometry.iloc[i]   \n",
    "\n",
    "    # Criando listas para armazenar as paradas e dados dos ids da paradas encontradas\n",
    "    paradas_encontradas = []\n",
    "    data = []\n",
    "\n",
    "    limite_proximidade = 0.0002\n",
    "\n",
    "    # Iterar sobre os pontos de paradas e verificar se estão próximos da Linestring\n",
    "    for idx, ponto_parada in paradas.iterrows():\n",
    "        ponto = ponto_parada[\"geometry\"]\n",
    "        distancia = linestring.distance(ponto)\n",
    "        if distancia <= limite_proximidade:\n",
    "            paradas_encontradas.append(ponto_parada)\n",
    "\n",
    "    # Criar um novo GeoDataFrame com as paradas encontradas\n",
    "    gdf_paradas_encontradas = gpd.GeoDataFrame(paradas_encontradas, crs='EPSG:4326')\n",
    "\n",
    "    # Plotar as paradas de ônibus no mapa com o Folium\n",
    "    # m = folium.Map(location=[-15.76050, -47.78134], zoom_start=10)\n",
    "\n",
    "    for idx, ponto_parada in gdf_paradas_encontradas.iterrows():\n",
    "        lat, lon = ponto_parada[\"geometry\"].y, ponto_parada[\"geometry\"].x\n",
    "        data.append([lat, lon, ponto_parada['parada']])\n",
    "        # folium.Marker([lat, lon], popup=ponto_parada['parada']).add_to(m)\n",
    "    df.loc[i] = [line.linha, data]\n",
    "    "
   ]
  },
  {
   "cell_type": "code",
   "execution_count": 51,
   "metadata": {},
   "outputs": [
    {
     "data": {
      "text/html": [
       "<div>\n",
       "<style scoped>\n",
       "    .dataframe tbody tr th:only-of-type {\n",
       "        vertical-align: middle;\n",
       "    }\n",
       "\n",
       "    .dataframe tbody tr th {\n",
       "        vertical-align: top;\n",
       "    }\n",
       "\n",
       "    .dataframe thead th {\n",
       "        text-align: right;\n",
       "    }\n",
       "</style>\n",
       "<table border=\"1\" class=\"dataframe\">\n",
       "  <thead>\n",
       "    <tr style=\"text-align: right;\">\n",
       "      <th></th>\n",
       "      <th>linha</th>\n",
       "      <th>parada</th>\n",
       "    </tr>\n",
       "  </thead>\n",
       "  <tbody>\n",
       "    <tr>\n",
       "      <th>0</th>\n",
       "      <td>0.018</td>\n",
       "      <td>[[-15.747487243955707, -47.89600866323914, 351...</td>\n",
       "    </tr>\n",
       "    <tr>\n",
       "      <th>1</th>\n",
       "      <td>0.946</td>\n",
       "      <td>[[-15.80778852625573, -47.96642705712294, 2256...</td>\n",
       "    </tr>\n",
       "    <tr>\n",
       "      <th>2</th>\n",
       "      <td>0.373</td>\n",
       "      <td>[[-15.866555379423424, -47.96504713913905, 605...</td>\n",
       "    </tr>\n",
       "    <tr>\n",
       "      <th>3</th>\n",
       "      <td>503.3</td>\n",
       "      <td>[[-15.638937404577504, -47.82260762728512, 491...</td>\n",
       "    </tr>\n",
       "    <tr>\n",
       "      <th>4</th>\n",
       "      <td>531.1</td>\n",
       "      <td>[[-15.638937404577504, -47.82260762728512, 491...</td>\n",
       "    </tr>\n",
       "    <tr>\n",
       "      <th>...</th>\n",
       "      <td>...</td>\n",
       "      <td>...</td>\n",
       "    </tr>\n",
       "    <tr>\n",
       "      <th>482</th>\n",
       "      <td>0.844</td>\n",
       "      <td>[[-15.884075085352835, -48.129561044093, 4228]...</td>\n",
       "    </tr>\n",
       "    <tr>\n",
       "      <th>483</th>\n",
       "      <td>0.172</td>\n",
       "      <td>[[-15.866555379423424, -47.96504713913905, 605...</td>\n",
       "    </tr>\n",
       "    <tr>\n",
       "      <th>484</th>\n",
       "      <td>805.6</td>\n",
       "      <td>[[-15.867119301987762, -48.02312295895697, 534...</td>\n",
       "    </tr>\n",
       "    <tr>\n",
       "      <th>485</th>\n",
       "      <td>506.2</td>\n",
       "      <td>[[-15.638004360182045, -47.821280315734576, 48...</td>\n",
       "    </tr>\n",
       "    <tr>\n",
       "      <th>486</th>\n",
       "      <td>813.3</td>\n",
       "      <td>[[-15.747487243955707, -47.89600866323914, 351...</td>\n",
       "    </tr>\n",
       "  </tbody>\n",
       "</table>\n",
       "<p>487 rows × 2 columns</p>\n",
       "</div>"
      ],
      "text/plain": [
       "     linha                                             parada\n",
       "0    0.018  [[-15.747487243955707, -47.89600866323914, 351...\n",
       "1    0.946  [[-15.80778852625573, -47.96642705712294, 2256...\n",
       "2    0.373  [[-15.866555379423424, -47.96504713913905, 605...\n",
       "3    503.3  [[-15.638937404577504, -47.82260762728512, 491...\n",
       "4    531.1  [[-15.638937404577504, -47.82260762728512, 491...\n",
       "..     ...                                                ...\n",
       "482  0.844  [[-15.884075085352835, -48.129561044093, 4228]...\n",
       "483  0.172  [[-15.866555379423424, -47.96504713913905, 605...\n",
       "484  805.6  [[-15.867119301987762, -48.02312295895697, 534...\n",
       "485  506.2  [[-15.638004360182045, -47.821280315734576, 48...\n",
       "486  813.3  [[-15.747487243955707, -47.89600866323914, 351...\n",
       "\n",
       "[487 rows x 2 columns]"
      ]
     },
     "execution_count": 51,
     "metadata": {},
     "output_type": "execute_result"
    }
   ],
   "source": [
    "df"
   ]
  },
  {
   "cell_type": "code",
   "execution_count": 52,
   "metadata": {},
   "outputs": [
    {
     "name": "stdout",
     "output_type": "stream",
     "text": [
      "0.018\n"
     ]
    },
    {
     "data": {
      "text/plain": [
       "[[-15.747487243955707, -47.89600866323914, '3517'],\n",
       " [-15.767293, -47.788723, '7557'],\n",
       " [-15.770124999999993, -47.788733, '7558'],\n",
       " [-15.76816299999999, -47.79217, '7559'],\n",
       " [-15.76878769178167, -47.79181613649742, '6849'],\n",
       " [-15.801876883880325, -47.853377134770575, '3244'],\n",
       " [-15.80215197439144, -47.85334236319928, '3274'],\n",
       " [-15.809893497849329, -47.84708729749916, '2536'],\n",
       " [-15.736227202321027, -47.906332156391095, '6289'],\n",
       " [-15.772867205987303, -47.78698227588883, '6850'],\n",
       " [-15.809337079803566, -47.80146129326365, '2398'],\n",
       " [-15.803428845776875, -47.79425505968125, '2396'],\n",
       " [-15.803454253894726, -47.79461287922536, '2397'],\n",
       " [-15.829022308732215, -47.81081674479493, '2403'],\n",
       " [-15.831925922492013, -47.81397976927216, '2404'],\n",
       " [-15.797596184162835, -47.86710930024519, '6644'],\n",
       " [-15.799073234203481, -47.862335146055635, '3290'],\n",
       " [-15.797389090351166, -47.867738038218036, '3245'],\n",
       " [-15.795841856727913, -47.87267779975089, '3248'],\n",
       " [-15.79686846761915, -47.86937133224016, '3246'],\n",
       " [-15.796358539595555, -47.870997878546575, '3247'],\n",
       " [-15.797644419623916, -47.8669777962173, '6960'],\n",
       " [-15.797091889501296, -47.868512991348375, '6880'],\n",
       " [-15.813417147096223, -47.80571288393757, '2399'],\n",
       " [-15.820611014682267, -47.80540597675534, '2401'],\n",
       " [-15.818083977414886, -47.806039025859654, '2400'],\n",
       " [-15.825286390870474, -47.80676354354269, '2402'],\n",
       " [-15.818655006848042, -47.833018633099904, '2535'],\n",
       " [-15.814180079657813, -47.84093158466939, '3617'],\n",
       " [-15.764157999999997, -47.793713, '7560'],\n",
       " [-15.763024000000007, -47.792896, '7561'],\n",
       " [-15.762654999999999, -47.785836, '7555'],\n",
       " [-15.764453999999999, -47.788622, '7556'],\n",
       " [-15.763012000000002, -47.78935, '7562'],\n",
       " [-15.763044999999995, -47.78651, '7563'],\n",
       " [-15.762564999999999, -47.784828, '7564'],\n",
       " [-15.764132965618785, -47.7859465901341, '6844'],\n",
       " [-15.764122540605399, -47.78575341137903, '6857'],\n",
       " [-15.762653033595509, -47.78497118582577, '6855'],\n",
       " [-15.762575142626542, -47.78549231060707, '6856'],\n",
       " [-15.78228342439568, -47.7788645278897, '2715'],\n",
       " [-15.77940771253354, -47.78071724739479, '6134'],\n",
       " [-15.831176567451147, -47.825721582213546, '2441'],\n",
       " [-15.785406445712793, -47.77728909161838, '2696'],\n",
       " [-15.834860487271557, -47.82222269505168, '2405'],\n",
       " [-15.750807913099322, -47.8949281116755, '3516'],\n",
       " [-15.753694998623457, -47.89400504430343, '3515'],\n",
       " [-15.760012169623284, -47.891976176212104, '3513'],\n",
       " [-15.757033653547683, -47.89293900668162, '3514'],\n",
       " [-15.780738695652959, -47.887459438755265, '3506'],\n",
       " [-15.777509708768566, -47.88773230535398, '3507'],\n",
       " [-15.771152364468017, -47.88868146558276, '3509'],\n",
       " [-15.774801330614789, -47.88800228388125, '3508'],\n",
       " [-15.766141701235163, -47.890017882666925, '3511'],\n",
       " [-15.763216046795371, -47.89095602356193, '3512'],\n",
       " [-15.769141094278112, -47.88915290178694, '3510'],\n",
       " [-15.791051074978341, -47.886844986747825, '3251'],\n",
       " [-15.787162382832602, -47.887918091709295, '3504'],\n",
       " [-15.783898226654156, -47.88744731247922, '3505'],\n",
       " [-15.79312487862179, -47.88168794730824, '3369'],\n",
       " [-15.793626540670312, -47.87960280836419, '3250'],\n",
       " [-15.795303775856665, -47.87438003367925, '3249'],\n",
       " [-15.73541921559784, -47.897317053648564, '3470'],\n",
       " [-15.737021646013647, -47.89837691322528, '3520'],\n",
       " [-15.741101319354277, -47.898045528987495, '3519'],\n",
       " [-15.744621728383612, -47.8969247962739, '3518']]"
      ]
     },
     "execution_count": 52,
     "metadata": {},
     "output_type": "execute_result"
    }
   ],
   "source": [
    "print(df.linha[0]) # linha de ida da 0.018\n",
    "df.parada[0] # Verificando os pontos de paradas com seus respectivos números. "
   ]
  },
  {
   "cell_type": "code",
   "execution_count": 53,
   "metadata": {},
   "outputs": [
    {
     "data": {
      "text/plain": [
       "(66, 3)"
      ]
     },
     "execution_count": 53,
     "metadata": {},
     "output_type": "execute_result"
    }
   ],
   "source": [
    "# Trabalhando com o dataframe criado\n",
    "# Primeiro convertendo para array m*3\n",
    "import numpy as np\n",
    "a = np.array(df.parada[0])\n",
    "a.shape"
   ]
  },
  {
   "cell_type": "code",
   "execution_count": 54,
   "metadata": {},
   "outputs": [
    {
     "data": {
      "text/html": [
       "<div style=\"width:100%;\"><div style=\"position:relative;width:100%;height:0;padding-bottom:60%;\"><span style=\"color:#565656\">Make this Notebook Trusted to load map: File -> Trust Notebook</span><iframe srcdoc=\"&lt;!DOCTYPE html&gt;\n",
       "&lt;html&gt;\n",
       "&lt;head&gt;\n",
       "    \n",
       "    &lt;meta http-equiv=&quot;content-type&quot; content=&quot;text/html; charset=UTF-8&quot; /&gt;\n",
       "    \n",
       "        &lt;script&gt;\n",
       "            L_NO_TOUCH = false;\n",
       "            L_DISABLE_3D = false;\n",
       "        &lt;/script&gt;\n",
       "    \n",
       "    &lt;style&gt;html, body {width: 100%;height: 100%;margin: 0;padding: 0;}&lt;/style&gt;\n",
       "    &lt;style&gt;#map {position:absolute;top:0;bottom:0;right:0;left:0;}&lt;/style&gt;\n",
       "    &lt;script src=&quot;https://cdn.jsdelivr.net/npm/leaflet@1.9.3/dist/leaflet.js&quot;&gt;&lt;/script&gt;\n",
       "    &lt;script src=&quot;https://code.jquery.com/jquery-1.12.4.min.js&quot;&gt;&lt;/script&gt;\n",
       "    &lt;script src=&quot;https://cdn.jsdelivr.net/npm/bootstrap@5.2.2/dist/js/bootstrap.bundle.min.js&quot;&gt;&lt;/script&gt;\n",
       "    &lt;script src=&quot;https://cdnjs.cloudflare.com/ajax/libs/Leaflet.awesome-markers/2.0.2/leaflet.awesome-markers.js&quot;&gt;&lt;/script&gt;\n",
       "    &lt;link rel=&quot;stylesheet&quot; href=&quot;https://cdn.jsdelivr.net/npm/leaflet@1.9.3/dist/leaflet.css&quot;/&gt;\n",
       "    &lt;link rel=&quot;stylesheet&quot; href=&quot;https://cdn.jsdelivr.net/npm/bootstrap@5.2.2/dist/css/bootstrap.min.css&quot;/&gt;\n",
       "    &lt;link rel=&quot;stylesheet&quot; href=&quot;https://netdna.bootstrapcdn.com/bootstrap/3.0.0/css/bootstrap.min.css&quot;/&gt;\n",
       "    &lt;link rel=&quot;stylesheet&quot; href=&quot;https://cdn.jsdelivr.net/npm/@fortawesome/fontawesome-free@6.2.0/css/all.min.css&quot;/&gt;\n",
       "    &lt;link rel=&quot;stylesheet&quot; href=&quot;https://cdnjs.cloudflare.com/ajax/libs/Leaflet.awesome-markers/2.0.2/leaflet.awesome-markers.css&quot;/&gt;\n",
       "    &lt;link rel=&quot;stylesheet&quot; href=&quot;https://cdn.jsdelivr.net/gh/python-visualization/folium/folium/templates/leaflet.awesome.rotate.min.css&quot;/&gt;\n",
       "    \n",
       "            &lt;meta name=&quot;viewport&quot; content=&quot;width=device-width,\n",
       "                initial-scale=1.0, maximum-scale=1.0, user-scalable=no&quot; /&gt;\n",
       "            &lt;style&gt;\n",
       "                #map_2151f4061a4e056ea39a52ffd88333fc {\n",
       "                    position: relative;\n",
       "                    width: 100.0%;\n",
       "                    height: 100.0%;\n",
       "                    left: 0.0%;\n",
       "                    top: 0.0%;\n",
       "                }\n",
       "                .leaflet-container { font-size: 1rem; }\n",
       "            &lt;/style&gt;\n",
       "        \n",
       "&lt;/head&gt;\n",
       "&lt;body&gt;\n",
       "    \n",
       "    \n",
       "            &lt;div class=&quot;folium-map&quot; id=&quot;map_2151f4061a4e056ea39a52ffd88333fc&quot; &gt;&lt;/div&gt;\n",
       "        \n",
       "&lt;/body&gt;\n",
       "&lt;script&gt;\n",
       "    \n",
       "    \n",
       "            var map_2151f4061a4e056ea39a52ffd88333fc = L.map(\n",
       "                &quot;map_2151f4061a4e056ea39a52ffd88333fc&quot;,\n",
       "                {\n",
       "                    center: [-15.747487243955707, -47.89600866323914],\n",
       "                    crs: L.CRS.EPSG3857,\n",
       "                    zoom: 13,\n",
       "                    zoomControl: true,\n",
       "                    preferCanvas: false,\n",
       "                }\n",
       "            );\n",
       "\n",
       "            \n",
       "\n",
       "        \n",
       "    \n",
       "            var tile_layer_aea48ddba07e065142d175e1ee0a3fba = L.tileLayer(\n",
       "                &quot;https://{s}.tile.openstreetmap.org/{z}/{x}/{y}.png&quot;,\n",
       "                {&quot;attribution&quot;: &quot;Data by \\u0026copy; \\u003ca target=\\&quot;_blank\\&quot; href=\\&quot;http://openstreetmap.org\\&quot;\\u003eOpenStreetMap\\u003c/a\\u003e, under \\u003ca target=\\&quot;_blank\\&quot; href=\\&quot;http://www.openstreetmap.org/copyright\\&quot;\\u003eODbL\\u003c/a\\u003e.&quot;, &quot;detectRetina&quot;: false, &quot;maxNativeZoom&quot;: 18, &quot;maxZoom&quot;: 18, &quot;minZoom&quot;: 0, &quot;noWrap&quot;: false, &quot;opacity&quot;: 1, &quot;subdomains&quot;: &quot;abc&quot;, &quot;tms&quot;: false}\n",
       "            ).addTo(map_2151f4061a4e056ea39a52ffd88333fc);\n",
       "        \n",
       "    \n",
       "            var marker_dc2453a972f93b5b41e4249ff4406d85 = L.marker(\n",
       "                [-15.747487243955707, -47.89600866323914],\n",
       "                {}\n",
       "            ).addTo(map_2151f4061a4e056ea39a52ffd88333fc);\n",
       "        \n",
       "    \n",
       "        var popup_6584aab3ea04803e61cb1dd4329a2f55 = L.popup({&quot;maxWidth&quot;: &quot;100%&quot;});\n",
       "\n",
       "        \n",
       "            \n",
       "                var html_e8bdc86d4860058a9e44a93175f8837a = $(`&lt;div id=&quot;html_e8bdc86d4860058a9e44a93175f8837a&quot; style=&quot;width: 100.0%; height: 100.0%;&quot;&gt;3517&lt;/div&gt;`)[0];\n",
       "                popup_6584aab3ea04803e61cb1dd4329a2f55.setContent(html_e8bdc86d4860058a9e44a93175f8837a);\n",
       "            \n",
       "        \n",
       "\n",
       "        marker_dc2453a972f93b5b41e4249ff4406d85.bindPopup(popup_6584aab3ea04803e61cb1dd4329a2f55)\n",
       "        ;\n",
       "\n",
       "        \n",
       "    \n",
       "    \n",
       "            var marker_49c7f9642057cd1037ea78245004c156 = L.marker(\n",
       "                [-15.767293, -47.788723],\n",
       "                {}\n",
       "            ).addTo(map_2151f4061a4e056ea39a52ffd88333fc);\n",
       "        \n",
       "    \n",
       "        var popup_970bd0d8c18ec81abcf52baa7519b70a = L.popup({&quot;maxWidth&quot;: &quot;100%&quot;});\n",
       "\n",
       "        \n",
       "            \n",
       "                var html_0887e685d0393cc2fda1c9cb21a89e00 = $(`&lt;div id=&quot;html_0887e685d0393cc2fda1c9cb21a89e00&quot; style=&quot;width: 100.0%; height: 100.0%;&quot;&gt;7557&lt;/div&gt;`)[0];\n",
       "                popup_970bd0d8c18ec81abcf52baa7519b70a.setContent(html_0887e685d0393cc2fda1c9cb21a89e00);\n",
       "            \n",
       "        \n",
       "\n",
       "        marker_49c7f9642057cd1037ea78245004c156.bindPopup(popup_970bd0d8c18ec81abcf52baa7519b70a)\n",
       "        ;\n",
       "\n",
       "        \n",
       "    \n",
       "    \n",
       "            var marker_7ba0aa87cb184e60578d5adbe7b97bcb = L.marker(\n",
       "                [-15.770124999999993, -47.788733],\n",
       "                {}\n",
       "            ).addTo(map_2151f4061a4e056ea39a52ffd88333fc);\n",
       "        \n",
       "    \n",
       "        var popup_257d160ab6035f3ef807bf2b6626dae5 = L.popup({&quot;maxWidth&quot;: &quot;100%&quot;});\n",
       "\n",
       "        \n",
       "            \n",
       "                var html_ae2c32f68d0a77c3e0c15dd58b1ae88e = $(`&lt;div id=&quot;html_ae2c32f68d0a77c3e0c15dd58b1ae88e&quot; style=&quot;width: 100.0%; height: 100.0%;&quot;&gt;7558&lt;/div&gt;`)[0];\n",
       "                popup_257d160ab6035f3ef807bf2b6626dae5.setContent(html_ae2c32f68d0a77c3e0c15dd58b1ae88e);\n",
       "            \n",
       "        \n",
       "\n",
       "        marker_7ba0aa87cb184e60578d5adbe7b97bcb.bindPopup(popup_257d160ab6035f3ef807bf2b6626dae5)\n",
       "        ;\n",
       "\n",
       "        \n",
       "    \n",
       "    \n",
       "            var marker_ee0260563f9e987003d86d7259408b6e = L.marker(\n",
       "                [-15.76816299999999, -47.79217],\n",
       "                {}\n",
       "            ).addTo(map_2151f4061a4e056ea39a52ffd88333fc);\n",
       "        \n",
       "    \n",
       "        var popup_ddb878420e09a4c17adbf64e0dde5b02 = L.popup({&quot;maxWidth&quot;: &quot;100%&quot;});\n",
       "\n",
       "        \n",
       "            \n",
       "                var html_dfb32faba32cfb50b3a44b66b2ab5253 = $(`&lt;div id=&quot;html_dfb32faba32cfb50b3a44b66b2ab5253&quot; style=&quot;width: 100.0%; height: 100.0%;&quot;&gt;7559&lt;/div&gt;`)[0];\n",
       "                popup_ddb878420e09a4c17adbf64e0dde5b02.setContent(html_dfb32faba32cfb50b3a44b66b2ab5253);\n",
       "            \n",
       "        \n",
       "\n",
       "        marker_ee0260563f9e987003d86d7259408b6e.bindPopup(popup_ddb878420e09a4c17adbf64e0dde5b02)\n",
       "        ;\n",
       "\n",
       "        \n",
       "    \n",
       "    \n",
       "            var marker_ec8dfe01c132bfa0162634aa51219bc4 = L.marker(\n",
       "                [-15.76878769178167, -47.79181613649742],\n",
       "                {}\n",
       "            ).addTo(map_2151f4061a4e056ea39a52ffd88333fc);\n",
       "        \n",
       "    \n",
       "        var popup_5a25f9121b39d98afbcfb683eb960145 = L.popup({&quot;maxWidth&quot;: &quot;100%&quot;});\n",
       "\n",
       "        \n",
       "            \n",
       "                var html_b7c5bf1258b47f7408facd25301d25dd = $(`&lt;div id=&quot;html_b7c5bf1258b47f7408facd25301d25dd&quot; style=&quot;width: 100.0%; height: 100.0%;&quot;&gt;6849&lt;/div&gt;`)[0];\n",
       "                popup_5a25f9121b39d98afbcfb683eb960145.setContent(html_b7c5bf1258b47f7408facd25301d25dd);\n",
       "            \n",
       "        \n",
       "\n",
       "        marker_ec8dfe01c132bfa0162634aa51219bc4.bindPopup(popup_5a25f9121b39d98afbcfb683eb960145)\n",
       "        ;\n",
       "\n",
       "        \n",
       "    \n",
       "    \n",
       "            var marker_22af9d38ec7927903cfd2f1eb5e74b03 = L.marker(\n",
       "                [-15.801876883880325, -47.853377134770575],\n",
       "                {}\n",
       "            ).addTo(map_2151f4061a4e056ea39a52ffd88333fc);\n",
       "        \n",
       "    \n",
       "        var popup_563d60984a006e6cacf8e0fa0a8ebaa3 = L.popup({&quot;maxWidth&quot;: &quot;100%&quot;});\n",
       "\n",
       "        \n",
       "            \n",
       "                var html_c45ab98fd8b66f772e43dffe504f31ab = $(`&lt;div id=&quot;html_c45ab98fd8b66f772e43dffe504f31ab&quot; style=&quot;width: 100.0%; height: 100.0%;&quot;&gt;3244&lt;/div&gt;`)[0];\n",
       "                popup_563d60984a006e6cacf8e0fa0a8ebaa3.setContent(html_c45ab98fd8b66f772e43dffe504f31ab);\n",
       "            \n",
       "        \n",
       "\n",
       "        marker_22af9d38ec7927903cfd2f1eb5e74b03.bindPopup(popup_563d60984a006e6cacf8e0fa0a8ebaa3)\n",
       "        ;\n",
       "\n",
       "        \n",
       "    \n",
       "    \n",
       "            var marker_fa35f1c152c0a8971d0ece30f7196842 = L.marker(\n",
       "                [-15.80215197439144, -47.85334236319928],\n",
       "                {}\n",
       "            ).addTo(map_2151f4061a4e056ea39a52ffd88333fc);\n",
       "        \n",
       "    \n",
       "        var popup_cbd882860e41e1dc3a3907cbc261730e = L.popup({&quot;maxWidth&quot;: &quot;100%&quot;});\n",
       "\n",
       "        \n",
       "            \n",
       "                var html_d7412296a1c2c5f3b040e9631fc91ed5 = $(`&lt;div id=&quot;html_d7412296a1c2c5f3b040e9631fc91ed5&quot; style=&quot;width: 100.0%; height: 100.0%;&quot;&gt;3274&lt;/div&gt;`)[0];\n",
       "                popup_cbd882860e41e1dc3a3907cbc261730e.setContent(html_d7412296a1c2c5f3b040e9631fc91ed5);\n",
       "            \n",
       "        \n",
       "\n",
       "        marker_fa35f1c152c0a8971d0ece30f7196842.bindPopup(popup_cbd882860e41e1dc3a3907cbc261730e)\n",
       "        ;\n",
       "\n",
       "        \n",
       "    \n",
       "    \n",
       "            var marker_c2c456b609c8a462a67a145a428a7637 = L.marker(\n",
       "                [-15.809893497849329, -47.84708729749916],\n",
       "                {}\n",
       "            ).addTo(map_2151f4061a4e056ea39a52ffd88333fc);\n",
       "        \n",
       "    \n",
       "        var popup_11a4759fc644bf2714888a8c7494cd17 = L.popup({&quot;maxWidth&quot;: &quot;100%&quot;});\n",
       "\n",
       "        \n",
       "            \n",
       "                var html_87b0072cc9e53b2e739afe1285afbda7 = $(`&lt;div id=&quot;html_87b0072cc9e53b2e739afe1285afbda7&quot; style=&quot;width: 100.0%; height: 100.0%;&quot;&gt;2536&lt;/div&gt;`)[0];\n",
       "                popup_11a4759fc644bf2714888a8c7494cd17.setContent(html_87b0072cc9e53b2e739afe1285afbda7);\n",
       "            \n",
       "        \n",
       "\n",
       "        marker_c2c456b609c8a462a67a145a428a7637.bindPopup(popup_11a4759fc644bf2714888a8c7494cd17)\n",
       "        ;\n",
       "\n",
       "        \n",
       "    \n",
       "    \n",
       "            var marker_799697a0350bab993c851c560ecd9490 = L.marker(\n",
       "                [-15.736227202321027, -47.906332156391095],\n",
       "                {}\n",
       "            ).addTo(map_2151f4061a4e056ea39a52ffd88333fc);\n",
       "        \n",
       "    \n",
       "        var popup_5b0f2958c190cc659db7d4de0afd204e = L.popup({&quot;maxWidth&quot;: &quot;100%&quot;});\n",
       "\n",
       "        \n",
       "            \n",
       "                var html_2798edc1e489a177334545809ceede8e = $(`&lt;div id=&quot;html_2798edc1e489a177334545809ceede8e&quot; style=&quot;width: 100.0%; height: 100.0%;&quot;&gt;6289&lt;/div&gt;`)[0];\n",
       "                popup_5b0f2958c190cc659db7d4de0afd204e.setContent(html_2798edc1e489a177334545809ceede8e);\n",
       "            \n",
       "        \n",
       "\n",
       "        marker_799697a0350bab993c851c560ecd9490.bindPopup(popup_5b0f2958c190cc659db7d4de0afd204e)\n",
       "        ;\n",
       "\n",
       "        \n",
       "    \n",
       "    \n",
       "            var marker_61d0b5e9cad05457732c38640cacfc26 = L.marker(\n",
       "                [-15.772867205987303, -47.78698227588883],\n",
       "                {}\n",
       "            ).addTo(map_2151f4061a4e056ea39a52ffd88333fc);\n",
       "        \n",
       "    \n",
       "        var popup_40da898813493037f3b5ff177fdc323e = L.popup({&quot;maxWidth&quot;: &quot;100%&quot;});\n",
       "\n",
       "        \n",
       "            \n",
       "                var html_740b71510022f3308aa59dceaec4ec94 = $(`&lt;div id=&quot;html_740b71510022f3308aa59dceaec4ec94&quot; style=&quot;width: 100.0%; height: 100.0%;&quot;&gt;6850&lt;/div&gt;`)[0];\n",
       "                popup_40da898813493037f3b5ff177fdc323e.setContent(html_740b71510022f3308aa59dceaec4ec94);\n",
       "            \n",
       "        \n",
       "\n",
       "        marker_61d0b5e9cad05457732c38640cacfc26.bindPopup(popup_40da898813493037f3b5ff177fdc323e)\n",
       "        ;\n",
       "\n",
       "        \n",
       "    \n",
       "    \n",
       "            var marker_180242a75c3501220e5aa21cbad564f5 = L.marker(\n",
       "                [-15.809337079803566, -47.80146129326365],\n",
       "                {}\n",
       "            ).addTo(map_2151f4061a4e056ea39a52ffd88333fc);\n",
       "        \n",
       "    \n",
       "        var popup_92ee8e3df217193bf585f6097d66f5b7 = L.popup({&quot;maxWidth&quot;: &quot;100%&quot;});\n",
       "\n",
       "        \n",
       "            \n",
       "                var html_157824a9768b886ed5aa1e9209605561 = $(`&lt;div id=&quot;html_157824a9768b886ed5aa1e9209605561&quot; style=&quot;width: 100.0%; height: 100.0%;&quot;&gt;2398&lt;/div&gt;`)[0];\n",
       "                popup_92ee8e3df217193bf585f6097d66f5b7.setContent(html_157824a9768b886ed5aa1e9209605561);\n",
       "            \n",
       "        \n",
       "\n",
       "        marker_180242a75c3501220e5aa21cbad564f5.bindPopup(popup_92ee8e3df217193bf585f6097d66f5b7)\n",
       "        ;\n",
       "\n",
       "        \n",
       "    \n",
       "    \n",
       "            var marker_226c579a70dbe1a0042f77c00968a338 = L.marker(\n",
       "                [-15.803428845776875, -47.79425505968125],\n",
       "                {}\n",
       "            ).addTo(map_2151f4061a4e056ea39a52ffd88333fc);\n",
       "        \n",
       "    \n",
       "        var popup_8bf59682b3fa99c9f1b64e3918c98b24 = L.popup({&quot;maxWidth&quot;: &quot;100%&quot;});\n",
       "\n",
       "        \n",
       "            \n",
       "                var html_15194fdfa04b760a46e3028366b57ce0 = $(`&lt;div id=&quot;html_15194fdfa04b760a46e3028366b57ce0&quot; style=&quot;width: 100.0%; height: 100.0%;&quot;&gt;2396&lt;/div&gt;`)[0];\n",
       "                popup_8bf59682b3fa99c9f1b64e3918c98b24.setContent(html_15194fdfa04b760a46e3028366b57ce0);\n",
       "            \n",
       "        \n",
       "\n",
       "        marker_226c579a70dbe1a0042f77c00968a338.bindPopup(popup_8bf59682b3fa99c9f1b64e3918c98b24)\n",
       "        ;\n",
       "\n",
       "        \n",
       "    \n",
       "    \n",
       "            var marker_cb2418f5173d230030b039e628e726f8 = L.marker(\n",
       "                [-15.803454253894726, -47.79461287922536],\n",
       "                {}\n",
       "            ).addTo(map_2151f4061a4e056ea39a52ffd88333fc);\n",
       "        \n",
       "    \n",
       "        var popup_34a9b4044425dc4ebe100f0cc6b2089c = L.popup({&quot;maxWidth&quot;: &quot;100%&quot;});\n",
       "\n",
       "        \n",
       "            \n",
       "                var html_944db89428db820881b2ca0ad7684e03 = $(`&lt;div id=&quot;html_944db89428db820881b2ca0ad7684e03&quot; style=&quot;width: 100.0%; height: 100.0%;&quot;&gt;2397&lt;/div&gt;`)[0];\n",
       "                popup_34a9b4044425dc4ebe100f0cc6b2089c.setContent(html_944db89428db820881b2ca0ad7684e03);\n",
       "            \n",
       "        \n",
       "\n",
       "        marker_cb2418f5173d230030b039e628e726f8.bindPopup(popup_34a9b4044425dc4ebe100f0cc6b2089c)\n",
       "        ;\n",
       "\n",
       "        \n",
       "    \n",
       "    \n",
       "            var marker_8ca7783fe9f4014e5b3081e740334f03 = L.marker(\n",
       "                [-15.829022308732215, -47.81081674479493],\n",
       "                {}\n",
       "            ).addTo(map_2151f4061a4e056ea39a52ffd88333fc);\n",
       "        \n",
       "    \n",
       "        var popup_4ed1684cc1f916ca6893ed374ba18ce6 = L.popup({&quot;maxWidth&quot;: &quot;100%&quot;});\n",
       "\n",
       "        \n",
       "            \n",
       "                var html_0cb7a4e65a08bac59f1aecd8fa6238ee = $(`&lt;div id=&quot;html_0cb7a4e65a08bac59f1aecd8fa6238ee&quot; style=&quot;width: 100.0%; height: 100.0%;&quot;&gt;2403&lt;/div&gt;`)[0];\n",
       "                popup_4ed1684cc1f916ca6893ed374ba18ce6.setContent(html_0cb7a4e65a08bac59f1aecd8fa6238ee);\n",
       "            \n",
       "        \n",
       "\n",
       "        marker_8ca7783fe9f4014e5b3081e740334f03.bindPopup(popup_4ed1684cc1f916ca6893ed374ba18ce6)\n",
       "        ;\n",
       "\n",
       "        \n",
       "    \n",
       "    \n",
       "            var marker_292f7a7a0103dc732b974ac5135befa9 = L.marker(\n",
       "                [-15.831925922492013, -47.81397976927216],\n",
       "                {}\n",
       "            ).addTo(map_2151f4061a4e056ea39a52ffd88333fc);\n",
       "        \n",
       "    \n",
       "        var popup_fbe9a3f11809296cffd9124d62b57527 = L.popup({&quot;maxWidth&quot;: &quot;100%&quot;});\n",
       "\n",
       "        \n",
       "            \n",
       "                var html_56fccb8befa837a8c2e27ef5ef202838 = $(`&lt;div id=&quot;html_56fccb8befa837a8c2e27ef5ef202838&quot; style=&quot;width: 100.0%; height: 100.0%;&quot;&gt;2404&lt;/div&gt;`)[0];\n",
       "                popup_fbe9a3f11809296cffd9124d62b57527.setContent(html_56fccb8befa837a8c2e27ef5ef202838);\n",
       "            \n",
       "        \n",
       "\n",
       "        marker_292f7a7a0103dc732b974ac5135befa9.bindPopup(popup_fbe9a3f11809296cffd9124d62b57527)\n",
       "        ;\n",
       "\n",
       "        \n",
       "    \n",
       "    \n",
       "            var marker_3daa5e6fe3c944ab289985f4dec684f2 = L.marker(\n",
       "                [-15.797596184162835, -47.86710930024519],\n",
       "                {}\n",
       "            ).addTo(map_2151f4061a4e056ea39a52ffd88333fc);\n",
       "        \n",
       "    \n",
       "        var popup_ab96d0ec9e3e0a28e4f39d5b339f93ed = L.popup({&quot;maxWidth&quot;: &quot;100%&quot;});\n",
       "\n",
       "        \n",
       "            \n",
       "                var html_c13b81f908a5f826b11662328b5b6bb9 = $(`&lt;div id=&quot;html_c13b81f908a5f826b11662328b5b6bb9&quot; style=&quot;width: 100.0%; height: 100.0%;&quot;&gt;6644&lt;/div&gt;`)[0];\n",
       "                popup_ab96d0ec9e3e0a28e4f39d5b339f93ed.setContent(html_c13b81f908a5f826b11662328b5b6bb9);\n",
       "            \n",
       "        \n",
       "\n",
       "        marker_3daa5e6fe3c944ab289985f4dec684f2.bindPopup(popup_ab96d0ec9e3e0a28e4f39d5b339f93ed)\n",
       "        ;\n",
       "\n",
       "        \n",
       "    \n",
       "    \n",
       "            var marker_4e33e49e9c608ca07c1928865a5dbd05 = L.marker(\n",
       "                [-15.799073234203481, -47.862335146055635],\n",
       "                {}\n",
       "            ).addTo(map_2151f4061a4e056ea39a52ffd88333fc);\n",
       "        \n",
       "    \n",
       "        var popup_84ae8348682eceb7eb58d5ec4763dfff = L.popup({&quot;maxWidth&quot;: &quot;100%&quot;});\n",
       "\n",
       "        \n",
       "            \n",
       "                var html_227fa45e10469706d542c725b562ff9d = $(`&lt;div id=&quot;html_227fa45e10469706d542c725b562ff9d&quot; style=&quot;width: 100.0%; height: 100.0%;&quot;&gt;3290&lt;/div&gt;`)[0];\n",
       "                popup_84ae8348682eceb7eb58d5ec4763dfff.setContent(html_227fa45e10469706d542c725b562ff9d);\n",
       "            \n",
       "        \n",
       "\n",
       "        marker_4e33e49e9c608ca07c1928865a5dbd05.bindPopup(popup_84ae8348682eceb7eb58d5ec4763dfff)\n",
       "        ;\n",
       "\n",
       "        \n",
       "    \n",
       "    \n",
       "            var marker_bed3617a9f0622b561dad8ecc5ec41ef = L.marker(\n",
       "                [-15.797389090351166, -47.867738038218036],\n",
       "                {}\n",
       "            ).addTo(map_2151f4061a4e056ea39a52ffd88333fc);\n",
       "        \n",
       "    \n",
       "        var popup_ae99a9e05934eeb1b313964151941dc1 = L.popup({&quot;maxWidth&quot;: &quot;100%&quot;});\n",
       "\n",
       "        \n",
       "            \n",
       "                var html_74e434f72d0a0f1794d663ba1a344ee9 = $(`&lt;div id=&quot;html_74e434f72d0a0f1794d663ba1a344ee9&quot; style=&quot;width: 100.0%; height: 100.0%;&quot;&gt;3245&lt;/div&gt;`)[0];\n",
       "                popup_ae99a9e05934eeb1b313964151941dc1.setContent(html_74e434f72d0a0f1794d663ba1a344ee9);\n",
       "            \n",
       "        \n",
       "\n",
       "        marker_bed3617a9f0622b561dad8ecc5ec41ef.bindPopup(popup_ae99a9e05934eeb1b313964151941dc1)\n",
       "        ;\n",
       "\n",
       "        \n",
       "    \n",
       "    \n",
       "            var marker_875a3de23abf67993938b39075b678f5 = L.marker(\n",
       "                [-15.795841856727913, -47.87267779975089],\n",
       "                {}\n",
       "            ).addTo(map_2151f4061a4e056ea39a52ffd88333fc);\n",
       "        \n",
       "    \n",
       "        var popup_8265bdddbc9b71ecc9465eff69017931 = L.popup({&quot;maxWidth&quot;: &quot;100%&quot;});\n",
       "\n",
       "        \n",
       "            \n",
       "                var html_1a4d8a6e47c27c5b2452763ab3de4214 = $(`&lt;div id=&quot;html_1a4d8a6e47c27c5b2452763ab3de4214&quot; style=&quot;width: 100.0%; height: 100.0%;&quot;&gt;3248&lt;/div&gt;`)[0];\n",
       "                popup_8265bdddbc9b71ecc9465eff69017931.setContent(html_1a4d8a6e47c27c5b2452763ab3de4214);\n",
       "            \n",
       "        \n",
       "\n",
       "        marker_875a3de23abf67993938b39075b678f5.bindPopup(popup_8265bdddbc9b71ecc9465eff69017931)\n",
       "        ;\n",
       "\n",
       "        \n",
       "    \n",
       "    \n",
       "            var marker_519bf04f878b55a6e90982a66f4aa594 = L.marker(\n",
       "                [-15.79686846761915, -47.86937133224016],\n",
       "                {}\n",
       "            ).addTo(map_2151f4061a4e056ea39a52ffd88333fc);\n",
       "        \n",
       "    \n",
       "        var popup_aa643a551bfdeb05b400b70eebd75ff0 = L.popup({&quot;maxWidth&quot;: &quot;100%&quot;});\n",
       "\n",
       "        \n",
       "            \n",
       "                var html_a003128b4dbbf14cb0943ea1d3003b73 = $(`&lt;div id=&quot;html_a003128b4dbbf14cb0943ea1d3003b73&quot; style=&quot;width: 100.0%; height: 100.0%;&quot;&gt;3246&lt;/div&gt;`)[0];\n",
       "                popup_aa643a551bfdeb05b400b70eebd75ff0.setContent(html_a003128b4dbbf14cb0943ea1d3003b73);\n",
       "            \n",
       "        \n",
       "\n",
       "        marker_519bf04f878b55a6e90982a66f4aa594.bindPopup(popup_aa643a551bfdeb05b400b70eebd75ff0)\n",
       "        ;\n",
       "\n",
       "        \n",
       "    \n",
       "    \n",
       "            var marker_0284142b2cd479ebbb7743496365729b = L.marker(\n",
       "                [-15.796358539595555, -47.870997878546575],\n",
       "                {}\n",
       "            ).addTo(map_2151f4061a4e056ea39a52ffd88333fc);\n",
       "        \n",
       "    \n",
       "        var popup_0e20339dc21ab7998632d35176139ade = L.popup({&quot;maxWidth&quot;: &quot;100%&quot;});\n",
       "\n",
       "        \n",
       "            \n",
       "                var html_82677ad9ab4ad08a08cd3e5a803ce6f2 = $(`&lt;div id=&quot;html_82677ad9ab4ad08a08cd3e5a803ce6f2&quot; style=&quot;width: 100.0%; height: 100.0%;&quot;&gt;3247&lt;/div&gt;`)[0];\n",
       "                popup_0e20339dc21ab7998632d35176139ade.setContent(html_82677ad9ab4ad08a08cd3e5a803ce6f2);\n",
       "            \n",
       "        \n",
       "\n",
       "        marker_0284142b2cd479ebbb7743496365729b.bindPopup(popup_0e20339dc21ab7998632d35176139ade)\n",
       "        ;\n",
       "\n",
       "        \n",
       "    \n",
       "    \n",
       "            var marker_8f72c13e5a39a29898ac0f1d8df1e3e3 = L.marker(\n",
       "                [-15.797644419623916, -47.8669777962173],\n",
       "                {}\n",
       "            ).addTo(map_2151f4061a4e056ea39a52ffd88333fc);\n",
       "        \n",
       "    \n",
       "        var popup_987215bcebcb6b4cbc376522ef3d035b = L.popup({&quot;maxWidth&quot;: &quot;100%&quot;});\n",
       "\n",
       "        \n",
       "            \n",
       "                var html_9b2fc5d1a14962d9a7537a7fa37f0e4b = $(`&lt;div id=&quot;html_9b2fc5d1a14962d9a7537a7fa37f0e4b&quot; style=&quot;width: 100.0%; height: 100.0%;&quot;&gt;6960&lt;/div&gt;`)[0];\n",
       "                popup_987215bcebcb6b4cbc376522ef3d035b.setContent(html_9b2fc5d1a14962d9a7537a7fa37f0e4b);\n",
       "            \n",
       "        \n",
       "\n",
       "        marker_8f72c13e5a39a29898ac0f1d8df1e3e3.bindPopup(popup_987215bcebcb6b4cbc376522ef3d035b)\n",
       "        ;\n",
       "\n",
       "        \n",
       "    \n",
       "    \n",
       "            var marker_ea61f4f4b1660e2003eed22016d31d89 = L.marker(\n",
       "                [-15.797091889501296, -47.868512991348375],\n",
       "                {}\n",
       "            ).addTo(map_2151f4061a4e056ea39a52ffd88333fc);\n",
       "        \n",
       "    \n",
       "        var popup_0edd9bf6bb9996c0e3d1d3717de66285 = L.popup({&quot;maxWidth&quot;: &quot;100%&quot;});\n",
       "\n",
       "        \n",
       "            \n",
       "                var html_047893b2c6a1ce784b0aeee6ec3855f4 = $(`&lt;div id=&quot;html_047893b2c6a1ce784b0aeee6ec3855f4&quot; style=&quot;width: 100.0%; height: 100.0%;&quot;&gt;6880&lt;/div&gt;`)[0];\n",
       "                popup_0edd9bf6bb9996c0e3d1d3717de66285.setContent(html_047893b2c6a1ce784b0aeee6ec3855f4);\n",
       "            \n",
       "        \n",
       "\n",
       "        marker_ea61f4f4b1660e2003eed22016d31d89.bindPopup(popup_0edd9bf6bb9996c0e3d1d3717de66285)\n",
       "        ;\n",
       "\n",
       "        \n",
       "    \n",
       "    \n",
       "            var marker_7957a1c58284eeff03d913984e358415 = L.marker(\n",
       "                [-15.813417147096223, -47.80571288393757],\n",
       "                {}\n",
       "            ).addTo(map_2151f4061a4e056ea39a52ffd88333fc);\n",
       "        \n",
       "    \n",
       "        var popup_c45c7026e48b82f3e0b1d2253307e063 = L.popup({&quot;maxWidth&quot;: &quot;100%&quot;});\n",
       "\n",
       "        \n",
       "            \n",
       "                var html_72d5c3db3c20f7f66c48f7532003fb66 = $(`&lt;div id=&quot;html_72d5c3db3c20f7f66c48f7532003fb66&quot; style=&quot;width: 100.0%; height: 100.0%;&quot;&gt;2399&lt;/div&gt;`)[0];\n",
       "                popup_c45c7026e48b82f3e0b1d2253307e063.setContent(html_72d5c3db3c20f7f66c48f7532003fb66);\n",
       "            \n",
       "        \n",
       "\n",
       "        marker_7957a1c58284eeff03d913984e358415.bindPopup(popup_c45c7026e48b82f3e0b1d2253307e063)\n",
       "        ;\n",
       "\n",
       "        \n",
       "    \n",
       "    \n",
       "            var marker_7a9f12027bc3ed757a812b71a81b5e15 = L.marker(\n",
       "                [-15.820611014682267, -47.80540597675534],\n",
       "                {}\n",
       "            ).addTo(map_2151f4061a4e056ea39a52ffd88333fc);\n",
       "        \n",
       "    \n",
       "        var popup_edb56e934dfc6a432e94611897cda00a = L.popup({&quot;maxWidth&quot;: &quot;100%&quot;});\n",
       "\n",
       "        \n",
       "            \n",
       "                var html_0988d16a6960b399bce55b87d520905e = $(`&lt;div id=&quot;html_0988d16a6960b399bce55b87d520905e&quot; style=&quot;width: 100.0%; height: 100.0%;&quot;&gt;2401&lt;/div&gt;`)[0];\n",
       "                popup_edb56e934dfc6a432e94611897cda00a.setContent(html_0988d16a6960b399bce55b87d520905e);\n",
       "            \n",
       "        \n",
       "\n",
       "        marker_7a9f12027bc3ed757a812b71a81b5e15.bindPopup(popup_edb56e934dfc6a432e94611897cda00a)\n",
       "        ;\n",
       "\n",
       "        \n",
       "    \n",
       "    \n",
       "            var marker_08dbcec4952c946a5fdb865173cfdb3f = L.marker(\n",
       "                [-15.818083977414886, -47.806039025859654],\n",
       "                {}\n",
       "            ).addTo(map_2151f4061a4e056ea39a52ffd88333fc);\n",
       "        \n",
       "    \n",
       "        var popup_c29e98e20d63b672dc99f38daa1d1f59 = L.popup({&quot;maxWidth&quot;: &quot;100%&quot;});\n",
       "\n",
       "        \n",
       "            \n",
       "                var html_cdb9f931e7332af8a0f29bb666c39b00 = $(`&lt;div id=&quot;html_cdb9f931e7332af8a0f29bb666c39b00&quot; style=&quot;width: 100.0%; height: 100.0%;&quot;&gt;2400&lt;/div&gt;`)[0];\n",
       "                popup_c29e98e20d63b672dc99f38daa1d1f59.setContent(html_cdb9f931e7332af8a0f29bb666c39b00);\n",
       "            \n",
       "        \n",
       "\n",
       "        marker_08dbcec4952c946a5fdb865173cfdb3f.bindPopup(popup_c29e98e20d63b672dc99f38daa1d1f59)\n",
       "        ;\n",
       "\n",
       "        \n",
       "    \n",
       "    \n",
       "            var marker_a6bbb76da159f68039d7d216e4d7cb0d = L.marker(\n",
       "                [-15.825286390870474, -47.80676354354269],\n",
       "                {}\n",
       "            ).addTo(map_2151f4061a4e056ea39a52ffd88333fc);\n",
       "        \n",
       "    \n",
       "        var popup_f47c5c069b5db9633399f687e85cfa4c = L.popup({&quot;maxWidth&quot;: &quot;100%&quot;});\n",
       "\n",
       "        \n",
       "            \n",
       "                var html_ba01a1c689ced2b15cfed6b3d7d158ae = $(`&lt;div id=&quot;html_ba01a1c689ced2b15cfed6b3d7d158ae&quot; style=&quot;width: 100.0%; height: 100.0%;&quot;&gt;2402&lt;/div&gt;`)[0];\n",
       "                popup_f47c5c069b5db9633399f687e85cfa4c.setContent(html_ba01a1c689ced2b15cfed6b3d7d158ae);\n",
       "            \n",
       "        \n",
       "\n",
       "        marker_a6bbb76da159f68039d7d216e4d7cb0d.bindPopup(popup_f47c5c069b5db9633399f687e85cfa4c)\n",
       "        ;\n",
       "\n",
       "        \n",
       "    \n",
       "    \n",
       "            var marker_5e4945b9d919cf5100acfda725cf3ea3 = L.marker(\n",
       "                [-15.818655006848042, -47.833018633099904],\n",
       "                {}\n",
       "            ).addTo(map_2151f4061a4e056ea39a52ffd88333fc);\n",
       "        \n",
       "    \n",
       "        var popup_cf0af12d5b8c6d4365c6a958930ae830 = L.popup({&quot;maxWidth&quot;: &quot;100%&quot;});\n",
       "\n",
       "        \n",
       "            \n",
       "                var html_d2afb52ed2b970cdd220c8f8dafe0334 = $(`&lt;div id=&quot;html_d2afb52ed2b970cdd220c8f8dafe0334&quot; style=&quot;width: 100.0%; height: 100.0%;&quot;&gt;2535&lt;/div&gt;`)[0];\n",
       "                popup_cf0af12d5b8c6d4365c6a958930ae830.setContent(html_d2afb52ed2b970cdd220c8f8dafe0334);\n",
       "            \n",
       "        \n",
       "\n",
       "        marker_5e4945b9d919cf5100acfda725cf3ea3.bindPopup(popup_cf0af12d5b8c6d4365c6a958930ae830)\n",
       "        ;\n",
       "\n",
       "        \n",
       "    \n",
       "    \n",
       "            var marker_8cd423ba3f448adad562c8115b2dcaa6 = L.marker(\n",
       "                [-15.814180079657813, -47.84093158466939],\n",
       "                {}\n",
       "            ).addTo(map_2151f4061a4e056ea39a52ffd88333fc);\n",
       "        \n",
       "    \n",
       "        var popup_b9c163b6b560c2ea900f3f3e62ef4477 = L.popup({&quot;maxWidth&quot;: &quot;100%&quot;});\n",
       "\n",
       "        \n",
       "            \n",
       "                var html_611af1b0a9f5d976c6fc56713c263088 = $(`&lt;div id=&quot;html_611af1b0a9f5d976c6fc56713c263088&quot; style=&quot;width: 100.0%; height: 100.0%;&quot;&gt;3617&lt;/div&gt;`)[0];\n",
       "                popup_b9c163b6b560c2ea900f3f3e62ef4477.setContent(html_611af1b0a9f5d976c6fc56713c263088);\n",
       "            \n",
       "        \n",
       "\n",
       "        marker_8cd423ba3f448adad562c8115b2dcaa6.bindPopup(popup_b9c163b6b560c2ea900f3f3e62ef4477)\n",
       "        ;\n",
       "\n",
       "        \n",
       "    \n",
       "    \n",
       "            var marker_554edcb33118a8602dcf979e83a069e4 = L.marker(\n",
       "                [-15.764157999999997, -47.793713],\n",
       "                {}\n",
       "            ).addTo(map_2151f4061a4e056ea39a52ffd88333fc);\n",
       "        \n",
       "    \n",
       "        var popup_99aa2c1a1a8d4c52ba3f7ffb5975ce7a = L.popup({&quot;maxWidth&quot;: &quot;100%&quot;});\n",
       "\n",
       "        \n",
       "            \n",
       "                var html_ba8f4b2e562211a6cef8ab73b3f1ecd6 = $(`&lt;div id=&quot;html_ba8f4b2e562211a6cef8ab73b3f1ecd6&quot; style=&quot;width: 100.0%; height: 100.0%;&quot;&gt;7560&lt;/div&gt;`)[0];\n",
       "                popup_99aa2c1a1a8d4c52ba3f7ffb5975ce7a.setContent(html_ba8f4b2e562211a6cef8ab73b3f1ecd6);\n",
       "            \n",
       "        \n",
       "\n",
       "        marker_554edcb33118a8602dcf979e83a069e4.bindPopup(popup_99aa2c1a1a8d4c52ba3f7ffb5975ce7a)\n",
       "        ;\n",
       "\n",
       "        \n",
       "    \n",
       "    \n",
       "            var marker_43277f6151411ef3da6413567cb20d8d = L.marker(\n",
       "                [-15.763024000000007, -47.792896],\n",
       "                {}\n",
       "            ).addTo(map_2151f4061a4e056ea39a52ffd88333fc);\n",
       "        \n",
       "    \n",
       "        var popup_f6b684d23bb0cd183df3c4b767bac2ba = L.popup({&quot;maxWidth&quot;: &quot;100%&quot;});\n",
       "\n",
       "        \n",
       "            \n",
       "                var html_e84a7d9f18fec6f859f743f53e3cba87 = $(`&lt;div id=&quot;html_e84a7d9f18fec6f859f743f53e3cba87&quot; style=&quot;width: 100.0%; height: 100.0%;&quot;&gt;7561&lt;/div&gt;`)[0];\n",
       "                popup_f6b684d23bb0cd183df3c4b767bac2ba.setContent(html_e84a7d9f18fec6f859f743f53e3cba87);\n",
       "            \n",
       "        \n",
       "\n",
       "        marker_43277f6151411ef3da6413567cb20d8d.bindPopup(popup_f6b684d23bb0cd183df3c4b767bac2ba)\n",
       "        ;\n",
       "\n",
       "        \n",
       "    \n",
       "    \n",
       "            var marker_f617b8c11e2cbb0d45533fe2e0d79951 = L.marker(\n",
       "                [-15.762654999999999, -47.785836],\n",
       "                {}\n",
       "            ).addTo(map_2151f4061a4e056ea39a52ffd88333fc);\n",
       "        \n",
       "    \n",
       "        var popup_3795c3cf1aa6feba936bcced0e109dca = L.popup({&quot;maxWidth&quot;: &quot;100%&quot;});\n",
       "\n",
       "        \n",
       "            \n",
       "                var html_24e4bc58c8b1001528fe64f7498f0b96 = $(`&lt;div id=&quot;html_24e4bc58c8b1001528fe64f7498f0b96&quot; style=&quot;width: 100.0%; height: 100.0%;&quot;&gt;7555&lt;/div&gt;`)[0];\n",
       "                popup_3795c3cf1aa6feba936bcced0e109dca.setContent(html_24e4bc58c8b1001528fe64f7498f0b96);\n",
       "            \n",
       "        \n",
       "\n",
       "        marker_f617b8c11e2cbb0d45533fe2e0d79951.bindPopup(popup_3795c3cf1aa6feba936bcced0e109dca)\n",
       "        ;\n",
       "\n",
       "        \n",
       "    \n",
       "    \n",
       "            var marker_d908c46dddbcf94d5b714fb59322e376 = L.marker(\n",
       "                [-15.764453999999999, -47.788622],\n",
       "                {}\n",
       "            ).addTo(map_2151f4061a4e056ea39a52ffd88333fc);\n",
       "        \n",
       "    \n",
       "        var popup_d7ff86f26ba46f68f13c718cc3e3cf4b = L.popup({&quot;maxWidth&quot;: &quot;100%&quot;});\n",
       "\n",
       "        \n",
       "            \n",
       "                var html_e83b3f847f2f3ab5f3990e4dd2bfe023 = $(`&lt;div id=&quot;html_e83b3f847f2f3ab5f3990e4dd2bfe023&quot; style=&quot;width: 100.0%; height: 100.0%;&quot;&gt;7556&lt;/div&gt;`)[0];\n",
       "                popup_d7ff86f26ba46f68f13c718cc3e3cf4b.setContent(html_e83b3f847f2f3ab5f3990e4dd2bfe023);\n",
       "            \n",
       "        \n",
       "\n",
       "        marker_d908c46dddbcf94d5b714fb59322e376.bindPopup(popup_d7ff86f26ba46f68f13c718cc3e3cf4b)\n",
       "        ;\n",
       "\n",
       "        \n",
       "    \n",
       "    \n",
       "            var marker_8d564fcae5200c0ef2e8f03c681b2a9b = L.marker(\n",
       "                [-15.763012000000002, -47.78935],\n",
       "                {}\n",
       "            ).addTo(map_2151f4061a4e056ea39a52ffd88333fc);\n",
       "        \n",
       "    \n",
       "        var popup_7582c69d338af675a2834f82de617529 = L.popup({&quot;maxWidth&quot;: &quot;100%&quot;});\n",
       "\n",
       "        \n",
       "            \n",
       "                var html_f9dbe45a952edcf1b2f0bb82e324dd8e = $(`&lt;div id=&quot;html_f9dbe45a952edcf1b2f0bb82e324dd8e&quot; style=&quot;width: 100.0%; height: 100.0%;&quot;&gt;7562&lt;/div&gt;`)[0];\n",
       "                popup_7582c69d338af675a2834f82de617529.setContent(html_f9dbe45a952edcf1b2f0bb82e324dd8e);\n",
       "            \n",
       "        \n",
       "\n",
       "        marker_8d564fcae5200c0ef2e8f03c681b2a9b.bindPopup(popup_7582c69d338af675a2834f82de617529)\n",
       "        ;\n",
       "\n",
       "        \n",
       "    \n",
       "    \n",
       "            var marker_37e91c63c7a5e18270c99d72991eef45 = L.marker(\n",
       "                [-15.763044999999995, -47.78651],\n",
       "                {}\n",
       "            ).addTo(map_2151f4061a4e056ea39a52ffd88333fc);\n",
       "        \n",
       "    \n",
       "        var popup_0952322b19f69baf205f35f8480717ba = L.popup({&quot;maxWidth&quot;: &quot;100%&quot;});\n",
       "\n",
       "        \n",
       "            \n",
       "                var html_49eac68bed2912510324f7e5685dd00c = $(`&lt;div id=&quot;html_49eac68bed2912510324f7e5685dd00c&quot; style=&quot;width: 100.0%; height: 100.0%;&quot;&gt;7563&lt;/div&gt;`)[0];\n",
       "                popup_0952322b19f69baf205f35f8480717ba.setContent(html_49eac68bed2912510324f7e5685dd00c);\n",
       "            \n",
       "        \n",
       "\n",
       "        marker_37e91c63c7a5e18270c99d72991eef45.bindPopup(popup_0952322b19f69baf205f35f8480717ba)\n",
       "        ;\n",
       "\n",
       "        \n",
       "    \n",
       "    \n",
       "            var marker_c55eb2a7e9c789d43d671d6a88140d72 = L.marker(\n",
       "                [-15.762564999999999, -47.784828],\n",
       "                {}\n",
       "            ).addTo(map_2151f4061a4e056ea39a52ffd88333fc);\n",
       "        \n",
       "    \n",
       "        var popup_b165f27333f59dd4e83de741fed8b6a1 = L.popup({&quot;maxWidth&quot;: &quot;100%&quot;});\n",
       "\n",
       "        \n",
       "            \n",
       "                var html_e4b750cee9ed22baed72bdf9c8935f85 = $(`&lt;div id=&quot;html_e4b750cee9ed22baed72bdf9c8935f85&quot; style=&quot;width: 100.0%; height: 100.0%;&quot;&gt;7564&lt;/div&gt;`)[0];\n",
       "                popup_b165f27333f59dd4e83de741fed8b6a1.setContent(html_e4b750cee9ed22baed72bdf9c8935f85);\n",
       "            \n",
       "        \n",
       "\n",
       "        marker_c55eb2a7e9c789d43d671d6a88140d72.bindPopup(popup_b165f27333f59dd4e83de741fed8b6a1)\n",
       "        ;\n",
       "\n",
       "        \n",
       "    \n",
       "    \n",
       "            var marker_2a911dc33dc75a7ea53f32b7c7961797 = L.marker(\n",
       "                [-15.764132965618785, -47.7859465901341],\n",
       "                {}\n",
       "            ).addTo(map_2151f4061a4e056ea39a52ffd88333fc);\n",
       "        \n",
       "    \n",
       "        var popup_72b2f19c3c93e8a63f6f507cda5e9608 = L.popup({&quot;maxWidth&quot;: &quot;100%&quot;});\n",
       "\n",
       "        \n",
       "            \n",
       "                var html_2ae68283ce81cd6d342ef67767eafb50 = $(`&lt;div id=&quot;html_2ae68283ce81cd6d342ef67767eafb50&quot; style=&quot;width: 100.0%; height: 100.0%;&quot;&gt;6844&lt;/div&gt;`)[0];\n",
       "                popup_72b2f19c3c93e8a63f6f507cda5e9608.setContent(html_2ae68283ce81cd6d342ef67767eafb50);\n",
       "            \n",
       "        \n",
       "\n",
       "        marker_2a911dc33dc75a7ea53f32b7c7961797.bindPopup(popup_72b2f19c3c93e8a63f6f507cda5e9608)\n",
       "        ;\n",
       "\n",
       "        \n",
       "    \n",
       "    \n",
       "            var marker_0cab27305a8cfaaceeb5ae33564f6965 = L.marker(\n",
       "                [-15.764122540605399, -47.78575341137903],\n",
       "                {}\n",
       "            ).addTo(map_2151f4061a4e056ea39a52ffd88333fc);\n",
       "        \n",
       "    \n",
       "        var popup_9cc5df2d18ab16a6ac547688f32906f3 = L.popup({&quot;maxWidth&quot;: &quot;100%&quot;});\n",
       "\n",
       "        \n",
       "            \n",
       "                var html_1c2cd954522925ed266eae4eb1c39eba = $(`&lt;div id=&quot;html_1c2cd954522925ed266eae4eb1c39eba&quot; style=&quot;width: 100.0%; height: 100.0%;&quot;&gt;6857&lt;/div&gt;`)[0];\n",
       "                popup_9cc5df2d18ab16a6ac547688f32906f3.setContent(html_1c2cd954522925ed266eae4eb1c39eba);\n",
       "            \n",
       "        \n",
       "\n",
       "        marker_0cab27305a8cfaaceeb5ae33564f6965.bindPopup(popup_9cc5df2d18ab16a6ac547688f32906f3)\n",
       "        ;\n",
       "\n",
       "        \n",
       "    \n",
       "    \n",
       "            var marker_bfc26e86d5d450fcad7cd2d0bb9f5f7e = L.marker(\n",
       "                [-15.762653033595509, -47.78497118582577],\n",
       "                {}\n",
       "            ).addTo(map_2151f4061a4e056ea39a52ffd88333fc);\n",
       "        \n",
       "    \n",
       "        var popup_12c76b98c6ac33bf31b155e99ed9eca8 = L.popup({&quot;maxWidth&quot;: &quot;100%&quot;});\n",
       "\n",
       "        \n",
       "            \n",
       "                var html_b4a4125391b456b34b2131621f5ec618 = $(`&lt;div id=&quot;html_b4a4125391b456b34b2131621f5ec618&quot; style=&quot;width: 100.0%; height: 100.0%;&quot;&gt;6855&lt;/div&gt;`)[0];\n",
       "                popup_12c76b98c6ac33bf31b155e99ed9eca8.setContent(html_b4a4125391b456b34b2131621f5ec618);\n",
       "            \n",
       "        \n",
       "\n",
       "        marker_bfc26e86d5d450fcad7cd2d0bb9f5f7e.bindPopup(popup_12c76b98c6ac33bf31b155e99ed9eca8)\n",
       "        ;\n",
       "\n",
       "        \n",
       "    \n",
       "    \n",
       "            var marker_017d3404d0fb9dce1469056e327370c8 = L.marker(\n",
       "                [-15.762575142626542, -47.78549231060707],\n",
       "                {}\n",
       "            ).addTo(map_2151f4061a4e056ea39a52ffd88333fc);\n",
       "        \n",
       "    \n",
       "        var popup_393ae7bbcb589b7d96d580c11e46f46b = L.popup({&quot;maxWidth&quot;: &quot;100%&quot;});\n",
       "\n",
       "        \n",
       "            \n",
       "                var html_173b7a547624abdf21fe39ae802feef4 = $(`&lt;div id=&quot;html_173b7a547624abdf21fe39ae802feef4&quot; style=&quot;width: 100.0%; height: 100.0%;&quot;&gt;6856&lt;/div&gt;`)[0];\n",
       "                popup_393ae7bbcb589b7d96d580c11e46f46b.setContent(html_173b7a547624abdf21fe39ae802feef4);\n",
       "            \n",
       "        \n",
       "\n",
       "        marker_017d3404d0fb9dce1469056e327370c8.bindPopup(popup_393ae7bbcb589b7d96d580c11e46f46b)\n",
       "        ;\n",
       "\n",
       "        \n",
       "    \n",
       "    \n",
       "            var marker_ca83c8cce9b414707d6b05e5fc078831 = L.marker(\n",
       "                [-15.78228342439568, -47.7788645278897],\n",
       "                {}\n",
       "            ).addTo(map_2151f4061a4e056ea39a52ffd88333fc);\n",
       "        \n",
       "    \n",
       "        var popup_fa9d04cd6cebd0224240b12617934275 = L.popup({&quot;maxWidth&quot;: &quot;100%&quot;});\n",
       "\n",
       "        \n",
       "            \n",
       "                var html_eca703c0518613eee873dd7299e3ea27 = $(`&lt;div id=&quot;html_eca703c0518613eee873dd7299e3ea27&quot; style=&quot;width: 100.0%; height: 100.0%;&quot;&gt;2715&lt;/div&gt;`)[0];\n",
       "                popup_fa9d04cd6cebd0224240b12617934275.setContent(html_eca703c0518613eee873dd7299e3ea27);\n",
       "            \n",
       "        \n",
       "\n",
       "        marker_ca83c8cce9b414707d6b05e5fc078831.bindPopup(popup_fa9d04cd6cebd0224240b12617934275)\n",
       "        ;\n",
       "\n",
       "        \n",
       "    \n",
       "    \n",
       "            var marker_5b829860946c5e5e9abf116ca9f1363f = L.marker(\n",
       "                [-15.77940771253354, -47.78071724739479],\n",
       "                {}\n",
       "            ).addTo(map_2151f4061a4e056ea39a52ffd88333fc);\n",
       "        \n",
       "    \n",
       "        var popup_913c030275e42ebcd7fd60a59969e3b1 = L.popup({&quot;maxWidth&quot;: &quot;100%&quot;});\n",
       "\n",
       "        \n",
       "            \n",
       "                var html_f3873b20a57cae2dfc3b433827ad8771 = $(`&lt;div id=&quot;html_f3873b20a57cae2dfc3b433827ad8771&quot; style=&quot;width: 100.0%; height: 100.0%;&quot;&gt;6134&lt;/div&gt;`)[0];\n",
       "                popup_913c030275e42ebcd7fd60a59969e3b1.setContent(html_f3873b20a57cae2dfc3b433827ad8771);\n",
       "            \n",
       "        \n",
       "\n",
       "        marker_5b829860946c5e5e9abf116ca9f1363f.bindPopup(popup_913c030275e42ebcd7fd60a59969e3b1)\n",
       "        ;\n",
       "\n",
       "        \n",
       "    \n",
       "    \n",
       "            var marker_9806e5542b9f253493788e4f5ddf0705 = L.marker(\n",
       "                [-15.831176567451147, -47.825721582213546],\n",
       "                {}\n",
       "            ).addTo(map_2151f4061a4e056ea39a52ffd88333fc);\n",
       "        \n",
       "    \n",
       "        var popup_00ed296b0327d308cab35e42fc3fe4d7 = L.popup({&quot;maxWidth&quot;: &quot;100%&quot;});\n",
       "\n",
       "        \n",
       "            \n",
       "                var html_a8a616f36c5e0228aec384da12901b1b = $(`&lt;div id=&quot;html_a8a616f36c5e0228aec384da12901b1b&quot; style=&quot;width: 100.0%; height: 100.0%;&quot;&gt;2441&lt;/div&gt;`)[0];\n",
       "                popup_00ed296b0327d308cab35e42fc3fe4d7.setContent(html_a8a616f36c5e0228aec384da12901b1b);\n",
       "            \n",
       "        \n",
       "\n",
       "        marker_9806e5542b9f253493788e4f5ddf0705.bindPopup(popup_00ed296b0327d308cab35e42fc3fe4d7)\n",
       "        ;\n",
       "\n",
       "        \n",
       "    \n",
       "    \n",
       "            var marker_b6daaad087a225288e68257efcb4a15d = L.marker(\n",
       "                [-15.785406445712793, -47.77728909161838],\n",
       "                {}\n",
       "            ).addTo(map_2151f4061a4e056ea39a52ffd88333fc);\n",
       "        \n",
       "    \n",
       "        var popup_87d038a7774ab667ab1abb6b13afc65d = L.popup({&quot;maxWidth&quot;: &quot;100%&quot;});\n",
       "\n",
       "        \n",
       "            \n",
       "                var html_9fef877ee7e938241d015093f8d19eed = $(`&lt;div id=&quot;html_9fef877ee7e938241d015093f8d19eed&quot; style=&quot;width: 100.0%; height: 100.0%;&quot;&gt;2696&lt;/div&gt;`)[0];\n",
       "                popup_87d038a7774ab667ab1abb6b13afc65d.setContent(html_9fef877ee7e938241d015093f8d19eed);\n",
       "            \n",
       "        \n",
       "\n",
       "        marker_b6daaad087a225288e68257efcb4a15d.bindPopup(popup_87d038a7774ab667ab1abb6b13afc65d)\n",
       "        ;\n",
       "\n",
       "        \n",
       "    \n",
       "    \n",
       "            var marker_78b228785b8b7f5f1ca47bbcc80957a7 = L.marker(\n",
       "                [-15.834860487271557, -47.82222269505168],\n",
       "                {}\n",
       "            ).addTo(map_2151f4061a4e056ea39a52ffd88333fc);\n",
       "        \n",
       "    \n",
       "        var popup_cf7fd2a4164811510fdafdb71375e771 = L.popup({&quot;maxWidth&quot;: &quot;100%&quot;});\n",
       "\n",
       "        \n",
       "            \n",
       "                var html_85d3b086c1c7d6005c1be0b3c7135092 = $(`&lt;div id=&quot;html_85d3b086c1c7d6005c1be0b3c7135092&quot; style=&quot;width: 100.0%; height: 100.0%;&quot;&gt;2405&lt;/div&gt;`)[0];\n",
       "                popup_cf7fd2a4164811510fdafdb71375e771.setContent(html_85d3b086c1c7d6005c1be0b3c7135092);\n",
       "            \n",
       "        \n",
       "\n",
       "        marker_78b228785b8b7f5f1ca47bbcc80957a7.bindPopup(popup_cf7fd2a4164811510fdafdb71375e771)\n",
       "        ;\n",
       "\n",
       "        \n",
       "    \n",
       "    \n",
       "            var marker_683ff6df413f213e4e3f61b17bbf9f00 = L.marker(\n",
       "                [-15.750807913099322, -47.8949281116755],\n",
       "                {}\n",
       "            ).addTo(map_2151f4061a4e056ea39a52ffd88333fc);\n",
       "        \n",
       "    \n",
       "        var popup_87599c26fbf341ef0069b63dc39edf1d = L.popup({&quot;maxWidth&quot;: &quot;100%&quot;});\n",
       "\n",
       "        \n",
       "            \n",
       "                var html_cbfdedfea2799c1d2df4258ed13939ce = $(`&lt;div id=&quot;html_cbfdedfea2799c1d2df4258ed13939ce&quot; style=&quot;width: 100.0%; height: 100.0%;&quot;&gt;3516&lt;/div&gt;`)[0];\n",
       "                popup_87599c26fbf341ef0069b63dc39edf1d.setContent(html_cbfdedfea2799c1d2df4258ed13939ce);\n",
       "            \n",
       "        \n",
       "\n",
       "        marker_683ff6df413f213e4e3f61b17bbf9f00.bindPopup(popup_87599c26fbf341ef0069b63dc39edf1d)\n",
       "        ;\n",
       "\n",
       "        \n",
       "    \n",
       "    \n",
       "            var marker_8112e4c6908849f817c413cf2a404d8f = L.marker(\n",
       "                [-15.753694998623457, -47.89400504430343],\n",
       "                {}\n",
       "            ).addTo(map_2151f4061a4e056ea39a52ffd88333fc);\n",
       "        \n",
       "    \n",
       "        var popup_7080bf8fe44c955198dc58d834eab13a = L.popup({&quot;maxWidth&quot;: &quot;100%&quot;});\n",
       "\n",
       "        \n",
       "            \n",
       "                var html_bd8fffc36e4b470b9986e8a4f145315d = $(`&lt;div id=&quot;html_bd8fffc36e4b470b9986e8a4f145315d&quot; style=&quot;width: 100.0%; height: 100.0%;&quot;&gt;3515&lt;/div&gt;`)[0];\n",
       "                popup_7080bf8fe44c955198dc58d834eab13a.setContent(html_bd8fffc36e4b470b9986e8a4f145315d);\n",
       "            \n",
       "        \n",
       "\n",
       "        marker_8112e4c6908849f817c413cf2a404d8f.bindPopup(popup_7080bf8fe44c955198dc58d834eab13a)\n",
       "        ;\n",
       "\n",
       "        \n",
       "    \n",
       "    \n",
       "            var marker_8cdd0eb93f7b90a1d18c798a8d2aceb2 = L.marker(\n",
       "                [-15.760012169623284, -47.891976176212104],\n",
       "                {}\n",
       "            ).addTo(map_2151f4061a4e056ea39a52ffd88333fc);\n",
       "        \n",
       "    \n",
       "        var popup_2835776ae2352f58dfefe7c6e57e2738 = L.popup({&quot;maxWidth&quot;: &quot;100%&quot;});\n",
       "\n",
       "        \n",
       "            \n",
       "                var html_3e2b99f544a00253135ee7b90437b2a1 = $(`&lt;div id=&quot;html_3e2b99f544a00253135ee7b90437b2a1&quot; style=&quot;width: 100.0%; height: 100.0%;&quot;&gt;3513&lt;/div&gt;`)[0];\n",
       "                popup_2835776ae2352f58dfefe7c6e57e2738.setContent(html_3e2b99f544a00253135ee7b90437b2a1);\n",
       "            \n",
       "        \n",
       "\n",
       "        marker_8cdd0eb93f7b90a1d18c798a8d2aceb2.bindPopup(popup_2835776ae2352f58dfefe7c6e57e2738)\n",
       "        ;\n",
       "\n",
       "        \n",
       "    \n",
       "    \n",
       "            var marker_9e8284ffe467a8e19d65c7f8fb477ceb = L.marker(\n",
       "                [-15.757033653547683, -47.89293900668162],\n",
       "                {}\n",
       "            ).addTo(map_2151f4061a4e056ea39a52ffd88333fc);\n",
       "        \n",
       "    \n",
       "        var popup_8209e257a650f161808441061e8647f7 = L.popup({&quot;maxWidth&quot;: &quot;100%&quot;});\n",
       "\n",
       "        \n",
       "            \n",
       "                var html_52bbf8a0cbc18c9eaadd844fd35ff888 = $(`&lt;div id=&quot;html_52bbf8a0cbc18c9eaadd844fd35ff888&quot; style=&quot;width: 100.0%; height: 100.0%;&quot;&gt;3514&lt;/div&gt;`)[0];\n",
       "                popup_8209e257a650f161808441061e8647f7.setContent(html_52bbf8a0cbc18c9eaadd844fd35ff888);\n",
       "            \n",
       "        \n",
       "\n",
       "        marker_9e8284ffe467a8e19d65c7f8fb477ceb.bindPopup(popup_8209e257a650f161808441061e8647f7)\n",
       "        ;\n",
       "\n",
       "        \n",
       "    \n",
       "    \n",
       "            var marker_a48dd24090e2cdcf7ed22808870ffd28 = L.marker(\n",
       "                [-15.780738695652959, -47.887459438755265],\n",
       "                {}\n",
       "            ).addTo(map_2151f4061a4e056ea39a52ffd88333fc);\n",
       "        \n",
       "    \n",
       "        var popup_09f8fc76fe8dca74c4d83f7daeb1a52b = L.popup({&quot;maxWidth&quot;: &quot;100%&quot;});\n",
       "\n",
       "        \n",
       "            \n",
       "                var html_8f84ddefb6772e1b9a0fc99df7d76d0a = $(`&lt;div id=&quot;html_8f84ddefb6772e1b9a0fc99df7d76d0a&quot; style=&quot;width: 100.0%; height: 100.0%;&quot;&gt;3506&lt;/div&gt;`)[0];\n",
       "                popup_09f8fc76fe8dca74c4d83f7daeb1a52b.setContent(html_8f84ddefb6772e1b9a0fc99df7d76d0a);\n",
       "            \n",
       "        \n",
       "\n",
       "        marker_a48dd24090e2cdcf7ed22808870ffd28.bindPopup(popup_09f8fc76fe8dca74c4d83f7daeb1a52b)\n",
       "        ;\n",
       "\n",
       "        \n",
       "    \n",
       "    \n",
       "            var marker_3e1eb0c4142adb48fa5cad022f9ed40d = L.marker(\n",
       "                [-15.777509708768566, -47.88773230535398],\n",
       "                {}\n",
       "            ).addTo(map_2151f4061a4e056ea39a52ffd88333fc);\n",
       "        \n",
       "    \n",
       "        var popup_aa5eab27db299fb4d08b9582d02021ac = L.popup({&quot;maxWidth&quot;: &quot;100%&quot;});\n",
       "\n",
       "        \n",
       "            \n",
       "                var html_ac7ddd5b06e3b6209b642733e58ebdc9 = $(`&lt;div id=&quot;html_ac7ddd5b06e3b6209b642733e58ebdc9&quot; style=&quot;width: 100.0%; height: 100.0%;&quot;&gt;3507&lt;/div&gt;`)[0];\n",
       "                popup_aa5eab27db299fb4d08b9582d02021ac.setContent(html_ac7ddd5b06e3b6209b642733e58ebdc9);\n",
       "            \n",
       "        \n",
       "\n",
       "        marker_3e1eb0c4142adb48fa5cad022f9ed40d.bindPopup(popup_aa5eab27db299fb4d08b9582d02021ac)\n",
       "        ;\n",
       "\n",
       "        \n",
       "    \n",
       "    \n",
       "            var marker_c13cd1022eed68c704aad875e496058f = L.marker(\n",
       "                [-15.771152364468017, -47.88868146558276],\n",
       "                {}\n",
       "            ).addTo(map_2151f4061a4e056ea39a52ffd88333fc);\n",
       "        \n",
       "    \n",
       "        var popup_5e487d76166976c6480685cf7ced883b = L.popup({&quot;maxWidth&quot;: &quot;100%&quot;});\n",
       "\n",
       "        \n",
       "            \n",
       "                var html_6c1de190203c062e45c02657c27c0a38 = $(`&lt;div id=&quot;html_6c1de190203c062e45c02657c27c0a38&quot; style=&quot;width: 100.0%; height: 100.0%;&quot;&gt;3509&lt;/div&gt;`)[0];\n",
       "                popup_5e487d76166976c6480685cf7ced883b.setContent(html_6c1de190203c062e45c02657c27c0a38);\n",
       "            \n",
       "        \n",
       "\n",
       "        marker_c13cd1022eed68c704aad875e496058f.bindPopup(popup_5e487d76166976c6480685cf7ced883b)\n",
       "        ;\n",
       "\n",
       "        \n",
       "    \n",
       "    \n",
       "            var marker_7805c5029a1a5df29aabf5250938f832 = L.marker(\n",
       "                [-15.774801330614789, -47.88800228388125],\n",
       "                {}\n",
       "            ).addTo(map_2151f4061a4e056ea39a52ffd88333fc);\n",
       "        \n",
       "    \n",
       "        var popup_48e85e9a6815868eda135e3d17806465 = L.popup({&quot;maxWidth&quot;: &quot;100%&quot;});\n",
       "\n",
       "        \n",
       "            \n",
       "                var html_3473b0ff4ca79d1077b6b8c3abd506a0 = $(`&lt;div id=&quot;html_3473b0ff4ca79d1077b6b8c3abd506a0&quot; style=&quot;width: 100.0%; height: 100.0%;&quot;&gt;3508&lt;/div&gt;`)[0];\n",
       "                popup_48e85e9a6815868eda135e3d17806465.setContent(html_3473b0ff4ca79d1077b6b8c3abd506a0);\n",
       "            \n",
       "        \n",
       "\n",
       "        marker_7805c5029a1a5df29aabf5250938f832.bindPopup(popup_48e85e9a6815868eda135e3d17806465)\n",
       "        ;\n",
       "\n",
       "        \n",
       "    \n",
       "    \n",
       "            var marker_182ec61c26aa0b3555f3b6a99961688e = L.marker(\n",
       "                [-15.766141701235163, -47.890017882666925],\n",
       "                {}\n",
       "            ).addTo(map_2151f4061a4e056ea39a52ffd88333fc);\n",
       "        \n",
       "    \n",
       "        var popup_6bd48c602e07df2cdf3371ebd29bfa53 = L.popup({&quot;maxWidth&quot;: &quot;100%&quot;});\n",
       "\n",
       "        \n",
       "            \n",
       "                var html_b3b4974a530f693ea841973bff352e64 = $(`&lt;div id=&quot;html_b3b4974a530f693ea841973bff352e64&quot; style=&quot;width: 100.0%; height: 100.0%;&quot;&gt;3511&lt;/div&gt;`)[0];\n",
       "                popup_6bd48c602e07df2cdf3371ebd29bfa53.setContent(html_b3b4974a530f693ea841973bff352e64);\n",
       "            \n",
       "        \n",
       "\n",
       "        marker_182ec61c26aa0b3555f3b6a99961688e.bindPopup(popup_6bd48c602e07df2cdf3371ebd29bfa53)\n",
       "        ;\n",
       "\n",
       "        \n",
       "    \n",
       "    \n",
       "            var marker_6a588c3767446b86c143462ee4acfa7e = L.marker(\n",
       "                [-15.763216046795371, -47.89095602356193],\n",
       "                {}\n",
       "            ).addTo(map_2151f4061a4e056ea39a52ffd88333fc);\n",
       "        \n",
       "    \n",
       "        var popup_f18ef1ee20aaabc6330b9811f82453b5 = L.popup({&quot;maxWidth&quot;: &quot;100%&quot;});\n",
       "\n",
       "        \n",
       "            \n",
       "                var html_3ad3f70f5115342b43bdef7d41333a82 = $(`&lt;div id=&quot;html_3ad3f70f5115342b43bdef7d41333a82&quot; style=&quot;width: 100.0%; height: 100.0%;&quot;&gt;3512&lt;/div&gt;`)[0];\n",
       "                popup_f18ef1ee20aaabc6330b9811f82453b5.setContent(html_3ad3f70f5115342b43bdef7d41333a82);\n",
       "            \n",
       "        \n",
       "\n",
       "        marker_6a588c3767446b86c143462ee4acfa7e.bindPopup(popup_f18ef1ee20aaabc6330b9811f82453b5)\n",
       "        ;\n",
       "\n",
       "        \n",
       "    \n",
       "    \n",
       "            var marker_e2e5d485a8c5fbf8bd12fa19ab84bbe2 = L.marker(\n",
       "                [-15.769141094278112, -47.88915290178694],\n",
       "                {}\n",
       "            ).addTo(map_2151f4061a4e056ea39a52ffd88333fc);\n",
       "        \n",
       "    \n",
       "        var popup_7a70212ecfb491a2c986ce1223eacf1e = L.popup({&quot;maxWidth&quot;: &quot;100%&quot;});\n",
       "\n",
       "        \n",
       "            \n",
       "                var html_a90424ed46a99b3042333187499edaa4 = $(`&lt;div id=&quot;html_a90424ed46a99b3042333187499edaa4&quot; style=&quot;width: 100.0%; height: 100.0%;&quot;&gt;3510&lt;/div&gt;`)[0];\n",
       "                popup_7a70212ecfb491a2c986ce1223eacf1e.setContent(html_a90424ed46a99b3042333187499edaa4);\n",
       "            \n",
       "        \n",
       "\n",
       "        marker_e2e5d485a8c5fbf8bd12fa19ab84bbe2.bindPopup(popup_7a70212ecfb491a2c986ce1223eacf1e)\n",
       "        ;\n",
       "\n",
       "        \n",
       "    \n",
       "    \n",
       "            var marker_c5533e37b46b19323061e87769a20d9d = L.marker(\n",
       "                [-15.791051074978341, -47.886844986747825],\n",
       "                {}\n",
       "            ).addTo(map_2151f4061a4e056ea39a52ffd88333fc);\n",
       "        \n",
       "    \n",
       "        var popup_3e0ecc3d3154c50d2954e2db2502a61c = L.popup({&quot;maxWidth&quot;: &quot;100%&quot;});\n",
       "\n",
       "        \n",
       "            \n",
       "                var html_848b158aca42ce5a53365bafcc7910fd = $(`&lt;div id=&quot;html_848b158aca42ce5a53365bafcc7910fd&quot; style=&quot;width: 100.0%; height: 100.0%;&quot;&gt;3251&lt;/div&gt;`)[0];\n",
       "                popup_3e0ecc3d3154c50d2954e2db2502a61c.setContent(html_848b158aca42ce5a53365bafcc7910fd);\n",
       "            \n",
       "        \n",
       "\n",
       "        marker_c5533e37b46b19323061e87769a20d9d.bindPopup(popup_3e0ecc3d3154c50d2954e2db2502a61c)\n",
       "        ;\n",
       "\n",
       "        \n",
       "    \n",
       "    \n",
       "            var marker_898235829793aea26096182bfb72215d = L.marker(\n",
       "                [-15.787162382832602, -47.887918091709295],\n",
       "                {}\n",
       "            ).addTo(map_2151f4061a4e056ea39a52ffd88333fc);\n",
       "        \n",
       "    \n",
       "        var popup_f16d45e3f00b6683211222f5e2adfe7d = L.popup({&quot;maxWidth&quot;: &quot;100%&quot;});\n",
       "\n",
       "        \n",
       "            \n",
       "                var html_7f43052fd0e9ab71ee0fe2c74217a4ba = $(`&lt;div id=&quot;html_7f43052fd0e9ab71ee0fe2c74217a4ba&quot; style=&quot;width: 100.0%; height: 100.0%;&quot;&gt;3504&lt;/div&gt;`)[0];\n",
       "                popup_f16d45e3f00b6683211222f5e2adfe7d.setContent(html_7f43052fd0e9ab71ee0fe2c74217a4ba);\n",
       "            \n",
       "        \n",
       "\n",
       "        marker_898235829793aea26096182bfb72215d.bindPopup(popup_f16d45e3f00b6683211222f5e2adfe7d)\n",
       "        ;\n",
       "\n",
       "        \n",
       "    \n",
       "    \n",
       "            var marker_93ae09a45320aab37b72056848693890 = L.marker(\n",
       "                [-15.783898226654156, -47.88744731247922],\n",
       "                {}\n",
       "            ).addTo(map_2151f4061a4e056ea39a52ffd88333fc);\n",
       "        \n",
       "    \n",
       "        var popup_fea729555365eac88107729db3139fcd = L.popup({&quot;maxWidth&quot;: &quot;100%&quot;});\n",
       "\n",
       "        \n",
       "            \n",
       "                var html_a67af7ca9d9554d723b636586392fc8b = $(`&lt;div id=&quot;html_a67af7ca9d9554d723b636586392fc8b&quot; style=&quot;width: 100.0%; height: 100.0%;&quot;&gt;3505&lt;/div&gt;`)[0];\n",
       "                popup_fea729555365eac88107729db3139fcd.setContent(html_a67af7ca9d9554d723b636586392fc8b);\n",
       "            \n",
       "        \n",
       "\n",
       "        marker_93ae09a45320aab37b72056848693890.bindPopup(popup_fea729555365eac88107729db3139fcd)\n",
       "        ;\n",
       "\n",
       "        \n",
       "    \n",
       "    \n",
       "            var marker_7c660129c06cea5844889167104e9aad = L.marker(\n",
       "                [-15.79312487862179, -47.88168794730824],\n",
       "                {}\n",
       "            ).addTo(map_2151f4061a4e056ea39a52ffd88333fc);\n",
       "        \n",
       "    \n",
       "        var popup_0a240446ddb7c999f317ed9453c87016 = L.popup({&quot;maxWidth&quot;: &quot;100%&quot;});\n",
       "\n",
       "        \n",
       "            \n",
       "                var html_c25e938712f98ab11149c18083e4c253 = $(`&lt;div id=&quot;html_c25e938712f98ab11149c18083e4c253&quot; style=&quot;width: 100.0%; height: 100.0%;&quot;&gt;3369&lt;/div&gt;`)[0];\n",
       "                popup_0a240446ddb7c999f317ed9453c87016.setContent(html_c25e938712f98ab11149c18083e4c253);\n",
       "            \n",
       "        \n",
       "\n",
       "        marker_7c660129c06cea5844889167104e9aad.bindPopup(popup_0a240446ddb7c999f317ed9453c87016)\n",
       "        ;\n",
       "\n",
       "        \n",
       "    \n",
       "    \n",
       "            var marker_75446ce7d13e5579d2ee84186d7f356e = L.marker(\n",
       "                [-15.793626540670312, -47.87960280836419],\n",
       "                {}\n",
       "            ).addTo(map_2151f4061a4e056ea39a52ffd88333fc);\n",
       "        \n",
       "    \n",
       "        var popup_0b06d04e02c3fc37f07e20ca4e99abcb = L.popup({&quot;maxWidth&quot;: &quot;100%&quot;});\n",
       "\n",
       "        \n",
       "            \n",
       "                var html_8aaf20683f2c4cc7657d92beadcde447 = $(`&lt;div id=&quot;html_8aaf20683f2c4cc7657d92beadcde447&quot; style=&quot;width: 100.0%; height: 100.0%;&quot;&gt;3250&lt;/div&gt;`)[0];\n",
       "                popup_0b06d04e02c3fc37f07e20ca4e99abcb.setContent(html_8aaf20683f2c4cc7657d92beadcde447);\n",
       "            \n",
       "        \n",
       "\n",
       "        marker_75446ce7d13e5579d2ee84186d7f356e.bindPopup(popup_0b06d04e02c3fc37f07e20ca4e99abcb)\n",
       "        ;\n",
       "\n",
       "        \n",
       "    \n",
       "    \n",
       "            var marker_fbaa9470d8f9e5183c7c3e4785deb0aa = L.marker(\n",
       "                [-15.795303775856665, -47.87438003367925],\n",
       "                {}\n",
       "            ).addTo(map_2151f4061a4e056ea39a52ffd88333fc);\n",
       "        \n",
       "    \n",
       "        var popup_3bea6fcd14c7d594ec1ea1f9c5a51606 = L.popup({&quot;maxWidth&quot;: &quot;100%&quot;});\n",
       "\n",
       "        \n",
       "            \n",
       "                var html_41f8ebde3af4d3be8279029d8ca39f29 = $(`&lt;div id=&quot;html_41f8ebde3af4d3be8279029d8ca39f29&quot; style=&quot;width: 100.0%; height: 100.0%;&quot;&gt;3249&lt;/div&gt;`)[0];\n",
       "                popup_3bea6fcd14c7d594ec1ea1f9c5a51606.setContent(html_41f8ebde3af4d3be8279029d8ca39f29);\n",
       "            \n",
       "        \n",
       "\n",
       "        marker_fbaa9470d8f9e5183c7c3e4785deb0aa.bindPopup(popup_3bea6fcd14c7d594ec1ea1f9c5a51606)\n",
       "        ;\n",
       "\n",
       "        \n",
       "    \n",
       "    \n",
       "            var marker_0a458762326135eee7fc981005686c89 = L.marker(\n",
       "                [-15.73541921559784, -47.897317053648564],\n",
       "                {}\n",
       "            ).addTo(map_2151f4061a4e056ea39a52ffd88333fc);\n",
       "        \n",
       "    \n",
       "        var popup_b0ca0a26b46feb6c43154d7463a3e497 = L.popup({&quot;maxWidth&quot;: &quot;100%&quot;});\n",
       "\n",
       "        \n",
       "            \n",
       "                var html_403bf7506c1d27772d424a08b1d14025 = $(`&lt;div id=&quot;html_403bf7506c1d27772d424a08b1d14025&quot; style=&quot;width: 100.0%; height: 100.0%;&quot;&gt;3470&lt;/div&gt;`)[0];\n",
       "                popup_b0ca0a26b46feb6c43154d7463a3e497.setContent(html_403bf7506c1d27772d424a08b1d14025);\n",
       "            \n",
       "        \n",
       "\n",
       "        marker_0a458762326135eee7fc981005686c89.bindPopup(popup_b0ca0a26b46feb6c43154d7463a3e497)\n",
       "        ;\n",
       "\n",
       "        \n",
       "    \n",
       "    \n",
       "            var marker_338a6778b644cec63e24e1b7ebe10d96 = L.marker(\n",
       "                [-15.737021646013647, -47.89837691322528],\n",
       "                {}\n",
       "            ).addTo(map_2151f4061a4e056ea39a52ffd88333fc);\n",
       "        \n",
       "    \n",
       "        var popup_b91cc6c54a8edd73477965443b6af77f = L.popup({&quot;maxWidth&quot;: &quot;100%&quot;});\n",
       "\n",
       "        \n",
       "            \n",
       "                var html_249b011c9b7ea65fcc0cde9d3196dcb8 = $(`&lt;div id=&quot;html_249b011c9b7ea65fcc0cde9d3196dcb8&quot; style=&quot;width: 100.0%; height: 100.0%;&quot;&gt;3520&lt;/div&gt;`)[0];\n",
       "                popup_b91cc6c54a8edd73477965443b6af77f.setContent(html_249b011c9b7ea65fcc0cde9d3196dcb8);\n",
       "            \n",
       "        \n",
       "\n",
       "        marker_338a6778b644cec63e24e1b7ebe10d96.bindPopup(popup_b91cc6c54a8edd73477965443b6af77f)\n",
       "        ;\n",
       "\n",
       "        \n",
       "    \n",
       "    \n",
       "            var marker_983877be447fe252f9b10caa6d688463 = L.marker(\n",
       "                [-15.741101319354277, -47.898045528987495],\n",
       "                {}\n",
       "            ).addTo(map_2151f4061a4e056ea39a52ffd88333fc);\n",
       "        \n",
       "    \n",
       "        var popup_fbb0657cf1a44826bf062892ef08c8c9 = L.popup({&quot;maxWidth&quot;: &quot;100%&quot;});\n",
       "\n",
       "        \n",
       "            \n",
       "                var html_cbc17ae75eafed9a1ccd053259f93362 = $(`&lt;div id=&quot;html_cbc17ae75eafed9a1ccd053259f93362&quot; style=&quot;width: 100.0%; height: 100.0%;&quot;&gt;3519&lt;/div&gt;`)[0];\n",
       "                popup_fbb0657cf1a44826bf062892ef08c8c9.setContent(html_cbc17ae75eafed9a1ccd053259f93362);\n",
       "            \n",
       "        \n",
       "\n",
       "        marker_983877be447fe252f9b10caa6d688463.bindPopup(popup_fbb0657cf1a44826bf062892ef08c8c9)\n",
       "        ;\n",
       "\n",
       "        \n",
       "    \n",
       "    \n",
       "            var marker_1b984111b9c6a625051ce186d9163cd1 = L.marker(\n",
       "                [-15.744621728383612, -47.8969247962739],\n",
       "                {}\n",
       "            ).addTo(map_2151f4061a4e056ea39a52ffd88333fc);\n",
       "        \n",
       "    \n",
       "        var popup_0622a8d8c085b0e6dab0ec2866e7baf9 = L.popup({&quot;maxWidth&quot;: &quot;100%&quot;});\n",
       "\n",
       "        \n",
       "            \n",
       "                var html_6f8a3b3a7c48ebc1194e2b327ba8f53f = $(`&lt;div id=&quot;html_6f8a3b3a7c48ebc1194e2b327ba8f53f&quot; style=&quot;width: 100.0%; height: 100.0%;&quot;&gt;3518&lt;/div&gt;`)[0];\n",
       "                popup_0622a8d8c085b0e6dab0ec2866e7baf9.setContent(html_6f8a3b3a7c48ebc1194e2b327ba8f53f);\n",
       "            \n",
       "        \n",
       "\n",
       "        marker_1b984111b9c6a625051ce186d9163cd1.bindPopup(popup_0622a8d8c085b0e6dab0ec2866e7baf9)\n",
       "        ;\n",
       "\n",
       "        \n",
       "    \n",
       "&lt;/script&gt;\n",
       "&lt;/html&gt;\" style=\"position:absolute;width:100%;height:100%;left:0;top:0;border:none !important;\" allowfullscreen webkitallowfullscreen mozallowfullscreen></iframe></div></div>"
      ],
      "text/plain": [
       "<folium.folium.Map at 0x7fab63292210>"
      ]
     },
     "execution_count": 54,
     "metadata": {},
     "output_type": "execute_result"
    }
   ],
   "source": [
    "import folium\n",
    "from shapely.geometry import LineString\n",
    "\n",
    "linha_exemplo = df.iloc[0]\n",
    "\n",
    "linha_coordinates = [(lat, lon) for lat, lon, _ in linha_exemplo['parada']]\n",
    "paradas_coordinates = [(lat, lon) for lat, lon, _ in linha_exemplo['parada']]\n",
    "\n",
    "linha_onibus = LineString(linha_coordinates)\n",
    "\n",
    "m = folium.Map(location=[linha_coordinates[0][0], linha_coordinates[0][1]], zoom_start=13)\n",
    "\n",
    "for lat, lon, popup_text in linha_exemplo['parada']:\n",
    "    folium.Marker([lat, lon], popup=popup_text).add_to(m)\n",
    "m\n"
   ]
  },
  {
   "cell_type": "code",
   "execution_count": 55,
   "metadata": {},
   "outputs": [],
   "source": [
    "import os\n",
    "\n",
    "if not os.path.exists('../databases/luiz_dataset'):\n",
    "    os.makedirs('../databases/luiz_dataset')\n",
    "df.to_csv('../databases/luiz_dataset/paradas_linestrings.csv')"
   ]
  },
  {
   "cell_type": "markdown",
   "metadata": {},
   "source": [
    "### Como ler o arquivo das paradas corretamente no python\n",
    "\n",
    "Para evitar o erro do tipo de dado das linhas serem strings, é necessário passar para o atributo\n",
    "'converters' = {'NOME DA COLUNA': pd.eval}\n",
    "```python\n",
    "dt = pd.read_csv(\"../databases/luiz_dataset/paradas_linestrings.csv\", converters={'parada': pd.eval})\n",
    "```"
   ]
  }
 ],
 "metadata": {
  "kernelspec": {
   "display_name": "Python 3 (ipykernel)",
   "language": "python",
   "name": "python3"
  },
  "language_info": {
   "codemirror_mode": {
    "name": "ipython",
    "version": 3
   },
   "file_extension": ".py",
   "mimetype": "text/x-python",
   "name": "python",
   "nbconvert_exporter": "python",
   "pygments_lexer": "ipython3",
   "version": "3.11.3"
  }
 },
 "nbformat": 4,
 "nbformat_minor": 2
}
