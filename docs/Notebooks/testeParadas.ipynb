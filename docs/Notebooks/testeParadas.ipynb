{
 "cells": [
  {
   "cell_type": "code",
   "execution_count": 2,
   "metadata": {},
   "outputs": [
    {
     "name": "stdout",
     "output_type": "stream",
     "text": [
      "Requirement already satisfied: geopandas in /home/luiz/.pyenv/versions/3.11.3/envs/dev/lib/python3.11/site-packages (0.13.2)\n",
      "Requirement already satisfied: matplotlib in /home/luiz/.pyenv/versions/3.11.3/envs/dev/lib/python3.11/site-packages (3.7.1)\n",
      "Requirement already satisfied: contextily in /home/luiz/.pyenv/versions/3.11.3/envs/dev/lib/python3.11/site-packages (1.3.0)\n",
      "Requirement already satisfied: shapely in /home/luiz/.pyenv/versions/3.11.3/envs/dev/lib/python3.11/site-packages (2.0.1)\n",
      "Requirement already satisfied: fiona>=1.8.19 in /home/luiz/.pyenv/versions/3.11.3/envs/dev/lib/python3.11/site-packages (from geopandas) (1.9.4.post1)\n",
      "Requirement already satisfied: packaging in /home/luiz/.pyenv/versions/3.11.3/envs/dev/lib/python3.11/site-packages (from geopandas) (23.1)\n",
      "Requirement already satisfied: pandas>=1.1.0 in /home/luiz/.pyenv/versions/3.11.3/envs/dev/lib/python3.11/site-packages (from geopandas) (2.0.2)\n",
      "Requirement already satisfied: pyproj>=3.0.1 in /home/luiz/.pyenv/versions/3.11.3/envs/dev/lib/python3.11/site-packages (from geopandas) (3.6.0)\n",
      "Requirement already satisfied: contourpy>=1.0.1 in /home/luiz/.pyenv/versions/3.11.3/envs/dev/lib/python3.11/site-packages (from matplotlib) (1.0.7)\n",
      "Requirement already satisfied: cycler>=0.10 in /home/luiz/.pyenv/versions/3.11.3/envs/dev/lib/python3.11/site-packages (from matplotlib) (0.11.0)\n",
      "Requirement already satisfied: fonttools>=4.22.0 in /home/luiz/.pyenv/versions/3.11.3/envs/dev/lib/python3.11/site-packages (from matplotlib) (4.39.4)\n",
      "Requirement already satisfied: kiwisolver>=1.0.1 in /home/luiz/.pyenv/versions/3.11.3/envs/dev/lib/python3.11/site-packages (from matplotlib) (1.4.4)\n",
      "Requirement already satisfied: numpy>=1.20 in /home/luiz/.pyenv/versions/3.11.3/envs/dev/lib/python3.11/site-packages (from matplotlib) (1.24.3)\n",
      "Requirement already satisfied: pillow>=6.2.0 in /home/luiz/.pyenv/versions/3.11.3/envs/dev/lib/python3.11/site-packages (from matplotlib) (9.5.0)\n",
      "Requirement already satisfied: pyparsing>=2.3.1 in /home/luiz/.pyenv/versions/3.11.3/envs/dev/lib/python3.11/site-packages (from matplotlib) (3.0.9)\n",
      "Requirement already satisfied: python-dateutil>=2.7 in /home/luiz/.pyenv/versions/3.11.3/envs/dev/lib/python3.11/site-packages (from matplotlib) (2.8.2)\n",
      "Requirement already satisfied: geopy in /home/luiz/.pyenv/versions/3.11.3/envs/dev/lib/python3.11/site-packages (from contextily) (2.3.0)\n",
      "Requirement already satisfied: mercantile in /home/luiz/.pyenv/versions/3.11.3/envs/dev/lib/python3.11/site-packages (from contextily) (1.2.1)\n",
      "Requirement already satisfied: rasterio in /home/luiz/.pyenv/versions/3.11.3/envs/dev/lib/python3.11/site-packages (from contextily) (1.3.8)\n",
      "Requirement already satisfied: requests in /home/luiz/.pyenv/versions/3.11.3/envs/dev/lib/python3.11/site-packages (from contextily) (2.31.0)\n",
      "Requirement already satisfied: joblib in /home/luiz/.pyenv/versions/3.11.3/envs/dev/lib/python3.11/site-packages (from contextily) (1.3.1)\n",
      "Requirement already satisfied: xyzservices in /home/luiz/.pyenv/versions/3.11.3/envs/dev/lib/python3.11/site-packages (from contextily) (2023.7.0)\n",
      "Requirement already satisfied: attrs>=19.2.0 in /home/luiz/.pyenv/versions/3.11.3/envs/dev/lib/python3.11/site-packages (from fiona>=1.8.19->geopandas) (23.1.0)\n",
      "Requirement already satisfied: certifi in /home/luiz/.pyenv/versions/3.11.3/envs/dev/lib/python3.11/site-packages (from fiona>=1.8.19->geopandas) (2023.5.7)\n",
      "Requirement already satisfied: click~=8.0 in /home/luiz/.pyenv/versions/3.11.3/envs/dev/lib/python3.11/site-packages (from fiona>=1.8.19->geopandas) (8.1.6)\n",
      "Requirement already satisfied: click-plugins>=1.0 in /home/luiz/.pyenv/versions/3.11.3/envs/dev/lib/python3.11/site-packages (from fiona>=1.8.19->geopandas) (1.1.1)\n",
      "Requirement already satisfied: cligj>=0.5 in /home/luiz/.pyenv/versions/3.11.3/envs/dev/lib/python3.11/site-packages (from fiona>=1.8.19->geopandas) (0.7.2)\n",
      "Requirement already satisfied: six in /home/luiz/.pyenv/versions/3.11.3/envs/dev/lib/python3.11/site-packages (from fiona>=1.8.19->geopandas) (1.16.0)\n",
      "Requirement already satisfied: pytz>=2020.1 in /home/luiz/.pyenv/versions/3.11.3/envs/dev/lib/python3.11/site-packages (from pandas>=1.1.0->geopandas) (2023.3)\n",
      "Requirement already satisfied: tzdata>=2022.1 in /home/luiz/.pyenv/versions/3.11.3/envs/dev/lib/python3.11/site-packages (from pandas>=1.1.0->geopandas) (2023.3)\n",
      "Requirement already satisfied: geographiclib<3,>=1.52 in /home/luiz/.pyenv/versions/3.11.3/envs/dev/lib/python3.11/site-packages (from geopy->contextily) (2.0)\n",
      "Requirement already satisfied: affine in /home/luiz/.pyenv/versions/3.11.3/envs/dev/lib/python3.11/site-packages (from rasterio->contextily) (2.4.0)\n",
      "Requirement already satisfied: snuggs>=1.4.1 in /home/luiz/.pyenv/versions/3.11.3/envs/dev/lib/python3.11/site-packages (from rasterio->contextily) (1.4.7)\n",
      "Requirement already satisfied: setuptools in /home/luiz/.pyenv/versions/3.11.3/envs/dev/lib/python3.11/site-packages (from rasterio->contextily) (65.5.0)\n",
      "Requirement already satisfied: charset-normalizer<4,>=2 in /home/luiz/.pyenv/versions/3.11.3/envs/dev/lib/python3.11/site-packages (from requests->contextily) (3.1.0)\n",
      "Requirement already satisfied: idna<4,>=2.5 in /home/luiz/.pyenv/versions/3.11.3/envs/dev/lib/python3.11/site-packages (from requests->contextily) (3.4)\n",
      "Requirement already satisfied: urllib3<3,>=1.21.1 in /home/luiz/.pyenv/versions/3.11.3/envs/dev/lib/python3.11/site-packages (from requests->contextily) (1.26.16)\n",
      "\n",
      "\u001b[1m[\u001b[0m\u001b[34;49mnotice\u001b[0m\u001b[1;39;49m]\u001b[0m\u001b[39;49m A new release of pip is available: \u001b[0m\u001b[31;49m23.1.2\u001b[0m\u001b[39;49m -> \u001b[0m\u001b[32;49m23.2.1\u001b[0m\n",
      "\u001b[1m[\u001b[0m\u001b[34;49mnotice\u001b[0m\u001b[1;39;49m]\u001b[0m\u001b[39;49m To update, run: \u001b[0m\u001b[32;49mpip install --upgrade pip\u001b[0m\n",
      "Note: you may need to restart the kernel to use updated packages.\n"
     ]
    }
   ],
   "source": [
    "# Istalando pacotes necessários\n",
    "%pip install geopandas matplotlib contextily shapely"
   ]
  },
  {
   "cell_type": "code",
   "execution_count": 3,
   "metadata": {},
   "outputs": [],
   "source": [
    "import geopandas as gpd\n",
    "import matplotlib.pyplot as plt\n",
    "import contextily as cx\n",
    "from shapely.geometry import box, Point, Polygon, MultiPolygon\n",
    "from shapely.wkt import loads"
   ]
  },
  {
   "cell_type": "code",
   "execution_count": 4,
   "metadata": {},
   "outputs": [],
   "source": [
    "# lendo o arquivo .shp\n",
    "caminho_shp = '../databases/paradas/paradas.shp'\n",
    "df = gpd.read_file(caminho_shp)"
   ]
  },
  {
   "cell_type": "code",
   "execution_count": 5,
   "metadata": {},
   "outputs": [
    {
     "name": "stdout",
     "output_type": "stream",
     "text": [
      "<class 'geopandas.geodataframe.GeoDataFrame'>\n",
      "RangeIndex: 5457 entries, 0 to 5456\n",
      "Data columns (total 6 columns):\n",
      " #   Column      Non-Null Count  Dtype   \n",
      "---  ------      --------------  -----   \n",
      " 0   parada      5457 non-null   object  \n",
      " 1   descricao   5456 non-null   object  \n",
      " 2   situacao    5457 non-null   object  \n",
      " 3   estrutura_  4948 non-null   object  \n",
      " 4   tipo        5455 non-null   object  \n",
      " 5   geometry    5457 non-null   geometry\n",
      "dtypes: geometry(1), object(5)\n",
      "memory usage: 255.9+ KB\n"
     ]
    }
   ],
   "source": [
    "# pegando algumas informações\n",
    "df.info()"
   ]
  },
  {
   "cell_type": "code",
   "execution_count": 6,
   "metadata": {},
   "outputs": [
    {
     "data": {
      "text/plain": [
       "0       POINT (203628.051 8238910.255)\n",
       "1       POINT (203626.569 8238879.548)\n",
       "2       POINT (203515.071 8238613.416)\n",
       "3       POINT (203481.047 8238551.784)\n",
       "4       POINT (203579.703 8239213.734)\n",
       "                     ...              \n",
       "5452    POINT (167354.394 8264495.757)\n",
       "5453    POINT (167311.355 8264500.454)\n",
       "5454    POINT (163265.979 8265332.396)\n",
       "5455    POINT (162912.871 8269061.030)\n",
       "5456    POINT (163217.911 8264159.565)\n",
       "Name: geometry, Length: 5457, dtype: geometry"
      ]
     },
     "execution_count": 6,
     "metadata": {},
     "output_type": "execute_result"
    }
   ],
   "source": [
    "# O que temos na coluna 'geometry' ?\n",
    "df['geometry']"
   ]
  },
  {
   "cell_type": "code",
   "execution_count": 7,
   "metadata": {},
   "outputs": [
    {
     "data": {
      "text/plain": [
       "<Projected CRS: EPSG:31983>\n",
       "Name: SIRGAS 2000 / UTM zone 23S\n",
       "Axis Info [cartesian]:\n",
       "- E[east]: Easting (metre)\n",
       "- N[north]: Northing (metre)\n",
       "Area of Use:\n",
       "- name: Brazil - between 48°W and 42°W, northern and southern hemispheres, onshore and offshore.\n",
       "- bounds: (-48.0, -33.5, -42.0, 5.13)\n",
       "Coordinate Operation:\n",
       "- name: UTM zone 23S\n",
       "- method: Transverse Mercator\n",
       "Datum: Sistema de Referencia Geocentrico para las AmericaS 2000\n",
       "- Ellipsoid: GRS 1980\n",
       "- Prime Meridian: Greenwich"
      ]
     },
     "execution_count": 7,
     "metadata": {},
     "output_type": "execute_result"
    }
   ],
   "source": [
    "# Qual sistemas estamos?\n",
    "# acessando o atributo crs\n",
    "df.crs"
   ]
  },
  {
   "cell_type": "code",
   "execution_count": 8,
   "metadata": {},
   "outputs": [],
   "source": [
    "# O folium trabalha no sistema WGS 84(EPSG:4326), o correto é converter para esse formato\n",
    "df = df.to_crs('EPSG:4326')"
   ]
  },
  {
   "cell_type": "code",
   "execution_count": 9,
   "metadata": {},
   "outputs": [
    {
     "name": "stdout",
     "output_type": "stream",
     "text": [
      "Coordenada x é longitude e vale: -47.76791017881488\n",
      "Coordena y é latitude e vale: -15.911319542624627\n"
     ]
    }
   ],
   "source": [
    "# Agora conseguimos plotar\n",
    "\n",
    "# Pegando uma cordenada pelo indice\n",
    "x = df.geometry.x.iloc[0] # longitude\n",
    "y = df.geometry.y.iloc[0] # latitute\n",
    "print(f'Coordenada x é longitude e vale: {x}\\nCoordena y é latitude e vale: {y}')"
   ]
  },
  {
   "cell_type": "code",
   "execution_count": 10,
   "metadata": {},
   "outputs": [
    {
     "data": {
      "text/html": [
       "<div style=\"width:100%;\"><div style=\"position:relative;width:100%;height:0;padding-bottom:60%;\"><span style=\"color:#565656\">Make this Notebook Trusted to load map: File -> Trust Notebook</span><iframe srcdoc=\"&lt;!DOCTYPE html&gt;\n",
       "&lt;html&gt;\n",
       "&lt;head&gt;\n",
       "    \n",
       "    &lt;meta http-equiv=&quot;content-type&quot; content=&quot;text/html; charset=UTF-8&quot; /&gt;\n",
       "    \n",
       "        &lt;script&gt;\n",
       "            L_NO_TOUCH = false;\n",
       "            L_DISABLE_3D = false;\n",
       "        &lt;/script&gt;\n",
       "    \n",
       "    &lt;style&gt;html, body {width: 100%;height: 100%;margin: 0;padding: 0;}&lt;/style&gt;\n",
       "    &lt;style&gt;#map {position:absolute;top:0;bottom:0;right:0;left:0;}&lt;/style&gt;\n",
       "    &lt;script src=&quot;https://cdn.jsdelivr.net/npm/leaflet@1.9.3/dist/leaflet.js&quot;&gt;&lt;/script&gt;\n",
       "    &lt;script src=&quot;https://code.jquery.com/jquery-1.12.4.min.js&quot;&gt;&lt;/script&gt;\n",
       "    &lt;script src=&quot;https://cdn.jsdelivr.net/npm/bootstrap@5.2.2/dist/js/bootstrap.bundle.min.js&quot;&gt;&lt;/script&gt;\n",
       "    &lt;script src=&quot;https://cdnjs.cloudflare.com/ajax/libs/Leaflet.awesome-markers/2.0.2/leaflet.awesome-markers.js&quot;&gt;&lt;/script&gt;\n",
       "    &lt;link rel=&quot;stylesheet&quot; href=&quot;https://cdn.jsdelivr.net/npm/leaflet@1.9.3/dist/leaflet.css&quot;/&gt;\n",
       "    &lt;link rel=&quot;stylesheet&quot; href=&quot;https://cdn.jsdelivr.net/npm/bootstrap@5.2.2/dist/css/bootstrap.min.css&quot;/&gt;\n",
       "    &lt;link rel=&quot;stylesheet&quot; href=&quot;https://netdna.bootstrapcdn.com/bootstrap/3.0.0/css/bootstrap.min.css&quot;/&gt;\n",
       "    &lt;link rel=&quot;stylesheet&quot; href=&quot;https://cdn.jsdelivr.net/npm/@fortawesome/fontawesome-free@6.2.0/css/all.min.css&quot;/&gt;\n",
       "    &lt;link rel=&quot;stylesheet&quot; href=&quot;https://cdnjs.cloudflare.com/ajax/libs/Leaflet.awesome-markers/2.0.2/leaflet.awesome-markers.css&quot;/&gt;\n",
       "    &lt;link rel=&quot;stylesheet&quot; href=&quot;https://cdn.jsdelivr.net/gh/python-visualization/folium/folium/templates/leaflet.awesome.rotate.min.css&quot;/&gt;\n",
       "    \n",
       "            &lt;meta name=&quot;viewport&quot; content=&quot;width=device-width,\n",
       "                initial-scale=1.0, maximum-scale=1.0, user-scalable=no&quot; /&gt;\n",
       "            &lt;style&gt;\n",
       "                #map_46789ef3bfe0dbfd0b439dde7a55cb5d {\n",
       "                    position: relative;\n",
       "                    width: 100.0%;\n",
       "                    height: 100.0%;\n",
       "                    left: 0.0%;\n",
       "                    top: 0.0%;\n",
       "                }\n",
       "                .leaflet-container { font-size: 1rem; }\n",
       "            &lt;/style&gt;\n",
       "        \n",
       "&lt;/head&gt;\n",
       "&lt;body&gt;\n",
       "    \n",
       "    \n",
       "            &lt;div class=&quot;folium-map&quot; id=&quot;map_46789ef3bfe0dbfd0b439dde7a55cb5d&quot; &gt;&lt;/div&gt;\n",
       "        \n",
       "&lt;/body&gt;\n",
       "&lt;script&gt;\n",
       "    \n",
       "    \n",
       "            var map_46789ef3bfe0dbfd0b439dde7a55cb5d = L.map(\n",
       "                &quot;map_46789ef3bfe0dbfd0b439dde7a55cb5d&quot;,\n",
       "                {\n",
       "                    center: [-15.911319542624627, -47.76791017881488],\n",
       "                    crs: L.CRS.EPSG3857,\n",
       "                    zoom: 12,\n",
       "                    zoomControl: true,\n",
       "                    preferCanvas: false,\n",
       "                }\n",
       "            );\n",
       "\n",
       "            \n",
       "\n",
       "        \n",
       "    \n",
       "            var tile_layer_ee3ad509dc3bc3556dcb09c5b7ee4338 = L.tileLayer(\n",
       "                &quot;https://{s}.tile.openstreetmap.org/{z}/{x}/{y}.png&quot;,\n",
       "                {&quot;attribution&quot;: &quot;Data by \\u0026copy; \\u003ca target=\\&quot;_blank\\&quot; href=\\&quot;http://openstreetmap.org\\&quot;\\u003eOpenStreetMap\\u003c/a\\u003e, under \\u003ca target=\\&quot;_blank\\&quot; href=\\&quot;http://www.openstreetmap.org/copyright\\&quot;\\u003eODbL\\u003c/a\\u003e.&quot;, &quot;detectRetina&quot;: false, &quot;maxNativeZoom&quot;: 18, &quot;maxZoom&quot;: 18, &quot;minZoom&quot;: 0, &quot;noWrap&quot;: false, &quot;opacity&quot;: 1, &quot;subdomains&quot;: &quot;abc&quot;, &quot;tms&quot;: false}\n",
       "            ).addTo(map_46789ef3bfe0dbfd0b439dde7a55cb5d);\n",
       "        \n",
       "    \n",
       "            var marker_36c604d79593a545f5315dec6129dde1 = L.marker(\n",
       "                [-15.911319542624627, -47.76791017881488],\n",
       "                {}\n",
       "            ).addTo(map_46789ef3bfe0dbfd0b439dde7a55cb5d);\n",
       "        \n",
       "&lt;/script&gt;\n",
       "&lt;/html&gt;\" style=\"position:absolute;width:100%;height:100%;left:0;top:0;border:none !important;\" allowfullscreen webkitallowfullscreen mozallowfullscreen></iframe></div></div>"
      ],
      "text/plain": [
       "<folium.folium.Map at 0x7fab6880bcd0>"
      ]
     },
     "execution_count": 10,
     "metadata": {},
     "output_type": "execute_result"
    }
   ],
   "source": [
    "import folium\n",
    "\n",
    "# Criar um mapa Folium centrado nas coordenadas do ponto selecionado\n",
    "mapa = folium.Map(location=[y, x], zoom_start=12)\n",
    "\n",
    "# Adicionar um marcador para o ponto no mapa\n",
    "folium.Marker(location=[y, x]).add_to(mapa)\n",
    "\n",
    "# Exibir o mapa\n",
    "mapa"
   ]
  },
  {
   "cell_type": "code",
   "execution_count": 11,
   "metadata": {},
   "outputs": [
    {
     "data": {
      "text/plain": [
       "'Avenida Morro da Cruz'"
      ]
     },
     "execution_count": 11,
     "metadata": {},
     "output_type": "execute_result"
    }
   ],
   "source": [
    "# verificando se faz sentido o plot\n",
    "df['descricao'].iloc[0]"
   ]
  },
  {
   "cell_type": "code",
   "execution_count": 12,
   "metadata": {},
   "outputs": [
    {
     "data": {
      "text/plain": [
       "1308"
      ]
     },
     "execution_count": 12,
     "metadata": {},
     "output_type": "execute_result"
    }
   ],
   "source": [
    "# Lendo o arquivo das linhas\n",
    "file = '../databases/linhas/Linhas.shp'\n",
    "linhas = gpd.read_file(file)\n",
    "linhas.head(5)\n",
    "linhas.linha.shape[0]"
   ]
  },
  {
   "cell_type": "code",
   "execution_count": 13,
   "metadata": {},
   "outputs": [],
   "source": [
    "linestringRecanto = linhas[linhas['linha']=='813.2']\n",
    "linestringRecantoIda = linestringRecanto.iloc[1] # ida\n",
    "linestringRecantoVolta = linestringRecanto.iloc[0] # volta\n"
   ]
  },
  {
   "cell_type": "code",
   "execution_count": 14,
   "metadata": {},
   "outputs": [
    {
     "data": {
      "text/html": [
       "<div style=\"width:100%;\"><div style=\"position:relative;width:100%;height:0;padding-bottom:60%;\"><span style=\"color:#565656\">Make this Notebook Trusted to load map: File -> Trust Notebook</span><iframe srcdoc=\"&lt;!DOCTYPE html&gt;\n",
       "&lt;html&gt;\n",
       "&lt;head&gt;\n",
       "    \n",
       "    &lt;meta http-equiv=&quot;content-type&quot; content=&quot;text/html; charset=UTF-8&quot; /&gt;\n",
       "    \n",
       "        &lt;script&gt;\n",
       "            L_NO_TOUCH = false;\n",
       "            L_DISABLE_3D = false;\n",
       "        &lt;/script&gt;\n",
       "    \n",
       "    &lt;style&gt;html, body {width: 100%;height: 100%;margin: 0;padding: 0;}&lt;/style&gt;\n",
       "    &lt;style&gt;#map {position:absolute;top:0;bottom:0;right:0;left:0;}&lt;/style&gt;\n",
       "    &lt;script src=&quot;https://cdn.jsdelivr.net/npm/leaflet@1.9.3/dist/leaflet.js&quot;&gt;&lt;/script&gt;\n",
       "    &lt;script src=&quot;https://code.jquery.com/jquery-1.12.4.min.js&quot;&gt;&lt;/script&gt;\n",
       "    &lt;script src=&quot;https://cdn.jsdelivr.net/npm/bootstrap@5.2.2/dist/js/bootstrap.bundle.min.js&quot;&gt;&lt;/script&gt;\n",
       "    &lt;script src=&quot;https://cdnjs.cloudflare.com/ajax/libs/Leaflet.awesome-markers/2.0.2/leaflet.awesome-markers.js&quot;&gt;&lt;/script&gt;\n",
       "    &lt;link rel=&quot;stylesheet&quot; href=&quot;https://cdn.jsdelivr.net/npm/leaflet@1.9.3/dist/leaflet.css&quot;/&gt;\n",
       "    &lt;link rel=&quot;stylesheet&quot; href=&quot;https://cdn.jsdelivr.net/npm/bootstrap@5.2.2/dist/css/bootstrap.min.css&quot;/&gt;\n",
       "    &lt;link rel=&quot;stylesheet&quot; href=&quot;https://netdna.bootstrapcdn.com/bootstrap/3.0.0/css/bootstrap.min.css&quot;/&gt;\n",
       "    &lt;link rel=&quot;stylesheet&quot; href=&quot;https://cdn.jsdelivr.net/npm/@fortawesome/fontawesome-free@6.2.0/css/all.min.css&quot;/&gt;\n",
       "    &lt;link rel=&quot;stylesheet&quot; href=&quot;https://cdnjs.cloudflare.com/ajax/libs/Leaflet.awesome-markers/2.0.2/leaflet.awesome-markers.css&quot;/&gt;\n",
       "    &lt;link rel=&quot;stylesheet&quot; href=&quot;https://cdn.jsdelivr.net/gh/python-visualization/folium/folium/templates/leaflet.awesome.rotate.min.css&quot;/&gt;\n",
       "    \n",
       "            &lt;meta name=&quot;viewport&quot; content=&quot;width=device-width,\n",
       "                initial-scale=1.0, maximum-scale=1.0, user-scalable=no&quot; /&gt;\n",
       "            &lt;style&gt;\n",
       "                #map_63467bbdb6db3b4da000d1db2b854e46 {\n",
       "                    position: relative;\n",
       "                    width: 100.0%;\n",
       "                    height: 100.0%;\n",
       "                    left: 0.0%;\n",
       "                    top: 0.0%;\n",
       "                }\n",
       "                .leaflet-container { font-size: 1rem; }\n",
       "            &lt;/style&gt;\n",
       "        \n",
       "&lt;/head&gt;\n",
       "&lt;body&gt;\n",
       "    \n",
       "    \n",
       "            &lt;div class=&quot;folium-map&quot; id=&quot;map_63467bbdb6db3b4da000d1db2b854e46&quot; &gt;&lt;/div&gt;\n",
       "        \n",
       "&lt;/body&gt;\n",
       "&lt;script&gt;\n",
       "    \n",
       "    \n",
       "            var map_63467bbdb6db3b4da000d1db2b854e46 = L.map(\n",
       "                &quot;map_63467bbdb6db3b4da000d1db2b854e46&quot;,\n",
       "                {\n",
       "                    center: [-15.7605, -47.78134],\n",
       "                    crs: L.CRS.EPSG3857,\n",
       "                    zoom: 10,\n",
       "                    zoomControl: true,\n",
       "                    preferCanvas: false,\n",
       "                }\n",
       "            );\n",
       "\n",
       "            \n",
       "\n",
       "        \n",
       "    \n",
       "            var tile_layer_570480a36d8e5d069a9813551ecee2d3 = L.tileLayer(\n",
       "                &quot;https://{s}.tile.openstreetmap.org/{z}/{x}/{y}.png&quot;,\n",
       "                {&quot;attribution&quot;: &quot;Data by \\u0026copy; \\u003ca target=\\&quot;_blank\\&quot; href=\\&quot;http://openstreetmap.org\\&quot;\\u003eOpenStreetMap\\u003c/a\\u003e, under \\u003ca target=\\&quot;_blank\\&quot; href=\\&quot;http://www.openstreetmap.org/copyright\\&quot;\\u003eODbL\\u003c/a\\u003e.&quot;, &quot;detectRetina&quot;: false, &quot;maxNativeZoom&quot;: 18, &quot;maxZoom&quot;: 18, &quot;minZoom&quot;: 0, &quot;noWrap&quot;: false, &quot;opacity&quot;: 1, &quot;subdomains&quot;: &quot;abc&quot;, &quot;tms&quot;: false}\n",
       "            ).addTo(map_63467bbdb6db3b4da000d1db2b854e46);\n",
       "        \n",
       "    \n",
       "            var poly_line_e07b2e0a07107f15e70769bbf1715267 = L.polyline(\n",
       "                [[-15.736292122908715, -47.90742176540436], [-15.736347013886695, -47.90757465790603], [-15.736457793168467, -47.90768780048404], [-15.736586241002362, -47.90776226464094], [-15.736738481263583, -47.907823139915656], [-15.73703585120781, -47.90881540750094], [-15.73728352110014, -47.909639191889326], [-15.737406434285857, -47.910051980542285], [-15.738089838560812, -47.912315248134206], [-15.73813080655775, -47.912356557936924], [-15.738204344605261, -47.912446202869056], [-15.738240397515696, -47.91254460215859], [-15.73827628972429, -47.91259030529494], [-15.738311029918131, -47.9125927651703], [-15.738347752813752, -47.91257631921602], [-15.738369099964984, -47.91249356348797], [-15.738378373522403, -47.91239821186479], [-15.737781591504412, -47.91040763616767], [-15.737493691838232, -47.90943892477332], [-15.737310347376384, -47.90882856404787], [-15.735970930814169, -47.904371059526795], [-15.73568458365515, -47.90341135388101], [-15.735167614940627, -47.901702075947085], [-15.734760399776697, -47.90033304345277], [-15.73475353659279, -47.900147653635834], [-15.734764612125486, -47.900039679453826], [-15.734797003420288, -47.899917104760924], [-15.734882482794141, -47.89973765425392], [-15.735494759116508, -47.89874772283872], [-15.735593131038488, -47.89861462245733], [-15.73563883014794, -47.89860775384819], [-15.735669534603366, -47.898604671435194], [-15.735727920249984, -47.89860818844276], [-15.736070119799171, -47.89885705529494], [-15.736344645197422, -47.89903056114926], [-15.73670381536712, -47.89918980624844], [-15.736996641532837, -47.89927537077932], [-15.737049649558864, -47.899284948547546], [-15.737477058547436, -47.89934429776253], [-15.737740143574438, -47.89935380493265], [-15.737982639036968, -47.89932766021488], [-15.738231997276998, -47.899292008326995], [-15.73845727308813, -47.89922579675076], [-15.738579725688293, -47.89918980624845], [-15.738982357842561, -47.899059082659576], [-15.739478783889675, -47.898902214352944], [-15.740439605053338, -47.89859323132471], [-15.741304340217873, -47.89831039301427], [-15.741791544955307, -47.89815123668552], [-15.742272015683263, -47.89799427960849], [-15.74303151187607, -47.89775897714853], [-15.743934364973065, -47.8974636772006], [-15.74427484627555, -47.897351140737555], [-15.744366949950384, -47.89732091269049], [-15.74471922398159, -47.897208410810265], [-15.74490050096387, -47.89715051826219], [-15.745121612824716, -47.89708171054895], [-15.74555658502302, -47.896946365900256], [-15.74580181881165, -47.89687005674426], [-15.7465864653582, -47.89660860956654], [-15.7477805863583, -47.89622356917752], [-15.748010740640245, -47.89615209493652], [-15.748400519972197, -47.89603104898302], [-15.750255734357424, -47.89543209726676], [-15.750946028802808, -47.89521066522421], [-15.751774664224175, -47.89494485479918], [-15.752184132832012, -47.8948117544178], [-15.754078200344958, -47.89421517949408], [-15.755313452250297, -47.89382063193498], [-15.755969962705219, -47.89360909740027], [-15.757742759078864, -47.893038667194325], [-15.759163272487001, -47.89257994623704], [-15.759668799015497, -47.89241832434535], [-15.760890292309734, -47.89202377678624], [-15.761526197894694, -47.89182412621415], [-15.762905574414095, -47.89137079116826], [-15.763351556097641, -47.89123705846053], [-15.764783467208556, -47.8907830910883], [-15.765238657282628, -47.8906285995742], [-15.76690157917672, -47.89011045880378], [-15.768744832237275, -47.88958554932288], [-15.770032959066269, -47.889271451042546], [-15.77050643596834, -47.889164495378935], [-15.771636371549565, -47.888903048201215], [-15.772347724527291, -47.88876281744226], [-15.773532544849639, -47.88856792045523], [-15.774214156493708, -47.888449080828984], [-15.775229707848784, -47.888287458937306], [-15.776096582122134, -47.888204271198944], [-15.7772562208047, -47.8880759244026], [-15.777828032309625, -47.888021258174554], [-15.779682977731657, -47.887869143452974], [-15.780531535269986, -47.887809723639855], [-15.781384663662166, -47.88776694137441], [-15.781535618982398, -47.88776218778936], [-15.783134366156395, -47.887728912694016], [-15.783486592021925, -47.88772178231645], [-15.78371073543585, -47.88774317344918], [-15.784838310278888, -47.8878501291128], [-15.785547329787352, -47.887911925718434], [-15.785789768146977, -47.88794044722875], [-15.786190019521191, -47.88802363496712], [-15.786633725835008, -47.888128213838215], [-15.78777264598099, -47.88841585329556], [-15.787966697353552, -47.8884689729721], [-15.788223586992094, -47.88855651557694], [-15.78830580363467, -47.88858961623139], [-15.788838520120944, -47.88873904951711], [-15.789325675788518, -47.888912555371434], [-15.789947769586096, -47.88912171311362], [-15.790508109365152, -47.889311858662474], [-15.7911258464678, -47.88951811945582], [-15.7922931924282, -47.889912239272945], [-15.792836797833544, -47.89009022486041], [-15.793526632581674, -47.89032210904541], [-15.794226022488868, -47.89055413081076], [-15.79448417039827, -47.890636762426034], [-15.79485317965815, -47.890782661423266], [-15.795285993972886, -47.890936870110714], [-15.795509036267617, -47.891009133472444], [-15.79566830611478, -47.891070620606875], [-15.795986615801747, -47.891210866198165], [-15.796354731435644, -47.89137896482904], [-15.797230998254516, -47.89175005806652], [-15.797336567087706, -47.89179762086752], [-15.797564228219965, -47.89192671052036], [-15.797654185931084, -47.891989682471646], [-15.797895786115946, -47.89214858381128], [-15.799309472696498, -47.89301758536662], [-15.799438682737751, -47.89309345519723], [-15.799762677474034, -47.893344838788984], [-15.800072469774852, -47.89358615017092], [-15.800632193383754, -47.894033374997406], [-15.801225294690916, -47.894486012660934], [-15.801416790551228, -47.89463927207787], [-15.80193755947337, -47.895095820256074], [-15.802700294922147, -47.89577298155903], [-15.803245217644543, -47.89625455773262], [-15.803685581727816, -47.896648274220254], [-15.804211423320659, -47.897127115764874], [-15.804588507521828, -47.89747304615567], [-15.805166544544441, -47.89802420298073], [-15.806029811230042, -47.89882127597607], [-15.806700260691189, -47.89951936149947], [-15.807423101917806, -47.900274959498574], [-15.808284044868351, -47.90120034792248], [-15.809207470096592, -47.9022771767659], [-15.809827308615594, -47.90300664513014], [-15.810007819295176, -47.90322184638253], [-15.810448773454732, -47.90379290283437], [-15.811326930277062, -47.904948081282534], [-15.811956053293033, -47.905786286057925], [-15.812707413457936, -47.90681874071463], [-15.813061689330526, -47.90730504971716], [-15.813197184620401, -47.90749321548773], [-15.814076198087996, -47.90871393670981], [-15.81457709375653, -47.90940225268747], [-15.815473032401837, -47.91065398180714], [-15.816574411487771, -47.91217520320965], [-15.817450455227046, -47.913394587220274], [-15.818535286765876, -47.91490079201382], [-15.819735201959615, -47.916554274639005], [-15.820289931729581, -47.91732087204429], [-15.820435402207208, -47.917521903426625], [-15.820970236844397, -47.91826010826555], [-15.822394566682386, -47.92023522691439], [-15.822685466856331, -47.92063978400203], [-15.823821892994566, -47.92220794723053], [-15.825286122033141, -47.92423305411949], [-15.825690643379307, -47.924799121956944], [-15.825866611368209, -47.92503858733767], [-15.825969016612508, -47.92518097143122], [-15.827050403544042, -47.92668454855633], [-15.827666247452825, -47.92752515756647], [-15.827927148138766, -47.92788582729714], [-15.828111298264528, -47.928140398034884], [-15.828246595345435, -47.928327434512106], [-15.828535845646583, -47.9287272997058], [-15.828913350218608, -47.92921401680506], [-15.829052751859505, -47.929418409197865], [-15.829134993979265, -47.929520786330706], [-15.829231702440318, -47.929613499821315], [-15.829345266089506, -47.929696584129516], [-15.829561182771172, -47.92980829349874], [-15.829660449746903, -47.9298442782519], [-15.829846111879965, -47.929896317543395], [-15.830127460795243, -47.92993986461431], [-15.830187401890315, -47.92999036348123], [-15.830230848259427, -47.93004502970931], [-15.830253714765723, -47.93011395669253], [-15.830242281512913, -47.93019952122342], [-15.830210268401535, -47.930270824999184], [-15.829734644435273, -47.930653488595695], [-15.829686624645689, -47.93067725652094], [-15.829629458214646, -47.930682010106], [-15.829572291767413, -47.93067250293589], [-15.829533418574083, -47.93064398142558], [-15.82949454537325, -47.93059882236762], [-15.829473965440396, -47.93054177934702], [-15.829462532143436, -47.93047285236379], [-15.829483112077464, -47.93040630217309], [-15.829512838645153, -47.93034688235997], [-15.829537991891332, -47.93031360726463], [-15.829659893515245, -47.93017116254001], [-15.830095935819507, -47.92985132111849], [-15.83043436007453, -47.92957798997812], [-15.830544939671112, -47.92949025894378], [-15.830876971710323, -47.92925998301922], [-15.831499898057574, -47.928937141904676], [-15.831721873865032, -47.928855878204374], [-15.83210324411912, -47.928688060316695], [-15.832686842228183, -47.92848586143324], [-15.833457991780401, -47.92831378935684], [-15.833607514463175, -47.928329108506354], [-15.834075711836153, -47.92833695589583], [-15.834672711103096, -47.92840041150393], [-15.835015784824638, -47.92847336972944], [-15.835351999139409, -47.92858242904061], [-15.835622624763575, -47.92867299155336], [-15.835782760025431, -47.92874254740568], [-15.835953048580324, -47.92881761944983], [-15.83738342591288, -47.929604483212444], [-15.837906394193526, -47.92988106092918], [-15.838195584360726, -47.93001220851052], [-15.83848938207622, -47.930195255083405], [-15.838981114495482, -47.930460141371675], [-15.839529537459642, -47.93076341901264], [-15.840236077537114, -47.931050058342564], [-15.840784986505897, -47.9312143039347], [-15.841451175560675, -47.93130455190891], [-15.842445012618882, -47.93138626569441], [-15.8426186374169, -47.931444925564094], [-15.842700392453336, -47.93149485403742], [-15.842862407250301, -47.93157278385469], [-15.843057356458985, -47.93173295015124], [-15.843189749065727, -47.931881106057844], [-15.843338763338298, -47.93212514691194], [-15.844102987013528, -47.93395961151771], [-15.844300751077908, -47.93476424229882], [-15.844419103621844, -47.93543402841162], [-15.844456113444295, -47.935994035004754], [-15.84445492300326, -47.93655184335236], [-15.844415552292745, -47.937693251932046], [-15.844321767738682, -47.93880018437264], [-15.844246836824514, -47.93978192481568], [-15.844197522160014, -47.94011028521363], [-15.844105843216006, -47.940547723084066], [-15.84406936693892, -47.94062872295378], [-15.84399084963101, -47.94078441736979], [-15.843889112830572, -47.94098566604481], [-15.843641275594251, -47.94178806953756], [-15.843575181519572, -47.94201382600225], [-15.843538126918697, -47.942198483748975], [-15.84352549139672, -47.942411395565934], [-15.843515615533285, -47.94255320543154], [-15.843479155998823, -47.94275006190843], [-15.843363812850404, -47.943110897393524], [-15.842016434549086, -47.947450216319865], [-15.842006691258879, -47.94758205447601], [-15.842005520898548, -47.94776676101948], [-15.84197713785374, -47.9481682012234], [-15.841955664911376, -47.948327437936605], [-15.841902282768014, -47.948505722155545], [-15.841570321096269, -47.94960555879377], [-15.840623996525332, -47.95267365019289], [-15.840519132960535, -47.95299356504404], [-15.840351822158091, -47.95352080292073], [-15.840273555492255, -47.953763969975654], [-15.84024547026705, -47.95384568089276], [-15.840135483986186, -47.95408310697631], [-15.840068890877738, -47.954198864915746], [-15.839973812752635, -47.95430071721279], [-15.839890864341664, -47.954345848941465], [-15.839798464940175, -47.95437617893912], [-15.839697789939091, -47.954388791498005], [-15.839603579388733, -47.95438793908007], [-15.839474236192558, -47.95434095635017], [-15.839390680827792, -47.95428336483849], [-15.839326128034385, -47.954214774757276], [-15.839269943631283, -47.954138847704314], [-15.839231607861006, -47.95405617078642], [-15.83920336589056, -47.9539762109344], [-15.839192425417304, -47.95390532599438], [-15.839199719000547, -47.95380703104249], [-15.839218679593126, -47.95372633100385], [-15.839251528817131, -47.9536458329974], [-15.83929916092823, -47.95357272510026], [-15.839362567982759, -47.95350702173663], [-15.839426799429285, -47.95345363047584], [-15.839501789717678, -47.953411670835166], [-15.839642653169925, -47.95337221703685], [-15.839793466036525, -47.953350963360016], [-15.83995094066495, -47.95336682909111], [-15.84113694899788, -47.953525148425186], [-15.841271917307285, -47.95355055298849], [-15.841508695679739, -47.95358093560941], [-15.8422011650653, -47.9536685440425], [-15.842557639999686, -47.95371574616374], [-15.842831361202483, -47.95375748852496], [-15.842901604197529, -47.953769655648536], [-15.843008675787226, -47.953787637912015], [-15.845650234524367, -47.95419738997837], [-15.846585080655595, -47.95434738026024], [-15.846923733011629, -47.954475787242195], [-15.847428821433072, -47.95464551847649], [-15.847542366824463, -47.95467064903364], [-15.847831241976545, -47.95471868029498], [-15.848193156306861, -47.95477885608343], [-15.848937040542927, -47.954893356533006], [-15.849558171949868, -47.9549863241915], [-15.850217851358806, -47.95509960052711], [-15.850834241452795, -47.95520951860918], [-15.851203727003837, -47.95527167188636], [-15.852524447350358, -47.95548590959052], [-15.853739126033389, -47.95568763998095], [-15.854474522805075, -47.95580311990401], [-15.855845337936172, -47.956023035219935], [-15.856195391212827, -47.95608879650955], [-15.856546915136136, -47.956168420594445], [-15.856929949749706, -47.956269035967125], [-15.857181766739963, -47.9563319552496], [-15.8573783016717, -47.95636825763899], [-15.857772611019932, -47.956433254769685], [-15.858147650577951, -47.9564956248531], [-15.858436540967151, -47.956547611537275], [-15.859165729535837, -47.95665942292847], [-15.859397766122155, -47.95669775900139], [-15.859677064641627, -47.956744068817244], [-15.859810648875927, -47.95677476145774], [-15.8599740967437, -47.956822315150475], [-15.860129508652319, -47.95687620461436], [-15.860273358192208, -47.95694517779563], [-15.860684141494778, -47.95715502157639], [-15.862141347575804, -47.957950336003485], [-15.862411611925136, -47.95815901367521], [-15.8626068132283, -47.958334331759815], [-15.862826413894302, -47.958593894617515], [-15.863053174089057, -47.958952703361355], [-15.863186108635436, -47.95919692303712], [-15.863527036270296, -47.959864209040255], [-15.864131397509603, -47.96105216965563], [-15.86427460738196, -47.96137515090263], [-15.864373845528968, -47.96167490458896], [-15.864484932551244, -47.96198011137801], [-15.864553297991725, -47.96215006133456], [-15.864636606825217, -47.96232756273203], [-15.865010409244862, -47.963060454835095], [-15.86549101951978, -47.96399205016594], [-15.865653013961607, -47.96429445535272], [-15.865815824155659, -47.96455407725992], [-15.86603025189607, -47.96490039715114], [-15.866155983290472, -47.965131025509294], [-15.866274382607111, -47.965358027012975], [-15.866391372870595, -47.9656049538545], [-15.867095307957674, -47.96704416462045], [-15.867780444948503, -47.96838352649874], [-15.867988407482967, -47.968786662735084], [-15.868771995225039, -47.97031579088328], [-15.869362867252644, -47.97146811707866], [-15.869712834604378, -47.97215610498283], [-15.869922827865967, -47.972565066748416], [-15.869989656359708, -47.97269196043554], [-15.870360679227172, -47.97341751321758], [-15.87074026042797, -47.97416050012045], [-15.871001199653183, -47.97467412797287], [-15.87137165093626, -47.97539938554084], [-15.872005290344973, -47.97661865815048], [-15.872560950465909, -47.97770684810414], [-15.873459398057683, -47.97946593555203], [-15.87453222675162, -47.981581982115216], [-15.874933769623947, -47.98236400039679], [-15.875163113766476, -47.982861342215635], [-15.87533198836048, -47.98329678201221], [-15.875474879081423, -47.98376351909683], [-15.87556492252409, -47.98410979999116], [-15.875656711684869, -47.98457637153538], [-15.875714120440492, -47.98494211826906], [-15.875756428635418, -47.985332282122044], [-15.875947207850036, -47.98751100527556], [-15.876011340338652, -47.98819100630528], [-15.876096154887714, -47.98914088120971], [-15.87613434758381, -47.989581730429194], [-15.876211380690494, -47.990433991769955], [-15.876228100164735, -47.990644375404706], [-15.876250422437861, -47.99092258457868], [-15.876292176823458, -47.99143026727881], [-15.87632156472248, -47.99176651256478], [-15.876402715665304, -47.99261714309915], [-15.87684432125563, -47.99758188432609], [-15.877178245246968, -48.00138336265257], [-15.8772830367156, -48.002628035169536], [-15.877390902367209, -48.00377412532946], [-15.877407757059009, -48.00394985497098], [-15.877425325970378, -48.0041242392891], [-15.877476351117984, -48.00483745793205], [-15.877694581043285, -48.007292167197235], [-15.877888820415725, -48.009776885457164], [-15.877890715895928, -48.009966988862274], [-15.877876765450171, -48.010153336782224], [-15.87784195969726, -48.010328006231305], [-15.877790903006037, -48.010482165752904], [-15.877769122501636, -48.01053447812718], [-15.877743276900695, -48.01067479948909], [-15.877743878213021, -48.01080317142094], [-15.877782216589766, -48.01096666373986], [-15.87783052191704, -48.01110068198526], [-15.877968053071895, -48.011317423786565], [-15.87801843303922, -48.011503376686804], [-15.87804737357585, -48.01160254790357], [-15.878061550510418, -48.01200472327436], [-15.878030362593524, -48.012574226807985], [-15.877953638687446, -48.013361760526465], [-15.877877054385316, -48.01390904785254], [-15.877815142790373, -48.014324002748346], [-15.877776041134663, -48.01465562456098], [-15.877746772376138, -48.01488120128139], [-15.877682364009438, -48.01527845790891], [-15.877608221843825, -48.015765303432694], [-15.877496145635766, -48.01655727634015], [-15.877450149667448, -48.01686559771468], [-15.877407375375176, -48.01723030047482], [-15.877363216894066, -48.017579242089035], [-15.877220962968531, -48.01862203736938], [-15.876626907198734, -48.02300770434424], [-15.876448443067646, -48.02423742810118], [-15.876326950177486, -48.02463920950667], [-15.87611713252589, -48.02512113056613], [-15.875985703821838, -48.02554991525995], [-15.875919835102072, -48.02581799421032], [-15.875775518075164, -48.02667671515837], [-15.875753574875217, -48.02683622024158], [-15.875337430970596, -48.02987388001681], [-15.875200202555034, -48.0308488180566], [-15.874817695847554, -48.03343036453448], [-15.874754488016062, -48.03388525967368], [-15.874660558509616, -48.03459481671132], [-15.874544937816788, -48.03541888467399], [-15.874409853236122, -48.036378388739365], [-15.874280390035592, -48.037111031911735], [-15.874249855494568, -48.03729400997772], [-15.874195034116223, -48.037631838671956], [-15.874139060694688, -48.038051624746196], [-15.874102304361415, -48.03830707702453], [-15.874058931301157, -48.03861685582887], [-15.874018640117987, -48.038892412500665], [-15.873880016811905, -48.03984816046949], [-15.873840453853454, -48.040141197330456], [-15.873786074561322, -48.04051665815608], [-15.87350341365505, -48.04258059000864], [-15.873488845673421, -48.04283142399398], [-15.873480425124887, -48.04310510273093], [-15.873493336519969, -48.043469229288135], [-15.873530182439291, -48.043851077495134], [-15.873574597409931, -48.044195071600384], [-15.8737154763744, -48.04484042282372], [-15.873760123715483, -48.044994963827214], [-15.873824396363055, -48.045199018128315], [-15.8738980681655, -48.04540522961302], [-15.874047651669777, -48.04577401175248], [-15.874158946952374, -48.046028833707524], [-15.874328951191991, -48.04634870358314], [-15.874501205446153, -48.046631486009375], [-15.874742731443801, -48.047005684615286], [-15.875366822669871, -48.04792116423108], [-15.876545279042487, -48.049691959883], [-15.877559745770972, -48.05121572134354], [-15.877766808168706, -48.05151986626332], [-15.87812601128659, -48.05205677724453], [-15.87901633057958, -48.053413393217284], [-15.879708820458426, -48.054433419751646], [-15.880252372520177, -48.05526408315756], [-15.880454387000123, -48.055625919807284], [-15.880762066852613, -48.05633913639819], [-15.880787408062897, -48.05647861012285], [-15.880913658016334, -48.056794311319436], [-15.88106448388391, -48.05725753848603], [-15.881132436657985, -48.057434819524346], [-15.881249080087596, -48.0577239640078], [-15.881385345639933, -48.058074388166865], [-15.881572443887064, -48.05851736928433], [-15.881642512964161, -48.05866692655562], [-15.8816975565017, -48.0588281560514], [-15.881931074952437, -48.05954611653345], [-15.882296835677256, -48.06072690557811], [-15.882295693962002, -48.060807521197475], [-15.882314958362498, -48.06091666686846], [-15.88237127021706, -48.06111910057814], [-15.882407087039574, -48.061253358412905], [-15.882438526873406, -48.06142114712951], [-15.882431100556298, -48.06150184151233], [-15.88238227056162, -48.06161597870971], [-15.88230029824542, -48.06170443636043], [-15.882205011872802, -48.06176515390468], [-15.882105658967959, -48.061790403058644], [-15.881982489313222, -48.06177673789137], [-15.881866706619881, -48.06172541723239], [-15.88172373502363, -48.06160444553805], [-15.881627799177739, -48.061495987582056], [-15.88154609105747, -48.06135076450235], [-15.881502561180671, -48.0611982506649], [-15.881495813145607, -48.061083273411974], [-15.881527321397824, -48.06095549870765], [-15.881568247939628, -48.060861699481485], [-15.88162811111723, -48.06078667654817], [-15.881693068824376, -48.06074599846524], [-15.881826282698382, -48.06066133240157], [-15.881909730851326, -48.060600775613516], [-15.883205345173554, -48.06017201730795], [-15.885113221176423, -48.05956636539087], [-15.885588816680787, -48.059413630297136], [-15.886529538213072, -48.05911270395517], [-15.887674057858767, -48.05874833204505], [-15.889347132529393, -48.05821118741743], [-15.889988089364634, -48.05799979783012], [-15.893486970802233, -48.056886129103326], [-15.893919502162882, -48.05674348564155], [-15.895385470753434, -48.056273745678936], [-15.897526927126535, -48.05558808141093], [-15.898152117936782, -48.055387865039535], [-15.898295823571193, -48.055342996526214], [-15.898825593378985, -48.055176281297044], [-15.89916407538805, -48.05506211539279], [-15.899421354856026, -48.054987714430354], [-15.899666964308842, -48.05491078501481], [-15.899883794610378, -48.054845516710095], [-15.900058556922657, -48.054811868891825], [-15.900207121803586, -48.05479126532075], [-15.90034115451642, -48.05478657028212], [-15.900427016666619, -48.05478517950034], [-15.900526541659612, -48.05480633930516], [-15.900584046678341, -48.0548327443121], [-15.900675621600483, -48.054887216309695], [-15.90072567037208, -48.05493501287611], [-15.900799857483657, -48.05504634270699], [-15.90085116745815, -48.05514287880608], [-15.900886089707754, -48.05524857539201], [-15.900983692806767, -48.05554338086826], [-15.901044811649662, -48.05575094637777], [-15.901100300380024, -48.055919786538865], [-15.901196345282205, -48.05623271312849], [-15.90132658011602, -48.056657037886914], [-15.901382299650816, -48.05685545020058], [-15.901449306774412, -48.057060417333645], [-15.901730812131184, -48.05798465186612], [-15.901849567582843, -48.05835249857592], [-15.902013584866863, -48.058910923574345], [-15.902382087573844, -48.0601200662281], [-15.902415214962538, -48.06023749708368], [-15.902425316815366, -48.060327699084645], [-15.902424191647253, -48.06038413072862], [-15.9024182439144, -48.060551370676855], [-15.902401413329903, -48.060629914500325], [-15.902400484491823, -48.06074900812026], [-15.902418825501456, -48.06085514055492], [-15.902444668130155, -48.060935151228065], [-15.902481349623095, -48.06100828347399], [-15.902598480494197, -48.06116361087737], [-15.902677505641483, -48.06125452062035], [-15.902737848198296, -48.06135589965637], [-15.902778978737842, -48.06143198293383], [-15.903343250267572, -48.06328432837101], [-15.90351202205417, -48.06385607829571], [-15.90376699680049, -48.064677107532624], [-15.90385921708289, -48.06498359840873], [-15.904012142798534, -48.065548894119495], [-15.904108648853034, -48.06598850869482], [-15.904146928182334, -48.066177924317174], [-15.904177253660269, -48.06642366822383], [-15.904197920575951, -48.066616848799384], [-15.904209953662264, -48.066822666595016], [-15.904216100261415, -48.06719102158631], [-15.904200608595533, -48.06754896796845], [-15.904169033867413, -48.06789457392071], [-15.904121165283009, -48.06819692374101], [-15.904014047234956, -48.06868720845282], [-15.90396419180016, -48.06885478977829], [-15.903931509509377, -48.06897351951516], [-15.903885252137785, -48.069146922964975], [-15.903780913860517, -48.06957878379649], [-15.903720694567753, -48.069880608675085], [-15.903664524752923, -48.070263471637745], [-15.903617227336362, -48.070662597201874], [-15.903597580187395, -48.07094655744661], [-15.903595965438097, -48.07124288764928], [-15.90359205533204, -48.071426285895825], [-15.903607411405499, -48.071855259008004], [-15.903635559883496, -48.07216212142005], [-15.903673536990976, -48.072463757185616], [-15.903717652122042, -48.072745326125016], [-15.903778240896083, -48.07305738582009], [-15.903892199614546, -48.0735033142357], [-15.90402269862899, -48.0739293343541], [-15.904029797204446, -48.074001682957174], [-15.904026765482072, -48.074077573536805], [-15.904002669918373, -48.07417128793051], [-15.903985496540592, -48.07428123571025], [-15.903990878664318, -48.07435994224101], [-15.904002141001788, -48.074436722188175], [-15.90402575654978, -48.07451369002883], [-15.90406308306614, -48.074586834394516], [-15.904109062572138, -48.07465038635398], [-15.904142756151954, -48.07470027126064], [-15.904210832008328, -48.07476044330663], [-15.904292082873162, -48.074854416132574], [-15.904334620177929, -48.07492696790818], [-15.904736808818862, -48.07620687654619], [-15.905003607162586, -48.077061698977715], [-15.905106812855697, -48.077394570038365], [-15.905259168147955, -48.07788342363853], [-15.905407277662137, -48.078350708877714], [-15.905878730308197, -48.079856470505675], [-15.906451075756973, -48.081673572463295], [-15.906583432722634, -48.082059308534326], [-15.906712598733828, -48.082408080946905], [-15.906901037915956, -48.082906517900426], [-15.907026867012659, -48.083202778250566], [-15.907236069438406, -48.08367167394882], [-15.907399335299505, -48.08403301956055], [-15.907621051974624, -48.08449068354293], [-15.907791823370335, -48.08482728042869], [-15.908000960409883, -48.08520948842557], [-15.908174074810953, -48.085518569636], [-15.908317423601776, -48.085771755644416], [-15.908380108465712, -48.085890315329316], [-15.908417821206875, -48.08598161315528], [-15.908446319523678, -48.08610334694258], [-15.908460342836612, -48.08621410745769], [-15.908455852483016, -48.086300728717966], [-15.908461239459129, -48.08637876464138], [-15.908487745449113, -48.08648064362347], [-15.908519283016838, -48.086548998763064], [-15.908565237801032, -48.08663235845218], [-15.9086062139488, -48.08667733730031], [-15.908655049698723, -48.086718404133954], [-15.908733293169396, -48.08679486497261], [-15.908817357540325, -48.0868962793505], [-15.908883494321472, -48.08700078001552], [-15.909097362111918, -48.087597437187085], [-15.909176567879452, -48.087833852989746], [-15.909253367427013, -48.088097019843985], [-15.909375464314204, -48.088613071127845], [-15.909442038801457, -48.088959505040826], [-15.909569840394475, -48.08966237175533], [-15.90962753618224, -48.08994751682458], [-15.909709104684643, -48.09024579540035], [-15.909853798379768, -48.090722452029], [-15.910036157315691, -48.09124807061634], [-15.910167198900867, -48.091588100045016], [-15.910270474938098, -48.09182354228205], [-15.910488252134014, -48.092282502851866], [-15.910636219890245, -48.09257575129966], [-15.911355902248971, -48.093814547915215], [-15.911749389068483, -48.094490914341485], [-15.91185230544691, -48.09466049595316], [-15.912015592666101, -48.094939533986974], [-15.912180561346213, -48.09522599043743], [-15.912271287896925, -48.09538396158657], [-15.912997230214815, -48.09663832912197], [-15.913242071053764, -48.09706848175603], [-15.913346765653047, -48.09729521509339], [-15.913371265154115, -48.097377913746236], [-15.913393603841708, -48.097497876651424], [-15.91339869111313, -48.097641767927485], [-15.913383089078433, -48.09777727763724], [-15.913346035566965, -48.09795748397321], [-15.913077292599953, -48.09896542947201], [-15.912989356634546, -48.09933772498168], [-15.91297438445362, -48.099474587812374], [-15.91297741039822, -48.09958081374013], [-15.91299727273284, -48.09969200214899], [-15.913038921683258, -48.099825701603336], [-15.913085459515637, -48.099935955340314], [-15.913135138546624, -48.1000086240686], [-15.913200334355757, -48.1000875791522], [-15.91333172359937, -48.100221311953476], [-15.914109789395352, -48.10101414646198], [-15.9145821815386, -48.101492489098796], [-15.914672265974176, -48.10155905887576], [-15.914773441623025, -48.10162311091494], [-15.914874945700086, -48.10166431913857], [-15.914966900339293, -48.101691268193555], [-15.915070081466888, -48.101706293169435], [-15.915194328331815, -48.101703496889485], [-15.915302533908497, -48.1016856696576], [-15.915424624561423, -48.101651926935645], [-15.915639005093732, -48.101576591464294], [-15.916055239353655, -48.101437824366755], [-15.916318632545643, -48.1013457683105], [-15.916492957650618, -48.10129737063539], [-15.916634427321881, -48.10127266160725], [-15.916812117199907, -48.101261613398016], [-15.916977973902947, -48.10125945596173], [-15.917049733721877, -48.10126627017041], [-15.917178867868323, -48.10128539001515], [-15.917326639080217, -48.10131991689633], [-15.91750658945434, -48.101377787242065], [-15.917797079712521, -48.101504223003275], [-15.918027401689889, -48.10163175121763], [-15.918150730606564, -48.10169278473572], [-15.918622426634213, -48.101948012255086], [-15.91943433621542, -48.10237647823662], [-15.92014361446316, -48.10275162365541], [-15.920501848323008, -48.10293790864343], [-15.9213884069442, -48.10339810930275], [-15.921901339937442, -48.10366537430706], [-15.92213558639321, -48.10380543200366], [-15.922290297692303, -48.10389988143588], [-15.922360313046443, -48.10396009835693], [-15.922463536549065, -48.10406249307805], [-15.922549650852307, -48.104133710465454], [-15.92264000458193, -48.104181471284306], [-15.922756451393848, -48.104223584891926], [-15.922988421928984, -48.10428158802498], [-15.923135179111334, -48.10434130524493], [-15.923226420910368, -48.10439512847829], [-15.92371095561786, -48.10468417069131], [-15.923984200623755, -48.10485638709613], [-15.924531554778207, -48.10523107733895], [-15.925117181300509, -48.10565743514235], [-15.926047144607287, -48.10642176523577], [-15.927658604446087, -48.10790831355259], [-15.927767657149976, -48.108012147093504], [-15.928187720135952, -48.10841984094181], [-15.928802868465032, -48.10900796829573], [-15.929566948651603, -48.10973012045205], [-15.930115417182733, -48.11025203709511], [-15.93111916431822, -48.111208179746434], [-15.931156035799358, -48.111255190164464], [-15.931181353168553, -48.11134832712281], [-15.931185424235077, -48.111426686822256], [-15.931203099739282, -48.111486102129206], [-15.931231235404253, -48.11154340794207], [-15.931275637554478, -48.111596601223134], [-15.931338216652689, -48.11163117013199], [-15.931414604028923, -48.111655198779374], [-15.931490739014265, -48.11165166838163], [-15.931578974386076, -48.11162076940955], [-15.931651266550755, -48.11156811804698], [-15.931703894088164, -48.111481223439576], [-15.931722791704098, -48.111410946637115], [-15.931714950096294, -48.11132088095083], [-15.931742863005496, -48.11124810910187], [-15.931803437691345, -48.111151255714425], [-15.932125349787652, -48.11074457058299], [-15.932404327793233, -48.11038393187138], [-15.932548522614821, -48.11017041662219], [-15.932611672843882, -48.11003025289008], [-15.932640792331359, -48.10990502238863], [-15.932640204255442, -48.109810585761224], [-15.932622256343045, -48.10972495466339], [-15.932610931063012, -48.109631024621166], [-15.932614457862305, -48.10958940987438], [-15.932635732538797, -48.109534627016785], [-15.9330129263594, -48.10902918064128], [-15.933102266916315, -48.10891754199306]],\n",
       "                {&quot;bubblingMouseEvents&quot;: true, &quot;color&quot;: &quot;blue&quot;, &quot;dashArray&quot;: null, &quot;dashOffset&quot;: null, &quot;fill&quot;: false, &quot;fillColor&quot;: &quot;blue&quot;, &quot;fillOpacity&quot;: 0.2, &quot;fillRule&quot;: &quot;evenodd&quot;, &quot;lineCap&quot;: &quot;round&quot;, &quot;lineJoin&quot;: &quot;round&quot;, &quot;noClip&quot;: false, &quot;opacity&quot;: 1.0, &quot;smoothFactor&quot;: 1.0, &quot;stroke&quot;: true, &quot;weight&quot;: 3}\n",
       "            ).addTo(map_63467bbdb6db3b4da000d1db2b854e46);\n",
       "        \n",
       "    \n",
       "            poly_line_e07b2e0a07107f15e70769bbf1715267.bindTooltip(\n",
       "                `&lt;div&gt;\n",
       "                     813.2 VOLTA\n",
       "                 &lt;/div&gt;`,\n",
       "                {&quot;sticky&quot;: true}\n",
       "            );\n",
       "        \n",
       "    \n",
       "            var poly_line_9fe092cef1a4724b28557b15be345dcf = L.polyline(\n",
       "                [[-15.933102266916315, -48.10891754199306], [-15.933185998136672, -48.108807991238685], [-15.93340999523403, -48.108525495088145], [-15.933419523786512, -48.10849607013923], [-15.933419959958936, -48.10846583300539], [-15.933400571090756, -48.10841243949764], [-15.933305764283789, -48.108312854282865], [-15.933273562383947, -48.10830244488579], [-15.933243403196407, -48.10829693958246], [-15.933220235717016, -48.10830263140659], [-15.93319534110125, -48.108315353512296], [-15.932700948146334, -48.10895831300553], [-15.93244584156172, -48.10928197251519], [-15.932424904573713, -48.10928472361605], [-15.93240834520544, -48.10928312425452], [-15.932380701672058, -48.10927228097145], [-15.932011948441897, -48.10873397427042], [-15.9319625077659, -48.1087127140331], [-15.93191012725656, -48.108714931329196], [-15.931868362720541, -48.10872504111831], [-15.931834666028479, -48.1087639420912], [-15.931817167792971, -48.108823842662865], [-15.93224759865376, -48.109460764766446], [-15.932321336402978, -48.10959571923842], [-15.932344136311603, -48.10968349132112], [-15.932367098872463, -48.10980940054195], [-15.932362568692431, -48.10994307490539], [-15.932332517852501, -48.11008778122817], [-15.932263448418889, -48.11023255807511], [-15.93209405341763, -48.11047996059222], [-15.931919835284383, -48.11070107721031], [-15.93164789365474, -48.11106270696772], [-15.931610964986419, -48.11109401754556], [-15.931574144423534, -48.111099498503286], [-15.931544642856275, -48.11110475627459], [-15.931483116669263, -48.11109859898729], [-15.931430758331183, -48.11109995995848], [-15.931371718561225, -48.11111233911027], [-15.931314214428127, -48.11108658559446], [-15.931269858707546, -48.11105095367196], [-15.930189570128569, -48.110025346991186], [-15.929577608801964, -48.10944196575682], [-15.928258037828765, -48.10818838831729], [-15.927937294253818, -48.10788303427563], [-15.927807778842629, -48.10776257301313], [-15.927210362084208, -48.10719977473577], [-15.926851237016852, -48.106850148913], [-15.926316459959788, -48.10637012890984], [-15.926169384872782, -48.10624063970011], [-15.925699120415898, -48.10584314095591], [-15.92525405323611, -48.10549937884536], [-15.924633154958842, -48.10503975958355], [-15.92395940611415, -48.1045912156602], [-15.923597558362033, -48.104362528563165], [-15.923343469062997, -48.104214801694184], [-15.92323780194924, -48.10414664355253], [-15.92319567549768, -48.10409155944784], [-15.923160069885034, -48.104035231519724], [-15.923109431305207, -48.103939021310445], [-15.92307430063913, -48.103872283901616], [-15.923025215874963, -48.10380365184531], [-15.92297204641075, -48.10374772603555], [-15.922885035416126, -48.10368950153665], [-15.922772894873813, -48.103638245467074], [-15.922690773798758, -48.10361754051622], [-15.922600893039867, -48.103606900456164], [-15.92250622087745, -48.10361794380703], [-15.922447029236828, -48.10362809402743], [-15.922376056345888, -48.10363439553978], [-15.92231755238569, -48.10363282412056], [-15.922270905887581, -48.10362068217038], [-15.922191459484145, -48.10358317013326], [-15.92137248006535, -48.10314920666675], [-15.920771956285819, -48.102831171896646], [-15.920291771589174, -48.1025784965517], [-15.919486956621927, -48.1021541685875], [-15.918420606179355, -48.10160217223159], [-15.918236877854712, -48.10149048016219], [-15.918079902974803, -48.10139832132596], [-15.91799305090816, -48.10132981466096], [-15.917593551639234, -48.10102831954673], [-15.91740140651629, -48.1008687847479], [-15.91727878235172, -48.100758704211934], [-15.91701458934576, -48.10049927468045], [-15.916837677258178, -48.10032048571828], [-15.916482445936925, -48.099970279520946], [-15.916257154646464, -48.099718841476964], [-15.915045130008883, -48.098351814272284], [-15.91492382183887, -48.098217899751674], [-15.913771142545345, -48.09690623443199], [-15.91356507143006, -48.096674586537624], [-15.913440937405515, -48.096533574419475], [-15.913153510848991, -48.096216005249346], [-15.912786501261927, -48.09577961327875], [-15.91266405238138, -48.09561174714032], [-15.912407609728605, -48.0952081322935], [-15.912248416497256, -48.09493839652076], [-15.912191764644609, -48.094830341133715], [-15.911110613711209, -48.092976728183935], [-15.910814175207351, -48.09245549567407], [-15.910693307221498, -48.09222247138474], [-15.910461515276173, -48.09174313535762], [-15.910358604981711, -48.09148216182523], [-15.910114186493892, -48.090840005900496], [-15.909943187174441, -48.09029305648313], [-15.909838269276639, -48.089899666087156], [-15.909791887555293, -48.08968727153048], [-15.909666721434165, -48.08902745337652], [-15.909513719017907, -48.08826775179026], [-15.909336502854437, -48.08765485254897], [-15.909229077194354, -48.08733195212261], [-15.909099896133123, -48.08696578101077], [-15.909061690897904, -48.08681802587543], [-15.909052723424214, -48.086740271046104], [-15.909044558177198, -48.08667462476086], [-15.909042377440816, -48.08655430058312], [-15.909039861945612, -48.08643464329935], [-15.90902495637741, -48.08636284592083], [-15.909004199316783, -48.086290959178015], [-15.90897494043888, -48.08624515122348], [-15.908943377151477, -48.086201324134606], [-15.90889037690258, -48.086133145100966], [-15.908831882262096, -48.086085378668244], [-15.908790451184673, -48.08604946512158], [-15.908716571186584, -48.08598617543482], [-15.908669509599575, -48.08593471959826], [-15.908599418609967, -48.085839848640816], [-15.908501642232125, -48.085668054338896], [-15.908236550191788, -48.085196956823765], [-15.90797723154266, -48.08473132467248], [-15.907845723516175, -48.08446857620211], [-15.907536207096305, -48.083829472480915], [-15.907435300872079, -48.08360952873843], [-15.907232456058349, -48.08315080974606], [-15.90701421968094, -48.08263137575118], [-15.906683336298812, -48.0817120584974], [-15.906020705609201, -48.079614022446755], [-15.905645113139041, -48.0784087639267], [-15.905348396547202, -48.0774634330555], [-15.905237256082886, -48.077094152300646], [-15.905134508559366, -48.076774728225374], [-15.904959080575606, -48.07621630737393], [-15.904541939009244, -48.07489047326336], [-15.904526594655598, -48.074780702654124], [-15.90453341345846, -48.074667237132864], [-15.904545825040119, -48.074594849119855], [-15.904556098743857, -48.074478298239825], [-15.904549680203438, -48.07435256717666], [-15.904493336950226, -48.07421766872224], [-15.904377795849204, -48.0740550376938], [-15.904321666952033, -48.0739644570999], [-15.904262913286704, -48.07388897084799], [-15.904212038178887, -48.07380822838969], [-15.904181863263391, -48.0737351928112], [-15.90409959498719, -48.073461443188286], [-15.90397484184181, -48.07295150958724], [-15.903938012469647, -48.072752035815654], [-15.903869726736456, -48.07229537750882], [-15.90383932202166, -48.07200998466827], [-15.903812386977108, -48.07129792032141], [-15.9038137722641, -48.07097201802061], [-15.903837291609412, -48.07064443583391], [-15.903871682156566, -48.070375483260285], [-15.903914772710964, -48.070043493937796], [-15.904076361894184, -48.069289938447994], [-15.904185538133577, -48.068883686566885], [-15.904264458428816, -48.06859289652715], [-15.90432118244532, -48.068353850056965], [-15.904349117023662, -48.06814334912996], [-15.90438481541693, -48.06790322497135], [-15.904422251343933, -48.06755703559553], [-15.904437176888571, -48.06710163862141], [-15.904413240946896, -48.066520657727416], [-15.904393425738755, -48.06635907439265], [-15.904363532090953, -48.066174489802705], [-15.904291836436126, -48.06575087517639], [-15.904234833898483, -48.065506070551564], [-15.904043652892842, -48.064864088907925], [-15.90393016587348, -48.064498138395294], [-15.903863008534866, -48.06428140485698], [-15.90369158973022, -48.06371297365228], [-15.903501388511089, -48.06309318580401], [-15.903137972652733, -48.06189351865088], [-15.903006979002466, -48.06145472854554], [-15.902977352131378, -48.06134272632503], [-15.90295861626136, -48.06124231320846], [-15.902956823098393, -48.06113946861878], [-15.902963922790908, -48.061051542886], [-15.9029653497429, -48.06097742708312], [-15.902959527739371, -48.06091609630002], [-15.902958303976524, -48.06081285399493], [-15.90293714884856, -48.060646587754874], [-15.902873252547522, -48.060520626615784], [-15.90281178078558, -48.06045116526356], [-15.902731236923557, -48.06035450640984], [-15.902670765260696, -48.0602621977629], [-15.902611400890423, -48.06013764950755], [-15.90256275358917, -48.05999108724741], [-15.902191668630667, -48.05878056047268], [-15.901978337136033, -48.058093901076305], [-15.901580452616999, -48.0568003175993], [-15.901527210126813, -48.056610678627706], [-15.901096413517344, -48.05518354500178], [-15.901021249687487, -48.05493443891046], [-15.901007664481964, -48.05483746474091], [-15.90100931286316, -48.054766928984435], [-15.901025696779223, -48.05471207200278], [-15.901065103254803, -48.05463874665951], [-15.901259515619385, -48.05450325042351], [-15.901646943869297, -48.054284988816136], [-15.901968862716334, -48.05416665716538], [-15.903753873258333, -48.053580625886774], [-15.903845305827423, -48.05351231884918], [-15.903853661213617, -48.05346428654541], [-15.903834044226562, -48.05341696485393], [-15.903806956559317, -48.053393892867284], [-15.903713720688295, -48.05339588397822], [-15.903075921926606, -48.05360277002381], [-15.902202683486538, -48.05387071552425], [-15.901760590038112, -48.054002185462785], [-15.90159043357681, -48.05403895084446], [-15.901418968971262, -48.0540646890984], [-15.901180196823391, -48.054078744949194], [-15.901058964691074, -48.054083716633066], [-15.90095462131117, -48.05408200021718], [-15.900883803620127, -48.05407723445367], [-15.900826616013994, -48.054074354599194], [-15.900738957283185, -48.05408781462244], [-15.900690361816515, -48.054098168670144], [-15.900553620459908, -48.05415785840904], [-15.90042370886675, -48.05423416336804], [-15.9003318636097, -48.054308998167976], [-15.900241143454913, -48.05438242863758], [-15.900116922653211, -48.05447247421549], [-15.899946289208012, -48.05456522771335], [-15.899797161129891, -48.054625639096244], [-15.89953465326277, -48.05472041718718], [-15.89928743061928, -48.05480089092099], [-15.898918072499873, -48.0549327584458], [-15.898192598145894, -48.055170290049375], [-15.8963052699766, -48.05577270983649], [-15.89587446863744, -48.05590649442891], [-15.89555638832355, -48.05601335008514], [-15.895286145530859, -48.056099362898365], [-15.894413754226834, -48.05637923369843], [-15.893893599186617, -48.056544717648244], [-15.893653596476344, -48.0566225378416], [-15.893574082467824, -48.05664360339013], [-15.892932209633347, -48.05684955652836], [-15.892795906477737, -48.056895270653065], [-15.892306922538298, -48.05705201202919], [-15.891892623775039, -48.05718566889187], [-15.891414072824247, -48.057339225962615], [-15.891371397870895, -48.05735080297222], [-15.889988579336153, -48.05778141567541], [-15.88952217202433, -48.05792824737962], [-15.889341679822587, -48.057985118083], [-15.885065356566033, -48.05935625124571], [-15.884761257034489, -48.05946142808269], [-15.884470336097634, -48.059463325246604], [-15.884220794809211, -48.05944696407176], [-15.883918850674576, -48.05936686476533], [-15.882842288174592, -48.058706972339166], [-15.88252151968923, -48.0584503424343], [-15.88232838886859, -48.05821452533945], [-15.882144651990497, -48.05785295921491], [-15.8817368664691, -48.056964774574254], [-15.881628067602207, -48.05672312155737], [-15.881576757350308, -48.05658056737415], [-15.881529932290388, -48.05652024409425], [-15.881402612201319, -48.05624868746037], [-15.881214003878082, -48.05582433254207], [-15.881113954775929, -48.05561330400923], [-15.881008991188438, -48.05544406551314], [-15.880926496647668, -48.05522690352272], [-15.880791304271694, -48.05498329816439], [-15.88062625685892, -48.05470449117605], [-15.880364609817049, -48.05432270034102], [-15.880048140929485, -48.053844577498204], [-15.879923180794577, -48.05366504617801], [-15.879046088195574, -48.0523424430834], [-15.878650402522963, -48.05174880274121], [-15.878135291393402, -48.05098922839562], [-15.877692687877547, -48.05032313692239], [-15.877212976064573, -48.049612414899926], [-15.877040359303248, -48.04934621641081], [-15.876540736920258, -48.04859281983377], [-15.875951865273091, -48.047710946352744], [-15.875518804359265, -48.04706535394392], [-15.875371748154237, -48.04684785618485], [-15.875171905277915, -48.04654716957884], [-15.874750695163897, -48.04584860685009], [-15.874626057225923, -48.04559388152776], [-15.874514992249356, -48.045319164802684], [-15.874367534351022, -48.04490818575441], [-15.87429843427, -48.04466004007497], [-15.87415142860578, -48.04393069458894], [-15.87411550978899, -48.043594097599744], [-15.874097758380026, -48.04285547418632], [-15.874103460131941, -48.04267343146026], [-15.874121951933827, -48.042469694662294], [-15.874380690163985, -48.040639802013786], [-15.874445379094837, -48.04025792723972], [-15.87455330828979, -48.039660039300145], [-15.874660949149913, -48.03882110159919], [-15.874716485387808, -48.03842971022172], [-15.874775610824582, -48.03764390555273], [-15.874824298003059, -48.03730296025416], [-15.874917778265539, -48.036666701680154], [-15.875120928860214, -48.035248111629905], [-15.876033467344161, -48.02908892918022], [-15.876190017435178, -48.027970941802266], [-15.876267946815041, -48.02732872607577], [-15.876394743813332, -48.026540421149875], [-15.876449307836728, -48.026173349682054], [-15.876637939564308, -48.02459747346229], [-15.876716856955571, -48.02407965417824], [-15.876765477681461, -48.023730941369244], [-15.87687301475813, -48.02304840537393], [-15.877125458583695, -48.02145430887989], [-15.87729450341988, -48.020201844704395], [-15.877423496728111, -48.01930597656981], [-15.877996974897238, -48.01527092308646], [-15.878082745563072, -48.01464010090243], [-15.878295941549917, -48.013093261561394], [-15.878341646370334, -48.01257533698099], [-15.878358882594533, -48.01214397495313], [-15.878371775146693, -48.011736572942716], [-15.878403115557363, -48.01144377024886], [-15.878418814209498, -48.01135287496423], [-15.878441701451406, -48.01127447978439], [-15.878482712752149, -48.01116030315313], [-15.87852565368953, -48.011007552989945], [-15.878550151601772, -48.01084616356813], [-15.878547077955549, -48.01072143702315], [-15.878526328432283, -48.01060183006594], [-15.878487091980103, -48.01045992344467], [-15.878351712235927, -48.01023080624136], [-15.87830343687026, -48.01012361348111], [-15.878262489683436, -48.009954830770944], [-15.878226318662731, -48.00976019563532], [-15.878205332608722, -48.009575088029216], [-15.877990625724573, -48.007153420251484], [-15.877808389573351, -48.005069267598046], [-15.87770039278351, -48.00382279461871], [-15.87753983176272, -48.00204460169339], [-15.877482258267685, -48.00140664139613], [-15.877458108752377, -48.00110122304696], [-15.877374578674535, -48.00020592340502], [-15.877333769509926, -47.99975066127385], [-15.87720620433102, -47.99834549305095], [-15.877151138298588, -47.99768967716327], [-15.87706465526759, -47.9966376971886], [-15.876944317795328, -47.99528308872848], [-15.876913219398254, -47.99490482236932], [-15.876865548896728, -47.994329194531396], [-15.8767857531951, -47.99340813795048], [-15.876717799080742, -47.99265680014261], [-15.876567927616586, -47.99095210858282], [-15.876536618559705, -47.990588505639856], [-15.876436151213756, -47.98943658799562], [-15.876395399683048, -47.98897546064504], [-15.876252855063889, -47.98741636883319], [-15.876105024263206, -47.98566360233386], [-15.876044052169444, -47.98506255252558], [-15.875981511676457, -47.9845952008315], [-15.875888502239485, -47.98411456762554], [-15.875756334657444, -47.98359952693364], [-15.87558882369873, -47.98311840798341], [-15.875427174979203, -47.98269422058284], [-15.875281938980763, -47.98237675365939], [-15.875173024944157, -47.98214283384817], [-15.874914272625492, -47.981636846435165], [-15.873701015427391, -47.97925858747034], [-15.872788985103993, -47.97747553931011], [-15.872274194558793, -47.9764706667093], [-15.871520908383456, -47.974992096433034], [-15.871289899378695, -47.97453170469304], [-15.871025181211778, -47.9740244738245], [-15.870704049644809, -47.97338823701192], [-15.870366763033813, -47.97272711907886], [-15.869922984376782, -47.97186234476715], [-15.869669735230458, -47.97136702121991], [-15.868991831557413, -47.9700400641581], [-15.868064044963322, -47.968250855315354], [-15.867350002327148, -47.96685547546277], [-15.866772649604973, -47.965726443541435], [-15.866675705532723, -47.96547817780399], [-15.866524530262657, -47.96517728088646], [-15.86630583955763, -47.964747036325555], [-15.8657889893357, -47.96373605847864], [-15.865726595540036, -47.963603070333775], [-15.865688526687142, -47.96350521405195], [-15.865682896685138, -47.963460253947034], [-15.865686825092302, -47.96342217993876], [-15.865692974058653, -47.96338780488221], [-15.865708755757607, -47.963354890603824], [-15.86571467368002, -47.963317259925205], [-15.86571060157729, -47.96328810744534], [-15.865695581749362, -47.96325086089133], [-15.865668482917625, -47.96322331158714], [-15.865646087112221, -47.96321382409026], [-15.86562379738905, -47.963205340514115], [-15.865596765518838, -47.96319520661824], [-15.865549936528394, -47.96317687052819], [-15.865504902516847, -47.963148346834096], [-15.865471131356244, -47.963105908526266], [-15.865449635754844, -47.963065833098035], [-15.86501100303619, -47.9622500257665], [-15.8645485197826, -47.96134819384244], [-15.864305458584386, -47.960863469534175], [-15.864191976207117, -47.9606916877751], [-15.863659766838785, -47.95966669183649], [-15.863347165968325, -47.95911538980065], [-15.86263484201931, -47.957717018072664], [-15.862541362305985, -47.95753555836133], [-15.862018938201622, -47.95649957415137], [-15.861792351804597, -47.95604456479491], [-15.861714255254531, -47.9558898330484], [-15.861639601288756, -47.95575791787066], [-15.861508122319428, -47.95558814791302], [-15.861388860564897, -47.95548783696201], [-15.861255051685562, -47.95539932662423], [-15.861133683390086, -47.955338339799184], [-15.861007623112183, -47.95529719809424], [-15.860870340489999, -47.955267038787106], [-15.860717241871614, -47.95525160798019], [-15.86059428688879, -47.95525333546531], [-15.860431412231534, -47.955288505388005], [-15.860309476011228, -47.955319579017285], [-15.86019588707613, -47.955363093431], [-15.859862276071617, -47.95551016623203], [-15.859568084609519, -47.955639627946184], [-15.859387522131852, -47.95572264275028], [-15.859242429354454, -47.955786229345556], [-15.85910751563516, -47.955848308485415], [-15.859005197074737, -47.955861085015485], [-15.858879247696422, -47.95586379523788], [-15.858783362605113, -47.95585829108419], [-15.858537645486951, -47.95582684461852], [-15.85797565727132, -47.95573300607931], [-15.857641067578328, -47.95568149288796], [-15.857355079730551, -47.95564682032143], [-15.85686391302386, -47.95558510622881], [-15.85666272409118, -47.95555694954464], [-15.8565029211458, -47.95553350241398], [-15.856322889223382, -47.95549450856437], [-15.855387755945754, -47.955350171347746], [-15.853835628095645, -47.95511034156464], [-15.852704444538057, -47.95492601584007], [-15.851875894074155, -47.954800404134026], [-15.851566026682589, -47.95474652454332], [-15.851022463209844, -47.9546596218904], [-15.85044671845227, -47.95456731470715], [-15.84969872105694, -47.95444781710221], [-15.848953145848297, -47.95432588786594], [-15.848555633003114, -47.95426840418129], [-15.84825089625804, -47.95422433695041], [-15.848103094965948, -47.954199970648446], [-15.847874209838714, -47.95416455084991], [-15.84753451576765, -47.954107771900496], [-15.847253245747638, -47.954059248530584], [-15.846916396497772, -47.954004210849924], [-15.846140777919642, -47.95387824290716], [-15.845811875444195, -47.95382594218278], [-15.84525890307618, -47.95373694526594], [-15.844234514943622, -47.95357421845613], [-15.843978985535768, -47.95353354541522], [-15.843745716395102, -47.95348439777984], [-15.843400442220004, -47.95336264463419], [-15.843246921610099, -47.95327903102097], [-15.843034274848119, -47.95314908206865], [-15.842865091693909, -47.95302226646373], [-15.842688544204307, -47.952852523925145], [-15.842515970302308, -47.952641192645], [-15.842404660150287, -47.95247591908134], [-15.842302057195157, -47.95229669453467], [-15.84221647774733, -47.95210151809416], [-15.842154276564283, -47.9519326287211], [-15.842115978187122, -47.95176191359159], [-15.842060833711335, -47.951456144578316], [-15.842047190841058, -47.95124888540736], [-15.842033202382916, -47.95082279517689], [-15.84205785581259, -47.95046596314386], [-15.842107183900826, -47.95005431777622], [-15.842197193489485, -47.94961569416691], [-15.842582773486516, -47.94832026898811], [-15.843161796547959, -47.946453384659264], [-15.843265132043962, -47.9461199473414], [-15.8441128650866, -47.943380062467384], [-15.844255621747218, -47.942992287428325], [-15.84437636515249, -47.94277729505579], [-15.844471407220377, -47.942594191979346], [-15.844530730504243, -47.94246981603336], [-15.84461840411897, -47.94228572594167], [-15.844699696849194, -47.94203514050212], [-15.84481476960801, -47.94156149835887], [-15.844863618491107, -47.941216821390206], [-15.84488069322589, -47.94109201274544], [-15.844874878961617, -47.94093560835845], [-15.84485180792783, -47.940771266036386], [-15.844849384582432, -47.94055952237838], [-15.844893003365726, -47.94020258929774], [-15.84491783482426, -47.939631832623846], [-15.844829722563407, -47.938806670830125], [-15.844801551715525, -47.93847761565236], [-15.844891202926979, -47.937017134123174], [-15.844935457969198, -47.93624494284372], [-15.845084621739284, -47.9338746542537], [-15.845096497034435, -47.933727147047485], [-15.845119439762144, -47.933290013290666], [-15.84521177212955, -47.93179671093553], [-15.845279209399896, -47.930673773026456], [-15.845298592937043, -47.92999653753642], [-15.845308147042802, -47.9295937909312], [-15.845319961009812, -47.92942694131827], [-15.845340159037896, -47.92911704671867], [-15.8454310431613, -47.92769662828917], [-15.845471284533113, -47.92707250963553], [-15.845499623258357, -47.92664870296099], [-15.84557384135152, -47.925386645245666], [-15.84559949753917, -47.92489544710351], [-15.84560943555933, -47.924580001238574], [-15.845604672136863, -47.9243055168673], [-15.845577969048286, -47.92389511568184], [-15.84551507627721, -47.92315731706206], [-15.845462949159959, -47.92268611527751], [-15.845425815747495, -47.922429237503934], [-15.845385146091084, -47.92224504692519], [-15.845338470706857, -47.92207594147073], [-15.845243390672847, -47.92172504065411], [-15.84509556729833, -47.921275925809816], [-15.844961332331692, -47.920882293783826], [-15.844800489350158, -47.92047214789532], [-15.8444296047318, -47.919583984817216], [-15.844090869815817, -47.91879586135621], [-15.84394755209765, -47.918538631653504], [-15.843874760088271, -47.91846250085179], [-15.843758507036105, -47.91828733418616], [-15.843488144600123, -47.91767706557604], [-15.843454402624031, -47.91759331076892], [-15.843424678108049, -47.9175338909558], [-15.84339724008941, -47.91750536944549], [-15.84335151005008, -47.91750299265296], [-15.843298920492021, -47.917531514163265], [-15.843273768959413, -47.91757429642872], [-15.843267786476686, -47.917680057270196], [-15.843276102654736, -47.91777931106009], [-15.843425979624252, -47.91811875681789], [-15.843532136108232, -47.91837369148634], [-15.843575854757175, -47.918500437733144], [-15.843614683866631, -47.91865292384138], [-15.843631030985657, -47.918798780810995], [-15.843620644499246, -47.918926948819646], [-15.843591306830646, -47.91903691513034], [-15.843502908599172, -47.91921532604293], [-15.843382401206496, -47.919372266241936], [-15.84279596393087, -47.919826065453876], [-15.842233071372872, -47.92026025687351], [-15.842042501672445, -47.920412374679586], [-15.841506832698354, -47.92083536423223], [-15.841231649920694, -47.92104360769878], [-15.840877730326362, -47.921308344155605], [-15.840725663897308, -47.921426405683036], [-15.840585401727992, -47.92153231865931], [-15.840428896304896, -47.92164269040266], [-15.840358725215943, -47.92170913759725], [-15.840013487033906, -47.921961678614196], [-15.83984235351396, -47.92210410118751], [-15.83968764179578, -47.92226215228747], [-15.838026427747412, -47.92351018940857], [-15.837873178821216, -47.92369227505954], [-15.83773078367495, -47.92385696510433], [-15.836893719417557, -47.925450877394866], [-15.836685037414675, -47.925923955484684], [-15.836620589923879, -47.92605685700149], [-15.836272818418243, -47.92660691072177], [-15.8361617443586, -47.92673255791658], [-15.835604146236467, -47.92713259166397], [-15.835249674527823, -47.927274475089575], [-15.834921439311387, -47.92736079144832], [-15.834795772765721, -47.92738750096364], [-15.834376223396688, -47.927473049322664], [-15.834177106521322, -47.92751296042694], [-15.83261090686554, -47.92781837274251], [-15.832510558324174, -47.92785751324495], [-15.832289906049333, -47.92799803226874], [-15.832074043695636, -47.92817701302372], [-15.831893957336174, -47.9282823221301], [-15.831749869208979, -47.92834544767287], [-15.831025593051558, -47.92888504781197], [-15.83090522392671, -47.92898947518668], [-15.83064343767326, -47.92912769945341], [-15.830533799763293, -47.92915138809104], [-15.83039865535495, -47.92913917376302], [-15.830228469972134, -47.92911776786315], [-15.830046915921127, -47.92908909108706], [-15.829930601909071, -47.92909767977093], [-15.829861197034143, -47.92911405180525], [-15.829796514817332, -47.92914865429376], [-15.829693484616234, -47.92922147109943], [-15.829505978668303, -47.92935694827336], [-15.829416798949087, -47.92938071619861], [-15.829327619190515, -47.92935932506588], [-15.829247586040342, -47.92930703563033], [-15.82910962733172, -47.92912684288629], [-15.828984505523065, -47.928963672859204], [-15.828799546398304, -47.92870218949461], [-15.828399565548409, -47.92814233405406], [-15.82793016760723, -47.92749208116592], [-15.827035183666656, -47.926242947594965], [-15.826437074494326, -47.925424648578705], [-15.825909018912327, -47.92469527721587], [-15.825754854529746, -47.92448269038966], [-15.82552220297593, -47.924161874008895], [-15.825351709901623, -47.923925222337004], [-15.82532773455404, -47.923892052627416], [-15.824774589487522, -47.923125029607704], [-15.824327753475602, -47.92250714705442], [-15.823811782256172, -47.921788934975005], [-15.823089933268289, -47.920789497946046], [-15.822429623196626, -47.91987733233758], [-15.82192156185187, -47.91919194787762], [-15.821569974486454, -47.918685892965485], [-15.821426511995716, -47.91848702314168], [-15.821199374337581, -47.91817216276642], [-15.82073321058145, -47.91752440773286], [-15.819886949669582, -47.91635785946676], [-15.81959894957395, -47.91596440266002], [-15.81921191764598, -47.91542823451052], [-15.818713460183817, -47.91473807295193], [-15.818272441687231, -47.91412956414887], [-15.817682627274538, -47.9133029782283], [-15.817274451564657, -47.91273936927345], [-15.816431144052435, -47.911572901554266], [-15.815627711308743, -47.91046130877426], [-15.81515392819825, -47.90980052205868], [-15.813839680819925, -47.907981977672534], [-15.813548815825328, -47.907578013887566], [-15.81275931861654, -47.906494414724804], [-15.812297266379511, -47.90584862096235], [-15.811768069742707, -47.90513153543486], [-15.81154966831263, -47.90484707413807], [-15.810954412154398, -47.904066735911506], [-15.810548132673958, -47.90353774045995], [-15.810272850248207, -47.90317948718226], [-15.809922899263091, -47.90275737350601], [-15.809122683791532, -47.90181085144147], [-15.808960356840739, -47.90162097667928], [-15.808445070633061, -47.901023803878964], [-15.808298097504732, -47.900847105653305], [-15.808112111239986, -47.90063961995413], [-15.807989536995803, -47.900514478572745], [-15.807852827061833, -47.90037432857836], [-15.807417337210962, -47.899929456539056], [-15.806510755007743, -47.8989768974803], [-15.805804362695461, -47.89828632281997], [-15.805127013583366, -47.89765724583357], [-15.804267415043613, -47.896853446986114], [-15.803830700821699, -47.896454845035954], [-15.803073833958662, -47.89578578091878], [-15.801957928305603, -47.894805606014735], [-15.80123063315011, -47.89420298894028], [-15.80032155595163, -47.89347995505211], [-15.799619246050192, -47.892929526675275], [-15.799058834763747, -47.89257854104147], [-15.797903526112114, -47.89186436438661], [-15.797847838156539, -47.891829641557045], [-15.797730995311737, -47.891759671069394], [-15.797518307396556, -47.89163494299706], [-15.797413917459343, -47.89157916959172], [-15.797223953256173, -47.891490100002784], [-15.796623234129038, -47.89120518037037], [-15.795552704585335, -47.89076306023171], [-15.795173608142166, -47.89061208186832], [-15.794388578315543, -47.89035169768659], [-15.79325095655402, -47.88996847884959], [-15.792789440912305, -47.88981633490102], [-15.792326933220743, -47.88966594735067], [-15.791877132041801, -47.88953124522475], [-15.791038144874914, -47.88924049383453], [-15.790105579841331, -47.888919685749], [-15.789339398466424, -47.888658238571274], [-15.788747035357897, -47.88846334158422], [-15.788541194484313, -47.88838966099105], [-15.78791223498716, -47.88820902478407], [-15.786992807037588, -47.88797134553158], [-15.786423308528942, -47.88783586835767], [-15.785938433035387, -47.88772178231646], [-15.785744025082453, -47.8876861304286], [-15.78489548936346, -47.887617203445366], [-15.783651268839986, -47.88750549419669], [-15.783310479165646, -47.887476972686386], [-15.782929172126956, -47.88748652150742], [-15.782345286508988, -47.88749598702657], [-15.781037008557742, -47.88752213174435], [-15.78078084125719, -47.88753163891444], [-15.7793627664169, -47.887645724955625], [-15.777544414004725, -47.88780021646972], [-15.77583125951903, -47.88798560628665], [-15.775071971321237, -47.88807008873547], [-15.77463501623083, -47.88811870666804], [-15.774054046581808, -47.888216155161544], [-15.772304265735247, -47.88851563101966], [-15.770979911765393, -47.88880559970768], [-15.77057505571754, -47.888891164238586], [-15.76920723100389, -47.88920727764437], [-15.768868704400385, -47.889302349345364], [-15.76734761505619, -47.889732548792345], [-15.765753318196932, -47.890212660882355], [-15.763831910791222, -47.89082587335374], [-15.762900412133515, -47.89112404732893], [-15.761931071995434, -47.89143433224008], [-15.760101126134085, -47.89201902320117], [-15.758248289144161, -47.89263461246509], [-15.75632681070329, -47.89323356418133], [-15.754471651767249, -47.89382776231253], [-15.75258216297812, -47.89443384440635], [-15.750828175749552, -47.895003629267876], [-15.750701806806466, -47.89504468008521], [-15.74884888406404, -47.8956388782164], [-15.747503854750496, -47.8960665723852], [-15.747032545863267, -47.89621643879992], [-15.745454223386577, -47.89672117019144], [-15.745211616205758, -47.89679875296849], [-15.744984585106643, -47.896872755236124], [-15.744638228805151, -47.89698565209193], [-15.744281092168114, -47.89710206255748], [-15.744001458574388, -47.897192582132284], [-15.743344917610388, -47.897407211854826], [-15.741505653696558, -47.8979895260234], [-15.74112291183042, -47.8981152049945], [-15.739652647103433, -47.89859798490974], [-15.738608445089566, -47.8989194513874], [-15.7382983402435, -47.899018677186625], [-15.738131338941693, -47.89904244511186], [-15.73794146058261, -47.89902343077166], [-15.737662361949752, -47.89890934473046], [-15.737259727169684, -47.898664535049114], [-15.736973390374809, -47.89844929383898], [-15.73687081784144, -47.89837218961985], [-15.736598580860834, -47.89819155338796], [-15.736060968934474, -47.89783978804308], [-15.735754981038658, -47.89762355204605], [-15.735463831576244, -47.89741979356617], [-15.735348737144442, -47.8974064366355], [-15.73527399404841, -47.897407211854805], [-15.735164183355424, -47.897440486950146], [-15.735077249848098, -47.89751179072589], [-15.735036070805343, -47.89755219619882], [-15.735015481280822, -47.897597355256785], [-15.734981165402026, -47.89766152865496], [-15.73497658995108, -47.897739962808274], [-15.734969726774453, -47.897830280924225], [-15.735006264992496, -47.8979450733036], [-15.735061235776886, -47.89802993149632], [-15.735203074649306, -47.898229582068396], [-15.735267351276347, -47.89827445800883], [-15.735325471987709, -47.898344757283574], [-15.735355952954151, -47.898401180084264], [-15.735355208168803, -47.898469638113305], [-15.734656875475979, -47.89960136728809], [-15.734581956919818, -47.89974597569913], [-15.734528168191414, -47.89988564998137], [-15.734501886356224, -47.90003356759464], [-15.734492302131985, -47.900233981853646], [-15.73449596872446, -47.90034249688195], [-15.734517297417815, -47.90044657216823], [-15.73474667339681, -47.901188688710164], [-15.734778701593406, -47.90130990515468], [-15.735416976632816, -47.903451395245355], [-15.735452367923054, -47.90356407507941], [-15.735487895957332, -47.903677190535205], [-15.735872298862342, -47.90496048103787], [-15.736473676848012, -47.90695149168832], [-15.736371411395453, -47.907029644391194], [-15.73629458239808, -47.907137543573484], [-15.736268152793436, -47.90725658815072], [-15.736292122908715, -47.90742176540436]],\n",
       "                {&quot;bubblingMouseEvents&quot;: true, &quot;color&quot;: &quot;red&quot;, &quot;dashArray&quot;: null, &quot;dashOffset&quot;: null, &quot;fill&quot;: false, &quot;fillColor&quot;: &quot;red&quot;, &quot;fillOpacity&quot;: 0.2, &quot;fillRule&quot;: &quot;evenodd&quot;, &quot;lineCap&quot;: &quot;round&quot;, &quot;lineJoin&quot;: &quot;round&quot;, &quot;noClip&quot;: false, &quot;opacity&quot;: 1.0, &quot;smoothFactor&quot;: 1.0, &quot;stroke&quot;: true, &quot;weight&quot;: 3}\n",
       "            ).addTo(map_63467bbdb6db3b4da000d1db2b854e46);\n",
       "        \n",
       "    \n",
       "            poly_line_9fe092cef1a4724b28557b15be345dcf.bindTooltip(\n",
       "                `&lt;div&gt;\n",
       "                     813.2 IDA\n",
       "                 &lt;/div&gt;`,\n",
       "                {&quot;sticky&quot;: true}\n",
       "            );\n",
       "        \n",
       "&lt;/script&gt;\n",
       "&lt;/html&gt;\" style=\"position:absolute;width:100%;height:100%;left:0;top:0;border:none !important;\" allowfullscreen webkitallowfullscreen mozallowfullscreen></iframe></div></div>"
      ],
      "text/plain": [
       "<folium.folium.Map at 0x7fab68882190>"
      ]
     },
     "execution_count": 14,
     "metadata": {},
     "output_type": "execute_result"
    }
   ],
   "source": [
    "import folium\n",
    "from shapely.geometry import LineString\n",
    "\n",
    "# Criar o objeto Linestring\n",
    "linestringRecanto = linestringRecanto.to_crs('EPSG:4326')\n",
    "\n",
    "# Criar um mapa inicial\n",
    "m = folium.Map(location=[-15.76050, -47.78134], zoom_start=10)\n",
    "\n",
    "# Obter o objeto LineString a partir da coluna \"geometry\" do DataFrame\n",
    "linestring1 = linestringRecanto.geometry.iloc[1] # Ida\n",
    "linestring2 = linestringRecanto.geometry.iloc[0] # Volta\n",
    "\n",
    "# Converter as coordenadas do Linestring para o formato que o Folium espera (latitude, longitude)\n",
    "lat_lon_coordsIda = [(lat1, lon1) for lon1, lat1 in linestring1.coords]\n",
    "lat_lon_coordsVolta = [(lat2, lon2) for lon2, lat2 in linestring2.coords]\n",
    "\n",
    "\n",
    "# Adicionar o Linestring ao mapa como uma polilinha (linha poligonal)\n",
    "\n",
    "# Plotando a ida\n",
    "folium.PolyLine(locations=lat_lon_coordsIda, color='blue', tooltip=linestringRecanto['linha'].iloc[1]+ ' ' + linestringRecanto['sentido'].iloc[1]).add_to(m)\n",
    "\n",
    "# Plotando a volta\n",
    "folium.PolyLine(locations=lat_lon_coordsVolta, color='red', tooltip=linestringRecanto['linha'].iloc[0]+ ' ' + linestringRecanto['sentido'].iloc[0]).add_to(m)\n",
    "\n",
    "# Mostrar o mapa\n",
    "m.save('mapaLinestring.html')\n",
    "m"
   ]
  },
  {
   "cell_type": "code",
   "execution_count": 15,
   "metadata": {},
   "outputs": [
    {
     "data": {
      "text/html": [
       "<div>\n",
       "<style scoped>\n",
       "    .dataframe tbody tr th:only-of-type {\n",
       "        vertical-align: middle;\n",
       "    }\n",
       "\n",
       "    .dataframe tbody tr th {\n",
       "        vertical-align: top;\n",
       "    }\n",
       "\n",
       "    .dataframe thead th {\n",
       "        text-align: right;\n",
       "    }\n",
       "</style>\n",
       "<table border=\"1\" class=\"dataframe\">\n",
       "  <thead>\n",
       "    <tr style=\"text-align: right;\">\n",
       "      <th></th>\n",
       "      <th>parada</th>\n",
       "      <th>descricao</th>\n",
       "      <th>situacao</th>\n",
       "      <th>estrutura_</th>\n",
       "      <th>tipo</th>\n",
       "      <th>geometry</th>\n",
       "    </tr>\n",
       "  </thead>\n",
       "  <tbody>\n",
       "    <tr>\n",
       "      <th>5452</th>\n",
       "      <td>1163</td>\n",
       "      <td>NUCLEO RURAL RODEADOR - LADO OPOSTO ESCOLA ROD...</td>\n",
       "      <td>ATIVA</td>\n",
       "      <td>ACOSTAMENTO OU BAIA</td>\n",
       "      <td>Tipo C</td>\n",
       "      <td>POINT (167354.394 8264495.757)</td>\n",
       "    </tr>\n",
       "    <tr>\n",
       "      <th>5453</th>\n",
       "      <td>1164</td>\n",
       "      <td>NUCLEO RURAL RODEADOR - EM FRENTE ESCOLA RODEA...</td>\n",
       "      <td>ATIVA</td>\n",
       "      <td>ACOSTAMENTO OU BAIA</td>\n",
       "      <td>Tipo C</td>\n",
       "      <td>POINT (167311.355 8264500.454)</td>\n",
       "    </tr>\n",
       "    <tr>\n",
       "      <th>5454</th>\n",
       "      <td>1166</td>\n",
       "      <td>ANTES DA ENTRADA PARA A DF 445 NORTE - KM 7 DF...</td>\n",
       "      <td>ATIVA</td>\n",
       "      <td>SEM ESTRUTURA</td>\n",
       "      <td>Tipo C</td>\n",
       "      <td>POINT (163265.979 8265332.396)</td>\n",
       "    </tr>\n",
       "    <tr>\n",
       "      <th>5455</th>\n",
       "      <td>1159</td>\n",
       "      <td>LADO OPOSTO A ENTRADA DA RADIOBRAS E DF 220 DF...</td>\n",
       "      <td>ATIVA</td>\n",
       "      <td>SEM ESTRUTURA</td>\n",
       "      <td>Habitual</td>\n",
       "      <td>POINT (162912.871 8269061.030)</td>\n",
       "    </tr>\n",
       "    <tr>\n",
       "      <th>5456</th>\n",
       "      <td>6374</td>\n",
       "      <td>Km 07 - Gleba 02 - Chácara 116 - Chácara Beatr...</td>\n",
       "      <td>ATIVA</td>\n",
       "      <td>SEM ESTRUTURA</td>\n",
       "      <td>Padrão</td>\n",
       "      <td>POINT (163217.911 8264159.565)</td>\n",
       "    </tr>\n",
       "  </tbody>\n",
       "</table>\n",
       "</div>"
      ],
      "text/plain": [
       "     parada                                          descricao situacao  \\\n",
       "5452   1163  NUCLEO RURAL RODEADOR - LADO OPOSTO ESCOLA ROD...    ATIVA   \n",
       "5453   1164  NUCLEO RURAL RODEADOR - EM FRENTE ESCOLA RODEA...    ATIVA   \n",
       "5454   1166  ANTES DA ENTRADA PARA A DF 445 NORTE - KM 7 DF...    ATIVA   \n",
       "5455   1159  LADO OPOSTO A ENTRADA DA RADIOBRAS E DF 220 DF...    ATIVA   \n",
       "5456   6374  Km 07 - Gleba 02 - Chácara 116 - Chácara Beatr...    ATIVA   \n",
       "\n",
       "               estrutura_      tipo                        geometry  \n",
       "5452  ACOSTAMENTO OU BAIA    Tipo C  POINT (167354.394 8264495.757)  \n",
       "5453  ACOSTAMENTO OU BAIA    Tipo C  POINT (167311.355 8264500.454)  \n",
       "5454        SEM ESTRUTURA    Tipo C  POINT (163265.979 8265332.396)  \n",
       "5455        SEM ESTRUTURA  Habitual  POINT (162912.871 8269061.030)  \n",
       "5456        SEM ESTRUTURA    Padrão  POINT (163217.911 8264159.565)  "
      ]
     },
     "execution_count": 15,
     "metadata": {},
     "output_type": "execute_result"
    }
   ],
   "source": [
    "# Visualizando os rótulos  do dataframe das paradas\n",
    "paradas = gpd.read_file(\"../databases/paradas/paradas.shp\")\n",
    "paradas.tail(5)"
   ]
  },
  {
   "cell_type": "code",
   "execution_count": 16,
   "metadata": {},
   "outputs": [
    {
     "data": {
      "text/html": [
       "<div>\n",
       "<style scoped>\n",
       "    .dataframe tbody tr th:only-of-type {\n",
       "        vertical-align: middle;\n",
       "    }\n",
       "\n",
       "    .dataframe tbody tr th {\n",
       "        vertical-align: top;\n",
       "    }\n",
       "\n",
       "    .dataframe thead th {\n",
       "        text-align: right;\n",
       "    }\n",
       "</style>\n",
       "<table border=\"1\" class=\"dataframe\">\n",
       "  <thead>\n",
       "    <tr style=\"text-align: right;\">\n",
       "      <th></th>\n",
       "      <th>parada</th>\n",
       "      <th>descricao</th>\n",
       "      <th>situacao</th>\n",
       "      <th>estrutura_</th>\n",
       "      <th>tipo</th>\n",
       "      <th>geometry</th>\n",
       "    </tr>\n",
       "  </thead>\n",
       "  <tbody>\n",
       "    <tr>\n",
       "      <th>0</th>\n",
       "      <td>6710</td>\n",
       "      <td>Avenida Morro da Cruz</td>\n",
       "      <td>DESATIVADA</td>\n",
       "      <td>SEM ESTRUTURA</td>\n",
       "      <td>Habitual</td>\n",
       "      <td>POINT (-47.76791 -15.91132)</td>\n",
       "    </tr>\n",
       "    <tr>\n",
       "      <th>1</th>\n",
       "      <td>6711</td>\n",
       "      <td>Avenida Morro da Cruz</td>\n",
       "      <td>DESATIVADA</td>\n",
       "      <td>SEM ESTRUTURA</td>\n",
       "      <td>Habitual</td>\n",
       "      <td>POINT (-47.76793 -15.91160)</td>\n",
       "    </tr>\n",
       "    <tr>\n",
       "      <th>2</th>\n",
       "      <td>6712</td>\n",
       "      <td>Avenida Morro da Cruz</td>\n",
       "      <td>DESATIVADA</td>\n",
       "      <td>SEM ESTRUTURA</td>\n",
       "      <td>Habitual</td>\n",
       "      <td>POINT (-47.76900 -15.91399)</td>\n",
       "    </tr>\n",
       "    <tr>\n",
       "      <th>3</th>\n",
       "      <td>6713</td>\n",
       "      <td>Avenida Morro da Cruz</td>\n",
       "      <td>DESATIVADA</td>\n",
       "      <td>SEM ESTRUTURA</td>\n",
       "      <td>Habitual</td>\n",
       "      <td>POINT (-47.76933 -15.91454)</td>\n",
       "    </tr>\n",
       "    <tr>\n",
       "      <th>4</th>\n",
       "      <td>6827</td>\n",
       "      <td>Residencial Vitoria</td>\n",
       "      <td>DESATIVADA</td>\n",
       "      <td>SEM ESTRUTURA</td>\n",
       "      <td>Habitual</td>\n",
       "      <td>POINT (-47.76832 -15.90857)</td>\n",
       "    </tr>\n",
       "    <tr>\n",
       "      <th>...</th>\n",
       "      <td>...</td>\n",
       "      <td>...</td>\n",
       "      <td>...</td>\n",
       "      <td>...</td>\n",
       "      <td>...</td>\n",
       "      <td>...</td>\n",
       "    </tr>\n",
       "    <tr>\n",
       "      <th>5452</th>\n",
       "      <td>1163</td>\n",
       "      <td>NUCLEO RURAL RODEADOR - LADO OPOSTO ESCOLA ROD...</td>\n",
       "      <td>ATIVA</td>\n",
       "      <td>ACOSTAMENTO OU BAIA</td>\n",
       "      <td>Tipo C</td>\n",
       "      <td>POINT (-48.10282 -15.67575)</td>\n",
       "    </tr>\n",
       "    <tr>\n",
       "      <th>5453</th>\n",
       "      <td>1164</td>\n",
       "      <td>NUCLEO RURAL RODEADOR - EM FRENTE ESCOLA RODEA...</td>\n",
       "      <td>ATIVA</td>\n",
       "      <td>ACOSTAMENTO OU BAIA</td>\n",
       "      <td>Tipo C</td>\n",
       "      <td>POINT (-48.10322 -15.67570)</td>\n",
       "    </tr>\n",
       "    <tr>\n",
       "      <th>5454</th>\n",
       "      <td>1166</td>\n",
       "      <td>ANTES DA ENTRADA PARA A DF 445 NORTE - KM 7 DF...</td>\n",
       "      <td>ATIVA</td>\n",
       "      <td>SEM ESTRUTURA</td>\n",
       "      <td>Tipo C</td>\n",
       "      <td>POINT (-48.14080 -15.66765)</td>\n",
       "    </tr>\n",
       "    <tr>\n",
       "      <th>5455</th>\n",
       "      <td>1159</td>\n",
       "      <td>LADO OPOSTO A ENTRADA DA RADIOBRAS E DF 220 DF...</td>\n",
       "      <td>ATIVA</td>\n",
       "      <td>SEM ESTRUTURA</td>\n",
       "      <td>Habitual</td>\n",
       "      <td>POINT (-48.14358 -15.63395)</td>\n",
       "    </tr>\n",
       "    <tr>\n",
       "      <th>5456</th>\n",
       "      <td>6374</td>\n",
       "      <td>Km 07 - Gleba 02 - Chácara 116 - Chácara Beatr...</td>\n",
       "      <td>ATIVA</td>\n",
       "      <td>SEM ESTRUTURA</td>\n",
       "      <td>Padrão</td>\n",
       "      <td>POINT (-48.14141 -15.67823)</td>\n",
       "    </tr>\n",
       "  </tbody>\n",
       "</table>\n",
       "<p>5457 rows × 6 columns</p>\n",
       "</div>"
      ],
      "text/plain": [
       "     parada                                          descricao    situacao  \\\n",
       "0      6710                              Avenida Morro da Cruz  DESATIVADA   \n",
       "1      6711                              Avenida Morro da Cruz  DESATIVADA   \n",
       "2      6712                              Avenida Morro da Cruz  DESATIVADA   \n",
       "3      6713                              Avenida Morro da Cruz  DESATIVADA   \n",
       "4      6827                                Residencial Vitoria  DESATIVADA   \n",
       "...     ...                                                ...         ...   \n",
       "5452   1163  NUCLEO RURAL RODEADOR - LADO OPOSTO ESCOLA ROD...       ATIVA   \n",
       "5453   1164  NUCLEO RURAL RODEADOR - EM FRENTE ESCOLA RODEA...       ATIVA   \n",
       "5454   1166  ANTES DA ENTRADA PARA A DF 445 NORTE - KM 7 DF...       ATIVA   \n",
       "5455   1159  LADO OPOSTO A ENTRADA DA RADIOBRAS E DF 220 DF...       ATIVA   \n",
       "5456   6374  Km 07 - Gleba 02 - Chácara 116 - Chácara Beatr...       ATIVA   \n",
       "\n",
       "               estrutura_      tipo                     geometry  \n",
       "0           SEM ESTRUTURA  Habitual  POINT (-47.76791 -15.91132)  \n",
       "1           SEM ESTRUTURA  Habitual  POINT (-47.76793 -15.91160)  \n",
       "2           SEM ESTRUTURA  Habitual  POINT (-47.76900 -15.91399)  \n",
       "3           SEM ESTRUTURA  Habitual  POINT (-47.76933 -15.91454)  \n",
       "4           SEM ESTRUTURA  Habitual  POINT (-47.76832 -15.90857)  \n",
       "...                   ...       ...                          ...  \n",
       "5452  ACOSTAMENTO OU BAIA    Tipo C  POINT (-48.10282 -15.67575)  \n",
       "5453  ACOSTAMENTO OU BAIA    Tipo C  POINT (-48.10322 -15.67570)  \n",
       "5454        SEM ESTRUTURA    Tipo C  POINT (-48.14080 -15.66765)  \n",
       "5455        SEM ESTRUTURA  Habitual  POINT (-48.14358 -15.63395)  \n",
       "5456        SEM ESTRUTURA    Padrão  POINT (-48.14141 -15.67823)  \n",
       "\n",
       "[5457 rows x 6 columns]"
      ]
     },
     "execution_count": 16,
     "metadata": {},
     "output_type": "execute_result"
    }
   ],
   "source": [
    "# convertendo para o sistema adequado\n",
    "paradas = paradas.to_crs('EPSG:4326')\n",
    "paradas"
   ]
  },
  {
   "cell_type": "code",
   "execution_count": 17,
   "metadata": {},
   "outputs": [
    {
     "data": {
      "text/html": [
       "<div>\n",
       "<style scoped>\n",
       "    .dataframe tbody tr th:only-of-type {\n",
       "        vertical-align: middle;\n",
       "    }\n",
       "\n",
       "    .dataframe tbody tr th {\n",
       "        vertical-align: top;\n",
       "    }\n",
       "\n",
       "    .dataframe thead th {\n",
       "        text-align: right;\n",
       "    }\n",
       "</style>\n",
       "<table border=\"1\" class=\"dataframe\">\n",
       "  <thead>\n",
       "    <tr style=\"text-align: right;\">\n",
       "      <th></th>\n",
       "      <th>parada</th>\n",
       "      <th>descricao</th>\n",
       "      <th>situacao</th>\n",
       "      <th>estrutura_</th>\n",
       "      <th>tipo</th>\n",
       "      <th>geometry</th>\n",
       "    </tr>\n",
       "  </thead>\n",
       "  <tbody>\n",
       "    <tr>\n",
       "      <th>69</th>\n",
       "      <td>3517</td>\n",
       "      <td>EQN 513/514 W3 NORTE</td>\n",
       "      <td>ATIVA</td>\n",
       "      <td>ACOSTAMENTO OU BAIA</td>\n",
       "      <td>Tradicional</td>\n",
       "      <td>POINT (-47.89601 -15.74749)</td>\n",
       "    </tr>\n",
       "    <tr>\n",
       "      <th>70</th>\n",
       "      <td>3473</td>\n",
       "      <td>SQN 113 EIXO W NORTE</td>\n",
       "      <td>ATIVA</td>\n",
       "      <td>ACOSTAMENTO OU BAIA</td>\n",
       "      <td>Tradicional</td>\n",
       "      <td>POINT (-47.88979 -15.74707)</td>\n",
       "    </tr>\n",
       "    <tr>\n",
       "      <th>119</th>\n",
       "      <td>2649</td>\n",
       "      <td>BL. 300 NB 1</td>\n",
       "      <td>ATIVA</td>\n",
       "      <td>SEM ESTRUTURA</td>\n",
       "      <td>Placa</td>\n",
       "      <td>POINT (-47.96304 -15.86636)</td>\n",
       "    </tr>\n",
       "    <tr>\n",
       "      <th>120</th>\n",
       "      <td>2672</td>\n",
       "      <td>EM FRENTE AO BL. 211 NB 1</td>\n",
       "      <td>ATIVA</td>\n",
       "      <td>ACOSTAMENTO OU BAIA</td>\n",
       "      <td>Cemusa</td>\n",
       "      <td>POINT (-47.96287 -15.86609)</td>\n",
       "    </tr>\n",
       "    <tr>\n",
       "      <th>121</th>\n",
       "      <td>6057</td>\n",
       "      <td>FRENTE A RODA DO CHOPP EPNB</td>\n",
       "      <td>ATIVA</td>\n",
       "      <td>ACOSTAMENTO OU BAIA</td>\n",
       "      <td>Tipo C</td>\n",
       "      <td>POINT (-47.96680 -15.86686)</td>\n",
       "    </tr>\n",
       "    <tr>\n",
       "      <th>...</th>\n",
       "      <td>...</td>\n",
       "      <td>...</td>\n",
       "      <td>...</td>\n",
       "      <td>...</td>\n",
       "      <td>...</td>\n",
       "      <td>...</td>\n",
       "    </tr>\n",
       "    <tr>\n",
       "      <th>5292</th>\n",
       "      <td>3291</td>\n",
       "      <td>EQS 106/107 - Cine Brasília Eixo W Sul</td>\n",
       "      <td>ATIVA</td>\n",
       "      <td>ACOSTAMENTO OU BAIA</td>\n",
       "      <td>Cemusa</td>\n",
       "      <td>POINT (-47.89929 -15.81486)</td>\n",
       "    </tr>\n",
       "    <tr>\n",
       "      <th>5293</th>\n",
       "      <td>3343</td>\n",
       "      <td>EQS 106/107 - Cine Brasília Eixo W Sul</td>\n",
       "      <td>ATIVA</td>\n",
       "      <td>ACOSTAMENTO OU BAIA</td>\n",
       "      <td>Cemusa</td>\n",
       "      <td>POINT (-47.89912 -15.81473)</td>\n",
       "    </tr>\n",
       "    <tr>\n",
       "      <th>5300</th>\n",
       "      <td>3383</td>\n",
       "      <td>EQS 106/107 - CINE BRASILIA EIXO W SUL</td>\n",
       "      <td>ATIVA</td>\n",
       "      <td>ACOSTAMENTO OU BAIA</td>\n",
       "      <td>Fibra de Vidro</td>\n",
       "      <td>POINT (-47.89896 -15.81460)</td>\n",
       "    </tr>\n",
       "    <tr>\n",
       "      <th>5353</th>\n",
       "      <td>4723</td>\n",
       "      <td>APOS O VIADUTO DE ACESSO AO LAGO NORTE BR-020</td>\n",
       "      <td>ATIVA</td>\n",
       "      <td>SEM ESTRUTURA</td>\n",
       "      <td>Tipo C</td>\n",
       "      <td>POINT (-47.89611 -15.72536)</td>\n",
       "    </tr>\n",
       "    <tr>\n",
       "      <th>5354</th>\n",
       "      <td>4583</td>\n",
       "      <td>APOS VIADUTO DF-007</td>\n",
       "      <td>ATIVA</td>\n",
       "      <td>ACOSTAMENTO OU BAIA</td>\n",
       "      <td>Tipo C</td>\n",
       "      <td>POINT (-47.89579 -15.72520)</td>\n",
       "    </tr>\n",
       "  </tbody>\n",
       "</table>\n",
       "<p>400 rows × 6 columns</p>\n",
       "</div>"
      ],
      "text/plain": [
       "     parada                                      descricao situacao  \\\n",
       "69     3517                           EQN 513/514 W3 NORTE    ATIVA   \n",
       "70     3473                           SQN 113 EIXO W NORTE    ATIVA   \n",
       "119    2649                                   BL. 300 NB 1    ATIVA   \n",
       "120    2672                      EM FRENTE AO BL. 211 NB 1    ATIVA   \n",
       "121    6057                    FRENTE A RODA DO CHOPP EPNB    ATIVA   \n",
       "...     ...                                            ...      ...   \n",
       "5292   3291         EQS 106/107 - Cine Brasília Eixo W Sul    ATIVA   \n",
       "5293   3343         EQS 106/107 - Cine Brasília Eixo W Sul    ATIVA   \n",
       "5300   3383         EQS 106/107 - CINE BRASILIA EIXO W SUL    ATIVA   \n",
       "5353   4723  APOS O VIADUTO DE ACESSO AO LAGO NORTE BR-020    ATIVA   \n",
       "5354   4583                            APOS VIADUTO DF-007    ATIVA   \n",
       "\n",
       "               estrutura_            tipo                     geometry  \n",
       "69    ACOSTAMENTO OU BAIA     Tradicional  POINT (-47.89601 -15.74749)  \n",
       "70    ACOSTAMENTO OU BAIA     Tradicional  POINT (-47.88979 -15.74707)  \n",
       "119         SEM ESTRUTURA           Placa  POINT (-47.96304 -15.86636)  \n",
       "120   ACOSTAMENTO OU BAIA          Cemusa  POINT (-47.96287 -15.86609)  \n",
       "121   ACOSTAMENTO OU BAIA          Tipo C  POINT (-47.96680 -15.86686)  \n",
       "...                   ...             ...                          ...  \n",
       "5292  ACOSTAMENTO OU BAIA          Cemusa  POINT (-47.89929 -15.81486)  \n",
       "5293  ACOSTAMENTO OU BAIA          Cemusa  POINT (-47.89912 -15.81473)  \n",
       "5300  ACOSTAMENTO OU BAIA  Fibra de Vidro  POINT (-47.89896 -15.81460)  \n",
       "5353        SEM ESTRUTURA          Tipo C  POINT (-47.89611 -15.72536)  \n",
       "5354  ACOSTAMENTO OU BAIA          Tipo C  POINT (-47.89579 -15.72520)  \n",
       "\n",
       "[400 rows x 6 columns]"
      ]
     },
     "metadata": {},
     "output_type": "display_data"
    }
   ],
   "source": [
    "import geopandas as gpd\n",
    "from shapely.geometry import LineString, Point\n",
    "import folium\n",
    "\n",
    "# Criar o objeto Linestring\n",
    "linestringRecanto = linestringRecanto.to_crs('EPSG:4326')\n",
    "\n",
    "# Obter o objeto LineString a partir da coluna \"geometry\" do DataFrame\n",
    "linestring = linestringRecanto.geometry.iloc[0]\n",
    "\n",
    "# Lista para armazenar as paradas encontradas\n",
    "paradas_encontradas = []\n",
    "\n",
    "# Conjunto para armazenar os números das paradas encontradas\n",
    "numeros_paradas_encontradas = set()\n",
    "\n",
    "# Função para aproximar as coordenadas para 2 casas decimais\n",
    "def aproximar_coordenadas(coord):\n",
    "    return round(coord, 2)\n",
    "\n",
    "# Iterar sobre os pontos de paradas e verificar se estão contidos na Linestring\n",
    "for idx, ponto_parada in paradas.iterrows():\n",
    "    numero_parada = ponto_parada[\"parada\"]\n",
    "    ponto = ponto_parada[\"geometry\"]\n",
    "    ponto_aproximado = Point(aproximar_coordenadas(ponto.x), aproximar_coordenadas(ponto.y))\n",
    "    linestring_aproximada = LineString([Point(aproximar_coordenadas(x), aproximar_coordenadas(y)) for x, y in linestring.coords])\n",
    "    if linestring_aproximada.contains(ponto_aproximado) and numero_parada not in numeros_paradas_encontradas:\n",
    "        paradas_encontradas.append(ponto_parada)\n",
    "        numeros_paradas_encontradas.add(numero_parada)\n",
    "\n",
    "# Criar um novo GeoDataFrame com as paradas encontradas\n",
    "gdf_paradas_encontradas = gpd.GeoDataFrame(paradas_encontradas, crs='EPSG:4326')\n",
    "display(gdf_paradas_encontradas)\n",
    "# Plotar as paradas de ônibus no mapa com o Folium\n",
    "m = folium.Map(location=[-15.76050, -47.78134], zoom_start=10)\n",
    "\n",
    "for idx, ponto_parada in gdf_paradas_encontradas.iterrows():\n",
    "    lat, lon = ponto_parada[\"geometry\"].y, ponto_parada[\"geometry\"].x\n",
    "    folium.Marker([lat, lon], popup=ponto_parada['descricao']).add_to(m)\n",
    "\n",
    "# Mostrar o mapa com as paradas de ônibus\n",
    "m.save('mapa_paradas_onibus.html')\n"
   ]
  },
  {
   "cell_type": "code",
   "execution_count": 31,
   "metadata": {},
   "outputs": [
    {
     "data": {
      "text/html": [
       "<div>\n",
       "<style scoped>\n",
       "    .dataframe tbody tr th:only-of-type {\n",
       "        vertical-align: middle;\n",
       "    }\n",
       "\n",
       "    .dataframe tbody tr th {\n",
       "        vertical-align: top;\n",
       "    }\n",
       "\n",
       "    .dataframe thead th {\n",
       "        text-align: right;\n",
       "    }\n",
       "</style>\n",
       "<table border=\"1\" class=\"dataframe\">\n",
       "  <thead>\n",
       "    <tr style=\"text-align: right;\">\n",
       "      <th></th>\n",
       "      <th>parada</th>\n",
       "      <th>descricao</th>\n",
       "      <th>situacao</th>\n",
       "      <th>estrutura_</th>\n",
       "      <th>tipo</th>\n",
       "      <th>geometry</th>\n",
       "    </tr>\n",
       "  </thead>\n",
       "  <tbody>\n",
       "    <tr>\n",
       "      <th>69</th>\n",
       "      <td>3517</td>\n",
       "      <td>EQN 513/514 W3 NORTE</td>\n",
       "      <td>ATIVA</td>\n",
       "      <td>ACOSTAMENTO OU BAIA</td>\n",
       "      <td>Tradicional</td>\n",
       "      <td>POINT (-47.89601 -15.74749)</td>\n",
       "    </tr>\n",
       "    <tr>\n",
       "      <th>122</th>\n",
       "      <td>6058</td>\n",
       "      <td>FRENTE AO BLOCO 440 EPNB</td>\n",
       "      <td>ATIVA</td>\n",
       "      <td>ACOSTAMENTO OU BAIA</td>\n",
       "      <td>Tipo C</td>\n",
       "      <td>POINT (-47.96505 -15.86656)</td>\n",
       "    </tr>\n",
       "    <tr>\n",
       "      <th>123</th>\n",
       "      <td>6059</td>\n",
       "      <td>FRENTE AO BLOCO 91 EPNB</td>\n",
       "      <td>ATIVA</td>\n",
       "      <td>ACOSTAMENTO OU BAIA</td>\n",
       "      <td>Tipo C</td>\n",
       "      <td>POINT (-47.96109 -15.86449)</td>\n",
       "    </tr>\n",
       "    <tr>\n",
       "      <th>226</th>\n",
       "      <td>4027</td>\n",
       "      <td>QN 01 CONJ. 16 CASA 13 APOS A PASSARELA DF 075</td>\n",
       "      <td>ATIVA</td>\n",
       "      <td>ACOSTAMENTO OU BAIA</td>\n",
       "      <td>Tipo C</td>\n",
       "      <td>POINT (-48.00549 -15.87796)</td>\n",
       "    </tr>\n",
       "    <tr>\n",
       "      <th>227</th>\n",
       "      <td>4028</td>\n",
       "      <td>QN 01 CONJ. 31 CASA 24 DF 075</td>\n",
       "      <td>ATIVA</td>\n",
       "      <td>ACOSTAMENTO OU BAIA</td>\n",
       "      <td>Tipo C</td>\n",
       "      <td>POINT (-48.00207 -15.87766)</td>\n",
       "    </tr>\n",
       "    <tr>\n",
       "      <th>...</th>\n",
       "      <td>...</td>\n",
       "      <td>...</td>\n",
       "      <td>...</td>\n",
       "      <td>...</td>\n",
       "      <td>...</td>\n",
       "      <td>...</td>\n",
       "    </tr>\n",
       "    <tr>\n",
       "      <th>5211</th>\n",
       "      <td>3572</td>\n",
       "      <td>ENTREQUADRA 509/508 - HOSPITAL DIA W3 SUL</td>\n",
       "      <td>ATIVA</td>\n",
       "      <td>ACOSTAMENTO OU BAIA</td>\n",
       "      <td>Tradicional</td>\n",
       "      <td>POINT (-47.90791 -15.81387)</td>\n",
       "    </tr>\n",
       "    <tr>\n",
       "      <th>5243</th>\n",
       "      <td>3470</td>\n",
       "      <td>LATERAL HOSPITAL SANTA HELENA LIGACAO</td>\n",
       "      <td>ATIVA</td>\n",
       "      <td>SEM ESTRUTURA</td>\n",
       "      <td>Tipo C</td>\n",
       "      <td>POINT (-47.89732 -15.73542)</td>\n",
       "    </tr>\n",
       "    <tr>\n",
       "      <th>5249</th>\n",
       "      <td>3520</td>\n",
       "      <td>EM FRENTE JUSTICA DO TRABALHO LIGACAO</td>\n",
       "      <td>ATIVA</td>\n",
       "      <td>SEM ESTRUTURA</td>\n",
       "      <td>Cemusa</td>\n",
       "      <td>POINT (-47.89838 -15.73702)</td>\n",
       "    </tr>\n",
       "    <tr>\n",
       "      <th>5255</th>\n",
       "      <td>3519</td>\n",
       "      <td>EQN 515/516 - BRB W3 NORTE</td>\n",
       "      <td>ATIVA</td>\n",
       "      <td>ACOSTAMENTO OU BAIA</td>\n",
       "      <td>Tradicional</td>\n",
       "      <td>POINT (-47.89805 -15.74110)</td>\n",
       "    </tr>\n",
       "    <tr>\n",
       "      <th>5271</th>\n",
       "      <td>3518</td>\n",
       "      <td>EQN 514/515 - HYUNDAI W3 NORTE</td>\n",
       "      <td>ATIVA</td>\n",
       "      <td>ACOSTAMENTO OU BAIA</td>\n",
       "      <td>Tradicional</td>\n",
       "      <td>POINT (-47.89692 -15.74462)</td>\n",
       "    </tr>\n",
       "  </tbody>\n",
       "</table>\n",
       "<p>99 rows × 6 columns</p>\n",
       "</div>"
      ],
      "text/plain": [
       "     parada                                       descricao situacao  \\\n",
       "69     3517                            EQN 513/514 W3 NORTE    ATIVA   \n",
       "122    6058                        FRENTE AO BLOCO 440 EPNB    ATIVA   \n",
       "123    6059                         FRENTE AO BLOCO 91 EPNB    ATIVA   \n",
       "226    4027  QN 01 CONJ. 16 CASA 13 APOS A PASSARELA DF 075    ATIVA   \n",
       "227    4028                   QN 01 CONJ. 31 CASA 24 DF 075    ATIVA   \n",
       "...     ...                                             ...      ...   \n",
       "5211   3572       ENTREQUADRA 509/508 - HOSPITAL DIA W3 SUL    ATIVA   \n",
       "5243   3470           LATERAL HOSPITAL SANTA HELENA LIGACAO    ATIVA   \n",
       "5249   3520           EM FRENTE JUSTICA DO TRABALHO LIGACAO    ATIVA   \n",
       "5255   3519                      EQN 515/516 - BRB W3 NORTE    ATIVA   \n",
       "5271   3518                  EQN 514/515 - HYUNDAI W3 NORTE    ATIVA   \n",
       "\n",
       "               estrutura_         tipo                     geometry  \n",
       "69    ACOSTAMENTO OU BAIA  Tradicional  POINT (-47.89601 -15.74749)  \n",
       "122   ACOSTAMENTO OU BAIA       Tipo C  POINT (-47.96505 -15.86656)  \n",
       "123   ACOSTAMENTO OU BAIA       Tipo C  POINT (-47.96109 -15.86449)  \n",
       "226   ACOSTAMENTO OU BAIA       Tipo C  POINT (-48.00549 -15.87796)  \n",
       "227   ACOSTAMENTO OU BAIA       Tipo C  POINT (-48.00207 -15.87766)  \n",
       "...                   ...          ...                          ...  \n",
       "5211  ACOSTAMENTO OU BAIA  Tradicional  POINT (-47.90791 -15.81387)  \n",
       "5243        SEM ESTRUTURA       Tipo C  POINT (-47.89732 -15.73542)  \n",
       "5249        SEM ESTRUTURA       Cemusa  POINT (-47.89838 -15.73702)  \n",
       "5255  ACOSTAMENTO OU BAIA  Tradicional  POINT (-47.89805 -15.74110)  \n",
       "5271  ACOSTAMENTO OU BAIA  Tradicional  POINT (-47.89692 -15.74462)  \n",
       "\n",
       "[99 rows x 6 columns]"
      ]
     },
     "metadata": {},
     "output_type": "display_data"
    },
    {
     "data": {
      "text/html": [
       "<div style=\"width:100%;\"><div style=\"position:relative;width:100%;height:0;padding-bottom:60%;\"><span style=\"color:#565656\">Make this Notebook Trusted to load map: File -> Trust Notebook</span><iframe srcdoc=\"&lt;!DOCTYPE html&gt;\n",
       "&lt;html&gt;\n",
       "&lt;head&gt;\n",
       "    \n",
       "    &lt;meta http-equiv=&quot;content-type&quot; content=&quot;text/html; charset=UTF-8&quot; /&gt;\n",
       "    \n",
       "        &lt;script&gt;\n",
       "            L_NO_TOUCH = false;\n",
       "            L_DISABLE_3D = false;\n",
       "        &lt;/script&gt;\n",
       "    \n",
       "    &lt;style&gt;html, body {width: 100%;height: 100%;margin: 0;padding: 0;}&lt;/style&gt;\n",
       "    &lt;style&gt;#map {position:absolute;top:0;bottom:0;right:0;left:0;}&lt;/style&gt;\n",
       "    &lt;script src=&quot;https://cdn.jsdelivr.net/npm/leaflet@1.9.3/dist/leaflet.js&quot;&gt;&lt;/script&gt;\n",
       "    &lt;script src=&quot;https://code.jquery.com/jquery-1.12.4.min.js&quot;&gt;&lt;/script&gt;\n",
       "    &lt;script src=&quot;https://cdn.jsdelivr.net/npm/bootstrap@5.2.2/dist/js/bootstrap.bundle.min.js&quot;&gt;&lt;/script&gt;\n",
       "    &lt;script src=&quot;https://cdnjs.cloudflare.com/ajax/libs/Leaflet.awesome-markers/2.0.2/leaflet.awesome-markers.js&quot;&gt;&lt;/script&gt;\n",
       "    &lt;link rel=&quot;stylesheet&quot; href=&quot;https://cdn.jsdelivr.net/npm/leaflet@1.9.3/dist/leaflet.css&quot;/&gt;\n",
       "    &lt;link rel=&quot;stylesheet&quot; href=&quot;https://cdn.jsdelivr.net/npm/bootstrap@5.2.2/dist/css/bootstrap.min.css&quot;/&gt;\n",
       "    &lt;link rel=&quot;stylesheet&quot; href=&quot;https://netdna.bootstrapcdn.com/bootstrap/3.0.0/css/bootstrap.min.css&quot;/&gt;\n",
       "    &lt;link rel=&quot;stylesheet&quot; href=&quot;https://cdn.jsdelivr.net/npm/@fortawesome/fontawesome-free@6.2.0/css/all.min.css&quot;/&gt;\n",
       "    &lt;link rel=&quot;stylesheet&quot; href=&quot;https://cdnjs.cloudflare.com/ajax/libs/Leaflet.awesome-markers/2.0.2/leaflet.awesome-markers.css&quot;/&gt;\n",
       "    &lt;link rel=&quot;stylesheet&quot; href=&quot;https://cdn.jsdelivr.net/gh/python-visualization/folium/folium/templates/leaflet.awesome.rotate.min.css&quot;/&gt;\n",
       "    \n",
       "            &lt;meta name=&quot;viewport&quot; content=&quot;width=device-width,\n",
       "                initial-scale=1.0, maximum-scale=1.0, user-scalable=no&quot; /&gt;\n",
       "            &lt;style&gt;\n",
       "                #map_376b41dd2b45b0aa90e868ecebfd6a88 {\n",
       "                    position: relative;\n",
       "                    width: 100.0%;\n",
       "                    height: 100.0%;\n",
       "                    left: 0.0%;\n",
       "                    top: 0.0%;\n",
       "                }\n",
       "                .leaflet-container { font-size: 1rem; }\n",
       "            &lt;/style&gt;\n",
       "        \n",
       "&lt;/head&gt;\n",
       "&lt;body&gt;\n",
       "    \n",
       "    \n",
       "            &lt;div class=&quot;folium-map&quot; id=&quot;map_376b41dd2b45b0aa90e868ecebfd6a88&quot; &gt;&lt;/div&gt;\n",
       "        \n",
       "&lt;/body&gt;\n",
       "&lt;script&gt;\n",
       "    \n",
       "    \n",
       "            var map_376b41dd2b45b0aa90e868ecebfd6a88 = L.map(\n",
       "                &quot;map_376b41dd2b45b0aa90e868ecebfd6a88&quot;,\n",
       "                {\n",
       "                    center: [-15.7605, -47.78134],\n",
       "                    crs: L.CRS.EPSG3857,\n",
       "                    zoom: 10,\n",
       "                    zoomControl: true,\n",
       "                    preferCanvas: false,\n",
       "                }\n",
       "            );\n",
       "\n",
       "            \n",
       "\n",
       "        \n",
       "    \n",
       "            var tile_layer_b436db38255464c619bc9bb45aafce7b = L.tileLayer(\n",
       "                &quot;https://{s}.tile.openstreetmap.org/{z}/{x}/{y}.png&quot;,\n",
       "                {&quot;attribution&quot;: &quot;Data by \\u0026copy; \\u003ca target=\\&quot;_blank\\&quot; href=\\&quot;http://openstreetmap.org\\&quot;\\u003eOpenStreetMap\\u003c/a\\u003e, under \\u003ca target=\\&quot;_blank\\&quot; href=\\&quot;http://www.openstreetmap.org/copyright\\&quot;\\u003eODbL\\u003c/a\\u003e.&quot;, &quot;detectRetina&quot;: false, &quot;maxNativeZoom&quot;: 18, &quot;maxZoom&quot;: 18, &quot;minZoom&quot;: 0, &quot;noWrap&quot;: false, &quot;opacity&quot;: 1, &quot;subdomains&quot;: &quot;abc&quot;, &quot;tms&quot;: false}\n",
       "            ).addTo(map_376b41dd2b45b0aa90e868ecebfd6a88);\n",
       "        \n",
       "    \n",
       "            var marker_5408a673a2821f30b6da3cb0f16d8ba9 = L.marker(\n",
       "                [-15.747487243955707, -47.89600866323914],\n",
       "                {}\n",
       "            ).addTo(map_376b41dd2b45b0aa90e868ecebfd6a88);\n",
       "        \n",
       "    \n",
       "        var popup_2f0f6e9ec26b5cf009af7eec487be33e = L.popup({&quot;maxWidth&quot;: &quot;100%&quot;});\n",
       "\n",
       "        \n",
       "            \n",
       "                var html_dff440498d1239b6959f755723c213e5 = $(`&lt;div id=&quot;html_dff440498d1239b6959f755723c213e5&quot; style=&quot;width: 100.0%; height: 100.0%;&quot;&gt;3517&lt;/div&gt;`)[0];\n",
       "                popup_2f0f6e9ec26b5cf009af7eec487be33e.setContent(html_dff440498d1239b6959f755723c213e5);\n",
       "            \n",
       "        \n",
       "\n",
       "        marker_5408a673a2821f30b6da3cb0f16d8ba9.bindPopup(popup_2f0f6e9ec26b5cf009af7eec487be33e)\n",
       "        ;\n",
       "\n",
       "        \n",
       "    \n",
       "    \n",
       "            var marker_7285024b0a7301e2fc1d5841e85f7698 = L.marker(\n",
       "                [-15.866555379423424, -47.96504713913905],\n",
       "                {}\n",
       "            ).addTo(map_376b41dd2b45b0aa90e868ecebfd6a88);\n",
       "        \n",
       "    \n",
       "        var popup_31104687fc16c589dea97f2963fceb13 = L.popup({&quot;maxWidth&quot;: &quot;100%&quot;});\n",
       "\n",
       "        \n",
       "            \n",
       "                var html_7fc94920410e235a808eaec4d361d9a2 = $(`&lt;div id=&quot;html_7fc94920410e235a808eaec4d361d9a2&quot; style=&quot;width: 100.0%; height: 100.0%;&quot;&gt;6058&lt;/div&gt;`)[0];\n",
       "                popup_31104687fc16c589dea97f2963fceb13.setContent(html_7fc94920410e235a808eaec4d361d9a2);\n",
       "            \n",
       "        \n",
       "\n",
       "        marker_7285024b0a7301e2fc1d5841e85f7698.bindPopup(popup_31104687fc16c589dea97f2963fceb13)\n",
       "        ;\n",
       "\n",
       "        \n",
       "    \n",
       "    \n",
       "            var marker_49998c9426144e3cb22e30c222194390 = L.marker(\n",
       "                [-15.864490388747809, -47.96108520646956],\n",
       "                {}\n",
       "            ).addTo(map_376b41dd2b45b0aa90e868ecebfd6a88);\n",
       "        \n",
       "    \n",
       "        var popup_b24aeca250c6443e87702deae1c0866a = L.popup({&quot;maxWidth&quot;: &quot;100%&quot;});\n",
       "\n",
       "        \n",
       "            \n",
       "                var html_881cd2df877afa34be46bfa8ee93690e = $(`&lt;div id=&quot;html_881cd2df877afa34be46bfa8ee93690e&quot; style=&quot;width: 100.0%; height: 100.0%;&quot;&gt;6059&lt;/div&gt;`)[0];\n",
       "                popup_b24aeca250c6443e87702deae1c0866a.setContent(html_881cd2df877afa34be46bfa8ee93690e);\n",
       "            \n",
       "        \n",
       "\n",
       "        marker_49998c9426144e3cb22e30c222194390.bindPopup(popup_b24aeca250c6443e87702deae1c0866a)\n",
       "        ;\n",
       "\n",
       "        \n",
       "    \n",
       "    \n",
       "            var marker_36e96a045ae29f6cf6004330269a5dee = L.marker(\n",
       "                [-15.877962420610736, -48.00549404760407],\n",
       "                {}\n",
       "            ).addTo(map_376b41dd2b45b0aa90e868ecebfd6a88);\n",
       "        \n",
       "    \n",
       "        var popup_2e541faa27783d070b98eeab48e59668 = L.popup({&quot;maxWidth&quot;: &quot;100%&quot;});\n",
       "\n",
       "        \n",
       "            \n",
       "                var html_b382538178520c72f7aaafa52e502c4c = $(`&lt;div id=&quot;html_b382538178520c72f7aaafa52e502c4c&quot; style=&quot;width: 100.0%; height: 100.0%;&quot;&gt;4027&lt;/div&gt;`)[0];\n",
       "                popup_2e541faa27783d070b98eeab48e59668.setContent(html_b382538178520c72f7aaafa52e502c4c);\n",
       "            \n",
       "        \n",
       "\n",
       "        marker_36e96a045ae29f6cf6004330269a5dee.bindPopup(popup_2e541faa27783d070b98eeab48e59668)\n",
       "        ;\n",
       "\n",
       "        \n",
       "    \n",
       "    \n",
       "            var marker_5b5c0283e071ff064845dca240d45af3 = L.marker(\n",
       "                [-15.877661139468985, -48.00206983803816],\n",
       "                {}\n",
       "            ).addTo(map_376b41dd2b45b0aa90e868ecebfd6a88);\n",
       "        \n",
       "    \n",
       "        var popup_2363705aabceb410c2cda69c9f028f7f = L.popup({&quot;maxWidth&quot;: &quot;100%&quot;});\n",
       "\n",
       "        \n",
       "            \n",
       "                var html_fb0f3cac992044eba6b002dac2ef5f6b = $(`&lt;div id=&quot;html_fb0f3cac992044eba6b002dac2ef5f6b&quot; style=&quot;width: 100.0%; height: 100.0%;&quot;&gt;4028&lt;/div&gt;`)[0];\n",
       "                popup_2363705aabceb410c2cda69c9f028f7f.setContent(html_fb0f3cac992044eba6b002dac2ef5f6b);\n",
       "            \n",
       "        \n",
       "\n",
       "        marker_5b5c0283e071ff064845dca240d45af3.bindPopup(popup_2363705aabceb410c2cda69c9f028f7f)\n",
       "        ;\n",
       "\n",
       "        \n",
       "    \n",
       "    \n",
       "            var marker_7da97ad5e96b494c5a43e3cd70990296 = L.marker(\n",
       "                [-15.877232176663743, -47.997782177170706],\n",
       "                {}\n",
       "            ).addTo(map_376b41dd2b45b0aa90e868ecebfd6a88);\n",
       "        \n",
       "    \n",
       "        var popup_bbe9eb253313a16ac6caf8ceba6e35ff = L.popup({&quot;maxWidth&quot;: &quot;100%&quot;});\n",
       "\n",
       "        \n",
       "            \n",
       "                var html_985e9c3f7c4148f5e35b5245ce5605df = $(`&lt;div id=&quot;html_985e9c3f7c4148f5e35b5245ce5605df&quot; style=&quot;width: 100.0%; height: 100.0%;&quot;&gt;6051&lt;/div&gt;`)[0];\n",
       "                popup_bbe9eb253313a16ac6caf8ceba6e35ff.setContent(html_985e9c3f7c4148f5e35b5245ce5605df);\n",
       "            \n",
       "        \n",
       "\n",
       "        marker_7da97ad5e96b494c5a43e3cd70990296.bindPopup(popup_bbe9eb253313a16ac6caf8ceba6e35ff)\n",
       "        ;\n",
       "\n",
       "        \n",
       "    \n",
       "    \n",
       "            var marker_ba121d471d862049afa72e49046f2ef8 = L.marker(\n",
       "                [-15.868950341304968, -47.96971542650532],\n",
       "                {}\n",
       "            ).addTo(map_376b41dd2b45b0aa90e868ecebfd6a88);\n",
       "        \n",
       "    \n",
       "        var popup_78743cb255c2b821cbdb48c9f595d29d = L.popup({&quot;maxWidth&quot;: &quot;100%&quot;});\n",
       "\n",
       "        \n",
       "            \n",
       "                var html_3b85e39b772ede5495598b55a03ff283 = $(`&lt;div id=&quot;html_3b85e39b772ede5495598b55a03ff283&quot; style=&quot;width: 100.0%; height: 100.0%;&quot;&gt;6055&lt;/div&gt;`)[0];\n",
       "                popup_78743cb255c2b821cbdb48c9f595d29d.setContent(html_3b85e39b772ede5495598b55a03ff283);\n",
       "            \n",
       "        \n",
       "\n",
       "        marker_ba121d471d862049afa72e49046f2ef8.bindPopup(popup_78743cb255c2b821cbdb48c9f595d29d)\n",
       "        ;\n",
       "\n",
       "        \n",
       "    \n",
       "    \n",
       "            var marker_5003c62b2bf0dc58a8aecd7f6bec611d = L.marker(\n",
       "                [-15.923732177932882, -48.10436178761736],\n",
       "                {}\n",
       "            ).addTo(map_376b41dd2b45b0aa90e868ecebfd6a88);\n",
       "        \n",
       "    \n",
       "        var popup_3ae163de97a69b38685da9034169f42a = L.popup({&quot;maxWidth&quot;: &quot;100%&quot;});\n",
       "\n",
       "        \n",
       "            \n",
       "                var html_50a0991552904ed1783eeff5236eeecd = $(`&lt;div id=&quot;html_50a0991552904ed1783eeff5236eeecd&quot; style=&quot;width: 100.0%; height: 100.0%;&quot;&gt;3893&lt;/div&gt;`)[0];\n",
       "                popup_3ae163de97a69b38685da9034169f42a.setContent(html_50a0991552904ed1783eeff5236eeecd);\n",
       "            \n",
       "        \n",
       "\n",
       "        marker_5003c62b2bf0dc58a8aecd7f6bec611d.bindPopup(popup_3ae163de97a69b38685da9034169f42a)\n",
       "        ;\n",
       "\n",
       "        \n",
       "    \n",
       "    \n",
       "            var marker_500ed57847f68c9dc1579c0f6b0ca851 = L.marker(\n",
       "                [-15.921286375823692, -48.10301513885338],\n",
       "                {}\n",
       "            ).addTo(map_376b41dd2b45b0aa90e868ecebfd6a88);\n",
       "        \n",
       "    \n",
       "        var popup_c75ae8ff290b0efc1642269101e62861 = L.popup({&quot;maxWidth&quot;: &quot;100%&quot;});\n",
       "\n",
       "        \n",
       "            \n",
       "                var html_a36a4f3998813a45dbb4fe14fabd7822 = $(`&lt;div id=&quot;html_a36a4f3998813a45dbb4fe14fabd7822&quot; style=&quot;width: 100.0%; height: 100.0%;&quot;&gt;3894&lt;/div&gt;`)[0];\n",
       "                popup_c75ae8ff290b0efc1642269101e62861.setContent(html_a36a4f3998813a45dbb4fe14fabd7822);\n",
       "            \n",
       "        \n",
       "\n",
       "        marker_500ed57847f68c9dc1579c0f6b0ca851.bindPopup(popup_c75ae8ff290b0efc1642269101e62861)\n",
       "        ;\n",
       "\n",
       "        \n",
       "    \n",
       "    \n",
       "            var marker_b10e095add5befdbc2114e10b009ed30 = L.marker(\n",
       "                [-15.91878145395848, -48.101702426843005],\n",
       "                {}\n",
       "            ).addTo(map_376b41dd2b45b0aa90e868ecebfd6a88);\n",
       "        \n",
       "    \n",
       "        var popup_5bd9a187e4046801099880543040d199 = L.popup({&quot;maxWidth&quot;: &quot;100%&quot;});\n",
       "\n",
       "        \n",
       "            \n",
       "                var html_abe08f86579b8ceab5c21ec7cab30705 = $(`&lt;div id=&quot;html_abe08f86579b8ceab5c21ec7cab30705&quot; style=&quot;width: 100.0%; height: 100.0%;&quot;&gt;3895&lt;/div&gt;`)[0];\n",
       "                popup_5bd9a187e4046801099880543040d199.setContent(html_abe08f86579b8ceab5c21ec7cab30705);\n",
       "            \n",
       "        \n",
       "\n",
       "        marker_b10e095add5befdbc2114e10b009ed30.bindPopup(popup_5bd9a187e4046801099880543040d199)\n",
       "        ;\n",
       "\n",
       "        \n",
       "    \n",
       "    \n",
       "            var marker_0a6ccef877f2a84a57b427899e9b2be8 = L.marker(\n",
       "                [-15.916169945218833, -48.099503742472415],\n",
       "                {}\n",
       "            ).addTo(map_376b41dd2b45b0aa90e868ecebfd6a88);\n",
       "        \n",
       "    \n",
       "        var popup_3c146113d41ba46556d7db43862dfceb = L.popup({&quot;maxWidth&quot;: &quot;100%&quot;});\n",
       "\n",
       "        \n",
       "            \n",
       "                var html_18a455d005572f15d46c40e5a9c9420e = $(`&lt;div id=&quot;html_18a455d005572f15d46c40e5a9c9420e&quot; style=&quot;width: 100.0%; height: 100.0%;&quot;&gt;3896&lt;/div&gt;`)[0];\n",
       "                popup_3c146113d41ba46556d7db43862dfceb.setContent(html_18a455d005572f15d46c40e5a9c9420e);\n",
       "            \n",
       "        \n",
       "\n",
       "        marker_0a6ccef877f2a84a57b427899e9b2be8.bindPopup(popup_3c146113d41ba46556d7db43862dfceb)\n",
       "        ;\n",
       "\n",
       "        \n",
       "    \n",
       "    \n",
       "            var marker_554250f86e49c5770005010c1a7eab5a = L.marker(\n",
       "                [-15.853222773929913, -47.954938640960606],\n",
       "                {}\n",
       "            ).addTo(map_376b41dd2b45b0aa90e868ecebfd6a88);\n",
       "        \n",
       "    \n",
       "        var popup_cf569d20c078b993985e4edc3323593e = L.popup({&quot;maxWidth&quot;: &quot;100%&quot;});\n",
       "\n",
       "        \n",
       "            \n",
       "                var html_a76f160a13ab202254cd65e944fe8150 = $(`&lt;div id=&quot;html_a76f160a13ab202254cd65e944fe8150&quot; style=&quot;width: 100.0%; height: 100.0%;&quot;&gt;1235&lt;/div&gt;`)[0];\n",
       "                popup_cf569d20c078b993985e4edc3323593e.setContent(html_a76f160a13ab202254cd65e944fe8150);\n",
       "            \n",
       "        \n",
       "\n",
       "        marker_554250f86e49c5770005010c1a7eab5a.bindPopup(popup_cf569d20c078b993985e4edc3323593e)\n",
       "        ;\n",
       "\n",
       "        \n",
       "    \n",
       "    \n",
       "            var marker_04756aea7ecb8b5bfbaa3c3790113540 = L.marker(\n",
       "                [-15.852580454517865, -47.95501218125944],\n",
       "                {}\n",
       "            ).addTo(map_376b41dd2b45b0aa90e868ecebfd6a88);\n",
       "        \n",
       "    \n",
       "        var popup_255edcd23593628d38065f6b28eac04d = L.popup({&quot;maxWidth&quot;: &quot;100%&quot;});\n",
       "\n",
       "        \n",
       "            \n",
       "                var html_392cfa0e2cf766bd2e8e5635777dc510 = $(`&lt;div id=&quot;html_392cfa0e2cf766bd2e8e5635777dc510&quot; style=&quot;width: 100.0%; height: 100.0%;&quot;&gt;1236&lt;/div&gt;`)[0];\n",
       "                popup_255edcd23593628d38065f6b28eac04d.setContent(html_392cfa0e2cf766bd2e8e5635777dc510);\n",
       "            \n",
       "        \n",
       "\n",
       "        marker_04756aea7ecb8b5bfbaa3c3790113540.bindPopup(popup_255edcd23593628d38065f6b28eac04d)\n",
       "        ;\n",
       "\n",
       "        \n",
       "    \n",
       "    \n",
       "            var marker_d4d634e393f706b3c0956ee043b153a7 = L.marker(\n",
       "                [-15.905765859448325, -48.07850522929963],\n",
       "                {}\n",
       "            ).addTo(map_376b41dd2b45b0aa90e868ecebfd6a88);\n",
       "        \n",
       "    \n",
       "        var popup_3581c8a8a0457f22833a03211a375c14 = L.popup({&quot;maxWidth&quot;: &quot;100%&quot;});\n",
       "\n",
       "        \n",
       "            \n",
       "                var html_3c9e6e368db7298ef3667d3934f58e6c = $(`&lt;div id=&quot;html_3c9e6e368db7298ef3667d3934f58e6c&quot; style=&quot;width: 100.0%; height: 100.0%;&quot;&gt;3903&lt;/div&gt;`)[0];\n",
       "                popup_3581c8a8a0457f22833a03211a375c14.setContent(html_3c9e6e368db7298ef3667d3934f58e6c);\n",
       "            \n",
       "        \n",
       "\n",
       "        marker_d4d634e393f706b3c0956ee043b153a7.bindPopup(popup_3581c8a8a0457f22833a03211a375c14)\n",
       "        ;\n",
       "\n",
       "        \n",
       "    \n",
       "    \n",
       "            var marker_c02b01855f6c95a3b2499010d63aba9c = L.marker(\n",
       "                [-15.903887039812487, -48.07138779205818],\n",
       "                {}\n",
       "            ).addTo(map_376b41dd2b45b0aa90e868ecebfd6a88);\n",
       "        \n",
       "    \n",
       "        var popup_a4d97a181f5b576f57ca99f01ea04924 = L.popup({&quot;maxWidth&quot;: &quot;100%&quot;});\n",
       "\n",
       "        \n",
       "            \n",
       "                var html_5a654928fe2b1fc9a81b1f97076f043e = $(`&lt;div id=&quot;html_5a654928fe2b1fc9a81b1f97076f043e&quot; style=&quot;width: 100.0%; height: 100.0%;&quot;&gt;3905&lt;/div&gt;`)[0];\n",
       "                popup_a4d97a181f5b576f57ca99f01ea04924.setContent(html_5a654928fe2b1fc9a81b1f97076f043e);\n",
       "            \n",
       "        \n",
       "\n",
       "        marker_c02b01855f6c95a3b2499010d63aba9c.bindPopup(popup_a4d97a181f5b576f57ca99f01ea04924)\n",
       "        ;\n",
       "\n",
       "        \n",
       "    \n",
       "    \n",
       "            var marker_30fe9a3a4549d8f49f31d7f71d3f6506 = L.marker(\n",
       "                [-15.90475134526757, -48.075263090432585],\n",
       "                {}\n",
       "            ).addTo(map_376b41dd2b45b0aa90e868ecebfd6a88);\n",
       "        \n",
       "    \n",
       "        var popup_77778117d28a6ac691791ff93ee7c1f7 = L.popup({&quot;maxWidth&quot;: &quot;100%&quot;});\n",
       "\n",
       "        \n",
       "            \n",
       "                var html_8f9c59ce601bbc5193d51cea5e6bb83d = $(`&lt;div id=&quot;html_8f9c59ce601bbc5193d51cea5e6bb83d&quot; style=&quot;width: 100.0%; height: 100.0%;&quot;&gt;3904&lt;/div&gt;`)[0];\n",
       "                popup_77778117d28a6ac691791ff93ee7c1f7.setContent(html_8f9c59ce601bbc5193d51cea5e6bb83d);\n",
       "            \n",
       "        \n",
       "\n",
       "        marker_30fe9a3a4549d8f49f31d7f71d3f6506.bindPopup(popup_77778117d28a6ac691791ff93ee7c1f7)\n",
       "        ;\n",
       "\n",
       "        \n",
       "    \n",
       "    \n",
       "            var marker_16b542db6c3a5f82ea453a9af0d407f6 = L.marker(\n",
       "                [-15.871570983237856, -47.97481788694283],\n",
       "                {}\n",
       "            ).addTo(map_376b41dd2b45b0aa90e868ecebfd6a88);\n",
       "        \n",
       "    \n",
       "        var popup_3235afdb58a3312660550eb4cc30f24c = L.popup({&quot;maxWidth&quot;: &quot;100%&quot;});\n",
       "\n",
       "        \n",
       "            \n",
       "                var html_ebfe19f31d30fd53c4eb59e74348567d = $(`&lt;div id=&quot;html_ebfe19f31d30fd53c4eb59e74348567d&quot; style=&quot;width: 100.0%; height: 100.0%;&quot;&gt;6054&lt;/div&gt;`)[0];\n",
       "                popup_3235afdb58a3312660550eb4cc30f24c.setContent(html_ebfe19f31d30fd53c4eb59e74348567d);\n",
       "            \n",
       "        \n",
       "\n",
       "        marker_16b542db6c3a5f82ea453a9af0d407f6.bindPopup(popup_3235afdb58a3312660550eb4cc30f24c)\n",
       "        ;\n",
       "\n",
       "        \n",
       "    \n",
       "    \n",
       "            var marker_c9ee4497cf0a592429c6f7d2c01bfe5b = L.marker(\n",
       "                [-15.9289187416444, -48.10868894292837],\n",
       "                {}\n",
       "            ).addTo(map_376b41dd2b45b0aa90e868ecebfd6a88);\n",
       "        \n",
       "    \n",
       "        var popup_67bdd06603bbf7bf7590ecdd7eae4139 = L.popup({&quot;maxWidth&quot;: &quot;100%&quot;});\n",
       "\n",
       "        \n",
       "            \n",
       "                var html_219a97b4940d6dd62553c33e00321617 = $(`&lt;div id=&quot;html_219a97b4940d6dd62553c33e00321617&quot; style=&quot;width: 100.0%; height: 100.0%;&quot;&gt;3891&lt;/div&gt;`)[0];\n",
       "                popup_67bdd06603bbf7bf7590ecdd7eae4139.setContent(html_219a97b4940d6dd62553c33e00321617);\n",
       "            \n",
       "        \n",
       "\n",
       "        marker_c9ee4497cf0a592429c6f7d2c01bfe5b.bindPopup(popup_67bdd06603bbf7bf7590ecdd7eae4139)\n",
       "        ;\n",
       "\n",
       "        \n",
       "    \n",
       "    \n",
       "            var marker_ce3f8ff9a1bad7a5ab1d281ef336f50c = L.marker(\n",
       "                [-15.926671447944107, -48.10656869744007],\n",
       "                {}\n",
       "            ).addTo(map_376b41dd2b45b0aa90e868ecebfd6a88);\n",
       "        \n",
       "    \n",
       "        var popup_9137dad8011a444cef4e38df9e5317cc = L.popup({&quot;maxWidth&quot;: &quot;100%&quot;});\n",
       "\n",
       "        \n",
       "            \n",
       "                var html_16130bdce1ce7a051bf577201217baa5 = $(`&lt;div id=&quot;html_16130bdce1ce7a051bf577201217baa5&quot; style=&quot;width: 100.0%; height: 100.0%;&quot;&gt;3892&lt;/div&gt;`)[0];\n",
       "                popup_9137dad8011a444cef4e38df9e5317cc.setContent(html_16130bdce1ce7a051bf577201217baa5);\n",
       "            \n",
       "        \n",
       "\n",
       "        marker_ce3f8ff9a1bad7a5ab1d281ef336f50c.bindPopup(popup_9137dad8011a444cef4e38df9e5317cc)\n",
       "        ;\n",
       "\n",
       "        \n",
       "    \n",
       "    \n",
       "            var marker_b61f1479e1b53c3d60e2de85ac057067 = L.marker(\n",
       "                [-15.898733, -48.054869],\n",
       "                {}\n",
       "            ).addTo(map_376b41dd2b45b0aa90e868ecebfd6a88);\n",
       "        \n",
       "    \n",
       "        var popup_4a56c77bbbd9855d6513cd43a37ebdf6 = L.popup({&quot;maxWidth&quot;: &quot;100%&quot;});\n",
       "\n",
       "        \n",
       "            \n",
       "                var html_c16640e35bf9f76d20b508532135db7d = $(`&lt;div id=&quot;html_c16640e35bf9f76d20b508532135db7d&quot; style=&quot;width: 100.0%; height: 100.0%;&quot;&gt;7918&lt;/div&gt;`)[0];\n",
       "                popup_4a56c77bbbd9855d6513cd43a37ebdf6.setContent(html_c16640e35bf9f76d20b508532135db7d);\n",
       "            \n",
       "        \n",
       "\n",
       "        marker_b61f1479e1b53c3d60e2de85ac057067.bindPopup(popup_4a56c77bbbd9855d6513cd43a37ebdf6)\n",
       "        ;\n",
       "\n",
       "        \n",
       "    \n",
       "    \n",
       "            var marker_2fe636194033c9c950923585c56a1d58 = L.marker(\n",
       "                [-15.898733, -48.054869],\n",
       "                {}\n",
       "            ).addTo(map_376b41dd2b45b0aa90e868ecebfd6a88);\n",
       "        \n",
       "    \n",
       "        var popup_19f1d4316358bd1d9d237ede6ed31e45 = L.popup({&quot;maxWidth&quot;: &quot;100%&quot;});\n",
       "\n",
       "        \n",
       "            \n",
       "                var html_de3bf490b9090eb994195a42000ce146 = $(`&lt;div id=&quot;html_de3bf490b9090eb994195a42000ce146&quot; style=&quot;width: 100.0%; height: 100.0%;&quot;&gt;7919&lt;/div&gt;`)[0];\n",
       "                popup_19f1d4316358bd1d9d237ede6ed31e45.setContent(html_de3bf490b9090eb994195a42000ce146);\n",
       "            \n",
       "        \n",
       "\n",
       "        marker_2fe636194033c9c950923585c56a1d58.bindPopup(popup_19f1d4316358bd1d9d237ede6ed31e45)\n",
       "        ;\n",
       "\n",
       "        \n",
       "    \n",
       "    \n",
       "            var marker_eb2ca85e8794bb2c109f6b905b491d66 = L.marker(\n",
       "                [-15.898733, -48.054869],\n",
       "                {}\n",
       "            ).addTo(map_376b41dd2b45b0aa90e868ecebfd6a88);\n",
       "        \n",
       "    \n",
       "        var popup_8c3ddd1246fd021b8eb430eae36b3ec3 = L.popup({&quot;maxWidth&quot;: &quot;100%&quot;});\n",
       "\n",
       "        \n",
       "            \n",
       "                var html_8ed80ee518223b356aa3a5a5bbb843fa = $(`&lt;div id=&quot;html_8ed80ee518223b356aa3a5a5bbb843fa&quot; style=&quot;width: 100.0%; height: 100.0%;&quot;&gt;7920&lt;/div&gt;`)[0];\n",
       "                popup_8c3ddd1246fd021b8eb430eae36b3ec3.setContent(html_8ed80ee518223b356aa3a5a5bbb843fa);\n",
       "            \n",
       "        \n",
       "\n",
       "        marker_eb2ca85e8794bb2c109f6b905b491d66.bindPopup(popup_8c3ddd1246fd021b8eb430eae36b3ec3)\n",
       "        ;\n",
       "\n",
       "        \n",
       "    \n",
       "    \n",
       "            var marker_496496a1d7ae497bce08a8f4c5352696 = L.marker(\n",
       "                [-15.898709949993485, -48.05487915994132],\n",
       "                {}\n",
       "            ).addTo(map_376b41dd2b45b0aa90e868ecebfd6a88);\n",
       "        \n",
       "    \n",
       "        var popup_44f8c2ad0d42204cb82765873df7b470 = L.popup({&quot;maxWidth&quot;: &quot;100%&quot;});\n",
       "\n",
       "        \n",
       "            \n",
       "                var html_a9768b4c870f740fbb1f95ab0b6e000b = $(`&lt;div id=&quot;html_a9768b4c870f740fbb1f95ab0b6e000b&quot; style=&quot;width: 100.0%; height: 100.0%;&quot;&gt;3822&lt;/div&gt;`)[0];\n",
       "                popup_44f8c2ad0d42204cb82765873df7b470.setContent(html_a9768b4c870f740fbb1f95ab0b6e000b);\n",
       "            \n",
       "        \n",
       "\n",
       "        marker_496496a1d7ae497bce08a8f4c5352696.bindPopup(popup_44f8c2ad0d42204cb82765873df7b470)\n",
       "        ;\n",
       "\n",
       "        \n",
       "    \n",
       "    \n",
       "            var marker_8bc9cff4f52b79b6a899bcc57da590d6 = L.marker(\n",
       "                [-15.87546998873825, -48.033746649855836],\n",
       "                {}\n",
       "            ).addTo(map_376b41dd2b45b0aa90e868ecebfd6a88);\n",
       "        \n",
       "    \n",
       "        var popup_b1f39dbc9e0d1703e92a3cf3f6a91e2c = L.popup({&quot;maxWidth&quot;: &quot;100%&quot;});\n",
       "\n",
       "        \n",
       "            \n",
       "                var html_90a9bee0505d4c6cdf7c3f8a53e3805a = $(`&lt;div id=&quot;html_90a9bee0505d4c6cdf7c3f8a53e3805a&quot; style=&quot;width: 100.0%; height: 100.0%;&quot;&gt;4021&lt;/div&gt;`)[0];\n",
       "                popup_b1f39dbc9e0d1703e92a3cf3f6a91e2c.setContent(html_90a9bee0505d4c6cdf7c3f8a53e3805a);\n",
       "            \n",
       "        \n",
       "\n",
       "        marker_8bc9cff4f52b79b6a899bcc57da590d6.bindPopup(popup_b1f39dbc9e0d1703e92a3cf3f6a91e2c)\n",
       "        ;\n",
       "\n",
       "        \n",
       "    \n",
       "    \n",
       "            var marker_a8caad2cafef8b2f1420c869c09cdd7b = L.marker(\n",
       "                [-15.876096193611582, -48.02930795061011],\n",
       "                {}\n",
       "            ).addTo(map_376b41dd2b45b0aa90e868ecebfd6a88);\n",
       "        \n",
       "    \n",
       "        var popup_e0ec41d826d258cf6e841d0fb5c6d272 = L.popup({&quot;maxWidth&quot;: &quot;100%&quot;});\n",
       "\n",
       "        \n",
       "            \n",
       "                var html_ff99e9553d4b3cf32d4e4222cf0a633f = $(`&lt;div id=&quot;html_ff99e9553d4b3cf32d4e4222cf0a633f&quot; style=&quot;width: 100.0%; height: 100.0%;&quot;&gt;4022&lt;/div&gt;`)[0];\n",
       "                popup_e0ec41d826d258cf6e841d0fb5c6d272.setContent(html_ff99e9553d4b3cf32d4e4222cf0a633f);\n",
       "            \n",
       "        \n",
       "\n",
       "        marker_a8caad2cafef8b2f1420c869c09cdd7b.bindPopup(popup_e0ec41d826d258cf6e841d0fb5c6d272)\n",
       "        ;\n",
       "\n",
       "        \n",
       "    \n",
       "    \n",
       "            var marker_06413a9ad4f2b132320c16dff7d75b0d = L.marker(\n",
       "                [-15.876390893268065, -47.98769511151485],\n",
       "                {}\n",
       "            ).addTo(map_376b41dd2b45b0aa90e868ecebfd6a88);\n",
       "        \n",
       "    \n",
       "        var popup_f4a3d6840e5a78995e2d4aba392696ae = L.popup({&quot;maxWidth&quot;: &quot;100%&quot;});\n",
       "\n",
       "        \n",
       "            \n",
       "                var html_781d190f6545a7ae30a91ae24537b39d = $(`&lt;div id=&quot;html_781d190f6545a7ae30a91ae24537b39d&quot; style=&quot;width: 100.0%; height: 100.0%;&quot;&gt;6063&lt;/div&gt;`)[0];\n",
       "                popup_f4a3d6840e5a78995e2d4aba392696ae.setContent(html_781d190f6545a7ae30a91ae24537b39d);\n",
       "            \n",
       "        \n",
       "\n",
       "        marker_06413a9ad4f2b132320c16dff7d75b0d.bindPopup(popup_f4a3d6840e5a78995e2d4aba392696ae)\n",
       "        ;\n",
       "\n",
       "        \n",
       "    \n",
       "    \n",
       "            var marker_1c26436f1f5ee34863c77016fd79fb95 = L.marker(\n",
       "                [-15.876755940977297, -47.99203008744984],\n",
       "                {}\n",
       "            ).addTo(map_376b41dd2b45b0aa90e868ecebfd6a88);\n",
       "        \n",
       "    \n",
       "        var popup_374c3c6c969aaac4f3729bb2de464356 = L.popup({&quot;maxWidth&quot;: &quot;100%&quot;});\n",
       "\n",
       "        \n",
       "            \n",
       "                var html_c58851ea3ba53cbca76c8d8490426f5b = $(`&lt;div id=&quot;html_c58851ea3ba53cbca76c8d8490426f5b&quot; style=&quot;width: 100.0%; height: 100.0%;&quot;&gt;6052&lt;/div&gt;`)[0];\n",
       "                popup_374c3c6c969aaac4f3729bb2de464356.setContent(html_c58851ea3ba53cbca76c8d8490426f5b);\n",
       "            \n",
       "        \n",
       "\n",
       "        marker_1c26436f1f5ee34863c77016fd79fb95.bindPopup(popup_374c3c6c969aaac4f3729bb2de464356)\n",
       "        ;\n",
       "\n",
       "        \n",
       "    \n",
       "    \n",
       "            var marker_1621565da24d3eb7d690844f88f9616c = L.marker(\n",
       "                [-15.876014476321995, -47.98426659742092],\n",
       "                {}\n",
       "            ).addTo(map_376b41dd2b45b0aa90e868ecebfd6a88);\n",
       "        \n",
       "    \n",
       "        var popup_7d10e923e22bd287ccff246c2b8afa46 = L.popup({&quot;maxWidth&quot;: &quot;100%&quot;});\n",
       "\n",
       "        \n",
       "            \n",
       "                var html_63701a8732f40c50ea2e75e60577de20 = $(`&lt;div id=&quot;html_63701a8732f40c50ea2e75e60577de20&quot; style=&quot;width: 100.0%; height: 100.0%;&quot;&gt;6053&lt;/div&gt;`)[0];\n",
       "                popup_7d10e923e22bd287ccff246c2b8afa46.setContent(html_63701a8732f40c50ea2e75e60577de20);\n",
       "            \n",
       "        \n",
       "\n",
       "        marker_1621565da24d3eb7d690844f88f9616c.bindPopup(popup_7d10e923e22bd287ccff246c2b8afa46)\n",
       "        ;\n",
       "\n",
       "        \n",
       "    \n",
       "    \n",
       "            var marker_23e940a434a7b42ef90233ff08d43090 = L.marker(\n",
       "                [-15.911888999999992, -48.094153],\n",
       "                {}\n",
       "            ).addTo(map_376b41dd2b45b0aa90e868ecebfd6a88);\n",
       "        \n",
       "    \n",
       "        var popup_aca5b5097a3698825c9013e3bf7dc555 = L.popup({&quot;maxWidth&quot;: &quot;100%&quot;});\n",
       "\n",
       "        \n",
       "            \n",
       "                var html_69e4318cb5216987a0aad03bdeb2bfb1 = $(`&lt;div id=&quot;html_69e4318cb5216987a0aad03bdeb2bfb1&quot; style=&quot;width: 100.0%; height: 100.0%;&quot;&gt;7865&lt;/div&gt;`)[0];\n",
       "                popup_aca5b5097a3698825c9013e3bf7dc555.setContent(html_69e4318cb5216987a0aad03bdeb2bfb1);\n",
       "            \n",
       "        \n",
       "\n",
       "        marker_23e940a434a7b42ef90233ff08d43090.bindPopup(popup_aca5b5097a3698825c9013e3bf7dc555)\n",
       "        ;\n",
       "\n",
       "        \n",
       "    \n",
       "    \n",
       "            var marker_1de30ee4609b381b2c092b941431b394 = L.marker(\n",
       "                [-15.911841259651768, -48.09406068191614],\n",
       "                {}\n",
       "            ).addTo(map_376b41dd2b45b0aa90e868ecebfd6a88);\n",
       "        \n",
       "    \n",
       "        var popup_4a8190ed26067a62e95487ed1580e581 = L.popup({&quot;maxWidth&quot;: &quot;100%&quot;});\n",
       "\n",
       "        \n",
       "            \n",
       "                var html_1da78b6f76146181480da7f966dc6285 = $(`&lt;div id=&quot;html_1da78b6f76146181480da7f966dc6285&quot; style=&quot;width: 100.0%; height: 100.0%;&quot;&gt;3898&lt;/div&gt;`)[0];\n",
       "                popup_4a8190ed26067a62e95487ed1580e581.setContent(html_1da78b6f76146181480da7f966dc6285);\n",
       "            \n",
       "        \n",
       "\n",
       "        marker_1de30ee4609b381b2c092b941431b394.bindPopup(popup_4a8190ed26067a62e95487ed1580e581)\n",
       "        ;\n",
       "\n",
       "        \n",
       "    \n",
       "    \n",
       "            var marker_5fbb7f648f571c7471132c19ecf58aef = L.marker(\n",
       "                [-15.914083, -48.097389],\n",
       "                {}\n",
       "            ).addTo(map_376b41dd2b45b0aa90e868ecebfd6a88);\n",
       "        \n",
       "    \n",
       "        var popup_a4973596970fc5696b7b693618dcb47b = L.popup({&quot;maxWidth&quot;: &quot;100%&quot;});\n",
       "\n",
       "        \n",
       "            \n",
       "                var html_9699ca2c20c08d0095ad37f38d8d726c = $(`&lt;div id=&quot;html_9699ca2c20c08d0095ad37f38d8d726c&quot; style=&quot;width: 100.0%; height: 100.0%;&quot;&gt;8015&lt;/div&gt;`)[0];\n",
       "                popup_a4973596970fc5696b7b693618dcb47b.setContent(html_9699ca2c20c08d0095ad37f38d8d726c);\n",
       "            \n",
       "        \n",
       "\n",
       "        marker_5fbb7f648f571c7471132c19ecf58aef.bindPopup(popup_a4973596970fc5696b7b693618dcb47b)\n",
       "        ;\n",
       "\n",
       "        \n",
       "    \n",
       "    \n",
       "            var marker_50a242b1d727425e5bd873fb1bbaf84b = L.marker(\n",
       "                [-15.914072908245076, -48.09714676060153],\n",
       "                {}\n",
       "            ).addTo(map_376b41dd2b45b0aa90e868ecebfd6a88);\n",
       "        \n",
       "    \n",
       "        var popup_4558f6184cea6587023aacd77cd8a334 = L.popup({&quot;maxWidth&quot;: &quot;100%&quot;});\n",
       "\n",
       "        \n",
       "            \n",
       "                var html_39cca78deb55cb50af5613058d93f639 = $(`&lt;div id=&quot;html_39cca78deb55cb50af5613058d93f639&quot; style=&quot;width: 100.0%; height: 100.0%;&quot;&gt;3897&lt;/div&gt;`)[0];\n",
       "                popup_4558f6184cea6587023aacd77cd8a334.setContent(html_39cca78deb55cb50af5613058d93f639);\n",
       "            \n",
       "        \n",
       "\n",
       "        marker_50a242b1d727425e5bd873fb1bbaf84b.bindPopup(popup_4558f6184cea6587023aacd77cd8a334)\n",
       "        ;\n",
       "\n",
       "        \n",
       "    \n",
       "    \n",
       "            var marker_7cddb678d3ee1ba092f62681c63b87d8 = L.marker(\n",
       "                [-15.876264185865082, -48.04798756342396],\n",
       "                {}\n",
       "            ).addTo(map_376b41dd2b45b0aa90e868ecebfd6a88);\n",
       "        \n",
       "    \n",
       "        var popup_c6b121ec496e00bda3b982af59d87469 = L.popup({&quot;maxWidth&quot;: &quot;100%&quot;});\n",
       "\n",
       "        \n",
       "            \n",
       "                var html_31dbda596e8e423b051520201fa74f0e = $(`&lt;div id=&quot;html_31dbda596e8e423b051520201fa74f0e&quot; style=&quot;width: 100.0%; height: 100.0%;&quot;&gt;4018&lt;/div&gt;`)[0];\n",
       "                popup_c6b121ec496e00bda3b982af59d87469.setContent(html_31dbda596e8e423b051520201fa74f0e);\n",
       "            \n",
       "        \n",
       "\n",
       "        marker_7cddb678d3ee1ba092f62681c63b87d8.bindPopup(popup_c6b121ec496e00bda3b982af59d87469)\n",
       "        ;\n",
       "\n",
       "        \n",
       "    \n",
       "    \n",
       "            var marker_f7486daf426a5d8d8ff5274b9836cf55 = L.marker(\n",
       "                [-15.874655767236849, -48.0394544647222],\n",
       "                {}\n",
       "            ).addTo(map_376b41dd2b45b0aa90e868ecebfd6a88);\n",
       "        \n",
       "    \n",
       "        var popup_80ebcc86e0b860e14834d5e9332d545e = L.popup({&quot;maxWidth&quot;: &quot;100%&quot;});\n",
       "\n",
       "        \n",
       "            \n",
       "                var html_d3f0a8f35e64246e4cda5a73feb9cf68 = $(`&lt;div id=&quot;html_d3f0a8f35e64246e4cda5a73feb9cf68&quot; style=&quot;width: 100.0%; height: 100.0%;&quot;&gt;5391&lt;/div&gt;`)[0];\n",
       "                popup_80ebcc86e0b860e14834d5e9332d545e.setContent(html_d3f0a8f35e64246e4cda5a73feb9cf68);\n",
       "            \n",
       "        \n",
       "\n",
       "        marker_f7486daf426a5d8d8ff5274b9836cf55.bindPopup(popup_80ebcc86e0b860e14834d5e9332d545e)\n",
       "        ;\n",
       "\n",
       "        \n",
       "    \n",
       "    \n",
       "            var marker_d51f613c1636f3f95fe6ea7244d0ede6 = L.marker(\n",
       "                [-15.874219321801254, -48.04365980236096],\n",
       "                {}\n",
       "            ).addTo(map_376b41dd2b45b0aa90e868ecebfd6a88);\n",
       "        \n",
       "    \n",
       "        var popup_de15e25186634a054f8a8ae1513c58fd = L.popup({&quot;maxWidth&quot;: &quot;100%&quot;});\n",
       "\n",
       "        \n",
       "            \n",
       "                var html_e0811c4ecbd5e276098eede35d6804e2 = $(`&lt;div id=&quot;html_e0811c4ecbd5e276098eede35d6804e2&quot; style=&quot;width: 100.0%; height: 100.0%;&quot;&gt;4019&lt;/div&gt;`)[0];\n",
       "                popup_de15e25186634a054f8a8ae1513c58fd.setContent(html_e0811c4ecbd5e276098eede35d6804e2);\n",
       "            \n",
       "        \n",
       "\n",
       "        marker_d51f613c1636f3f95fe6ea7244d0ede6.bindPopup(popup_de15e25186634a054f8a8ae1513c58fd)\n",
       "        ;\n",
       "\n",
       "        \n",
       "    \n",
       "    \n",
       "            var marker_c920a193243bac08f379356707b3be60 = L.marker(\n",
       "                [-15.90659112552102, -48.08117391153368],\n",
       "                {}\n",
       "            ).addTo(map_376b41dd2b45b0aa90e868ecebfd6a88);\n",
       "        \n",
       "    \n",
       "        var popup_506d3c8abea4a69a6149978fdb67f92e = L.popup({&quot;maxWidth&quot;: &quot;100%&quot;});\n",
       "\n",
       "        \n",
       "            \n",
       "                var html_cac891f133e449c43e5dc9ae6045b74d = $(`&lt;div id=&quot;html_cac891f133e449c43e5dc9ae6045b74d&quot; style=&quot;width: 100.0%; height: 100.0%;&quot;&gt;3902&lt;/div&gt;`)[0];\n",
       "                popup_506d3c8abea4a69a6149978fdb67f92e.setContent(html_cac891f133e449c43e5dc9ae6045b74d);\n",
       "            \n",
       "        \n",
       "\n",
       "        marker_c920a193243bac08f379356707b3be60.bindPopup(popup_506d3c8abea4a69a6149978fdb67f92e)\n",
       "        ;\n",
       "\n",
       "        \n",
       "    \n",
       "    \n",
       "            var marker_9ed958472d22d3a90d8a267a564c6257 = L.marker(\n",
       "                [-15.877039108227745, -48.022609565870326],\n",
       "                {}\n",
       "            ).addTo(map_376b41dd2b45b0aa90e868ecebfd6a88);\n",
       "        \n",
       "    \n",
       "        var popup_08dee49447900fafab19eba333104d83 = L.popup({&quot;maxWidth&quot;: &quot;100%&quot;});\n",
       "\n",
       "        \n",
       "            \n",
       "                var html_bee436dd4142a9020c80904ea6a7481e = $(`&lt;div id=&quot;html_bee436dd4142a9020c80904ea6a7481e&quot; style=&quot;width: 100.0%; height: 100.0%;&quot;&gt;4023&lt;/div&gt;`)[0];\n",
       "                popup_08dee49447900fafab19eba333104d83.setContent(html_bee436dd4142a9020c80904ea6a7481e);\n",
       "            \n",
       "        \n",
       "\n",
       "        marker_9ed958472d22d3a90d8a267a564c6257.bindPopup(popup_08dee49447900fafab19eba333104d83)\n",
       "        ;\n",
       "\n",
       "        \n",
       "    \n",
       "    \n",
       "            var marker_e73ad0ef98c67552791714b875d5baf3 = L.marker(\n",
       "                [-15.877544140261374, -48.01911238393973],\n",
       "                {}\n",
       "            ).addTo(map_376b41dd2b45b0aa90e868ecebfd6a88);\n",
       "        \n",
       "    \n",
       "        var popup_cbb76aa2e797e2f4eb62cbc3a2a83113 = L.popup({&quot;maxWidth&quot;: &quot;100%&quot;});\n",
       "\n",
       "        \n",
       "            \n",
       "                var html_7fe298506f2da4d9718a76c79e9f512a = $(`&lt;div id=&quot;html_7fe298506f2da4d9718a76c79e9f512a&quot; style=&quot;width: 100.0%; height: 100.0%;&quot;&gt;4024&lt;/div&gt;`)[0];\n",
       "                popup_cbb76aa2e797e2f4eb62cbc3a2a83113.setContent(html_7fe298506f2da4d9718a76c79e9f512a);\n",
       "            \n",
       "        \n",
       "\n",
       "        marker_e73ad0ef98c67552791714b875d5baf3.bindPopup(popup_cbb76aa2e797e2f4eb62cbc3a2a83113)\n",
       "        ;\n",
       "\n",
       "        \n",
       "    \n",
       "    \n",
       "            var marker_b394b99fc4594bcab4b80b0d95f3cb81 = L.marker(\n",
       "                [-15.736227202321027, -47.906332156391095],\n",
       "                {}\n",
       "            ).addTo(map_376b41dd2b45b0aa90e868ecebfd6a88);\n",
       "        \n",
       "    \n",
       "        var popup_858c6721cac65bd0a82839bb8991df77 = L.popup({&quot;maxWidth&quot;: &quot;100%&quot;});\n",
       "\n",
       "        \n",
       "            \n",
       "                var html_b6502ef42eb3dbdf5ecf3c82b47c9a6e = $(`&lt;div id=&quot;html_b6502ef42eb3dbdf5ecf3c82b47c9a6e&quot; style=&quot;width: 100.0%; height: 100.0%;&quot;&gt;6289&lt;/div&gt;`)[0];\n",
       "                popup_858c6721cac65bd0a82839bb8991df77.setContent(html_b6502ef42eb3dbdf5ecf3c82b47c9a6e);\n",
       "            \n",
       "        \n",
       "\n",
       "        marker_b394b99fc4594bcab4b80b0d95f3cb81.bindPopup(popup_858c6721cac65bd0a82839bb8991df77)\n",
       "        ;\n",
       "\n",
       "        \n",
       "    \n",
       "    \n",
       "            var marker_8d8c740986363a3a2523339d0082b3eb = L.marker(\n",
       "                [-15.878236735744501, -48.014479196442934],\n",
       "                {}\n",
       "            ).addTo(map_376b41dd2b45b0aa90e868ecebfd6a88);\n",
       "        \n",
       "    \n",
       "        var popup_2ffdce98779e8ea637f3a8d1e6ed1813 = L.popup({&quot;maxWidth&quot;: &quot;100%&quot;});\n",
       "\n",
       "        \n",
       "            \n",
       "                var html_fb7ca42e3c5d2efac393d08b812b504b = $(`&lt;div id=&quot;html_fb7ca42e3c5d2efac393d08b812b504b&quot; style=&quot;width: 100.0%; height: 100.0%;&quot;&gt;4025&lt;/div&gt;`)[0];\n",
       "                popup_2ffdce98779e8ea637f3a8d1e6ed1813.setContent(html_fb7ca42e3c5d2efac393d08b812b504b);\n",
       "            \n",
       "        \n",
       "\n",
       "        marker_8d8c740986363a3a2523339d0082b3eb.bindPopup(popup_2ffdce98779e8ea637f3a8d1e6ed1813)\n",
       "        ;\n",
       "\n",
       "        \n",
       "    \n",
       "    \n",
       "            var marker_8167cc1e18ed4f9c6cc964c878902b0d = L.marker(\n",
       "                [-15.87819398719129, -48.00830349622176],\n",
       "                {}\n",
       "            ).addTo(map_376b41dd2b45b0aa90e868ecebfd6a88);\n",
       "        \n",
       "    \n",
       "        var popup_9dfd2ebcaaf446553818d173f8617b9e = L.popup({&quot;maxWidth&quot;: &quot;100%&quot;});\n",
       "\n",
       "        \n",
       "            \n",
       "                var html_a07f76f9765c2ea5e6ea1bcf4a1aad12 = $(`&lt;div id=&quot;html_a07f76f9765c2ea5e6ea1bcf4a1aad12&quot; style=&quot;width: 100.0%; height: 100.0%;&quot;&gt;4026&lt;/div&gt;`)[0];\n",
       "                popup_9dfd2ebcaaf446553818d173f8617b9e.setContent(html_a07f76f9765c2ea5e6ea1bcf4a1aad12);\n",
       "            \n",
       "        \n",
       "\n",
       "        marker_8167cc1e18ed4f9c6cc964c878902b0d.bindPopup(popup_9dfd2ebcaaf446553818d173f8617b9e)\n",
       "        ;\n",
       "\n",
       "        \n",
       "    \n",
       "    \n",
       "            var marker_2829c3cfd4d9807950b4dc6da507ad88 = L.marker(\n",
       "                [-15.9044180218172, -48.068197398424736],\n",
       "                {}\n",
       "            ).addTo(map_376b41dd2b45b0aa90e868ecebfd6a88);\n",
       "        \n",
       "    \n",
       "        var popup_a6f3d5218736ac0224c6eadf88afa43e = L.popup({&quot;maxWidth&quot;: &quot;100%&quot;});\n",
       "\n",
       "        \n",
       "            \n",
       "                var html_5086a12e1b1d59ee1dc9d5cea9e8b106 = $(`&lt;div id=&quot;html_5086a12e1b1d59ee1dc9d5cea9e8b106&quot; style=&quot;width: 100.0%; height: 100.0%;&quot;&gt;3906&lt;/div&gt;`)[0];\n",
       "                popup_a6f3d5218736ac0224c6eadf88afa43e.setContent(html_5086a12e1b1d59ee1dc9d5cea9e8b106);\n",
       "            \n",
       "        \n",
       "\n",
       "        marker_2829c3cfd4d9807950b4dc6da507ad88.bindPopup(popup_a6f3d5218736ac0224c6eadf88afa43e)\n",
       "        ;\n",
       "\n",
       "        \n",
       "    \n",
       "    \n",
       "            var marker_2e8522cf2dc2bc7ed60ba6ef4db18a0c = L.marker(\n",
       "                [-15.90429257982713, -48.06538186779065],\n",
       "                {}\n",
       "            ).addTo(map_376b41dd2b45b0aa90e868ecebfd6a88);\n",
       "        \n",
       "    \n",
       "        var popup_40a9d286c53080b877a474e98579cc95 = L.popup({&quot;maxWidth&quot;: &quot;100%&quot;});\n",
       "\n",
       "        \n",
       "            \n",
       "                var html_ef1f80cf7340cad0c523fca357abcfdb = $(`&lt;div id=&quot;html_ef1f80cf7340cad0c523fca357abcfdb&quot; style=&quot;width: 100.0%; height: 100.0%;&quot;&gt;3907&lt;/div&gt;`)[0];\n",
       "                popup_40a9d286c53080b877a474e98579cc95.setContent(html_ef1f80cf7340cad0c523fca357abcfdb);\n",
       "            \n",
       "        \n",
       "\n",
       "        marker_2e8522cf2dc2bc7ed60ba6ef4db18a0c.bindPopup(popup_40a9d286c53080b877a474e98579cc95)\n",
       "        ;\n",
       "\n",
       "        \n",
       "    \n",
       "    \n",
       "            var marker_78119a1c2fc2ff5ad0a34fc135214b8a = L.marker(\n",
       "                [-15.887040211574627, -48.05861497232256],\n",
       "                {}\n",
       "            ).addTo(map_376b41dd2b45b0aa90e868ecebfd6a88);\n",
       "        \n",
       "    \n",
       "        var popup_6c865ac0038c93d1652e0bf6b15659d0 = L.popup({&quot;maxWidth&quot;: &quot;100%&quot;});\n",
       "\n",
       "        \n",
       "            \n",
       "                var html_fe5cc5a1d6e24d0e1ac5db3029c42d82 = $(`&lt;div id=&quot;html_fe5cc5a1d6e24d0e1ac5db3029c42d82&quot; style=&quot;width: 100.0%; height: 100.0%;&quot;&gt;3825&lt;/div&gt;`)[0];\n",
       "                popup_6c865ac0038c93d1652e0bf6b15659d0.setContent(html_fe5cc5a1d6e24d0e1ac5db3029c42d82);\n",
       "            \n",
       "        \n",
       "\n",
       "        marker_78119a1c2fc2ff5ad0a34fc135214b8a.bindPopup(popup_6c865ac0038c93d1652e0bf6b15659d0)\n",
       "        ;\n",
       "\n",
       "        \n",
       "    \n",
       "    \n",
       "            var marker_eafe6fac717a5bc6798ae5358f188894 = L.marker(\n",
       "                [-15.910156000000002, -48.090839],\n",
       "                {}\n",
       "            ).addTo(map_376b41dd2b45b0aa90e868ecebfd6a88);\n",
       "        \n",
       "    \n",
       "        var popup_c59020a147e0d1d337aec536d097866e = L.popup({&quot;maxWidth&quot;: &quot;100%&quot;});\n",
       "\n",
       "        \n",
       "            \n",
       "                var html_85563f2f145c82310cce0fddabbf2b36 = $(`&lt;div id=&quot;html_85563f2f145c82310cce0fddabbf2b36&quot; style=&quot;width: 100.0%; height: 100.0%;&quot;&gt;7888&lt;/div&gt;`)[0];\n",
       "                popup_c59020a147e0d1d337aec536d097866e.setContent(html_85563f2f145c82310cce0fddabbf2b36);\n",
       "            \n",
       "        \n",
       "\n",
       "        marker_eafe6fac717a5bc6798ae5358f188894.bindPopup(popup_c59020a147e0d1d337aec536d097866e)\n",
       "        ;\n",
       "\n",
       "        \n",
       "    \n",
       "    \n",
       "            var marker_83f2fe26ee272883aa57a22583263eca = L.marker(\n",
       "                [-15.907720278953988, -48.08402278176974],\n",
       "                {}\n",
       "            ).addTo(map_376b41dd2b45b0aa90e868ecebfd6a88);\n",
       "        \n",
       "    \n",
       "        var popup_e42e7496694e659b667e233e61be7597 = L.popup({&quot;maxWidth&quot;: &quot;100%&quot;});\n",
       "\n",
       "        \n",
       "            \n",
       "                var html_62a98d1a5d874637b909cb4dae324080 = $(`&lt;div id=&quot;html_62a98d1a5d874637b909cb4dae324080&quot; style=&quot;width: 100.0%; height: 100.0%;&quot;&gt;3901&lt;/div&gt;`)[0];\n",
       "                popup_e42e7496694e659b667e233e61be7597.setContent(html_62a98d1a5d874637b909cb4dae324080);\n",
       "            \n",
       "        \n",
       "\n",
       "        marker_83f2fe26ee272883aa57a22583263eca.bindPopup(popup_e42e7496694e659b667e233e61be7597)\n",
       "        ;\n",
       "\n",
       "        \n",
       "    \n",
       "    \n",
       "            var marker_efb92d069744644f78fec04d59004b3d = L.marker(\n",
       "                [-15.91026472965508, -48.09104949228238],\n",
       "                {}\n",
       "            ).addTo(map_376b41dd2b45b0aa90e868ecebfd6a88);\n",
       "        \n",
       "    \n",
       "        var popup_e4fe7c6dcd526d97b51344f8bc9149f2 = L.popup({&quot;maxWidth&quot;: &quot;100%&quot;});\n",
       "\n",
       "        \n",
       "            \n",
       "                var html_6e41e920f16c5bf1d4eef4800aefad3e = $(`&lt;div id=&quot;html_6e41e920f16c5bf1d4eef4800aefad3e&quot; style=&quot;width: 100.0%; height: 100.0%;&quot;&gt;3899&lt;/div&gt;`)[0];\n",
       "                popup_e4fe7c6dcd526d97b51344f8bc9149f2.setContent(html_6e41e920f16c5bf1d4eef4800aefad3e);\n",
       "            \n",
       "        \n",
       "\n",
       "        marker_efb92d069744644f78fec04d59004b3d.bindPopup(popup_e4fe7c6dcd526d97b51344f8bc9149f2)\n",
       "        ;\n",
       "\n",
       "        \n",
       "    \n",
       "    \n",
       "            var marker_7dd0318df45fcf9a3d548c83b8c3f216 = L.marker(\n",
       "                [-15.909530868020195, -48.08802369672664],\n",
       "                {}\n",
       "            ).addTo(map_376b41dd2b45b0aa90e868ecebfd6a88);\n",
       "        \n",
       "    \n",
       "        var popup_6f4690733b3abf802a8125abc8ed270c = L.popup({&quot;maxWidth&quot;: &quot;100%&quot;});\n",
       "\n",
       "        \n",
       "            \n",
       "                var html_55d87f1c4cc2e908113737109f14c46c = $(`&lt;div id=&quot;html_55d87f1c4cc2e908113737109f14c46c&quot; style=&quot;width: 100.0%; height: 100.0%;&quot;&gt;3900&lt;/div&gt;`)[0];\n",
       "                popup_6f4690733b3abf802a8125abc8ed270c.setContent(html_55d87f1c4cc2e908113737109f14c46c);\n",
       "            \n",
       "        \n",
       "\n",
       "        marker_7dd0318df45fcf9a3d548c83b8c3f216.bindPopup(popup_6f4690733b3abf802a8125abc8ed270c)\n",
       "        ;\n",
       "\n",
       "        \n",
       "    \n",
       "    \n",
       "            var marker_2c7768520a24f83e0f09f023c416b240 = L.marker(\n",
       "                [-15.894557999999998, -48.056217],\n",
       "                {}\n",
       "            ).addTo(map_376b41dd2b45b0aa90e868ecebfd6a88);\n",
       "        \n",
       "    \n",
       "        var popup_917b6c563cce449056206009fdac0837 = L.popup({&quot;maxWidth&quot;: &quot;100%&quot;});\n",
       "\n",
       "        \n",
       "            \n",
       "                var html_cfc4faf3b75700f64751a2feb14fa2b2 = $(`&lt;div id=&quot;html_cfc4faf3b75700f64751a2feb14fa2b2&quot; style=&quot;width: 100.0%; height: 100.0%;&quot;&gt;7921&lt;/div&gt;`)[0];\n",
       "                popup_917b6c563cce449056206009fdac0837.setContent(html_cfc4faf3b75700f64751a2feb14fa2b2);\n",
       "            \n",
       "        \n",
       "\n",
       "        marker_2c7768520a24f83e0f09f023c416b240.bindPopup(popup_917b6c563cce449056206009fdac0837)\n",
       "        ;\n",
       "\n",
       "        \n",
       "    \n",
       "    \n",
       "            var marker_8d82bf935f5ec4be3aa69443dced40ee = L.marker(\n",
       "                [-15.891674999999996, -48.057164],\n",
       "                {}\n",
       "            ).addTo(map_376b41dd2b45b0aa90e868ecebfd6a88);\n",
       "        \n",
       "    \n",
       "        var popup_2961f7f8326f2f2f0dd68a44d91b8664 = L.popup({&quot;maxWidth&quot;: &quot;100%&quot;});\n",
       "\n",
       "        \n",
       "            \n",
       "                var html_956e4bb51dc25a9525318e5b0764cac4 = $(`&lt;div id=&quot;html_956e4bb51dc25a9525318e5b0764cac4&quot; style=&quot;width: 100.0%; height: 100.0%;&quot;&gt;7922&lt;/div&gt;`)[0];\n",
       "                popup_2961f7f8326f2f2f0dd68a44d91b8664.setContent(html_956e4bb51dc25a9525318e5b0764cac4);\n",
       "            \n",
       "        \n",
       "\n",
       "        marker_8d82bf935f5ec4be3aa69443dced40ee.bindPopup(popup_2961f7f8326f2f2f0dd68a44d91b8664)\n",
       "        ;\n",
       "\n",
       "        \n",
       "    \n",
       "    \n",
       "            var marker_9747c13c2a5271cf23a1da97cbac8b13 = L.marker(\n",
       "                [-15.891674999999996, -48.057164],\n",
       "                {}\n",
       "            ).addTo(map_376b41dd2b45b0aa90e868ecebfd6a88);\n",
       "        \n",
       "    \n",
       "        var popup_9d8f2b4bcaef066213783196df829ca8 = L.popup({&quot;maxWidth&quot;: &quot;100%&quot;});\n",
       "\n",
       "        \n",
       "            \n",
       "                var html_f7484d8dea003f10eb6d835eac10e728 = $(`&lt;div id=&quot;html_f7484d8dea003f10eb6d835eac10e728&quot; style=&quot;width: 100.0%; height: 100.0%;&quot;&gt;7923&lt;/div&gt;`)[0];\n",
       "                popup_9d8f2b4bcaef066213783196df829ca8.setContent(html_f7484d8dea003f10eb6d835eac10e728);\n",
       "            \n",
       "        \n",
       "\n",
       "        marker_9747c13c2a5271cf23a1da97cbac8b13.bindPopup(popup_9d8f2b4bcaef066213783196df829ca8)\n",
       "        ;\n",
       "\n",
       "        \n",
       "    \n",
       "    \n",
       "            var marker_0e85565c8a9564e4183632b503d711f1 = L.marker(\n",
       "                [-15.89454093286884, -48.05621395775726],\n",
       "                {}\n",
       "            ).addTo(map_376b41dd2b45b0aa90e868ecebfd6a88);\n",
       "        \n",
       "    \n",
       "        var popup_6c7c6d04cb2060a9f02224ecf48c07e4 = L.popup({&quot;maxWidth&quot;: &quot;100%&quot;});\n",
       "\n",
       "        \n",
       "            \n",
       "                var html_f6627a534e749b11a2d2014b0717b29d = $(`&lt;div id=&quot;html_f6627a534e749b11a2d2014b0717b29d&quot; style=&quot;width: 100.0%; height: 100.0%;&quot;&gt;3823&lt;/div&gt;`)[0];\n",
       "                popup_6c7c6d04cb2060a9f02224ecf48c07e4.setContent(html_f6627a534e749b11a2d2014b0717b29d);\n",
       "            \n",
       "        \n",
       "\n",
       "        marker_0e85565c8a9564e4183632b503d711f1.bindPopup(popup_6c7c6d04cb2060a9f02224ecf48c07e4)\n",
       "        ;\n",
       "\n",
       "        \n",
       "    \n",
       "    \n",
       "            var marker_5a6dba8b833fc2760e0d28d8f38f9709 = L.marker(\n",
       "                [-15.892066753113202, -48.05697748106128],\n",
       "                {}\n",
       "            ).addTo(map_376b41dd2b45b0aa90e868ecebfd6a88);\n",
       "        \n",
       "    \n",
       "        var popup_76967e1450f448581f00128b607541a0 = L.popup({&quot;maxWidth&quot;: &quot;100%&quot;});\n",
       "\n",
       "        \n",
       "            \n",
       "                var html_2a45eaacd0e7f35bb39928b64927417b = $(`&lt;div id=&quot;html_2a45eaacd0e7f35bb39928b64927417b&quot; style=&quot;width: 100.0%; height: 100.0%;&quot;&gt;3824&lt;/div&gt;`)[0];\n",
       "                popup_76967e1450f448581f00128b607541a0.setContent(html_2a45eaacd0e7f35bb39928b64927417b);\n",
       "            \n",
       "        \n",
       "\n",
       "        marker_5a6dba8b833fc2760e0d28d8f38f9709.bindPopup(popup_76967e1450f448581f00128b607541a0)\n",
       "        ;\n",
       "\n",
       "        \n",
       "    \n",
       "    \n",
       "            var marker_9eeaf0e74ebd70134c1581870d8bc758 = L.marker(\n",
       "                [-15.9320432171429, -48.109250444235066],\n",
       "                {}\n",
       "            ).addTo(map_376b41dd2b45b0aa90e868ecebfd6a88);\n",
       "        \n",
       "    \n",
       "        var popup_e18845fa447dbf4528ffb6f2d99fa770 = L.popup({&quot;maxWidth&quot;: &quot;100%&quot;});\n",
       "\n",
       "        \n",
       "            \n",
       "                var html_5d7d3406dd4f34e5cfb976275876f687 = $(`&lt;div id=&quot;html_5d7d3406dd4f34e5cfb976275876f687&quot; style=&quot;width: 100.0%; height: 100.0%;&quot;&gt;3950&lt;/div&gt;`)[0];\n",
       "                popup_e18845fa447dbf4528ffb6f2d99fa770.setContent(html_5d7d3406dd4f34e5cfb976275876f687);\n",
       "            \n",
       "        \n",
       "\n",
       "        marker_9eeaf0e74ebd70134c1581870d8bc758.bindPopup(popup_e18845fa447dbf4528ffb6f2d99fa770)\n",
       "        ;\n",
       "\n",
       "        \n",
       "    \n",
       "    \n",
       "            var marker_e10790119713b4417b69f9b2370b5c19 = L.marker(\n",
       "                [-15.930804360099163, -48.11051481546714],\n",
       "                {}\n",
       "            ).addTo(map_376b41dd2b45b0aa90e868ecebfd6a88);\n",
       "        \n",
       "    \n",
       "        var popup_438d8de50c7caa94afffe77d202bcd5f = L.popup({&quot;maxWidth&quot;: &quot;100%&quot;});\n",
       "\n",
       "        \n",
       "            \n",
       "                var html_119c1b8898f19aeab9c65931dac90eec = $(`&lt;div id=&quot;html_119c1b8898f19aeab9c65931dac90eec&quot; style=&quot;width: 100.0%; height: 100.0%;&quot;&gt;3890&lt;/div&gt;`)[0];\n",
       "                popup_438d8de50c7caa94afffe77d202bcd5f.setContent(html_119c1b8898f19aeab9c65931dac90eec);\n",
       "            \n",
       "        \n",
       "\n",
       "        marker_e10790119713b4417b69f9b2370b5c19.bindPopup(popup_438d8de50c7caa94afffe77d202bcd5f)\n",
       "        ;\n",
       "\n",
       "        \n",
       "    \n",
       "    \n",
       "            var marker_02e223d910a453f618207eaf0a10b955 = L.marker(\n",
       "                [-15.821642039849799, -47.91868013956277],\n",
       "                {}\n",
       "            ).addTo(map_376b41dd2b45b0aa90e868ecebfd6a88);\n",
       "        \n",
       "    \n",
       "        var popup_533055b205cad68ee37c62af8ec6c40e = L.popup({&quot;maxWidth&quot;: &quot;100%&quot;});\n",
       "\n",
       "        \n",
       "            \n",
       "                var html_39e53ab0a0632ee25590112666078ada = $(`&lt;div id=&quot;html_39e53ab0a0632ee25590112666078ada&quot; style=&quot;width: 100.0%; height: 100.0%;&quot;&gt;3568&lt;/div&gt;`)[0];\n",
       "                popup_533055b205cad68ee37c62af8ec6c40e.setContent(html_39e53ab0a0632ee25590112666078ada);\n",
       "            \n",
       "        \n",
       "\n",
       "        marker_02e223d910a453f618207eaf0a10b955.bindPopup(popup_533055b205cad68ee37c62af8ec6c40e)\n",
       "        ;\n",
       "\n",
       "        \n",
       "    \n",
       "    \n",
       "            var marker_524e0af96622f21a58a490b5e761f0d1 = L.marker(\n",
       "                [-15.750807913099322, -47.8949281116755],\n",
       "                {}\n",
       "            ).addTo(map_376b41dd2b45b0aa90e868ecebfd6a88);\n",
       "        \n",
       "    \n",
       "        var popup_074127e1a75f4fd529bce8b949378a7d = L.popup({&quot;maxWidth&quot;: &quot;100%&quot;});\n",
       "\n",
       "        \n",
       "            \n",
       "                var html_bc9efd34cdacabee44ef030cd7362c3c = $(`&lt;div id=&quot;html_bc9efd34cdacabee44ef030cd7362c3c&quot; style=&quot;width: 100.0%; height: 100.0%;&quot;&gt;3516&lt;/div&gt;`)[0];\n",
       "                popup_074127e1a75f4fd529bce8b949378a7d.setContent(html_bc9efd34cdacabee44ef030cd7362c3c);\n",
       "            \n",
       "        \n",
       "\n",
       "        marker_524e0af96622f21a58a490b5e761f0d1.bindPopup(popup_074127e1a75f4fd529bce8b949378a7d)\n",
       "        ;\n",
       "\n",
       "        \n",
       "    \n",
       "    \n",
       "            var marker_e17636cd5543735479f4d30648676c4d = L.marker(\n",
       "                [-15.753694998623457, -47.89400504430343],\n",
       "                {}\n",
       "            ).addTo(map_376b41dd2b45b0aa90e868ecebfd6a88);\n",
       "        \n",
       "    \n",
       "        var popup_5c8c316cff5a84cb987c703e4ffb000b = L.popup({&quot;maxWidth&quot;: &quot;100%&quot;});\n",
       "\n",
       "        \n",
       "            \n",
       "                var html_334a9eff9e0e27094d418384153b7a9e = $(`&lt;div id=&quot;html_334a9eff9e0e27094d418384153b7a9e&quot; style=&quot;width: 100.0%; height: 100.0%;&quot;&gt;3515&lt;/div&gt;`)[0];\n",
       "                popup_5c8c316cff5a84cb987c703e4ffb000b.setContent(html_334a9eff9e0e27094d418384153b7a9e);\n",
       "            \n",
       "        \n",
       "\n",
       "        marker_e17636cd5543735479f4d30648676c4d.bindPopup(popup_5c8c316cff5a84cb987c703e4ffb000b)\n",
       "        ;\n",
       "\n",
       "        \n",
       "    \n",
       "    \n",
       "            var marker_dadfff63f0e4d6a2a3e0d021b763b06a = L.marker(\n",
       "                [-15.760012169623284, -47.891976176212104],\n",
       "                {}\n",
       "            ).addTo(map_376b41dd2b45b0aa90e868ecebfd6a88);\n",
       "        \n",
       "    \n",
       "        var popup_197aab6840498384a5b9d8608fdea1e2 = L.popup({&quot;maxWidth&quot;: &quot;100%&quot;});\n",
       "\n",
       "        \n",
       "            \n",
       "                var html_4fbe41440327e6e0ac6048dbb96c905b = $(`&lt;div id=&quot;html_4fbe41440327e6e0ac6048dbb96c905b&quot; style=&quot;width: 100.0%; height: 100.0%;&quot;&gt;3513&lt;/div&gt;`)[0];\n",
       "                popup_197aab6840498384a5b9d8608fdea1e2.setContent(html_4fbe41440327e6e0ac6048dbb96c905b);\n",
       "            \n",
       "        \n",
       "\n",
       "        marker_dadfff63f0e4d6a2a3e0d021b763b06a.bindPopup(popup_197aab6840498384a5b9d8608fdea1e2)\n",
       "        ;\n",
       "\n",
       "        \n",
       "    \n",
       "    \n",
       "            var marker_075395495159c8266238316d3925937c = L.marker(\n",
       "                [-15.757033653547683, -47.89293900668162],\n",
       "                {}\n",
       "            ).addTo(map_376b41dd2b45b0aa90e868ecebfd6a88);\n",
       "        \n",
       "    \n",
       "        var popup_0f900f6bda743ea23a051de0e196b90d = L.popup({&quot;maxWidth&quot;: &quot;100%&quot;});\n",
       "\n",
       "        \n",
       "            \n",
       "                var html_12dbc5146a6d29ec9dd48c6229c76817 = $(`&lt;div id=&quot;html_12dbc5146a6d29ec9dd48c6229c76817&quot; style=&quot;width: 100.0%; height: 100.0%;&quot;&gt;3514&lt;/div&gt;`)[0];\n",
       "                popup_0f900f6bda743ea23a051de0e196b90d.setContent(html_12dbc5146a6d29ec9dd48c6229c76817);\n",
       "            \n",
       "        \n",
       "\n",
       "        marker_075395495159c8266238316d3925937c.bindPopup(popup_0f900f6bda743ea23a051de0e196b90d)\n",
       "        ;\n",
       "\n",
       "        \n",
       "    \n",
       "    \n",
       "            var marker_42ee0c3375ae71732bc43d8a5b40278b = L.marker(\n",
       "                [-15.780738695652959, -47.887459438755265],\n",
       "                {}\n",
       "            ).addTo(map_376b41dd2b45b0aa90e868ecebfd6a88);\n",
       "        \n",
       "    \n",
       "        var popup_d277fb3407d0f2d1ec2a6ded9b1606be = L.popup({&quot;maxWidth&quot;: &quot;100%&quot;});\n",
       "\n",
       "        \n",
       "            \n",
       "                var html_5b65143461f0e25d72ba52c444e551b8 = $(`&lt;div id=&quot;html_5b65143461f0e25d72ba52c444e551b8&quot; style=&quot;width: 100.0%; height: 100.0%;&quot;&gt;3506&lt;/div&gt;`)[0];\n",
       "                popup_d277fb3407d0f2d1ec2a6ded9b1606be.setContent(html_5b65143461f0e25d72ba52c444e551b8);\n",
       "            \n",
       "        \n",
       "\n",
       "        marker_42ee0c3375ae71732bc43d8a5b40278b.bindPopup(popup_d277fb3407d0f2d1ec2a6ded9b1606be)\n",
       "        ;\n",
       "\n",
       "        \n",
       "    \n",
       "    \n",
       "            var marker_7a78951bd1657b419cf99bbde54aa3d2 = L.marker(\n",
       "                [-15.777509708768566, -47.88773230535398],\n",
       "                {}\n",
       "            ).addTo(map_376b41dd2b45b0aa90e868ecebfd6a88);\n",
       "        \n",
       "    \n",
       "        var popup_858765b7ab0ffeaded8d6edcfa343e15 = L.popup({&quot;maxWidth&quot;: &quot;100%&quot;});\n",
       "\n",
       "        \n",
       "            \n",
       "                var html_ef4f4c564da7404dd97674c383f41a2c = $(`&lt;div id=&quot;html_ef4f4c564da7404dd97674c383f41a2c&quot; style=&quot;width: 100.0%; height: 100.0%;&quot;&gt;3507&lt;/div&gt;`)[0];\n",
       "                popup_858765b7ab0ffeaded8d6edcfa343e15.setContent(html_ef4f4c564da7404dd97674c383f41a2c);\n",
       "            \n",
       "        \n",
       "\n",
       "        marker_7a78951bd1657b419cf99bbde54aa3d2.bindPopup(popup_858765b7ab0ffeaded8d6edcfa343e15)\n",
       "        ;\n",
       "\n",
       "        \n",
       "    \n",
       "    \n",
       "            var marker_bd304b240d5a1c23d117443906d60a90 = L.marker(\n",
       "                [-15.80164148572705, -47.89444234052956],\n",
       "                {}\n",
       "            ).addTo(map_376b41dd2b45b0aa90e868ecebfd6a88);\n",
       "        \n",
       "    \n",
       "        var popup_6f1997b75193b54831c25b729cf78044 = L.popup({&quot;maxWidth&quot;: &quot;100%&quot;});\n",
       "\n",
       "        \n",
       "            \n",
       "                var html_2879c8dc438e06f0bb72767a634212c5 = $(`&lt;div id=&quot;html_2879c8dc438e06f0bb72767a634212c5&quot; style=&quot;width: 100.0%; height: 100.0%;&quot;&gt;3577&lt;/div&gt;`)[0];\n",
       "                popup_6f1997b75193b54831c25b729cf78044.setContent(html_2879c8dc438e06f0bb72767a634212c5);\n",
       "            \n",
       "        \n",
       "\n",
       "        marker_bd304b240d5a1c23d117443906d60a90.bindPopup(popup_6f1997b75193b54831c25b729cf78044)\n",
       "        ;\n",
       "\n",
       "        \n",
       "    \n",
       "    \n",
       "            var marker_19202caee3c3e751021e12bc7f81cbaf = L.marker(\n",
       "                [-15.804051771822037, -47.89656602660574],\n",
       "                {}\n",
       "            ).addTo(map_376b41dd2b45b0aa90e868ecebfd6a88);\n",
       "        \n",
       "    \n",
       "        var popup_f8363cf47f728da0a6aa9220d4322886 = L.popup({&quot;maxWidth&quot;: &quot;100%&quot;});\n",
       "\n",
       "        \n",
       "            \n",
       "                var html_1b549aa017bd17a847c3fae06aa8de4d = $(`&lt;div id=&quot;html_1b549aa017bd17a847c3fae06aa8de4d&quot; style=&quot;width: 100.0%; height: 100.0%;&quot;&gt;3576&lt;/div&gt;`)[0];\n",
       "                popup_f8363cf47f728da0a6aa9220d4322886.setContent(html_1b549aa017bd17a847c3fae06aa8de4d);\n",
       "            \n",
       "        \n",
       "\n",
       "        marker_19202caee3c3e751021e12bc7f81cbaf.bindPopup(popup_f8363cf47f728da0a6aa9220d4322886)\n",
       "        ;\n",
       "\n",
       "        \n",
       "    \n",
       "    \n",
       "            var marker_b45e306103e5deb9c716dc3a908829b5 = L.marker(\n",
       "                [-15.771152364468017, -47.88868146558276],\n",
       "                {}\n",
       "            ).addTo(map_376b41dd2b45b0aa90e868ecebfd6a88);\n",
       "        \n",
       "    \n",
       "        var popup_5f683d7e0e2a6712dfbda72997c957e7 = L.popup({&quot;maxWidth&quot;: &quot;100%&quot;});\n",
       "\n",
       "        \n",
       "            \n",
       "                var html_703c6a1e78c9a2542d37a53267c0c88e = $(`&lt;div id=&quot;html_703c6a1e78c9a2542d37a53267c0c88e&quot; style=&quot;width: 100.0%; height: 100.0%;&quot;&gt;3509&lt;/div&gt;`)[0];\n",
       "                popup_5f683d7e0e2a6712dfbda72997c957e7.setContent(html_703c6a1e78c9a2542d37a53267c0c88e);\n",
       "            \n",
       "        \n",
       "\n",
       "        marker_b45e306103e5deb9c716dc3a908829b5.bindPopup(popup_5f683d7e0e2a6712dfbda72997c957e7)\n",
       "        ;\n",
       "\n",
       "        \n",
       "    \n",
       "    \n",
       "            var marker_024c1cd89fd92b6f5afead8f4b835e2a = L.marker(\n",
       "                [-15.774801330614789, -47.88800228388125],\n",
       "                {}\n",
       "            ).addTo(map_376b41dd2b45b0aa90e868ecebfd6a88);\n",
       "        \n",
       "    \n",
       "        var popup_aaf242d5644f0d177ea1b85d9e62a007 = L.popup({&quot;maxWidth&quot;: &quot;100%&quot;});\n",
       "\n",
       "        \n",
       "            \n",
       "                var html_51b1a65dc2e2c146e59879460319a08b = $(`&lt;div id=&quot;html_51b1a65dc2e2c146e59879460319a08b&quot; style=&quot;width: 100.0%; height: 100.0%;&quot;&gt;3508&lt;/div&gt;`)[0];\n",
       "                popup_aaf242d5644f0d177ea1b85d9e62a007.setContent(html_51b1a65dc2e2c146e59879460319a08b);\n",
       "            \n",
       "        \n",
       "\n",
       "        marker_024c1cd89fd92b6f5afead8f4b835e2a.bindPopup(popup_aaf242d5644f0d177ea1b85d9e62a007)\n",
       "        ;\n",
       "\n",
       "        \n",
       "    \n",
       "    \n",
       "            var marker_d96b6dea698600d3bbeea83b0f5dc87d = L.marker(\n",
       "                [-15.766141701235163, -47.890017882666925],\n",
       "                {}\n",
       "            ).addTo(map_376b41dd2b45b0aa90e868ecebfd6a88);\n",
       "        \n",
       "    \n",
       "        var popup_56fb80f561f2f309cefae6373444cb93 = L.popup({&quot;maxWidth&quot;: &quot;100%&quot;});\n",
       "\n",
       "        \n",
       "            \n",
       "                var html_14a9451212f774dd22b8ad4f33859532 = $(`&lt;div id=&quot;html_14a9451212f774dd22b8ad4f33859532&quot; style=&quot;width: 100.0%; height: 100.0%;&quot;&gt;3511&lt;/div&gt;`)[0];\n",
       "                popup_56fb80f561f2f309cefae6373444cb93.setContent(html_14a9451212f774dd22b8ad4f33859532);\n",
       "            \n",
       "        \n",
       "\n",
       "        marker_d96b6dea698600d3bbeea83b0f5dc87d.bindPopup(popup_56fb80f561f2f309cefae6373444cb93)\n",
       "        ;\n",
       "\n",
       "        \n",
       "    \n",
       "    \n",
       "            var marker_c5f8d3a0cf1e826015389aafd262ca2f = L.marker(\n",
       "                [-15.763216046795371, -47.89095602356193],\n",
       "                {}\n",
       "            ).addTo(map_376b41dd2b45b0aa90e868ecebfd6a88);\n",
       "        \n",
       "    \n",
       "        var popup_669c4fddf2a98c64db63ab1cc74de626 = L.popup({&quot;maxWidth&quot;: &quot;100%&quot;});\n",
       "\n",
       "        \n",
       "            \n",
       "                var html_7373c220d4559c07996b2592466a59aa = $(`&lt;div id=&quot;html_7373c220d4559c07996b2592466a59aa&quot; style=&quot;width: 100.0%; height: 100.0%;&quot;&gt;3512&lt;/div&gt;`)[0];\n",
       "                popup_669c4fddf2a98c64db63ab1cc74de626.setContent(html_7373c220d4559c07996b2592466a59aa);\n",
       "            \n",
       "        \n",
       "\n",
       "        marker_c5f8d3a0cf1e826015389aafd262ca2f.bindPopup(popup_669c4fddf2a98c64db63ab1cc74de626)\n",
       "        ;\n",
       "\n",
       "        \n",
       "    \n",
       "    \n",
       "            var marker_848c3cf709ca564187f705bfa785427b = L.marker(\n",
       "                [-15.769141094278112, -47.88915290178694],\n",
       "                {}\n",
       "            ).addTo(map_376b41dd2b45b0aa90e868ecebfd6a88);\n",
       "        \n",
       "    \n",
       "        var popup_476c16ecf01744b1e5b8b9c617fd56fb = L.popup({&quot;maxWidth&quot;: &quot;100%&quot;});\n",
       "\n",
       "        \n",
       "            \n",
       "                var html_be7b4746087c38efd5b25ec5ccfe6378 = $(`&lt;div id=&quot;html_be7b4746087c38efd5b25ec5ccfe6378&quot; style=&quot;width: 100.0%; height: 100.0%;&quot;&gt;3510&lt;/div&gt;`)[0];\n",
       "                popup_476c16ecf01744b1e5b8b9c617fd56fb.setContent(html_be7b4746087c38efd5b25ec5ccfe6378);\n",
       "            \n",
       "        \n",
       "\n",
       "        marker_848c3cf709ca564187f705bfa785427b.bindPopup(popup_476c16ecf01744b1e5b8b9c617fd56fb)\n",
       "        ;\n",
       "\n",
       "        \n",
       "    \n",
       "    \n",
       "            var marker_c5c5352de08470c33ad61b2d0c7ea575 = L.marker(\n",
       "                [-15.817759322090723, -47.913306202798566],\n",
       "                {}\n",
       "            ).addTo(map_376b41dd2b45b0aa90e868ecebfd6a88);\n",
       "        \n",
       "    \n",
       "        var popup_b6166da73084eb1648e297498d088ad4 = L.popup({&quot;maxWidth&quot;: &quot;100%&quot;});\n",
       "\n",
       "        \n",
       "            \n",
       "                var html_0d5ea85a8f8f961b4beb8f2556ba6696 = $(`&lt;div id=&quot;html_0d5ea85a8f8f961b4beb8f2556ba6696&quot; style=&quot;width: 100.0%; height: 100.0%;&quot;&gt;3570&lt;/div&gt;`)[0];\n",
       "                popup_b6166da73084eb1648e297498d088ad4.setContent(html_0d5ea85a8f8f961b4beb8f2556ba6696);\n",
       "            \n",
       "        \n",
       "\n",
       "        marker_c5c5352de08470c33ad61b2d0c7ea575.bindPopup(popup_b6166da73084eb1648e297498d088ad4)\n",
       "        ;\n",
       "\n",
       "        \n",
       "    \n",
       "    \n",
       "            var marker_a86496e7a6d17529e75ff3e048fbfe3d = L.marker(\n",
       "                [-15.819700430682687, -47.91599181258493],\n",
       "                {}\n",
       "            ).addTo(map_376b41dd2b45b0aa90e868ecebfd6a88);\n",
       "        \n",
       "    \n",
       "        var popup_9a849ca741a3a93bebb75aadf5d6fff3 = L.popup({&quot;maxWidth&quot;: &quot;100%&quot;});\n",
       "\n",
       "        \n",
       "            \n",
       "                var html_48ffa8a769353bae21680a4f135b7839 = $(`&lt;div id=&quot;html_48ffa8a769353bae21680a4f135b7839&quot; style=&quot;width: 100.0%; height: 100.0%;&quot;&gt;3569&lt;/div&gt;`)[0];\n",
       "                popup_9a849ca741a3a93bebb75aadf5d6fff3.setContent(html_48ffa8a769353bae21680a4f135b7839);\n",
       "            \n",
       "        \n",
       "\n",
       "        marker_a86496e7a6d17529e75ff3e048fbfe3d.bindPopup(popup_9a849ca741a3a93bebb75aadf5d6fff3)\n",
       "        ;\n",
       "\n",
       "        \n",
       "    \n",
       "    \n",
       "            var marker_58467a2c0aa7730888952a97285c2ed7 = L.marker(\n",
       "                [-15.845543768544298, -47.92273446326752],\n",
       "                {}\n",
       "            ).addTo(map_376b41dd2b45b0aa90e868ecebfd6a88);\n",
       "        \n",
       "    \n",
       "        var popup_f53b092cad47e97a80c91087db76f2c0 = L.popup({&quot;maxWidth&quot;: &quot;100%&quot;});\n",
       "\n",
       "        \n",
       "            \n",
       "                var html_e0b54b7c3c1e474352e2c78d1d9a31c8 = $(`&lt;div id=&quot;html_e0b54b7c3c1e474352e2c78d1d9a31c8&quot; style=&quot;width: 100.0%; height: 100.0%;&quot;&gt;3283&lt;/div&gt;`)[0];\n",
       "                popup_f53b092cad47e97a80c91087db76f2c0.setContent(html_e0b54b7c3c1e474352e2c78d1d9a31c8);\n",
       "            \n",
       "        \n",
       "\n",
       "        marker_58467a2c0aa7730888952a97285c2ed7.bindPopup(popup_f53b092cad47e97a80c91087db76f2c0)\n",
       "        ;\n",
       "\n",
       "        \n",
       "    \n",
       "    \n",
       "            var marker_52c45712a8915c040d58c8ef1f116621 = L.marker(\n",
       "                [-15.8446518918745, -47.91992587940996],\n",
       "                {}\n",
       "            ).addTo(map_376b41dd2b45b0aa90e868ecebfd6a88);\n",
       "        \n",
       "    \n",
       "        var popup_2df4e47e2d2edfc199331b9d6be8751f = L.popup({&quot;maxWidth&quot;: &quot;100%&quot;});\n",
       "\n",
       "        \n",
       "            \n",
       "                var html_a2cb96253407834e43177642e1a556b2 = $(`&lt;div id=&quot;html_a2cb96253407834e43177642e1a556b2&quot; style=&quot;width: 100.0%; height: 100.0%;&quot;&gt;3284&lt;/div&gt;`)[0];\n",
       "                popup_2df4e47e2d2edfc199331b9d6be8751f.setContent(html_a2cb96253407834e43177642e1a556b2);\n",
       "            \n",
       "        \n",
       "\n",
       "        marker_52c45712a8915c040d58c8ef1f116621.bindPopup(popup_2df4e47e2d2edfc199331b9d6be8751f)\n",
       "        ;\n",
       "\n",
       "        \n",
       "    \n",
       "    \n",
       "            var marker_5b1782a6b7174bed5031794b53438bb0 = L.marker(\n",
       "                [-15.841132138484848, -47.92105110477898],\n",
       "                {}\n",
       "            ).addTo(map_376b41dd2b45b0aa90e868ecebfd6a88);\n",
       "        \n",
       "    \n",
       "        var popup_b53bf60639ff58574075a93e3e42f3a1 = L.popup({&quot;maxWidth&quot;: &quot;100%&quot;});\n",
       "\n",
       "        \n",
       "            \n",
       "                var html_ffa78eab7316ab321af383cc90cbbd0d = $(`&lt;div id=&quot;html_ffa78eab7316ab321af383cc90cbbd0d&quot; style=&quot;width: 100.0%; height: 100.0%;&quot;&gt;3281&lt;/div&gt;`)[0];\n",
       "                popup_b53bf60639ff58574075a93e3e42f3a1.setContent(html_ffa78eab7316ab321af383cc90cbbd0d);\n",
       "            \n",
       "        \n",
       "\n",
       "        marker_5b1782a6b7174bed5031794b53438bb0.bindPopup(popup_b53bf60639ff58574075a93e3e42f3a1)\n",
       "        ;\n",
       "\n",
       "        \n",
       "    \n",
       "    \n",
       "            var marker_ba212eb04c14a6de0e7ebefbc1f23159 = L.marker(\n",
       "                [-15.844839672077953, -47.9416497019183],\n",
       "                {}\n",
       "            ).addTo(map_376b41dd2b45b0aa90e868ecebfd6a88);\n",
       "        \n",
       "    \n",
       "        var popup_78499672cd685655076d81a12e2548e7 = L.popup({&quot;maxWidth&quot;: &quot;100%&quot;});\n",
       "\n",
       "        \n",
       "            \n",
       "                var html_9343ae13feea8ccaf0772b026287d990 = $(`&lt;div id=&quot;html_9343ae13feea8ccaf0772b026287d990&quot; style=&quot;width: 100.0%; height: 100.0%;&quot;&gt;3673&lt;/div&gt;`)[0];\n",
       "                popup_78499672cd685655076d81a12e2548e7.setContent(html_9343ae13feea8ccaf0772b026287d990);\n",
       "            \n",
       "        \n",
       "\n",
       "        marker_ba212eb04c14a6de0e7ebefbc1f23159.bindPopup(popup_78499672cd685655076d81a12e2548e7)\n",
       "        ;\n",
       "\n",
       "        \n",
       "    \n",
       "    \n",
       "            var marker_c42304cb4663f6da276780f0238acd74 = L.marker(\n",
       "                [-15.787162382832602, -47.887918091709295],\n",
       "                {}\n",
       "            ).addTo(map_376b41dd2b45b0aa90e868ecebfd6a88);\n",
       "        \n",
       "    \n",
       "        var popup_efdd6de6a52ddfdc4f6e3141f4ff3965 = L.popup({&quot;maxWidth&quot;: &quot;100%&quot;});\n",
       "\n",
       "        \n",
       "            \n",
       "                var html_f156b5119999fd1aba29a29e480ff1ee = $(`&lt;div id=&quot;html_f156b5119999fd1aba29a29e480ff1ee&quot; style=&quot;width: 100.0%; height: 100.0%;&quot;&gt;3504&lt;/div&gt;`)[0];\n",
       "                popup_efdd6de6a52ddfdc4f6e3141f4ff3965.setContent(html_f156b5119999fd1aba29a29e480ff1ee);\n",
       "            \n",
       "        \n",
       "\n",
       "        marker_c42304cb4663f6da276780f0238acd74.bindPopup(popup_efdd6de6a52ddfdc4f6e3141f4ff3965)\n",
       "        ;\n",
       "\n",
       "        \n",
       "    \n",
       "    \n",
       "            var marker_b12cf166a741ddbde61999fe0e9dac0c = L.marker(\n",
       "                [-15.783898226654156, -47.88744731247922],\n",
       "                {}\n",
       "            ).addTo(map_376b41dd2b45b0aa90e868ecebfd6a88);\n",
       "        \n",
       "    \n",
       "        var popup_9dc5534ce320a4a60b627774d137b27f = L.popup({&quot;maxWidth&quot;: &quot;100%&quot;});\n",
       "\n",
       "        \n",
       "            \n",
       "                var html_dbe682f8ba82f8442983d2c018709423 = $(`&lt;div id=&quot;html_dbe682f8ba82f8442983d2c018709423&quot; style=&quot;width: 100.0%; height: 100.0%;&quot;&gt;3505&lt;/div&gt;`)[0];\n",
       "                popup_9dc5534ce320a4a60b627774d137b27f.setContent(html_dbe682f8ba82f8442983d2c018709423);\n",
       "            \n",
       "        \n",
       "\n",
       "        marker_b12cf166a741ddbde61999fe0e9dac0c.bindPopup(popup_9dc5534ce320a4a60b627774d137b27f)\n",
       "        ;\n",
       "\n",
       "        \n",
       "    \n",
       "    \n",
       "            var marker_ce102ac57be3a0165c4751cce04231b6 = L.marker(\n",
       "                [-15.857910143892939, -47.955659883758],\n",
       "                {}\n",
       "            ).addTo(map_376b41dd2b45b0aa90e868ecebfd6a88);\n",
       "        \n",
       "    \n",
       "        var popup_4b90c77b1df715af92e91aab29f47595 = L.popup({&quot;maxWidth&quot;: &quot;100%&quot;});\n",
       "\n",
       "        \n",
       "            \n",
       "                var html_9efb4e34b004a4a50c3be2cebb5e4da8 = $(`&lt;div id=&quot;html_9efb4e34b004a4a50c3be2cebb5e4da8&quot; style=&quot;width: 100.0%; height: 100.0%;&quot;&gt;1233&lt;/div&gt;`)[0];\n",
       "                popup_4b90c77b1df715af92e91aab29f47595.setContent(html_9efb4e34b004a4a50c3be2cebb5e4da8);\n",
       "            \n",
       "        \n",
       "\n",
       "        marker_ce102ac57be3a0165c4751cce04231b6.bindPopup(popup_4b90c77b1df715af92e91aab29f47595)\n",
       "        ;\n",
       "\n",
       "        \n",
       "    \n",
       "    \n",
       "            var marker_854e37e5d1df538f518c61558aa55050 = L.marker(\n",
       "                [-15.857273654816499, -47.95573359509429],\n",
       "                {}\n",
       "            ).addTo(map_376b41dd2b45b0aa90e868ecebfd6a88);\n",
       "        \n",
       "    \n",
       "        var popup_f67448b7e02641e64e2bed777e58c9fd = L.popup({&quot;maxWidth&quot;: &quot;100%&quot;});\n",
       "\n",
       "        \n",
       "            \n",
       "                var html_311fdc5da2fb7ac842d3bc2a7dc84ab7 = $(`&lt;div id=&quot;html_311fdc5da2fb7ac842d3bc2a7dc84ab7&quot; style=&quot;width: 100.0%; height: 100.0%;&quot;&gt;1234&lt;/div&gt;`)[0];\n",
       "                popup_f67448b7e02641e64e2bed777e58c9fd.setContent(html_311fdc5da2fb7ac842d3bc2a7dc84ab7);\n",
       "            \n",
       "        \n",
       "\n",
       "        marker_854e37e5d1df538f518c61558aa55050.bindPopup(popup_f67448b7e02641e64e2bed777e58c9fd)\n",
       "        ;\n",
       "\n",
       "        \n",
       "    \n",
       "    \n",
       "            var marker_2cb857241030e1b5054c95b9afe534f0 = L.marker(\n",
       "                [-15.879045439663862, -48.05214416419446],\n",
       "                {}\n",
       "            ).addTo(map_376b41dd2b45b0aa90e868ecebfd6a88);\n",
       "        \n",
       "    \n",
       "        var popup_e34e120c25d71411c201e079489d639d = L.popup({&quot;maxWidth&quot;: &quot;100%&quot;});\n",
       "\n",
       "        \n",
       "            \n",
       "                var html_a79961b7d0ac7763cf159d7fdc452664 = $(`&lt;div id=&quot;html_a79961b7d0ac7763cf159d7fdc452664&quot; style=&quot;width: 100.0%; height: 100.0%;&quot;&gt;4017&lt;/div&gt;`)[0];\n",
       "                popup_e34e120c25d71411c201e079489d639d.setContent(html_a79961b7d0ac7763cf159d7fdc452664);\n",
       "            \n",
       "        \n",
       "\n",
       "        marker_2cb857241030e1b5054c95b9afe534f0.bindPopup(popup_e34e120c25d71411c201e079489d639d)\n",
       "        ;\n",
       "\n",
       "        \n",
       "    \n",
       "    \n",
       "            var marker_99687f7dd329196116ac91c9a2fb2e3e = L.marker(\n",
       "                [-15.901506000000001, -48.056244],\n",
       "                {}\n",
       "            ).addTo(map_376b41dd2b45b0aa90e868ecebfd6a88);\n",
       "        \n",
       "    \n",
       "        var popup_12d1fe861a82d236d0e24f39f3643140 = L.popup({&quot;maxWidth&quot;: &quot;100%&quot;});\n",
       "\n",
       "        \n",
       "            \n",
       "                var html_8a556e10a19f4b65bd628e2ef714996a = $(`&lt;div id=&quot;html_8a556e10a19f4b65bd628e2ef714996a&quot; style=&quot;width: 100.0%; height: 100.0%;&quot;&gt;7889&lt;/div&gt;`)[0];\n",
       "                popup_12d1fe861a82d236d0e24f39f3643140.setContent(html_8a556e10a19f4b65bd628e2ef714996a);\n",
       "            \n",
       "        \n",
       "\n",
       "        marker_99687f7dd329196116ac91c9a2fb2e3e.bindPopup(popup_12d1fe861a82d236d0e24f39f3643140)\n",
       "        ;\n",
       "\n",
       "        \n",
       "    \n",
       "    \n",
       "            var marker_301fff31bf2f74e69ddc6d75bd482833 = L.marker(\n",
       "                [-15.901506000000001, -48.056244],\n",
       "                {}\n",
       "            ).addTo(map_376b41dd2b45b0aa90e868ecebfd6a88);\n",
       "        \n",
       "    \n",
       "        var popup_237e090f4ccab1ea82c1af8fc13b4351 = L.popup({&quot;maxWidth&quot;: &quot;100%&quot;});\n",
       "\n",
       "        \n",
       "            \n",
       "                var html_2fef6c40eb7b42e18070e34c6f93b9d5 = $(`&lt;div id=&quot;html_2fef6c40eb7b42e18070e34c6f93b9d5&quot; style=&quot;width: 100.0%; height: 100.0%;&quot;&gt;7890&lt;/div&gt;`)[0];\n",
       "                popup_237e090f4ccab1ea82c1af8fc13b4351.setContent(html_2fef6c40eb7b42e18070e34c6f93b9d5);\n",
       "            \n",
       "        \n",
       "\n",
       "        marker_301fff31bf2f74e69ddc6d75bd482833.bindPopup(popup_237e090f4ccab1ea82c1af8fc13b4351)\n",
       "        ;\n",
       "\n",
       "        \n",
       "    \n",
       "    \n",
       "            var marker_9ed1fbd2ef4857255e45fdb18c6665df = L.marker(\n",
       "                [-15.90324937694194, -48.06200257905907],\n",
       "                {}\n",
       "            ).addTo(map_376b41dd2b45b0aa90e868ecebfd6a88);\n",
       "        \n",
       "    \n",
       "        var popup_1a4358fe8d4bd4af01145f8a4faea706 = L.popup({&quot;maxWidth&quot;: &quot;100%&quot;});\n",
       "\n",
       "        \n",
       "            \n",
       "                var html_99972e2954e47012cca3aac55ead472b = $(`&lt;div id=&quot;html_99972e2954e47012cca3aac55ead472b&quot; style=&quot;width: 100.0%; height: 100.0%;&quot;&gt;3908&lt;/div&gt;`)[0];\n",
       "                popup_1a4358fe8d4bd4af01145f8a4faea706.setContent(html_99972e2954e47012cca3aac55ead472b);\n",
       "            \n",
       "        \n",
       "\n",
       "        marker_9ed1fbd2ef4857255e45fdb18c6665df.bindPopup(popup_1a4358fe8d4bd4af01145f8a4faea706)\n",
       "        ;\n",
       "\n",
       "        \n",
       "    \n",
       "    \n",
       "            var marker_f9b6ef112e5efc1e2343cf1c5f39e2ed = L.marker(\n",
       "                [-15.90217438952289, -48.05847149849638],\n",
       "                {}\n",
       "            ).addTo(map_376b41dd2b45b0aa90e868ecebfd6a88);\n",
       "        \n",
       "    \n",
       "        var popup_ea5aad0ceaadc8ac21ccb2a60f2f1006 = L.popup({&quot;maxWidth&quot;: &quot;100%&quot;});\n",
       "\n",
       "        \n",
       "            \n",
       "                var html_febd44893f69007b0c75ccd73aad94b1 = $(`&lt;div id=&quot;html_febd44893f69007b0c75ccd73aad94b1&quot; style=&quot;width: 100.0%; height: 100.0%;&quot;&gt;3909&lt;/div&gt;`)[0];\n",
       "                popup_ea5aad0ceaadc8ac21ccb2a60f2f1006.setContent(html_febd44893f69007b0c75ccd73aad94b1);\n",
       "            \n",
       "        \n",
       "\n",
       "        marker_f9b6ef112e5efc1e2343cf1c5f39e2ed.bindPopup(popup_ea5aad0ceaadc8ac21ccb2a60f2f1006)\n",
       "        ;\n",
       "\n",
       "        \n",
       "    \n",
       "    \n",
       "            var marker_ada09a12168c62ef1eacf6bdb86faeed = L.marker(\n",
       "                [-15.901517401438511, -48.056316032829415],\n",
       "                {}\n",
       "            ).addTo(map_376b41dd2b45b0aa90e868ecebfd6a88);\n",
       "        \n",
       "    \n",
       "        var popup_52c4b10d82814ed5f19dc1e06d8fc550 = L.popup({&quot;maxWidth&quot;: &quot;100%&quot;});\n",
       "\n",
       "        \n",
       "            \n",
       "                var html_9fd0388e1d931eaaebbcd586753ca4f4 = $(`&lt;div id=&quot;html_9fd0388e1d931eaaebbcd586753ca4f4&quot; style=&quot;width: 100.0%; height: 100.0%;&quot;&gt;3910&lt;/div&gt;`)[0];\n",
       "                popup_52c4b10d82814ed5f19dc1e06d8fc550.setContent(html_9fd0388e1d931eaaebbcd586753ca4f4);\n",
       "            \n",
       "        \n",
       "\n",
       "        marker_ada09a12168c62ef1eacf6bdb86faeed.bindPopup(popup_52c4b10d82814ed5f19dc1e06d8fc550)\n",
       "        ;\n",
       "\n",
       "        \n",
       "    \n",
       "    \n",
       "            var marker_3f4423ab00b869a7c759e29382f7639e = L.marker(\n",
       "                [-15.79657539360549, -47.89113634914568],\n",
       "                {}\n",
       "            ).addTo(map_376b41dd2b45b0aa90e868ecebfd6a88);\n",
       "        \n",
       "    \n",
       "        var popup_1fea61926dcbcb7d21a8d691959f0632 = L.popup({&quot;maxWidth&quot;: &quot;100%&quot;});\n",
       "\n",
       "        \n",
       "            \n",
       "                var html_ce5fa8147d2bc77f0e44b48791dfa5a2 = $(`&lt;div id=&quot;html_ce5fa8147d2bc77f0e44b48791dfa5a2&quot; style=&quot;width: 100.0%; height: 100.0%;&quot;&gt;3579&lt;/div&gt;`)[0];\n",
       "                popup_1fea61926dcbcb7d21a8d691959f0632.setContent(html_ce5fa8147d2bc77f0e44b48791dfa5a2);\n",
       "            \n",
       "        \n",
       "\n",
       "        marker_3f4423ab00b869a7c759e29382f7639e.bindPopup(popup_1fea61926dcbcb7d21a8d691959f0632)\n",
       "        ;\n",
       "\n",
       "        \n",
       "    \n",
       "    \n",
       "            var marker_49a6af4f45f0bfe9f663749fe1c33e85 = L.marker(\n",
       "                [-15.798567538343542, -47.89219857275555],\n",
       "                {}\n",
       "            ).addTo(map_376b41dd2b45b0aa90e868ecebfd6a88);\n",
       "        \n",
       "    \n",
       "        var popup_9e3898a3d40d23ad9a1005f4eed609f6 = L.popup({&quot;maxWidth&quot;: &quot;100%&quot;});\n",
       "\n",
       "        \n",
       "            \n",
       "                var html_cce88e79d72aedb9b7c38984d5431f83 = $(`&lt;div id=&quot;html_cce88e79d72aedb9b7c38984d5431f83&quot; style=&quot;width: 100.0%; height: 100.0%;&quot;&gt;3578&lt;/div&gt;`)[0];\n",
       "                popup_9e3898a3d40d23ad9a1005f4eed609f6.setContent(html_cce88e79d72aedb9b7c38984d5431f83);\n",
       "            \n",
       "        \n",
       "\n",
       "        marker_49a6af4f45f0bfe9f663749fe1c33e85.bindPopup(popup_9e3898a3d40d23ad9a1005f4eed609f6)\n",
       "        ;\n",
       "\n",
       "        \n",
       "    \n",
       "    \n",
       "            var marker_2dc853f4ab4e9bce0beada48bd82c6d7 = L.marker(\n",
       "                [-15.823589739821033, -47.92137852239049],\n",
       "                {}\n",
       "            ).addTo(map_376b41dd2b45b0aa90e868ecebfd6a88);\n",
       "        \n",
       "    \n",
       "        var popup_b7b2f33848435199f700f13baa6b711e = L.popup({&quot;maxWidth&quot;: &quot;100%&quot;});\n",
       "\n",
       "        \n",
       "            \n",
       "                var html_bb5c571d5f046a913324c194b69d1158 = $(`&lt;div id=&quot;html_bb5c571d5f046a913324c194b69d1158&quot; style=&quot;width: 100.0%; height: 100.0%;&quot;&gt;3567&lt;/div&gt;`)[0];\n",
       "                popup_b7b2f33848435199f700f13baa6b711e.setContent(html_bb5c571d5f046a913324c194b69d1158);\n",
       "            \n",
       "        \n",
       "\n",
       "        marker_2dc853f4ab4e9bce0beada48bd82c6d7.bindPopup(popup_b7b2f33848435199f700f13baa6b711e)\n",
       "        ;\n",
       "\n",
       "        \n",
       "    \n",
       "    \n",
       "            var marker_b5e0e736fb924a475e2e39fc744a1813 = L.marker(\n",
       "                [-15.825534276356807, -47.92407131326225],\n",
       "                {}\n",
       "            ).addTo(map_376b41dd2b45b0aa90e868ecebfd6a88);\n",
       "        \n",
       "    \n",
       "        var popup_cb5d7e2f9161187ac0645dc49c524e19 = L.popup({&quot;maxWidth&quot;: &quot;100%&quot;});\n",
       "\n",
       "        \n",
       "            \n",
       "                var html_62b4bfe05e064781110d7f6c7fa687b3 = $(`&lt;div id=&quot;html_62b4bfe05e064781110d7f6c7fa687b3&quot; style=&quot;width: 100.0%; height: 100.0%;&quot;&gt;3566&lt;/div&gt;`)[0];\n",
       "                popup_cb5d7e2f9161187ac0645dc49c524e19.setContent(html_62b4bfe05e064781110d7f6c7fa687b3);\n",
       "            \n",
       "        \n",
       "\n",
       "        marker_b5e0e736fb924a475e2e39fc744a1813.bindPopup(popup_cb5d7e2f9161187ac0645dc49c524e19)\n",
       "        ;\n",
       "\n",
       "        \n",
       "    \n",
       "    \n",
       "            var marker_d15b897909e3106a5baefbb5510a44df = L.marker(\n",
       "                [-15.827472215930385, -47.92675051633629],\n",
       "                {}\n",
       "            ).addTo(map_376b41dd2b45b0aa90e868ecebfd6a88);\n",
       "        \n",
       "    \n",
       "        var popup_673bd976ea58e6134f46a2957169e870 = L.popup({&quot;maxWidth&quot;: &quot;100%&quot;});\n",
       "\n",
       "        \n",
       "            \n",
       "                var html_b51c7eb1c704a0eb28baedaaef9bda62 = $(`&lt;div id=&quot;html_b51c7eb1c704a0eb28baedaaef9bda62&quot; style=&quot;width: 100.0%; height: 100.0%;&quot;&gt;3565&lt;/div&gt;`)[0];\n",
       "                popup_673bd976ea58e6134f46a2957169e870.setContent(html_b51c7eb1c704a0eb28baedaaef9bda62);\n",
       "            \n",
       "        \n",
       "\n",
       "        marker_d15b897909e3106a5baefbb5510a44df.bindPopup(popup_673bd976ea58e6134f46a2957169e870)\n",
       "        ;\n",
       "\n",
       "        \n",
       "    \n",
       "    \n",
       "            var marker_aa3a2da598e3688539f8e5696b842450 = L.marker(\n",
       "                [-15.808200459104249, -47.90064052596685],\n",
       "                {}\n",
       "            ).addTo(map_376b41dd2b45b0aa90e868ecebfd6a88);\n",
       "        \n",
       "    \n",
       "        var popup_c018c3345635cd32b2ee2841399434f6 = L.popup({&quot;maxWidth&quot;: &quot;100%&quot;});\n",
       "\n",
       "        \n",
       "            \n",
       "                var html_deb5f306272f9ff5097dd1300e5a3e51 = $(`&lt;div id=&quot;html_deb5f306272f9ff5097dd1300e5a3e51&quot; style=&quot;width: 100.0%; height: 100.0%;&quot;&gt;3574&lt;/div&gt;`)[0];\n",
       "                popup_c018c3345635cd32b2ee2841399434f6.setContent(html_deb5f306272f9ff5097dd1300e5a3e51);\n",
       "            \n",
       "        \n",
       "\n",
       "        marker_aa3a2da598e3688539f8e5696b842450.bindPopup(popup_c018c3345635cd32b2ee2841399434f6)\n",
       "        ;\n",
       "\n",
       "        \n",
       "    \n",
       "    \n",
       "            var marker_2c9827eecf9af6676f1512e0f1f7c51b = L.marker(\n",
       "                [-15.806247857893846, -47.898621300099805],\n",
       "                {}\n",
       "            ).addTo(map_376b41dd2b45b0aa90e868ecebfd6a88);\n",
       "        \n",
       "    \n",
       "        var popup_86587f546bde3458a945cb3ad6b6b931 = L.popup({&quot;maxWidth&quot;: &quot;100%&quot;});\n",
       "\n",
       "        \n",
       "            \n",
       "                var html_12c7d07f06cccbb86f1a5226752346e3 = $(`&lt;div id=&quot;html_12c7d07f06cccbb86f1a5226752346e3&quot; style=&quot;width: 100.0%; height: 100.0%;&quot;&gt;3575&lt;/div&gt;`)[0];\n",
       "                popup_86587f546bde3458a945cb3ad6b6b931.setContent(html_12c7d07f06cccbb86f1a5226752346e3);\n",
       "            \n",
       "        \n",
       "\n",
       "        marker_2c9827eecf9af6676f1512e0f1f7c51b.bindPopup(popup_86587f546bde3458a945cb3ad6b6b931)\n",
       "        ;\n",
       "\n",
       "        \n",
       "    \n",
       "    \n",
       "            var marker_8a209d0fbeb9472baa794f992c76d488 = L.marker(\n",
       "                [-15.811932091357574, -47.90526178698546],\n",
       "                {}\n",
       "            ).addTo(map_376b41dd2b45b0aa90e868ecebfd6a88);\n",
       "        \n",
       "    \n",
       "        var popup_077e6d507860f51be9610e7de2f9523e = L.popup({&quot;maxWidth&quot;: &quot;100%&quot;});\n",
       "\n",
       "        \n",
       "            \n",
       "                var html_a8f82e7825dd3b007bfc938a8b7d23e3 = $(`&lt;div id=&quot;html_a8f82e7825dd3b007bfc938a8b7d23e3&quot; style=&quot;width: 100.0%; height: 100.0%;&quot;&gt;3573&lt;/div&gt;`)[0];\n",
       "                popup_077e6d507860f51be9610e7de2f9523e.setContent(html_a8f82e7825dd3b007bfc938a8b7d23e3);\n",
       "            \n",
       "        \n",
       "\n",
       "        marker_8a209d0fbeb9472baa794f992c76d488.bindPopup(popup_077e6d507860f51be9610e7de2f9523e)\n",
       "        ;\n",
       "\n",
       "        \n",
       "    \n",
       "    \n",
       "            var marker_47afef0c1c787974b488dcde3049e87b = L.marker(\n",
       "                [-15.815806945688909, -47.91059247958316],\n",
       "                {}\n",
       "            ).addTo(map_376b41dd2b45b0aa90e868ecebfd6a88);\n",
       "        \n",
       "    \n",
       "        var popup_46860cd21c6fbbf007dfc19a029d48de = L.popup({&quot;maxWidth&quot;: &quot;100%&quot;});\n",
       "\n",
       "        \n",
       "            \n",
       "                var html_120f2b01da783395aa1cedff8429f055 = $(`&lt;div id=&quot;html_120f2b01da783395aa1cedff8429f055&quot; style=&quot;width: 100.0%; height: 100.0%;&quot;&gt;3571&lt;/div&gt;`)[0];\n",
       "                popup_46860cd21c6fbbf007dfc19a029d48de.setContent(html_120f2b01da783395aa1cedff8429f055);\n",
       "            \n",
       "        \n",
       "\n",
       "        marker_47afef0c1c787974b488dcde3049e87b.bindPopup(popup_46860cd21c6fbbf007dfc19a029d48de)\n",
       "        ;\n",
       "\n",
       "        \n",
       "    \n",
       "    \n",
       "            var marker_4d7dc2d5099618cb951acd2e6da362b8 = L.marker(\n",
       "                [-15.813865081730327, -47.90790781376469],\n",
       "                {}\n",
       "            ).addTo(map_376b41dd2b45b0aa90e868ecebfd6a88);\n",
       "        \n",
       "    \n",
       "        var popup_a28d7d7033bb821fd62b600c74c26e0f = L.popup({&quot;maxWidth&quot;: &quot;100%&quot;});\n",
       "\n",
       "        \n",
       "            \n",
       "                var html_986ba8da0c474e1fac3e6ac667db1381 = $(`&lt;div id=&quot;html_986ba8da0c474e1fac3e6ac667db1381&quot; style=&quot;width: 100.0%; height: 100.0%;&quot;&gt;3572&lt;/div&gt;`)[0];\n",
       "                popup_a28d7d7033bb821fd62b600c74c26e0f.setContent(html_986ba8da0c474e1fac3e6ac667db1381);\n",
       "            \n",
       "        \n",
       "\n",
       "        marker_4d7dc2d5099618cb951acd2e6da362b8.bindPopup(popup_a28d7d7033bb821fd62b600c74c26e0f)\n",
       "        ;\n",
       "\n",
       "        \n",
       "    \n",
       "    \n",
       "            var marker_b8bacd6d76a164cae51a29e43f90df08 = L.marker(\n",
       "                [-15.73541921559784, -47.897317053648564],\n",
       "                {}\n",
       "            ).addTo(map_376b41dd2b45b0aa90e868ecebfd6a88);\n",
       "        \n",
       "    \n",
       "        var popup_9c2c8b66b3619063c51e33ee84642aa0 = L.popup({&quot;maxWidth&quot;: &quot;100%&quot;});\n",
       "\n",
       "        \n",
       "            \n",
       "                var html_32980f4296b81d7fe6b5f3256060fd67 = $(`&lt;div id=&quot;html_32980f4296b81d7fe6b5f3256060fd67&quot; style=&quot;width: 100.0%; height: 100.0%;&quot;&gt;3470&lt;/div&gt;`)[0];\n",
       "                popup_9c2c8b66b3619063c51e33ee84642aa0.setContent(html_32980f4296b81d7fe6b5f3256060fd67);\n",
       "            \n",
       "        \n",
       "\n",
       "        marker_b8bacd6d76a164cae51a29e43f90df08.bindPopup(popup_9c2c8b66b3619063c51e33ee84642aa0)\n",
       "        ;\n",
       "\n",
       "        \n",
       "    \n",
       "    \n",
       "            var marker_c80b2cf14dbdc4235901388af79a2eae = L.marker(\n",
       "                [-15.737021646013647, -47.89837691322528],\n",
       "                {}\n",
       "            ).addTo(map_376b41dd2b45b0aa90e868ecebfd6a88);\n",
       "        \n",
       "    \n",
       "        var popup_30cfd4c26dd51f95a80ce22966c5626d = L.popup({&quot;maxWidth&quot;: &quot;100%&quot;});\n",
       "\n",
       "        \n",
       "            \n",
       "                var html_a81701e22fa8e0441c0f304aa648f122 = $(`&lt;div id=&quot;html_a81701e22fa8e0441c0f304aa648f122&quot; style=&quot;width: 100.0%; height: 100.0%;&quot;&gt;3520&lt;/div&gt;`)[0];\n",
       "                popup_30cfd4c26dd51f95a80ce22966c5626d.setContent(html_a81701e22fa8e0441c0f304aa648f122);\n",
       "            \n",
       "        \n",
       "\n",
       "        marker_c80b2cf14dbdc4235901388af79a2eae.bindPopup(popup_30cfd4c26dd51f95a80ce22966c5626d)\n",
       "        ;\n",
       "\n",
       "        \n",
       "    \n",
       "    \n",
       "            var marker_22177681078fa9236dd1fa2a8bdecf13 = L.marker(\n",
       "                [-15.741101319354277, -47.898045528987495],\n",
       "                {}\n",
       "            ).addTo(map_376b41dd2b45b0aa90e868ecebfd6a88);\n",
       "        \n",
       "    \n",
       "        var popup_e04555f75a65ef9556eafd88eccb0ed5 = L.popup({&quot;maxWidth&quot;: &quot;100%&quot;});\n",
       "\n",
       "        \n",
       "            \n",
       "                var html_2406fb4df35a5c2d4ed15fa8d937be6f = $(`&lt;div id=&quot;html_2406fb4df35a5c2d4ed15fa8d937be6f&quot; style=&quot;width: 100.0%; height: 100.0%;&quot;&gt;3519&lt;/div&gt;`)[0];\n",
       "                popup_e04555f75a65ef9556eafd88eccb0ed5.setContent(html_2406fb4df35a5c2d4ed15fa8d937be6f);\n",
       "            \n",
       "        \n",
       "\n",
       "        marker_22177681078fa9236dd1fa2a8bdecf13.bindPopup(popup_e04555f75a65ef9556eafd88eccb0ed5)\n",
       "        ;\n",
       "\n",
       "        \n",
       "    \n",
       "    \n",
       "            var marker_9a7b959e4f1e6860cbb42603a7068e87 = L.marker(\n",
       "                [-15.744621728383612, -47.8969247962739],\n",
       "                {}\n",
       "            ).addTo(map_376b41dd2b45b0aa90e868ecebfd6a88);\n",
       "        \n",
       "    \n",
       "        var popup_a050bbb5522c06aab278a02dd1b9a43e = L.popup({&quot;maxWidth&quot;: &quot;100%&quot;});\n",
       "\n",
       "        \n",
       "            \n",
       "                var html_05267e5494aa5eca006614e7386f86fd = $(`&lt;div id=&quot;html_05267e5494aa5eca006614e7386f86fd&quot; style=&quot;width: 100.0%; height: 100.0%;&quot;&gt;3518&lt;/div&gt;`)[0];\n",
       "                popup_a050bbb5522c06aab278a02dd1b9a43e.setContent(html_05267e5494aa5eca006614e7386f86fd);\n",
       "            \n",
       "        \n",
       "\n",
       "        marker_9a7b959e4f1e6860cbb42603a7068e87.bindPopup(popup_a050bbb5522c06aab278a02dd1b9a43e)\n",
       "        ;\n",
       "\n",
       "        \n",
       "    \n",
       "&lt;/script&gt;\n",
       "&lt;/html&gt;\" style=\"position:absolute;width:100%;height:100%;left:0;top:0;border:none !important;\" allowfullscreen webkitallowfullscreen mozallowfullscreen></iframe></div></div>"
      ],
      "text/plain": [
       "<folium.folium.Map at 0x7fab98a8ea90>"
      ]
     },
     "execution_count": 31,
     "metadata": {},
     "output_type": "execute_result"
    }
   ],
   "source": [
    "import geopandas as gpd\n",
    "from shapely.geometry import LineString, Point\n",
    "import folium\n",
    "\n",
    "# Criar o objeto Linestring\n",
    "linestringRecanto = linestringRecanto.to_crs('EPSG:4326')\n",
    "\n",
    "# Obter o objeto LineString a partir da coluna \"geometry\" do DataFrame\n",
    "linestring = linestringRecanto.geometry.iloc[0]\n",
    "\n",
    "# Lista para armazenar as paradas encontradas\n",
    "paradas_encontradas = []\n",
    "\n",
    "# Função para aproximar as coordenadas para 2 casas decimais\n",
    "\n",
    "#def aproximar_coordenadas(coord):\n",
    "#    return round(coord, )\n",
    "\n",
    "# Definir o limite de proximidade aceitável (em graus)\n",
    "limite_proximidade = 0.0002\n",
    "\n",
    "#Iterar sobre os pontos de paradas e verificar se estão próximos da Linestring\n",
    "for idx, ponto_parada in paradas.iterrows():\n",
    "    ponto = ponto_parada[\"geometry\"]\n",
    "    distancia = linestring.distance(ponto)\n",
    "    if distancia <= limite_proximidade:\n",
    "        paradas_encontradas.append(ponto_parada)\n",
    "\n",
    "\n",
    "# Criar um novo GeoDataFrame com as paradas encontradas\n",
    "gdf_paradas_encontradas = gpd.GeoDataFrame(paradas_encontradas, crs='EPSG:4326')\n",
    "display(gdf_paradas_encontradas)\n",
    "# Plotar as paradas de ônibus no mapa com o Folium\n",
    "m = folium.Map(location=[-15.76050, -47.78134], zoom_start=10)\n",
    "\n",
    "for idx, ponto_parada in gdf_paradas_encontradas.iterrows():\n",
    "    lat, lon = ponto_parada[\"geometry\"].y, ponto_parada[\"geometry\"].x\n",
    "    folium.Marker([lat, lon], popup=ponto_parada['parada']).add_to(m)\n",
    "\n",
    "# Mostrar o mapa com as paradas de ônibus\n",
    "m.save('mapa_paradas_onibus.html')\n",
    "m"
   ]
  },
  {
   "cell_type": "code",
   "execution_count": null,
   "metadata": {},
   "outputs": [
    {
     "data": {
      "text/plain": [
       "'0.018'"
      ]
     },
     "metadata": {},
     "output_type": "display_data"
    },
    {
     "data": {
      "text/plain": [
       "'0.946'"
      ]
     },
     "metadata": {},
     "output_type": "display_data"
    },
    {
     "data": {
      "text/plain": [
       "'0.373'"
      ]
     },
     "metadata": {},
     "output_type": "display_data"
    },
    {
     "data": {
      "text/plain": [
       "'503.3'"
      ]
     },
     "metadata": {},
     "output_type": "display_data"
    },
    {
     "data": {
      "text/plain": [
       "'531.1'"
      ]
     },
     "metadata": {},
     "output_type": "display_data"
    },
    {
     "data": {
      "text/plain": [
       "'0.851'"
      ]
     },
     "metadata": {},
     "output_type": "display_data"
    },
    {
     "data": {
      "text/plain": [
       "'330.1'"
      ]
     },
     "metadata": {},
     "output_type": "display_data"
    },
    {
     "data": {
      "text/plain": [
       "'0.522'"
      ]
     },
     "metadata": {},
     "output_type": "display_data"
    },
    {
     "data": {
      "text/plain": [
       "'519.3'"
      ]
     },
     "metadata": {},
     "output_type": "display_data"
    },
    {
     "data": {
      "text/plain": [
       "'0.520'"
      ]
     },
     "metadata": {},
     "output_type": "display_data"
    },
    {
     "data": {
      "text/plain": [
       "'932.4'"
      ]
     },
     "metadata": {},
     "output_type": "display_data"
    },
    {
     "data": {
      "text/plain": [
       "'0.550'"
      ]
     },
     "metadata": {},
     "output_type": "display_data"
    },
    {
     "data": {
      "text/plain": [
       "'0.853'"
      ]
     },
     "metadata": {},
     "output_type": "display_data"
    },
    {
     "data": {
      "text/plain": [
       "'0.882'"
      ]
     },
     "metadata": {},
     "output_type": "display_data"
    },
    {
     "data": {
      "text/plain": [
       "'807.4'"
      ]
     },
     "metadata": {},
     "output_type": "display_data"
    },
    {
     "data": {
      "text/plain": [
       "'617.2'"
      ]
     },
     "metadata": {},
     "output_type": "display_data"
    },
    {
     "data": {
      "text/plain": [
       "'920.4'"
      ]
     },
     "metadata": {},
     "output_type": "display_data"
    },
    {
     "data": {
      "text/plain": [
       "'0.883'"
      ]
     },
     "metadata": {},
     "output_type": "display_data"
    },
    {
     "data": {
      "text/plain": [
       "'156.7'"
      ]
     },
     "metadata": {},
     "output_type": "display_data"
    },
    {
     "data": {
      "text/plain": [
       "'1001'"
      ]
     },
     "metadata": {},
     "output_type": "display_data"
    },
    {
     "data": {
      "text/plain": [
       "'515.6'"
      ]
     },
     "metadata": {},
     "output_type": "display_data"
    },
    {
     "data": {
      "text/plain": [
       "'506.4'"
      ]
     },
     "metadata": {},
     "output_type": "display_data"
    },
    {
     "data": {
      "text/plain": [
       "'2205'"
      ]
     },
     "metadata": {},
     "output_type": "display_data"
    },
    {
     "data": {
      "text/plain": [
       "'0.958'"
      ]
     },
     "metadata": {},
     "output_type": "display_data"
    },
    {
     "data": {
      "text/plain": [
       "'0.555'"
      ]
     },
     "metadata": {},
     "output_type": "display_data"
    },
    {
     "data": {
      "text/plain": [
       "'376.2'"
      ]
     },
     "metadata": {},
     "output_type": "display_data"
    },
    {
     "data": {
      "text/plain": [
       "'759.1'"
      ]
     },
     "metadata": {},
     "output_type": "display_data"
    },
    {
     "data": {
      "text/plain": [
       "'206.9'"
      ]
     },
     "metadata": {},
     "output_type": "display_data"
    },
    {
     "data": {
      "text/plain": [
       "'504.5'"
      ]
     },
     "metadata": {},
     "output_type": "display_data"
    },
    {
     "data": {
      "text/plain": [
       "'305.4'"
      ]
     },
     "metadata": {},
     "output_type": "display_data"
    },
    {
     "data": {
      "text/plain": [
       "'0.305'"
      ]
     },
     "metadata": {},
     "output_type": "display_data"
    },
    {
     "data": {
      "text/plain": [
       "'136.9'"
      ]
     },
     "metadata": {},
     "output_type": "display_data"
    },
    {
     "data": {
      "text/plain": [
       "'300.1'"
      ]
     },
     "metadata": {},
     "output_type": "display_data"
    },
    {
     "data": {
      "text/plain": [
       "'823.2'"
      ]
     },
     "metadata": {},
     "output_type": "display_data"
    },
    {
     "data": {
      "text/plain": [
       "'0.181'"
      ]
     },
     "metadata": {},
     "output_type": "display_data"
    },
    {
     "data": {
      "text/plain": [
       "'156.9'"
      ]
     },
     "metadata": {},
     "output_type": "display_data"
    },
    {
     "data": {
      "text/plain": [
       "'0.101'"
      ]
     },
     "metadata": {},
     "output_type": "display_data"
    },
    {
     "data": {
      "text/plain": [
       "'0.322'"
      ]
     },
     "metadata": {},
     "output_type": "display_data"
    },
    {
     "data": {
      "text/plain": [
       "'0.175'"
      ]
     },
     "metadata": {},
     "output_type": "display_data"
    },
    {
     "data": {
      "text/plain": [
       "'167.1'"
      ]
     },
     "metadata": {},
     "output_type": "display_data"
    },
    {
     "data": {
      "text/plain": [
       "'0.370'"
      ]
     },
     "metadata": {},
     "output_type": "display_data"
    },
    {
     "data": {
      "text/plain": [
       "'158.3'"
      ]
     },
     "metadata": {},
     "output_type": "display_data"
    },
    {
     "data": {
      "text/plain": [
       "'348.1'"
      ]
     },
     "metadata": {},
     "output_type": "display_data"
    },
    {
     "data": {
      "text/plain": [
       "'147.2'"
      ]
     },
     "metadata": {},
     "output_type": "display_data"
    },
    {
     "data": {
      "text/plain": [
       "'807.8'"
      ]
     },
     "metadata": {},
     "output_type": "display_data"
    },
    {
     "data": {
      "text/plain": [
       "'0.624'"
      ]
     },
     "metadata": {},
     "output_type": "display_data"
    },
    {
     "data": {
      "text/plain": [
       "'0.382'"
      ]
     },
     "metadata": {},
     "output_type": "display_data"
    },
    {
     "data": {
      "text/plain": [
       "'0.394'"
      ]
     },
     "metadata": {},
     "output_type": "display_data"
    },
    {
     "data": {
      "text/plain": [
       "'557.1'"
      ]
     },
     "metadata": {},
     "output_type": "display_data"
    },
    {
     "data": {
      "text/plain": [
       "'373.2'"
      ]
     },
     "metadata": {},
     "output_type": "display_data"
    },
    {
     "data": {
      "text/plain": [
       "'761.1'"
      ]
     },
     "metadata": {},
     "output_type": "display_data"
    },
    {
     "data": {
      "text/plain": [
       "'194.1'"
      ]
     },
     "metadata": {},
     "output_type": "display_data"
    },
    {
     "data": {
      "text/plain": [
       "'501.2'"
      ]
     },
     "metadata": {},
     "output_type": "display_data"
    },
    {
     "data": {
      "text/plain": [
       "'136.6'"
      ]
     },
     "metadata": {},
     "output_type": "display_data"
    },
    {
     "data": {
      "text/plain": [
       "'0.871'"
      ]
     },
     "metadata": {},
     "output_type": "display_data"
    },
    {
     "data": {
      "text/plain": [
       "'600.2'"
      ]
     },
     "metadata": {},
     "output_type": "display_data"
    },
    {
     "data": {
      "text/plain": [
       "'519.1'"
      ]
     },
     "metadata": {},
     "output_type": "display_data"
    },
    {
     "data": {
      "text/plain": [
       "'501.3'"
      ]
     },
     "metadata": {},
     "output_type": "display_data"
    },
    {
     "data": {
      "text/plain": [
       "'322.1'"
      ]
     },
     "metadata": {},
     "output_type": "display_data"
    },
    {
     "data": {
      "text/plain": [
       "'190.2'"
      ]
     },
     "metadata": {},
     "output_type": "display_data"
    },
    {
     "data": {
      "text/plain": [
       "'844.2'"
      ]
     },
     "metadata": {},
     "output_type": "display_data"
    },
    {
     "data": {
      "text/plain": [
       "'180.2'"
      ]
     },
     "metadata": {},
     "output_type": "display_data"
    },
    {
     "data": {
      "text/plain": [
       "'396.3'"
      ]
     },
     "metadata": {},
     "output_type": "display_data"
    },
    {
     "data": {
      "text/plain": [
       "'100.8'"
      ]
     },
     "metadata": {},
     "output_type": "display_data"
    },
    {
     "data": {
      "text/plain": [
       "'413.2'"
      ]
     },
     "metadata": {},
     "output_type": "display_data"
    },
    {
     "data": {
      "text/plain": [
       "'0.420'"
      ]
     },
     "metadata": {},
     "output_type": "display_data"
    },
    {
     "data": {
      "text/plain": [
       "'0.421'"
      ]
     },
     "metadata": {},
     "output_type": "display_data"
    },
    {
     "data": {
      "text/plain": [
       "'413.4'"
      ]
     },
     "metadata": {},
     "output_type": "display_data"
    },
    {
     "data": {
      "text/plain": [
       "'136.7'"
      ]
     },
     "metadata": {},
     "output_type": "display_data"
    },
    {
     "data": {
      "text/plain": [
       "'2306'"
      ]
     },
     "metadata": {},
     "output_type": "display_data"
    },
    {
     "data": {
      "text/plain": [
       "'199.1'"
      ]
     },
     "metadata": {},
     "output_type": "display_data"
    },
    {
     "data": {
      "text/plain": [
       "'340.1'"
      ]
     },
     "metadata": {},
     "output_type": "display_data"
    },
    {
     "data": {
      "text/plain": [
       "'197.3'"
      ]
     },
     "metadata": {},
     "output_type": "display_data"
    },
    {
     "data": {
      "text/plain": [
       "'611.1'"
      ]
     },
     "metadata": {},
     "output_type": "display_data"
    },
    {
     "data": {
      "text/plain": [
       "'0.412'"
      ]
     },
     "metadata": {},
     "output_type": "display_data"
    },
    {
     "data": {
      "text/plain": [
       "'0.403'"
      ]
     },
     "metadata": {},
     "output_type": "display_data"
    },
    {
     "data": {
      "text/plain": [
       "'0.404'"
      ]
     },
     "metadata": {},
     "output_type": "display_data"
    },
    {
     "data": {
      "text/plain": [
       "'0.930'"
      ]
     },
     "metadata": {},
     "output_type": "display_data"
    },
    {
     "data": {
      "text/plain": [
       "'413.1'"
      ]
     },
     "metadata": {},
     "output_type": "display_data"
    },
    {
     "data": {
      "text/plain": [
       "'0.503'"
      ]
     },
     "metadata": {},
     "output_type": "display_data"
    },
    {
     "data": {
      "text/plain": [
       "'0.611'"
      ]
     },
     "metadata": {},
     "output_type": "display_data"
    },
    {
     "data": {
      "text/plain": [
       "'3317'"
      ]
     },
     "metadata": {},
     "output_type": "display_data"
    },
    {
     "data": {
      "text/plain": [
       "'100.9'"
      ]
     },
     "metadata": {},
     "output_type": "display_data"
    },
    {
     "data": {
      "text/plain": [
       "'0.773'"
      ]
     },
     "metadata": {},
     "output_type": "display_data"
    },
    {
     "data": {
      "text/plain": [
       "'0.884'"
      ]
     },
     "metadata": {},
     "output_type": "display_data"
    },
    {
     "data": {
      "text/plain": [
       "'638.1'"
      ]
     },
     "metadata": {},
     "output_type": "display_data"
    },
    {
     "data": {
      "text/plain": [
       "'0.819'"
      ]
     },
     "metadata": {},
     "output_type": "display_data"
    },
    {
     "data": {
      "text/plain": [
       "'0.511'"
      ]
     },
     "metadata": {},
     "output_type": "display_data"
    },
    {
     "data": {
      "text/plain": [
       "'616.3'"
      ]
     },
     "metadata": {},
     "output_type": "display_data"
    },
    {
     "data": {
      "text/plain": [
       "'392.2'"
      ]
     },
     "metadata": {},
     "output_type": "display_data"
    },
    {
     "data": {
      "text/plain": [
       "'813.2'"
      ]
     },
     "metadata": {},
     "output_type": "display_data"
    },
    {
     "data": {
      "text/plain": [
       "'630.2'"
      ]
     },
     "metadata": {},
     "output_type": "display_data"
    },
    {
     "data": {
      "text/plain": [
       "'501.7'"
      ]
     },
     "metadata": {},
     "output_type": "display_data"
    },
    {
     "data": {
      "text/plain": [
       "'3311'"
      ]
     },
     "metadata": {},
     "output_type": "display_data"
    },
    {
     "data": {
      "text/plain": [
       "'423.1'"
      ]
     },
     "metadata": {},
     "output_type": "display_data"
    },
    {
     "data": {
      "text/plain": [
       "'0.527'"
      ]
     },
     "metadata": {},
     "output_type": "display_data"
    },
    {
     "data": {
      "text/plain": [
       "'136.3'"
      ]
     },
     "metadata": {},
     "output_type": "display_data"
    },
    {
     "data": {
      "text/plain": [
       "'181.4'"
      ]
     },
     "metadata": {},
     "output_type": "display_data"
    },
    {
     "data": {
      "text/plain": [
       "'411.1'"
      ]
     },
     "metadata": {},
     "output_type": "display_data"
    },
    {
     "data": {
      "text/plain": [
       "'0.913'"
      ]
     },
     "metadata": {},
     "output_type": "display_data"
    },
    {
     "data": {
      "text/plain": [
       "'100.2'"
      ]
     },
     "metadata": {},
     "output_type": "display_data"
    },
    {
     "data": {
      "text/plain": [
       "'808.1'"
      ]
     },
     "metadata": {},
     "output_type": "display_data"
    },
    {
     "data": {
      "text/plain": [
       "'196.2'"
      ]
     },
     "metadata": {},
     "output_type": "display_data"
    },
    {
     "data": {
      "text/plain": [
       "'170.1'"
      ]
     },
     "metadata": {},
     "output_type": "display_data"
    },
    {
     "data": {
      "text/plain": [
       "'807.9'"
      ]
     },
     "metadata": {},
     "output_type": "display_data"
    },
    {
     "data": {
      "text/plain": [
       "'0.911'"
      ]
     },
     "metadata": {},
     "output_type": "display_data"
    },
    {
     "data": {
      "text/plain": [
       "'0.622'"
      ]
     },
     "metadata": {},
     "output_type": "display_data"
    },
    {
     "data": {
      "text/plain": [
       "'0.346'"
      ]
     },
     "metadata": {},
     "output_type": "display_data"
    },
    {
     "data": {
      "text/plain": [
       "'0.374'"
      ]
     },
     "metadata": {},
     "output_type": "display_data"
    },
    {
     "data": {
      "text/plain": [
       "'374.2'"
      ]
     },
     "metadata": {},
     "output_type": "display_data"
    },
    {
     "data": {
      "text/plain": [
       "'0.756'"
      ]
     },
     "metadata": {},
     "output_type": "display_data"
    },
    {
     "data": {
      "text/plain": [
       "'0.526'"
      ]
     },
     "metadata": {},
     "output_type": "display_data"
    },
    {
     "data": {
      "text/plain": [
       "'0.771'"
      ]
     },
     "metadata": {},
     "output_type": "display_data"
    },
    {
     "data": {
      "text/plain": [
       "'0.878'"
      ]
     },
     "metadata": {},
     "output_type": "display_data"
    },
    {
     "data": {
      "text/plain": [
       "'963.1'"
      ]
     },
     "metadata": {},
     "output_type": "display_data"
    },
    {
     "data": {
      "text/plain": [
       "'0.850'"
      ]
     },
     "metadata": {},
     "output_type": "display_data"
    },
    {
     "data": {
      "text/plain": [
       "'172.7'"
      ]
     },
     "metadata": {},
     "output_type": "display_data"
    },
    {
     "data": {
      "text/plain": [
       "'0.640'"
      ]
     },
     "metadata": {},
     "output_type": "display_data"
    },
    {
     "data": {
      "text/plain": [
       "'0.903'"
      ]
     },
     "metadata": {},
     "output_type": "display_data"
    },
    {
     "data": {
      "text/plain": [
       "'0.513'"
      ]
     },
     "metadata": {},
     "output_type": "display_data"
    },
    {
     "data": {
      "text/plain": [
       "'871.3'"
      ]
     },
     "metadata": {},
     "output_type": "display_data"
    },
    {
     "data": {
      "text/plain": [
       "'206.3'"
      ]
     },
     "metadata": {},
     "output_type": "display_data"
    },
    {
     "data": {
      "text/plain": [
       "'0.377'"
      ]
     },
     "metadata": {},
     "output_type": "display_data"
    },
    {
     "data": {
      "text/plain": [
       "'0.617'"
      ]
     },
     "metadata": {},
     "output_type": "display_data"
    },
    {
     "data": {
      "text/plain": [
       "'0.182'"
      ]
     },
     "metadata": {},
     "output_type": "display_data"
    },
    {
     "data": {
      "text/plain": [
       "'643.1'"
      ]
     },
     "metadata": {},
     "output_type": "display_data"
    },
    {
     "data": {
      "text/plain": [
       "'323.2'"
      ]
     },
     "metadata": {},
     "output_type": "display_data"
    },
    {
     "data": {
      "text/plain": [
       "'154.3'"
      ]
     },
     "metadata": {},
     "output_type": "display_data"
    },
    {
     "data": {
      "text/plain": [
       "'147.7'"
      ]
     },
     "metadata": {},
     "output_type": "display_data"
    },
    {
     "data": {
      "text/plain": [
       "'382.1'"
      ]
     },
     "metadata": {},
     "output_type": "display_data"
    },
    {
     "data": {
      "text/plain": [
       "'806.1'"
      ]
     },
     "metadata": {},
     "output_type": "display_data"
    },
    {
     "data": {
      "text/plain": [
       "'616.4'"
      ]
     },
     "metadata": {},
     "output_type": "display_data"
    },
    {
     "data": {
      "text/plain": [
       "'181.1'"
      ]
     },
     "metadata": {},
     "output_type": "display_data"
    },
    {
     "data": {
      "text/plain": [
       "'400.2'"
      ]
     },
     "metadata": {},
     "output_type": "display_data"
    },
    {
     "data": {
      "text/plain": [
       "'0.376'"
      ]
     },
     "metadata": {},
     "output_type": "display_data"
    },
    {
     "data": {
      "text/plain": [
       "'376.3'"
      ]
     },
     "metadata": {},
     "output_type": "display_data"
    },
    {
     "data": {
      "text/plain": [
       "'305.6'"
      ]
     },
     "metadata": {},
     "output_type": "display_data"
    },
    {
     "data": {
      "text/plain": [
       "'910.1'"
      ]
     },
     "metadata": {},
     "output_type": "display_data"
    },
    {
     "data": {
      "text/plain": [
       "'411.2'"
      ]
     },
     "metadata": {},
     "output_type": "display_data"
    },
    {
     "data": {
      "text/plain": [
       "'0.764'"
      ]
     },
     "metadata": {},
     "output_type": "display_data"
    },
    {
     "data": {
      "text/plain": [
       "'0.942'"
      ]
     },
     "metadata": {},
     "output_type": "display_data"
    },
    {
     "data": {
      "text/plain": [
       "'376.1'"
      ]
     },
     "metadata": {},
     "output_type": "display_data"
    },
    {
     "data": {
      "text/plain": [
       "'0.378'"
      ]
     },
     "metadata": {},
     "output_type": "display_data"
    },
    {
     "data": {
      "text/plain": [
       "'0.808'"
      ]
     },
     "metadata": {},
     "output_type": "display_data"
    },
    {
     "data": {
      "text/plain": [
       "'180.0'"
      ]
     },
     "metadata": {},
     "output_type": "display_data"
    },
    {
     "data": {
      "text/plain": [
       "'160.1'"
      ]
     },
     "metadata": {},
     "output_type": "display_data"
    },
    {
     "data": {
      "text/plain": [
       "'0.198'"
      ]
     },
     "metadata": {},
     "output_type": "display_data"
    },
    {
     "data": {
      "text/plain": [
       "'0.314'"
      ]
     },
     "metadata": {},
     "output_type": "display_data"
    },
    {
     "data": {
      "text/plain": [
       "'0.818'"
      ]
     },
     "metadata": {},
     "output_type": "display_data"
    },
    {
     "data": {
      "text/plain": [
       "'0.806'"
      ]
     },
     "metadata": {},
     "output_type": "display_data"
    },
    {
     "data": {
      "text/plain": [
       "'624.1'"
      ]
     },
     "metadata": {},
     "output_type": "display_data"
    },
    {
     "data": {
      "text/plain": [
       "'0.317'"
      ]
     },
     "metadata": {},
     "output_type": "display_data"
    },
    {
     "data": {
      "text/plain": [
       "'0.762'"
      ]
     },
     "metadata": {},
     "output_type": "display_data"
    },
    {
     "data": {
      "text/plain": [
       "'0.375'"
      ]
     },
     "metadata": {},
     "output_type": "display_data"
    },
    {
     "data": {
      "text/plain": [
       "'372.9'"
      ]
     },
     "metadata": {},
     "output_type": "display_data"
    },
    {
     "data": {
      "text/plain": [
       "'0.918'"
      ]
     },
     "metadata": {},
     "output_type": "display_data"
    },
    {
     "data": {
      "text/plain": [
       "'515.3'"
      ]
     },
     "metadata": {},
     "output_type": "display_data"
    },
    {
     "data": {
      "text/plain": [
       "'0.834'"
      ]
     },
     "metadata": {},
     "output_type": "display_data"
    },
    {
     "data": {
      "text/plain": [
       "'373.3'"
      ]
     },
     "metadata": {},
     "output_type": "display_data"
    },
    {
     "data": {
      "text/plain": [
       "'0.199'"
      ]
     },
     "metadata": {},
     "output_type": "display_data"
    },
    {
     "data": {
      "text/plain": [
       "'808.5'"
      ]
     },
     "metadata": {},
     "output_type": "display_data"
    },
    {
     "data": {
      "text/plain": [
       "'540.1'"
      ]
     },
     "metadata": {},
     "output_type": "display_data"
    },
    {
     "data": {
      "text/plain": [
       "'335.1'"
      ]
     },
     "metadata": {},
     "output_type": "display_data"
    },
    {
     "data": {
      "text/plain": [
       "'0.258'"
      ]
     },
     "metadata": {},
     "output_type": "display_data"
    },
    {
     "data": {
      "text/plain": [
       "'147.9'"
      ]
     },
     "metadata": {},
     "output_type": "display_data"
    },
    {
     "data": {
      "text/plain": [
       "'0.215'"
      ]
     },
     "metadata": {},
     "output_type": "display_data"
    },
    {
     "data": {
      "text/plain": [
       "'336.1'"
      ]
     },
     "metadata": {},
     "output_type": "display_data"
    },
    {
     "data": {
      "text/plain": [
       "'147.4'"
      ]
     },
     "metadata": {},
     "output_type": "display_data"
    },
    {
     "data": {
      "text/plain": [
       "'160.2'"
      ]
     },
     "metadata": {},
     "output_type": "display_data"
    },
    {
     "data": {
      "text/plain": [
       "'533.1'"
      ]
     },
     "metadata": {},
     "output_type": "display_data"
    },
    {
     "data": {
      "text/plain": [
       "'398.1'"
      ]
     },
     "metadata": {},
     "output_type": "display_data"
    },
    {
     "data": {
      "text/plain": [
       "'0.821'"
      ]
     },
     "metadata": {},
     "output_type": "display_data"
    },
    {
     "data": {
      "text/plain": [
       "'0.424'"
      ]
     },
     "metadata": {},
     "output_type": "display_data"
    },
    {
     "data": {
      "text/plain": [
       "'600.3'"
      ]
     },
     "metadata": {},
     "output_type": "display_data"
    },
    {
     "data": {
      "text/plain": [
       "'850.1'"
      ]
     },
     "metadata": {},
     "output_type": "display_data"
    },
    {
     "data": {
      "text/plain": [
       "'182.2'"
      ]
     },
     "metadata": {},
     "output_type": "display_data"
    },
    {
     "data": {
      "text/plain": [
       "'2303'"
      ]
     },
     "metadata": {},
     "output_type": "display_data"
    },
    {
     "data": {
      "text/plain": [
       "'0.153'"
      ]
     },
     "metadata": {},
     "output_type": "display_data"
    },
    {
     "data": {
      "text/plain": [
       "'336.2'"
      ]
     },
     "metadata": {},
     "output_type": "display_data"
    },
    {
     "data": {
      "text/plain": [
       "'0.380'"
      ]
     },
     "metadata": {},
     "output_type": "display_data"
    },
    {
     "data": {
      "text/plain": [
       "'386.1'"
      ]
     },
     "metadata": {},
     "output_type": "display_data"
    },
    {
     "data": {
      "text/plain": [
       "'343.2'"
      ]
     },
     "metadata": {},
     "output_type": "display_data"
    },
    {
     "data": {
      "text/plain": [
       "'504.4'"
      ]
     },
     "metadata": {},
     "output_type": "display_data"
    },
    {
     "data": {
      "text/plain": [
       "'760.1'"
      ]
     },
     "metadata": {},
     "output_type": "display_data"
    },
    {
     "data": {
      "text/plain": [
       "'825.1'"
      ]
     },
     "metadata": {},
     "output_type": "display_data"
    },
    {
     "data": {
      "text/plain": [
       "'0.768'"
      ]
     },
     "metadata": {},
     "output_type": "display_data"
    },
    {
     "data": {
      "text/plain": [
       "'0.205'"
      ]
     },
     "metadata": {},
     "output_type": "display_data"
    },
    {
     "data": {
      "text/plain": [
       "'0.234'"
      ]
     },
     "metadata": {},
     "output_type": "display_data"
    },
    {
     "data": {
      "text/plain": [
       "'0.841'"
      ]
     },
     "metadata": {},
     "output_type": "display_data"
    },
    {
     "data": {
      "text/plain": [
       "'0.331'"
      ]
     },
     "metadata": {},
     "output_type": "display_data"
    },
    {
     "data": {
      "text/plain": [
       "'0.162'"
      ]
     },
     "metadata": {},
     "output_type": "display_data"
    },
    {
     "data": {
      "text/plain": [
       "'3312'"
      ]
     },
     "metadata": {},
     "output_type": "display_data"
    },
    {
     "data": {
      "text/plain": [
       "'942.2'"
      ]
     },
     "metadata": {},
     "output_type": "display_data"
    },
    {
     "data": {
      "text/plain": [
       "'604.3'"
      ]
     },
     "metadata": {},
     "output_type": "display_data"
    },
    {
     "data": {
      "text/plain": [
       "'0.525'"
      ]
     },
     "metadata": {},
     "output_type": "display_data"
    },
    {
     "data": {
      "text/plain": [
       "'0.330'"
      ]
     },
     "metadata": {},
     "output_type": "display_data"
    },
    {
     "data": {
      "text/plain": [
       "'0.631'"
      ]
     },
     "metadata": {},
     "output_type": "display_data"
    },
    {
     "data": {
      "text/plain": [
       "'0.962'"
      ]
     },
     "metadata": {},
     "output_type": "display_data"
    },
    {
     "data": {
      "text/plain": [
       "'147.3'"
      ]
     },
     "metadata": {},
     "output_type": "display_data"
    },
    {
     "data": {
      "text/plain": [
       "'616.6'"
      ]
     },
     "metadata": {},
     "output_type": "display_data"
    },
    {
     "data": {
      "text/plain": [
       "'0.185'"
      ]
     },
     "metadata": {},
     "output_type": "display_data"
    },
    {
     "data": {
      "text/plain": [
       "'100.4'"
      ]
     },
     "metadata": {},
     "output_type": "display_data"
    },
    {
     "data": {
      "text/plain": [
       "'0.953'"
      ]
     },
     "metadata": {},
     "output_type": "display_data"
    },
    {
     "data": {
      "text/plain": [
       "'367.8'"
      ]
     },
     "metadata": {},
     "output_type": "display_data"
    },
    {
     "data": {
      "text/plain": [
       "'374.1'"
      ]
     },
     "metadata": {},
     "output_type": "display_data"
    },
    {
     "data": {
      "text/plain": [
       "'640.1'"
      ]
     },
     "metadata": {},
     "output_type": "display_data"
    },
    {
     "data": {
      "text/plain": [
       "'197.1'"
      ]
     },
     "metadata": {},
     "output_type": "display_data"
    },
    {
     "data": {
      "text/plain": [
       "'0.147'"
      ]
     },
     "metadata": {},
     "output_type": "display_data"
    },
    {
     "data": {
      "text/plain": [
       "'519.2'"
      ]
     },
     "metadata": {},
     "output_type": "display_data"
    },
    {
     "data": {
      "text/plain": [
       "'0.554'"
      ]
     },
     "metadata": {},
     "output_type": "display_data"
    },
    {
     "data": {
      "text/plain": [
       "'147.5'"
      ]
     },
     "metadata": {},
     "output_type": "display_data"
    },
    {
     "data": {
      "text/plain": [
       "'0.910'"
      ]
     },
     "metadata": {},
     "output_type": "display_data"
    },
    {
     "data": {
      "text/plain": [
       "'0.519'"
      ]
     },
     "metadata": {},
     "output_type": "display_data"
    },
    {
     "data": {
      "text/plain": [
       "'0.194'"
      ]
     },
     "metadata": {},
     "output_type": "display_data"
    },
    {
     "data": {
      "text/plain": [
       "'379.1'"
      ]
     },
     "metadata": {},
     "output_type": "display_data"
    },
    {
     "data": {
      "text/plain": [
       "'2202'"
      ]
     },
     "metadata": {},
     "output_type": "display_data"
    },
    {
     "data": {
      "text/plain": [
       "'630.1'"
      ]
     },
     "metadata": {},
     "output_type": "display_data"
    },
    {
     "data": {
      "text/plain": [
       "'0.781'"
      ]
     },
     "metadata": {},
     "output_type": "display_data"
    },
    {
     "data": {
      "text/plain": [
       "'0.255'"
      ]
     },
     "metadata": {},
     "output_type": "display_data"
    },
    {
     "data": {
      "text/plain": [
       "'780.1'"
      ]
     },
     "metadata": {},
     "output_type": "display_data"
    },
    {
     "data": {
      "text/plain": [
       "'0.881'"
      ]
     },
     "metadata": {},
     "output_type": "display_data"
    },
    {
     "data": {
      "text/plain": [
       "'158.4'"
      ]
     },
     "metadata": {},
     "output_type": "display_data"
    },
    {
     "data": {
      "text/plain": [
       "'389.1'"
      ]
     },
     "metadata": {},
     "output_type": "display_data"
    },
    {
     "data": {
      "text/plain": [
       "'0.310'"
      ]
     },
     "metadata": {},
     "output_type": "display_data"
    },
    {
     "data": {
      "text/plain": [
       "'640.2'"
      ]
     },
     "metadata": {},
     "output_type": "display_data"
    },
    {
     "data": {
      "text/plain": [
       "'152.3'"
      ]
     },
     "metadata": {},
     "output_type": "display_data"
    },
    {
     "data": {
      "text/plain": [
       "'188.1'"
      ]
     },
     "metadata": {},
     "output_type": "display_data"
    },
    {
     "data": {
      "text/plain": [
       "'620.1'"
      ]
     },
     "metadata": {},
     "output_type": "display_data"
    },
    {
     "data": {
      "text/plain": [
       "'132.3'"
      ]
     },
     "metadata": {},
     "output_type": "display_data"
    },
    {
     "data": {
      "text/plain": [
       "'0.400'"
      ]
     },
     "metadata": {},
     "output_type": "display_data"
    },
    {
     "data": {
      "text/plain": [
       "'0.906'"
      ]
     },
     "metadata": {},
     "output_type": "display_data"
    },
    {
     "data": {
      "text/plain": [
       "'0.638'"
      ]
     },
     "metadata": {},
     "output_type": "display_data"
    },
    {
     "data": {
      "text/plain": [
       "'805.7'"
      ]
     },
     "metadata": {},
     "output_type": "display_data"
    },
    {
     "data": {
      "text/plain": [
       "'512.1'"
      ]
     },
     "metadata": {},
     "output_type": "display_data"
    },
    {
     "data": {
      "text/plain": [
       "'0.300'"
      ]
     },
     "metadata": {},
     "output_type": "display_data"
    },
    {
     "data": {
      "text/plain": [
       "'0.516'"
      ]
     },
     "metadata": {},
     "output_type": "display_data"
    },
    {
     "data": {
      "text/plain": [
       "'3310'"
      ]
     },
     "metadata": {},
     "output_type": "display_data"
    },
    {
     "data": {
      "text/plain": [
       "'0.340'"
      ]
     },
     "metadata": {},
     "output_type": "display_data"
    },
    {
     "data": {
      "text/plain": [
       "'0.769'"
      ]
     },
     "metadata": {},
     "output_type": "display_data"
    },
    {
     "data": {
      "text/plain": [
       "'2203'"
      ]
     },
     "metadata": {},
     "output_type": "display_data"
    },
    {
     "data": {
      "text/plain": [
       "'306.5'"
      ]
     },
     "metadata": {},
     "output_type": "display_data"
    },
    {
     "data": {
      "text/plain": [
       "'0.338'"
      ]
     },
     "metadata": {},
     "output_type": "display_data"
    },
    {
     "data": {
      "text/plain": [
       "'0.216'"
      ]
     },
     "metadata": {},
     "output_type": "display_data"
    },
    {
     "data": {
      "text/plain": [
       "'0.954'"
      ]
     },
     "metadata": {},
     "output_type": "display_data"
    },
    {
     "data": {
      "text/plain": [
       "'0.405'"
      ]
     },
     "metadata": {},
     "output_type": "display_data"
    },
    {
     "data": {
      "text/plain": [
       "'0.160'"
      ]
     },
     "metadata": {},
     "output_type": "display_data"
    },
    {
     "data": {
      "text/plain": [
       "'334.4'"
      ]
     },
     "metadata": {},
     "output_type": "display_data"
    },
    {
     "data": {
      "text/plain": [
       "'0.552'"
      ]
     },
     "metadata": {},
     "output_type": "display_data"
    },
    {
     "data": {
      "text/plain": [
       "'0.324'"
      ]
     },
     "metadata": {},
     "output_type": "display_data"
    },
    {
     "data": {
      "text/plain": [
       "'0.385'"
      ]
     },
     "metadata": {},
     "output_type": "display_data"
    },
    {
     "data": {
      "text/plain": [
       "'600.8'"
      ]
     },
     "metadata": {},
     "output_type": "display_data"
    },
    {
     "data": {
      "text/plain": [
       "'206.8'"
      ]
     },
     "metadata": {},
     "output_type": "display_data"
    },
    {
     "data": {
      "text/plain": [
       "'0.763'"
      ]
     },
     "metadata": {},
     "output_type": "display_data"
    },
    {
     "data": {
      "text/plain": [
       "'0.180'"
      ]
     },
     "metadata": {},
     "output_type": "display_data"
    },
    {
     "data": {
      "text/plain": [
       "'602.1'"
      ]
     },
     "metadata": {},
     "output_type": "display_data"
    },
    {
     "data": {
      "text/plain": [
       "'932.1'"
      ]
     },
     "metadata": {},
     "output_type": "display_data"
    },
    {
     "data": {
      "text/plain": [
       "'616.5'"
      ]
     },
     "metadata": {},
     "output_type": "display_data"
    },
    {
     "data": {
      "text/plain": [
       "'0.604'"
      ]
     },
     "metadata": {},
     "output_type": "display_data"
    },
    {
     "data": {
      "text/plain": [
       "'0.605'"
      ]
     },
     "metadata": {},
     "output_type": "display_data"
    },
    {
     "data": {
      "text/plain": [
       "'0.835'"
      ]
     },
     "metadata": {},
     "output_type": "display_data"
    },
    {
     "data": {
      "text/plain": [
       "'384.1'"
      ]
     },
     "metadata": {},
     "output_type": "display_data"
    },
    {
     "data": {
      "text/plain": [
       "'0.391'"
      ]
     },
     "metadata": {},
     "output_type": "display_data"
    },
    {
     "data": {
      "text/plain": [
       "'0.616'"
      ]
     },
     "metadata": {},
     "output_type": "display_data"
    },
    {
     "data": {
      "text/plain": [
       "'616.2'"
      ]
     },
     "metadata": {},
     "output_type": "display_data"
    },
    {
     "data": {
      "text/plain": [
       "'306.2'"
      ]
     },
     "metadata": {},
     "output_type": "display_data"
    },
    {
     "data": {
      "text/plain": [
       "'844.1'"
      ]
     },
     "metadata": {},
     "output_type": "display_data"
    },
    {
     "data": {
      "text/plain": [
       "'604.1'"
      ]
     },
     "metadata": {},
     "output_type": "display_data"
    },
    {
     "data": {
      "text/plain": [
       "'604.2'"
      ]
     },
     "metadata": {},
     "output_type": "display_data"
    },
    {
     "data": {
      "text/plain": [
       "'764.2'"
      ]
     },
     "metadata": {},
     "output_type": "display_data"
    },
    {
     "data": {
      "text/plain": [
       "'932.3'"
      ]
     },
     "metadata": {},
     "output_type": "display_data"
    },
    {
     "data": {
      "text/plain": [
       "'0.517'"
      ]
     },
     "metadata": {},
     "output_type": "display_data"
    },
    {
     "data": {
      "text/plain": [
       "'0.760'"
      ]
     },
     "metadata": {},
     "output_type": "display_data"
    },
    {
     "data": {
      "text/plain": [
       "'605.1'"
      ]
     },
     "metadata": {},
     "output_type": "display_data"
    },
    {
     "data": {
      "text/plain": [
       "'515.4'"
      ]
     },
     "metadata": {},
     "output_type": "display_data"
    },
    {
     "data": {
      "text/plain": [
       "'346.1'"
      ]
     },
     "metadata": {},
     "output_type": "display_data"
    },
    {
     "data": {
      "text/plain": [
       "'550.1'"
      ]
     },
     "metadata": {},
     "output_type": "display_data"
    },
    {
     "data": {
      "text/plain": [
       "'0.907'"
      ]
     },
     "metadata": {},
     "output_type": "display_data"
    },
    {
     "data": {
      "text/plain": [
       "'380.4'"
      ]
     },
     "metadata": {},
     "output_type": "display_data"
    },
    {
     "data": {
      "text/plain": [
       "'615.1'"
      ]
     },
     "metadata": {},
     "output_type": "display_data"
    },
    {
     "data": {
      "text/plain": [
       "'0.558'"
      ]
     },
     "metadata": {},
     "output_type": "display_data"
    },
    {
     "data": {
      "text/plain": [
       "'811.1'"
      ]
     },
     "metadata": {},
     "output_type": "display_data"
    },
    {
     "data": {
      "text/plain": [
       "'902.2'"
      ]
     },
     "metadata": {},
     "output_type": "display_data"
    },
    {
     "data": {
      "text/plain": [
       "'932.2'"
      ]
     },
     "metadata": {},
     "output_type": "display_data"
    },
    {
     "data": {
      "text/plain": [
       "'0.392'"
      ]
     },
     "metadata": {},
     "output_type": "display_data"
    },
    {
     "data": {
      "text/plain": [
       "'173.1'"
      ]
     },
     "metadata": {},
     "output_type": "display_data"
    },
    {
     "data": {
      "text/plain": [
       "'0.366'"
      ]
     },
     "metadata": {},
     "output_type": "display_data"
    },
    {
     "data": {
      "text/plain": [
       "'0.334'"
      ]
     },
     "metadata": {},
     "output_type": "display_data"
    },
    {
     "data": {
      "text/plain": [
       "'0.170'"
      ]
     },
     "metadata": {},
     "output_type": "display_data"
    },
    {
     "data": {
      "text/plain": [
       "'506.0'"
      ]
     },
     "metadata": {},
     "output_type": "display_data"
    },
    {
     "data": {
      "text/plain": [
       "'0.627'"
      ]
     },
     "metadata": {},
     "output_type": "display_data"
    },
    {
     "data": {
      "text/plain": [
       "'2206'"
      ]
     },
     "metadata": {},
     "output_type": "display_data"
    },
    {
     "data": {
      "text/plain": [
       "'0.186'"
      ]
     },
     "metadata": {},
     "output_type": "display_data"
    },
    {
     "data": {
      "text/plain": [
       "'180.1'"
      ]
     },
     "metadata": {},
     "output_type": "display_data"
    },
    {
     "data": {
      "text/plain": [
       "'0.167'"
      ]
     },
     "metadata": {},
     "output_type": "display_data"
    },
    {
     "data": {
      "text/plain": [
       "'0.301'"
      ]
     },
     "metadata": {},
     "output_type": "display_data"
    },
    {
     "data": {
      "text/plain": [
       "'600.7'"
      ]
     },
     "metadata": {},
     "output_type": "display_data"
    },
    {
     "data": {
      "text/plain": [
       "'255.2'"
      ]
     },
     "metadata": {},
     "output_type": "display_data"
    },
    {
     "data": {
      "text/plain": [
       "'170.6'"
      ]
     },
     "metadata": {},
     "output_type": "display_data"
    },
    {
     "data": {
      "text/plain": [
       "'100.6'"
      ]
     },
     "metadata": {},
     "output_type": "display_data"
    },
    {
     "data": {
      "text/plain": [
       "'517.2'"
      ]
     },
     "metadata": {},
     "output_type": "display_data"
    },
    {
     "data": {
      "text/plain": [
       "'396.2'"
      ]
     },
     "metadata": {},
     "output_type": "display_data"
    },
    {
     "data": {
      "text/plain": [
       "'158.6'"
      ]
     },
     "metadata": {},
     "output_type": "display_data"
    },
    {
     "data": {
      "text/plain": [
       "'0.224'"
      ]
     },
     "metadata": {},
     "output_type": "display_data"
    },
    {
     "data": {
      "text/plain": [
       "'0.518'"
      ]
     },
     "metadata": {},
     "output_type": "display_data"
    },
    {
     "data": {
      "text/plain": [
       "'648.1'"
      ]
     },
     "metadata": {},
     "output_type": "display_data"
    },
    {
     "data": {
      "text/plain": [
       "'087.5'"
      ]
     },
     "metadata": {},
     "output_type": "display_data"
    },
    {
     "data": {
      "text/plain": [
       "'0.275'"
      ]
     },
     "metadata": {},
     "output_type": "display_data"
    },
    {
     "data": {
      "text/plain": [
       "'207.2'"
      ]
     },
     "metadata": {},
     "output_type": "display_data"
    },
    {
     "data": {
      "text/plain": [
       "'874.4'"
      ]
     },
     "metadata": {},
     "output_type": "display_data"
    },
    {
     "data": {
      "text/plain": [
       "'0.349'"
      ]
     },
     "metadata": {},
     "output_type": "display_data"
    },
    {
     "data": {
      "text/plain": [
       "'180.3'"
      ]
     },
     "metadata": {},
     "output_type": "display_data"
    },
    {
     "data": {
      "text/plain": [
       "'504.1'"
      ]
     },
     "metadata": {},
     "output_type": "display_data"
    },
    {
     "data": {
      "text/plain": [
       "'2309'"
      ]
     },
     "metadata": {},
     "output_type": "display_data"
    },
    {
     "data": {
      "text/plain": [
       "'0.531'"
      ]
     },
     "metadata": {},
     "output_type": "display_data"
    },
    {
     "data": {
      "text/plain": [
       "'0.556'"
      ]
     },
     "metadata": {},
     "output_type": "display_data"
    },
    {
     "data": {
      "text/plain": [
       "'366.5'"
      ]
     },
     "metadata": {},
     "output_type": "display_data"
    },
    {
     "data": {
      "text/plain": [
       "'0.641'"
      ]
     },
     "metadata": {},
     "output_type": "display_data"
    },
    {
     "data": {
      "text/plain": [
       "'383.3'"
      ]
     },
     "metadata": {},
     "output_type": "display_data"
    },
    {
     "data": {
      "text/plain": [
       "'616.7'"
      ]
     },
     "metadata": {},
     "output_type": "display_data"
    },
    {
     "data": {
      "text/plain": [
       "'340.3'"
      ]
     },
     "metadata": {},
     "output_type": "display_data"
    },
    {
     "data": {
      "text/plain": [
       "'380.2'"
      ]
     },
     "metadata": {},
     "output_type": "display_data"
    },
    {
     "data": {
      "text/plain": [
       "'0.312'"
      ]
     },
     "metadata": {},
     "output_type": "display_data"
    },
    {
     "data": {
      "text/plain": [
       "'0.602'"
      ]
     },
     "metadata": {},
     "output_type": "display_data"
    },
    {
     "data": {
      "text/plain": [
       "'343.6'"
      ]
     },
     "metadata": {},
     "output_type": "display_data"
    },
    {
     "data": {
      "text/plain": [
       "'865.1'"
      ]
     },
     "metadata": {},
     "output_type": "display_data"
    },
    {
     "data": {
      "text/plain": [
       "'509.1'"
      ]
     },
     "metadata": {},
     "output_type": "display_data"
    },
    {
     "data": {
      "text/plain": [
       "'2208'"
      ]
     },
     "metadata": {},
     "output_type": "display_data"
    },
    {
     "data": {
      "text/plain": [
       "'0.960'"
      ]
     },
     "metadata": {},
     "output_type": "display_data"
    },
    {
     "data": {
      "text/plain": [
       "'0.092'"
      ]
     },
     "metadata": {},
     "output_type": "display_data"
    },
    {
     "data": {
      "text/plain": [
       "'0.601'"
      ]
     },
     "metadata": {},
     "output_type": "display_data"
    },
    {
     "data": {
      "text/plain": [
       "'942.1'"
      ]
     },
     "metadata": {},
     "output_type": "display_data"
    },
    {
     "data": {
      "text/plain": [
       "'625.1'"
      ]
     },
     "metadata": {},
     "output_type": "display_data"
    },
    {
     "data": {
      "text/plain": [
       "'379.2'"
      ]
     },
     "metadata": {},
     "output_type": "display_data"
    },
    {
     "data": {
      "text/plain": [
       "'190.4'"
      ]
     },
     "metadata": {},
     "output_type": "display_data"
    },
    {
     "data": {
      "text/plain": [
       "'394.1'"
      ]
     },
     "metadata": {},
     "output_type": "display_data"
    },
    {
     "data": {
      "text/plain": [
       "'0.197'"
      ]
     },
     "metadata": {},
     "output_type": "display_data"
    },
    {
     "data": {
      "text/plain": [
       "'0.816'"
      ]
     },
     "metadata": {},
     "output_type": "display_data"
    },
    {
     "data": {
      "text/plain": [
       "'066.1'"
      ]
     },
     "metadata": {},
     "output_type": "display_data"
    },
    {
     "data": {
      "text/plain": [
       "'163.1'"
      ]
     },
     "metadata": {},
     "output_type": "display_data"
    },
    {
     "data": {
      "text/plain": [
       "'206.2'"
      ]
     },
     "metadata": {},
     "output_type": "display_data"
    },
    {
     "data": {
      "text/plain": [
       "'194.2'"
      ]
     },
     "metadata": {},
     "output_type": "display_data"
    },
    {
     "data": {
      "text/plain": [
       "'2212'"
      ]
     },
     "metadata": {},
     "output_type": "display_data"
    },
    {
     "data": {
      "text/plain": [
       "'0.195'"
      ]
     },
     "metadata": {},
     "output_type": "display_data"
    },
    {
     "data": {
      "text/plain": [
       "'2310'"
      ]
     },
     "metadata": {},
     "output_type": "display_data"
    },
    {
     "data": {
      "text/plain": [
       "'206.5'"
      ]
     },
     "metadata": {},
     "output_type": "display_data"
    },
    {
     "data": {
      "text/plain": [
       "'0.348'"
      ]
     },
     "metadata": {},
     "output_type": "display_data"
    },
    {
     "data": {
      "text/plain": [
       "'0.811'"
      ]
     },
     "metadata": {},
     "output_type": "display_data"
    },
    {
     "data": {
      "text/plain": [
       "'338.1'"
      ]
     },
     "metadata": {},
     "output_type": "display_data"
    },
    {
     "data": {
      "text/plain": [
       "'0.411'"
      ]
     },
     "metadata": {},
     "output_type": "display_data"
    },
    {
     "data": {
      "text/plain": [
       "'0.339'"
      ]
     },
     "metadata": {},
     "output_type": "display_data"
    },
    {
     "data": {
      "text/plain": [
       "'870.1'"
      ]
     },
     "metadata": {},
     "output_type": "display_data"
    },
    {
     "data": {
      "text/plain": [
       "'197.6'"
      ]
     },
     "metadata": {},
     "output_type": "display_data"
    },
    {
     "data": {
      "text/plain": [
       "'158.7'"
      ]
     },
     "metadata": {},
     "output_type": "display_data"
    },
    {
     "data": {
      "text/plain": [
       "'260.3'"
      ]
     },
     "metadata": {},
     "output_type": "display_data"
    },
    {
     "data": {
      "text/plain": [
       "'616.1'"
      ]
     },
     "metadata": {},
     "output_type": "display_data"
    },
    {
     "data": {
      "text/plain": [
       "'0.345'"
      ]
     },
     "metadata": {},
     "output_type": "display_data"
    },
    {
     "data": {
      "text/plain": [
       "'322.2'"
      ]
     },
     "metadata": {},
     "output_type": "display_data"
    },
    {
     "data": {
      "text/plain": [
       "'0.273'"
      ]
     },
     "metadata": {},
     "output_type": "display_data"
    },
    {
     "data": {
      "text/plain": [
       "'0.643'"
      ]
     },
     "metadata": {},
     "output_type": "display_data"
    },
    {
     "data": {
      "text/plain": [
       "'0.379'"
      ]
     },
     "metadata": {},
     "output_type": "display_data"
    },
    {
     "data": {
      "text/plain": [
       "'806.8'"
      ]
     },
     "metadata": {},
     "output_type": "display_data"
    },
    {
     "data": {
      "text/plain": [
       "'642.1'"
      ]
     },
     "metadata": {},
     "output_type": "display_data"
    },
    {
     "data": {
      "text/plain": [
       "'397.2'"
      ]
     },
     "metadata": {},
     "output_type": "display_data"
    },
    {
     "data": {
      "text/plain": [
       "'0.914'"
      ]
     },
     "metadata": {},
     "output_type": "display_data"
    },
    {
     "data": {
      "text/plain": [
       "'3211'"
      ]
     },
     "metadata": {},
     "output_type": "display_data"
    },
    {
     "data": {
      "text/plain": [
       "'0.196'"
      ]
     },
     "metadata": {},
     "output_type": "display_data"
    },
    {
     "data": {
      "text/plain": [
       "'0.920'"
      ]
     },
     "metadata": {},
     "output_type": "display_data"
    },
    {
     "data": {
      "text/plain": [
       "'0.176'"
      ]
     },
     "metadata": {},
     "output_type": "display_data"
    },
    {
     "data": {
      "text/plain": [
       "'313.2'"
      ]
     },
     "metadata": {},
     "output_type": "display_data"
    },
    {
     "data": {
      "text/plain": [
       "'0.761'"
      ]
     },
     "metadata": {},
     "output_type": "display_data"
    },
    {
     "data": {
      "text/plain": [
       "'0.813'"
      ]
     },
     "metadata": {},
     "output_type": "display_data"
    },
    {
     "data": {
      "text/plain": [
       "'391.3'"
      ]
     },
     "metadata": {},
     "output_type": "display_data"
    },
    {
     "data": {
      "text/plain": [
       "'0.600'"
      ]
     },
     "metadata": {},
     "output_type": "display_data"
    },
    {
     "data": {
      "text/plain": [
       "'0.620'"
      ]
     },
     "metadata": {},
     "output_type": "display_data"
    },
    {
     "data": {
      "text/plain": [
       "'603.1'"
      ]
     },
     "metadata": {},
     "output_type": "display_data"
    },
    {
     "data": {
      "text/plain": [
       "'147.6'"
      ]
     },
     "metadata": {},
     "output_type": "display_data"
    },
    {
     "data": {
      "text/plain": [
       "'2307'"
      ]
     },
     "metadata": {},
     "output_type": "display_data"
    },
    {
     "data": {
      "text/plain": [
       "'845.2'"
      ]
     },
     "metadata": {},
     "output_type": "display_data"
    },
    {
     "data": {
      "text/plain": [
       "'101.8'"
      ]
     },
     "metadata": {},
     "output_type": "display_data"
    },
    {
     "data": {
      "text/plain": [
       "'0.603'"
      ]
     },
     "metadata": {},
     "output_type": "display_data"
    },
    {
     "data": {
      "text/plain": [
       "'805.3'"
      ]
     },
     "metadata": {},
     "output_type": "display_data"
    },
    {
     "data": {
      "text/plain": [
       "'160.3'"
      ]
     },
     "metadata": {},
     "output_type": "display_data"
    },
    {
     "data": {
      "text/plain": [
       "'0.780'"
      ]
     },
     "metadata": {},
     "output_type": "display_data"
    },
    {
     "data": {
      "text/plain": [
       "'2301'"
      ]
     },
     "metadata": {},
     "output_type": "display_data"
    },
    {
     "data": {
      "text/plain": [
       "'2201'"
      ]
     },
     "metadata": {},
     "output_type": "display_data"
    },
    {
     "data": {
      "text/plain": [
       "'156.8'"
      ]
     },
     "metadata": {},
     "output_type": "display_data"
    },
    {
     "data": {
      "text/plain": [
       "'823.1'"
      ]
     },
     "metadata": {},
     "output_type": "display_data"
    },
    {
     "data": {
      "text/plain": [
       "'383.1'"
      ]
     },
     "metadata": {},
     "output_type": "display_data"
    },
    {
     "data": {
      "text/plain": [
       "'0.504'"
      ]
     },
     "metadata": {},
     "output_type": "display_data"
    },
    {
     "data": {
      "text/plain": [
       "'870.7'"
      ]
     },
     "metadata": {},
     "output_type": "display_data"
    },
    {
     "data": {
      "text/plain": [
       "'511.4'"
      ]
     },
     "metadata": {},
     "output_type": "display_data"
    },
    {
     "data": {
      "text/plain": [
       "'158.2'"
      ]
     },
     "metadata": {},
     "output_type": "display_data"
    },
    {
     "data": {
      "text/plain": [
       "'3313'"
      ]
     },
     "metadata": {},
     "output_type": "display_data"
    },
    {
     "data": {
      "text/plain": [
       "'0.648'"
      ]
     },
     "metadata": {},
     "output_type": "display_data"
    },
    {
     "data": {
      "text/plain": [
       "'0.129'"
      ]
     },
     "metadata": {},
     "output_type": "display_data"
    },
    {
     "data": {
      "text/plain": [
       "'324.1'"
      ]
     },
     "metadata": {},
     "output_type": "display_data"
    },
    {
     "data": {
      "text/plain": [
       "'0.825'"
      ]
     },
     "metadata": {},
     "output_type": "display_data"
    },
    {
     "data": {
      "text/plain": [
       "'0.902'"
      ]
     },
     "metadata": {},
     "output_type": "display_data"
    },
    {
     "data": {
      "text/plain": [
       "'600.4'"
      ]
     },
     "metadata": {},
     "output_type": "display_data"
    },
    {
     "data": {
      "text/plain": [
       "'760.2'"
      ]
     },
     "metadata": {},
     "output_type": "display_data"
    },
    {
     "data": {
      "text/plain": [
       "'366.7'"
      ]
     },
     "metadata": {},
     "output_type": "display_data"
    },
    {
     "data": {
      "text/plain": [
       "'197.5'"
      ]
     },
     "metadata": {},
     "output_type": "display_data"
    },
    {
     "data": {
      "text/plain": [
       "'531.3'"
      ]
     },
     "metadata": {},
     "output_type": "display_data"
    },
    {
     "data": {
      "text/plain": [
       "'156.1'"
      ]
     },
     "metadata": {},
     "output_type": "display_data"
    },
    {
     "data": {
      "text/plain": [
       "'306.1'"
      ]
     },
     "metadata": {},
     "output_type": "display_data"
    },
    {
     "data": {
      "text/plain": [
       "'154.2'"
      ]
     },
     "metadata": {},
     "output_type": "display_data"
    },
    {
     "data": {
      "text/plain": [
       "'205.1'"
      ]
     },
     "metadata": {},
     "output_type": "display_data"
    },
    {
     "data": {
      "text/plain": [
       "'0.372'"
      ]
     },
     "metadata": {},
     "output_type": "display_data"
    },
    {
     "data": {
      "text/plain": [
       "'0.515'"
      ]
     },
     "metadata": {},
     "output_type": "display_data"
    },
    {
     "data": {
      "text/plain": [
       "'0.810'"
      ]
     },
     "metadata": {},
     "output_type": "display_data"
    },
    {
     "data": {
      "text/plain": [
       "'0.822'"
      ]
     },
     "metadata": {},
     "output_type": "display_data"
    },
    {
     "data": {
      "text/plain": [
       "'398.3'"
      ]
     },
     "metadata": {},
     "output_type": "display_data"
    },
    {
     "data": {
      "text/plain": [
       "'2302'"
      ]
     },
     "metadata": {},
     "output_type": "display_data"
    },
    {
     "data": {
      "text/plain": [
       "'0.253'"
      ]
     },
     "metadata": {},
     "output_type": "display_data"
    },
    {
     "data": {
      "text/plain": [
       "'642.2'"
      ]
     },
     "metadata": {},
     "output_type": "display_data"
    },
    {
     "data": {
      "text/plain": [
       "'0.383'"
      ]
     },
     "metadata": {},
     "output_type": "display_data"
    },
    {
     "data": {
      "text/plain": [
       "'505.4'"
      ]
     },
     "metadata": {},
     "output_type": "display_data"
    },
    {
     "data": {
      "text/plain": [
       "'0.765'"
      ]
     },
     "metadata": {},
     "output_type": "display_data"
    },
    {
     "data": {
      "text/plain": [
       "'0.642'"
      ]
     },
     "metadata": {},
     "output_type": "display_data"
    },
    {
     "data": {
      "text/plain": [
       "'0.886'"
      ]
     },
     "metadata": {},
     "output_type": "display_data"
    },
    {
     "data": {
      "text/plain": [
       "'818.1'"
      ]
     },
     "metadata": {},
     "output_type": "display_data"
    },
    {
     "data": {
      "text/plain": [
       "'0.759'"
      ]
     },
     "metadata": {},
     "output_type": "display_data"
    },
    {
     "data": {
      "text/plain": [
       "'813.1'"
      ]
     },
     "metadata": {},
     "output_type": "display_data"
    },
    {
     "data": {
      "text/plain": [
       "'761.2'"
      ]
     },
     "metadata": {},
     "output_type": "display_data"
    },
    {
     "data": {
      "text/plain": [
       "'067.1'"
      ]
     },
     "metadata": {},
     "output_type": "display_data"
    },
    {
     "data": {
      "text/plain": [
       "'197.7'"
      ]
     },
     "metadata": {},
     "output_type": "display_data"
    },
    {
     "data": {
      "text/plain": [
       "'0.965'"
      ]
     },
     "metadata": {},
     "output_type": "display_data"
    },
    {
     "data": {
      "text/plain": [
       "'101.1'"
      ]
     },
     "metadata": {},
     "output_type": "display_data"
    },
    {
     "data": {
      "text/plain": [
       "'2308'"
      ]
     },
     "metadata": {},
     "output_type": "display_data"
    },
    {
     "data": {
      "text/plain": [
       "'872.3'"
      ]
     },
     "metadata": {},
     "output_type": "display_data"
    },
    {
     "data": {
      "text/plain": [
       "'0.158'"
      ]
     },
     "metadata": {},
     "output_type": "display_data"
    },
    {
     "data": {
      "text/plain": [
       "'0.171'"
      ]
     },
     "metadata": {},
     "output_type": "display_data"
    },
    {
     "data": {
      "text/plain": [
       "'0.397'"
      ]
     },
     "metadata": {},
     "output_type": "display_data"
    },
    {
     "data": {
      "text/plain": [
       "'0.343'"
      ]
     },
     "metadata": {},
     "output_type": "display_data"
    },
    {
     "data": {
      "text/plain": [
       "'642.3'"
      ]
     },
     "metadata": {},
     "output_type": "display_data"
    },
    {
     "data": {
      "text/plain": [
       "'0.371'"
      ]
     },
     "metadata": {},
     "output_type": "display_data"
    },
    {
     "data": {
      "text/plain": [
       "'380.3'"
      ]
     },
     "metadata": {},
     "output_type": "display_data"
    },
    {
     "data": {
      "text/plain": [
       "'366.1'"
      ]
     },
     "metadata": {},
     "output_type": "display_data"
    },
    {
     "data": {
      "text/plain": [
       "'207.3'"
      ]
     },
     "metadata": {},
     "output_type": "display_data"
    },
    {
     "data": {
      "text/plain": [
       "'0.132'"
      ]
     },
     "metadata": {},
     "output_type": "display_data"
    },
    {
     "data": {
      "text/plain": [
       "'157.9'"
      ]
     },
     "metadata": {},
     "output_type": "display_data"
    },
    {
     "data": {
      "text/plain": [
       "'600.5'"
      ]
     },
     "metadata": {},
     "output_type": "display_data"
    },
    {
     "data": {
      "text/plain": [
       "'394.4'"
      ]
     },
     "metadata": {},
     "output_type": "display_data"
    },
    {
     "data": {
      "text/plain": [
       "'0.509'"
      ]
     },
     "metadata": {},
     "output_type": "display_data"
    },
    {
     "data": {
      "text/plain": [
       "'670.3'"
      ]
     },
     "metadata": {},
     "output_type": "display_data"
    },
    {
     "data": {
      "text/plain": [
       "'158.5'"
      ]
     },
     "metadata": {},
     "output_type": "display_data"
    },
    {
     "data": {
      "text/plain": [
       "'372.2'"
      ]
     },
     "metadata": {},
     "output_type": "display_data"
    },
    {
     "data": {
      "text/plain": [
       "'0.966'"
      ]
     },
     "metadata": {},
     "output_type": "display_data"
    },
    {
     "data": {
      "text/plain": [
       "'870.9'"
      ]
     },
     "metadata": {},
     "output_type": "display_data"
    },
    {
     "data": {
      "text/plain": [
       "'0.932'"
      ]
     },
     "metadata": {},
     "output_type": "display_data"
    },
    {
     "data": {
      "text/plain": [
       "'0.306'"
      ]
     },
     "metadata": {},
     "output_type": "display_data"
    },
    {
     "data": {
      "text/plain": [
       "'0.225'"
      ]
     },
     "metadata": {},
     "output_type": "display_data"
    },
    {
     "data": {
      "text/plain": [
       "'807.1'"
      ]
     },
     "metadata": {},
     "output_type": "display_data"
    },
    {
     "data": {
      "text/plain": [
       "'501.1'"
      ]
     },
     "metadata": {},
     "output_type": "display_data"
    },
    {
     "data": {
      "text/plain": [
       "'0.845'"
      ]
     },
     "metadata": {},
     "output_type": "display_data"
    },
    {
     "data": {
      "text/plain": [
       "'2210'"
      ]
     },
     "metadata": {},
     "output_type": "display_data"
    },
    {
     "data": {
      "text/plain": [
       "'0.159'"
      ]
     },
     "metadata": {},
     "output_type": "display_data"
    },
    {
     "data": {
      "text/plain": [
       "'0.670'"
      ]
     },
     "metadata": {},
     "output_type": "display_data"
    },
    {
     "data": {
      "text/plain": [
       "'0.809'"
      ]
     },
     "metadata": {},
     "output_type": "display_data"
    },
    {
     "data": {
      "text/plain": [
       "'157.5'"
      ]
     },
     "metadata": {},
     "output_type": "display_data"
    },
    {
     "data": {
      "text/plain": [
       "'0.521'"
      ]
     },
     "metadata": {},
     "output_type": "display_data"
    },
    {
     "data": {
      "text/plain": [
       "'0.876'"
      ]
     },
     "metadata": {},
     "output_type": "display_data"
    },
    {
     "data": {
      "text/plain": [
       "'844.3'"
      ]
     },
     "metadata": {},
     "output_type": "display_data"
    },
    {
     "data": {
      "text/plain": [
       "'0.900'"
      ]
     },
     "metadata": {},
     "output_type": "display_data"
    },
    {
     "data": {
      "text/plain": [
       "'310.1'"
      ]
     },
     "metadata": {},
     "output_type": "display_data"
    },
    {
     "data": {
      "text/plain": [
       "'180.6'"
      ]
     },
     "metadata": {},
     "output_type": "display_data"
    },
    {
     "data": {
      "text/plain": [
       "'180.5'"
      ]
     },
     "metadata": {},
     "output_type": "display_data"
    },
    {
     "data": {
      "text/plain": [
       "'501.5'"
      ]
     },
     "metadata": {},
     "output_type": "display_data"
    },
    {
     "data": {
      "text/plain": [
       "'0.512'"
      ]
     },
     "metadata": {},
     "output_type": "display_data"
    },
    {
     "data": {
      "text/plain": [
       "'337.1'"
      ]
     },
     "metadata": {},
     "output_type": "display_data"
    },
    {
     "data": {
      "text/plain": [
       "'600.6'"
      ]
     },
     "metadata": {},
     "output_type": "display_data"
    },
    {
     "data": {
      "text/plain": [
       "'0.399'"
      ]
     },
     "metadata": {},
     "output_type": "display_data"
    },
    {
     "data": {
      "text/plain": [
       "'0.501'"
      ]
     },
     "metadata": {},
     "output_type": "display_data"
    },
    {
     "data": {
      "text/plain": [
       "'0.336'"
      ]
     },
     "metadata": {},
     "output_type": "display_data"
    },
    {
     "data": {
      "text/plain": [
       "'206.1'"
      ]
     },
     "metadata": {},
     "output_type": "display_data"
    },
    {
     "data": {
      "text/plain": [
       "'385.1'"
      ]
     },
     "metadata": {},
     "output_type": "display_data"
    },
    {
     "data": {
      "text/plain": [
       "'0.823'"
      ]
     },
     "metadata": {},
     "output_type": "display_data"
    },
    {
     "data": {
      "text/plain": [
       "'401.1'"
      ]
     },
     "metadata": {},
     "output_type": "display_data"
    },
    {
     "data": {
      "text/plain": [
       "'637.2'"
      ]
     },
     "metadata": {},
     "output_type": "display_data"
    },
    {
     "data": {
      "text/plain": [
       "'0.347'"
      ]
     },
     "metadata": {},
     "output_type": "display_data"
    },
    {
     "data": {
      "text/plain": [
       "'100.3'"
      ]
     },
     "metadata": {},
     "output_type": "display_data"
    },
    {
     "data": {
      "text/plain": [
       "'0.873'"
      ]
     },
     "metadata": {},
     "output_type": "display_data"
    },
    {
     "data": {
      "text/plain": [
       "'0.844'"
      ]
     },
     "metadata": {},
     "output_type": "display_data"
    },
    {
     "data": {
      "text/plain": [
       "'0.172'"
      ]
     },
     "metadata": {},
     "output_type": "display_data"
    },
    {
     "data": {
      "text/plain": [
       "'805.6'"
      ]
     },
     "metadata": {},
     "output_type": "display_data"
    },
    {
     "data": {
      "text/plain": [
       "'506.2'"
      ]
     },
     "metadata": {},
     "output_type": "display_data"
    },
    {
     "data": {
      "text/plain": [
       "'813.3'"
      ]
     },
     "metadata": {},
     "output_type": "display_data"
    }
   ],
   "source": [
    "linestringLinhas = linhas[linhas['sentido']=='IDA']\n",
    "for i in range(linestringLinhas.shape[0]):\n",
    "     line = linestringLinhas.iloc[i]\n",
    "     display(line.linha)"
   ]
  },
  {
   "cell_type": "code",
   "execution_count": null,
   "metadata": {},
   "outputs": [
    {
     "name": "stderr",
     "output_type": "stream",
     "text": [
      "/home/luiz/.pyenv/versions/3.11.3/envs/dev/lib/python3.11/site-packages/shapely/measurement.py:74: RuntimeWarning: invalid value encountered in distance\n",
      "  return lib.distance(a, b, **kwargs)\n",
      "/home/luiz/.pyenv/versions/3.11.3/envs/dev/lib/python3.11/site-packages/shapely/measurement.py:74: RuntimeWarning: invalid value encountered in distance\n",
      "  return lib.distance(a, b, **kwargs)\n",
      "/home/luiz/.pyenv/versions/3.11.3/envs/dev/lib/python3.11/site-packages/shapely/measurement.py:74: RuntimeWarning: invalid value encountered in distance\n",
      "  return lib.distance(a, b, **kwargs)\n"
     ]
    }
   ],
   "source": [
    "import geopandas as gpd\n",
    "from shapely.geometry import LineString, Point\n",
    "import folium\n",
    "import pandas as pd\n",
    "\n",
    "# Filtrando a linestring apenas pelas linhas de onibus de ida\n",
    "linestringLinhas = linhas[linhas['sentido']=='IDA']\n",
    "linestringLinhas = linestringLinhas.to_crs('EPSG:4326')\n",
    "# Criando um pandasdatagrame para armazenar todas as nossas linhas\n",
    "df = pd.DataFrame(columns=['linha', 'parada'])\n",
    "\n",
    "# Fazendo um loop para percorrer todas as linhas de onibus\n",
    "for i in range(linestringLinhas.shape[0]):\n",
    "    line = linestringLinhas.iloc[i]\n",
    "    linestring = linestringLinhas.geometry.iloc[i]   \n",
    "\n",
    "    # Criando listas para armazenar as paradas e dados dos ids da paradas encontradas\n",
    "    paradas_encontradas = []\n",
    "    data = []\n",
    "\n",
    "    limite_proximidade = 0.0013\n",
    "\n",
    "    # Iterar sobre os pontos de paradas e verificar se estão próximos da Linestring\n",
    "    for idx, ponto_parada in paradas.iterrows():\n",
    "        ponto = ponto_parada[\"geometry\"]\n",
    "        distancia = linestring.distance(ponto)\n",
    "        if distancia <= limite_proximidade:\n",
    "            paradas_encontradas.append(ponto_parada)\n",
    "\n",
    "    # Criar um novo GeoDataFrame com as paradas encontradas\n",
    "    gdf_paradas_encontradas = gpd.GeoDataFrame(paradas_encontradas, crs='EPSG:4326')\n",
    "\n",
    "    # Plotar as paradas de ônibus no mapa com o Folium\n",
    "    # m = folium.Map(location=[-15.76050, -47.78134], zoom_start=10)\n",
    "\n",
    "    for idx, ponto_parada in gdf_paradas_encontradas.iterrows():\n",
    "        lat, lon = ponto_parada[\"geometry\"].y, ponto_parada[\"geometry\"].x\n",
    "        data.append([lat, lon, ponto_parada['parada']])\n",
    "        # folium.Marker([lat, lon], popup=ponto_parada['parada']).add_to(m)\n",
    "    df.loc[i] = [line.linha, data]\n",
    "    "
   ]
  },
  {
   "cell_type": "code",
   "execution_count": null,
   "metadata": {},
   "outputs": [
    {
     "data": {
      "text/html": [
       "<div>\n",
       "<style scoped>\n",
       "    .dataframe tbody tr th:only-of-type {\n",
       "        vertical-align: middle;\n",
       "    }\n",
       "\n",
       "    .dataframe tbody tr th {\n",
       "        vertical-align: top;\n",
       "    }\n",
       "\n",
       "    .dataframe thead th {\n",
       "        text-align: right;\n",
       "    }\n",
       "</style>\n",
       "<table border=\"1\" class=\"dataframe\">\n",
       "  <thead>\n",
       "    <tr style=\"text-align: right;\">\n",
       "      <th></th>\n",
       "      <th>linha</th>\n",
       "      <th>parada</th>\n",
       "    </tr>\n",
       "  </thead>\n",
       "  <tbody>\n",
       "    <tr>\n",
       "      <th>0</th>\n",
       "      <td>0.018</td>\n",
       "      <td>[[-15.747487243955707, -47.89600866323914, 351...</td>\n",
       "    </tr>\n",
       "    <tr>\n",
       "      <th>1</th>\n",
       "      <td>0.946</td>\n",
       "      <td>[[-15.80723039956119, -47.965717691510676, 224...</td>\n",
       "    </tr>\n",
       "    <tr>\n",
       "      <th>2</th>\n",
       "      <td>0.373</td>\n",
       "      <td>[[-15.86636414076346, -47.96304244645044, 2649...</td>\n",
       "    </tr>\n",
       "    <tr>\n",
       "      <th>3</th>\n",
       "      <td>503.3</td>\n",
       "      <td>[[-15.638937404577504, -47.82260762728512, 491...</td>\n",
       "    </tr>\n",
       "    <tr>\n",
       "      <th>4</th>\n",
       "      <td>531.1</td>\n",
       "      <td>[[-15.638937404577504, -47.82260762728512, 491...</td>\n",
       "    </tr>\n",
       "    <tr>\n",
       "      <th>...</th>\n",
       "      <td>...</td>\n",
       "      <td>...</td>\n",
       "    </tr>\n",
       "    <tr>\n",
       "      <th>482</th>\n",
       "      <td>0.844</td>\n",
       "      <td>[[-15.880512000000007, -48.122922, 7626], [-15...</td>\n",
       "    </tr>\n",
       "    <tr>\n",
       "      <th>483</th>\n",
       "      <td>0.172</td>\n",
       "      <td>[[-15.86636414076346, -47.96304244645044, 2649...</td>\n",
       "    </tr>\n",
       "    <tr>\n",
       "      <th>484</th>\n",
       "      <td>805.6</td>\n",
       "      <td>[[-15.86461088791683, -48.02439841365415, 5335...</td>\n",
       "    </tr>\n",
       "    <tr>\n",
       "      <th>485</th>\n",
       "      <td>506.2</td>\n",
       "      <td>[[-15.638590438131189, -47.82156276939281, 487...</td>\n",
       "    </tr>\n",
       "    <tr>\n",
       "      <th>486</th>\n",
       "      <td>813.3</td>\n",
       "      <td>[[-15.747487243955707, -47.89600866323914, 351...</td>\n",
       "    </tr>\n",
       "  </tbody>\n",
       "</table>\n",
       "<p>487 rows × 2 columns</p>\n",
       "</div>"
      ],
      "text/plain": [
       "     linha                                             parada\n",
       "0    0.018  [[-15.747487243955707, -47.89600866323914, 351...\n",
       "1    0.946  [[-15.80723039956119, -47.965717691510676, 224...\n",
       "2    0.373  [[-15.86636414076346, -47.96304244645044, 2649...\n",
       "3    503.3  [[-15.638937404577504, -47.82260762728512, 491...\n",
       "4    531.1  [[-15.638937404577504, -47.82260762728512, 491...\n",
       "..     ...                                                ...\n",
       "482  0.844  [[-15.880512000000007, -48.122922, 7626], [-15...\n",
       "483  0.172  [[-15.86636414076346, -47.96304244645044, 2649...\n",
       "484  805.6  [[-15.86461088791683, -48.02439841365415, 5335...\n",
       "485  506.2  [[-15.638590438131189, -47.82156276939281, 487...\n",
       "486  813.3  [[-15.747487243955707, -47.89600866323914, 351...\n",
       "\n",
       "[487 rows x 2 columns]"
      ]
     },
     "execution_count": 52,
     "metadata": {},
     "output_type": "execute_result"
    }
   ],
   "source": [
    "df"
   ]
  },
  {
   "cell_type": "code",
   "execution_count": null,
   "metadata": {},
   "outputs": [
    {
     "name": "stdout",
     "output_type": "stream",
     "text": [
      "0.018\n"
     ]
    },
    {
     "data": {
      "text/plain": [
       "[[-15.747487243955707, -47.89600866323914, '3517'],\n",
       " [-15.767293, -47.788723, '7557'],\n",
       " [-15.770124999999993, -47.788733, '7558'],\n",
       " [-15.76816299999999, -47.79217, '7559'],\n",
       " [-15.765880977033055, -47.79319453626084, '6846'],\n",
       " [-15.76878769178167, -47.79181613649742, '6849'],\n",
       " [-15.770309076046575, -47.78844601977512, '6851'],\n",
       " [-15.767877939091811, -47.78840425062396, '6852'],\n",
       " [-15.76589584285575, -47.78759580681705, '6853'],\n",
       " [-15.766234532775753, -47.787170048621796, '6854'],\n",
       " [-15.801876883880325, -47.853377134770575, '3244'],\n",
       " [-15.80215197439144, -47.85334236319928, '3274'],\n",
       " [-15.809893497849329, -47.84708729749916, '2536'],\n",
       " [-15.810564155657119, -47.84685850621892, '2442'],\n",
       " [-15.736227202321027, -47.906332156391095, '6289'],\n",
       " [-15.736023802288491, -47.9043530752539, '6287'],\n",
       " [-15.772867205987303, -47.78698227588883, '6850'],\n",
       " [-15.809337079803566, -47.80146129326365, '2398'],\n",
       " [-15.803428845776875, -47.79425505968125, '2396'],\n",
       " [-15.809442370814327, -47.80092191122717, '2395'],\n",
       " [-15.803454253894726, -47.79461287922536, '2397'],\n",
       " [-15.829392241144253, -47.81058449567555, '2389'],\n",
       " [-15.829022308732215, -47.81081674479493, '2403'],\n",
       " [-15.831581136451492, -47.8129618471711, '2388'],\n",
       " [-15.831925922492013, -47.81397976927216, '2404'],\n",
       " [-15.797596184162835, -47.86710930024519, '6644'],\n",
       " [-15.799073234203481, -47.862335146055635, '3290'],\n",
       " [-15.797389090351166, -47.867738038218036, '3245'],\n",
       " [-15.795841856727913, -47.87267779975089, '3248'],\n",
       " [-15.79686846761915, -47.86937133224016, '3246'],\n",
       " [-15.796358539595555, -47.870997878546575, '3247'],\n",
       " [-15.797644419623916, -47.8669777962173, '6960'],\n",
       " [-15.797091889501296, -47.868512991348375, '6880'],\n",
       " [-15.817478071398625, -47.805750824839436, '2393'],\n",
       " [-15.813417147096223, -47.80571288393757, '2399'],\n",
       " [-15.820611014682267, -47.80540597675534, '2401'],\n",
       " [-15.822977042333191, -47.805016085485335, '2391'],\n",
       " [-15.820146118518355, -47.80504912316825, '2392'],\n",
       " [-15.812808239882703, -47.804775773344375, '2394'],\n",
       " [-15.818083977414886, -47.806039025859654, '2400'],\n",
       " [-15.826122070013904, -47.807021230860975, '2390'],\n",
       " [-15.825286390870474, -47.80676354354269, '2402'],\n",
       " [-15.818830353576622, -47.83326930713607, '2443'],\n",
       " [-15.818655006848042, -47.833018633099904, '2535'],\n",
       " [-15.814180079657813, -47.84093158466939, '3617'],\n",
       " [-15.764157999999997, -47.793713, '7560'],\n",
       " [-15.763024000000007, -47.792896, '7561'],\n",
       " [-15.761611000000006, -47.786333, '8026'],\n",
       " [-15.762654999999999, -47.785836, '7555'],\n",
       " [-15.764453999999999, -47.788622, '7556'],\n",
       " [-15.763012000000002, -47.78935, '7562'],\n",
       " [-15.763044999999995, -47.78651, '7563'],\n",
       " [-15.762564999999999, -47.784828, '7564'],\n",
       " [-15.764132965618785, -47.7859465901341, '6844'],\n",
       " [-15.764122540605399, -47.78575341137903, '6857'],\n",
       " [-15.762653033595509, -47.78497118582577, '6855'],\n",
       " [-15.762575142626542, -47.78549231060707, '6856'],\n",
       " [-15.777814000000003, -47.781592, '8023'],\n",
       " [-15.7824250556501, -47.778203171611075, '2697'],\n",
       " [-15.78228342439568, -47.7788645278897, '2715'],\n",
       " [-15.782404999999997, -47.778199, '7797'],\n",
       " [-15.780086814616286, -47.77954208413691, '2698'],\n",
       " [-15.77722244368422, -47.78126591582254, '2714'],\n",
       " [-15.779171590593384, -47.78172886813591, '2716'],\n",
       " [-15.77940771253354, -47.78071724739479, '6134'],\n",
       " [-15.831176567451147, -47.825721582213546, '2441'],\n",
       " [-15.831128089996014, -47.82619049996033, '2444'],\n",
       " [-15.79501763943123, -47.78276348911926, '2350'],\n",
       " [-15.785406445712793, -47.77728909161838, '2696'],\n",
       " [-15.83530412611058, -47.821769542188825, '2386'],\n",
       " [-15.835294075181668, -47.81849649042615, '2387'],\n",
       " [-15.833274259252423, -47.82363918031196, '2406'],\n",
       " [-15.834860487271557, -47.82222269505168, '2405'],\n",
       " [-15.833452384974414, -47.82365189827174, '2413'],\n",
       " [-15.793944423915182, -47.88278283711198, '7001'],\n",
       " [-15.79401063345237, -47.88199116081013, '3368'],\n",
       " [-15.750807913099322, -47.8949281116755, '3516'],\n",
       " [-15.753694998623457, -47.89400504430343, '3515'],\n",
       " [-15.760012169623284, -47.891976176212104, '3513'],\n",
       " [-15.757033653547683, -47.89293900668162, '3514'],\n",
       " [-15.754208960654712, -47.89424438985205, '3528'],\n",
       " [-15.75717373866217, -47.89329530076313, '3529'],\n",
       " [-15.760465433818393, -47.89223559810704, '3530'],\n",
       " [-15.750964679369993, -47.89528324932769, '3527'],\n",
       " [-15.780738695652959, -47.887459438755265, '3506'],\n",
       " [-15.780964411486119, -47.887867366820046, '3537'],\n",
       " [-15.777867601935073, -47.88808519169229, '3536'],\n",
       " [-15.777509708768566, -47.88773230535398, '3507'],\n",
       " [-15.771152364468017, -47.88868146558276, '3509'],\n",
       " [-15.774801330614789, -47.88800228388125, '3508'],\n",
       " [-15.766141701235163, -47.890017882666925, '3511'],\n",
       " [-15.763216046795371, -47.89095602356193, '3512'],\n",
       " [-15.769141094278112, -47.88915290178694, '3510'],\n",
       " [-15.763359943029167, -47.89131190194332, '3531'],\n",
       " [-15.766656694428423, -47.8902569120232, '3532'],\n",
       " [-15.76925722178799, -47.88955468811846, '3533'],\n",
       " [-15.771805359502322, -47.888934384031636, '3534'],\n",
       " [-15.7748788137897, -47.88843148773567, '3535'],\n",
       " [-15.748031643828298, -47.89622512072298, '3526'],\n",
       " [-15.789610117742354, -47.88801486157596, '3612'],\n",
       " [-15.788580267792598, -47.8895868114331, '4456'],\n",
       " [-15.790222882462139, -47.88629749039833, '3610'],\n",
       " [-15.790210572683938, -47.886399800053695, '3601'],\n",
       " [-15.791051074978341, -47.886844986747825, '3251'],\n",
       " [-15.787162382832602, -47.887918091709295, '3504'],\n",
       " [-15.783898226654156, -47.88744731247922, '3505'],\n",
       " [-15.78523008062385, -47.88797392390371, '3538'],\n",
       " [-15.78989989281705, -47.88640286552865, '6110'],\n",
       " [-15.792285428872898, -47.883009259079465, '3483'],\n",
       " [-15.79312487862179, -47.88168794730824, '3369'],\n",
       " [-15.761097194970981, -47.78061837239957, '2707'],\n",
       " [-15.759867880305864, -47.780786010975504, '2708'],\n",
       " [-15.759925179050027, -47.78222856460453, '2726'],\n",
       " [-15.793626540670312, -47.87960280836419, '3250'],\n",
       " [-15.793960955223843, -47.87573678384624, '3461'],\n",
       " [-15.794191792757108, -47.875019505378546, '3431'],\n",
       " [-15.795303775856665, -47.87438003367925, '3249'],\n",
       " [-15.734075988598928, -47.897474410279735, '3521'],\n",
       " [-15.73541921559784, -47.897317053648564, '3470'],\n",
       " [-15.734639301086698, -47.897934702982674, '3522'],\n",
       " [-15.738477194215498, -47.89929609836221, '3523'],\n",
       " [-15.737021646013647, -47.89837691322528, '3520'],\n",
       " [-15.741101319354277, -47.898045528987495, '3519'],\n",
       " [-15.741813505314967, -47.898220834748756, '3524'],\n",
       " [-15.744737354143842, -47.89728338606178, '3525'],\n",
       " [-15.744621728383612, -47.8969247962739, '3518']]"
      ]
     },
     "execution_count": 46,
     "metadata": {},
     "output_type": "execute_result"
    }
   ],
   "source": [
    "print(df.linha[0]) # linha de ida da 0.018\n",
    "df.parada[0] # Verificando os pontos de paradas com seus respectivos números. "
   ]
  },
  {
   "cell_type": "code",
   "execution_count": null,
   "metadata": {},
   "outputs": [
    {
     "data": {
      "text/plain": [
       "(126, 3)"
      ]
     },
     "execution_count": 47,
     "metadata": {},
     "output_type": "execute_result"
    }
   ],
   "source": [
    "# Trabalhando com o dataframe criado\n",
    "# Primeiro convertendo para array m*3\n",
    "import numpy as np\n",
    "a = np.array(df.parada[0])\n",
    "a.shape"
   ]
  },
  {
   "cell_type": "code",
   "execution_count": null,
   "metadata": {},
   "outputs": [
    {
     "data": {
      "text/html": [
       "<div style=\"width:100%;\"><div style=\"position:relative;width:100%;height:0;padding-bottom:60%;\"><span style=\"color:#565656\">Make this Notebook Trusted to load map: File -> Trust Notebook</span><iframe srcdoc=\"&lt;!DOCTYPE html&gt;\n",
       "&lt;html&gt;\n",
       "&lt;head&gt;\n",
       "    \n",
       "    &lt;meta http-equiv=&quot;content-type&quot; content=&quot;text/html; charset=UTF-8&quot; /&gt;\n",
       "    \n",
       "        &lt;script&gt;\n",
       "            L_NO_TOUCH = false;\n",
       "            L_DISABLE_3D = false;\n",
       "        &lt;/script&gt;\n",
       "    \n",
       "    &lt;style&gt;html, body {width: 100%;height: 100%;margin: 0;padding: 0;}&lt;/style&gt;\n",
       "    &lt;style&gt;#map {position:absolute;top:0;bottom:0;right:0;left:0;}&lt;/style&gt;\n",
       "    &lt;script src=&quot;https://cdn.jsdelivr.net/npm/leaflet@1.9.3/dist/leaflet.js&quot;&gt;&lt;/script&gt;\n",
       "    &lt;script src=&quot;https://code.jquery.com/jquery-1.12.4.min.js&quot;&gt;&lt;/script&gt;\n",
       "    &lt;script src=&quot;https://cdn.jsdelivr.net/npm/bootstrap@5.2.2/dist/js/bootstrap.bundle.min.js&quot;&gt;&lt;/script&gt;\n",
       "    &lt;script src=&quot;https://cdnjs.cloudflare.com/ajax/libs/Leaflet.awesome-markers/2.0.2/leaflet.awesome-markers.js&quot;&gt;&lt;/script&gt;\n",
       "    &lt;link rel=&quot;stylesheet&quot; href=&quot;https://cdn.jsdelivr.net/npm/leaflet@1.9.3/dist/leaflet.css&quot;/&gt;\n",
       "    &lt;link rel=&quot;stylesheet&quot; href=&quot;https://cdn.jsdelivr.net/npm/bootstrap@5.2.2/dist/css/bootstrap.min.css&quot;/&gt;\n",
       "    &lt;link rel=&quot;stylesheet&quot; href=&quot;https://netdna.bootstrapcdn.com/bootstrap/3.0.0/css/bootstrap.min.css&quot;/&gt;\n",
       "    &lt;link rel=&quot;stylesheet&quot; href=&quot;https://cdn.jsdelivr.net/npm/@fortawesome/fontawesome-free@6.2.0/css/all.min.css&quot;/&gt;\n",
       "    &lt;link rel=&quot;stylesheet&quot; href=&quot;https://cdnjs.cloudflare.com/ajax/libs/Leaflet.awesome-markers/2.0.2/leaflet.awesome-markers.css&quot;/&gt;\n",
       "    &lt;link rel=&quot;stylesheet&quot; href=&quot;https://cdn.jsdelivr.net/gh/python-visualization/folium/folium/templates/leaflet.awesome.rotate.min.css&quot;/&gt;\n",
       "    \n",
       "            &lt;meta name=&quot;viewport&quot; content=&quot;width=device-width,\n",
       "                initial-scale=1.0, maximum-scale=1.0, user-scalable=no&quot; /&gt;\n",
       "            &lt;style&gt;\n",
       "                #map_3fcae0097883a19cddc9b2b233ee663d {\n",
       "                    position: relative;\n",
       "                    width: 100.0%;\n",
       "                    height: 100.0%;\n",
       "                    left: 0.0%;\n",
       "                    top: 0.0%;\n",
       "                }\n",
       "                .leaflet-container { font-size: 1rem; }\n",
       "            &lt;/style&gt;\n",
       "        \n",
       "&lt;/head&gt;\n",
       "&lt;body&gt;\n",
       "    \n",
       "    \n",
       "            &lt;div class=&quot;folium-map&quot; id=&quot;map_3fcae0097883a19cddc9b2b233ee663d&quot; &gt;&lt;/div&gt;\n",
       "        \n",
       "&lt;/body&gt;\n",
       "&lt;script&gt;\n",
       "    \n",
       "    \n",
       "            var map_3fcae0097883a19cddc9b2b233ee663d = L.map(\n",
       "                &quot;map_3fcae0097883a19cddc9b2b233ee663d&quot;,\n",
       "                {\n",
       "                    center: [-15.747487243955707, -47.89600866323914],\n",
       "                    crs: L.CRS.EPSG3857,\n",
       "                    zoom: 13,\n",
       "                    zoomControl: true,\n",
       "                    preferCanvas: false,\n",
       "                }\n",
       "            );\n",
       "\n",
       "            \n",
       "\n",
       "        \n",
       "    \n",
       "            var tile_layer_3c6322001e48fe15bfd13325ece6ebc5 = L.tileLayer(\n",
       "                &quot;https://{s}.tile.openstreetmap.org/{z}/{x}/{y}.png&quot;,\n",
       "                {&quot;attribution&quot;: &quot;Data by \\u0026copy; \\u003ca target=\\&quot;_blank\\&quot; href=\\&quot;http://openstreetmap.org\\&quot;\\u003eOpenStreetMap\\u003c/a\\u003e, under \\u003ca target=\\&quot;_blank\\&quot; href=\\&quot;http://www.openstreetmap.org/copyright\\&quot;\\u003eODbL\\u003c/a\\u003e.&quot;, &quot;detectRetina&quot;: false, &quot;maxNativeZoom&quot;: 18, &quot;maxZoom&quot;: 18, &quot;minZoom&quot;: 0, &quot;noWrap&quot;: false, &quot;opacity&quot;: 1, &quot;subdomains&quot;: &quot;abc&quot;, &quot;tms&quot;: false}\n",
       "            ).addTo(map_3fcae0097883a19cddc9b2b233ee663d);\n",
       "        \n",
       "    \n",
       "            var marker_c5247863fbadd13c48bf8b4e566070fd = L.marker(\n",
       "                [-15.747487243955707, -47.89600866323914],\n",
       "                {}\n",
       "            ).addTo(map_3fcae0097883a19cddc9b2b233ee663d);\n",
       "        \n",
       "    \n",
       "        var popup_a181c2ae2256bbffa8f542671de40104 = L.popup({&quot;maxWidth&quot;: &quot;100%&quot;});\n",
       "\n",
       "        \n",
       "            \n",
       "                var html_0c5643269d4eb74dbd5d91820c7eb7ff = $(`&lt;div id=&quot;html_0c5643269d4eb74dbd5d91820c7eb7ff&quot; style=&quot;width: 100.0%; height: 100.0%;&quot;&gt;3517&lt;/div&gt;`)[0];\n",
       "                popup_a181c2ae2256bbffa8f542671de40104.setContent(html_0c5643269d4eb74dbd5d91820c7eb7ff);\n",
       "            \n",
       "        \n",
       "\n",
       "        marker_c5247863fbadd13c48bf8b4e566070fd.bindPopup(popup_a181c2ae2256bbffa8f542671de40104)\n",
       "        ;\n",
       "\n",
       "        \n",
       "    \n",
       "    \n",
       "            var marker_53693c0a7b19a8c03e1dd20c2bf688c9 = L.marker(\n",
       "                [-15.767293, -47.788723],\n",
       "                {}\n",
       "            ).addTo(map_3fcae0097883a19cddc9b2b233ee663d);\n",
       "        \n",
       "    \n",
       "        var popup_2e096b945d028d74caad989e504cec0c = L.popup({&quot;maxWidth&quot;: &quot;100%&quot;});\n",
       "\n",
       "        \n",
       "            \n",
       "                var html_1a893981a0a2dd4ad9e222a3a0a47f9e = $(`&lt;div id=&quot;html_1a893981a0a2dd4ad9e222a3a0a47f9e&quot; style=&quot;width: 100.0%; height: 100.0%;&quot;&gt;7557&lt;/div&gt;`)[0];\n",
       "                popup_2e096b945d028d74caad989e504cec0c.setContent(html_1a893981a0a2dd4ad9e222a3a0a47f9e);\n",
       "            \n",
       "        \n",
       "\n",
       "        marker_53693c0a7b19a8c03e1dd20c2bf688c9.bindPopup(popup_2e096b945d028d74caad989e504cec0c)\n",
       "        ;\n",
       "\n",
       "        \n",
       "    \n",
       "    \n",
       "            var marker_a596d4966d1c0eabc5f1fa4e4eaa4d4d = L.marker(\n",
       "                [-15.770124999999993, -47.788733],\n",
       "                {}\n",
       "            ).addTo(map_3fcae0097883a19cddc9b2b233ee663d);\n",
       "        \n",
       "    \n",
       "        var popup_602756581d50c151e027672d3141eae6 = L.popup({&quot;maxWidth&quot;: &quot;100%&quot;});\n",
       "\n",
       "        \n",
       "            \n",
       "                var html_69560f4c127a738b58156e7007e3b60c = $(`&lt;div id=&quot;html_69560f4c127a738b58156e7007e3b60c&quot; style=&quot;width: 100.0%; height: 100.0%;&quot;&gt;7558&lt;/div&gt;`)[0];\n",
       "                popup_602756581d50c151e027672d3141eae6.setContent(html_69560f4c127a738b58156e7007e3b60c);\n",
       "            \n",
       "        \n",
       "\n",
       "        marker_a596d4966d1c0eabc5f1fa4e4eaa4d4d.bindPopup(popup_602756581d50c151e027672d3141eae6)\n",
       "        ;\n",
       "\n",
       "        \n",
       "    \n",
       "    \n",
       "            var marker_16c45d19577644d8db8b66e66647a31a = L.marker(\n",
       "                [-15.76816299999999, -47.79217],\n",
       "                {}\n",
       "            ).addTo(map_3fcae0097883a19cddc9b2b233ee663d);\n",
       "        \n",
       "    \n",
       "        var popup_38632885bcee59b2aa679deda2efd9a2 = L.popup({&quot;maxWidth&quot;: &quot;100%&quot;});\n",
       "\n",
       "        \n",
       "            \n",
       "                var html_fa2d520185954a9cdf67f3c0daa360c1 = $(`&lt;div id=&quot;html_fa2d520185954a9cdf67f3c0daa360c1&quot; style=&quot;width: 100.0%; height: 100.0%;&quot;&gt;7559&lt;/div&gt;`)[0];\n",
       "                popup_38632885bcee59b2aa679deda2efd9a2.setContent(html_fa2d520185954a9cdf67f3c0daa360c1);\n",
       "            \n",
       "        \n",
       "\n",
       "        marker_16c45d19577644d8db8b66e66647a31a.bindPopup(popup_38632885bcee59b2aa679deda2efd9a2)\n",
       "        ;\n",
       "\n",
       "        \n",
       "    \n",
       "    \n",
       "            var marker_e9d03454bba296eeec180fd3a4330698 = L.marker(\n",
       "                [-15.765880977033055, -47.79319453626084],\n",
       "                {}\n",
       "            ).addTo(map_3fcae0097883a19cddc9b2b233ee663d);\n",
       "        \n",
       "    \n",
       "        var popup_253aa5a4999756be7e86b0d22d0b005f = L.popup({&quot;maxWidth&quot;: &quot;100%&quot;});\n",
       "\n",
       "        \n",
       "            \n",
       "                var html_f0f8c23cc1d623a79297d322d27fffda = $(`&lt;div id=&quot;html_f0f8c23cc1d623a79297d322d27fffda&quot; style=&quot;width: 100.0%; height: 100.0%;&quot;&gt;6846&lt;/div&gt;`)[0];\n",
       "                popup_253aa5a4999756be7e86b0d22d0b005f.setContent(html_f0f8c23cc1d623a79297d322d27fffda);\n",
       "            \n",
       "        \n",
       "\n",
       "        marker_e9d03454bba296eeec180fd3a4330698.bindPopup(popup_253aa5a4999756be7e86b0d22d0b005f)\n",
       "        ;\n",
       "\n",
       "        \n",
       "    \n",
       "    \n",
       "            var marker_bd4741737a255dfc05a6a80efbd8b312 = L.marker(\n",
       "                [-15.76878769178167, -47.79181613649742],\n",
       "                {}\n",
       "            ).addTo(map_3fcae0097883a19cddc9b2b233ee663d);\n",
       "        \n",
       "    \n",
       "        var popup_7e5e0bfc322c88e46f1257ac5db7af19 = L.popup({&quot;maxWidth&quot;: &quot;100%&quot;});\n",
       "\n",
       "        \n",
       "            \n",
       "                var html_0fb9178397e110562f1c845a04ff2dd7 = $(`&lt;div id=&quot;html_0fb9178397e110562f1c845a04ff2dd7&quot; style=&quot;width: 100.0%; height: 100.0%;&quot;&gt;6849&lt;/div&gt;`)[0];\n",
       "                popup_7e5e0bfc322c88e46f1257ac5db7af19.setContent(html_0fb9178397e110562f1c845a04ff2dd7);\n",
       "            \n",
       "        \n",
       "\n",
       "        marker_bd4741737a255dfc05a6a80efbd8b312.bindPopup(popup_7e5e0bfc322c88e46f1257ac5db7af19)\n",
       "        ;\n",
       "\n",
       "        \n",
       "    \n",
       "    \n",
       "            var marker_efff3a80ab2b187b938db45e6313df80 = L.marker(\n",
       "                [-15.770309076046575, -47.78844601977512],\n",
       "                {}\n",
       "            ).addTo(map_3fcae0097883a19cddc9b2b233ee663d);\n",
       "        \n",
       "    \n",
       "        var popup_887fb3979d2500721a34252db8a83edf = L.popup({&quot;maxWidth&quot;: &quot;100%&quot;});\n",
       "\n",
       "        \n",
       "            \n",
       "                var html_662e749e8433b1f0c578bdb11298517e = $(`&lt;div id=&quot;html_662e749e8433b1f0c578bdb11298517e&quot; style=&quot;width: 100.0%; height: 100.0%;&quot;&gt;6851&lt;/div&gt;`)[0];\n",
       "                popup_887fb3979d2500721a34252db8a83edf.setContent(html_662e749e8433b1f0c578bdb11298517e);\n",
       "            \n",
       "        \n",
       "\n",
       "        marker_efff3a80ab2b187b938db45e6313df80.bindPopup(popup_887fb3979d2500721a34252db8a83edf)\n",
       "        ;\n",
       "\n",
       "        \n",
       "    \n",
       "    \n",
       "            var marker_f490fdf5ffbac6acf583ba0fda40f1e0 = L.marker(\n",
       "                [-15.767877939091811, -47.78840425062396],\n",
       "                {}\n",
       "            ).addTo(map_3fcae0097883a19cddc9b2b233ee663d);\n",
       "        \n",
       "    \n",
       "        var popup_b44d685303d5462cc95e5232985df969 = L.popup({&quot;maxWidth&quot;: &quot;100%&quot;});\n",
       "\n",
       "        \n",
       "            \n",
       "                var html_70e90193278af7dacc1042c03f408051 = $(`&lt;div id=&quot;html_70e90193278af7dacc1042c03f408051&quot; style=&quot;width: 100.0%; height: 100.0%;&quot;&gt;6852&lt;/div&gt;`)[0];\n",
       "                popup_b44d685303d5462cc95e5232985df969.setContent(html_70e90193278af7dacc1042c03f408051);\n",
       "            \n",
       "        \n",
       "\n",
       "        marker_f490fdf5ffbac6acf583ba0fda40f1e0.bindPopup(popup_b44d685303d5462cc95e5232985df969)\n",
       "        ;\n",
       "\n",
       "        \n",
       "    \n",
       "    \n",
       "            var marker_9bd9fb54d0a5db5b9e1aa2118862fc82 = L.marker(\n",
       "                [-15.76589584285575, -47.78759580681705],\n",
       "                {}\n",
       "            ).addTo(map_3fcae0097883a19cddc9b2b233ee663d);\n",
       "        \n",
       "    \n",
       "        var popup_49f0d32a8cb322d86963b755b4ae7ef7 = L.popup({&quot;maxWidth&quot;: &quot;100%&quot;});\n",
       "\n",
       "        \n",
       "            \n",
       "                var html_94a9870fb01df3d25a184e06dc773a58 = $(`&lt;div id=&quot;html_94a9870fb01df3d25a184e06dc773a58&quot; style=&quot;width: 100.0%; height: 100.0%;&quot;&gt;6853&lt;/div&gt;`)[0];\n",
       "                popup_49f0d32a8cb322d86963b755b4ae7ef7.setContent(html_94a9870fb01df3d25a184e06dc773a58);\n",
       "            \n",
       "        \n",
       "\n",
       "        marker_9bd9fb54d0a5db5b9e1aa2118862fc82.bindPopup(popup_49f0d32a8cb322d86963b755b4ae7ef7)\n",
       "        ;\n",
       "\n",
       "        \n",
       "    \n",
       "    \n",
       "            var marker_6963fe72d4f4af6f84a33d3b11e4daea = L.marker(\n",
       "                [-15.766234532775753, -47.787170048621796],\n",
       "                {}\n",
       "            ).addTo(map_3fcae0097883a19cddc9b2b233ee663d);\n",
       "        \n",
       "    \n",
       "        var popup_70b3d338ff59df6439348b720b9e4d6c = L.popup({&quot;maxWidth&quot;: &quot;100%&quot;});\n",
       "\n",
       "        \n",
       "            \n",
       "                var html_9342866a4ad87b2b484f4d3e7c162db3 = $(`&lt;div id=&quot;html_9342866a4ad87b2b484f4d3e7c162db3&quot; style=&quot;width: 100.0%; height: 100.0%;&quot;&gt;6854&lt;/div&gt;`)[0];\n",
       "                popup_70b3d338ff59df6439348b720b9e4d6c.setContent(html_9342866a4ad87b2b484f4d3e7c162db3);\n",
       "            \n",
       "        \n",
       "\n",
       "        marker_6963fe72d4f4af6f84a33d3b11e4daea.bindPopup(popup_70b3d338ff59df6439348b720b9e4d6c)\n",
       "        ;\n",
       "\n",
       "        \n",
       "    \n",
       "    \n",
       "            var marker_86ad9be44d58144e6d96a7e89f452347 = L.marker(\n",
       "                [-15.801876883880325, -47.853377134770575],\n",
       "                {}\n",
       "            ).addTo(map_3fcae0097883a19cddc9b2b233ee663d);\n",
       "        \n",
       "    \n",
       "        var popup_9c78a8a489d9b09f46fb5ee0e78b8f9a = L.popup({&quot;maxWidth&quot;: &quot;100%&quot;});\n",
       "\n",
       "        \n",
       "            \n",
       "                var html_dcbee19ce2f348ccd1281bf8259830ad = $(`&lt;div id=&quot;html_dcbee19ce2f348ccd1281bf8259830ad&quot; style=&quot;width: 100.0%; height: 100.0%;&quot;&gt;3244&lt;/div&gt;`)[0];\n",
       "                popup_9c78a8a489d9b09f46fb5ee0e78b8f9a.setContent(html_dcbee19ce2f348ccd1281bf8259830ad);\n",
       "            \n",
       "        \n",
       "\n",
       "        marker_86ad9be44d58144e6d96a7e89f452347.bindPopup(popup_9c78a8a489d9b09f46fb5ee0e78b8f9a)\n",
       "        ;\n",
       "\n",
       "        \n",
       "    \n",
       "    \n",
       "            var marker_342885459481a7aae4ff348a3ebb2a36 = L.marker(\n",
       "                [-15.80215197439144, -47.85334236319928],\n",
       "                {}\n",
       "            ).addTo(map_3fcae0097883a19cddc9b2b233ee663d);\n",
       "        \n",
       "    \n",
       "        var popup_3e49324b5437b197c5a814e424680056 = L.popup({&quot;maxWidth&quot;: &quot;100%&quot;});\n",
       "\n",
       "        \n",
       "            \n",
       "                var html_f78640977f90611048a83ed4756db1cd = $(`&lt;div id=&quot;html_f78640977f90611048a83ed4756db1cd&quot; style=&quot;width: 100.0%; height: 100.0%;&quot;&gt;3274&lt;/div&gt;`)[0];\n",
       "                popup_3e49324b5437b197c5a814e424680056.setContent(html_f78640977f90611048a83ed4756db1cd);\n",
       "            \n",
       "        \n",
       "\n",
       "        marker_342885459481a7aae4ff348a3ebb2a36.bindPopup(popup_3e49324b5437b197c5a814e424680056)\n",
       "        ;\n",
       "\n",
       "        \n",
       "    \n",
       "    \n",
       "            var marker_fd492ff0602191f71dd4d789adf219bd = L.marker(\n",
       "                [-15.809893497849329, -47.84708729749916],\n",
       "                {}\n",
       "            ).addTo(map_3fcae0097883a19cddc9b2b233ee663d);\n",
       "        \n",
       "    \n",
       "        var popup_c9fefbc27ce4f36659ac9fb8d03a3665 = L.popup({&quot;maxWidth&quot;: &quot;100%&quot;});\n",
       "\n",
       "        \n",
       "            \n",
       "                var html_29e5e64357dafc0240ccf098bc7e5acd = $(`&lt;div id=&quot;html_29e5e64357dafc0240ccf098bc7e5acd&quot; style=&quot;width: 100.0%; height: 100.0%;&quot;&gt;2536&lt;/div&gt;`)[0];\n",
       "                popup_c9fefbc27ce4f36659ac9fb8d03a3665.setContent(html_29e5e64357dafc0240ccf098bc7e5acd);\n",
       "            \n",
       "        \n",
       "\n",
       "        marker_fd492ff0602191f71dd4d789adf219bd.bindPopup(popup_c9fefbc27ce4f36659ac9fb8d03a3665)\n",
       "        ;\n",
       "\n",
       "        \n",
       "    \n",
       "    \n",
       "            var marker_a693a5f65d364359964dfe564dc63975 = L.marker(\n",
       "                [-15.810564155657119, -47.84685850621892],\n",
       "                {}\n",
       "            ).addTo(map_3fcae0097883a19cddc9b2b233ee663d);\n",
       "        \n",
       "    \n",
       "        var popup_c3431fde3ed08a2069b5f2dbc2208e0c = L.popup({&quot;maxWidth&quot;: &quot;100%&quot;});\n",
       "\n",
       "        \n",
       "            \n",
       "                var html_0d249dbc67603fa2efc5d8e524d6bf8a = $(`&lt;div id=&quot;html_0d249dbc67603fa2efc5d8e524d6bf8a&quot; style=&quot;width: 100.0%; height: 100.0%;&quot;&gt;2442&lt;/div&gt;`)[0];\n",
       "                popup_c3431fde3ed08a2069b5f2dbc2208e0c.setContent(html_0d249dbc67603fa2efc5d8e524d6bf8a);\n",
       "            \n",
       "        \n",
       "\n",
       "        marker_a693a5f65d364359964dfe564dc63975.bindPopup(popup_c3431fde3ed08a2069b5f2dbc2208e0c)\n",
       "        ;\n",
       "\n",
       "        \n",
       "    \n",
       "    \n",
       "            var marker_04c62d616005d1fc6e561ce23a5997f2 = L.marker(\n",
       "                [-15.736227202321027, -47.906332156391095],\n",
       "                {}\n",
       "            ).addTo(map_3fcae0097883a19cddc9b2b233ee663d);\n",
       "        \n",
       "    \n",
       "        var popup_a56cc541e5cfa8761237d7c22e85b87b = L.popup({&quot;maxWidth&quot;: &quot;100%&quot;});\n",
       "\n",
       "        \n",
       "            \n",
       "                var html_d2716eaff69b58dc04c3dc5fac7a06ca = $(`&lt;div id=&quot;html_d2716eaff69b58dc04c3dc5fac7a06ca&quot; style=&quot;width: 100.0%; height: 100.0%;&quot;&gt;6289&lt;/div&gt;`)[0];\n",
       "                popup_a56cc541e5cfa8761237d7c22e85b87b.setContent(html_d2716eaff69b58dc04c3dc5fac7a06ca);\n",
       "            \n",
       "        \n",
       "\n",
       "        marker_04c62d616005d1fc6e561ce23a5997f2.bindPopup(popup_a56cc541e5cfa8761237d7c22e85b87b)\n",
       "        ;\n",
       "\n",
       "        \n",
       "    \n",
       "    \n",
       "            var marker_4ebe4e525b9b9943902b06f54446a9ef = L.marker(\n",
       "                [-15.736023802288491, -47.9043530752539],\n",
       "                {}\n",
       "            ).addTo(map_3fcae0097883a19cddc9b2b233ee663d);\n",
       "        \n",
       "    \n",
       "        var popup_df88f299f53093a8bceadd1466337008 = L.popup({&quot;maxWidth&quot;: &quot;100%&quot;});\n",
       "\n",
       "        \n",
       "            \n",
       "                var html_065110ec66a204a5ece2c11ae69888c4 = $(`&lt;div id=&quot;html_065110ec66a204a5ece2c11ae69888c4&quot; style=&quot;width: 100.0%; height: 100.0%;&quot;&gt;6287&lt;/div&gt;`)[0];\n",
       "                popup_df88f299f53093a8bceadd1466337008.setContent(html_065110ec66a204a5ece2c11ae69888c4);\n",
       "            \n",
       "        \n",
       "\n",
       "        marker_4ebe4e525b9b9943902b06f54446a9ef.bindPopup(popup_df88f299f53093a8bceadd1466337008)\n",
       "        ;\n",
       "\n",
       "        \n",
       "    \n",
       "    \n",
       "            var marker_b65abbc7d257dca775f9b89b25f11f80 = L.marker(\n",
       "                [-15.772867205987303, -47.78698227588883],\n",
       "                {}\n",
       "            ).addTo(map_3fcae0097883a19cddc9b2b233ee663d);\n",
       "        \n",
       "    \n",
       "        var popup_a1b14e6462c8d1add46bba0b3a2989d8 = L.popup({&quot;maxWidth&quot;: &quot;100%&quot;});\n",
       "\n",
       "        \n",
       "            \n",
       "                var html_045ad092fdf1bd3fab2cf139951d7e83 = $(`&lt;div id=&quot;html_045ad092fdf1bd3fab2cf139951d7e83&quot; style=&quot;width: 100.0%; height: 100.0%;&quot;&gt;6850&lt;/div&gt;`)[0];\n",
       "                popup_a1b14e6462c8d1add46bba0b3a2989d8.setContent(html_045ad092fdf1bd3fab2cf139951d7e83);\n",
       "            \n",
       "        \n",
       "\n",
       "        marker_b65abbc7d257dca775f9b89b25f11f80.bindPopup(popup_a1b14e6462c8d1add46bba0b3a2989d8)\n",
       "        ;\n",
       "\n",
       "        \n",
       "    \n",
       "    \n",
       "            var marker_13a92b232177bd3a693352d2911c0d8c = L.marker(\n",
       "                [-15.809337079803566, -47.80146129326365],\n",
       "                {}\n",
       "            ).addTo(map_3fcae0097883a19cddc9b2b233ee663d);\n",
       "        \n",
       "    \n",
       "        var popup_e2fa1e106f2f15aac7722e4cf1d365d8 = L.popup({&quot;maxWidth&quot;: &quot;100%&quot;});\n",
       "\n",
       "        \n",
       "            \n",
       "                var html_de4a327f134b4f09e6063d61a73f1e81 = $(`&lt;div id=&quot;html_de4a327f134b4f09e6063d61a73f1e81&quot; style=&quot;width: 100.0%; height: 100.0%;&quot;&gt;2398&lt;/div&gt;`)[0];\n",
       "                popup_e2fa1e106f2f15aac7722e4cf1d365d8.setContent(html_de4a327f134b4f09e6063d61a73f1e81);\n",
       "            \n",
       "        \n",
       "\n",
       "        marker_13a92b232177bd3a693352d2911c0d8c.bindPopup(popup_e2fa1e106f2f15aac7722e4cf1d365d8)\n",
       "        ;\n",
       "\n",
       "        \n",
       "    \n",
       "    \n",
       "            var marker_62d5e1e0c62f5c41829a1eb7a100d491 = L.marker(\n",
       "                [-15.803428845776875, -47.79425505968125],\n",
       "                {}\n",
       "            ).addTo(map_3fcae0097883a19cddc9b2b233ee663d);\n",
       "        \n",
       "    \n",
       "        var popup_b2af93ad72db9a54929db3b5098846c6 = L.popup({&quot;maxWidth&quot;: &quot;100%&quot;});\n",
       "\n",
       "        \n",
       "            \n",
       "                var html_bfa9b2d4c3d25cff3882f11ac770793e = $(`&lt;div id=&quot;html_bfa9b2d4c3d25cff3882f11ac770793e&quot; style=&quot;width: 100.0%; height: 100.0%;&quot;&gt;2396&lt;/div&gt;`)[0];\n",
       "                popup_b2af93ad72db9a54929db3b5098846c6.setContent(html_bfa9b2d4c3d25cff3882f11ac770793e);\n",
       "            \n",
       "        \n",
       "\n",
       "        marker_62d5e1e0c62f5c41829a1eb7a100d491.bindPopup(popup_b2af93ad72db9a54929db3b5098846c6)\n",
       "        ;\n",
       "\n",
       "        \n",
       "    \n",
       "    \n",
       "            var marker_8574b201d7256fdb840845dafe67ac26 = L.marker(\n",
       "                [-15.809442370814327, -47.80092191122717],\n",
       "                {}\n",
       "            ).addTo(map_3fcae0097883a19cddc9b2b233ee663d);\n",
       "        \n",
       "    \n",
       "        var popup_d36268b454b3463ccc66d99562e964f8 = L.popup({&quot;maxWidth&quot;: &quot;100%&quot;});\n",
       "\n",
       "        \n",
       "            \n",
       "                var html_96b848478e9578a0ec6a3fee09757bba = $(`&lt;div id=&quot;html_96b848478e9578a0ec6a3fee09757bba&quot; style=&quot;width: 100.0%; height: 100.0%;&quot;&gt;2395&lt;/div&gt;`)[0];\n",
       "                popup_d36268b454b3463ccc66d99562e964f8.setContent(html_96b848478e9578a0ec6a3fee09757bba);\n",
       "            \n",
       "        \n",
       "\n",
       "        marker_8574b201d7256fdb840845dafe67ac26.bindPopup(popup_d36268b454b3463ccc66d99562e964f8)\n",
       "        ;\n",
       "\n",
       "        \n",
       "    \n",
       "    \n",
       "            var marker_e40d8ac82a705a172df5c04fc807f390 = L.marker(\n",
       "                [-15.803454253894726, -47.79461287922536],\n",
       "                {}\n",
       "            ).addTo(map_3fcae0097883a19cddc9b2b233ee663d);\n",
       "        \n",
       "    \n",
       "        var popup_adb71ce084bcdab707a87ddf29e8cddf = L.popup({&quot;maxWidth&quot;: &quot;100%&quot;});\n",
       "\n",
       "        \n",
       "            \n",
       "                var html_6ec22ba461301980ffa81bb0de6bb2c6 = $(`&lt;div id=&quot;html_6ec22ba461301980ffa81bb0de6bb2c6&quot; style=&quot;width: 100.0%; height: 100.0%;&quot;&gt;2397&lt;/div&gt;`)[0];\n",
       "                popup_adb71ce084bcdab707a87ddf29e8cddf.setContent(html_6ec22ba461301980ffa81bb0de6bb2c6);\n",
       "            \n",
       "        \n",
       "\n",
       "        marker_e40d8ac82a705a172df5c04fc807f390.bindPopup(popup_adb71ce084bcdab707a87ddf29e8cddf)\n",
       "        ;\n",
       "\n",
       "        \n",
       "    \n",
       "    \n",
       "            var marker_5b029de4dbd2c838fd75700d0f2defd8 = L.marker(\n",
       "                [-15.829392241144253, -47.81058449567555],\n",
       "                {}\n",
       "            ).addTo(map_3fcae0097883a19cddc9b2b233ee663d);\n",
       "        \n",
       "    \n",
       "        var popup_feb7f8b069e8645f31f0b14a44d93746 = L.popup({&quot;maxWidth&quot;: &quot;100%&quot;});\n",
       "\n",
       "        \n",
       "            \n",
       "                var html_dcd4f557c332c8250226186cbe7dabfd = $(`&lt;div id=&quot;html_dcd4f557c332c8250226186cbe7dabfd&quot; style=&quot;width: 100.0%; height: 100.0%;&quot;&gt;2389&lt;/div&gt;`)[0];\n",
       "                popup_feb7f8b069e8645f31f0b14a44d93746.setContent(html_dcd4f557c332c8250226186cbe7dabfd);\n",
       "            \n",
       "        \n",
       "\n",
       "        marker_5b029de4dbd2c838fd75700d0f2defd8.bindPopup(popup_feb7f8b069e8645f31f0b14a44d93746)\n",
       "        ;\n",
       "\n",
       "        \n",
       "    \n",
       "    \n",
       "            var marker_2fc1c03e3862d1c7b747380723af9bf1 = L.marker(\n",
       "                [-15.829022308732215, -47.81081674479493],\n",
       "                {}\n",
       "            ).addTo(map_3fcae0097883a19cddc9b2b233ee663d);\n",
       "        \n",
       "    \n",
       "        var popup_0e385786c431cde2314e39a4a8c21239 = L.popup({&quot;maxWidth&quot;: &quot;100%&quot;});\n",
       "\n",
       "        \n",
       "            \n",
       "                var html_2207f4918153fd57c583856934287135 = $(`&lt;div id=&quot;html_2207f4918153fd57c583856934287135&quot; style=&quot;width: 100.0%; height: 100.0%;&quot;&gt;2403&lt;/div&gt;`)[0];\n",
       "                popup_0e385786c431cde2314e39a4a8c21239.setContent(html_2207f4918153fd57c583856934287135);\n",
       "            \n",
       "        \n",
       "\n",
       "        marker_2fc1c03e3862d1c7b747380723af9bf1.bindPopup(popup_0e385786c431cde2314e39a4a8c21239)\n",
       "        ;\n",
       "\n",
       "        \n",
       "    \n",
       "    \n",
       "            var marker_9ee30b2c7e1855e5f79a2f2907c44626 = L.marker(\n",
       "                [-15.831581136451492, -47.8129618471711],\n",
       "                {}\n",
       "            ).addTo(map_3fcae0097883a19cddc9b2b233ee663d);\n",
       "        \n",
       "    \n",
       "        var popup_9eeea673ec1aa13f64561e46b91db276 = L.popup({&quot;maxWidth&quot;: &quot;100%&quot;});\n",
       "\n",
       "        \n",
       "            \n",
       "                var html_414cb19a8433ec5426f6542dc9f65e22 = $(`&lt;div id=&quot;html_414cb19a8433ec5426f6542dc9f65e22&quot; style=&quot;width: 100.0%; height: 100.0%;&quot;&gt;2388&lt;/div&gt;`)[0];\n",
       "                popup_9eeea673ec1aa13f64561e46b91db276.setContent(html_414cb19a8433ec5426f6542dc9f65e22);\n",
       "            \n",
       "        \n",
       "\n",
       "        marker_9ee30b2c7e1855e5f79a2f2907c44626.bindPopup(popup_9eeea673ec1aa13f64561e46b91db276)\n",
       "        ;\n",
       "\n",
       "        \n",
       "    \n",
       "    \n",
       "            var marker_0673a041e9c5aad49285c821af7d414d = L.marker(\n",
       "                [-15.831925922492013, -47.81397976927216],\n",
       "                {}\n",
       "            ).addTo(map_3fcae0097883a19cddc9b2b233ee663d);\n",
       "        \n",
       "    \n",
       "        var popup_64a74db98bdb49e3929c38bb42dfa703 = L.popup({&quot;maxWidth&quot;: &quot;100%&quot;});\n",
       "\n",
       "        \n",
       "            \n",
       "                var html_3866a52fe759727dcf86982e8973d883 = $(`&lt;div id=&quot;html_3866a52fe759727dcf86982e8973d883&quot; style=&quot;width: 100.0%; height: 100.0%;&quot;&gt;2404&lt;/div&gt;`)[0];\n",
       "                popup_64a74db98bdb49e3929c38bb42dfa703.setContent(html_3866a52fe759727dcf86982e8973d883);\n",
       "            \n",
       "        \n",
       "\n",
       "        marker_0673a041e9c5aad49285c821af7d414d.bindPopup(popup_64a74db98bdb49e3929c38bb42dfa703)\n",
       "        ;\n",
       "\n",
       "        \n",
       "    \n",
       "    \n",
       "            var marker_e6274de64f6d8f7b321fdba38863eced = L.marker(\n",
       "                [-15.797596184162835, -47.86710930024519],\n",
       "                {}\n",
       "            ).addTo(map_3fcae0097883a19cddc9b2b233ee663d);\n",
       "        \n",
       "    \n",
       "        var popup_60c02877d9c4fe590c7b67b1e64ac83c = L.popup({&quot;maxWidth&quot;: &quot;100%&quot;});\n",
       "\n",
       "        \n",
       "            \n",
       "                var html_eee91a889a15dfd44b5db0eafd9509a3 = $(`&lt;div id=&quot;html_eee91a889a15dfd44b5db0eafd9509a3&quot; style=&quot;width: 100.0%; height: 100.0%;&quot;&gt;6644&lt;/div&gt;`)[0];\n",
       "                popup_60c02877d9c4fe590c7b67b1e64ac83c.setContent(html_eee91a889a15dfd44b5db0eafd9509a3);\n",
       "            \n",
       "        \n",
       "\n",
       "        marker_e6274de64f6d8f7b321fdba38863eced.bindPopup(popup_60c02877d9c4fe590c7b67b1e64ac83c)\n",
       "        ;\n",
       "\n",
       "        \n",
       "    \n",
       "    \n",
       "            var marker_0d482e474afaf698a4aad99dcbacbcd9 = L.marker(\n",
       "                [-15.799073234203481, -47.862335146055635],\n",
       "                {}\n",
       "            ).addTo(map_3fcae0097883a19cddc9b2b233ee663d);\n",
       "        \n",
       "    \n",
       "        var popup_5e2cc9b13925a813527553abeac9627d = L.popup({&quot;maxWidth&quot;: &quot;100%&quot;});\n",
       "\n",
       "        \n",
       "            \n",
       "                var html_7875bad6b50ef83d58517dc80a804c37 = $(`&lt;div id=&quot;html_7875bad6b50ef83d58517dc80a804c37&quot; style=&quot;width: 100.0%; height: 100.0%;&quot;&gt;3290&lt;/div&gt;`)[0];\n",
       "                popup_5e2cc9b13925a813527553abeac9627d.setContent(html_7875bad6b50ef83d58517dc80a804c37);\n",
       "            \n",
       "        \n",
       "\n",
       "        marker_0d482e474afaf698a4aad99dcbacbcd9.bindPopup(popup_5e2cc9b13925a813527553abeac9627d)\n",
       "        ;\n",
       "\n",
       "        \n",
       "    \n",
       "    \n",
       "            var marker_ee9deba24212ac728a739860aaefec6c = L.marker(\n",
       "                [-15.797389090351166, -47.867738038218036],\n",
       "                {}\n",
       "            ).addTo(map_3fcae0097883a19cddc9b2b233ee663d);\n",
       "        \n",
       "    \n",
       "        var popup_52a36630c2f2d71f3fc336806f8ec371 = L.popup({&quot;maxWidth&quot;: &quot;100%&quot;});\n",
       "\n",
       "        \n",
       "            \n",
       "                var html_c3941ef6e67a5e50d4b906279655f70e = $(`&lt;div id=&quot;html_c3941ef6e67a5e50d4b906279655f70e&quot; style=&quot;width: 100.0%; height: 100.0%;&quot;&gt;3245&lt;/div&gt;`)[0];\n",
       "                popup_52a36630c2f2d71f3fc336806f8ec371.setContent(html_c3941ef6e67a5e50d4b906279655f70e);\n",
       "            \n",
       "        \n",
       "\n",
       "        marker_ee9deba24212ac728a739860aaefec6c.bindPopup(popup_52a36630c2f2d71f3fc336806f8ec371)\n",
       "        ;\n",
       "\n",
       "        \n",
       "    \n",
       "    \n",
       "            var marker_c2ebbb7e722b40abcc318d7e9d155ca3 = L.marker(\n",
       "                [-15.795841856727913, -47.87267779975089],\n",
       "                {}\n",
       "            ).addTo(map_3fcae0097883a19cddc9b2b233ee663d);\n",
       "        \n",
       "    \n",
       "        var popup_484cb99d2b8b71cb31f614de12c084f3 = L.popup({&quot;maxWidth&quot;: &quot;100%&quot;});\n",
       "\n",
       "        \n",
       "            \n",
       "                var html_bb055cd8c26aada9764711f6c5e22be0 = $(`&lt;div id=&quot;html_bb055cd8c26aada9764711f6c5e22be0&quot; style=&quot;width: 100.0%; height: 100.0%;&quot;&gt;3248&lt;/div&gt;`)[0];\n",
       "                popup_484cb99d2b8b71cb31f614de12c084f3.setContent(html_bb055cd8c26aada9764711f6c5e22be0);\n",
       "            \n",
       "        \n",
       "\n",
       "        marker_c2ebbb7e722b40abcc318d7e9d155ca3.bindPopup(popup_484cb99d2b8b71cb31f614de12c084f3)\n",
       "        ;\n",
       "\n",
       "        \n",
       "    \n",
       "    \n",
       "            var marker_8717893d40aa1c6d2941997b22adc893 = L.marker(\n",
       "                [-15.79686846761915, -47.86937133224016],\n",
       "                {}\n",
       "            ).addTo(map_3fcae0097883a19cddc9b2b233ee663d);\n",
       "        \n",
       "    \n",
       "        var popup_f20f8102540f3296615a029be131aa32 = L.popup({&quot;maxWidth&quot;: &quot;100%&quot;});\n",
       "\n",
       "        \n",
       "            \n",
       "                var html_ec789d01acd5837934db4e9510c4713b = $(`&lt;div id=&quot;html_ec789d01acd5837934db4e9510c4713b&quot; style=&quot;width: 100.0%; height: 100.0%;&quot;&gt;3246&lt;/div&gt;`)[0];\n",
       "                popup_f20f8102540f3296615a029be131aa32.setContent(html_ec789d01acd5837934db4e9510c4713b);\n",
       "            \n",
       "        \n",
       "\n",
       "        marker_8717893d40aa1c6d2941997b22adc893.bindPopup(popup_f20f8102540f3296615a029be131aa32)\n",
       "        ;\n",
       "\n",
       "        \n",
       "    \n",
       "    \n",
       "            var marker_9d1ded7753369660a8c272739c3bc60e = L.marker(\n",
       "                [-15.796358539595555, -47.870997878546575],\n",
       "                {}\n",
       "            ).addTo(map_3fcae0097883a19cddc9b2b233ee663d);\n",
       "        \n",
       "    \n",
       "        var popup_a1de0518f8ead71ac1e644a25e4f70ab = L.popup({&quot;maxWidth&quot;: &quot;100%&quot;});\n",
       "\n",
       "        \n",
       "            \n",
       "                var html_e4e85f6c14643fb6bad52ebe388c3284 = $(`&lt;div id=&quot;html_e4e85f6c14643fb6bad52ebe388c3284&quot; style=&quot;width: 100.0%; height: 100.0%;&quot;&gt;3247&lt;/div&gt;`)[0];\n",
       "                popup_a1de0518f8ead71ac1e644a25e4f70ab.setContent(html_e4e85f6c14643fb6bad52ebe388c3284);\n",
       "            \n",
       "        \n",
       "\n",
       "        marker_9d1ded7753369660a8c272739c3bc60e.bindPopup(popup_a1de0518f8ead71ac1e644a25e4f70ab)\n",
       "        ;\n",
       "\n",
       "        \n",
       "    \n",
       "    \n",
       "            var marker_d9510586942f352eda8144a66a4d415b = L.marker(\n",
       "                [-15.797644419623916, -47.8669777962173],\n",
       "                {}\n",
       "            ).addTo(map_3fcae0097883a19cddc9b2b233ee663d);\n",
       "        \n",
       "    \n",
       "        var popup_987d9ac2ddc471a5fc6dcc67f533c48a = L.popup({&quot;maxWidth&quot;: &quot;100%&quot;});\n",
       "\n",
       "        \n",
       "            \n",
       "                var html_c46bbb5ef05812ec584d1e41b5762968 = $(`&lt;div id=&quot;html_c46bbb5ef05812ec584d1e41b5762968&quot; style=&quot;width: 100.0%; height: 100.0%;&quot;&gt;6960&lt;/div&gt;`)[0];\n",
       "                popup_987d9ac2ddc471a5fc6dcc67f533c48a.setContent(html_c46bbb5ef05812ec584d1e41b5762968);\n",
       "            \n",
       "        \n",
       "\n",
       "        marker_d9510586942f352eda8144a66a4d415b.bindPopup(popup_987d9ac2ddc471a5fc6dcc67f533c48a)\n",
       "        ;\n",
       "\n",
       "        \n",
       "    \n",
       "    \n",
       "            var marker_01b51a1f82caf098aa29be04dd742ca5 = L.marker(\n",
       "                [-15.797091889501296, -47.868512991348375],\n",
       "                {}\n",
       "            ).addTo(map_3fcae0097883a19cddc9b2b233ee663d);\n",
       "        \n",
       "    \n",
       "        var popup_345ac0eed67e68abb8bb5f79e1e21e17 = L.popup({&quot;maxWidth&quot;: &quot;100%&quot;});\n",
       "\n",
       "        \n",
       "            \n",
       "                var html_87014240a76c194d1071e1e798767fa8 = $(`&lt;div id=&quot;html_87014240a76c194d1071e1e798767fa8&quot; style=&quot;width: 100.0%; height: 100.0%;&quot;&gt;6880&lt;/div&gt;`)[0];\n",
       "                popup_345ac0eed67e68abb8bb5f79e1e21e17.setContent(html_87014240a76c194d1071e1e798767fa8);\n",
       "            \n",
       "        \n",
       "\n",
       "        marker_01b51a1f82caf098aa29be04dd742ca5.bindPopup(popup_345ac0eed67e68abb8bb5f79e1e21e17)\n",
       "        ;\n",
       "\n",
       "        \n",
       "    \n",
       "    \n",
       "            var marker_15d54f02a7f36389b620a6a3c98e89d8 = L.marker(\n",
       "                [-15.817478071398625, -47.805750824839436],\n",
       "                {}\n",
       "            ).addTo(map_3fcae0097883a19cddc9b2b233ee663d);\n",
       "        \n",
       "    \n",
       "        var popup_b8a4e78b050d560d2c19d684f70cdd61 = L.popup({&quot;maxWidth&quot;: &quot;100%&quot;});\n",
       "\n",
       "        \n",
       "            \n",
       "                var html_3ebb10888f723443d4f0b02e9a0363d8 = $(`&lt;div id=&quot;html_3ebb10888f723443d4f0b02e9a0363d8&quot; style=&quot;width: 100.0%; height: 100.0%;&quot;&gt;2393&lt;/div&gt;`)[0];\n",
       "                popup_b8a4e78b050d560d2c19d684f70cdd61.setContent(html_3ebb10888f723443d4f0b02e9a0363d8);\n",
       "            \n",
       "        \n",
       "\n",
       "        marker_15d54f02a7f36389b620a6a3c98e89d8.bindPopup(popup_b8a4e78b050d560d2c19d684f70cdd61)\n",
       "        ;\n",
       "\n",
       "        \n",
       "    \n",
       "    \n",
       "            var marker_0a18754954b309e4841da6914131d8fa = L.marker(\n",
       "                [-15.813417147096223, -47.80571288393757],\n",
       "                {}\n",
       "            ).addTo(map_3fcae0097883a19cddc9b2b233ee663d);\n",
       "        \n",
       "    \n",
       "        var popup_c9b622f137140462c0593557a367095d = L.popup({&quot;maxWidth&quot;: &quot;100%&quot;});\n",
       "\n",
       "        \n",
       "            \n",
       "                var html_773005dbd23616e532a80dda6177b605 = $(`&lt;div id=&quot;html_773005dbd23616e532a80dda6177b605&quot; style=&quot;width: 100.0%; height: 100.0%;&quot;&gt;2399&lt;/div&gt;`)[0];\n",
       "                popup_c9b622f137140462c0593557a367095d.setContent(html_773005dbd23616e532a80dda6177b605);\n",
       "            \n",
       "        \n",
       "\n",
       "        marker_0a18754954b309e4841da6914131d8fa.bindPopup(popup_c9b622f137140462c0593557a367095d)\n",
       "        ;\n",
       "\n",
       "        \n",
       "    \n",
       "    \n",
       "            var marker_564f2763d573853c497571c34a54d975 = L.marker(\n",
       "                [-15.820611014682267, -47.80540597675534],\n",
       "                {}\n",
       "            ).addTo(map_3fcae0097883a19cddc9b2b233ee663d);\n",
       "        \n",
       "    \n",
       "        var popup_75544d85ab28541b5abd41b80978f95c = L.popup({&quot;maxWidth&quot;: &quot;100%&quot;});\n",
       "\n",
       "        \n",
       "            \n",
       "                var html_1d7b6ba1deff354ec2fe3296b4629548 = $(`&lt;div id=&quot;html_1d7b6ba1deff354ec2fe3296b4629548&quot; style=&quot;width: 100.0%; height: 100.0%;&quot;&gt;2401&lt;/div&gt;`)[0];\n",
       "                popup_75544d85ab28541b5abd41b80978f95c.setContent(html_1d7b6ba1deff354ec2fe3296b4629548);\n",
       "            \n",
       "        \n",
       "\n",
       "        marker_564f2763d573853c497571c34a54d975.bindPopup(popup_75544d85ab28541b5abd41b80978f95c)\n",
       "        ;\n",
       "\n",
       "        \n",
       "    \n",
       "    \n",
       "            var marker_957f1f285a5c4bf9794aa9ff56476ade = L.marker(\n",
       "                [-15.822977042333191, -47.805016085485335],\n",
       "                {}\n",
       "            ).addTo(map_3fcae0097883a19cddc9b2b233ee663d);\n",
       "        \n",
       "    \n",
       "        var popup_0c3f1988fe12d7614262d0a425e6b864 = L.popup({&quot;maxWidth&quot;: &quot;100%&quot;});\n",
       "\n",
       "        \n",
       "            \n",
       "                var html_a696ab090a10ebaa8b32d7b1b822bb91 = $(`&lt;div id=&quot;html_a696ab090a10ebaa8b32d7b1b822bb91&quot; style=&quot;width: 100.0%; height: 100.0%;&quot;&gt;2391&lt;/div&gt;`)[0];\n",
       "                popup_0c3f1988fe12d7614262d0a425e6b864.setContent(html_a696ab090a10ebaa8b32d7b1b822bb91);\n",
       "            \n",
       "        \n",
       "\n",
       "        marker_957f1f285a5c4bf9794aa9ff56476ade.bindPopup(popup_0c3f1988fe12d7614262d0a425e6b864)\n",
       "        ;\n",
       "\n",
       "        \n",
       "    \n",
       "    \n",
       "            var marker_7ad4bf14345bc0f1abd41b7650e81b33 = L.marker(\n",
       "                [-15.820146118518355, -47.80504912316825],\n",
       "                {}\n",
       "            ).addTo(map_3fcae0097883a19cddc9b2b233ee663d);\n",
       "        \n",
       "    \n",
       "        var popup_3332895113f84d18c79afb5152bd6251 = L.popup({&quot;maxWidth&quot;: &quot;100%&quot;});\n",
       "\n",
       "        \n",
       "            \n",
       "                var html_16dd72319ae678bfa9efa26746a6141d = $(`&lt;div id=&quot;html_16dd72319ae678bfa9efa26746a6141d&quot; style=&quot;width: 100.0%; height: 100.0%;&quot;&gt;2392&lt;/div&gt;`)[0];\n",
       "                popup_3332895113f84d18c79afb5152bd6251.setContent(html_16dd72319ae678bfa9efa26746a6141d);\n",
       "            \n",
       "        \n",
       "\n",
       "        marker_7ad4bf14345bc0f1abd41b7650e81b33.bindPopup(popup_3332895113f84d18c79afb5152bd6251)\n",
       "        ;\n",
       "\n",
       "        \n",
       "    \n",
       "    \n",
       "            var marker_6345a86912d90b09ff947343692fe949 = L.marker(\n",
       "                [-15.812808239882703, -47.804775773344375],\n",
       "                {}\n",
       "            ).addTo(map_3fcae0097883a19cddc9b2b233ee663d);\n",
       "        \n",
       "    \n",
       "        var popup_ab5db8e1a88e65217359d56f1b377c9d = L.popup({&quot;maxWidth&quot;: &quot;100%&quot;});\n",
       "\n",
       "        \n",
       "            \n",
       "                var html_b1ec5df9aba9fbb820d3aebe09dce192 = $(`&lt;div id=&quot;html_b1ec5df9aba9fbb820d3aebe09dce192&quot; style=&quot;width: 100.0%; height: 100.0%;&quot;&gt;2394&lt;/div&gt;`)[0];\n",
       "                popup_ab5db8e1a88e65217359d56f1b377c9d.setContent(html_b1ec5df9aba9fbb820d3aebe09dce192);\n",
       "            \n",
       "        \n",
       "\n",
       "        marker_6345a86912d90b09ff947343692fe949.bindPopup(popup_ab5db8e1a88e65217359d56f1b377c9d)\n",
       "        ;\n",
       "\n",
       "        \n",
       "    \n",
       "    \n",
       "            var marker_f212bd4bf8909b492e9c1b39b5edb09a = L.marker(\n",
       "                [-15.818083977414886, -47.806039025859654],\n",
       "                {}\n",
       "            ).addTo(map_3fcae0097883a19cddc9b2b233ee663d);\n",
       "        \n",
       "    \n",
       "        var popup_6d079232b99682cfa1900c54bc5cb528 = L.popup({&quot;maxWidth&quot;: &quot;100%&quot;});\n",
       "\n",
       "        \n",
       "            \n",
       "                var html_ee365df468ed3716c77e383e6b5dd9f6 = $(`&lt;div id=&quot;html_ee365df468ed3716c77e383e6b5dd9f6&quot; style=&quot;width: 100.0%; height: 100.0%;&quot;&gt;2400&lt;/div&gt;`)[0];\n",
       "                popup_6d079232b99682cfa1900c54bc5cb528.setContent(html_ee365df468ed3716c77e383e6b5dd9f6);\n",
       "            \n",
       "        \n",
       "\n",
       "        marker_f212bd4bf8909b492e9c1b39b5edb09a.bindPopup(popup_6d079232b99682cfa1900c54bc5cb528)\n",
       "        ;\n",
       "\n",
       "        \n",
       "    \n",
       "    \n",
       "            var marker_1537adaeb57399db72484d7b9097287d = L.marker(\n",
       "                [-15.826122070013904, -47.807021230860975],\n",
       "                {}\n",
       "            ).addTo(map_3fcae0097883a19cddc9b2b233ee663d);\n",
       "        \n",
       "    \n",
       "        var popup_6b927f0897682729c3fbd2d8d9560ae1 = L.popup({&quot;maxWidth&quot;: &quot;100%&quot;});\n",
       "\n",
       "        \n",
       "            \n",
       "                var html_e389f8fdb4c0ec98a21ed690bd9d7048 = $(`&lt;div id=&quot;html_e389f8fdb4c0ec98a21ed690bd9d7048&quot; style=&quot;width: 100.0%; height: 100.0%;&quot;&gt;2390&lt;/div&gt;`)[0];\n",
       "                popup_6b927f0897682729c3fbd2d8d9560ae1.setContent(html_e389f8fdb4c0ec98a21ed690bd9d7048);\n",
       "            \n",
       "        \n",
       "\n",
       "        marker_1537adaeb57399db72484d7b9097287d.bindPopup(popup_6b927f0897682729c3fbd2d8d9560ae1)\n",
       "        ;\n",
       "\n",
       "        \n",
       "    \n",
       "    \n",
       "            var marker_44b324759523967ca592383a76a252e3 = L.marker(\n",
       "                [-15.825286390870474, -47.80676354354269],\n",
       "                {}\n",
       "            ).addTo(map_3fcae0097883a19cddc9b2b233ee663d);\n",
       "        \n",
       "    \n",
       "        var popup_9463afa808fe116718ea581a4629038c = L.popup({&quot;maxWidth&quot;: &quot;100%&quot;});\n",
       "\n",
       "        \n",
       "            \n",
       "                var html_3e14e6f0a2842fb6fe6c3c928ff3a2e0 = $(`&lt;div id=&quot;html_3e14e6f0a2842fb6fe6c3c928ff3a2e0&quot; style=&quot;width: 100.0%; height: 100.0%;&quot;&gt;2402&lt;/div&gt;`)[0];\n",
       "                popup_9463afa808fe116718ea581a4629038c.setContent(html_3e14e6f0a2842fb6fe6c3c928ff3a2e0);\n",
       "            \n",
       "        \n",
       "\n",
       "        marker_44b324759523967ca592383a76a252e3.bindPopup(popup_9463afa808fe116718ea581a4629038c)\n",
       "        ;\n",
       "\n",
       "        \n",
       "    \n",
       "    \n",
       "            var marker_7c1f6406c97128294cd2aa7fc9ecb340 = L.marker(\n",
       "                [-15.818830353576622, -47.83326930713607],\n",
       "                {}\n",
       "            ).addTo(map_3fcae0097883a19cddc9b2b233ee663d);\n",
       "        \n",
       "    \n",
       "        var popup_3047db2fb3d931d32753afd3cb2c139f = L.popup({&quot;maxWidth&quot;: &quot;100%&quot;});\n",
       "\n",
       "        \n",
       "            \n",
       "                var html_26232774d537c7ade5c3237ebdb5d0dd = $(`&lt;div id=&quot;html_26232774d537c7ade5c3237ebdb5d0dd&quot; style=&quot;width: 100.0%; height: 100.0%;&quot;&gt;2443&lt;/div&gt;`)[0];\n",
       "                popup_3047db2fb3d931d32753afd3cb2c139f.setContent(html_26232774d537c7ade5c3237ebdb5d0dd);\n",
       "            \n",
       "        \n",
       "\n",
       "        marker_7c1f6406c97128294cd2aa7fc9ecb340.bindPopup(popup_3047db2fb3d931d32753afd3cb2c139f)\n",
       "        ;\n",
       "\n",
       "        \n",
       "    \n",
       "    \n",
       "            var marker_2bc0c7c0f0675635db8d58c65f99775f = L.marker(\n",
       "                [-15.818655006848042, -47.833018633099904],\n",
       "                {}\n",
       "            ).addTo(map_3fcae0097883a19cddc9b2b233ee663d);\n",
       "        \n",
       "    \n",
       "        var popup_c59833c99520ebe55030e0c0c89e2066 = L.popup({&quot;maxWidth&quot;: &quot;100%&quot;});\n",
       "\n",
       "        \n",
       "            \n",
       "                var html_7a8b01b7d85db92cbc7ef28a0b48fbbf = $(`&lt;div id=&quot;html_7a8b01b7d85db92cbc7ef28a0b48fbbf&quot; style=&quot;width: 100.0%; height: 100.0%;&quot;&gt;2535&lt;/div&gt;`)[0];\n",
       "                popup_c59833c99520ebe55030e0c0c89e2066.setContent(html_7a8b01b7d85db92cbc7ef28a0b48fbbf);\n",
       "            \n",
       "        \n",
       "\n",
       "        marker_2bc0c7c0f0675635db8d58c65f99775f.bindPopup(popup_c59833c99520ebe55030e0c0c89e2066)\n",
       "        ;\n",
       "\n",
       "        \n",
       "    \n",
       "    \n",
       "            var marker_4084092cd6dc9d13bd606108b8290ea7 = L.marker(\n",
       "                [-15.814180079657813, -47.84093158466939],\n",
       "                {}\n",
       "            ).addTo(map_3fcae0097883a19cddc9b2b233ee663d);\n",
       "        \n",
       "    \n",
       "        var popup_e9642c447e7a327871b0e22babd50342 = L.popup({&quot;maxWidth&quot;: &quot;100%&quot;});\n",
       "\n",
       "        \n",
       "            \n",
       "                var html_c5197dd05a2e912c9b7f23d2254b2b0b = $(`&lt;div id=&quot;html_c5197dd05a2e912c9b7f23d2254b2b0b&quot; style=&quot;width: 100.0%; height: 100.0%;&quot;&gt;3617&lt;/div&gt;`)[0];\n",
       "                popup_e9642c447e7a327871b0e22babd50342.setContent(html_c5197dd05a2e912c9b7f23d2254b2b0b);\n",
       "            \n",
       "        \n",
       "\n",
       "        marker_4084092cd6dc9d13bd606108b8290ea7.bindPopup(popup_e9642c447e7a327871b0e22babd50342)\n",
       "        ;\n",
       "\n",
       "        \n",
       "    \n",
       "    \n",
       "            var marker_4bc8bcfbad91026deb2c8f315b2cbef0 = L.marker(\n",
       "                [-15.764157999999997, -47.793713],\n",
       "                {}\n",
       "            ).addTo(map_3fcae0097883a19cddc9b2b233ee663d);\n",
       "        \n",
       "    \n",
       "        var popup_9f62d14f887a02ee7b78a6ed75b14d85 = L.popup({&quot;maxWidth&quot;: &quot;100%&quot;});\n",
       "\n",
       "        \n",
       "            \n",
       "                var html_deb8e2017b73eac0e210730316884adf = $(`&lt;div id=&quot;html_deb8e2017b73eac0e210730316884adf&quot; style=&quot;width: 100.0%; height: 100.0%;&quot;&gt;7560&lt;/div&gt;`)[0];\n",
       "                popup_9f62d14f887a02ee7b78a6ed75b14d85.setContent(html_deb8e2017b73eac0e210730316884adf);\n",
       "            \n",
       "        \n",
       "\n",
       "        marker_4bc8bcfbad91026deb2c8f315b2cbef0.bindPopup(popup_9f62d14f887a02ee7b78a6ed75b14d85)\n",
       "        ;\n",
       "\n",
       "        \n",
       "    \n",
       "    \n",
       "            var marker_e1db78b8608ada601a2df4529e75370f = L.marker(\n",
       "                [-15.763024000000007, -47.792896],\n",
       "                {}\n",
       "            ).addTo(map_3fcae0097883a19cddc9b2b233ee663d);\n",
       "        \n",
       "    \n",
       "        var popup_459439336f421518217be8c03ea57fbb = L.popup({&quot;maxWidth&quot;: &quot;100%&quot;});\n",
       "\n",
       "        \n",
       "            \n",
       "                var html_2bd3782669a1fd2bdd5a32a9370216ae = $(`&lt;div id=&quot;html_2bd3782669a1fd2bdd5a32a9370216ae&quot; style=&quot;width: 100.0%; height: 100.0%;&quot;&gt;7561&lt;/div&gt;`)[0];\n",
       "                popup_459439336f421518217be8c03ea57fbb.setContent(html_2bd3782669a1fd2bdd5a32a9370216ae);\n",
       "            \n",
       "        \n",
       "\n",
       "        marker_e1db78b8608ada601a2df4529e75370f.bindPopup(popup_459439336f421518217be8c03ea57fbb)\n",
       "        ;\n",
       "\n",
       "        \n",
       "    \n",
       "    \n",
       "            var marker_015313cdc1cff134753a6e8f8352d60d = L.marker(\n",
       "                [-15.761611000000006, -47.786333],\n",
       "                {}\n",
       "            ).addTo(map_3fcae0097883a19cddc9b2b233ee663d);\n",
       "        \n",
       "    \n",
       "        var popup_f03e53d2e65db96d8a8feee5376a0c4f = L.popup({&quot;maxWidth&quot;: &quot;100%&quot;});\n",
       "\n",
       "        \n",
       "            \n",
       "                var html_63e74c5fb260463eae65dd56dc1ca023 = $(`&lt;div id=&quot;html_63e74c5fb260463eae65dd56dc1ca023&quot; style=&quot;width: 100.0%; height: 100.0%;&quot;&gt;8026&lt;/div&gt;`)[0];\n",
       "                popup_f03e53d2e65db96d8a8feee5376a0c4f.setContent(html_63e74c5fb260463eae65dd56dc1ca023);\n",
       "            \n",
       "        \n",
       "\n",
       "        marker_015313cdc1cff134753a6e8f8352d60d.bindPopup(popup_f03e53d2e65db96d8a8feee5376a0c4f)\n",
       "        ;\n",
       "\n",
       "        \n",
       "    \n",
       "    \n",
       "            var marker_4a0b92e398e6880be646638c3f1c45fa = L.marker(\n",
       "                [-15.762654999999999, -47.785836],\n",
       "                {}\n",
       "            ).addTo(map_3fcae0097883a19cddc9b2b233ee663d);\n",
       "        \n",
       "    \n",
       "        var popup_df96bd47b328fc5e993cf2cbb64776a3 = L.popup({&quot;maxWidth&quot;: &quot;100%&quot;});\n",
       "\n",
       "        \n",
       "            \n",
       "                var html_e50153e74671444feb4925ccbf6492dd = $(`&lt;div id=&quot;html_e50153e74671444feb4925ccbf6492dd&quot; style=&quot;width: 100.0%; height: 100.0%;&quot;&gt;7555&lt;/div&gt;`)[0];\n",
       "                popup_df96bd47b328fc5e993cf2cbb64776a3.setContent(html_e50153e74671444feb4925ccbf6492dd);\n",
       "            \n",
       "        \n",
       "\n",
       "        marker_4a0b92e398e6880be646638c3f1c45fa.bindPopup(popup_df96bd47b328fc5e993cf2cbb64776a3)\n",
       "        ;\n",
       "\n",
       "        \n",
       "    \n",
       "    \n",
       "            var marker_f7e06d4bc77029f62caa0a7690734fb0 = L.marker(\n",
       "                [-15.764453999999999, -47.788622],\n",
       "                {}\n",
       "            ).addTo(map_3fcae0097883a19cddc9b2b233ee663d);\n",
       "        \n",
       "    \n",
       "        var popup_7ba11dec5d089f066cfad8113d26e851 = L.popup({&quot;maxWidth&quot;: &quot;100%&quot;});\n",
       "\n",
       "        \n",
       "            \n",
       "                var html_959de932d137927efc34c78a241bbaea = $(`&lt;div id=&quot;html_959de932d137927efc34c78a241bbaea&quot; style=&quot;width: 100.0%; height: 100.0%;&quot;&gt;7556&lt;/div&gt;`)[0];\n",
       "                popup_7ba11dec5d089f066cfad8113d26e851.setContent(html_959de932d137927efc34c78a241bbaea);\n",
       "            \n",
       "        \n",
       "\n",
       "        marker_f7e06d4bc77029f62caa0a7690734fb0.bindPopup(popup_7ba11dec5d089f066cfad8113d26e851)\n",
       "        ;\n",
       "\n",
       "        \n",
       "    \n",
       "    \n",
       "            var marker_df4d55d796738f443379211ee4d58a99 = L.marker(\n",
       "                [-15.763012000000002, -47.78935],\n",
       "                {}\n",
       "            ).addTo(map_3fcae0097883a19cddc9b2b233ee663d);\n",
       "        \n",
       "    \n",
       "        var popup_efcc07dd9e223f9db87ba4e340cdd70b = L.popup({&quot;maxWidth&quot;: &quot;100%&quot;});\n",
       "\n",
       "        \n",
       "            \n",
       "                var html_a13073d6078b610eb93a3217bce13311 = $(`&lt;div id=&quot;html_a13073d6078b610eb93a3217bce13311&quot; style=&quot;width: 100.0%; height: 100.0%;&quot;&gt;7562&lt;/div&gt;`)[0];\n",
       "                popup_efcc07dd9e223f9db87ba4e340cdd70b.setContent(html_a13073d6078b610eb93a3217bce13311);\n",
       "            \n",
       "        \n",
       "\n",
       "        marker_df4d55d796738f443379211ee4d58a99.bindPopup(popup_efcc07dd9e223f9db87ba4e340cdd70b)\n",
       "        ;\n",
       "\n",
       "        \n",
       "    \n",
       "    \n",
       "            var marker_1c4a3b4eb98132fc79b9071f1d4ab1b8 = L.marker(\n",
       "                [-15.763044999999995, -47.78651],\n",
       "                {}\n",
       "            ).addTo(map_3fcae0097883a19cddc9b2b233ee663d);\n",
       "        \n",
       "    \n",
       "        var popup_cd776a16ee6c1c4be5baeb5cc1e39064 = L.popup({&quot;maxWidth&quot;: &quot;100%&quot;});\n",
       "\n",
       "        \n",
       "            \n",
       "                var html_393986194b5072b262adabbe77798d08 = $(`&lt;div id=&quot;html_393986194b5072b262adabbe77798d08&quot; style=&quot;width: 100.0%; height: 100.0%;&quot;&gt;7563&lt;/div&gt;`)[0];\n",
       "                popup_cd776a16ee6c1c4be5baeb5cc1e39064.setContent(html_393986194b5072b262adabbe77798d08);\n",
       "            \n",
       "        \n",
       "\n",
       "        marker_1c4a3b4eb98132fc79b9071f1d4ab1b8.bindPopup(popup_cd776a16ee6c1c4be5baeb5cc1e39064)\n",
       "        ;\n",
       "\n",
       "        \n",
       "    \n",
       "    \n",
       "            var marker_8efa3d4842a63ab9ecf0f9040949a95a = L.marker(\n",
       "                [-15.762564999999999, -47.784828],\n",
       "                {}\n",
       "            ).addTo(map_3fcae0097883a19cddc9b2b233ee663d);\n",
       "        \n",
       "    \n",
       "        var popup_8cac2752e65bb00d6a904f9363354e3d = L.popup({&quot;maxWidth&quot;: &quot;100%&quot;});\n",
       "\n",
       "        \n",
       "            \n",
       "                var html_8fd0fe83d7cb29d2d6809edc816973d3 = $(`&lt;div id=&quot;html_8fd0fe83d7cb29d2d6809edc816973d3&quot; style=&quot;width: 100.0%; height: 100.0%;&quot;&gt;7564&lt;/div&gt;`)[0];\n",
       "                popup_8cac2752e65bb00d6a904f9363354e3d.setContent(html_8fd0fe83d7cb29d2d6809edc816973d3);\n",
       "            \n",
       "        \n",
       "\n",
       "        marker_8efa3d4842a63ab9ecf0f9040949a95a.bindPopup(popup_8cac2752e65bb00d6a904f9363354e3d)\n",
       "        ;\n",
       "\n",
       "        \n",
       "    \n",
       "    \n",
       "            var marker_4f2dd6be6f34bdf74776db60ca48fd56 = L.marker(\n",
       "                [-15.764132965618785, -47.7859465901341],\n",
       "                {}\n",
       "            ).addTo(map_3fcae0097883a19cddc9b2b233ee663d);\n",
       "        \n",
       "    \n",
       "        var popup_8a1d5315abaac35504f9f13aae5e79af = L.popup({&quot;maxWidth&quot;: &quot;100%&quot;});\n",
       "\n",
       "        \n",
       "            \n",
       "                var html_337b4ef6c48c3d8cbc2374447a0e28be = $(`&lt;div id=&quot;html_337b4ef6c48c3d8cbc2374447a0e28be&quot; style=&quot;width: 100.0%; height: 100.0%;&quot;&gt;6844&lt;/div&gt;`)[0];\n",
       "                popup_8a1d5315abaac35504f9f13aae5e79af.setContent(html_337b4ef6c48c3d8cbc2374447a0e28be);\n",
       "            \n",
       "        \n",
       "\n",
       "        marker_4f2dd6be6f34bdf74776db60ca48fd56.bindPopup(popup_8a1d5315abaac35504f9f13aae5e79af)\n",
       "        ;\n",
       "\n",
       "        \n",
       "    \n",
       "    \n",
       "            var marker_7b8d6acfcfc2056052fe8e3ea4cf8a0e = L.marker(\n",
       "                [-15.764122540605399, -47.78575341137903],\n",
       "                {}\n",
       "            ).addTo(map_3fcae0097883a19cddc9b2b233ee663d);\n",
       "        \n",
       "    \n",
       "        var popup_4f1d61b2666a7bba6f9b799e3a24dc9d = L.popup({&quot;maxWidth&quot;: &quot;100%&quot;});\n",
       "\n",
       "        \n",
       "            \n",
       "                var html_99dba560604c1478969b551b960d4277 = $(`&lt;div id=&quot;html_99dba560604c1478969b551b960d4277&quot; style=&quot;width: 100.0%; height: 100.0%;&quot;&gt;6857&lt;/div&gt;`)[0];\n",
       "                popup_4f1d61b2666a7bba6f9b799e3a24dc9d.setContent(html_99dba560604c1478969b551b960d4277);\n",
       "            \n",
       "        \n",
       "\n",
       "        marker_7b8d6acfcfc2056052fe8e3ea4cf8a0e.bindPopup(popup_4f1d61b2666a7bba6f9b799e3a24dc9d)\n",
       "        ;\n",
       "\n",
       "        \n",
       "    \n",
       "    \n",
       "            var marker_7f5ec570606c8ea922ad6b2dd09b7cbb = L.marker(\n",
       "                [-15.762653033595509, -47.78497118582577],\n",
       "                {}\n",
       "            ).addTo(map_3fcae0097883a19cddc9b2b233ee663d);\n",
       "        \n",
       "    \n",
       "        var popup_7bc3305dd09d363bdc0b73fa29d1cc22 = L.popup({&quot;maxWidth&quot;: &quot;100%&quot;});\n",
       "\n",
       "        \n",
       "            \n",
       "                var html_6b43e22f02dcad686829de33e34c6cf7 = $(`&lt;div id=&quot;html_6b43e22f02dcad686829de33e34c6cf7&quot; style=&quot;width: 100.0%; height: 100.0%;&quot;&gt;6855&lt;/div&gt;`)[0];\n",
       "                popup_7bc3305dd09d363bdc0b73fa29d1cc22.setContent(html_6b43e22f02dcad686829de33e34c6cf7);\n",
       "            \n",
       "        \n",
       "\n",
       "        marker_7f5ec570606c8ea922ad6b2dd09b7cbb.bindPopup(popup_7bc3305dd09d363bdc0b73fa29d1cc22)\n",
       "        ;\n",
       "\n",
       "        \n",
       "    \n",
       "    \n",
       "            var marker_b2c0fdb9761cd30cf3706b1fea026832 = L.marker(\n",
       "                [-15.762575142626542, -47.78549231060707],\n",
       "                {}\n",
       "            ).addTo(map_3fcae0097883a19cddc9b2b233ee663d);\n",
       "        \n",
       "    \n",
       "        var popup_f7d668a1ffee42a0ef351ab0420d9ee8 = L.popup({&quot;maxWidth&quot;: &quot;100%&quot;});\n",
       "\n",
       "        \n",
       "            \n",
       "                var html_0a68188bdb87ff883bd02575d398c890 = $(`&lt;div id=&quot;html_0a68188bdb87ff883bd02575d398c890&quot; style=&quot;width: 100.0%; height: 100.0%;&quot;&gt;6856&lt;/div&gt;`)[0];\n",
       "                popup_f7d668a1ffee42a0ef351ab0420d9ee8.setContent(html_0a68188bdb87ff883bd02575d398c890);\n",
       "            \n",
       "        \n",
       "\n",
       "        marker_b2c0fdb9761cd30cf3706b1fea026832.bindPopup(popup_f7d668a1ffee42a0ef351ab0420d9ee8)\n",
       "        ;\n",
       "\n",
       "        \n",
       "    \n",
       "    \n",
       "            var marker_0a1ecd12d37f17fb09879b47fb14c2cc = L.marker(\n",
       "                [-15.777814000000003, -47.781592],\n",
       "                {}\n",
       "            ).addTo(map_3fcae0097883a19cddc9b2b233ee663d);\n",
       "        \n",
       "    \n",
       "        var popup_7b3ac0c6f2f8dd05abe441ed80d6ba54 = L.popup({&quot;maxWidth&quot;: &quot;100%&quot;});\n",
       "\n",
       "        \n",
       "            \n",
       "                var html_662e97235e9d9c30341e7703d1753320 = $(`&lt;div id=&quot;html_662e97235e9d9c30341e7703d1753320&quot; style=&quot;width: 100.0%; height: 100.0%;&quot;&gt;8023&lt;/div&gt;`)[0];\n",
       "                popup_7b3ac0c6f2f8dd05abe441ed80d6ba54.setContent(html_662e97235e9d9c30341e7703d1753320);\n",
       "            \n",
       "        \n",
       "\n",
       "        marker_0a1ecd12d37f17fb09879b47fb14c2cc.bindPopup(popup_7b3ac0c6f2f8dd05abe441ed80d6ba54)\n",
       "        ;\n",
       "\n",
       "        \n",
       "    \n",
       "    \n",
       "            var marker_20038050bc61d42d4f5bc5e80a7cd978 = L.marker(\n",
       "                [-15.7824250556501, -47.778203171611075],\n",
       "                {}\n",
       "            ).addTo(map_3fcae0097883a19cddc9b2b233ee663d);\n",
       "        \n",
       "    \n",
       "        var popup_19fc852e3ba29df2807af376d080d959 = L.popup({&quot;maxWidth&quot;: &quot;100%&quot;});\n",
       "\n",
       "        \n",
       "            \n",
       "                var html_dcde1bbda385f16ef5e6a2ff21ceb671 = $(`&lt;div id=&quot;html_dcde1bbda385f16ef5e6a2ff21ceb671&quot; style=&quot;width: 100.0%; height: 100.0%;&quot;&gt;2697&lt;/div&gt;`)[0];\n",
       "                popup_19fc852e3ba29df2807af376d080d959.setContent(html_dcde1bbda385f16ef5e6a2ff21ceb671);\n",
       "            \n",
       "        \n",
       "\n",
       "        marker_20038050bc61d42d4f5bc5e80a7cd978.bindPopup(popup_19fc852e3ba29df2807af376d080d959)\n",
       "        ;\n",
       "\n",
       "        \n",
       "    \n",
       "    \n",
       "            var marker_6a1a2144ce6022dec8c19f14cb736a64 = L.marker(\n",
       "                [-15.78228342439568, -47.7788645278897],\n",
       "                {}\n",
       "            ).addTo(map_3fcae0097883a19cddc9b2b233ee663d);\n",
       "        \n",
       "    \n",
       "        var popup_16342a1738fe1f2f36a2ba62dcee3e78 = L.popup({&quot;maxWidth&quot;: &quot;100%&quot;});\n",
       "\n",
       "        \n",
       "            \n",
       "                var html_8b6dd0782829e971dffa6d427af5e9a7 = $(`&lt;div id=&quot;html_8b6dd0782829e971dffa6d427af5e9a7&quot; style=&quot;width: 100.0%; height: 100.0%;&quot;&gt;2715&lt;/div&gt;`)[0];\n",
       "                popup_16342a1738fe1f2f36a2ba62dcee3e78.setContent(html_8b6dd0782829e971dffa6d427af5e9a7);\n",
       "            \n",
       "        \n",
       "\n",
       "        marker_6a1a2144ce6022dec8c19f14cb736a64.bindPopup(popup_16342a1738fe1f2f36a2ba62dcee3e78)\n",
       "        ;\n",
       "\n",
       "        \n",
       "    \n",
       "    \n",
       "            var marker_603f6137f32176916be4e4f5c651dfef = L.marker(\n",
       "                [-15.782404999999997, -47.778199],\n",
       "                {}\n",
       "            ).addTo(map_3fcae0097883a19cddc9b2b233ee663d);\n",
       "        \n",
       "    \n",
       "        var popup_320b40dd3ce87871cf19178a2b059676 = L.popup({&quot;maxWidth&quot;: &quot;100%&quot;});\n",
       "\n",
       "        \n",
       "            \n",
       "                var html_da2108e67be211cc2cccb66f42e2193d = $(`&lt;div id=&quot;html_da2108e67be211cc2cccb66f42e2193d&quot; style=&quot;width: 100.0%; height: 100.0%;&quot;&gt;7797&lt;/div&gt;`)[0];\n",
       "                popup_320b40dd3ce87871cf19178a2b059676.setContent(html_da2108e67be211cc2cccb66f42e2193d);\n",
       "            \n",
       "        \n",
       "\n",
       "        marker_603f6137f32176916be4e4f5c651dfef.bindPopup(popup_320b40dd3ce87871cf19178a2b059676)\n",
       "        ;\n",
       "\n",
       "        \n",
       "    \n",
       "    \n",
       "            var marker_37267439a4c06fb087aae238f6e44727 = L.marker(\n",
       "                [-15.780086814616286, -47.77954208413691],\n",
       "                {}\n",
       "            ).addTo(map_3fcae0097883a19cddc9b2b233ee663d);\n",
       "        \n",
       "    \n",
       "        var popup_579e0f0d07e889dfb6cd0459c5dd30d4 = L.popup({&quot;maxWidth&quot;: &quot;100%&quot;});\n",
       "\n",
       "        \n",
       "            \n",
       "                var html_cddacf0f4ba6fd07445e51332728a534 = $(`&lt;div id=&quot;html_cddacf0f4ba6fd07445e51332728a534&quot; style=&quot;width: 100.0%; height: 100.0%;&quot;&gt;2698&lt;/div&gt;`)[0];\n",
       "                popup_579e0f0d07e889dfb6cd0459c5dd30d4.setContent(html_cddacf0f4ba6fd07445e51332728a534);\n",
       "            \n",
       "        \n",
       "\n",
       "        marker_37267439a4c06fb087aae238f6e44727.bindPopup(popup_579e0f0d07e889dfb6cd0459c5dd30d4)\n",
       "        ;\n",
       "\n",
       "        \n",
       "    \n",
       "    \n",
       "            var marker_e6c10deaff5791ac7f14a6be8d67edde = L.marker(\n",
       "                [-15.77722244368422, -47.78126591582254],\n",
       "                {}\n",
       "            ).addTo(map_3fcae0097883a19cddc9b2b233ee663d);\n",
       "        \n",
       "    \n",
       "        var popup_4b0be61cdba7cf36dbd460a574d19975 = L.popup({&quot;maxWidth&quot;: &quot;100%&quot;});\n",
       "\n",
       "        \n",
       "            \n",
       "                var html_f3bd46ad06c5435a5419c3b0de0a4cd5 = $(`&lt;div id=&quot;html_f3bd46ad06c5435a5419c3b0de0a4cd5&quot; style=&quot;width: 100.0%; height: 100.0%;&quot;&gt;2714&lt;/div&gt;`)[0];\n",
       "                popup_4b0be61cdba7cf36dbd460a574d19975.setContent(html_f3bd46ad06c5435a5419c3b0de0a4cd5);\n",
       "            \n",
       "        \n",
       "\n",
       "        marker_e6c10deaff5791ac7f14a6be8d67edde.bindPopup(popup_4b0be61cdba7cf36dbd460a574d19975)\n",
       "        ;\n",
       "\n",
       "        \n",
       "    \n",
       "    \n",
       "            var marker_caf8bc795cb3e3ddf152b834b4917cdb = L.marker(\n",
       "                [-15.779171590593384, -47.78172886813591],\n",
       "                {}\n",
       "            ).addTo(map_3fcae0097883a19cddc9b2b233ee663d);\n",
       "        \n",
       "    \n",
       "        var popup_dc70af59d9b5f35ab683b4f2e59ac904 = L.popup({&quot;maxWidth&quot;: &quot;100%&quot;});\n",
       "\n",
       "        \n",
       "            \n",
       "                var html_f4792bb8f502ff5170e3e9b968803aa7 = $(`&lt;div id=&quot;html_f4792bb8f502ff5170e3e9b968803aa7&quot; style=&quot;width: 100.0%; height: 100.0%;&quot;&gt;2716&lt;/div&gt;`)[0];\n",
       "                popup_dc70af59d9b5f35ab683b4f2e59ac904.setContent(html_f4792bb8f502ff5170e3e9b968803aa7);\n",
       "            \n",
       "        \n",
       "\n",
       "        marker_caf8bc795cb3e3ddf152b834b4917cdb.bindPopup(popup_dc70af59d9b5f35ab683b4f2e59ac904)\n",
       "        ;\n",
       "\n",
       "        \n",
       "    \n",
       "    \n",
       "            var marker_4504ecbdbee83c108dafde919ab6fee7 = L.marker(\n",
       "                [-15.77940771253354, -47.78071724739479],\n",
       "                {}\n",
       "            ).addTo(map_3fcae0097883a19cddc9b2b233ee663d);\n",
       "        \n",
       "    \n",
       "        var popup_3bbf579265c798654ad04da82aaee677 = L.popup({&quot;maxWidth&quot;: &quot;100%&quot;});\n",
       "\n",
       "        \n",
       "            \n",
       "                var html_2447e905813b952b750156a213471e39 = $(`&lt;div id=&quot;html_2447e905813b952b750156a213471e39&quot; style=&quot;width: 100.0%; height: 100.0%;&quot;&gt;6134&lt;/div&gt;`)[0];\n",
       "                popup_3bbf579265c798654ad04da82aaee677.setContent(html_2447e905813b952b750156a213471e39);\n",
       "            \n",
       "        \n",
       "\n",
       "        marker_4504ecbdbee83c108dafde919ab6fee7.bindPopup(popup_3bbf579265c798654ad04da82aaee677)\n",
       "        ;\n",
       "\n",
       "        \n",
       "    \n",
       "    \n",
       "            var marker_78cf5c168e4830af43cb5695ba647749 = L.marker(\n",
       "                [-15.831176567451147, -47.825721582213546],\n",
       "                {}\n",
       "            ).addTo(map_3fcae0097883a19cddc9b2b233ee663d);\n",
       "        \n",
       "    \n",
       "        var popup_ed156281dc6158205aa6f21369e4bf0f = L.popup({&quot;maxWidth&quot;: &quot;100%&quot;});\n",
       "\n",
       "        \n",
       "            \n",
       "                var html_91a2b0b4ca9d3eda4dde22f4ea17e75b = $(`&lt;div id=&quot;html_91a2b0b4ca9d3eda4dde22f4ea17e75b&quot; style=&quot;width: 100.0%; height: 100.0%;&quot;&gt;2441&lt;/div&gt;`)[0];\n",
       "                popup_ed156281dc6158205aa6f21369e4bf0f.setContent(html_91a2b0b4ca9d3eda4dde22f4ea17e75b);\n",
       "            \n",
       "        \n",
       "\n",
       "        marker_78cf5c168e4830af43cb5695ba647749.bindPopup(popup_ed156281dc6158205aa6f21369e4bf0f)\n",
       "        ;\n",
       "\n",
       "        \n",
       "    \n",
       "    \n",
       "            var marker_66d499b158842d8849b4829c8ddf1850 = L.marker(\n",
       "                [-15.831128089996014, -47.82619049996033],\n",
       "                {}\n",
       "            ).addTo(map_3fcae0097883a19cddc9b2b233ee663d);\n",
       "        \n",
       "    \n",
       "        var popup_2337155659d6c77f87a7031c56d2e525 = L.popup({&quot;maxWidth&quot;: &quot;100%&quot;});\n",
       "\n",
       "        \n",
       "            \n",
       "                var html_a6599a5b9e82bdeb5b2e30f61b0c19eb = $(`&lt;div id=&quot;html_a6599a5b9e82bdeb5b2e30f61b0c19eb&quot; style=&quot;width: 100.0%; height: 100.0%;&quot;&gt;2444&lt;/div&gt;`)[0];\n",
       "                popup_2337155659d6c77f87a7031c56d2e525.setContent(html_a6599a5b9e82bdeb5b2e30f61b0c19eb);\n",
       "            \n",
       "        \n",
       "\n",
       "        marker_66d499b158842d8849b4829c8ddf1850.bindPopup(popup_2337155659d6c77f87a7031c56d2e525)\n",
       "        ;\n",
       "\n",
       "        \n",
       "    \n",
       "    \n",
       "            var marker_376bf7d75f89dc547b5004242611b61a = L.marker(\n",
       "                [-15.79501763943123, -47.78276348911926],\n",
       "                {}\n",
       "            ).addTo(map_3fcae0097883a19cddc9b2b233ee663d);\n",
       "        \n",
       "    \n",
       "        var popup_9d7623ca1218c8f10b8091f2d8c0efaf = L.popup({&quot;maxWidth&quot;: &quot;100%&quot;});\n",
       "\n",
       "        \n",
       "            \n",
       "                var html_03ec62a2dcdacdd71f47832fb6ca0b27 = $(`&lt;div id=&quot;html_03ec62a2dcdacdd71f47832fb6ca0b27&quot; style=&quot;width: 100.0%; height: 100.0%;&quot;&gt;2350&lt;/div&gt;`)[0];\n",
       "                popup_9d7623ca1218c8f10b8091f2d8c0efaf.setContent(html_03ec62a2dcdacdd71f47832fb6ca0b27);\n",
       "            \n",
       "        \n",
       "\n",
       "        marker_376bf7d75f89dc547b5004242611b61a.bindPopup(popup_9d7623ca1218c8f10b8091f2d8c0efaf)\n",
       "        ;\n",
       "\n",
       "        \n",
       "    \n",
       "    \n",
       "            var marker_47a0c9e7172bed36e71c759120fb45b9 = L.marker(\n",
       "                [-15.785406445712793, -47.77728909161838],\n",
       "                {}\n",
       "            ).addTo(map_3fcae0097883a19cddc9b2b233ee663d);\n",
       "        \n",
       "    \n",
       "        var popup_9208132b56960f05d851ad765406656b = L.popup({&quot;maxWidth&quot;: &quot;100%&quot;});\n",
       "\n",
       "        \n",
       "            \n",
       "                var html_6d6cf48ccfe4ccf8e2708c23f88a8ca7 = $(`&lt;div id=&quot;html_6d6cf48ccfe4ccf8e2708c23f88a8ca7&quot; style=&quot;width: 100.0%; height: 100.0%;&quot;&gt;2696&lt;/div&gt;`)[0];\n",
       "                popup_9208132b56960f05d851ad765406656b.setContent(html_6d6cf48ccfe4ccf8e2708c23f88a8ca7);\n",
       "            \n",
       "        \n",
       "\n",
       "        marker_47a0c9e7172bed36e71c759120fb45b9.bindPopup(popup_9208132b56960f05d851ad765406656b)\n",
       "        ;\n",
       "\n",
       "        \n",
       "    \n",
       "    \n",
       "            var marker_261b559239c3de34c66c766bdc94a9b5 = L.marker(\n",
       "                [-15.83530412611058, -47.821769542188825],\n",
       "                {}\n",
       "            ).addTo(map_3fcae0097883a19cddc9b2b233ee663d);\n",
       "        \n",
       "    \n",
       "        var popup_8221cc6a9a289991695ba8787714dbe6 = L.popup({&quot;maxWidth&quot;: &quot;100%&quot;});\n",
       "\n",
       "        \n",
       "            \n",
       "                var html_1ee0fcb0fff23687d68ce6e14b59cf1f = $(`&lt;div id=&quot;html_1ee0fcb0fff23687d68ce6e14b59cf1f&quot; style=&quot;width: 100.0%; height: 100.0%;&quot;&gt;2386&lt;/div&gt;`)[0];\n",
       "                popup_8221cc6a9a289991695ba8787714dbe6.setContent(html_1ee0fcb0fff23687d68ce6e14b59cf1f);\n",
       "            \n",
       "        \n",
       "\n",
       "        marker_261b559239c3de34c66c766bdc94a9b5.bindPopup(popup_8221cc6a9a289991695ba8787714dbe6)\n",
       "        ;\n",
       "\n",
       "        \n",
       "    \n",
       "    \n",
       "            var marker_0e60fb8a3f8994ecc59657bd0dd4b6f9 = L.marker(\n",
       "                [-15.835294075181668, -47.81849649042615],\n",
       "                {}\n",
       "            ).addTo(map_3fcae0097883a19cddc9b2b233ee663d);\n",
       "        \n",
       "    \n",
       "        var popup_6712fe13a3322e585b11760c0b5b2b68 = L.popup({&quot;maxWidth&quot;: &quot;100%&quot;});\n",
       "\n",
       "        \n",
       "            \n",
       "                var html_0d703453967fe50f4f805fe5345016c5 = $(`&lt;div id=&quot;html_0d703453967fe50f4f805fe5345016c5&quot; style=&quot;width: 100.0%; height: 100.0%;&quot;&gt;2387&lt;/div&gt;`)[0];\n",
       "                popup_6712fe13a3322e585b11760c0b5b2b68.setContent(html_0d703453967fe50f4f805fe5345016c5);\n",
       "            \n",
       "        \n",
       "\n",
       "        marker_0e60fb8a3f8994ecc59657bd0dd4b6f9.bindPopup(popup_6712fe13a3322e585b11760c0b5b2b68)\n",
       "        ;\n",
       "\n",
       "        \n",
       "    \n",
       "    \n",
       "            var marker_cd5142ce60f2a9a6ae62b087969567e6 = L.marker(\n",
       "                [-15.833274259252423, -47.82363918031196],\n",
       "                {}\n",
       "            ).addTo(map_3fcae0097883a19cddc9b2b233ee663d);\n",
       "        \n",
       "    \n",
       "        var popup_a4b2aaa17990a78263ff8004f1938f14 = L.popup({&quot;maxWidth&quot;: &quot;100%&quot;});\n",
       "\n",
       "        \n",
       "            \n",
       "                var html_8184f6d825288396ca809d0e12f6b24e = $(`&lt;div id=&quot;html_8184f6d825288396ca809d0e12f6b24e&quot; style=&quot;width: 100.0%; height: 100.0%;&quot;&gt;2406&lt;/div&gt;`)[0];\n",
       "                popup_a4b2aaa17990a78263ff8004f1938f14.setContent(html_8184f6d825288396ca809d0e12f6b24e);\n",
       "            \n",
       "        \n",
       "\n",
       "        marker_cd5142ce60f2a9a6ae62b087969567e6.bindPopup(popup_a4b2aaa17990a78263ff8004f1938f14)\n",
       "        ;\n",
       "\n",
       "        \n",
       "    \n",
       "    \n",
       "            var marker_4cdcd35b780f6f62e11b1609b84cc830 = L.marker(\n",
       "                [-15.834860487271557, -47.82222269505168],\n",
       "                {}\n",
       "            ).addTo(map_3fcae0097883a19cddc9b2b233ee663d);\n",
       "        \n",
       "    \n",
       "        var popup_b79a7bfa2173e35d437392c73958e4c5 = L.popup({&quot;maxWidth&quot;: &quot;100%&quot;});\n",
       "\n",
       "        \n",
       "            \n",
       "                var html_f04df0295e7e7ff07ccf62eec93c1836 = $(`&lt;div id=&quot;html_f04df0295e7e7ff07ccf62eec93c1836&quot; style=&quot;width: 100.0%; height: 100.0%;&quot;&gt;2405&lt;/div&gt;`)[0];\n",
       "                popup_b79a7bfa2173e35d437392c73958e4c5.setContent(html_f04df0295e7e7ff07ccf62eec93c1836);\n",
       "            \n",
       "        \n",
       "\n",
       "        marker_4cdcd35b780f6f62e11b1609b84cc830.bindPopup(popup_b79a7bfa2173e35d437392c73958e4c5)\n",
       "        ;\n",
       "\n",
       "        \n",
       "    \n",
       "    \n",
       "            var marker_4bdfa23cbc3dd4a7c34e70599e56423c = L.marker(\n",
       "                [-15.833452384974414, -47.82365189827174],\n",
       "                {}\n",
       "            ).addTo(map_3fcae0097883a19cddc9b2b233ee663d);\n",
       "        \n",
       "    \n",
       "        var popup_952eefb199604b6816df3f1cd84143ee = L.popup({&quot;maxWidth&quot;: &quot;100%&quot;});\n",
       "\n",
       "        \n",
       "            \n",
       "                var html_6e0c452ba809bf64b5741de822694976 = $(`&lt;div id=&quot;html_6e0c452ba809bf64b5741de822694976&quot; style=&quot;width: 100.0%; height: 100.0%;&quot;&gt;2413&lt;/div&gt;`)[0];\n",
       "                popup_952eefb199604b6816df3f1cd84143ee.setContent(html_6e0c452ba809bf64b5741de822694976);\n",
       "            \n",
       "        \n",
       "\n",
       "        marker_4bdfa23cbc3dd4a7c34e70599e56423c.bindPopup(popup_952eefb199604b6816df3f1cd84143ee)\n",
       "        ;\n",
       "\n",
       "        \n",
       "    \n",
       "    \n",
       "            var marker_a111585ee3130c1799ec6408904480d8 = L.marker(\n",
       "                [-15.793944423915182, -47.88278283711198],\n",
       "                {}\n",
       "            ).addTo(map_3fcae0097883a19cddc9b2b233ee663d);\n",
       "        \n",
       "    \n",
       "        var popup_94225d9930b4c9b85bfde66146dd1023 = L.popup({&quot;maxWidth&quot;: &quot;100%&quot;});\n",
       "\n",
       "        \n",
       "            \n",
       "                var html_1215ef5f78e37d56116fdfbc7adef465 = $(`&lt;div id=&quot;html_1215ef5f78e37d56116fdfbc7adef465&quot; style=&quot;width: 100.0%; height: 100.0%;&quot;&gt;7001&lt;/div&gt;`)[0];\n",
       "                popup_94225d9930b4c9b85bfde66146dd1023.setContent(html_1215ef5f78e37d56116fdfbc7adef465);\n",
       "            \n",
       "        \n",
       "\n",
       "        marker_a111585ee3130c1799ec6408904480d8.bindPopup(popup_94225d9930b4c9b85bfde66146dd1023)\n",
       "        ;\n",
       "\n",
       "        \n",
       "    \n",
       "    \n",
       "            var marker_6d4c5af839c6414253c06f07bdfc8f23 = L.marker(\n",
       "                [-15.79401063345237, -47.88199116081013],\n",
       "                {}\n",
       "            ).addTo(map_3fcae0097883a19cddc9b2b233ee663d);\n",
       "        \n",
       "    \n",
       "        var popup_3bb6d3b4a0649225bf8a92575af8fdf1 = L.popup({&quot;maxWidth&quot;: &quot;100%&quot;});\n",
       "\n",
       "        \n",
       "            \n",
       "                var html_083a3c6c433b6c65fbecd3ea6ea20cea = $(`&lt;div id=&quot;html_083a3c6c433b6c65fbecd3ea6ea20cea&quot; style=&quot;width: 100.0%; height: 100.0%;&quot;&gt;3368&lt;/div&gt;`)[0];\n",
       "                popup_3bb6d3b4a0649225bf8a92575af8fdf1.setContent(html_083a3c6c433b6c65fbecd3ea6ea20cea);\n",
       "            \n",
       "        \n",
       "\n",
       "        marker_6d4c5af839c6414253c06f07bdfc8f23.bindPopup(popup_3bb6d3b4a0649225bf8a92575af8fdf1)\n",
       "        ;\n",
       "\n",
       "        \n",
       "    \n",
       "    \n",
       "            var marker_7030c36ffa232f44e088d59d668d2aa7 = L.marker(\n",
       "                [-15.750807913099322, -47.8949281116755],\n",
       "                {}\n",
       "            ).addTo(map_3fcae0097883a19cddc9b2b233ee663d);\n",
       "        \n",
       "    \n",
       "        var popup_422c46da577c73141832903070ecca2f = L.popup({&quot;maxWidth&quot;: &quot;100%&quot;});\n",
       "\n",
       "        \n",
       "            \n",
       "                var html_e047c7a6fd3b8152153d756b91f3dc3e = $(`&lt;div id=&quot;html_e047c7a6fd3b8152153d756b91f3dc3e&quot; style=&quot;width: 100.0%; height: 100.0%;&quot;&gt;3516&lt;/div&gt;`)[0];\n",
       "                popup_422c46da577c73141832903070ecca2f.setContent(html_e047c7a6fd3b8152153d756b91f3dc3e);\n",
       "            \n",
       "        \n",
       "\n",
       "        marker_7030c36ffa232f44e088d59d668d2aa7.bindPopup(popup_422c46da577c73141832903070ecca2f)\n",
       "        ;\n",
       "\n",
       "        \n",
       "    \n",
       "    \n",
       "            var marker_07e661baa0413f1b157dcdf1dada98e9 = L.marker(\n",
       "                [-15.753694998623457, -47.89400504430343],\n",
       "                {}\n",
       "            ).addTo(map_3fcae0097883a19cddc9b2b233ee663d);\n",
       "        \n",
       "    \n",
       "        var popup_0fcab6668a42991be57eafabc88d9c82 = L.popup({&quot;maxWidth&quot;: &quot;100%&quot;});\n",
       "\n",
       "        \n",
       "            \n",
       "                var html_ad1b9d6ea94ac0b0f9163ae53f332f78 = $(`&lt;div id=&quot;html_ad1b9d6ea94ac0b0f9163ae53f332f78&quot; style=&quot;width: 100.0%; height: 100.0%;&quot;&gt;3515&lt;/div&gt;`)[0];\n",
       "                popup_0fcab6668a42991be57eafabc88d9c82.setContent(html_ad1b9d6ea94ac0b0f9163ae53f332f78);\n",
       "            \n",
       "        \n",
       "\n",
       "        marker_07e661baa0413f1b157dcdf1dada98e9.bindPopup(popup_0fcab6668a42991be57eafabc88d9c82)\n",
       "        ;\n",
       "\n",
       "        \n",
       "    \n",
       "    \n",
       "            var marker_6b0673ee6e4d65904006bad79828042d = L.marker(\n",
       "                [-15.760012169623284, -47.891976176212104],\n",
       "                {}\n",
       "            ).addTo(map_3fcae0097883a19cddc9b2b233ee663d);\n",
       "        \n",
       "    \n",
       "        var popup_208d6f649bc9f3fe0176b24014c6c38d = L.popup({&quot;maxWidth&quot;: &quot;100%&quot;});\n",
       "\n",
       "        \n",
       "            \n",
       "                var html_cb1a6cb48c180f13a2830f79c764c9f3 = $(`&lt;div id=&quot;html_cb1a6cb48c180f13a2830f79c764c9f3&quot; style=&quot;width: 100.0%; height: 100.0%;&quot;&gt;3513&lt;/div&gt;`)[0];\n",
       "                popup_208d6f649bc9f3fe0176b24014c6c38d.setContent(html_cb1a6cb48c180f13a2830f79c764c9f3);\n",
       "            \n",
       "        \n",
       "\n",
       "        marker_6b0673ee6e4d65904006bad79828042d.bindPopup(popup_208d6f649bc9f3fe0176b24014c6c38d)\n",
       "        ;\n",
       "\n",
       "        \n",
       "    \n",
       "    \n",
       "            var marker_2ddfdf9368a8ac0d761b034080ab4a39 = L.marker(\n",
       "                [-15.757033653547683, -47.89293900668162],\n",
       "                {}\n",
       "            ).addTo(map_3fcae0097883a19cddc9b2b233ee663d);\n",
       "        \n",
       "    \n",
       "        var popup_374f5546d04f1e8014aaaa249439d370 = L.popup({&quot;maxWidth&quot;: &quot;100%&quot;});\n",
       "\n",
       "        \n",
       "            \n",
       "                var html_dab292bfaf3dc9cf2a6f49bb541ed08f = $(`&lt;div id=&quot;html_dab292bfaf3dc9cf2a6f49bb541ed08f&quot; style=&quot;width: 100.0%; height: 100.0%;&quot;&gt;3514&lt;/div&gt;`)[0];\n",
       "                popup_374f5546d04f1e8014aaaa249439d370.setContent(html_dab292bfaf3dc9cf2a6f49bb541ed08f);\n",
       "            \n",
       "        \n",
       "\n",
       "        marker_2ddfdf9368a8ac0d761b034080ab4a39.bindPopup(popup_374f5546d04f1e8014aaaa249439d370)\n",
       "        ;\n",
       "\n",
       "        \n",
       "    \n",
       "    \n",
       "            var marker_2e0c81fff5c0bf39e437f614c5c9169a = L.marker(\n",
       "                [-15.754208960654712, -47.89424438985205],\n",
       "                {}\n",
       "            ).addTo(map_3fcae0097883a19cddc9b2b233ee663d);\n",
       "        \n",
       "    \n",
       "        var popup_bb6eb00c673baed46ea55237831f7bce = L.popup({&quot;maxWidth&quot;: &quot;100%&quot;});\n",
       "\n",
       "        \n",
       "            \n",
       "                var html_f38d9b93eb38ad516caa26064ed7dc15 = $(`&lt;div id=&quot;html_f38d9b93eb38ad516caa26064ed7dc15&quot; style=&quot;width: 100.0%; height: 100.0%;&quot;&gt;3528&lt;/div&gt;`)[0];\n",
       "                popup_bb6eb00c673baed46ea55237831f7bce.setContent(html_f38d9b93eb38ad516caa26064ed7dc15);\n",
       "            \n",
       "        \n",
       "\n",
       "        marker_2e0c81fff5c0bf39e437f614c5c9169a.bindPopup(popup_bb6eb00c673baed46ea55237831f7bce)\n",
       "        ;\n",
       "\n",
       "        \n",
       "    \n",
       "    \n",
       "            var marker_25b0f7d8fb65502225b294f6fa9b9460 = L.marker(\n",
       "                [-15.75717373866217, -47.89329530076313],\n",
       "                {}\n",
       "            ).addTo(map_3fcae0097883a19cddc9b2b233ee663d);\n",
       "        \n",
       "    \n",
       "        var popup_96339183e5f1c5f38810bdc0c2b6ef3a = L.popup({&quot;maxWidth&quot;: &quot;100%&quot;});\n",
       "\n",
       "        \n",
       "            \n",
       "                var html_c84882c8fee6f0e6814596736bb8287b = $(`&lt;div id=&quot;html_c84882c8fee6f0e6814596736bb8287b&quot; style=&quot;width: 100.0%; height: 100.0%;&quot;&gt;3529&lt;/div&gt;`)[0];\n",
       "                popup_96339183e5f1c5f38810bdc0c2b6ef3a.setContent(html_c84882c8fee6f0e6814596736bb8287b);\n",
       "            \n",
       "        \n",
       "\n",
       "        marker_25b0f7d8fb65502225b294f6fa9b9460.bindPopup(popup_96339183e5f1c5f38810bdc0c2b6ef3a)\n",
       "        ;\n",
       "\n",
       "        \n",
       "    \n",
       "    \n",
       "            var marker_124af1b3ee5a37865f9a17b1359cd5c9 = L.marker(\n",
       "                [-15.760465433818393, -47.89223559810704],\n",
       "                {}\n",
       "            ).addTo(map_3fcae0097883a19cddc9b2b233ee663d);\n",
       "        \n",
       "    \n",
       "        var popup_d8b0508bbbe4774e6789a075b21233b6 = L.popup({&quot;maxWidth&quot;: &quot;100%&quot;});\n",
       "\n",
       "        \n",
       "            \n",
       "                var html_5e254f7d78a5b90060228f597d6bb55a = $(`&lt;div id=&quot;html_5e254f7d78a5b90060228f597d6bb55a&quot; style=&quot;width: 100.0%; height: 100.0%;&quot;&gt;3530&lt;/div&gt;`)[0];\n",
       "                popup_d8b0508bbbe4774e6789a075b21233b6.setContent(html_5e254f7d78a5b90060228f597d6bb55a);\n",
       "            \n",
       "        \n",
       "\n",
       "        marker_124af1b3ee5a37865f9a17b1359cd5c9.bindPopup(popup_d8b0508bbbe4774e6789a075b21233b6)\n",
       "        ;\n",
       "\n",
       "        \n",
       "    \n",
       "    \n",
       "            var marker_559a3855f02a9e32ff35f4e833b69c50 = L.marker(\n",
       "                [-15.750964679369993, -47.89528324932769],\n",
       "                {}\n",
       "            ).addTo(map_3fcae0097883a19cddc9b2b233ee663d);\n",
       "        \n",
       "    \n",
       "        var popup_ae1956cb78ac13c664dfd4ad9dfb0add = L.popup({&quot;maxWidth&quot;: &quot;100%&quot;});\n",
       "\n",
       "        \n",
       "            \n",
       "                var html_dfe0c964dcf91bddce1ec7df1573e073 = $(`&lt;div id=&quot;html_dfe0c964dcf91bddce1ec7df1573e073&quot; style=&quot;width: 100.0%; height: 100.0%;&quot;&gt;3527&lt;/div&gt;`)[0];\n",
       "                popup_ae1956cb78ac13c664dfd4ad9dfb0add.setContent(html_dfe0c964dcf91bddce1ec7df1573e073);\n",
       "            \n",
       "        \n",
       "\n",
       "        marker_559a3855f02a9e32ff35f4e833b69c50.bindPopup(popup_ae1956cb78ac13c664dfd4ad9dfb0add)\n",
       "        ;\n",
       "\n",
       "        \n",
       "    \n",
       "    \n",
       "            var marker_4eba9fdc2512f1d4e5ca315d787230a2 = L.marker(\n",
       "                [-15.780738695652959, -47.887459438755265],\n",
       "                {}\n",
       "            ).addTo(map_3fcae0097883a19cddc9b2b233ee663d);\n",
       "        \n",
       "    \n",
       "        var popup_7dd70a2f7253a5b29940e1df3743b398 = L.popup({&quot;maxWidth&quot;: &quot;100%&quot;});\n",
       "\n",
       "        \n",
       "            \n",
       "                var html_5ea510cac2df700c35223e7a6488dfcc = $(`&lt;div id=&quot;html_5ea510cac2df700c35223e7a6488dfcc&quot; style=&quot;width: 100.0%; height: 100.0%;&quot;&gt;3506&lt;/div&gt;`)[0];\n",
       "                popup_7dd70a2f7253a5b29940e1df3743b398.setContent(html_5ea510cac2df700c35223e7a6488dfcc);\n",
       "            \n",
       "        \n",
       "\n",
       "        marker_4eba9fdc2512f1d4e5ca315d787230a2.bindPopup(popup_7dd70a2f7253a5b29940e1df3743b398)\n",
       "        ;\n",
       "\n",
       "        \n",
       "    \n",
       "    \n",
       "            var marker_b0c89fe88b3bcac95c924e4d094984c8 = L.marker(\n",
       "                [-15.780964411486119, -47.887867366820046],\n",
       "                {}\n",
       "            ).addTo(map_3fcae0097883a19cddc9b2b233ee663d);\n",
       "        \n",
       "    \n",
       "        var popup_75b9bf4ab93d14780cbfb283c0b560d6 = L.popup({&quot;maxWidth&quot;: &quot;100%&quot;});\n",
       "\n",
       "        \n",
       "            \n",
       "                var html_0085ff41a3ea99b42ad9fa6253842a2e = $(`&lt;div id=&quot;html_0085ff41a3ea99b42ad9fa6253842a2e&quot; style=&quot;width: 100.0%; height: 100.0%;&quot;&gt;3537&lt;/div&gt;`)[0];\n",
       "                popup_75b9bf4ab93d14780cbfb283c0b560d6.setContent(html_0085ff41a3ea99b42ad9fa6253842a2e);\n",
       "            \n",
       "        \n",
       "\n",
       "        marker_b0c89fe88b3bcac95c924e4d094984c8.bindPopup(popup_75b9bf4ab93d14780cbfb283c0b560d6)\n",
       "        ;\n",
       "\n",
       "        \n",
       "    \n",
       "    \n",
       "            var marker_2ee4b518d2b03421c2fe03d99c09fa21 = L.marker(\n",
       "                [-15.777867601935073, -47.88808519169229],\n",
       "                {}\n",
       "            ).addTo(map_3fcae0097883a19cddc9b2b233ee663d);\n",
       "        \n",
       "    \n",
       "        var popup_1c00603f2ca693544deb024edf7e1147 = L.popup({&quot;maxWidth&quot;: &quot;100%&quot;});\n",
       "\n",
       "        \n",
       "            \n",
       "                var html_283428c791d3a8b9e9ce5bd3710ca51b = $(`&lt;div id=&quot;html_283428c791d3a8b9e9ce5bd3710ca51b&quot; style=&quot;width: 100.0%; height: 100.0%;&quot;&gt;3536&lt;/div&gt;`)[0];\n",
       "                popup_1c00603f2ca693544deb024edf7e1147.setContent(html_283428c791d3a8b9e9ce5bd3710ca51b);\n",
       "            \n",
       "        \n",
       "\n",
       "        marker_2ee4b518d2b03421c2fe03d99c09fa21.bindPopup(popup_1c00603f2ca693544deb024edf7e1147)\n",
       "        ;\n",
       "\n",
       "        \n",
       "    \n",
       "    \n",
       "            var marker_e890e12da8951e28ac7304fb4259e3d7 = L.marker(\n",
       "                [-15.777509708768566, -47.88773230535398],\n",
       "                {}\n",
       "            ).addTo(map_3fcae0097883a19cddc9b2b233ee663d);\n",
       "        \n",
       "    \n",
       "        var popup_2429cc6dcaec7e6f6c0dbc2b74f53a07 = L.popup({&quot;maxWidth&quot;: &quot;100%&quot;});\n",
       "\n",
       "        \n",
       "            \n",
       "                var html_a4bee593c9124475edea42af913f5f18 = $(`&lt;div id=&quot;html_a4bee593c9124475edea42af913f5f18&quot; style=&quot;width: 100.0%; height: 100.0%;&quot;&gt;3507&lt;/div&gt;`)[0];\n",
       "                popup_2429cc6dcaec7e6f6c0dbc2b74f53a07.setContent(html_a4bee593c9124475edea42af913f5f18);\n",
       "            \n",
       "        \n",
       "\n",
       "        marker_e890e12da8951e28ac7304fb4259e3d7.bindPopup(popup_2429cc6dcaec7e6f6c0dbc2b74f53a07)\n",
       "        ;\n",
       "\n",
       "        \n",
       "    \n",
       "    \n",
       "            var marker_b0655d2b9edd3d9e31ae365bbcfdcb3e = L.marker(\n",
       "                [-15.771152364468017, -47.88868146558276],\n",
       "                {}\n",
       "            ).addTo(map_3fcae0097883a19cddc9b2b233ee663d);\n",
       "        \n",
       "    \n",
       "        var popup_855889a17fc9cf7be6e9b44898d5860f = L.popup({&quot;maxWidth&quot;: &quot;100%&quot;});\n",
       "\n",
       "        \n",
       "            \n",
       "                var html_e48ac6a6ef65c1b121565a65babf0276 = $(`&lt;div id=&quot;html_e48ac6a6ef65c1b121565a65babf0276&quot; style=&quot;width: 100.0%; height: 100.0%;&quot;&gt;3509&lt;/div&gt;`)[0];\n",
       "                popup_855889a17fc9cf7be6e9b44898d5860f.setContent(html_e48ac6a6ef65c1b121565a65babf0276);\n",
       "            \n",
       "        \n",
       "\n",
       "        marker_b0655d2b9edd3d9e31ae365bbcfdcb3e.bindPopup(popup_855889a17fc9cf7be6e9b44898d5860f)\n",
       "        ;\n",
       "\n",
       "        \n",
       "    \n",
       "    \n",
       "            var marker_530458beaf0fbff74479da613fd202c4 = L.marker(\n",
       "                [-15.774801330614789, -47.88800228388125],\n",
       "                {}\n",
       "            ).addTo(map_3fcae0097883a19cddc9b2b233ee663d);\n",
       "        \n",
       "    \n",
       "        var popup_2833fd8d2d53c02430ee3d8b53af7e11 = L.popup({&quot;maxWidth&quot;: &quot;100%&quot;});\n",
       "\n",
       "        \n",
       "            \n",
       "                var html_b53627ac0894d6a01a0a44e7cc1ffd6b = $(`&lt;div id=&quot;html_b53627ac0894d6a01a0a44e7cc1ffd6b&quot; style=&quot;width: 100.0%; height: 100.0%;&quot;&gt;3508&lt;/div&gt;`)[0];\n",
       "                popup_2833fd8d2d53c02430ee3d8b53af7e11.setContent(html_b53627ac0894d6a01a0a44e7cc1ffd6b);\n",
       "            \n",
       "        \n",
       "\n",
       "        marker_530458beaf0fbff74479da613fd202c4.bindPopup(popup_2833fd8d2d53c02430ee3d8b53af7e11)\n",
       "        ;\n",
       "\n",
       "        \n",
       "    \n",
       "    \n",
       "            var marker_4ec6fa4e844badee3031a2e030442319 = L.marker(\n",
       "                [-15.766141701235163, -47.890017882666925],\n",
       "                {}\n",
       "            ).addTo(map_3fcae0097883a19cddc9b2b233ee663d);\n",
       "        \n",
       "    \n",
       "        var popup_3f74d5b081f7818924b7006c56ba3266 = L.popup({&quot;maxWidth&quot;: &quot;100%&quot;});\n",
       "\n",
       "        \n",
       "            \n",
       "                var html_258aa2cdbce90ae61559dd34f21d0237 = $(`&lt;div id=&quot;html_258aa2cdbce90ae61559dd34f21d0237&quot; style=&quot;width: 100.0%; height: 100.0%;&quot;&gt;3511&lt;/div&gt;`)[0];\n",
       "                popup_3f74d5b081f7818924b7006c56ba3266.setContent(html_258aa2cdbce90ae61559dd34f21d0237);\n",
       "            \n",
       "        \n",
       "\n",
       "        marker_4ec6fa4e844badee3031a2e030442319.bindPopup(popup_3f74d5b081f7818924b7006c56ba3266)\n",
       "        ;\n",
       "\n",
       "        \n",
       "    \n",
       "    \n",
       "            var marker_36c681b8e73a5face579915937cb26d9 = L.marker(\n",
       "                [-15.763216046795371, -47.89095602356193],\n",
       "                {}\n",
       "            ).addTo(map_3fcae0097883a19cddc9b2b233ee663d);\n",
       "        \n",
       "    \n",
       "        var popup_8446c4433ab12aad9b48ef50b4ca96f7 = L.popup({&quot;maxWidth&quot;: &quot;100%&quot;});\n",
       "\n",
       "        \n",
       "            \n",
       "                var html_215ac655ee419f53eb6a50eb3648efbe = $(`&lt;div id=&quot;html_215ac655ee419f53eb6a50eb3648efbe&quot; style=&quot;width: 100.0%; height: 100.0%;&quot;&gt;3512&lt;/div&gt;`)[0];\n",
       "                popup_8446c4433ab12aad9b48ef50b4ca96f7.setContent(html_215ac655ee419f53eb6a50eb3648efbe);\n",
       "            \n",
       "        \n",
       "\n",
       "        marker_36c681b8e73a5face579915937cb26d9.bindPopup(popup_8446c4433ab12aad9b48ef50b4ca96f7)\n",
       "        ;\n",
       "\n",
       "        \n",
       "    \n",
       "    \n",
       "            var marker_94295cef8bfb6bf4d6d4fc75e66b1fd1 = L.marker(\n",
       "                [-15.769141094278112, -47.88915290178694],\n",
       "                {}\n",
       "            ).addTo(map_3fcae0097883a19cddc9b2b233ee663d);\n",
       "        \n",
       "    \n",
       "        var popup_ecfcfd092aad7a6f0fc224a70c063b62 = L.popup({&quot;maxWidth&quot;: &quot;100%&quot;});\n",
       "\n",
       "        \n",
       "            \n",
       "                var html_1f8c4074b27c9b21c1ab261ce7190c79 = $(`&lt;div id=&quot;html_1f8c4074b27c9b21c1ab261ce7190c79&quot; style=&quot;width: 100.0%; height: 100.0%;&quot;&gt;3510&lt;/div&gt;`)[0];\n",
       "                popup_ecfcfd092aad7a6f0fc224a70c063b62.setContent(html_1f8c4074b27c9b21c1ab261ce7190c79);\n",
       "            \n",
       "        \n",
       "\n",
       "        marker_94295cef8bfb6bf4d6d4fc75e66b1fd1.bindPopup(popup_ecfcfd092aad7a6f0fc224a70c063b62)\n",
       "        ;\n",
       "\n",
       "        \n",
       "    \n",
       "    \n",
       "            var marker_0160bb86fa5b7d0dbde617af343242df = L.marker(\n",
       "                [-15.763359943029167, -47.89131190194332],\n",
       "                {}\n",
       "            ).addTo(map_3fcae0097883a19cddc9b2b233ee663d);\n",
       "        \n",
       "    \n",
       "        var popup_e430f9f5ce4aa1c0c14f2cae296a1375 = L.popup({&quot;maxWidth&quot;: &quot;100%&quot;});\n",
       "\n",
       "        \n",
       "            \n",
       "                var html_284c0c78d98db5fe285014e033081816 = $(`&lt;div id=&quot;html_284c0c78d98db5fe285014e033081816&quot; style=&quot;width: 100.0%; height: 100.0%;&quot;&gt;3531&lt;/div&gt;`)[0];\n",
       "                popup_e430f9f5ce4aa1c0c14f2cae296a1375.setContent(html_284c0c78d98db5fe285014e033081816);\n",
       "            \n",
       "        \n",
       "\n",
       "        marker_0160bb86fa5b7d0dbde617af343242df.bindPopup(popup_e430f9f5ce4aa1c0c14f2cae296a1375)\n",
       "        ;\n",
       "\n",
       "        \n",
       "    \n",
       "    \n",
       "            var marker_c8b0caf648dab7db4826fdee466ed771 = L.marker(\n",
       "                [-15.766656694428423, -47.8902569120232],\n",
       "                {}\n",
       "            ).addTo(map_3fcae0097883a19cddc9b2b233ee663d);\n",
       "        \n",
       "    \n",
       "        var popup_5ec7358b0c1bbb64b83d32df2af25b03 = L.popup({&quot;maxWidth&quot;: &quot;100%&quot;});\n",
       "\n",
       "        \n",
       "            \n",
       "                var html_68ab62b7214be1a1aadfb537c1c0d27b = $(`&lt;div id=&quot;html_68ab62b7214be1a1aadfb537c1c0d27b&quot; style=&quot;width: 100.0%; height: 100.0%;&quot;&gt;3532&lt;/div&gt;`)[0];\n",
       "                popup_5ec7358b0c1bbb64b83d32df2af25b03.setContent(html_68ab62b7214be1a1aadfb537c1c0d27b);\n",
       "            \n",
       "        \n",
       "\n",
       "        marker_c8b0caf648dab7db4826fdee466ed771.bindPopup(popup_5ec7358b0c1bbb64b83d32df2af25b03)\n",
       "        ;\n",
       "\n",
       "        \n",
       "    \n",
       "    \n",
       "            var marker_3cb49c72363e1f040c10d433ee04f435 = L.marker(\n",
       "                [-15.76925722178799, -47.88955468811846],\n",
       "                {}\n",
       "            ).addTo(map_3fcae0097883a19cddc9b2b233ee663d);\n",
       "        \n",
       "    \n",
       "        var popup_c0329730b0c5799412d6c43180c8e316 = L.popup({&quot;maxWidth&quot;: &quot;100%&quot;});\n",
       "\n",
       "        \n",
       "            \n",
       "                var html_87381c7d3eab07bb1cfd242f083ba0c3 = $(`&lt;div id=&quot;html_87381c7d3eab07bb1cfd242f083ba0c3&quot; style=&quot;width: 100.0%; height: 100.0%;&quot;&gt;3533&lt;/div&gt;`)[0];\n",
       "                popup_c0329730b0c5799412d6c43180c8e316.setContent(html_87381c7d3eab07bb1cfd242f083ba0c3);\n",
       "            \n",
       "        \n",
       "\n",
       "        marker_3cb49c72363e1f040c10d433ee04f435.bindPopup(popup_c0329730b0c5799412d6c43180c8e316)\n",
       "        ;\n",
       "\n",
       "        \n",
       "    \n",
       "    \n",
       "            var marker_5b2956bffb7601dfbcb4bb782be728c2 = L.marker(\n",
       "                [-15.771805359502322, -47.888934384031636],\n",
       "                {}\n",
       "            ).addTo(map_3fcae0097883a19cddc9b2b233ee663d);\n",
       "        \n",
       "    \n",
       "        var popup_e992c47d74fea79f45139addf40d8bb7 = L.popup({&quot;maxWidth&quot;: &quot;100%&quot;});\n",
       "\n",
       "        \n",
       "            \n",
       "                var html_88ac6ad61d0284266f3ae4f7aaf8f14d = $(`&lt;div id=&quot;html_88ac6ad61d0284266f3ae4f7aaf8f14d&quot; style=&quot;width: 100.0%; height: 100.0%;&quot;&gt;3534&lt;/div&gt;`)[0];\n",
       "                popup_e992c47d74fea79f45139addf40d8bb7.setContent(html_88ac6ad61d0284266f3ae4f7aaf8f14d);\n",
       "            \n",
       "        \n",
       "\n",
       "        marker_5b2956bffb7601dfbcb4bb782be728c2.bindPopup(popup_e992c47d74fea79f45139addf40d8bb7)\n",
       "        ;\n",
       "\n",
       "        \n",
       "    \n",
       "    \n",
       "            var marker_4f7232b51bbfe82aea451c5b19f80478 = L.marker(\n",
       "                [-15.7748788137897, -47.88843148773567],\n",
       "                {}\n",
       "            ).addTo(map_3fcae0097883a19cddc9b2b233ee663d);\n",
       "        \n",
       "    \n",
       "        var popup_400eb361a8e8b78addd47876920b9378 = L.popup({&quot;maxWidth&quot;: &quot;100%&quot;});\n",
       "\n",
       "        \n",
       "            \n",
       "                var html_bcbaeaff105d3aeeac8a0d6079855d0e = $(`&lt;div id=&quot;html_bcbaeaff105d3aeeac8a0d6079855d0e&quot; style=&quot;width: 100.0%; height: 100.0%;&quot;&gt;3535&lt;/div&gt;`)[0];\n",
       "                popup_400eb361a8e8b78addd47876920b9378.setContent(html_bcbaeaff105d3aeeac8a0d6079855d0e);\n",
       "            \n",
       "        \n",
       "\n",
       "        marker_4f7232b51bbfe82aea451c5b19f80478.bindPopup(popup_400eb361a8e8b78addd47876920b9378)\n",
       "        ;\n",
       "\n",
       "        \n",
       "    \n",
       "    \n",
       "            var marker_9cbf2f88784ed76a600f9ded934a9ba6 = L.marker(\n",
       "                [-15.748031643828298, -47.89622512072298],\n",
       "                {}\n",
       "            ).addTo(map_3fcae0097883a19cddc9b2b233ee663d);\n",
       "        \n",
       "    \n",
       "        var popup_6fab8e56dcbc0cf5974f0657a59e6dbb = L.popup({&quot;maxWidth&quot;: &quot;100%&quot;});\n",
       "\n",
       "        \n",
       "            \n",
       "                var html_edd551ed542a8c20b6c20808fd70f3cb = $(`&lt;div id=&quot;html_edd551ed542a8c20b6c20808fd70f3cb&quot; style=&quot;width: 100.0%; height: 100.0%;&quot;&gt;3526&lt;/div&gt;`)[0];\n",
       "                popup_6fab8e56dcbc0cf5974f0657a59e6dbb.setContent(html_edd551ed542a8c20b6c20808fd70f3cb);\n",
       "            \n",
       "        \n",
       "\n",
       "        marker_9cbf2f88784ed76a600f9ded934a9ba6.bindPopup(popup_6fab8e56dcbc0cf5974f0657a59e6dbb)\n",
       "        ;\n",
       "\n",
       "        \n",
       "    \n",
       "    \n",
       "            var marker_de93c8dcf439907197cd24deb4ed2094 = L.marker(\n",
       "                [-15.789610117742354, -47.88801486157596],\n",
       "                {}\n",
       "            ).addTo(map_3fcae0097883a19cddc9b2b233ee663d);\n",
       "        \n",
       "    \n",
       "        var popup_50de6a46847ed769d4fddda7f242c26c = L.popup({&quot;maxWidth&quot;: &quot;100%&quot;});\n",
       "\n",
       "        \n",
       "            \n",
       "                var html_5ca87372156d68fcfca02dc0f9e3de14 = $(`&lt;div id=&quot;html_5ca87372156d68fcfca02dc0f9e3de14&quot; style=&quot;width: 100.0%; height: 100.0%;&quot;&gt;3612&lt;/div&gt;`)[0];\n",
       "                popup_50de6a46847ed769d4fddda7f242c26c.setContent(html_5ca87372156d68fcfca02dc0f9e3de14);\n",
       "            \n",
       "        \n",
       "\n",
       "        marker_de93c8dcf439907197cd24deb4ed2094.bindPopup(popup_50de6a46847ed769d4fddda7f242c26c)\n",
       "        ;\n",
       "\n",
       "        \n",
       "    \n",
       "    \n",
       "            var marker_ab16042ec91fa861cc6a2cd8fb223757 = L.marker(\n",
       "                [-15.788580267792598, -47.8895868114331],\n",
       "                {}\n",
       "            ).addTo(map_3fcae0097883a19cddc9b2b233ee663d);\n",
       "        \n",
       "    \n",
       "        var popup_c68c8806e88643a3fd198010f49e67c5 = L.popup({&quot;maxWidth&quot;: &quot;100%&quot;});\n",
       "\n",
       "        \n",
       "            \n",
       "                var html_28ae0cf308cd5c2c4318f35c838ceecc = $(`&lt;div id=&quot;html_28ae0cf308cd5c2c4318f35c838ceecc&quot; style=&quot;width: 100.0%; height: 100.0%;&quot;&gt;4456&lt;/div&gt;`)[0];\n",
       "                popup_c68c8806e88643a3fd198010f49e67c5.setContent(html_28ae0cf308cd5c2c4318f35c838ceecc);\n",
       "            \n",
       "        \n",
       "\n",
       "        marker_ab16042ec91fa861cc6a2cd8fb223757.bindPopup(popup_c68c8806e88643a3fd198010f49e67c5)\n",
       "        ;\n",
       "\n",
       "        \n",
       "    \n",
       "    \n",
       "            var marker_74919ca61f4e18dc9ca94740f2f932e1 = L.marker(\n",
       "                [-15.790222882462139, -47.88629749039833],\n",
       "                {}\n",
       "            ).addTo(map_3fcae0097883a19cddc9b2b233ee663d);\n",
       "        \n",
       "    \n",
       "        var popup_4fbe305d8a512cf8e53096a12daaba27 = L.popup({&quot;maxWidth&quot;: &quot;100%&quot;});\n",
       "\n",
       "        \n",
       "            \n",
       "                var html_a3f4412f12cf13794902e6a763f57744 = $(`&lt;div id=&quot;html_a3f4412f12cf13794902e6a763f57744&quot; style=&quot;width: 100.0%; height: 100.0%;&quot;&gt;3610&lt;/div&gt;`)[0];\n",
       "                popup_4fbe305d8a512cf8e53096a12daaba27.setContent(html_a3f4412f12cf13794902e6a763f57744);\n",
       "            \n",
       "        \n",
       "\n",
       "        marker_74919ca61f4e18dc9ca94740f2f932e1.bindPopup(popup_4fbe305d8a512cf8e53096a12daaba27)\n",
       "        ;\n",
       "\n",
       "        \n",
       "    \n",
       "    \n",
       "            var marker_ca9443bf37b1ccf0b0732e06de7d03c5 = L.marker(\n",
       "                [-15.790210572683938, -47.886399800053695],\n",
       "                {}\n",
       "            ).addTo(map_3fcae0097883a19cddc9b2b233ee663d);\n",
       "        \n",
       "    \n",
       "        var popup_4dc434f27e7f4bde8d9817725810a7e4 = L.popup({&quot;maxWidth&quot;: &quot;100%&quot;});\n",
       "\n",
       "        \n",
       "            \n",
       "                var html_950cb54319604e9f0631e6bff8fa7b69 = $(`&lt;div id=&quot;html_950cb54319604e9f0631e6bff8fa7b69&quot; style=&quot;width: 100.0%; height: 100.0%;&quot;&gt;3601&lt;/div&gt;`)[0];\n",
       "                popup_4dc434f27e7f4bde8d9817725810a7e4.setContent(html_950cb54319604e9f0631e6bff8fa7b69);\n",
       "            \n",
       "        \n",
       "\n",
       "        marker_ca9443bf37b1ccf0b0732e06de7d03c5.bindPopup(popup_4dc434f27e7f4bde8d9817725810a7e4)\n",
       "        ;\n",
       "\n",
       "        \n",
       "    \n",
       "    \n",
       "            var marker_d0feb106b6fcbcceaac493a92e42139d = L.marker(\n",
       "                [-15.791051074978341, -47.886844986747825],\n",
       "                {}\n",
       "            ).addTo(map_3fcae0097883a19cddc9b2b233ee663d);\n",
       "        \n",
       "    \n",
       "        var popup_6b1a54206dc617815ad77a3e0dd23569 = L.popup({&quot;maxWidth&quot;: &quot;100%&quot;});\n",
       "\n",
       "        \n",
       "            \n",
       "                var html_1cb2a85d39007cb679c8fb3e379fd3e2 = $(`&lt;div id=&quot;html_1cb2a85d39007cb679c8fb3e379fd3e2&quot; style=&quot;width: 100.0%; height: 100.0%;&quot;&gt;3251&lt;/div&gt;`)[0];\n",
       "                popup_6b1a54206dc617815ad77a3e0dd23569.setContent(html_1cb2a85d39007cb679c8fb3e379fd3e2);\n",
       "            \n",
       "        \n",
       "\n",
       "        marker_d0feb106b6fcbcceaac493a92e42139d.bindPopup(popup_6b1a54206dc617815ad77a3e0dd23569)\n",
       "        ;\n",
       "\n",
       "        \n",
       "    \n",
       "    \n",
       "            var marker_7e9b34582cbfab3757e154c0ab2bb84a = L.marker(\n",
       "                [-15.787162382832602, -47.887918091709295],\n",
       "                {}\n",
       "            ).addTo(map_3fcae0097883a19cddc9b2b233ee663d);\n",
       "        \n",
       "    \n",
       "        var popup_072081c0746f04fb16df28e0c1e42735 = L.popup({&quot;maxWidth&quot;: &quot;100%&quot;});\n",
       "\n",
       "        \n",
       "            \n",
       "                var html_43d9b4701f9c6b65813d5b7eec2f32bb = $(`&lt;div id=&quot;html_43d9b4701f9c6b65813d5b7eec2f32bb&quot; style=&quot;width: 100.0%; height: 100.0%;&quot;&gt;3504&lt;/div&gt;`)[0];\n",
       "                popup_072081c0746f04fb16df28e0c1e42735.setContent(html_43d9b4701f9c6b65813d5b7eec2f32bb);\n",
       "            \n",
       "        \n",
       "\n",
       "        marker_7e9b34582cbfab3757e154c0ab2bb84a.bindPopup(popup_072081c0746f04fb16df28e0c1e42735)\n",
       "        ;\n",
       "\n",
       "        \n",
       "    \n",
       "    \n",
       "            var marker_42f1fd2e6ac727f2214bf656d551d172 = L.marker(\n",
       "                [-15.783898226654156, -47.88744731247922],\n",
       "                {}\n",
       "            ).addTo(map_3fcae0097883a19cddc9b2b233ee663d);\n",
       "        \n",
       "    \n",
       "        var popup_c944d97165d5a0c33f08587f1b64854d = L.popup({&quot;maxWidth&quot;: &quot;100%&quot;});\n",
       "\n",
       "        \n",
       "            \n",
       "                var html_b68cafbee98f693d3bf9fbd95b448425 = $(`&lt;div id=&quot;html_b68cafbee98f693d3bf9fbd95b448425&quot; style=&quot;width: 100.0%; height: 100.0%;&quot;&gt;3505&lt;/div&gt;`)[0];\n",
       "                popup_c944d97165d5a0c33f08587f1b64854d.setContent(html_b68cafbee98f693d3bf9fbd95b448425);\n",
       "            \n",
       "        \n",
       "\n",
       "        marker_42f1fd2e6ac727f2214bf656d551d172.bindPopup(popup_c944d97165d5a0c33f08587f1b64854d)\n",
       "        ;\n",
       "\n",
       "        \n",
       "    \n",
       "    \n",
       "            var marker_f234bc0323d030ac4171d72b4b27814b = L.marker(\n",
       "                [-15.78523008062385, -47.88797392390371],\n",
       "                {}\n",
       "            ).addTo(map_3fcae0097883a19cddc9b2b233ee663d);\n",
       "        \n",
       "    \n",
       "        var popup_8aaf62367d91127d7d60461be6b92825 = L.popup({&quot;maxWidth&quot;: &quot;100%&quot;});\n",
       "\n",
       "        \n",
       "            \n",
       "                var html_19b735bee23b9ee8fc635a43edd4347b = $(`&lt;div id=&quot;html_19b735bee23b9ee8fc635a43edd4347b&quot; style=&quot;width: 100.0%; height: 100.0%;&quot;&gt;3538&lt;/div&gt;`)[0];\n",
       "                popup_8aaf62367d91127d7d60461be6b92825.setContent(html_19b735bee23b9ee8fc635a43edd4347b);\n",
       "            \n",
       "        \n",
       "\n",
       "        marker_f234bc0323d030ac4171d72b4b27814b.bindPopup(popup_8aaf62367d91127d7d60461be6b92825)\n",
       "        ;\n",
       "\n",
       "        \n",
       "    \n",
       "    \n",
       "            var marker_56efb4aac23881ab1d135f1628c0dc80 = L.marker(\n",
       "                [-15.78989989281705, -47.88640286552865],\n",
       "                {}\n",
       "            ).addTo(map_3fcae0097883a19cddc9b2b233ee663d);\n",
       "        \n",
       "    \n",
       "        var popup_39eafd0416795eb99cab98f6a17ce29a = L.popup({&quot;maxWidth&quot;: &quot;100%&quot;});\n",
       "\n",
       "        \n",
       "            \n",
       "                var html_d2f5309e260598d41ea6b3b4439e511d = $(`&lt;div id=&quot;html_d2f5309e260598d41ea6b3b4439e511d&quot; style=&quot;width: 100.0%; height: 100.0%;&quot;&gt;6110&lt;/div&gt;`)[0];\n",
       "                popup_39eafd0416795eb99cab98f6a17ce29a.setContent(html_d2f5309e260598d41ea6b3b4439e511d);\n",
       "            \n",
       "        \n",
       "\n",
       "        marker_56efb4aac23881ab1d135f1628c0dc80.bindPopup(popup_39eafd0416795eb99cab98f6a17ce29a)\n",
       "        ;\n",
       "\n",
       "        \n",
       "    \n",
       "    \n",
       "            var marker_77b24dc548c6f2de33f269dfa308668c = L.marker(\n",
       "                [-15.792285428872898, -47.883009259079465],\n",
       "                {}\n",
       "            ).addTo(map_3fcae0097883a19cddc9b2b233ee663d);\n",
       "        \n",
       "    \n",
       "        var popup_584262bf5885004e1ddfb9240f2f91a6 = L.popup({&quot;maxWidth&quot;: &quot;100%&quot;});\n",
       "\n",
       "        \n",
       "            \n",
       "                var html_1059174728cdd117c8acf61cf02b2eea = $(`&lt;div id=&quot;html_1059174728cdd117c8acf61cf02b2eea&quot; style=&quot;width: 100.0%; height: 100.0%;&quot;&gt;3483&lt;/div&gt;`)[0];\n",
       "                popup_584262bf5885004e1ddfb9240f2f91a6.setContent(html_1059174728cdd117c8acf61cf02b2eea);\n",
       "            \n",
       "        \n",
       "\n",
       "        marker_77b24dc548c6f2de33f269dfa308668c.bindPopup(popup_584262bf5885004e1ddfb9240f2f91a6)\n",
       "        ;\n",
       "\n",
       "        \n",
       "    \n",
       "    \n",
       "            var marker_a3572f3335620e7c05b886fa608cb38e = L.marker(\n",
       "                [-15.79312487862179, -47.88168794730824],\n",
       "                {}\n",
       "            ).addTo(map_3fcae0097883a19cddc9b2b233ee663d);\n",
       "        \n",
       "    \n",
       "        var popup_36351792c1c1b260f6247c6b887a77e3 = L.popup({&quot;maxWidth&quot;: &quot;100%&quot;});\n",
       "\n",
       "        \n",
       "            \n",
       "                var html_2b99871a326fac95006c5d7237601509 = $(`&lt;div id=&quot;html_2b99871a326fac95006c5d7237601509&quot; style=&quot;width: 100.0%; height: 100.0%;&quot;&gt;3369&lt;/div&gt;`)[0];\n",
       "                popup_36351792c1c1b260f6247c6b887a77e3.setContent(html_2b99871a326fac95006c5d7237601509);\n",
       "            \n",
       "        \n",
       "\n",
       "        marker_a3572f3335620e7c05b886fa608cb38e.bindPopup(popup_36351792c1c1b260f6247c6b887a77e3)\n",
       "        ;\n",
       "\n",
       "        \n",
       "    \n",
       "    \n",
       "            var marker_8f045ceaea9e91440746508c5ea1c157 = L.marker(\n",
       "                [-15.761097194970981, -47.78061837239957],\n",
       "                {}\n",
       "            ).addTo(map_3fcae0097883a19cddc9b2b233ee663d);\n",
       "        \n",
       "    \n",
       "        var popup_de29e8da78eb286f3de93163f2076dee = L.popup({&quot;maxWidth&quot;: &quot;100%&quot;});\n",
       "\n",
       "        \n",
       "            \n",
       "                var html_f57ca7912349de78aa73abb6ac33d147 = $(`&lt;div id=&quot;html_f57ca7912349de78aa73abb6ac33d147&quot; style=&quot;width: 100.0%; height: 100.0%;&quot;&gt;2707&lt;/div&gt;`)[0];\n",
       "                popup_de29e8da78eb286f3de93163f2076dee.setContent(html_f57ca7912349de78aa73abb6ac33d147);\n",
       "            \n",
       "        \n",
       "\n",
       "        marker_8f045ceaea9e91440746508c5ea1c157.bindPopup(popup_de29e8da78eb286f3de93163f2076dee)\n",
       "        ;\n",
       "\n",
       "        \n",
       "    \n",
       "    \n",
       "            var marker_833a9045703d7380a8ebb2a95a359157 = L.marker(\n",
       "                [-15.759867880305864, -47.780786010975504],\n",
       "                {}\n",
       "            ).addTo(map_3fcae0097883a19cddc9b2b233ee663d);\n",
       "        \n",
       "    \n",
       "        var popup_0a11c17c6723ff38096c0fac8e1d3103 = L.popup({&quot;maxWidth&quot;: &quot;100%&quot;});\n",
       "\n",
       "        \n",
       "            \n",
       "                var html_23958aadc921bd7fbc276c6cb1f393cf = $(`&lt;div id=&quot;html_23958aadc921bd7fbc276c6cb1f393cf&quot; style=&quot;width: 100.0%; height: 100.0%;&quot;&gt;2708&lt;/div&gt;`)[0];\n",
       "                popup_0a11c17c6723ff38096c0fac8e1d3103.setContent(html_23958aadc921bd7fbc276c6cb1f393cf);\n",
       "            \n",
       "        \n",
       "\n",
       "        marker_833a9045703d7380a8ebb2a95a359157.bindPopup(popup_0a11c17c6723ff38096c0fac8e1d3103)\n",
       "        ;\n",
       "\n",
       "        \n",
       "    \n",
       "    \n",
       "            var marker_3f58687cba49bb10778d646d498b6231 = L.marker(\n",
       "                [-15.759925179050027, -47.78222856460453],\n",
       "                {}\n",
       "            ).addTo(map_3fcae0097883a19cddc9b2b233ee663d);\n",
       "        \n",
       "    \n",
       "        var popup_4af9cb5ed8236b412d1d49dc1d280d27 = L.popup({&quot;maxWidth&quot;: &quot;100%&quot;});\n",
       "\n",
       "        \n",
       "            \n",
       "                var html_ba37918a9f927f0f23497a58fb74b06e = $(`&lt;div id=&quot;html_ba37918a9f927f0f23497a58fb74b06e&quot; style=&quot;width: 100.0%; height: 100.0%;&quot;&gt;2726&lt;/div&gt;`)[0];\n",
       "                popup_4af9cb5ed8236b412d1d49dc1d280d27.setContent(html_ba37918a9f927f0f23497a58fb74b06e);\n",
       "            \n",
       "        \n",
       "\n",
       "        marker_3f58687cba49bb10778d646d498b6231.bindPopup(popup_4af9cb5ed8236b412d1d49dc1d280d27)\n",
       "        ;\n",
       "\n",
       "        \n",
       "    \n",
       "    \n",
       "            var marker_4888beabde038c9d879e6edb2e032841 = L.marker(\n",
       "                [-15.793626540670312, -47.87960280836419],\n",
       "                {}\n",
       "            ).addTo(map_3fcae0097883a19cddc9b2b233ee663d);\n",
       "        \n",
       "    \n",
       "        var popup_1b22b5b23986eccf81c3b64768db2488 = L.popup({&quot;maxWidth&quot;: &quot;100%&quot;});\n",
       "\n",
       "        \n",
       "            \n",
       "                var html_f845057b813bce12e6323147df112213 = $(`&lt;div id=&quot;html_f845057b813bce12e6323147df112213&quot; style=&quot;width: 100.0%; height: 100.0%;&quot;&gt;3250&lt;/div&gt;`)[0];\n",
       "                popup_1b22b5b23986eccf81c3b64768db2488.setContent(html_f845057b813bce12e6323147df112213);\n",
       "            \n",
       "        \n",
       "\n",
       "        marker_4888beabde038c9d879e6edb2e032841.bindPopup(popup_1b22b5b23986eccf81c3b64768db2488)\n",
       "        ;\n",
       "\n",
       "        \n",
       "    \n",
       "    \n",
       "            var marker_1e30946bcade569d90ad5cc738d1ab4d = L.marker(\n",
       "                [-15.793960955223843, -47.87573678384624],\n",
       "                {}\n",
       "            ).addTo(map_3fcae0097883a19cddc9b2b233ee663d);\n",
       "        \n",
       "    \n",
       "        var popup_4a66d2a97bdf866ff61f8190b39bec8d = L.popup({&quot;maxWidth&quot;: &quot;100%&quot;});\n",
       "\n",
       "        \n",
       "            \n",
       "                var html_4d18d727189abb2b6140e8e11e91d8d6 = $(`&lt;div id=&quot;html_4d18d727189abb2b6140e8e11e91d8d6&quot; style=&quot;width: 100.0%; height: 100.0%;&quot;&gt;3461&lt;/div&gt;`)[0];\n",
       "                popup_4a66d2a97bdf866ff61f8190b39bec8d.setContent(html_4d18d727189abb2b6140e8e11e91d8d6);\n",
       "            \n",
       "        \n",
       "\n",
       "        marker_1e30946bcade569d90ad5cc738d1ab4d.bindPopup(popup_4a66d2a97bdf866ff61f8190b39bec8d)\n",
       "        ;\n",
       "\n",
       "        \n",
       "    \n",
       "    \n",
       "            var marker_18d0db0b5ba7858f2b001771c103ece7 = L.marker(\n",
       "                [-15.794191792757108, -47.875019505378546],\n",
       "                {}\n",
       "            ).addTo(map_3fcae0097883a19cddc9b2b233ee663d);\n",
       "        \n",
       "    \n",
       "        var popup_bb36e65b794bc9667f9b14dadf89a1b0 = L.popup({&quot;maxWidth&quot;: &quot;100%&quot;});\n",
       "\n",
       "        \n",
       "            \n",
       "                var html_388575a9a84eae517e7b04a6362ee789 = $(`&lt;div id=&quot;html_388575a9a84eae517e7b04a6362ee789&quot; style=&quot;width: 100.0%; height: 100.0%;&quot;&gt;3431&lt;/div&gt;`)[0];\n",
       "                popup_bb36e65b794bc9667f9b14dadf89a1b0.setContent(html_388575a9a84eae517e7b04a6362ee789);\n",
       "            \n",
       "        \n",
       "\n",
       "        marker_18d0db0b5ba7858f2b001771c103ece7.bindPopup(popup_bb36e65b794bc9667f9b14dadf89a1b0)\n",
       "        ;\n",
       "\n",
       "        \n",
       "    \n",
       "    \n",
       "            var marker_3e139ec8a5c0219a604b5744a89c859f = L.marker(\n",
       "                [-15.795303775856665, -47.87438003367925],\n",
       "                {}\n",
       "            ).addTo(map_3fcae0097883a19cddc9b2b233ee663d);\n",
       "        \n",
       "    \n",
       "        var popup_1813045b81fc67eac34362302b1edd47 = L.popup({&quot;maxWidth&quot;: &quot;100%&quot;});\n",
       "\n",
       "        \n",
       "            \n",
       "                var html_e55ada461cdea984c2789237e26ecb21 = $(`&lt;div id=&quot;html_e55ada461cdea984c2789237e26ecb21&quot; style=&quot;width: 100.0%; height: 100.0%;&quot;&gt;3249&lt;/div&gt;`)[0];\n",
       "                popup_1813045b81fc67eac34362302b1edd47.setContent(html_e55ada461cdea984c2789237e26ecb21);\n",
       "            \n",
       "        \n",
       "\n",
       "        marker_3e139ec8a5c0219a604b5744a89c859f.bindPopup(popup_1813045b81fc67eac34362302b1edd47)\n",
       "        ;\n",
       "\n",
       "        \n",
       "    \n",
       "    \n",
       "            var marker_d5e77e1b51b9dba5afed0c6e2dc13d6b = L.marker(\n",
       "                [-15.734075988598928, -47.897474410279735],\n",
       "                {}\n",
       "            ).addTo(map_3fcae0097883a19cddc9b2b233ee663d);\n",
       "        \n",
       "    \n",
       "        var popup_1c900cef2e7268025ddc5680a4b09180 = L.popup({&quot;maxWidth&quot;: &quot;100%&quot;});\n",
       "\n",
       "        \n",
       "            \n",
       "                var html_7a45e9e64d0adac8436c794cce16c796 = $(`&lt;div id=&quot;html_7a45e9e64d0adac8436c794cce16c796&quot; style=&quot;width: 100.0%; height: 100.0%;&quot;&gt;3521&lt;/div&gt;`)[0];\n",
       "                popup_1c900cef2e7268025ddc5680a4b09180.setContent(html_7a45e9e64d0adac8436c794cce16c796);\n",
       "            \n",
       "        \n",
       "\n",
       "        marker_d5e77e1b51b9dba5afed0c6e2dc13d6b.bindPopup(popup_1c900cef2e7268025ddc5680a4b09180)\n",
       "        ;\n",
       "\n",
       "        \n",
       "    \n",
       "    \n",
       "            var marker_356bdaf49b904bc30174a6edc58269b2 = L.marker(\n",
       "                [-15.73541921559784, -47.897317053648564],\n",
       "                {}\n",
       "            ).addTo(map_3fcae0097883a19cddc9b2b233ee663d);\n",
       "        \n",
       "    \n",
       "        var popup_3408149480a0a3846ac02600044fbc15 = L.popup({&quot;maxWidth&quot;: &quot;100%&quot;});\n",
       "\n",
       "        \n",
       "            \n",
       "                var html_565878e7cfca483e8e26c80789df1cc8 = $(`&lt;div id=&quot;html_565878e7cfca483e8e26c80789df1cc8&quot; style=&quot;width: 100.0%; height: 100.0%;&quot;&gt;3470&lt;/div&gt;`)[0];\n",
       "                popup_3408149480a0a3846ac02600044fbc15.setContent(html_565878e7cfca483e8e26c80789df1cc8);\n",
       "            \n",
       "        \n",
       "\n",
       "        marker_356bdaf49b904bc30174a6edc58269b2.bindPopup(popup_3408149480a0a3846ac02600044fbc15)\n",
       "        ;\n",
       "\n",
       "        \n",
       "    \n",
       "    \n",
       "            var marker_1ab5d0ad0b5e6311bb10d6d25ea3f102 = L.marker(\n",
       "                [-15.734639301086698, -47.897934702982674],\n",
       "                {}\n",
       "            ).addTo(map_3fcae0097883a19cddc9b2b233ee663d);\n",
       "        \n",
       "    \n",
       "        var popup_0186f8b0bd2cae0817b9fc9d5b637804 = L.popup({&quot;maxWidth&quot;: &quot;100%&quot;});\n",
       "\n",
       "        \n",
       "            \n",
       "                var html_f97ae2e442b89d2c78bba82684302fa5 = $(`&lt;div id=&quot;html_f97ae2e442b89d2c78bba82684302fa5&quot; style=&quot;width: 100.0%; height: 100.0%;&quot;&gt;3522&lt;/div&gt;`)[0];\n",
       "                popup_0186f8b0bd2cae0817b9fc9d5b637804.setContent(html_f97ae2e442b89d2c78bba82684302fa5);\n",
       "            \n",
       "        \n",
       "\n",
       "        marker_1ab5d0ad0b5e6311bb10d6d25ea3f102.bindPopup(popup_0186f8b0bd2cae0817b9fc9d5b637804)\n",
       "        ;\n",
       "\n",
       "        \n",
       "    \n",
       "    \n",
       "            var marker_db5d47899513ab1233f66404b37d968d = L.marker(\n",
       "                [-15.738477194215498, -47.89929609836221],\n",
       "                {}\n",
       "            ).addTo(map_3fcae0097883a19cddc9b2b233ee663d);\n",
       "        \n",
       "    \n",
       "        var popup_b6aea6122e5ae01a187d0239a8a459c6 = L.popup({&quot;maxWidth&quot;: &quot;100%&quot;});\n",
       "\n",
       "        \n",
       "            \n",
       "                var html_38d41444715bd646f1e007cb3bd7c6cb = $(`&lt;div id=&quot;html_38d41444715bd646f1e007cb3bd7c6cb&quot; style=&quot;width: 100.0%; height: 100.0%;&quot;&gt;3523&lt;/div&gt;`)[0];\n",
       "                popup_b6aea6122e5ae01a187d0239a8a459c6.setContent(html_38d41444715bd646f1e007cb3bd7c6cb);\n",
       "            \n",
       "        \n",
       "\n",
       "        marker_db5d47899513ab1233f66404b37d968d.bindPopup(popup_b6aea6122e5ae01a187d0239a8a459c6)\n",
       "        ;\n",
       "\n",
       "        \n",
       "    \n",
       "    \n",
       "            var marker_c1700a752ee374fd968836c8d6e62a83 = L.marker(\n",
       "                [-15.737021646013647, -47.89837691322528],\n",
       "                {}\n",
       "            ).addTo(map_3fcae0097883a19cddc9b2b233ee663d);\n",
       "        \n",
       "    \n",
       "        var popup_6f276498dcbb63081063b2c765981c59 = L.popup({&quot;maxWidth&quot;: &quot;100%&quot;});\n",
       "\n",
       "        \n",
       "            \n",
       "                var html_de7aa79165471494fc3a71c5315484a5 = $(`&lt;div id=&quot;html_de7aa79165471494fc3a71c5315484a5&quot; style=&quot;width: 100.0%; height: 100.0%;&quot;&gt;3520&lt;/div&gt;`)[0];\n",
       "                popup_6f276498dcbb63081063b2c765981c59.setContent(html_de7aa79165471494fc3a71c5315484a5);\n",
       "            \n",
       "        \n",
       "\n",
       "        marker_c1700a752ee374fd968836c8d6e62a83.bindPopup(popup_6f276498dcbb63081063b2c765981c59)\n",
       "        ;\n",
       "\n",
       "        \n",
       "    \n",
       "    \n",
       "            var marker_3d69ea6fae7d1e6bd7df8ac2609d2b61 = L.marker(\n",
       "                [-15.741101319354277, -47.898045528987495],\n",
       "                {}\n",
       "            ).addTo(map_3fcae0097883a19cddc9b2b233ee663d);\n",
       "        \n",
       "    \n",
       "        var popup_40e3a1805afd8ecc6f45398e07915e50 = L.popup({&quot;maxWidth&quot;: &quot;100%&quot;});\n",
       "\n",
       "        \n",
       "            \n",
       "                var html_222116123ab2b770b6a8680057494d48 = $(`&lt;div id=&quot;html_222116123ab2b770b6a8680057494d48&quot; style=&quot;width: 100.0%; height: 100.0%;&quot;&gt;3519&lt;/div&gt;`)[0];\n",
       "                popup_40e3a1805afd8ecc6f45398e07915e50.setContent(html_222116123ab2b770b6a8680057494d48);\n",
       "            \n",
       "        \n",
       "\n",
       "        marker_3d69ea6fae7d1e6bd7df8ac2609d2b61.bindPopup(popup_40e3a1805afd8ecc6f45398e07915e50)\n",
       "        ;\n",
       "\n",
       "        \n",
       "    \n",
       "    \n",
       "            var marker_dfbf8e527f0a2bb3517688b16b66db9f = L.marker(\n",
       "                [-15.741813505314967, -47.898220834748756],\n",
       "                {}\n",
       "            ).addTo(map_3fcae0097883a19cddc9b2b233ee663d);\n",
       "        \n",
       "    \n",
       "        var popup_715c0b7977643331e116f482a24ae5c1 = L.popup({&quot;maxWidth&quot;: &quot;100%&quot;});\n",
       "\n",
       "        \n",
       "            \n",
       "                var html_8cd6154367c50be074507c7adc08769d = $(`&lt;div id=&quot;html_8cd6154367c50be074507c7adc08769d&quot; style=&quot;width: 100.0%; height: 100.0%;&quot;&gt;3524&lt;/div&gt;`)[0];\n",
       "                popup_715c0b7977643331e116f482a24ae5c1.setContent(html_8cd6154367c50be074507c7adc08769d);\n",
       "            \n",
       "        \n",
       "\n",
       "        marker_dfbf8e527f0a2bb3517688b16b66db9f.bindPopup(popup_715c0b7977643331e116f482a24ae5c1)\n",
       "        ;\n",
       "\n",
       "        \n",
       "    \n",
       "    \n",
       "            var marker_9c5b74d38ee71d37dbd30dbb9c585dcc = L.marker(\n",
       "                [-15.744737354143842, -47.89728338606178],\n",
       "                {}\n",
       "            ).addTo(map_3fcae0097883a19cddc9b2b233ee663d);\n",
       "        \n",
       "    \n",
       "        var popup_9a6fbf64f9e290d5517aad3d364b3bdd = L.popup({&quot;maxWidth&quot;: &quot;100%&quot;});\n",
       "\n",
       "        \n",
       "            \n",
       "                var html_223b4a3ad57d0b920a51d9b57ded538a = $(`&lt;div id=&quot;html_223b4a3ad57d0b920a51d9b57ded538a&quot; style=&quot;width: 100.0%; height: 100.0%;&quot;&gt;3525&lt;/div&gt;`)[0];\n",
       "                popup_9a6fbf64f9e290d5517aad3d364b3bdd.setContent(html_223b4a3ad57d0b920a51d9b57ded538a);\n",
       "            \n",
       "        \n",
       "\n",
       "        marker_9c5b74d38ee71d37dbd30dbb9c585dcc.bindPopup(popup_9a6fbf64f9e290d5517aad3d364b3bdd)\n",
       "        ;\n",
       "\n",
       "        \n",
       "    \n",
       "    \n",
       "            var marker_2232068cfd0ab3106a2e37910ba3f190 = L.marker(\n",
       "                [-15.744621728383612, -47.8969247962739],\n",
       "                {}\n",
       "            ).addTo(map_3fcae0097883a19cddc9b2b233ee663d);\n",
       "        \n",
       "    \n",
       "        var popup_748f45c4b78773b8cbbf237606884abe = L.popup({&quot;maxWidth&quot;: &quot;100%&quot;});\n",
       "\n",
       "        \n",
       "            \n",
       "                var html_14076b859a4726bd5f5b79252142ee6d = $(`&lt;div id=&quot;html_14076b859a4726bd5f5b79252142ee6d&quot; style=&quot;width: 100.0%; height: 100.0%;&quot;&gt;3518&lt;/div&gt;`)[0];\n",
       "                popup_748f45c4b78773b8cbbf237606884abe.setContent(html_14076b859a4726bd5f5b79252142ee6d);\n",
       "            \n",
       "        \n",
       "\n",
       "        marker_2232068cfd0ab3106a2e37910ba3f190.bindPopup(popup_748f45c4b78773b8cbbf237606884abe)\n",
       "        ;\n",
       "\n",
       "        \n",
       "    \n",
       "&lt;/script&gt;\n",
       "&lt;/html&gt;\" style=\"position:absolute;width:100%;height:100%;left:0;top:0;border:none !important;\" allowfullscreen webkitallowfullscreen mozallowfullscreen></iframe></div></div>"
      ],
      "text/plain": [
       "<folium.folium.Map at 0x7f3e37915d90>"
      ]
     },
     "execution_count": 51,
     "metadata": {},
     "output_type": "execute_result"
    }
   ],
   "source": [
    "import folium\n",
    "from shapely.geometry import LineString\n",
    "\n",
    "linha_exemplo = df.iloc[0]\n",
    "\n",
    "linha_coordinates = [(lat, lon) for lat, lon, _ in linha_exemplo['parada']]\n",
    "paradas_coordinates = [(lat, lon) for lat, lon, _ in linha_exemplo['parada']]\n",
    "\n",
    "linha_onibus = LineString(linha_coordinates)\n",
    "\n",
    "m = folium.Map(location=[linha_coordinates[0][0], linha_coordinates[0][1]], zoom_start=13)\n",
    "\n",
    "for lat, lon, popup_text in linha_exemplo['parada']:\n",
    "    folium.Marker([lat, lon], popup=popup_text).add_to(m)\n",
    "m\n"
   ]
  },
  {
   "cell_type": "code",
   "execution_count": null,
   "metadata": {},
   "outputs": [],
   "source": [
    "import os\n",
    "\n",
    "if not os.path.exists('../databases/luiz_dataset'):\n",
    "    os.makedirs('../databases/luiz_dataset')\n",
    "df.to_csv('../databases/luiz_dataset/paradas_linestrings.csv')"
   ]
  },
  {
   "cell_type": "markdown",
   "metadata": {},
   "source": [
    "### Como ler o arquivo das paradas corretamente no python\n",
    "\n",
    "Para evitar o erro do tipo de dado das linhas serem strings, é necessário passar para o atributo\n",
    "'converters' = {'NOME DA COLUNA': pd.eval}\n",
    "```python\n",
    "dt = pd.read_csv(\"../databases/luiz_dataset/paradas_linestrings.csv\", converters={'parada': pd.eval})\n",
    "```"
   ]
  }
 ],
 "metadata": {
  "kernelspec": {
   "display_name": "Python 3 (ipykernel)",
   "language": "python",
   "name": "python3"
  },
  "language_info": {
   "codemirror_mode": {
    "name": "ipython",
    "version": 3
   },
   "file_extension": ".py",
   "mimetype": "text/x-python",
   "name": "python",
   "nbconvert_exporter": "python",
   "pygments_lexer": "ipython3",
   "version": "3.11.3"
  }
 },
 "nbformat": 4,
 "nbformat_minor": 2
}
