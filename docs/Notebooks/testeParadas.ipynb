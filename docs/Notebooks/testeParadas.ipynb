{
 "cells": [
  {
   "cell_type": "code",
   "execution_count": 26,
   "metadata": {},
   "outputs": [
    {
     "name": "stdout",
     "output_type": "stream",
     "text": [
      "Requirement already satisfied: geopandas in /home/luiz/.pyenv/versions/3.11.3/envs/dev/lib/python3.11/site-packages (0.13.2)\n",
      "Requirement already satisfied: matplotlib in /home/luiz/.pyenv/versions/3.11.3/envs/dev/lib/python3.11/site-packages (3.7.1)\n",
      "Requirement already satisfied: contextily in /home/luiz/.pyenv/versions/3.11.3/envs/dev/lib/python3.11/site-packages (1.3.0)\n",
      "Requirement already satisfied: shapely in /home/luiz/.pyenv/versions/3.11.3/envs/dev/lib/python3.11/site-packages (2.0.1)\n",
      "Requirement already satisfied: fiona>=1.8.19 in /home/luiz/.pyenv/versions/3.11.3/envs/dev/lib/python3.11/site-packages (from geopandas) (1.9.4.post1)\n",
      "Requirement already satisfied: packaging in /home/luiz/.pyenv/versions/3.11.3/envs/dev/lib/python3.11/site-packages (from geopandas) (23.1)\n",
      "Requirement already satisfied: pandas>=1.1.0 in /home/luiz/.pyenv/versions/3.11.3/envs/dev/lib/python3.11/site-packages (from geopandas) (2.0.2)\n",
      "Requirement already satisfied: pyproj>=3.0.1 in /home/luiz/.pyenv/versions/3.11.3/envs/dev/lib/python3.11/site-packages (from geopandas) (3.6.0)\n",
      "Requirement already satisfied: contourpy>=1.0.1 in /home/luiz/.pyenv/versions/3.11.3/envs/dev/lib/python3.11/site-packages (from matplotlib) (1.0.7)\n",
      "Requirement already satisfied: cycler>=0.10 in /home/luiz/.pyenv/versions/3.11.3/envs/dev/lib/python3.11/site-packages (from matplotlib) (0.11.0)\n",
      "Requirement already satisfied: fonttools>=4.22.0 in /home/luiz/.pyenv/versions/3.11.3/envs/dev/lib/python3.11/site-packages (from matplotlib) (4.39.4)\n",
      "Requirement already satisfied: kiwisolver>=1.0.1 in /home/luiz/.pyenv/versions/3.11.3/envs/dev/lib/python3.11/site-packages (from matplotlib) (1.4.4)\n",
      "Requirement already satisfied: numpy>=1.20 in /home/luiz/.pyenv/versions/3.11.3/envs/dev/lib/python3.11/site-packages (from matplotlib) (1.24.3)\n",
      "Requirement already satisfied: pillow>=6.2.0 in /home/luiz/.pyenv/versions/3.11.3/envs/dev/lib/python3.11/site-packages (from matplotlib) (9.5.0)\n",
      "Requirement already satisfied: pyparsing>=2.3.1 in /home/luiz/.pyenv/versions/3.11.3/envs/dev/lib/python3.11/site-packages (from matplotlib) (3.0.9)\n",
      "Requirement already satisfied: python-dateutil>=2.7 in /home/luiz/.pyenv/versions/3.11.3/envs/dev/lib/python3.11/site-packages (from matplotlib) (2.8.2)\n",
      "Requirement already satisfied: geopy in /home/luiz/.pyenv/versions/3.11.3/envs/dev/lib/python3.11/site-packages (from contextily) (2.3.0)\n",
      "Requirement already satisfied: mercantile in /home/luiz/.pyenv/versions/3.11.3/envs/dev/lib/python3.11/site-packages (from contextily) (1.2.1)\n",
      "Requirement already satisfied: rasterio in /home/luiz/.pyenv/versions/3.11.3/envs/dev/lib/python3.11/site-packages (from contextily) (1.3.8)\n",
      "Requirement already satisfied: requests in /home/luiz/.pyenv/versions/3.11.3/envs/dev/lib/python3.11/site-packages (from contextily) (2.31.0)\n",
      "Requirement already satisfied: joblib in /home/luiz/.pyenv/versions/3.11.3/envs/dev/lib/python3.11/site-packages (from contextily) (1.3.1)\n",
      "Requirement already satisfied: xyzservices in /home/luiz/.pyenv/versions/3.11.3/envs/dev/lib/python3.11/site-packages (from contextily) (2023.7.0)\n",
      "Requirement already satisfied: attrs>=19.2.0 in /home/luiz/.pyenv/versions/3.11.3/envs/dev/lib/python3.11/site-packages (from fiona>=1.8.19->geopandas) (23.1.0)\n",
      "Requirement already satisfied: certifi in /home/luiz/.pyenv/versions/3.11.3/envs/dev/lib/python3.11/site-packages (from fiona>=1.8.19->geopandas) (2023.5.7)\n",
      "Requirement already satisfied: click~=8.0 in /home/luiz/.pyenv/versions/3.11.3/envs/dev/lib/python3.11/site-packages (from fiona>=1.8.19->geopandas) (8.1.6)\n",
      "Requirement already satisfied: click-plugins>=1.0 in /home/luiz/.pyenv/versions/3.11.3/envs/dev/lib/python3.11/site-packages (from fiona>=1.8.19->geopandas) (1.1.1)\n",
      "Requirement already satisfied: cligj>=0.5 in /home/luiz/.pyenv/versions/3.11.3/envs/dev/lib/python3.11/site-packages (from fiona>=1.8.19->geopandas) (0.7.2)\n",
      "Requirement already satisfied: six in /home/luiz/.pyenv/versions/3.11.3/envs/dev/lib/python3.11/site-packages (from fiona>=1.8.19->geopandas) (1.16.0)\n",
      "Requirement already satisfied: pytz>=2020.1 in /home/luiz/.pyenv/versions/3.11.3/envs/dev/lib/python3.11/site-packages (from pandas>=1.1.0->geopandas) (2023.3)\n",
      "Requirement already satisfied: tzdata>=2022.1 in /home/luiz/.pyenv/versions/3.11.3/envs/dev/lib/python3.11/site-packages (from pandas>=1.1.0->geopandas) (2023.3)\n",
      "Requirement already satisfied: geographiclib<3,>=1.52 in /home/luiz/.pyenv/versions/3.11.3/envs/dev/lib/python3.11/site-packages (from geopy->contextily) (2.0)\n",
      "Requirement already satisfied: affine in /home/luiz/.pyenv/versions/3.11.3/envs/dev/lib/python3.11/site-packages (from rasterio->contextily) (2.4.0)\n",
      "Requirement already satisfied: snuggs>=1.4.1 in /home/luiz/.pyenv/versions/3.11.3/envs/dev/lib/python3.11/site-packages (from rasterio->contextily) (1.4.7)\n",
      "Requirement already satisfied: setuptools in /home/luiz/.pyenv/versions/3.11.3/envs/dev/lib/python3.11/site-packages (from rasterio->contextily) (65.5.0)\n",
      "Requirement already satisfied: charset-normalizer<4,>=2 in /home/luiz/.pyenv/versions/3.11.3/envs/dev/lib/python3.11/site-packages (from requests->contextily) (3.1.0)\n",
      "Requirement already satisfied: idna<4,>=2.5 in /home/luiz/.pyenv/versions/3.11.3/envs/dev/lib/python3.11/site-packages (from requests->contextily) (3.4)\n",
      "Requirement already satisfied: urllib3<3,>=1.21.1 in /home/luiz/.pyenv/versions/3.11.3/envs/dev/lib/python3.11/site-packages (from requests->contextily) (1.26.16)\n",
      "\n",
      "\u001b[1m[\u001b[0m\u001b[34;49mnotice\u001b[0m\u001b[1;39;49m]\u001b[0m\u001b[39;49m A new release of pip is available: \u001b[0m\u001b[31;49m23.1.2\u001b[0m\u001b[39;49m -> \u001b[0m\u001b[32;49m23.2.1\u001b[0m\n",
      "\u001b[1m[\u001b[0m\u001b[34;49mnotice\u001b[0m\u001b[1;39;49m]\u001b[0m\u001b[39;49m To update, run: \u001b[0m\u001b[32;49mpip install --upgrade pip\u001b[0m\n",
      "Note: you may need to restart the kernel to use updated packages.\n"
     ]
    }
   ],
   "source": [
    "# Istalando pacotes necessários\n",
    "%pip install geopandas matplotlib contextily shapely"
   ]
  },
  {
   "cell_type": "code",
   "execution_count": 27,
   "metadata": {},
   "outputs": [],
   "source": [
    "import geopandas as gpd\n",
    "import matplotlib.pyplot as plt\n",
    "import contextily as cx\n",
    "from shapely.geometry import box, Point, Polygon, MultiPolygon\n",
    "from shapely.wkt import loads"
   ]
  },
  {
   "cell_type": "code",
   "execution_count": 28,
   "metadata": {},
   "outputs": [],
   "source": [
    "# lendo o arquivo .shp\n",
    "caminho_shp = '../databases/paradas/paradas.shp'\n",
    "df = gpd.read_file(caminho_shp)"
   ]
  },
  {
   "cell_type": "code",
   "execution_count": 29,
   "metadata": {},
   "outputs": [
    {
     "name": "stdout",
     "output_type": "stream",
     "text": [
      "<class 'geopandas.geodataframe.GeoDataFrame'>\n",
      "RangeIndex: 5457 entries, 0 to 5456\n",
      "Data columns (total 6 columns):\n",
      " #   Column      Non-Null Count  Dtype   \n",
      "---  ------      --------------  -----   \n",
      " 0   parada      5457 non-null   object  \n",
      " 1   descricao   5456 non-null   object  \n",
      " 2   situacao    5457 non-null   object  \n",
      " 3   estrutura_  4948 non-null   object  \n",
      " 4   tipo        5455 non-null   object  \n",
      " 5   geometry    5457 non-null   geometry\n",
      "dtypes: geometry(1), object(5)\n",
      "memory usage: 255.9+ KB\n"
     ]
    }
   ],
   "source": [
    "# pegando algumas informações\n",
    "df.info()"
   ]
  },
  {
   "cell_type": "code",
   "execution_count": 30,
   "metadata": {},
   "outputs": [
    {
     "data": {
      "text/plain": [
       "0       POINT (203628.051 8238910.255)\n",
       "1       POINT (203626.569 8238879.548)\n",
       "2       POINT (203515.071 8238613.416)\n",
       "3       POINT (203481.047 8238551.784)\n",
       "4       POINT (203579.703 8239213.734)\n",
       "                     ...              \n",
       "5452    POINT (167354.394 8264495.757)\n",
       "5453    POINT (167311.355 8264500.454)\n",
       "5454    POINT (163265.979 8265332.396)\n",
       "5455    POINT (162912.871 8269061.030)\n",
       "5456    POINT (163217.911 8264159.565)\n",
       "Name: geometry, Length: 5457, dtype: geometry"
      ]
     },
     "execution_count": 30,
     "metadata": {},
     "output_type": "execute_result"
    }
   ],
   "source": [
    "# O que temos na coluna 'geometry' ?\n",
    "df['geometry']"
   ]
  },
  {
   "cell_type": "code",
   "execution_count": 31,
   "metadata": {},
   "outputs": [
    {
     "data": {
      "text/plain": [
       "<Projected CRS: EPSG:31983>\n",
       "Name: SIRGAS 2000 / UTM zone 23S\n",
       "Axis Info [cartesian]:\n",
       "- E[east]: Easting (metre)\n",
       "- N[north]: Northing (metre)\n",
       "Area of Use:\n",
       "- name: Brazil - between 48°W and 42°W, northern and southern hemispheres, onshore and offshore.\n",
       "- bounds: (-48.0, -33.5, -42.0, 5.13)\n",
       "Coordinate Operation:\n",
       "- name: UTM zone 23S\n",
       "- method: Transverse Mercator\n",
       "Datum: Sistema de Referencia Geocentrico para las AmericaS 2000\n",
       "- Ellipsoid: GRS 1980\n",
       "- Prime Meridian: Greenwich"
      ]
     },
     "execution_count": 31,
     "metadata": {},
     "output_type": "execute_result"
    }
   ],
   "source": [
    "# Qual sistemas estamos?\n",
    "# acessando o atributo crs\n",
    "df.crs"
   ]
  },
  {
   "cell_type": "code",
   "execution_count": 32,
   "metadata": {},
   "outputs": [],
   "source": [
    "# O folium trabalha no sistema WGS 84(EPSG:4326), o correto é converter para esse formato\n",
    "df = df.to_crs('EPSG:4326')"
   ]
  },
  {
   "cell_type": "code",
   "execution_count": 33,
   "metadata": {},
   "outputs": [
    {
     "name": "stdout",
     "output_type": "stream",
     "text": [
      "Coordenada x é longitude e vale: -47.76791017881488\n",
      "Coordena y é latitude e vale: -15.911319542624627\n"
     ]
    }
   ],
   "source": [
    "# Agora conseguimos plotar\n",
    "\n",
    "# Pegando uma cordenada pelo indice\n",
    "x = df.geometry.x.iloc[0] # longitude\n",
    "y = df.geometry.y.iloc[0] # latitute\n",
    "print(f'Coordenada x é longitude e vale: {x}\\nCoordena y é latitude e vale: {y}')"
   ]
  },
  {
   "cell_type": "code",
   "execution_count": 34,
   "metadata": {},
   "outputs": [
    {
     "data": {
      "text/html": [
       "<div style=\"width:100%;\"><div style=\"position:relative;width:100%;height:0;padding-bottom:60%;\"><span style=\"color:#565656\">Make this Notebook Trusted to load map: File -> Trust Notebook</span><iframe srcdoc=\"&lt;!DOCTYPE html&gt;\n",
       "&lt;html&gt;\n",
       "&lt;head&gt;\n",
       "    \n",
       "    &lt;meta http-equiv=&quot;content-type&quot; content=&quot;text/html; charset=UTF-8&quot; /&gt;\n",
       "    \n",
       "        &lt;script&gt;\n",
       "            L_NO_TOUCH = false;\n",
       "            L_DISABLE_3D = false;\n",
       "        &lt;/script&gt;\n",
       "    \n",
       "    &lt;style&gt;html, body {width: 100%;height: 100%;margin: 0;padding: 0;}&lt;/style&gt;\n",
       "    &lt;style&gt;#map {position:absolute;top:0;bottom:0;right:0;left:0;}&lt;/style&gt;\n",
       "    &lt;script src=&quot;https://cdn.jsdelivr.net/npm/leaflet@1.9.3/dist/leaflet.js&quot;&gt;&lt;/script&gt;\n",
       "    &lt;script src=&quot;https://code.jquery.com/jquery-1.12.4.min.js&quot;&gt;&lt;/script&gt;\n",
       "    &lt;script src=&quot;https://cdn.jsdelivr.net/npm/bootstrap@5.2.2/dist/js/bootstrap.bundle.min.js&quot;&gt;&lt;/script&gt;\n",
       "    &lt;script src=&quot;https://cdnjs.cloudflare.com/ajax/libs/Leaflet.awesome-markers/2.0.2/leaflet.awesome-markers.js&quot;&gt;&lt;/script&gt;\n",
       "    &lt;link rel=&quot;stylesheet&quot; href=&quot;https://cdn.jsdelivr.net/npm/leaflet@1.9.3/dist/leaflet.css&quot;/&gt;\n",
       "    &lt;link rel=&quot;stylesheet&quot; href=&quot;https://cdn.jsdelivr.net/npm/bootstrap@5.2.2/dist/css/bootstrap.min.css&quot;/&gt;\n",
       "    &lt;link rel=&quot;stylesheet&quot; href=&quot;https://netdna.bootstrapcdn.com/bootstrap/3.0.0/css/bootstrap.min.css&quot;/&gt;\n",
       "    &lt;link rel=&quot;stylesheet&quot; href=&quot;https://cdn.jsdelivr.net/npm/@fortawesome/fontawesome-free@6.2.0/css/all.min.css&quot;/&gt;\n",
       "    &lt;link rel=&quot;stylesheet&quot; href=&quot;https://cdnjs.cloudflare.com/ajax/libs/Leaflet.awesome-markers/2.0.2/leaflet.awesome-markers.css&quot;/&gt;\n",
       "    &lt;link rel=&quot;stylesheet&quot; href=&quot;https://cdn.jsdelivr.net/gh/python-visualization/folium/folium/templates/leaflet.awesome.rotate.min.css&quot;/&gt;\n",
       "    \n",
       "            &lt;meta name=&quot;viewport&quot; content=&quot;width=device-width,\n",
       "                initial-scale=1.0, maximum-scale=1.0, user-scalable=no&quot; /&gt;\n",
       "            &lt;style&gt;\n",
       "                #map_1fc451735a7396816941557b021bdfc8 {\n",
       "                    position: relative;\n",
       "                    width: 100.0%;\n",
       "                    height: 100.0%;\n",
       "                    left: 0.0%;\n",
       "                    top: 0.0%;\n",
       "                }\n",
       "                .leaflet-container { font-size: 1rem; }\n",
       "            &lt;/style&gt;\n",
       "        \n",
       "&lt;/head&gt;\n",
       "&lt;body&gt;\n",
       "    \n",
       "    \n",
       "            &lt;div class=&quot;folium-map&quot; id=&quot;map_1fc451735a7396816941557b021bdfc8&quot; &gt;&lt;/div&gt;\n",
       "        \n",
       "&lt;/body&gt;\n",
       "&lt;script&gt;\n",
       "    \n",
       "    \n",
       "            var map_1fc451735a7396816941557b021bdfc8 = L.map(\n",
       "                &quot;map_1fc451735a7396816941557b021bdfc8&quot;,\n",
       "                {\n",
       "                    center: [-15.911319542624627, -47.76791017881488],\n",
       "                    crs: L.CRS.EPSG3857,\n",
       "                    zoom: 12,\n",
       "                    zoomControl: true,\n",
       "                    preferCanvas: false,\n",
       "                }\n",
       "            );\n",
       "\n",
       "            \n",
       "\n",
       "        \n",
       "    \n",
       "            var tile_layer_b43f4f0232c7aff98600b5a09ea3fb01 = L.tileLayer(\n",
       "                &quot;https://{s}.tile.openstreetmap.org/{z}/{x}/{y}.png&quot;,\n",
       "                {&quot;attribution&quot;: &quot;Data by \\u0026copy; \\u003ca target=\\&quot;_blank\\&quot; href=\\&quot;http://openstreetmap.org\\&quot;\\u003eOpenStreetMap\\u003c/a\\u003e, under \\u003ca target=\\&quot;_blank\\&quot; href=\\&quot;http://www.openstreetmap.org/copyright\\&quot;\\u003eODbL\\u003c/a\\u003e.&quot;, &quot;detectRetina&quot;: false, &quot;maxNativeZoom&quot;: 18, &quot;maxZoom&quot;: 18, &quot;minZoom&quot;: 0, &quot;noWrap&quot;: false, &quot;opacity&quot;: 1, &quot;subdomains&quot;: &quot;abc&quot;, &quot;tms&quot;: false}\n",
       "            ).addTo(map_1fc451735a7396816941557b021bdfc8);\n",
       "        \n",
       "    \n",
       "            var marker_ccab3e5175f1539842ff6c9721e475c7 = L.marker(\n",
       "                [-15.911319542624627, -47.76791017881488],\n",
       "                {}\n",
       "            ).addTo(map_1fc451735a7396816941557b021bdfc8);\n",
       "        \n",
       "&lt;/script&gt;\n",
       "&lt;/html&gt;\" style=\"position:absolute;width:100%;height:100%;left:0;top:0;border:none !important;\" allowfullscreen webkitallowfullscreen mozallowfullscreen></iframe></div></div>"
      ],
      "text/plain": [
       "<folium.folium.Map at 0x7ff49158e810>"
      ]
     },
     "execution_count": 34,
     "metadata": {},
     "output_type": "execute_result"
    }
   ],
   "source": [
    "import folium\n",
    "\n",
    "# Criar um mapa Folium centrado nas coordenadas do ponto selecionado\n",
    "mapa = folium.Map(location=[y, x], zoom_start=12)\n",
    "\n",
    "# Adicionar um marcador para o ponto no mapa\n",
    "folium.Marker(location=[y, x]).add_to(mapa)\n",
    "\n",
    "# Exibir o mapa\n",
    "mapa"
   ]
  },
  {
   "cell_type": "code",
   "execution_count": 35,
   "metadata": {},
   "outputs": [
    {
     "data": {
      "text/plain": [
       "'Avenida Morro da Cruz'"
      ]
     },
     "execution_count": 35,
     "metadata": {},
     "output_type": "execute_result"
    }
   ],
   "source": [
    "# verificando se faz sentido o plot\n",
    "df['descricao'].iloc[0]"
   ]
  },
  {
   "cell_type": "code",
   "execution_count": 36,
   "metadata": {},
   "outputs": [
    {
     "data": {
      "text/plain": [
       "1308"
      ]
     },
     "execution_count": 36,
     "metadata": {},
     "output_type": "execute_result"
    }
   ],
   "source": [
    "# Lendo o arquivo das linhas\n",
    "file = '../databases/linhas/Linhas.shp'\n",
    "linhas = gpd.read_file(file)\n",
    "linhas.head(5)\n",
    "linhas.linha.shape[0]"
   ]
  },
  {
   "cell_type": "code",
   "execution_count": 37,
   "metadata": {},
   "outputs": [],
   "source": [
    "linestringRecanto = linhas[linhas['linha']=='813.2']\n",
    "linestringRecantoIda = linestringRecanto.iloc[1] # ida\n",
    "linestringRecantoVolta = linestringRecanto.iloc[0] # volta\n"
   ]
  },
  {
   "cell_type": "code",
   "execution_count": 38,
   "metadata": {},
   "outputs": [
    {
     "data": {
      "text/html": [
       "<div style=\"width:100%;\"><div style=\"position:relative;width:100%;height:0;padding-bottom:60%;\"><span style=\"color:#565656\">Make this Notebook Trusted to load map: File -> Trust Notebook</span><iframe srcdoc=\"&lt;!DOCTYPE html&gt;\n",
       "&lt;html&gt;\n",
       "&lt;head&gt;\n",
       "    \n",
       "    &lt;meta http-equiv=&quot;content-type&quot; content=&quot;text/html; charset=UTF-8&quot; /&gt;\n",
       "    \n",
       "        &lt;script&gt;\n",
       "            L_NO_TOUCH = false;\n",
       "            L_DISABLE_3D = false;\n",
       "        &lt;/script&gt;\n",
       "    \n",
       "    &lt;style&gt;html, body {width: 100%;height: 100%;margin: 0;padding: 0;}&lt;/style&gt;\n",
       "    &lt;style&gt;#map {position:absolute;top:0;bottom:0;right:0;left:0;}&lt;/style&gt;\n",
       "    &lt;script src=&quot;https://cdn.jsdelivr.net/npm/leaflet@1.9.3/dist/leaflet.js&quot;&gt;&lt;/script&gt;\n",
       "    &lt;script src=&quot;https://code.jquery.com/jquery-1.12.4.min.js&quot;&gt;&lt;/script&gt;\n",
       "    &lt;script src=&quot;https://cdn.jsdelivr.net/npm/bootstrap@5.2.2/dist/js/bootstrap.bundle.min.js&quot;&gt;&lt;/script&gt;\n",
       "    &lt;script src=&quot;https://cdnjs.cloudflare.com/ajax/libs/Leaflet.awesome-markers/2.0.2/leaflet.awesome-markers.js&quot;&gt;&lt;/script&gt;\n",
       "    &lt;link rel=&quot;stylesheet&quot; href=&quot;https://cdn.jsdelivr.net/npm/leaflet@1.9.3/dist/leaflet.css&quot;/&gt;\n",
       "    &lt;link rel=&quot;stylesheet&quot; href=&quot;https://cdn.jsdelivr.net/npm/bootstrap@5.2.2/dist/css/bootstrap.min.css&quot;/&gt;\n",
       "    &lt;link rel=&quot;stylesheet&quot; href=&quot;https://netdna.bootstrapcdn.com/bootstrap/3.0.0/css/bootstrap.min.css&quot;/&gt;\n",
       "    &lt;link rel=&quot;stylesheet&quot; href=&quot;https://cdn.jsdelivr.net/npm/@fortawesome/fontawesome-free@6.2.0/css/all.min.css&quot;/&gt;\n",
       "    &lt;link rel=&quot;stylesheet&quot; href=&quot;https://cdnjs.cloudflare.com/ajax/libs/Leaflet.awesome-markers/2.0.2/leaflet.awesome-markers.css&quot;/&gt;\n",
       "    &lt;link rel=&quot;stylesheet&quot; href=&quot;https://cdn.jsdelivr.net/gh/python-visualization/folium/folium/templates/leaflet.awesome.rotate.min.css&quot;/&gt;\n",
       "    \n",
       "            &lt;meta name=&quot;viewport&quot; content=&quot;width=device-width,\n",
       "                initial-scale=1.0, maximum-scale=1.0, user-scalable=no&quot; /&gt;\n",
       "            &lt;style&gt;\n",
       "                #map_0ceb9c1158999ab2e2399d5830538c4d {\n",
       "                    position: relative;\n",
       "                    width: 100.0%;\n",
       "                    height: 100.0%;\n",
       "                    left: 0.0%;\n",
       "                    top: 0.0%;\n",
       "                }\n",
       "                .leaflet-container { font-size: 1rem; }\n",
       "            &lt;/style&gt;\n",
       "        \n",
       "&lt;/head&gt;\n",
       "&lt;body&gt;\n",
       "    \n",
       "    \n",
       "            &lt;div class=&quot;folium-map&quot; id=&quot;map_0ceb9c1158999ab2e2399d5830538c4d&quot; &gt;&lt;/div&gt;\n",
       "        \n",
       "&lt;/body&gt;\n",
       "&lt;script&gt;\n",
       "    \n",
       "    \n",
       "            var map_0ceb9c1158999ab2e2399d5830538c4d = L.map(\n",
       "                &quot;map_0ceb9c1158999ab2e2399d5830538c4d&quot;,\n",
       "                {\n",
       "                    center: [-15.7605, -47.78134],\n",
       "                    crs: L.CRS.EPSG3857,\n",
       "                    zoom: 10,\n",
       "                    zoomControl: true,\n",
       "                    preferCanvas: false,\n",
       "                }\n",
       "            );\n",
       "\n",
       "            \n",
       "\n",
       "        \n",
       "    \n",
       "            var tile_layer_88439edf86c4f6c8c8b47de3599d765f = L.tileLayer(\n",
       "                &quot;https://{s}.tile.openstreetmap.org/{z}/{x}/{y}.png&quot;,\n",
       "                {&quot;attribution&quot;: &quot;Data by \\u0026copy; \\u003ca target=\\&quot;_blank\\&quot; href=\\&quot;http://openstreetmap.org\\&quot;\\u003eOpenStreetMap\\u003c/a\\u003e, under \\u003ca target=\\&quot;_blank\\&quot; href=\\&quot;http://www.openstreetmap.org/copyright\\&quot;\\u003eODbL\\u003c/a\\u003e.&quot;, &quot;detectRetina&quot;: false, &quot;maxNativeZoom&quot;: 18, &quot;maxZoom&quot;: 18, &quot;minZoom&quot;: 0, &quot;noWrap&quot;: false, &quot;opacity&quot;: 1, &quot;subdomains&quot;: &quot;abc&quot;, &quot;tms&quot;: false}\n",
       "            ).addTo(map_0ceb9c1158999ab2e2399d5830538c4d);\n",
       "        \n",
       "    \n",
       "            var poly_line_0183499411cfdb3019fa2e515b2b1dbc = L.polyline(\n",
       "                [[-15.736292122908715, -47.90742176540436], [-15.736347013886695, -47.90757465790603], [-15.736457793168467, -47.90768780048404], [-15.736586241002362, -47.90776226464094], [-15.736738481263583, -47.907823139915656], [-15.73703585120781, -47.90881540750094], [-15.73728352110014, -47.909639191889326], [-15.737406434285857, -47.910051980542285], [-15.738089838560812, -47.912315248134206], [-15.73813080655775, -47.912356557936924], [-15.738204344605261, -47.912446202869056], [-15.738240397515696, -47.91254460215859], [-15.73827628972429, -47.91259030529494], [-15.738311029918131, -47.9125927651703], [-15.738347752813752, -47.91257631921602], [-15.738369099964984, -47.91249356348797], [-15.738378373522403, -47.91239821186479], [-15.737781591504412, -47.91040763616767], [-15.737493691838232, -47.90943892477332], [-15.737310347376384, -47.90882856404787], [-15.735970930814169, -47.904371059526795], [-15.73568458365515, -47.90341135388101], [-15.735167614940627, -47.901702075947085], [-15.734760399776697, -47.90033304345277], [-15.73475353659279, -47.900147653635834], [-15.734764612125486, -47.900039679453826], [-15.734797003420288, -47.899917104760924], [-15.734882482794141, -47.89973765425392], [-15.735494759116508, -47.89874772283872], [-15.735593131038488, -47.89861462245733], [-15.73563883014794, -47.89860775384819], [-15.735669534603366, -47.898604671435194], [-15.735727920249984, -47.89860818844276], [-15.736070119799171, -47.89885705529494], [-15.736344645197422, -47.89903056114926], [-15.73670381536712, -47.89918980624844], [-15.736996641532837, -47.89927537077932], [-15.737049649558864, -47.899284948547546], [-15.737477058547436, -47.89934429776253], [-15.737740143574438, -47.89935380493265], [-15.737982639036968, -47.89932766021488], [-15.738231997276998, -47.899292008326995], [-15.73845727308813, -47.89922579675076], [-15.738579725688293, -47.89918980624845], [-15.738982357842561, -47.899059082659576], [-15.739478783889675, -47.898902214352944], [-15.740439605053338, -47.89859323132471], [-15.741304340217873, -47.89831039301427], [-15.741791544955307, -47.89815123668552], [-15.742272015683263, -47.89799427960849], [-15.74303151187607, -47.89775897714853], [-15.743934364973065, -47.8974636772006], [-15.74427484627555, -47.897351140737555], [-15.744366949950384, -47.89732091269049], [-15.74471922398159, -47.897208410810265], [-15.74490050096387, -47.89715051826219], [-15.745121612824716, -47.89708171054895], [-15.74555658502302, -47.896946365900256], [-15.74580181881165, -47.89687005674426], [-15.7465864653582, -47.89660860956654], [-15.7477805863583, -47.89622356917752], [-15.748010740640245, -47.89615209493652], [-15.748400519972197, -47.89603104898302], [-15.750255734357424, -47.89543209726676], [-15.750946028802808, -47.89521066522421], [-15.751774664224175, -47.89494485479918], [-15.752184132832012, -47.8948117544178], [-15.754078200344958, -47.89421517949408], [-15.755313452250297, -47.89382063193498], [-15.755969962705219, -47.89360909740027], [-15.757742759078864, -47.893038667194325], [-15.759163272487001, -47.89257994623704], [-15.759668799015497, -47.89241832434535], [-15.760890292309734, -47.89202377678624], [-15.761526197894694, -47.89182412621415], [-15.762905574414095, -47.89137079116826], [-15.763351556097641, -47.89123705846053], [-15.764783467208556, -47.8907830910883], [-15.765238657282628, -47.8906285995742], [-15.76690157917672, -47.89011045880378], [-15.768744832237275, -47.88958554932288], [-15.770032959066269, -47.889271451042546], [-15.77050643596834, -47.889164495378935], [-15.771636371549565, -47.888903048201215], [-15.772347724527291, -47.88876281744226], [-15.773532544849639, -47.88856792045523], [-15.774214156493708, -47.888449080828984], [-15.775229707848784, -47.888287458937306], [-15.776096582122134, -47.888204271198944], [-15.7772562208047, -47.8880759244026], [-15.777828032309625, -47.888021258174554], [-15.779682977731657, -47.887869143452974], [-15.780531535269986, -47.887809723639855], [-15.781384663662166, -47.88776694137441], [-15.781535618982398, -47.88776218778936], [-15.783134366156395, -47.887728912694016], [-15.783486592021925, -47.88772178231645], [-15.78371073543585, -47.88774317344918], [-15.784838310278888, -47.8878501291128], [-15.785547329787352, -47.887911925718434], [-15.785789768146977, -47.88794044722875], [-15.786190019521191, -47.88802363496712], [-15.786633725835008, -47.888128213838215], [-15.78777264598099, -47.88841585329556], [-15.787966697353552, -47.8884689729721], [-15.788223586992094, -47.88855651557694], [-15.78830580363467, -47.88858961623139], [-15.788838520120944, -47.88873904951711], [-15.789325675788518, -47.888912555371434], [-15.789947769586096, -47.88912171311362], [-15.790508109365152, -47.889311858662474], [-15.7911258464678, -47.88951811945582], [-15.7922931924282, -47.889912239272945], [-15.792836797833544, -47.89009022486041], [-15.793526632581674, -47.89032210904541], [-15.794226022488868, -47.89055413081076], [-15.79448417039827, -47.890636762426034], [-15.79485317965815, -47.890782661423266], [-15.795285993972886, -47.890936870110714], [-15.795509036267617, -47.891009133472444], [-15.79566830611478, -47.891070620606875], [-15.795986615801747, -47.891210866198165], [-15.796354731435644, -47.89137896482904], [-15.797230998254516, -47.89175005806652], [-15.797336567087706, -47.89179762086752], [-15.797564228219965, -47.89192671052036], [-15.797654185931084, -47.891989682471646], [-15.797895786115946, -47.89214858381128], [-15.799309472696498, -47.89301758536662], [-15.799438682737751, -47.89309345519723], [-15.799762677474034, -47.893344838788984], [-15.800072469774852, -47.89358615017092], [-15.800632193383754, -47.894033374997406], [-15.801225294690916, -47.894486012660934], [-15.801416790551228, -47.89463927207787], [-15.80193755947337, -47.895095820256074], [-15.802700294922147, -47.89577298155903], [-15.803245217644543, -47.89625455773262], [-15.803685581727816, -47.896648274220254], [-15.804211423320659, -47.897127115764874], [-15.804588507521828, -47.89747304615567], [-15.805166544544441, -47.89802420298073], [-15.806029811230042, -47.89882127597607], [-15.806700260691189, -47.89951936149947], [-15.807423101917806, -47.900274959498574], [-15.808284044868351, -47.90120034792248], [-15.809207470096592, -47.9022771767659], [-15.809827308615594, -47.90300664513014], [-15.810007819295176, -47.90322184638253], [-15.810448773454732, -47.90379290283437], [-15.811326930277062, -47.904948081282534], [-15.811956053293033, -47.905786286057925], [-15.812707413457936, -47.90681874071463], [-15.813061689330526, -47.90730504971716], [-15.813197184620401, -47.90749321548773], [-15.814076198087996, -47.90871393670981], [-15.81457709375653, -47.90940225268747], [-15.815473032401837, -47.91065398180714], [-15.816574411487771, -47.91217520320965], [-15.817450455227046, -47.913394587220274], [-15.818535286765876, -47.91490079201382], [-15.819735201959615, -47.916554274639005], [-15.820289931729581, -47.91732087204429], [-15.820435402207208, -47.917521903426625], [-15.820970236844397, -47.91826010826555], [-15.822394566682386, -47.92023522691439], [-15.822685466856331, -47.92063978400203], [-15.823821892994566, -47.92220794723053], [-15.825286122033141, -47.92423305411949], [-15.825690643379307, -47.924799121956944], [-15.825866611368209, -47.92503858733767], [-15.825969016612508, -47.92518097143122], [-15.827050403544042, -47.92668454855633], [-15.827666247452825, -47.92752515756647], [-15.827927148138766, -47.92788582729714], [-15.828111298264528, -47.928140398034884], [-15.828246595345435, -47.928327434512106], [-15.828535845646583, -47.9287272997058], [-15.828913350218608, -47.92921401680506], [-15.829052751859505, -47.929418409197865], [-15.829134993979265, -47.929520786330706], [-15.829231702440318, -47.929613499821315], [-15.829345266089506, -47.929696584129516], [-15.829561182771172, -47.92980829349874], [-15.829660449746903, -47.9298442782519], [-15.829846111879965, -47.929896317543395], [-15.830127460795243, -47.92993986461431], [-15.830187401890315, -47.92999036348123], [-15.830230848259427, -47.93004502970931], [-15.830253714765723, -47.93011395669253], [-15.830242281512913, -47.93019952122342], [-15.830210268401535, -47.930270824999184], [-15.829734644435273, -47.930653488595695], [-15.829686624645689, -47.93067725652094], [-15.829629458214646, -47.930682010106], [-15.829572291767413, -47.93067250293589], [-15.829533418574083, -47.93064398142558], [-15.82949454537325, -47.93059882236762], [-15.829473965440396, -47.93054177934702], [-15.829462532143436, -47.93047285236379], [-15.829483112077464, -47.93040630217309], [-15.829512838645153, -47.93034688235997], [-15.829537991891332, -47.93031360726463], [-15.829659893515245, -47.93017116254001], [-15.830095935819507, -47.92985132111849], [-15.83043436007453, -47.92957798997812], [-15.830544939671112, -47.92949025894378], [-15.830876971710323, -47.92925998301922], [-15.831499898057574, -47.928937141904676], [-15.831721873865032, -47.928855878204374], [-15.83210324411912, -47.928688060316695], [-15.832686842228183, -47.92848586143324], [-15.833457991780401, -47.92831378935684], [-15.833607514463175, -47.928329108506354], [-15.834075711836153, -47.92833695589583], [-15.834672711103096, -47.92840041150393], [-15.835015784824638, -47.92847336972944], [-15.835351999139409, -47.92858242904061], [-15.835622624763575, -47.92867299155336], [-15.835782760025431, -47.92874254740568], [-15.835953048580324, -47.92881761944983], [-15.83738342591288, -47.929604483212444], [-15.837906394193526, -47.92988106092918], [-15.838195584360726, -47.93001220851052], [-15.83848938207622, -47.930195255083405], [-15.838981114495482, -47.930460141371675], [-15.839529537459642, -47.93076341901264], [-15.840236077537114, -47.931050058342564], [-15.840784986505897, -47.9312143039347], [-15.841451175560675, -47.93130455190891], [-15.842445012618882, -47.93138626569441], [-15.8426186374169, -47.931444925564094], [-15.842700392453336, -47.93149485403742], [-15.842862407250301, -47.93157278385469], [-15.843057356458985, -47.93173295015124], [-15.843189749065727, -47.931881106057844], [-15.843338763338298, -47.93212514691194], [-15.844102987013528, -47.93395961151771], [-15.844300751077908, -47.93476424229882], [-15.844419103621844, -47.93543402841162], [-15.844456113444295, -47.935994035004754], [-15.84445492300326, -47.93655184335236], [-15.844415552292745, -47.937693251932046], [-15.844321767738682, -47.93880018437264], [-15.844246836824514, -47.93978192481568], [-15.844197522160014, -47.94011028521363], [-15.844105843216006, -47.940547723084066], [-15.84406936693892, -47.94062872295378], [-15.84399084963101, -47.94078441736979], [-15.843889112830572, -47.94098566604481], [-15.843641275594251, -47.94178806953756], [-15.843575181519572, -47.94201382600225], [-15.843538126918697, -47.942198483748975], [-15.84352549139672, -47.942411395565934], [-15.843515615533285, -47.94255320543154], [-15.843479155998823, -47.94275006190843], [-15.843363812850404, -47.943110897393524], [-15.842016434549086, -47.947450216319865], [-15.842006691258879, -47.94758205447601], [-15.842005520898548, -47.94776676101948], [-15.84197713785374, -47.9481682012234], [-15.841955664911376, -47.948327437936605], [-15.841902282768014, -47.948505722155545], [-15.841570321096269, -47.94960555879377], [-15.840623996525332, -47.95267365019289], [-15.840519132960535, -47.95299356504404], [-15.840351822158091, -47.95352080292073], [-15.840273555492255, -47.953763969975654], [-15.84024547026705, -47.95384568089276], [-15.840135483986186, -47.95408310697631], [-15.840068890877738, -47.954198864915746], [-15.839973812752635, -47.95430071721279], [-15.839890864341664, -47.954345848941465], [-15.839798464940175, -47.95437617893912], [-15.839697789939091, -47.954388791498005], [-15.839603579388733, -47.95438793908007], [-15.839474236192558, -47.95434095635017], [-15.839390680827792, -47.95428336483849], [-15.839326128034385, -47.954214774757276], [-15.839269943631283, -47.954138847704314], [-15.839231607861006, -47.95405617078642], [-15.83920336589056, -47.9539762109344], [-15.839192425417304, -47.95390532599438], [-15.839199719000547, -47.95380703104249], [-15.839218679593126, -47.95372633100385], [-15.839251528817131, -47.9536458329974], [-15.83929916092823, -47.95357272510026], [-15.839362567982759, -47.95350702173663], [-15.839426799429285, -47.95345363047584], [-15.839501789717678, -47.953411670835166], [-15.839642653169925, -47.95337221703685], [-15.839793466036525, -47.953350963360016], [-15.83995094066495, -47.95336682909111], [-15.84113694899788, -47.953525148425186], [-15.841271917307285, -47.95355055298849], [-15.841508695679739, -47.95358093560941], [-15.8422011650653, -47.9536685440425], [-15.842557639999686, -47.95371574616374], [-15.842831361202483, -47.95375748852496], [-15.842901604197529, -47.953769655648536], [-15.843008675787226, -47.953787637912015], [-15.845650234524367, -47.95419738997837], [-15.846585080655595, -47.95434738026024], [-15.846923733011629, -47.954475787242195], [-15.847428821433072, -47.95464551847649], [-15.847542366824463, -47.95467064903364], [-15.847831241976545, -47.95471868029498], [-15.848193156306861, -47.95477885608343], [-15.848937040542927, -47.954893356533006], [-15.849558171949868, -47.9549863241915], [-15.850217851358806, -47.95509960052711], [-15.850834241452795, -47.95520951860918], [-15.851203727003837, -47.95527167188636], [-15.852524447350358, -47.95548590959052], [-15.853739126033389, -47.95568763998095], [-15.854474522805075, -47.95580311990401], [-15.855845337936172, -47.956023035219935], [-15.856195391212827, -47.95608879650955], [-15.856546915136136, -47.956168420594445], [-15.856929949749706, -47.956269035967125], [-15.857181766739963, -47.9563319552496], [-15.8573783016717, -47.95636825763899], [-15.857772611019932, -47.956433254769685], [-15.858147650577951, -47.9564956248531], [-15.858436540967151, -47.956547611537275], [-15.859165729535837, -47.95665942292847], [-15.859397766122155, -47.95669775900139], [-15.859677064641627, -47.956744068817244], [-15.859810648875927, -47.95677476145774], [-15.8599740967437, -47.956822315150475], [-15.860129508652319, -47.95687620461436], [-15.860273358192208, -47.95694517779563], [-15.860684141494778, -47.95715502157639], [-15.862141347575804, -47.957950336003485], [-15.862411611925136, -47.95815901367521], [-15.8626068132283, -47.958334331759815], [-15.862826413894302, -47.958593894617515], [-15.863053174089057, -47.958952703361355], [-15.863186108635436, -47.95919692303712], [-15.863527036270296, -47.959864209040255], [-15.864131397509603, -47.96105216965563], [-15.86427460738196, -47.96137515090263], [-15.864373845528968, -47.96167490458896], [-15.864484932551244, -47.96198011137801], [-15.864553297991725, -47.96215006133456], [-15.864636606825217, -47.96232756273203], [-15.865010409244862, -47.963060454835095], [-15.86549101951978, -47.96399205016594], [-15.865653013961607, -47.96429445535272], [-15.865815824155659, -47.96455407725992], [-15.86603025189607, -47.96490039715114], [-15.866155983290472, -47.965131025509294], [-15.866274382607111, -47.965358027012975], [-15.866391372870595, -47.9656049538545], [-15.867095307957674, -47.96704416462045], [-15.867780444948503, -47.96838352649874], [-15.867988407482967, -47.968786662735084], [-15.868771995225039, -47.97031579088328], [-15.869362867252644, -47.97146811707866], [-15.869712834604378, -47.97215610498283], [-15.869922827865967, -47.972565066748416], [-15.869989656359708, -47.97269196043554], [-15.870360679227172, -47.97341751321758], [-15.87074026042797, -47.97416050012045], [-15.871001199653183, -47.97467412797287], [-15.87137165093626, -47.97539938554084], [-15.872005290344973, -47.97661865815048], [-15.872560950465909, -47.97770684810414], [-15.873459398057683, -47.97946593555203], [-15.87453222675162, -47.981581982115216], [-15.874933769623947, -47.98236400039679], [-15.875163113766476, -47.982861342215635], [-15.87533198836048, -47.98329678201221], [-15.875474879081423, -47.98376351909683], [-15.87556492252409, -47.98410979999116], [-15.875656711684869, -47.98457637153538], [-15.875714120440492, -47.98494211826906], [-15.875756428635418, -47.985332282122044], [-15.875947207850036, -47.98751100527556], [-15.876011340338652, -47.98819100630528], [-15.876096154887714, -47.98914088120971], [-15.87613434758381, -47.989581730429194], [-15.876211380690494, -47.990433991769955], [-15.876228100164735, -47.990644375404706], [-15.876250422437861, -47.99092258457868], [-15.876292176823458, -47.99143026727881], [-15.87632156472248, -47.99176651256478], [-15.876402715665304, -47.99261714309915], [-15.87684432125563, -47.99758188432609], [-15.877178245246968, -48.00138336265257], [-15.8772830367156, -48.002628035169536], [-15.877390902367209, -48.00377412532946], [-15.877407757059009, -48.00394985497098], [-15.877425325970378, -48.0041242392891], [-15.877476351117984, -48.00483745793205], [-15.877694581043285, -48.007292167197235], [-15.877888820415725, -48.009776885457164], [-15.877890715895928, -48.009966988862274], [-15.877876765450171, -48.010153336782224], [-15.87784195969726, -48.010328006231305], [-15.877790903006037, -48.010482165752904], [-15.877769122501636, -48.01053447812718], [-15.877743276900695, -48.01067479948909], [-15.877743878213021, -48.01080317142094], [-15.877782216589766, -48.01096666373986], [-15.87783052191704, -48.01110068198526], [-15.877968053071895, -48.011317423786565], [-15.87801843303922, -48.011503376686804], [-15.87804737357585, -48.01160254790357], [-15.878061550510418, -48.01200472327436], [-15.878030362593524, -48.012574226807985], [-15.877953638687446, -48.013361760526465], [-15.877877054385316, -48.01390904785254], [-15.877815142790373, -48.014324002748346], [-15.877776041134663, -48.01465562456098], [-15.877746772376138, -48.01488120128139], [-15.877682364009438, -48.01527845790891], [-15.877608221843825, -48.015765303432694], [-15.877496145635766, -48.01655727634015], [-15.877450149667448, -48.01686559771468], [-15.877407375375176, -48.01723030047482], [-15.877363216894066, -48.017579242089035], [-15.877220962968531, -48.01862203736938], [-15.876626907198734, -48.02300770434424], [-15.876448443067646, -48.02423742810118], [-15.876326950177486, -48.02463920950667], [-15.87611713252589, -48.02512113056613], [-15.875985703821838, -48.02554991525995], [-15.875919835102072, -48.02581799421032], [-15.875775518075164, -48.02667671515837], [-15.875753574875217, -48.02683622024158], [-15.875337430970596, -48.02987388001681], [-15.875200202555034, -48.0308488180566], [-15.874817695847554, -48.03343036453448], [-15.874754488016062, -48.03388525967368], [-15.874660558509616, -48.03459481671132], [-15.874544937816788, -48.03541888467399], [-15.874409853236122, -48.036378388739365], [-15.874280390035592, -48.037111031911735], [-15.874249855494568, -48.03729400997772], [-15.874195034116223, -48.037631838671956], [-15.874139060694688, -48.038051624746196], [-15.874102304361415, -48.03830707702453], [-15.874058931301157, -48.03861685582887], [-15.874018640117987, -48.038892412500665], [-15.873880016811905, -48.03984816046949], [-15.873840453853454, -48.040141197330456], [-15.873786074561322, -48.04051665815608], [-15.87350341365505, -48.04258059000864], [-15.873488845673421, -48.04283142399398], [-15.873480425124887, -48.04310510273093], [-15.873493336519969, -48.043469229288135], [-15.873530182439291, -48.043851077495134], [-15.873574597409931, -48.044195071600384], [-15.8737154763744, -48.04484042282372], [-15.873760123715483, -48.044994963827214], [-15.873824396363055, -48.045199018128315], [-15.8738980681655, -48.04540522961302], [-15.874047651669777, -48.04577401175248], [-15.874158946952374, -48.046028833707524], [-15.874328951191991, -48.04634870358314], [-15.874501205446153, -48.046631486009375], [-15.874742731443801, -48.047005684615286], [-15.875366822669871, -48.04792116423108], [-15.876545279042487, -48.049691959883], [-15.877559745770972, -48.05121572134354], [-15.877766808168706, -48.05151986626332], [-15.87812601128659, -48.05205677724453], [-15.87901633057958, -48.053413393217284], [-15.879708820458426, -48.054433419751646], [-15.880252372520177, -48.05526408315756], [-15.880454387000123, -48.055625919807284], [-15.880762066852613, -48.05633913639819], [-15.880787408062897, -48.05647861012285], [-15.880913658016334, -48.056794311319436], [-15.88106448388391, -48.05725753848603], [-15.881132436657985, -48.057434819524346], [-15.881249080087596, -48.0577239640078], [-15.881385345639933, -48.058074388166865], [-15.881572443887064, -48.05851736928433], [-15.881642512964161, -48.05866692655562], [-15.8816975565017, -48.0588281560514], [-15.881931074952437, -48.05954611653345], [-15.882296835677256, -48.06072690557811], [-15.882295693962002, -48.060807521197475], [-15.882314958362498, -48.06091666686846], [-15.88237127021706, -48.06111910057814], [-15.882407087039574, -48.061253358412905], [-15.882438526873406, -48.06142114712951], [-15.882431100556298, -48.06150184151233], [-15.88238227056162, -48.06161597870971], [-15.88230029824542, -48.06170443636043], [-15.882205011872802, -48.06176515390468], [-15.882105658967959, -48.061790403058644], [-15.881982489313222, -48.06177673789137], [-15.881866706619881, -48.06172541723239], [-15.88172373502363, -48.06160444553805], [-15.881627799177739, -48.061495987582056], [-15.88154609105747, -48.06135076450235], [-15.881502561180671, -48.0611982506649], [-15.881495813145607, -48.061083273411974], [-15.881527321397824, -48.06095549870765], [-15.881568247939628, -48.060861699481485], [-15.88162811111723, -48.06078667654817], [-15.881693068824376, -48.06074599846524], [-15.881826282698382, -48.06066133240157], [-15.881909730851326, -48.060600775613516], [-15.883205345173554, -48.06017201730795], [-15.885113221176423, -48.05956636539087], [-15.885588816680787, -48.059413630297136], [-15.886529538213072, -48.05911270395517], [-15.887674057858767, -48.05874833204505], [-15.889347132529393, -48.05821118741743], [-15.889988089364634, -48.05799979783012], [-15.893486970802233, -48.056886129103326], [-15.893919502162882, -48.05674348564155], [-15.895385470753434, -48.056273745678936], [-15.897526927126535, -48.05558808141093], [-15.898152117936782, -48.055387865039535], [-15.898295823571193, -48.055342996526214], [-15.898825593378985, -48.055176281297044], [-15.89916407538805, -48.05506211539279], [-15.899421354856026, -48.054987714430354], [-15.899666964308842, -48.05491078501481], [-15.899883794610378, -48.054845516710095], [-15.900058556922657, -48.054811868891825], [-15.900207121803586, -48.05479126532075], [-15.90034115451642, -48.05478657028212], [-15.900427016666619, -48.05478517950034], [-15.900526541659612, -48.05480633930516], [-15.900584046678341, -48.0548327443121], [-15.900675621600483, -48.054887216309695], [-15.90072567037208, -48.05493501287611], [-15.900799857483657, -48.05504634270699], [-15.90085116745815, -48.05514287880608], [-15.900886089707754, -48.05524857539201], [-15.900983692806767, -48.05554338086826], [-15.901044811649662, -48.05575094637777], [-15.901100300380024, -48.055919786538865], [-15.901196345282205, -48.05623271312849], [-15.90132658011602, -48.056657037886914], [-15.901382299650816, -48.05685545020058], [-15.901449306774412, -48.057060417333645], [-15.901730812131184, -48.05798465186612], [-15.901849567582843, -48.05835249857592], [-15.902013584866863, -48.058910923574345], [-15.902382087573844, -48.0601200662281], [-15.902415214962538, -48.06023749708368], [-15.902425316815366, -48.060327699084645], [-15.902424191647253, -48.06038413072862], [-15.9024182439144, -48.060551370676855], [-15.902401413329903, -48.060629914500325], [-15.902400484491823, -48.06074900812026], [-15.902418825501456, -48.06085514055492], [-15.902444668130155, -48.060935151228065], [-15.902481349623095, -48.06100828347399], [-15.902598480494197, -48.06116361087737], [-15.902677505641483, -48.06125452062035], [-15.902737848198296, -48.06135589965637], [-15.902778978737842, -48.06143198293383], [-15.903343250267572, -48.06328432837101], [-15.90351202205417, -48.06385607829571], [-15.90376699680049, -48.064677107532624], [-15.90385921708289, -48.06498359840873], [-15.904012142798534, -48.065548894119495], [-15.904108648853034, -48.06598850869482], [-15.904146928182334, -48.066177924317174], [-15.904177253660269, -48.06642366822383], [-15.904197920575951, -48.066616848799384], [-15.904209953662264, -48.066822666595016], [-15.904216100261415, -48.06719102158631], [-15.904200608595533, -48.06754896796845], [-15.904169033867413, -48.06789457392071], [-15.904121165283009, -48.06819692374101], [-15.904014047234956, -48.06868720845282], [-15.90396419180016, -48.06885478977829], [-15.903931509509377, -48.06897351951516], [-15.903885252137785, -48.069146922964975], [-15.903780913860517, -48.06957878379649], [-15.903720694567753, -48.069880608675085], [-15.903664524752923, -48.070263471637745], [-15.903617227336362, -48.070662597201874], [-15.903597580187395, -48.07094655744661], [-15.903595965438097, -48.07124288764928], [-15.90359205533204, -48.071426285895825], [-15.903607411405499, -48.071855259008004], [-15.903635559883496, -48.07216212142005], [-15.903673536990976, -48.072463757185616], [-15.903717652122042, -48.072745326125016], [-15.903778240896083, -48.07305738582009], [-15.903892199614546, -48.0735033142357], [-15.90402269862899, -48.0739293343541], [-15.904029797204446, -48.074001682957174], [-15.904026765482072, -48.074077573536805], [-15.904002669918373, -48.07417128793051], [-15.903985496540592, -48.07428123571025], [-15.903990878664318, -48.07435994224101], [-15.904002141001788, -48.074436722188175], [-15.90402575654978, -48.07451369002883], [-15.90406308306614, -48.074586834394516], [-15.904109062572138, -48.07465038635398], [-15.904142756151954, -48.07470027126064], [-15.904210832008328, -48.07476044330663], [-15.904292082873162, -48.074854416132574], [-15.904334620177929, -48.07492696790818], [-15.904736808818862, -48.07620687654619], [-15.905003607162586, -48.077061698977715], [-15.905106812855697, -48.077394570038365], [-15.905259168147955, -48.07788342363853], [-15.905407277662137, -48.078350708877714], [-15.905878730308197, -48.079856470505675], [-15.906451075756973, -48.081673572463295], [-15.906583432722634, -48.082059308534326], [-15.906712598733828, -48.082408080946905], [-15.906901037915956, -48.082906517900426], [-15.907026867012659, -48.083202778250566], [-15.907236069438406, -48.08367167394882], [-15.907399335299505, -48.08403301956055], [-15.907621051974624, -48.08449068354293], [-15.907791823370335, -48.08482728042869], [-15.908000960409883, -48.08520948842557], [-15.908174074810953, -48.085518569636], [-15.908317423601776, -48.085771755644416], [-15.908380108465712, -48.085890315329316], [-15.908417821206875, -48.08598161315528], [-15.908446319523678, -48.08610334694258], [-15.908460342836612, -48.08621410745769], [-15.908455852483016, -48.086300728717966], [-15.908461239459129, -48.08637876464138], [-15.908487745449113, -48.08648064362347], [-15.908519283016838, -48.086548998763064], [-15.908565237801032, -48.08663235845218], [-15.9086062139488, -48.08667733730031], [-15.908655049698723, -48.086718404133954], [-15.908733293169396, -48.08679486497261], [-15.908817357540325, -48.0868962793505], [-15.908883494321472, -48.08700078001552], [-15.909097362111918, -48.087597437187085], [-15.909176567879452, -48.087833852989746], [-15.909253367427013, -48.088097019843985], [-15.909375464314204, -48.088613071127845], [-15.909442038801457, -48.088959505040826], [-15.909569840394475, -48.08966237175533], [-15.90962753618224, -48.08994751682458], [-15.909709104684643, -48.09024579540035], [-15.909853798379768, -48.090722452029], [-15.910036157315691, -48.09124807061634], [-15.910167198900867, -48.091588100045016], [-15.910270474938098, -48.09182354228205], [-15.910488252134014, -48.092282502851866], [-15.910636219890245, -48.09257575129966], [-15.911355902248971, -48.093814547915215], [-15.911749389068483, -48.094490914341485], [-15.91185230544691, -48.09466049595316], [-15.912015592666101, -48.094939533986974], [-15.912180561346213, -48.09522599043743], [-15.912271287896925, -48.09538396158657], [-15.912997230214815, -48.09663832912197], [-15.913242071053764, -48.09706848175603], [-15.913346765653047, -48.09729521509339], [-15.913371265154115, -48.097377913746236], [-15.913393603841708, -48.097497876651424], [-15.91339869111313, -48.097641767927485], [-15.913383089078433, -48.09777727763724], [-15.913346035566965, -48.09795748397321], [-15.913077292599953, -48.09896542947201], [-15.912989356634546, -48.09933772498168], [-15.91297438445362, -48.099474587812374], [-15.91297741039822, -48.09958081374013], [-15.91299727273284, -48.09969200214899], [-15.913038921683258, -48.099825701603336], [-15.913085459515637, -48.099935955340314], [-15.913135138546624, -48.1000086240686], [-15.913200334355757, -48.1000875791522], [-15.91333172359937, -48.100221311953476], [-15.914109789395352, -48.10101414646198], [-15.9145821815386, -48.101492489098796], [-15.914672265974176, -48.10155905887576], [-15.914773441623025, -48.10162311091494], [-15.914874945700086, -48.10166431913857], [-15.914966900339293, -48.101691268193555], [-15.915070081466888, -48.101706293169435], [-15.915194328331815, -48.101703496889485], [-15.915302533908497, -48.1016856696576], [-15.915424624561423, -48.101651926935645], [-15.915639005093732, -48.101576591464294], [-15.916055239353655, -48.101437824366755], [-15.916318632545643, -48.1013457683105], [-15.916492957650618, -48.10129737063539], [-15.916634427321881, -48.10127266160725], [-15.916812117199907, -48.101261613398016], [-15.916977973902947, -48.10125945596173], [-15.917049733721877, -48.10126627017041], [-15.917178867868323, -48.10128539001515], [-15.917326639080217, -48.10131991689633], [-15.91750658945434, -48.101377787242065], [-15.917797079712521, -48.101504223003275], [-15.918027401689889, -48.10163175121763], [-15.918150730606564, -48.10169278473572], [-15.918622426634213, -48.101948012255086], [-15.91943433621542, -48.10237647823662], [-15.92014361446316, -48.10275162365541], [-15.920501848323008, -48.10293790864343], [-15.9213884069442, -48.10339810930275], [-15.921901339937442, -48.10366537430706], [-15.92213558639321, -48.10380543200366], [-15.922290297692303, -48.10389988143588], [-15.922360313046443, -48.10396009835693], [-15.922463536549065, -48.10406249307805], [-15.922549650852307, -48.104133710465454], [-15.92264000458193, -48.104181471284306], [-15.922756451393848, -48.104223584891926], [-15.922988421928984, -48.10428158802498], [-15.923135179111334, -48.10434130524493], [-15.923226420910368, -48.10439512847829], [-15.92371095561786, -48.10468417069131], [-15.923984200623755, -48.10485638709613], [-15.924531554778207, -48.10523107733895], [-15.925117181300509, -48.10565743514235], [-15.926047144607287, -48.10642176523577], [-15.927658604446087, -48.10790831355259], [-15.927767657149976, -48.108012147093504], [-15.928187720135952, -48.10841984094181], [-15.928802868465032, -48.10900796829573], [-15.929566948651603, -48.10973012045205], [-15.930115417182733, -48.11025203709511], [-15.93111916431822, -48.111208179746434], [-15.931156035799358, -48.111255190164464], [-15.931181353168553, -48.11134832712281], [-15.931185424235077, -48.111426686822256], [-15.931203099739282, -48.111486102129206], [-15.931231235404253, -48.11154340794207], [-15.931275637554478, -48.111596601223134], [-15.931338216652689, -48.11163117013199], [-15.931414604028923, -48.111655198779374], [-15.931490739014265, -48.11165166838163], [-15.931578974386076, -48.11162076940955], [-15.931651266550755, -48.11156811804698], [-15.931703894088164, -48.111481223439576], [-15.931722791704098, -48.111410946637115], [-15.931714950096294, -48.11132088095083], [-15.931742863005496, -48.11124810910187], [-15.931803437691345, -48.111151255714425], [-15.932125349787652, -48.11074457058299], [-15.932404327793233, -48.11038393187138], [-15.932548522614821, -48.11017041662219], [-15.932611672843882, -48.11003025289008], [-15.932640792331359, -48.10990502238863], [-15.932640204255442, -48.109810585761224], [-15.932622256343045, -48.10972495466339], [-15.932610931063012, -48.109631024621166], [-15.932614457862305, -48.10958940987438], [-15.932635732538797, -48.109534627016785], [-15.9330129263594, -48.10902918064128], [-15.933102266916315, -48.10891754199306]],\n",
       "                {&quot;bubblingMouseEvents&quot;: true, &quot;color&quot;: &quot;blue&quot;, &quot;dashArray&quot;: null, &quot;dashOffset&quot;: null, &quot;fill&quot;: false, &quot;fillColor&quot;: &quot;blue&quot;, &quot;fillOpacity&quot;: 0.2, &quot;fillRule&quot;: &quot;evenodd&quot;, &quot;lineCap&quot;: &quot;round&quot;, &quot;lineJoin&quot;: &quot;round&quot;, &quot;noClip&quot;: false, &quot;opacity&quot;: 1.0, &quot;smoothFactor&quot;: 1.0, &quot;stroke&quot;: true, &quot;weight&quot;: 3}\n",
       "            ).addTo(map_0ceb9c1158999ab2e2399d5830538c4d);\n",
       "        \n",
       "    \n",
       "            poly_line_0183499411cfdb3019fa2e515b2b1dbc.bindTooltip(\n",
       "                `&lt;div&gt;\n",
       "                     813.2 VOLTA\n",
       "                 &lt;/div&gt;`,\n",
       "                {&quot;sticky&quot;: true}\n",
       "            );\n",
       "        \n",
       "    \n",
       "            var poly_line_9007c4790de9d8645667de6d8a856b8e = L.polyline(\n",
       "                [[-15.933102266916315, -48.10891754199306], [-15.933185998136672, -48.108807991238685], [-15.93340999523403, -48.108525495088145], [-15.933419523786512, -48.10849607013923], [-15.933419959958936, -48.10846583300539], [-15.933400571090756, -48.10841243949764], [-15.933305764283789, -48.108312854282865], [-15.933273562383947, -48.10830244488579], [-15.933243403196407, -48.10829693958246], [-15.933220235717016, -48.10830263140659], [-15.93319534110125, -48.108315353512296], [-15.932700948146334, -48.10895831300553], [-15.93244584156172, -48.10928197251519], [-15.932424904573713, -48.10928472361605], [-15.93240834520544, -48.10928312425452], [-15.932380701672058, -48.10927228097145], [-15.932011948441897, -48.10873397427042], [-15.9319625077659, -48.1087127140331], [-15.93191012725656, -48.108714931329196], [-15.931868362720541, -48.10872504111831], [-15.931834666028479, -48.1087639420912], [-15.931817167792971, -48.108823842662865], [-15.93224759865376, -48.109460764766446], [-15.932321336402978, -48.10959571923842], [-15.932344136311603, -48.10968349132112], [-15.932367098872463, -48.10980940054195], [-15.932362568692431, -48.10994307490539], [-15.932332517852501, -48.11008778122817], [-15.932263448418889, -48.11023255807511], [-15.93209405341763, -48.11047996059222], [-15.931919835284383, -48.11070107721031], [-15.93164789365474, -48.11106270696772], [-15.931610964986419, -48.11109401754556], [-15.931574144423534, -48.111099498503286], [-15.931544642856275, -48.11110475627459], [-15.931483116669263, -48.11109859898729], [-15.931430758331183, -48.11109995995848], [-15.931371718561225, -48.11111233911027], [-15.931314214428127, -48.11108658559446], [-15.931269858707546, -48.11105095367196], [-15.930189570128569, -48.110025346991186], [-15.929577608801964, -48.10944196575682], [-15.928258037828765, -48.10818838831729], [-15.927937294253818, -48.10788303427563], [-15.927807778842629, -48.10776257301313], [-15.927210362084208, -48.10719977473577], [-15.926851237016852, -48.106850148913], [-15.926316459959788, -48.10637012890984], [-15.926169384872782, -48.10624063970011], [-15.925699120415898, -48.10584314095591], [-15.92525405323611, -48.10549937884536], [-15.924633154958842, -48.10503975958355], [-15.92395940611415, -48.1045912156602], [-15.923597558362033, -48.104362528563165], [-15.923343469062997, -48.104214801694184], [-15.92323780194924, -48.10414664355253], [-15.92319567549768, -48.10409155944784], [-15.923160069885034, -48.104035231519724], [-15.923109431305207, -48.103939021310445], [-15.92307430063913, -48.103872283901616], [-15.923025215874963, -48.10380365184531], [-15.92297204641075, -48.10374772603555], [-15.922885035416126, -48.10368950153665], [-15.922772894873813, -48.103638245467074], [-15.922690773798758, -48.10361754051622], [-15.922600893039867, -48.103606900456164], [-15.92250622087745, -48.10361794380703], [-15.922447029236828, -48.10362809402743], [-15.922376056345888, -48.10363439553978], [-15.92231755238569, -48.10363282412056], [-15.922270905887581, -48.10362068217038], [-15.922191459484145, -48.10358317013326], [-15.92137248006535, -48.10314920666675], [-15.920771956285819, -48.102831171896646], [-15.920291771589174, -48.1025784965517], [-15.919486956621927, -48.1021541685875], [-15.918420606179355, -48.10160217223159], [-15.918236877854712, -48.10149048016219], [-15.918079902974803, -48.10139832132596], [-15.91799305090816, -48.10132981466096], [-15.917593551639234, -48.10102831954673], [-15.91740140651629, -48.1008687847479], [-15.91727878235172, -48.100758704211934], [-15.91701458934576, -48.10049927468045], [-15.916837677258178, -48.10032048571828], [-15.916482445936925, -48.099970279520946], [-15.916257154646464, -48.099718841476964], [-15.915045130008883, -48.098351814272284], [-15.91492382183887, -48.098217899751674], [-15.913771142545345, -48.09690623443199], [-15.91356507143006, -48.096674586537624], [-15.913440937405515, -48.096533574419475], [-15.913153510848991, -48.096216005249346], [-15.912786501261927, -48.09577961327875], [-15.91266405238138, -48.09561174714032], [-15.912407609728605, -48.0952081322935], [-15.912248416497256, -48.09493839652076], [-15.912191764644609, -48.094830341133715], [-15.911110613711209, -48.092976728183935], [-15.910814175207351, -48.09245549567407], [-15.910693307221498, -48.09222247138474], [-15.910461515276173, -48.09174313535762], [-15.910358604981711, -48.09148216182523], [-15.910114186493892, -48.090840005900496], [-15.909943187174441, -48.09029305648313], [-15.909838269276639, -48.089899666087156], [-15.909791887555293, -48.08968727153048], [-15.909666721434165, -48.08902745337652], [-15.909513719017907, -48.08826775179026], [-15.909336502854437, -48.08765485254897], [-15.909229077194354, -48.08733195212261], [-15.909099896133123, -48.08696578101077], [-15.909061690897904, -48.08681802587543], [-15.909052723424214, -48.086740271046104], [-15.909044558177198, -48.08667462476086], [-15.909042377440816, -48.08655430058312], [-15.909039861945612, -48.08643464329935], [-15.90902495637741, -48.08636284592083], [-15.909004199316783, -48.086290959178015], [-15.90897494043888, -48.08624515122348], [-15.908943377151477, -48.086201324134606], [-15.90889037690258, -48.086133145100966], [-15.908831882262096, -48.086085378668244], [-15.908790451184673, -48.08604946512158], [-15.908716571186584, -48.08598617543482], [-15.908669509599575, -48.08593471959826], [-15.908599418609967, -48.085839848640816], [-15.908501642232125, -48.085668054338896], [-15.908236550191788, -48.085196956823765], [-15.90797723154266, -48.08473132467248], [-15.907845723516175, -48.08446857620211], [-15.907536207096305, -48.083829472480915], [-15.907435300872079, -48.08360952873843], [-15.907232456058349, -48.08315080974606], [-15.90701421968094, -48.08263137575118], [-15.906683336298812, -48.0817120584974], [-15.906020705609201, -48.079614022446755], [-15.905645113139041, -48.0784087639267], [-15.905348396547202, -48.0774634330555], [-15.905237256082886, -48.077094152300646], [-15.905134508559366, -48.076774728225374], [-15.904959080575606, -48.07621630737393], [-15.904541939009244, -48.07489047326336], [-15.904526594655598, -48.074780702654124], [-15.90453341345846, -48.074667237132864], [-15.904545825040119, -48.074594849119855], [-15.904556098743857, -48.074478298239825], [-15.904549680203438, -48.07435256717666], [-15.904493336950226, -48.07421766872224], [-15.904377795849204, -48.0740550376938], [-15.904321666952033, -48.0739644570999], [-15.904262913286704, -48.07388897084799], [-15.904212038178887, -48.07380822838969], [-15.904181863263391, -48.0737351928112], [-15.90409959498719, -48.073461443188286], [-15.90397484184181, -48.07295150958724], [-15.903938012469647, -48.072752035815654], [-15.903869726736456, -48.07229537750882], [-15.90383932202166, -48.07200998466827], [-15.903812386977108, -48.07129792032141], [-15.9038137722641, -48.07097201802061], [-15.903837291609412, -48.07064443583391], [-15.903871682156566, -48.070375483260285], [-15.903914772710964, -48.070043493937796], [-15.904076361894184, -48.069289938447994], [-15.904185538133577, -48.068883686566885], [-15.904264458428816, -48.06859289652715], [-15.90432118244532, -48.068353850056965], [-15.904349117023662, -48.06814334912996], [-15.90438481541693, -48.06790322497135], [-15.904422251343933, -48.06755703559553], [-15.904437176888571, -48.06710163862141], [-15.904413240946896, -48.066520657727416], [-15.904393425738755, -48.06635907439265], [-15.904363532090953, -48.066174489802705], [-15.904291836436126, -48.06575087517639], [-15.904234833898483, -48.065506070551564], [-15.904043652892842, -48.064864088907925], [-15.90393016587348, -48.064498138395294], [-15.903863008534866, -48.06428140485698], [-15.90369158973022, -48.06371297365228], [-15.903501388511089, -48.06309318580401], [-15.903137972652733, -48.06189351865088], [-15.903006979002466, -48.06145472854554], [-15.902977352131378, -48.06134272632503], [-15.90295861626136, -48.06124231320846], [-15.902956823098393, -48.06113946861878], [-15.902963922790908, -48.061051542886], [-15.9029653497429, -48.06097742708312], [-15.902959527739371, -48.06091609630002], [-15.902958303976524, -48.06081285399493], [-15.90293714884856, -48.060646587754874], [-15.902873252547522, -48.060520626615784], [-15.90281178078558, -48.06045116526356], [-15.902731236923557, -48.06035450640984], [-15.902670765260696, -48.0602621977629], [-15.902611400890423, -48.06013764950755], [-15.90256275358917, -48.05999108724741], [-15.902191668630667, -48.05878056047268], [-15.901978337136033, -48.058093901076305], [-15.901580452616999, -48.0568003175993], [-15.901527210126813, -48.056610678627706], [-15.901096413517344, -48.05518354500178], [-15.901021249687487, -48.05493443891046], [-15.901007664481964, -48.05483746474091], [-15.90100931286316, -48.054766928984435], [-15.901025696779223, -48.05471207200278], [-15.901065103254803, -48.05463874665951], [-15.901259515619385, -48.05450325042351], [-15.901646943869297, -48.054284988816136], [-15.901968862716334, -48.05416665716538], [-15.903753873258333, -48.053580625886774], [-15.903845305827423, -48.05351231884918], [-15.903853661213617, -48.05346428654541], [-15.903834044226562, -48.05341696485393], [-15.903806956559317, -48.053393892867284], [-15.903713720688295, -48.05339588397822], [-15.903075921926606, -48.05360277002381], [-15.902202683486538, -48.05387071552425], [-15.901760590038112, -48.054002185462785], [-15.90159043357681, -48.05403895084446], [-15.901418968971262, -48.0540646890984], [-15.901180196823391, -48.054078744949194], [-15.901058964691074, -48.054083716633066], [-15.90095462131117, -48.05408200021718], [-15.900883803620127, -48.05407723445367], [-15.900826616013994, -48.054074354599194], [-15.900738957283185, -48.05408781462244], [-15.900690361816515, -48.054098168670144], [-15.900553620459908, -48.05415785840904], [-15.90042370886675, -48.05423416336804], [-15.9003318636097, -48.054308998167976], [-15.900241143454913, -48.05438242863758], [-15.900116922653211, -48.05447247421549], [-15.899946289208012, -48.05456522771335], [-15.899797161129891, -48.054625639096244], [-15.89953465326277, -48.05472041718718], [-15.89928743061928, -48.05480089092099], [-15.898918072499873, -48.0549327584458], [-15.898192598145894, -48.055170290049375], [-15.8963052699766, -48.05577270983649], [-15.89587446863744, -48.05590649442891], [-15.89555638832355, -48.05601335008514], [-15.895286145530859, -48.056099362898365], [-15.894413754226834, -48.05637923369843], [-15.893893599186617, -48.056544717648244], [-15.893653596476344, -48.0566225378416], [-15.893574082467824, -48.05664360339013], [-15.892932209633347, -48.05684955652836], [-15.892795906477737, -48.056895270653065], [-15.892306922538298, -48.05705201202919], [-15.891892623775039, -48.05718566889187], [-15.891414072824247, -48.057339225962615], [-15.891371397870895, -48.05735080297222], [-15.889988579336153, -48.05778141567541], [-15.88952217202433, -48.05792824737962], [-15.889341679822587, -48.057985118083], [-15.885065356566033, -48.05935625124571], [-15.884761257034489, -48.05946142808269], [-15.884470336097634, -48.059463325246604], [-15.884220794809211, -48.05944696407176], [-15.883918850674576, -48.05936686476533], [-15.882842288174592, -48.058706972339166], [-15.88252151968923, -48.0584503424343], [-15.88232838886859, -48.05821452533945], [-15.882144651990497, -48.05785295921491], [-15.8817368664691, -48.056964774574254], [-15.881628067602207, -48.05672312155737], [-15.881576757350308, -48.05658056737415], [-15.881529932290388, -48.05652024409425], [-15.881402612201319, -48.05624868746037], [-15.881214003878082, -48.05582433254207], [-15.881113954775929, -48.05561330400923], [-15.881008991188438, -48.05544406551314], [-15.880926496647668, -48.05522690352272], [-15.880791304271694, -48.05498329816439], [-15.88062625685892, -48.05470449117605], [-15.880364609817049, -48.05432270034102], [-15.880048140929485, -48.053844577498204], [-15.879923180794577, -48.05366504617801], [-15.879046088195574, -48.0523424430834], [-15.878650402522963, -48.05174880274121], [-15.878135291393402, -48.05098922839562], [-15.877692687877547, -48.05032313692239], [-15.877212976064573, -48.049612414899926], [-15.877040359303248, -48.04934621641081], [-15.876540736920258, -48.04859281983377], [-15.875951865273091, -48.047710946352744], [-15.875518804359265, -48.04706535394392], [-15.875371748154237, -48.04684785618485], [-15.875171905277915, -48.04654716957884], [-15.874750695163897, -48.04584860685009], [-15.874626057225923, -48.04559388152776], [-15.874514992249356, -48.045319164802684], [-15.874367534351022, -48.04490818575441], [-15.87429843427, -48.04466004007497], [-15.87415142860578, -48.04393069458894], [-15.87411550978899, -48.043594097599744], [-15.874097758380026, -48.04285547418632], [-15.874103460131941, -48.04267343146026], [-15.874121951933827, -48.042469694662294], [-15.874380690163985, -48.040639802013786], [-15.874445379094837, -48.04025792723972], [-15.87455330828979, -48.039660039300145], [-15.874660949149913, -48.03882110159919], [-15.874716485387808, -48.03842971022172], [-15.874775610824582, -48.03764390555273], [-15.874824298003059, -48.03730296025416], [-15.874917778265539, -48.036666701680154], [-15.875120928860214, -48.035248111629905], [-15.876033467344161, -48.02908892918022], [-15.876190017435178, -48.027970941802266], [-15.876267946815041, -48.02732872607577], [-15.876394743813332, -48.026540421149875], [-15.876449307836728, -48.026173349682054], [-15.876637939564308, -48.02459747346229], [-15.876716856955571, -48.02407965417824], [-15.876765477681461, -48.023730941369244], [-15.87687301475813, -48.02304840537393], [-15.877125458583695, -48.02145430887989], [-15.87729450341988, -48.020201844704395], [-15.877423496728111, -48.01930597656981], [-15.877996974897238, -48.01527092308646], [-15.878082745563072, -48.01464010090243], [-15.878295941549917, -48.013093261561394], [-15.878341646370334, -48.01257533698099], [-15.878358882594533, -48.01214397495313], [-15.878371775146693, -48.011736572942716], [-15.878403115557363, -48.01144377024886], [-15.878418814209498, -48.01135287496423], [-15.878441701451406, -48.01127447978439], [-15.878482712752149, -48.01116030315313], [-15.87852565368953, -48.011007552989945], [-15.878550151601772, -48.01084616356813], [-15.878547077955549, -48.01072143702315], [-15.878526328432283, -48.01060183006594], [-15.878487091980103, -48.01045992344467], [-15.878351712235927, -48.01023080624136], [-15.87830343687026, -48.01012361348111], [-15.878262489683436, -48.009954830770944], [-15.878226318662731, -48.00976019563532], [-15.878205332608722, -48.009575088029216], [-15.877990625724573, -48.007153420251484], [-15.877808389573351, -48.005069267598046], [-15.87770039278351, -48.00382279461871], [-15.87753983176272, -48.00204460169339], [-15.877482258267685, -48.00140664139613], [-15.877458108752377, -48.00110122304696], [-15.877374578674535, -48.00020592340502], [-15.877333769509926, -47.99975066127385], [-15.87720620433102, -47.99834549305095], [-15.877151138298588, -47.99768967716327], [-15.87706465526759, -47.9966376971886], [-15.876944317795328, -47.99528308872848], [-15.876913219398254, -47.99490482236932], [-15.876865548896728, -47.994329194531396], [-15.8767857531951, -47.99340813795048], [-15.876717799080742, -47.99265680014261], [-15.876567927616586, -47.99095210858282], [-15.876536618559705, -47.990588505639856], [-15.876436151213756, -47.98943658799562], [-15.876395399683048, -47.98897546064504], [-15.876252855063889, -47.98741636883319], [-15.876105024263206, -47.98566360233386], [-15.876044052169444, -47.98506255252558], [-15.875981511676457, -47.9845952008315], [-15.875888502239485, -47.98411456762554], [-15.875756334657444, -47.98359952693364], [-15.87558882369873, -47.98311840798341], [-15.875427174979203, -47.98269422058284], [-15.875281938980763, -47.98237675365939], [-15.875173024944157, -47.98214283384817], [-15.874914272625492, -47.981636846435165], [-15.873701015427391, -47.97925858747034], [-15.872788985103993, -47.97747553931011], [-15.872274194558793, -47.9764706667093], [-15.871520908383456, -47.974992096433034], [-15.871289899378695, -47.97453170469304], [-15.871025181211778, -47.9740244738245], [-15.870704049644809, -47.97338823701192], [-15.870366763033813, -47.97272711907886], [-15.869922984376782, -47.97186234476715], [-15.869669735230458, -47.97136702121991], [-15.868991831557413, -47.9700400641581], [-15.868064044963322, -47.968250855315354], [-15.867350002327148, -47.96685547546277], [-15.866772649604973, -47.965726443541435], [-15.866675705532723, -47.96547817780399], [-15.866524530262657, -47.96517728088646], [-15.86630583955763, -47.964747036325555], [-15.8657889893357, -47.96373605847864], [-15.865726595540036, -47.963603070333775], [-15.865688526687142, -47.96350521405195], [-15.865682896685138, -47.963460253947034], [-15.865686825092302, -47.96342217993876], [-15.865692974058653, -47.96338780488221], [-15.865708755757607, -47.963354890603824], [-15.86571467368002, -47.963317259925205], [-15.86571060157729, -47.96328810744534], [-15.865695581749362, -47.96325086089133], [-15.865668482917625, -47.96322331158714], [-15.865646087112221, -47.96321382409026], [-15.86562379738905, -47.963205340514115], [-15.865596765518838, -47.96319520661824], [-15.865549936528394, -47.96317687052819], [-15.865504902516847, -47.963148346834096], [-15.865471131356244, -47.963105908526266], [-15.865449635754844, -47.963065833098035], [-15.86501100303619, -47.9622500257665], [-15.8645485197826, -47.96134819384244], [-15.864305458584386, -47.960863469534175], [-15.864191976207117, -47.9606916877751], [-15.863659766838785, -47.95966669183649], [-15.863347165968325, -47.95911538980065], [-15.86263484201931, -47.957717018072664], [-15.862541362305985, -47.95753555836133], [-15.862018938201622, -47.95649957415137], [-15.861792351804597, -47.95604456479491], [-15.861714255254531, -47.9558898330484], [-15.861639601288756, -47.95575791787066], [-15.861508122319428, -47.95558814791302], [-15.861388860564897, -47.95548783696201], [-15.861255051685562, -47.95539932662423], [-15.861133683390086, -47.955338339799184], [-15.861007623112183, -47.95529719809424], [-15.860870340489999, -47.955267038787106], [-15.860717241871614, -47.95525160798019], [-15.86059428688879, -47.95525333546531], [-15.860431412231534, -47.955288505388005], [-15.860309476011228, -47.955319579017285], [-15.86019588707613, -47.955363093431], [-15.859862276071617, -47.95551016623203], [-15.859568084609519, -47.955639627946184], [-15.859387522131852, -47.95572264275028], [-15.859242429354454, -47.955786229345556], [-15.85910751563516, -47.955848308485415], [-15.859005197074737, -47.955861085015485], [-15.858879247696422, -47.95586379523788], [-15.858783362605113, -47.95585829108419], [-15.858537645486951, -47.95582684461852], [-15.85797565727132, -47.95573300607931], [-15.857641067578328, -47.95568149288796], [-15.857355079730551, -47.95564682032143], [-15.85686391302386, -47.95558510622881], [-15.85666272409118, -47.95555694954464], [-15.8565029211458, -47.95553350241398], [-15.856322889223382, -47.95549450856437], [-15.855387755945754, -47.955350171347746], [-15.853835628095645, -47.95511034156464], [-15.852704444538057, -47.95492601584007], [-15.851875894074155, -47.954800404134026], [-15.851566026682589, -47.95474652454332], [-15.851022463209844, -47.9546596218904], [-15.85044671845227, -47.95456731470715], [-15.84969872105694, -47.95444781710221], [-15.848953145848297, -47.95432588786594], [-15.848555633003114, -47.95426840418129], [-15.84825089625804, -47.95422433695041], [-15.848103094965948, -47.954199970648446], [-15.847874209838714, -47.95416455084991], [-15.84753451576765, -47.954107771900496], [-15.847253245747638, -47.954059248530584], [-15.846916396497772, -47.954004210849924], [-15.846140777919642, -47.95387824290716], [-15.845811875444195, -47.95382594218278], [-15.84525890307618, -47.95373694526594], [-15.844234514943622, -47.95357421845613], [-15.843978985535768, -47.95353354541522], [-15.843745716395102, -47.95348439777984], [-15.843400442220004, -47.95336264463419], [-15.843246921610099, -47.95327903102097], [-15.843034274848119, -47.95314908206865], [-15.842865091693909, -47.95302226646373], [-15.842688544204307, -47.952852523925145], [-15.842515970302308, -47.952641192645], [-15.842404660150287, -47.95247591908134], [-15.842302057195157, -47.95229669453467], [-15.84221647774733, -47.95210151809416], [-15.842154276564283, -47.9519326287211], [-15.842115978187122, -47.95176191359159], [-15.842060833711335, -47.951456144578316], [-15.842047190841058, -47.95124888540736], [-15.842033202382916, -47.95082279517689], [-15.84205785581259, -47.95046596314386], [-15.842107183900826, -47.95005431777622], [-15.842197193489485, -47.94961569416691], [-15.842582773486516, -47.94832026898811], [-15.843161796547959, -47.946453384659264], [-15.843265132043962, -47.9461199473414], [-15.8441128650866, -47.943380062467384], [-15.844255621747218, -47.942992287428325], [-15.84437636515249, -47.94277729505579], [-15.844471407220377, -47.942594191979346], [-15.844530730504243, -47.94246981603336], [-15.84461840411897, -47.94228572594167], [-15.844699696849194, -47.94203514050212], [-15.84481476960801, -47.94156149835887], [-15.844863618491107, -47.941216821390206], [-15.84488069322589, -47.94109201274544], [-15.844874878961617, -47.94093560835845], [-15.84485180792783, -47.940771266036386], [-15.844849384582432, -47.94055952237838], [-15.844893003365726, -47.94020258929774], [-15.84491783482426, -47.939631832623846], [-15.844829722563407, -47.938806670830125], [-15.844801551715525, -47.93847761565236], [-15.844891202926979, -47.937017134123174], [-15.844935457969198, -47.93624494284372], [-15.845084621739284, -47.9338746542537], [-15.845096497034435, -47.933727147047485], [-15.845119439762144, -47.933290013290666], [-15.84521177212955, -47.93179671093553], [-15.845279209399896, -47.930673773026456], [-15.845298592937043, -47.92999653753642], [-15.845308147042802, -47.9295937909312], [-15.845319961009812, -47.92942694131827], [-15.845340159037896, -47.92911704671867], [-15.8454310431613, -47.92769662828917], [-15.845471284533113, -47.92707250963553], [-15.845499623258357, -47.92664870296099], [-15.84557384135152, -47.925386645245666], [-15.84559949753917, -47.92489544710351], [-15.84560943555933, -47.924580001238574], [-15.845604672136863, -47.9243055168673], [-15.845577969048286, -47.92389511568184], [-15.84551507627721, -47.92315731706206], [-15.845462949159959, -47.92268611527751], [-15.845425815747495, -47.922429237503934], [-15.845385146091084, -47.92224504692519], [-15.845338470706857, -47.92207594147073], [-15.845243390672847, -47.92172504065411], [-15.84509556729833, -47.921275925809816], [-15.844961332331692, -47.920882293783826], [-15.844800489350158, -47.92047214789532], [-15.8444296047318, -47.919583984817216], [-15.844090869815817, -47.91879586135621], [-15.84394755209765, -47.918538631653504], [-15.843874760088271, -47.91846250085179], [-15.843758507036105, -47.91828733418616], [-15.843488144600123, -47.91767706557604], [-15.843454402624031, -47.91759331076892], [-15.843424678108049, -47.9175338909558], [-15.84339724008941, -47.91750536944549], [-15.84335151005008, -47.91750299265296], [-15.843298920492021, -47.917531514163265], [-15.843273768959413, -47.91757429642872], [-15.843267786476686, -47.917680057270196], [-15.843276102654736, -47.91777931106009], [-15.843425979624252, -47.91811875681789], [-15.843532136108232, -47.91837369148634], [-15.843575854757175, -47.918500437733144], [-15.843614683866631, -47.91865292384138], [-15.843631030985657, -47.918798780810995], [-15.843620644499246, -47.918926948819646], [-15.843591306830646, -47.91903691513034], [-15.843502908599172, -47.91921532604293], [-15.843382401206496, -47.919372266241936], [-15.84279596393087, -47.919826065453876], [-15.842233071372872, -47.92026025687351], [-15.842042501672445, -47.920412374679586], [-15.841506832698354, -47.92083536423223], [-15.841231649920694, -47.92104360769878], [-15.840877730326362, -47.921308344155605], [-15.840725663897308, -47.921426405683036], [-15.840585401727992, -47.92153231865931], [-15.840428896304896, -47.92164269040266], [-15.840358725215943, -47.92170913759725], [-15.840013487033906, -47.921961678614196], [-15.83984235351396, -47.92210410118751], [-15.83968764179578, -47.92226215228747], [-15.838026427747412, -47.92351018940857], [-15.837873178821216, -47.92369227505954], [-15.83773078367495, -47.92385696510433], [-15.836893719417557, -47.925450877394866], [-15.836685037414675, -47.925923955484684], [-15.836620589923879, -47.92605685700149], [-15.836272818418243, -47.92660691072177], [-15.8361617443586, -47.92673255791658], [-15.835604146236467, -47.92713259166397], [-15.835249674527823, -47.927274475089575], [-15.834921439311387, -47.92736079144832], [-15.834795772765721, -47.92738750096364], [-15.834376223396688, -47.927473049322664], [-15.834177106521322, -47.92751296042694], [-15.83261090686554, -47.92781837274251], [-15.832510558324174, -47.92785751324495], [-15.832289906049333, -47.92799803226874], [-15.832074043695636, -47.92817701302372], [-15.831893957336174, -47.9282823221301], [-15.831749869208979, -47.92834544767287], [-15.831025593051558, -47.92888504781197], [-15.83090522392671, -47.92898947518668], [-15.83064343767326, -47.92912769945341], [-15.830533799763293, -47.92915138809104], [-15.83039865535495, -47.92913917376302], [-15.830228469972134, -47.92911776786315], [-15.830046915921127, -47.92908909108706], [-15.829930601909071, -47.92909767977093], [-15.829861197034143, -47.92911405180525], [-15.829796514817332, -47.92914865429376], [-15.829693484616234, -47.92922147109943], [-15.829505978668303, -47.92935694827336], [-15.829416798949087, -47.92938071619861], [-15.829327619190515, -47.92935932506588], [-15.829247586040342, -47.92930703563033], [-15.82910962733172, -47.92912684288629], [-15.828984505523065, -47.928963672859204], [-15.828799546398304, -47.92870218949461], [-15.828399565548409, -47.92814233405406], [-15.82793016760723, -47.92749208116592], [-15.827035183666656, -47.926242947594965], [-15.826437074494326, -47.925424648578705], [-15.825909018912327, -47.92469527721587], [-15.825754854529746, -47.92448269038966], [-15.82552220297593, -47.924161874008895], [-15.825351709901623, -47.923925222337004], [-15.82532773455404, -47.923892052627416], [-15.824774589487522, -47.923125029607704], [-15.824327753475602, -47.92250714705442], [-15.823811782256172, -47.921788934975005], [-15.823089933268289, -47.920789497946046], [-15.822429623196626, -47.91987733233758], [-15.82192156185187, -47.91919194787762], [-15.821569974486454, -47.918685892965485], [-15.821426511995716, -47.91848702314168], [-15.821199374337581, -47.91817216276642], [-15.82073321058145, -47.91752440773286], [-15.819886949669582, -47.91635785946676], [-15.81959894957395, -47.91596440266002], [-15.81921191764598, -47.91542823451052], [-15.818713460183817, -47.91473807295193], [-15.818272441687231, -47.91412956414887], [-15.817682627274538, -47.9133029782283], [-15.817274451564657, -47.91273936927345], [-15.816431144052435, -47.911572901554266], [-15.815627711308743, -47.91046130877426], [-15.81515392819825, -47.90980052205868], [-15.813839680819925, -47.907981977672534], [-15.813548815825328, -47.907578013887566], [-15.81275931861654, -47.906494414724804], [-15.812297266379511, -47.90584862096235], [-15.811768069742707, -47.90513153543486], [-15.81154966831263, -47.90484707413807], [-15.810954412154398, -47.904066735911506], [-15.810548132673958, -47.90353774045995], [-15.810272850248207, -47.90317948718226], [-15.809922899263091, -47.90275737350601], [-15.809122683791532, -47.90181085144147], [-15.808960356840739, -47.90162097667928], [-15.808445070633061, -47.901023803878964], [-15.808298097504732, -47.900847105653305], [-15.808112111239986, -47.90063961995413], [-15.807989536995803, -47.900514478572745], [-15.807852827061833, -47.90037432857836], [-15.807417337210962, -47.899929456539056], [-15.806510755007743, -47.8989768974803], [-15.805804362695461, -47.89828632281997], [-15.805127013583366, -47.89765724583357], [-15.804267415043613, -47.896853446986114], [-15.803830700821699, -47.896454845035954], [-15.803073833958662, -47.89578578091878], [-15.801957928305603, -47.894805606014735], [-15.80123063315011, -47.89420298894028], [-15.80032155595163, -47.89347995505211], [-15.799619246050192, -47.892929526675275], [-15.799058834763747, -47.89257854104147], [-15.797903526112114, -47.89186436438661], [-15.797847838156539, -47.891829641557045], [-15.797730995311737, -47.891759671069394], [-15.797518307396556, -47.89163494299706], [-15.797413917459343, -47.89157916959172], [-15.797223953256173, -47.891490100002784], [-15.796623234129038, -47.89120518037037], [-15.795552704585335, -47.89076306023171], [-15.795173608142166, -47.89061208186832], [-15.794388578315543, -47.89035169768659], [-15.79325095655402, -47.88996847884959], [-15.792789440912305, -47.88981633490102], [-15.792326933220743, -47.88966594735067], [-15.791877132041801, -47.88953124522475], [-15.791038144874914, -47.88924049383453], [-15.790105579841331, -47.888919685749], [-15.789339398466424, -47.888658238571274], [-15.788747035357897, -47.88846334158422], [-15.788541194484313, -47.88838966099105], [-15.78791223498716, -47.88820902478407], [-15.786992807037588, -47.88797134553158], [-15.786423308528942, -47.88783586835767], [-15.785938433035387, -47.88772178231646], [-15.785744025082453, -47.8876861304286], [-15.78489548936346, -47.887617203445366], [-15.783651268839986, -47.88750549419669], [-15.783310479165646, -47.887476972686386], [-15.782929172126956, -47.88748652150742], [-15.782345286508988, -47.88749598702657], [-15.781037008557742, -47.88752213174435], [-15.78078084125719, -47.88753163891444], [-15.7793627664169, -47.887645724955625], [-15.777544414004725, -47.88780021646972], [-15.77583125951903, -47.88798560628665], [-15.775071971321237, -47.88807008873547], [-15.77463501623083, -47.88811870666804], [-15.774054046581808, -47.888216155161544], [-15.772304265735247, -47.88851563101966], [-15.770979911765393, -47.88880559970768], [-15.77057505571754, -47.888891164238586], [-15.76920723100389, -47.88920727764437], [-15.768868704400385, -47.889302349345364], [-15.76734761505619, -47.889732548792345], [-15.765753318196932, -47.890212660882355], [-15.763831910791222, -47.89082587335374], [-15.762900412133515, -47.89112404732893], [-15.761931071995434, -47.89143433224008], [-15.760101126134085, -47.89201902320117], [-15.758248289144161, -47.89263461246509], [-15.75632681070329, -47.89323356418133], [-15.754471651767249, -47.89382776231253], [-15.75258216297812, -47.89443384440635], [-15.750828175749552, -47.895003629267876], [-15.750701806806466, -47.89504468008521], [-15.74884888406404, -47.8956388782164], [-15.747503854750496, -47.8960665723852], [-15.747032545863267, -47.89621643879992], [-15.745454223386577, -47.89672117019144], [-15.745211616205758, -47.89679875296849], [-15.744984585106643, -47.896872755236124], [-15.744638228805151, -47.89698565209193], [-15.744281092168114, -47.89710206255748], [-15.744001458574388, -47.897192582132284], [-15.743344917610388, -47.897407211854826], [-15.741505653696558, -47.8979895260234], [-15.74112291183042, -47.8981152049945], [-15.739652647103433, -47.89859798490974], [-15.738608445089566, -47.8989194513874], [-15.7382983402435, -47.899018677186625], [-15.738131338941693, -47.89904244511186], [-15.73794146058261, -47.89902343077166], [-15.737662361949752, -47.89890934473046], [-15.737259727169684, -47.898664535049114], [-15.736973390374809, -47.89844929383898], [-15.73687081784144, -47.89837218961985], [-15.736598580860834, -47.89819155338796], [-15.736060968934474, -47.89783978804308], [-15.735754981038658, -47.89762355204605], [-15.735463831576244, -47.89741979356617], [-15.735348737144442, -47.8974064366355], [-15.73527399404841, -47.897407211854805], [-15.735164183355424, -47.897440486950146], [-15.735077249848098, -47.89751179072589], [-15.735036070805343, -47.89755219619882], [-15.735015481280822, -47.897597355256785], [-15.734981165402026, -47.89766152865496], [-15.73497658995108, -47.897739962808274], [-15.734969726774453, -47.897830280924225], [-15.735006264992496, -47.8979450733036], [-15.735061235776886, -47.89802993149632], [-15.735203074649306, -47.898229582068396], [-15.735267351276347, -47.89827445800883], [-15.735325471987709, -47.898344757283574], [-15.735355952954151, -47.898401180084264], [-15.735355208168803, -47.898469638113305], [-15.734656875475979, -47.89960136728809], [-15.734581956919818, -47.89974597569913], [-15.734528168191414, -47.89988564998137], [-15.734501886356224, -47.90003356759464], [-15.734492302131985, -47.900233981853646], [-15.73449596872446, -47.90034249688195], [-15.734517297417815, -47.90044657216823], [-15.73474667339681, -47.901188688710164], [-15.734778701593406, -47.90130990515468], [-15.735416976632816, -47.903451395245355], [-15.735452367923054, -47.90356407507941], [-15.735487895957332, -47.903677190535205], [-15.735872298862342, -47.90496048103787], [-15.736473676848012, -47.90695149168832], [-15.736371411395453, -47.907029644391194], [-15.73629458239808, -47.907137543573484], [-15.736268152793436, -47.90725658815072], [-15.736292122908715, -47.90742176540436]],\n",
       "                {&quot;bubblingMouseEvents&quot;: true, &quot;color&quot;: &quot;red&quot;, &quot;dashArray&quot;: null, &quot;dashOffset&quot;: null, &quot;fill&quot;: false, &quot;fillColor&quot;: &quot;red&quot;, &quot;fillOpacity&quot;: 0.2, &quot;fillRule&quot;: &quot;evenodd&quot;, &quot;lineCap&quot;: &quot;round&quot;, &quot;lineJoin&quot;: &quot;round&quot;, &quot;noClip&quot;: false, &quot;opacity&quot;: 1.0, &quot;smoothFactor&quot;: 1.0, &quot;stroke&quot;: true, &quot;weight&quot;: 3}\n",
       "            ).addTo(map_0ceb9c1158999ab2e2399d5830538c4d);\n",
       "        \n",
       "    \n",
       "            poly_line_9007c4790de9d8645667de6d8a856b8e.bindTooltip(\n",
       "                `&lt;div&gt;\n",
       "                     813.2 IDA\n",
       "                 &lt;/div&gt;`,\n",
       "                {&quot;sticky&quot;: true}\n",
       "            );\n",
       "        \n",
       "&lt;/script&gt;\n",
       "&lt;/html&gt;\" style=\"position:absolute;width:100%;height:100%;left:0;top:0;border:none !important;\" allowfullscreen webkitallowfullscreen mozallowfullscreen></iframe></div></div>"
      ],
      "text/plain": [
       "<folium.folium.Map at 0x7ff49344f090>"
      ]
     },
     "execution_count": 38,
     "metadata": {},
     "output_type": "execute_result"
    }
   ],
   "source": [
    "import folium\n",
    "from shapely.geometry import LineString\n",
    "\n",
    "# Criar o objeto Linestring\n",
    "linestringRecanto = linestringRecanto.to_crs('EPSG:4326')\n",
    "\n",
    "# Criar um mapa inicial\n",
    "m = folium.Map(location=[-15.76050, -47.78134], zoom_start=10)\n",
    "\n",
    "# Obter o objeto LineString a partir da coluna \"geometry\" do DataFrame\n",
    "linestring1 = linestringRecanto.geometry.iloc[1] # Ida\n",
    "linestring2 = linestringRecanto.geometry.iloc[0] # Volta\n",
    "\n",
    "# Converter as coordenadas do Linestring para o formato que o Folium espera (latitude, longitude)\n",
    "lat_lon_coordsIda = [(lat1, lon1) for lon1, lat1 in linestring1.coords]\n",
    "lat_lon_coordsVolta = [(lat2, lon2) for lon2, lat2 in linestring2.coords]\n",
    "\n",
    "\n",
    "# Adicionar o Linestring ao mapa como uma polilinha (linha poligonal)\n",
    "\n",
    "# Plotando a ida\n",
    "folium.PolyLine(locations=lat_lon_coordsIda, color='blue', tooltip=linestringRecanto['linha'].iloc[1]+ ' ' + linestringRecanto['sentido'].iloc[1]).add_to(m)\n",
    "\n",
    "# Plotando a volta\n",
    "folium.PolyLine(locations=lat_lon_coordsVolta, color='red', tooltip=linestringRecanto['linha'].iloc[0]+ ' ' + linestringRecanto['sentido'].iloc[0]).add_to(m)\n",
    "\n",
    "# Mostrar o mapa\n",
    "m.save('mapaLinestring.html')\n",
    "m"
   ]
  },
  {
   "cell_type": "code",
   "execution_count": 39,
   "metadata": {},
   "outputs": [
    {
     "data": {
      "text/html": [
       "<div>\n",
       "<style scoped>\n",
       "    .dataframe tbody tr th:only-of-type {\n",
       "        vertical-align: middle;\n",
       "    }\n",
       "\n",
       "    .dataframe tbody tr th {\n",
       "        vertical-align: top;\n",
       "    }\n",
       "\n",
       "    .dataframe thead th {\n",
       "        text-align: right;\n",
       "    }\n",
       "</style>\n",
       "<table border=\"1\" class=\"dataframe\">\n",
       "  <thead>\n",
       "    <tr style=\"text-align: right;\">\n",
       "      <th></th>\n",
       "      <th>parada</th>\n",
       "      <th>descricao</th>\n",
       "      <th>situacao</th>\n",
       "      <th>estrutura_</th>\n",
       "      <th>tipo</th>\n",
       "      <th>geometry</th>\n",
       "    </tr>\n",
       "  </thead>\n",
       "  <tbody>\n",
       "    <tr>\n",
       "      <th>5452</th>\n",
       "      <td>1163</td>\n",
       "      <td>NUCLEO RURAL RODEADOR - LADO OPOSTO ESCOLA ROD...</td>\n",
       "      <td>ATIVA</td>\n",
       "      <td>ACOSTAMENTO OU BAIA</td>\n",
       "      <td>Tipo C</td>\n",
       "      <td>POINT (167354.394 8264495.757)</td>\n",
       "    </tr>\n",
       "    <tr>\n",
       "      <th>5453</th>\n",
       "      <td>1164</td>\n",
       "      <td>NUCLEO RURAL RODEADOR - EM FRENTE ESCOLA RODEA...</td>\n",
       "      <td>ATIVA</td>\n",
       "      <td>ACOSTAMENTO OU BAIA</td>\n",
       "      <td>Tipo C</td>\n",
       "      <td>POINT (167311.355 8264500.454)</td>\n",
       "    </tr>\n",
       "    <tr>\n",
       "      <th>5454</th>\n",
       "      <td>1166</td>\n",
       "      <td>ANTES DA ENTRADA PARA A DF 445 NORTE - KM 7 DF...</td>\n",
       "      <td>ATIVA</td>\n",
       "      <td>SEM ESTRUTURA</td>\n",
       "      <td>Tipo C</td>\n",
       "      <td>POINT (163265.979 8265332.396)</td>\n",
       "    </tr>\n",
       "    <tr>\n",
       "      <th>5455</th>\n",
       "      <td>1159</td>\n",
       "      <td>LADO OPOSTO A ENTRADA DA RADIOBRAS E DF 220 DF...</td>\n",
       "      <td>ATIVA</td>\n",
       "      <td>SEM ESTRUTURA</td>\n",
       "      <td>Habitual</td>\n",
       "      <td>POINT (162912.871 8269061.030)</td>\n",
       "    </tr>\n",
       "    <tr>\n",
       "      <th>5456</th>\n",
       "      <td>6374</td>\n",
       "      <td>Km 07 - Gleba 02 - Chácara 116 - Chácara Beatr...</td>\n",
       "      <td>ATIVA</td>\n",
       "      <td>SEM ESTRUTURA</td>\n",
       "      <td>Padrão</td>\n",
       "      <td>POINT (163217.911 8264159.565)</td>\n",
       "    </tr>\n",
       "  </tbody>\n",
       "</table>\n",
       "</div>"
      ],
      "text/plain": [
       "     parada                                          descricao situacao  \\\n",
       "5452   1163  NUCLEO RURAL RODEADOR - LADO OPOSTO ESCOLA ROD...    ATIVA   \n",
       "5453   1164  NUCLEO RURAL RODEADOR - EM FRENTE ESCOLA RODEA...    ATIVA   \n",
       "5454   1166  ANTES DA ENTRADA PARA A DF 445 NORTE - KM 7 DF...    ATIVA   \n",
       "5455   1159  LADO OPOSTO A ENTRADA DA RADIOBRAS E DF 220 DF...    ATIVA   \n",
       "5456   6374  Km 07 - Gleba 02 - Chácara 116 - Chácara Beatr...    ATIVA   \n",
       "\n",
       "               estrutura_      tipo                        geometry  \n",
       "5452  ACOSTAMENTO OU BAIA    Tipo C  POINT (167354.394 8264495.757)  \n",
       "5453  ACOSTAMENTO OU BAIA    Tipo C  POINT (167311.355 8264500.454)  \n",
       "5454        SEM ESTRUTURA    Tipo C  POINT (163265.979 8265332.396)  \n",
       "5455        SEM ESTRUTURA  Habitual  POINT (162912.871 8269061.030)  \n",
       "5456        SEM ESTRUTURA    Padrão  POINT (163217.911 8264159.565)  "
      ]
     },
     "execution_count": 39,
     "metadata": {},
     "output_type": "execute_result"
    }
   ],
   "source": [
    "# Visualizando os rótulos  do dataframe das paradas\n",
    "paradas = gpd.read_file(\"../databases/paradas/paradas.shp\")\n",
    "paradas.tail(5)"
   ]
  },
  {
   "cell_type": "code",
   "execution_count": 40,
   "metadata": {},
   "outputs": [
    {
     "data": {
      "text/html": [
       "<div>\n",
       "<style scoped>\n",
       "    .dataframe tbody tr th:only-of-type {\n",
       "        vertical-align: middle;\n",
       "    }\n",
       "\n",
       "    .dataframe tbody tr th {\n",
       "        vertical-align: top;\n",
       "    }\n",
       "\n",
       "    .dataframe thead th {\n",
       "        text-align: right;\n",
       "    }\n",
       "</style>\n",
       "<table border=\"1\" class=\"dataframe\">\n",
       "  <thead>\n",
       "    <tr style=\"text-align: right;\">\n",
       "      <th></th>\n",
       "      <th>parada</th>\n",
       "      <th>descricao</th>\n",
       "      <th>situacao</th>\n",
       "      <th>estrutura_</th>\n",
       "      <th>tipo</th>\n",
       "      <th>geometry</th>\n",
       "    </tr>\n",
       "  </thead>\n",
       "  <tbody>\n",
       "    <tr>\n",
       "      <th>0</th>\n",
       "      <td>6710</td>\n",
       "      <td>Avenida Morro da Cruz</td>\n",
       "      <td>DESATIVADA</td>\n",
       "      <td>SEM ESTRUTURA</td>\n",
       "      <td>Habitual</td>\n",
       "      <td>POINT (-47.76791 -15.91132)</td>\n",
       "    </tr>\n",
       "    <tr>\n",
       "      <th>1</th>\n",
       "      <td>6711</td>\n",
       "      <td>Avenida Morro da Cruz</td>\n",
       "      <td>DESATIVADA</td>\n",
       "      <td>SEM ESTRUTURA</td>\n",
       "      <td>Habitual</td>\n",
       "      <td>POINT (-47.76793 -15.91160)</td>\n",
       "    </tr>\n",
       "    <tr>\n",
       "      <th>2</th>\n",
       "      <td>6712</td>\n",
       "      <td>Avenida Morro da Cruz</td>\n",
       "      <td>DESATIVADA</td>\n",
       "      <td>SEM ESTRUTURA</td>\n",
       "      <td>Habitual</td>\n",
       "      <td>POINT (-47.76900 -15.91399)</td>\n",
       "    </tr>\n",
       "    <tr>\n",
       "      <th>3</th>\n",
       "      <td>6713</td>\n",
       "      <td>Avenida Morro da Cruz</td>\n",
       "      <td>DESATIVADA</td>\n",
       "      <td>SEM ESTRUTURA</td>\n",
       "      <td>Habitual</td>\n",
       "      <td>POINT (-47.76933 -15.91454)</td>\n",
       "    </tr>\n",
       "    <tr>\n",
       "      <th>4</th>\n",
       "      <td>6827</td>\n",
       "      <td>Residencial Vitoria</td>\n",
       "      <td>DESATIVADA</td>\n",
       "      <td>SEM ESTRUTURA</td>\n",
       "      <td>Habitual</td>\n",
       "      <td>POINT (-47.76832 -15.90857)</td>\n",
       "    </tr>\n",
       "    <tr>\n",
       "      <th>...</th>\n",
       "      <td>...</td>\n",
       "      <td>...</td>\n",
       "      <td>...</td>\n",
       "      <td>...</td>\n",
       "      <td>...</td>\n",
       "      <td>...</td>\n",
       "    </tr>\n",
       "    <tr>\n",
       "      <th>5452</th>\n",
       "      <td>1163</td>\n",
       "      <td>NUCLEO RURAL RODEADOR - LADO OPOSTO ESCOLA ROD...</td>\n",
       "      <td>ATIVA</td>\n",
       "      <td>ACOSTAMENTO OU BAIA</td>\n",
       "      <td>Tipo C</td>\n",
       "      <td>POINT (-48.10282 -15.67575)</td>\n",
       "    </tr>\n",
       "    <tr>\n",
       "      <th>5453</th>\n",
       "      <td>1164</td>\n",
       "      <td>NUCLEO RURAL RODEADOR - EM FRENTE ESCOLA RODEA...</td>\n",
       "      <td>ATIVA</td>\n",
       "      <td>ACOSTAMENTO OU BAIA</td>\n",
       "      <td>Tipo C</td>\n",
       "      <td>POINT (-48.10322 -15.67570)</td>\n",
       "    </tr>\n",
       "    <tr>\n",
       "      <th>5454</th>\n",
       "      <td>1166</td>\n",
       "      <td>ANTES DA ENTRADA PARA A DF 445 NORTE - KM 7 DF...</td>\n",
       "      <td>ATIVA</td>\n",
       "      <td>SEM ESTRUTURA</td>\n",
       "      <td>Tipo C</td>\n",
       "      <td>POINT (-48.14080 -15.66765)</td>\n",
       "    </tr>\n",
       "    <tr>\n",
       "      <th>5455</th>\n",
       "      <td>1159</td>\n",
       "      <td>LADO OPOSTO A ENTRADA DA RADIOBRAS E DF 220 DF...</td>\n",
       "      <td>ATIVA</td>\n",
       "      <td>SEM ESTRUTURA</td>\n",
       "      <td>Habitual</td>\n",
       "      <td>POINT (-48.14358 -15.63395)</td>\n",
       "    </tr>\n",
       "    <tr>\n",
       "      <th>5456</th>\n",
       "      <td>6374</td>\n",
       "      <td>Km 07 - Gleba 02 - Chácara 116 - Chácara Beatr...</td>\n",
       "      <td>ATIVA</td>\n",
       "      <td>SEM ESTRUTURA</td>\n",
       "      <td>Padrão</td>\n",
       "      <td>POINT (-48.14141 -15.67823)</td>\n",
       "    </tr>\n",
       "  </tbody>\n",
       "</table>\n",
       "<p>5457 rows × 6 columns</p>\n",
       "</div>"
      ],
      "text/plain": [
       "     parada                                          descricao    situacao  \\\n",
       "0      6710                              Avenida Morro da Cruz  DESATIVADA   \n",
       "1      6711                              Avenida Morro da Cruz  DESATIVADA   \n",
       "2      6712                              Avenida Morro da Cruz  DESATIVADA   \n",
       "3      6713                              Avenida Morro da Cruz  DESATIVADA   \n",
       "4      6827                                Residencial Vitoria  DESATIVADA   \n",
       "...     ...                                                ...         ...   \n",
       "5452   1163  NUCLEO RURAL RODEADOR - LADO OPOSTO ESCOLA ROD...       ATIVA   \n",
       "5453   1164  NUCLEO RURAL RODEADOR - EM FRENTE ESCOLA RODEA...       ATIVA   \n",
       "5454   1166  ANTES DA ENTRADA PARA A DF 445 NORTE - KM 7 DF...       ATIVA   \n",
       "5455   1159  LADO OPOSTO A ENTRADA DA RADIOBRAS E DF 220 DF...       ATIVA   \n",
       "5456   6374  Km 07 - Gleba 02 - Chácara 116 - Chácara Beatr...       ATIVA   \n",
       "\n",
       "               estrutura_      tipo                     geometry  \n",
       "0           SEM ESTRUTURA  Habitual  POINT (-47.76791 -15.91132)  \n",
       "1           SEM ESTRUTURA  Habitual  POINT (-47.76793 -15.91160)  \n",
       "2           SEM ESTRUTURA  Habitual  POINT (-47.76900 -15.91399)  \n",
       "3           SEM ESTRUTURA  Habitual  POINT (-47.76933 -15.91454)  \n",
       "4           SEM ESTRUTURA  Habitual  POINT (-47.76832 -15.90857)  \n",
       "...                   ...       ...                          ...  \n",
       "5452  ACOSTAMENTO OU BAIA    Tipo C  POINT (-48.10282 -15.67575)  \n",
       "5453  ACOSTAMENTO OU BAIA    Tipo C  POINT (-48.10322 -15.67570)  \n",
       "5454        SEM ESTRUTURA    Tipo C  POINT (-48.14080 -15.66765)  \n",
       "5455        SEM ESTRUTURA  Habitual  POINT (-48.14358 -15.63395)  \n",
       "5456        SEM ESTRUTURA    Padrão  POINT (-48.14141 -15.67823)  \n",
       "\n",
       "[5457 rows x 6 columns]"
      ]
     },
     "execution_count": 40,
     "metadata": {},
     "output_type": "execute_result"
    }
   ],
   "source": [
    "# convertendo para o sistema adequado\n",
    "paradas = paradas.to_crs('EPSG:4326')\n",
    "paradas"
   ]
  },
  {
   "cell_type": "code",
   "execution_count": 41,
   "metadata": {},
   "outputs": [
    {
     "data": {
      "text/html": [
       "<div>\n",
       "<style scoped>\n",
       "    .dataframe tbody tr th:only-of-type {\n",
       "        vertical-align: middle;\n",
       "    }\n",
       "\n",
       "    .dataframe tbody tr th {\n",
       "        vertical-align: top;\n",
       "    }\n",
       "\n",
       "    .dataframe thead th {\n",
       "        text-align: right;\n",
       "    }\n",
       "</style>\n",
       "<table border=\"1\" class=\"dataframe\">\n",
       "  <thead>\n",
       "    <tr style=\"text-align: right;\">\n",
       "      <th></th>\n",
       "      <th>parada</th>\n",
       "      <th>descricao</th>\n",
       "      <th>situacao</th>\n",
       "      <th>estrutura_</th>\n",
       "      <th>tipo</th>\n",
       "      <th>geometry</th>\n",
       "    </tr>\n",
       "  </thead>\n",
       "  <tbody>\n",
       "    <tr>\n",
       "      <th>69</th>\n",
       "      <td>3517</td>\n",
       "      <td>EQN 513/514 W3 NORTE</td>\n",
       "      <td>ATIVA</td>\n",
       "      <td>ACOSTAMENTO OU BAIA</td>\n",
       "      <td>Tradicional</td>\n",
       "      <td>POINT (-47.89601 -15.74749)</td>\n",
       "    </tr>\n",
       "    <tr>\n",
       "      <th>70</th>\n",
       "      <td>3473</td>\n",
       "      <td>SQN 113 EIXO W NORTE</td>\n",
       "      <td>ATIVA</td>\n",
       "      <td>ACOSTAMENTO OU BAIA</td>\n",
       "      <td>Tradicional</td>\n",
       "      <td>POINT (-47.88979 -15.74707)</td>\n",
       "    </tr>\n",
       "    <tr>\n",
       "      <th>119</th>\n",
       "      <td>2649</td>\n",
       "      <td>BL. 300 NB 1</td>\n",
       "      <td>ATIVA</td>\n",
       "      <td>SEM ESTRUTURA</td>\n",
       "      <td>Placa</td>\n",
       "      <td>POINT (-47.96304 -15.86636)</td>\n",
       "    </tr>\n",
       "    <tr>\n",
       "      <th>120</th>\n",
       "      <td>2672</td>\n",
       "      <td>EM FRENTE AO BL. 211 NB 1</td>\n",
       "      <td>ATIVA</td>\n",
       "      <td>ACOSTAMENTO OU BAIA</td>\n",
       "      <td>Cemusa</td>\n",
       "      <td>POINT (-47.96287 -15.86609)</td>\n",
       "    </tr>\n",
       "    <tr>\n",
       "      <th>121</th>\n",
       "      <td>6057</td>\n",
       "      <td>FRENTE A RODA DO CHOPP EPNB</td>\n",
       "      <td>ATIVA</td>\n",
       "      <td>ACOSTAMENTO OU BAIA</td>\n",
       "      <td>Tipo C</td>\n",
       "      <td>POINT (-47.96680 -15.86686)</td>\n",
       "    </tr>\n",
       "    <tr>\n",
       "      <th>...</th>\n",
       "      <td>...</td>\n",
       "      <td>...</td>\n",
       "      <td>...</td>\n",
       "      <td>...</td>\n",
       "      <td>...</td>\n",
       "      <td>...</td>\n",
       "    </tr>\n",
       "    <tr>\n",
       "      <th>5292</th>\n",
       "      <td>3291</td>\n",
       "      <td>EQS 106/107 - Cine Brasília Eixo W Sul</td>\n",
       "      <td>ATIVA</td>\n",
       "      <td>ACOSTAMENTO OU BAIA</td>\n",
       "      <td>Cemusa</td>\n",
       "      <td>POINT (-47.89929 -15.81486)</td>\n",
       "    </tr>\n",
       "    <tr>\n",
       "      <th>5293</th>\n",
       "      <td>3343</td>\n",
       "      <td>EQS 106/107 - Cine Brasília Eixo W Sul</td>\n",
       "      <td>ATIVA</td>\n",
       "      <td>ACOSTAMENTO OU BAIA</td>\n",
       "      <td>Cemusa</td>\n",
       "      <td>POINT (-47.89912 -15.81473)</td>\n",
       "    </tr>\n",
       "    <tr>\n",
       "      <th>5300</th>\n",
       "      <td>3383</td>\n",
       "      <td>EQS 106/107 - CINE BRASILIA EIXO W SUL</td>\n",
       "      <td>ATIVA</td>\n",
       "      <td>ACOSTAMENTO OU BAIA</td>\n",
       "      <td>Fibra de Vidro</td>\n",
       "      <td>POINT (-47.89896 -15.81460)</td>\n",
       "    </tr>\n",
       "    <tr>\n",
       "      <th>5353</th>\n",
       "      <td>4723</td>\n",
       "      <td>APOS O VIADUTO DE ACESSO AO LAGO NORTE BR-020</td>\n",
       "      <td>ATIVA</td>\n",
       "      <td>SEM ESTRUTURA</td>\n",
       "      <td>Tipo C</td>\n",
       "      <td>POINT (-47.89611 -15.72536)</td>\n",
       "    </tr>\n",
       "    <tr>\n",
       "      <th>5354</th>\n",
       "      <td>4583</td>\n",
       "      <td>APOS VIADUTO DF-007</td>\n",
       "      <td>ATIVA</td>\n",
       "      <td>ACOSTAMENTO OU BAIA</td>\n",
       "      <td>Tipo C</td>\n",
       "      <td>POINT (-47.89579 -15.72520)</td>\n",
       "    </tr>\n",
       "  </tbody>\n",
       "</table>\n",
       "<p>400 rows × 6 columns</p>\n",
       "</div>"
      ],
      "text/plain": [
       "     parada                                      descricao situacao  \\\n",
       "69     3517                           EQN 513/514 W3 NORTE    ATIVA   \n",
       "70     3473                           SQN 113 EIXO W NORTE    ATIVA   \n",
       "119    2649                                   BL. 300 NB 1    ATIVA   \n",
       "120    2672                      EM FRENTE AO BL. 211 NB 1    ATIVA   \n",
       "121    6057                    FRENTE A RODA DO CHOPP EPNB    ATIVA   \n",
       "...     ...                                            ...      ...   \n",
       "5292   3291         EQS 106/107 - Cine Brasília Eixo W Sul    ATIVA   \n",
       "5293   3343         EQS 106/107 - Cine Brasília Eixo W Sul    ATIVA   \n",
       "5300   3383         EQS 106/107 - CINE BRASILIA EIXO W SUL    ATIVA   \n",
       "5353   4723  APOS O VIADUTO DE ACESSO AO LAGO NORTE BR-020    ATIVA   \n",
       "5354   4583                            APOS VIADUTO DF-007    ATIVA   \n",
       "\n",
       "               estrutura_            tipo                     geometry  \n",
       "69    ACOSTAMENTO OU BAIA     Tradicional  POINT (-47.89601 -15.74749)  \n",
       "70    ACOSTAMENTO OU BAIA     Tradicional  POINT (-47.88979 -15.74707)  \n",
       "119         SEM ESTRUTURA           Placa  POINT (-47.96304 -15.86636)  \n",
       "120   ACOSTAMENTO OU BAIA          Cemusa  POINT (-47.96287 -15.86609)  \n",
       "121   ACOSTAMENTO OU BAIA          Tipo C  POINT (-47.96680 -15.86686)  \n",
       "...                   ...             ...                          ...  \n",
       "5292  ACOSTAMENTO OU BAIA          Cemusa  POINT (-47.89929 -15.81486)  \n",
       "5293  ACOSTAMENTO OU BAIA          Cemusa  POINT (-47.89912 -15.81473)  \n",
       "5300  ACOSTAMENTO OU BAIA  Fibra de Vidro  POINT (-47.89896 -15.81460)  \n",
       "5353        SEM ESTRUTURA          Tipo C  POINT (-47.89611 -15.72536)  \n",
       "5354  ACOSTAMENTO OU BAIA          Tipo C  POINT (-47.89579 -15.72520)  \n",
       "\n",
       "[400 rows x 6 columns]"
      ]
     },
     "metadata": {},
     "output_type": "display_data"
    }
   ],
   "source": [
    "import geopandas as gpd\n",
    "from shapely.geometry import LineString, Point\n",
    "import folium\n",
    "\n",
    "# Criar o objeto Linestring\n",
    "linestringRecanto = linestringRecanto.to_crs('EPSG:4326')\n",
    "\n",
    "# Obter o objeto LineString a partir da coluna \"geometry\" do DataFrame\n",
    "linestring = linestringRecanto.geometry.iloc[0]\n",
    "\n",
    "# Lista para armazenar as paradas encontradas\n",
    "paradas_encontradas = []\n",
    "\n",
    "# Conjunto para armazenar os números das paradas encontradas\n",
    "numeros_paradas_encontradas = set()\n",
    "\n",
    "# Função para aproximar as coordenadas para 2 casas decimais\n",
    "def aproximar_coordenadas(coord):\n",
    "    return round(coord, 2)\n",
    "\n",
    "# Iterar sobre os pontos de paradas e verificar se estão contidos na Linestring\n",
    "for idx, ponto_parada in paradas.iterrows():\n",
    "    numero_parada = ponto_parada[\"parada\"]\n",
    "    ponto = ponto_parada[\"geometry\"]\n",
    "    ponto_aproximado = Point(aproximar_coordenadas(ponto.x), aproximar_coordenadas(ponto.y))\n",
    "    linestring_aproximada = LineString([Point(aproximar_coordenadas(x), aproximar_coordenadas(y)) for x, y in linestring.coords])\n",
    "    if linestring_aproximada.contains(ponto_aproximado) and numero_parada not in numeros_paradas_encontradas:\n",
    "        paradas_encontradas.append(ponto_parada)\n",
    "        numeros_paradas_encontradas.add(numero_parada)\n",
    "\n",
    "# Criar um novo GeoDataFrame com as paradas encontradas\n",
    "gdf_paradas_encontradas = gpd.GeoDataFrame(paradas_encontradas, crs='EPSG:4326')\n",
    "display(gdf_paradas_encontradas)\n",
    "# Plotar as paradas de ônibus no mapa com o Folium\n",
    "m = folium.Map(location=[-15.76050, -47.78134], zoom_start=10)\n",
    "\n",
    "for idx, ponto_parada in gdf_paradas_encontradas.iterrows():\n",
    "    lat, lon = ponto_parada[\"geometry\"].y, ponto_parada[\"geometry\"].x\n",
    "    folium.Marker([lat, lon], popup=ponto_parada['descricao']).add_to(m)\n",
    "\n",
    "# Mostrar o mapa com as paradas de ônibus\n",
    "m.save('mapa_paradas_onibus.html')\n"
   ]
  },
  {
   "cell_type": "code",
   "execution_count": 42,
   "metadata": {},
   "outputs": [
    {
     "data": {
      "text/html": [
       "<div>\n",
       "<style scoped>\n",
       "    .dataframe tbody tr th:only-of-type {\n",
       "        vertical-align: middle;\n",
       "    }\n",
       "\n",
       "    .dataframe tbody tr th {\n",
       "        vertical-align: top;\n",
       "    }\n",
       "\n",
       "    .dataframe thead th {\n",
       "        text-align: right;\n",
       "    }\n",
       "</style>\n",
       "<table border=\"1\" class=\"dataframe\">\n",
       "  <thead>\n",
       "    <tr style=\"text-align: right;\">\n",
       "      <th></th>\n",
       "      <th>parada</th>\n",
       "      <th>descricao</th>\n",
       "      <th>situacao</th>\n",
       "      <th>estrutura_</th>\n",
       "      <th>tipo</th>\n",
       "      <th>geometry</th>\n",
       "    </tr>\n",
       "  </thead>\n",
       "  <tbody>\n",
       "    <tr>\n",
       "      <th>69</th>\n",
       "      <td>3517</td>\n",
       "      <td>EQN 513/514 W3 NORTE</td>\n",
       "      <td>ATIVA</td>\n",
       "      <td>ACOSTAMENTO OU BAIA</td>\n",
       "      <td>Tradicional</td>\n",
       "      <td>POINT (-47.89601 -15.74749)</td>\n",
       "    </tr>\n",
       "    <tr>\n",
       "      <th>122</th>\n",
       "      <td>6058</td>\n",
       "      <td>FRENTE AO BLOCO 440 EPNB</td>\n",
       "      <td>ATIVA</td>\n",
       "      <td>ACOSTAMENTO OU BAIA</td>\n",
       "      <td>Tipo C</td>\n",
       "      <td>POINT (-47.96505 -15.86656)</td>\n",
       "    </tr>\n",
       "    <tr>\n",
       "      <th>123</th>\n",
       "      <td>6059</td>\n",
       "      <td>FRENTE AO BLOCO 91 EPNB</td>\n",
       "      <td>ATIVA</td>\n",
       "      <td>ACOSTAMENTO OU BAIA</td>\n",
       "      <td>Tipo C</td>\n",
       "      <td>POINT (-47.96109 -15.86449)</td>\n",
       "    </tr>\n",
       "    <tr>\n",
       "      <th>226</th>\n",
       "      <td>4027</td>\n",
       "      <td>QN 01 CONJ. 16 CASA 13 APOS A PASSARELA DF 075</td>\n",
       "      <td>ATIVA</td>\n",
       "      <td>ACOSTAMENTO OU BAIA</td>\n",
       "      <td>Tipo C</td>\n",
       "      <td>POINT (-48.00549 -15.87796)</td>\n",
       "    </tr>\n",
       "    <tr>\n",
       "      <th>227</th>\n",
       "      <td>4028</td>\n",
       "      <td>QN 01 CONJ. 31 CASA 24 DF 075</td>\n",
       "      <td>ATIVA</td>\n",
       "      <td>ACOSTAMENTO OU BAIA</td>\n",
       "      <td>Tipo C</td>\n",
       "      <td>POINT (-48.00207 -15.87766)</td>\n",
       "    </tr>\n",
       "    <tr>\n",
       "      <th>...</th>\n",
       "      <td>...</td>\n",
       "      <td>...</td>\n",
       "      <td>...</td>\n",
       "      <td>...</td>\n",
       "      <td>...</td>\n",
       "      <td>...</td>\n",
       "    </tr>\n",
       "    <tr>\n",
       "      <th>5211</th>\n",
       "      <td>3572</td>\n",
       "      <td>ENTREQUADRA 509/508 - HOSPITAL DIA W3 SUL</td>\n",
       "      <td>ATIVA</td>\n",
       "      <td>ACOSTAMENTO OU BAIA</td>\n",
       "      <td>Tradicional</td>\n",
       "      <td>POINT (-47.90791 -15.81387)</td>\n",
       "    </tr>\n",
       "    <tr>\n",
       "      <th>5243</th>\n",
       "      <td>3470</td>\n",
       "      <td>LATERAL HOSPITAL SANTA HELENA LIGACAO</td>\n",
       "      <td>ATIVA</td>\n",
       "      <td>SEM ESTRUTURA</td>\n",
       "      <td>Tipo C</td>\n",
       "      <td>POINT (-47.89732 -15.73542)</td>\n",
       "    </tr>\n",
       "    <tr>\n",
       "      <th>5249</th>\n",
       "      <td>3520</td>\n",
       "      <td>EM FRENTE JUSTICA DO TRABALHO LIGACAO</td>\n",
       "      <td>ATIVA</td>\n",
       "      <td>SEM ESTRUTURA</td>\n",
       "      <td>Cemusa</td>\n",
       "      <td>POINT (-47.89838 -15.73702)</td>\n",
       "    </tr>\n",
       "    <tr>\n",
       "      <th>5255</th>\n",
       "      <td>3519</td>\n",
       "      <td>EQN 515/516 - BRB W3 NORTE</td>\n",
       "      <td>ATIVA</td>\n",
       "      <td>ACOSTAMENTO OU BAIA</td>\n",
       "      <td>Tradicional</td>\n",
       "      <td>POINT (-47.89805 -15.74110)</td>\n",
       "    </tr>\n",
       "    <tr>\n",
       "      <th>5271</th>\n",
       "      <td>3518</td>\n",
       "      <td>EQN 514/515 - HYUNDAI W3 NORTE</td>\n",
       "      <td>ATIVA</td>\n",
       "      <td>ACOSTAMENTO OU BAIA</td>\n",
       "      <td>Tradicional</td>\n",
       "      <td>POINT (-47.89692 -15.74462)</td>\n",
       "    </tr>\n",
       "  </tbody>\n",
       "</table>\n",
       "<p>99 rows × 6 columns</p>\n",
       "</div>"
      ],
      "text/plain": [
       "     parada                                       descricao situacao  \\\n",
       "69     3517                            EQN 513/514 W3 NORTE    ATIVA   \n",
       "122    6058                        FRENTE AO BLOCO 440 EPNB    ATIVA   \n",
       "123    6059                         FRENTE AO BLOCO 91 EPNB    ATIVA   \n",
       "226    4027  QN 01 CONJ. 16 CASA 13 APOS A PASSARELA DF 075    ATIVA   \n",
       "227    4028                   QN 01 CONJ. 31 CASA 24 DF 075    ATIVA   \n",
       "...     ...                                             ...      ...   \n",
       "5211   3572       ENTREQUADRA 509/508 - HOSPITAL DIA W3 SUL    ATIVA   \n",
       "5243   3470           LATERAL HOSPITAL SANTA HELENA LIGACAO    ATIVA   \n",
       "5249   3520           EM FRENTE JUSTICA DO TRABALHO LIGACAO    ATIVA   \n",
       "5255   3519                      EQN 515/516 - BRB W3 NORTE    ATIVA   \n",
       "5271   3518                  EQN 514/515 - HYUNDAI W3 NORTE    ATIVA   \n",
       "\n",
       "               estrutura_         tipo                     geometry  \n",
       "69    ACOSTAMENTO OU BAIA  Tradicional  POINT (-47.89601 -15.74749)  \n",
       "122   ACOSTAMENTO OU BAIA       Tipo C  POINT (-47.96505 -15.86656)  \n",
       "123   ACOSTAMENTO OU BAIA       Tipo C  POINT (-47.96109 -15.86449)  \n",
       "226   ACOSTAMENTO OU BAIA       Tipo C  POINT (-48.00549 -15.87796)  \n",
       "227   ACOSTAMENTO OU BAIA       Tipo C  POINT (-48.00207 -15.87766)  \n",
       "...                   ...          ...                          ...  \n",
       "5211  ACOSTAMENTO OU BAIA  Tradicional  POINT (-47.90791 -15.81387)  \n",
       "5243        SEM ESTRUTURA       Tipo C  POINT (-47.89732 -15.73542)  \n",
       "5249        SEM ESTRUTURA       Cemusa  POINT (-47.89838 -15.73702)  \n",
       "5255  ACOSTAMENTO OU BAIA  Tradicional  POINT (-47.89805 -15.74110)  \n",
       "5271  ACOSTAMENTO OU BAIA  Tradicional  POINT (-47.89692 -15.74462)  \n",
       "\n",
       "[99 rows x 6 columns]"
      ]
     },
     "metadata": {},
     "output_type": "display_data"
    },
    {
     "data": {
      "text/html": [
       "<div style=\"width:100%;\"><div style=\"position:relative;width:100%;height:0;padding-bottom:60%;\"><span style=\"color:#565656\">Make this Notebook Trusted to load map: File -> Trust Notebook</span><iframe srcdoc=\"&lt;!DOCTYPE html&gt;\n",
       "&lt;html&gt;\n",
       "&lt;head&gt;\n",
       "    \n",
       "    &lt;meta http-equiv=&quot;content-type&quot; content=&quot;text/html; charset=UTF-8&quot; /&gt;\n",
       "    \n",
       "        &lt;script&gt;\n",
       "            L_NO_TOUCH = false;\n",
       "            L_DISABLE_3D = false;\n",
       "        &lt;/script&gt;\n",
       "    \n",
       "    &lt;style&gt;html, body {width: 100%;height: 100%;margin: 0;padding: 0;}&lt;/style&gt;\n",
       "    &lt;style&gt;#map {position:absolute;top:0;bottom:0;right:0;left:0;}&lt;/style&gt;\n",
       "    &lt;script src=&quot;https://cdn.jsdelivr.net/npm/leaflet@1.9.3/dist/leaflet.js&quot;&gt;&lt;/script&gt;\n",
       "    &lt;script src=&quot;https://code.jquery.com/jquery-1.12.4.min.js&quot;&gt;&lt;/script&gt;\n",
       "    &lt;script src=&quot;https://cdn.jsdelivr.net/npm/bootstrap@5.2.2/dist/js/bootstrap.bundle.min.js&quot;&gt;&lt;/script&gt;\n",
       "    &lt;script src=&quot;https://cdnjs.cloudflare.com/ajax/libs/Leaflet.awesome-markers/2.0.2/leaflet.awesome-markers.js&quot;&gt;&lt;/script&gt;\n",
       "    &lt;link rel=&quot;stylesheet&quot; href=&quot;https://cdn.jsdelivr.net/npm/leaflet@1.9.3/dist/leaflet.css&quot;/&gt;\n",
       "    &lt;link rel=&quot;stylesheet&quot; href=&quot;https://cdn.jsdelivr.net/npm/bootstrap@5.2.2/dist/css/bootstrap.min.css&quot;/&gt;\n",
       "    &lt;link rel=&quot;stylesheet&quot; href=&quot;https://netdna.bootstrapcdn.com/bootstrap/3.0.0/css/bootstrap.min.css&quot;/&gt;\n",
       "    &lt;link rel=&quot;stylesheet&quot; href=&quot;https://cdn.jsdelivr.net/npm/@fortawesome/fontawesome-free@6.2.0/css/all.min.css&quot;/&gt;\n",
       "    &lt;link rel=&quot;stylesheet&quot; href=&quot;https://cdnjs.cloudflare.com/ajax/libs/Leaflet.awesome-markers/2.0.2/leaflet.awesome-markers.css&quot;/&gt;\n",
       "    &lt;link rel=&quot;stylesheet&quot; href=&quot;https://cdn.jsdelivr.net/gh/python-visualization/folium/folium/templates/leaflet.awesome.rotate.min.css&quot;/&gt;\n",
       "    \n",
       "            &lt;meta name=&quot;viewport&quot; content=&quot;width=device-width,\n",
       "                initial-scale=1.0, maximum-scale=1.0, user-scalable=no&quot; /&gt;\n",
       "            &lt;style&gt;\n",
       "                #map_ad52b4fd3c9ae4e3321d8005d0425d35 {\n",
       "                    position: relative;\n",
       "                    width: 100.0%;\n",
       "                    height: 100.0%;\n",
       "                    left: 0.0%;\n",
       "                    top: 0.0%;\n",
       "                }\n",
       "                .leaflet-container { font-size: 1rem; }\n",
       "            &lt;/style&gt;\n",
       "        \n",
       "&lt;/head&gt;\n",
       "&lt;body&gt;\n",
       "    \n",
       "    \n",
       "            &lt;div class=&quot;folium-map&quot; id=&quot;map_ad52b4fd3c9ae4e3321d8005d0425d35&quot; &gt;&lt;/div&gt;\n",
       "        \n",
       "&lt;/body&gt;\n",
       "&lt;script&gt;\n",
       "    \n",
       "    \n",
       "            var map_ad52b4fd3c9ae4e3321d8005d0425d35 = L.map(\n",
       "                &quot;map_ad52b4fd3c9ae4e3321d8005d0425d35&quot;,\n",
       "                {\n",
       "                    center: [-15.7605, -47.78134],\n",
       "                    crs: L.CRS.EPSG3857,\n",
       "                    zoom: 10,\n",
       "                    zoomControl: true,\n",
       "                    preferCanvas: false,\n",
       "                }\n",
       "            );\n",
       "\n",
       "            \n",
       "\n",
       "        \n",
       "    \n",
       "            var tile_layer_06aa455fe999e1abeb3c6d216e01d34e = L.tileLayer(\n",
       "                &quot;https://{s}.tile.openstreetmap.org/{z}/{x}/{y}.png&quot;,\n",
       "                {&quot;attribution&quot;: &quot;Data by \\u0026copy; \\u003ca target=\\&quot;_blank\\&quot; href=\\&quot;http://openstreetmap.org\\&quot;\\u003eOpenStreetMap\\u003c/a\\u003e, under \\u003ca target=\\&quot;_blank\\&quot; href=\\&quot;http://www.openstreetmap.org/copyright\\&quot;\\u003eODbL\\u003c/a\\u003e.&quot;, &quot;detectRetina&quot;: false, &quot;maxNativeZoom&quot;: 18, &quot;maxZoom&quot;: 18, &quot;minZoom&quot;: 0, &quot;noWrap&quot;: false, &quot;opacity&quot;: 1, &quot;subdomains&quot;: &quot;abc&quot;, &quot;tms&quot;: false}\n",
       "            ).addTo(map_ad52b4fd3c9ae4e3321d8005d0425d35);\n",
       "        \n",
       "    \n",
       "            var marker_d449f33d7c75d798d210e53d7476a383 = L.marker(\n",
       "                [-15.747487243955707, -47.89600866323914],\n",
       "                {}\n",
       "            ).addTo(map_ad52b4fd3c9ae4e3321d8005d0425d35);\n",
       "        \n",
       "    \n",
       "        var popup_4d14d1f689f5d577e77f27cc76829754 = L.popup({&quot;maxWidth&quot;: &quot;100%&quot;});\n",
       "\n",
       "        \n",
       "            \n",
       "                var html_a8f40ee2b19e1e9286b309a6b9192de2 = $(`&lt;div id=&quot;html_a8f40ee2b19e1e9286b309a6b9192de2&quot; style=&quot;width: 100.0%; height: 100.0%;&quot;&gt;3517&lt;/div&gt;`)[0];\n",
       "                popup_4d14d1f689f5d577e77f27cc76829754.setContent(html_a8f40ee2b19e1e9286b309a6b9192de2);\n",
       "            \n",
       "        \n",
       "\n",
       "        marker_d449f33d7c75d798d210e53d7476a383.bindPopup(popup_4d14d1f689f5d577e77f27cc76829754)\n",
       "        ;\n",
       "\n",
       "        \n",
       "    \n",
       "    \n",
       "            var marker_5e8a776c36d65ca08065b81a9c32696f = L.marker(\n",
       "                [-15.866555379423424, -47.96504713913905],\n",
       "                {}\n",
       "            ).addTo(map_ad52b4fd3c9ae4e3321d8005d0425d35);\n",
       "        \n",
       "    \n",
       "        var popup_544d7d394ad2a8cb6dea2f5bdbec3db6 = L.popup({&quot;maxWidth&quot;: &quot;100%&quot;});\n",
       "\n",
       "        \n",
       "            \n",
       "                var html_dc057bea555b530402adefddeec3a6fa = $(`&lt;div id=&quot;html_dc057bea555b530402adefddeec3a6fa&quot; style=&quot;width: 100.0%; height: 100.0%;&quot;&gt;6058&lt;/div&gt;`)[0];\n",
       "                popup_544d7d394ad2a8cb6dea2f5bdbec3db6.setContent(html_dc057bea555b530402adefddeec3a6fa);\n",
       "            \n",
       "        \n",
       "\n",
       "        marker_5e8a776c36d65ca08065b81a9c32696f.bindPopup(popup_544d7d394ad2a8cb6dea2f5bdbec3db6)\n",
       "        ;\n",
       "\n",
       "        \n",
       "    \n",
       "    \n",
       "            var marker_cb22ffd86a18eaeb8d9e2841b56bee12 = L.marker(\n",
       "                [-15.864490388747809, -47.96108520646956],\n",
       "                {}\n",
       "            ).addTo(map_ad52b4fd3c9ae4e3321d8005d0425d35);\n",
       "        \n",
       "    \n",
       "        var popup_78b6af04779e9baa69509b0934deefd4 = L.popup({&quot;maxWidth&quot;: &quot;100%&quot;});\n",
       "\n",
       "        \n",
       "            \n",
       "                var html_7d661620ab5e7add31b4d0e6bf7ca886 = $(`&lt;div id=&quot;html_7d661620ab5e7add31b4d0e6bf7ca886&quot; style=&quot;width: 100.0%; height: 100.0%;&quot;&gt;6059&lt;/div&gt;`)[0];\n",
       "                popup_78b6af04779e9baa69509b0934deefd4.setContent(html_7d661620ab5e7add31b4d0e6bf7ca886);\n",
       "            \n",
       "        \n",
       "\n",
       "        marker_cb22ffd86a18eaeb8d9e2841b56bee12.bindPopup(popup_78b6af04779e9baa69509b0934deefd4)\n",
       "        ;\n",
       "\n",
       "        \n",
       "    \n",
       "    \n",
       "            var marker_cce7f7006ea651bb1cf825aef388a7bd = L.marker(\n",
       "                [-15.877962420610736, -48.00549404760407],\n",
       "                {}\n",
       "            ).addTo(map_ad52b4fd3c9ae4e3321d8005d0425d35);\n",
       "        \n",
       "    \n",
       "        var popup_0aaf9428b2b53f9aee47d45fd278b078 = L.popup({&quot;maxWidth&quot;: &quot;100%&quot;});\n",
       "\n",
       "        \n",
       "            \n",
       "                var html_fc7b56a7e66f9a4ddd186121303fc52e = $(`&lt;div id=&quot;html_fc7b56a7e66f9a4ddd186121303fc52e&quot; style=&quot;width: 100.0%; height: 100.0%;&quot;&gt;4027&lt;/div&gt;`)[0];\n",
       "                popup_0aaf9428b2b53f9aee47d45fd278b078.setContent(html_fc7b56a7e66f9a4ddd186121303fc52e);\n",
       "            \n",
       "        \n",
       "\n",
       "        marker_cce7f7006ea651bb1cf825aef388a7bd.bindPopup(popup_0aaf9428b2b53f9aee47d45fd278b078)\n",
       "        ;\n",
       "\n",
       "        \n",
       "    \n",
       "    \n",
       "            var marker_4a62cbbaf3637ffa1221cf04d3f1af70 = L.marker(\n",
       "                [-15.877661139468985, -48.00206983803816],\n",
       "                {}\n",
       "            ).addTo(map_ad52b4fd3c9ae4e3321d8005d0425d35);\n",
       "        \n",
       "    \n",
       "        var popup_0b6c73ee1dc4f55adcba8c4e631c5be4 = L.popup({&quot;maxWidth&quot;: &quot;100%&quot;});\n",
       "\n",
       "        \n",
       "            \n",
       "                var html_5595dba3c17c55c84905412c5d2be1e4 = $(`&lt;div id=&quot;html_5595dba3c17c55c84905412c5d2be1e4&quot; style=&quot;width: 100.0%; height: 100.0%;&quot;&gt;4028&lt;/div&gt;`)[0];\n",
       "                popup_0b6c73ee1dc4f55adcba8c4e631c5be4.setContent(html_5595dba3c17c55c84905412c5d2be1e4);\n",
       "            \n",
       "        \n",
       "\n",
       "        marker_4a62cbbaf3637ffa1221cf04d3f1af70.bindPopup(popup_0b6c73ee1dc4f55adcba8c4e631c5be4)\n",
       "        ;\n",
       "\n",
       "        \n",
       "    \n",
       "    \n",
       "            var marker_e9458796a98b563fe7032b2b443aa917 = L.marker(\n",
       "                [-15.877232176663743, -47.997782177170706],\n",
       "                {}\n",
       "            ).addTo(map_ad52b4fd3c9ae4e3321d8005d0425d35);\n",
       "        \n",
       "    \n",
       "        var popup_773c9ef050f3d3b0a7c16cdb1c273c7f = L.popup({&quot;maxWidth&quot;: &quot;100%&quot;});\n",
       "\n",
       "        \n",
       "            \n",
       "                var html_76df805205b33407c2aceb3f3232eb4b = $(`&lt;div id=&quot;html_76df805205b33407c2aceb3f3232eb4b&quot; style=&quot;width: 100.0%; height: 100.0%;&quot;&gt;6051&lt;/div&gt;`)[0];\n",
       "                popup_773c9ef050f3d3b0a7c16cdb1c273c7f.setContent(html_76df805205b33407c2aceb3f3232eb4b);\n",
       "            \n",
       "        \n",
       "\n",
       "        marker_e9458796a98b563fe7032b2b443aa917.bindPopup(popup_773c9ef050f3d3b0a7c16cdb1c273c7f)\n",
       "        ;\n",
       "\n",
       "        \n",
       "    \n",
       "    \n",
       "            var marker_a2f0f237a8599b2273a88dd84ff9bc79 = L.marker(\n",
       "                [-15.868950341304968, -47.96971542650532],\n",
       "                {}\n",
       "            ).addTo(map_ad52b4fd3c9ae4e3321d8005d0425d35);\n",
       "        \n",
       "    \n",
       "        var popup_51add66a1aa48bd80c518027dcc080e2 = L.popup({&quot;maxWidth&quot;: &quot;100%&quot;});\n",
       "\n",
       "        \n",
       "            \n",
       "                var html_7dc3b17b8771c077e3844d16bb84e161 = $(`&lt;div id=&quot;html_7dc3b17b8771c077e3844d16bb84e161&quot; style=&quot;width: 100.0%; height: 100.0%;&quot;&gt;6055&lt;/div&gt;`)[0];\n",
       "                popup_51add66a1aa48bd80c518027dcc080e2.setContent(html_7dc3b17b8771c077e3844d16bb84e161);\n",
       "            \n",
       "        \n",
       "\n",
       "        marker_a2f0f237a8599b2273a88dd84ff9bc79.bindPopup(popup_51add66a1aa48bd80c518027dcc080e2)\n",
       "        ;\n",
       "\n",
       "        \n",
       "    \n",
       "    \n",
       "            var marker_85e70c3ef2dde2b891e00910d7dea1e7 = L.marker(\n",
       "                [-15.923732177932882, -48.10436178761736],\n",
       "                {}\n",
       "            ).addTo(map_ad52b4fd3c9ae4e3321d8005d0425d35);\n",
       "        \n",
       "    \n",
       "        var popup_dbaac5dafea5e4da4e93c8585d93fbdb = L.popup({&quot;maxWidth&quot;: &quot;100%&quot;});\n",
       "\n",
       "        \n",
       "            \n",
       "                var html_3b7341d975bc576d1ceedf518d1e9259 = $(`&lt;div id=&quot;html_3b7341d975bc576d1ceedf518d1e9259&quot; style=&quot;width: 100.0%; height: 100.0%;&quot;&gt;3893&lt;/div&gt;`)[0];\n",
       "                popup_dbaac5dafea5e4da4e93c8585d93fbdb.setContent(html_3b7341d975bc576d1ceedf518d1e9259);\n",
       "            \n",
       "        \n",
       "\n",
       "        marker_85e70c3ef2dde2b891e00910d7dea1e7.bindPopup(popup_dbaac5dafea5e4da4e93c8585d93fbdb)\n",
       "        ;\n",
       "\n",
       "        \n",
       "    \n",
       "    \n",
       "            var marker_c83a40a6ec7149df16892cdf2d15042d = L.marker(\n",
       "                [-15.921286375823692, -48.10301513885338],\n",
       "                {}\n",
       "            ).addTo(map_ad52b4fd3c9ae4e3321d8005d0425d35);\n",
       "        \n",
       "    \n",
       "        var popup_c9d0b6e0e64a1059b7eda1edd2417702 = L.popup({&quot;maxWidth&quot;: &quot;100%&quot;});\n",
       "\n",
       "        \n",
       "            \n",
       "                var html_4197f50be67b1d3560d0803ffd806689 = $(`&lt;div id=&quot;html_4197f50be67b1d3560d0803ffd806689&quot; style=&quot;width: 100.0%; height: 100.0%;&quot;&gt;3894&lt;/div&gt;`)[0];\n",
       "                popup_c9d0b6e0e64a1059b7eda1edd2417702.setContent(html_4197f50be67b1d3560d0803ffd806689);\n",
       "            \n",
       "        \n",
       "\n",
       "        marker_c83a40a6ec7149df16892cdf2d15042d.bindPopup(popup_c9d0b6e0e64a1059b7eda1edd2417702)\n",
       "        ;\n",
       "\n",
       "        \n",
       "    \n",
       "    \n",
       "            var marker_d23b9c46e22d5a95f66ee4fc6e385aa6 = L.marker(\n",
       "                [-15.91878145395848, -48.101702426843005],\n",
       "                {}\n",
       "            ).addTo(map_ad52b4fd3c9ae4e3321d8005d0425d35);\n",
       "        \n",
       "    \n",
       "        var popup_e51479cc5100efcdda83bbc4769a47fd = L.popup({&quot;maxWidth&quot;: &quot;100%&quot;});\n",
       "\n",
       "        \n",
       "            \n",
       "                var html_af4bbb24489a23220d09dd408d62f17e = $(`&lt;div id=&quot;html_af4bbb24489a23220d09dd408d62f17e&quot; style=&quot;width: 100.0%; height: 100.0%;&quot;&gt;3895&lt;/div&gt;`)[0];\n",
       "                popup_e51479cc5100efcdda83bbc4769a47fd.setContent(html_af4bbb24489a23220d09dd408d62f17e);\n",
       "            \n",
       "        \n",
       "\n",
       "        marker_d23b9c46e22d5a95f66ee4fc6e385aa6.bindPopup(popup_e51479cc5100efcdda83bbc4769a47fd)\n",
       "        ;\n",
       "\n",
       "        \n",
       "    \n",
       "    \n",
       "            var marker_bcbf8cec68a9685a6b1f87015d531c47 = L.marker(\n",
       "                [-15.916169945218833, -48.099503742472415],\n",
       "                {}\n",
       "            ).addTo(map_ad52b4fd3c9ae4e3321d8005d0425d35);\n",
       "        \n",
       "    \n",
       "        var popup_329ec8f552b9c58d60a3748b0ccf0c7d = L.popup({&quot;maxWidth&quot;: &quot;100%&quot;});\n",
       "\n",
       "        \n",
       "            \n",
       "                var html_f3969be93afe386f9393b2e345778c8e = $(`&lt;div id=&quot;html_f3969be93afe386f9393b2e345778c8e&quot; style=&quot;width: 100.0%; height: 100.0%;&quot;&gt;3896&lt;/div&gt;`)[0];\n",
       "                popup_329ec8f552b9c58d60a3748b0ccf0c7d.setContent(html_f3969be93afe386f9393b2e345778c8e);\n",
       "            \n",
       "        \n",
       "\n",
       "        marker_bcbf8cec68a9685a6b1f87015d531c47.bindPopup(popup_329ec8f552b9c58d60a3748b0ccf0c7d)\n",
       "        ;\n",
       "\n",
       "        \n",
       "    \n",
       "    \n",
       "            var marker_811b3e18a1b6a66ec4c1766177393ee7 = L.marker(\n",
       "                [-15.853222773929913, -47.954938640960606],\n",
       "                {}\n",
       "            ).addTo(map_ad52b4fd3c9ae4e3321d8005d0425d35);\n",
       "        \n",
       "    \n",
       "        var popup_47a1ace3f350b961d6e5c4ec3c8be2e8 = L.popup({&quot;maxWidth&quot;: &quot;100%&quot;});\n",
       "\n",
       "        \n",
       "            \n",
       "                var html_3ba42e0033eea7ae38865c70f6ef76d5 = $(`&lt;div id=&quot;html_3ba42e0033eea7ae38865c70f6ef76d5&quot; style=&quot;width: 100.0%; height: 100.0%;&quot;&gt;1235&lt;/div&gt;`)[0];\n",
       "                popup_47a1ace3f350b961d6e5c4ec3c8be2e8.setContent(html_3ba42e0033eea7ae38865c70f6ef76d5);\n",
       "            \n",
       "        \n",
       "\n",
       "        marker_811b3e18a1b6a66ec4c1766177393ee7.bindPopup(popup_47a1ace3f350b961d6e5c4ec3c8be2e8)\n",
       "        ;\n",
       "\n",
       "        \n",
       "    \n",
       "    \n",
       "            var marker_d679b20a896174e76688eb735133ee8e = L.marker(\n",
       "                [-15.852580454517865, -47.95501218125944],\n",
       "                {}\n",
       "            ).addTo(map_ad52b4fd3c9ae4e3321d8005d0425d35);\n",
       "        \n",
       "    \n",
       "        var popup_879510bc7b604122a89b0cbd1b26c0f7 = L.popup({&quot;maxWidth&quot;: &quot;100%&quot;});\n",
       "\n",
       "        \n",
       "            \n",
       "                var html_0a0cbe76e7f0cd8c0fe025a39d92fa98 = $(`&lt;div id=&quot;html_0a0cbe76e7f0cd8c0fe025a39d92fa98&quot; style=&quot;width: 100.0%; height: 100.0%;&quot;&gt;1236&lt;/div&gt;`)[0];\n",
       "                popup_879510bc7b604122a89b0cbd1b26c0f7.setContent(html_0a0cbe76e7f0cd8c0fe025a39d92fa98);\n",
       "            \n",
       "        \n",
       "\n",
       "        marker_d679b20a896174e76688eb735133ee8e.bindPopup(popup_879510bc7b604122a89b0cbd1b26c0f7)\n",
       "        ;\n",
       "\n",
       "        \n",
       "    \n",
       "    \n",
       "            var marker_928c54137c1b1c26d694fe38b686b63f = L.marker(\n",
       "                [-15.905765859448325, -48.07850522929963],\n",
       "                {}\n",
       "            ).addTo(map_ad52b4fd3c9ae4e3321d8005d0425d35);\n",
       "        \n",
       "    \n",
       "        var popup_a8168b0c9b2c5b7e18f2509de5989498 = L.popup({&quot;maxWidth&quot;: &quot;100%&quot;});\n",
       "\n",
       "        \n",
       "            \n",
       "                var html_798b0afe163ba18a49fb221855255709 = $(`&lt;div id=&quot;html_798b0afe163ba18a49fb221855255709&quot; style=&quot;width: 100.0%; height: 100.0%;&quot;&gt;3903&lt;/div&gt;`)[0];\n",
       "                popup_a8168b0c9b2c5b7e18f2509de5989498.setContent(html_798b0afe163ba18a49fb221855255709);\n",
       "            \n",
       "        \n",
       "\n",
       "        marker_928c54137c1b1c26d694fe38b686b63f.bindPopup(popup_a8168b0c9b2c5b7e18f2509de5989498)\n",
       "        ;\n",
       "\n",
       "        \n",
       "    \n",
       "    \n",
       "            var marker_8d386631f5c5ffae749b00c2bd21a6bf = L.marker(\n",
       "                [-15.903887039812487, -48.07138779205818],\n",
       "                {}\n",
       "            ).addTo(map_ad52b4fd3c9ae4e3321d8005d0425d35);\n",
       "        \n",
       "    \n",
       "        var popup_a405adcfe10704be08025ce747c2d63f = L.popup({&quot;maxWidth&quot;: &quot;100%&quot;});\n",
       "\n",
       "        \n",
       "            \n",
       "                var html_24124d470e7e77a83f32cd5ff7bf4dfe = $(`&lt;div id=&quot;html_24124d470e7e77a83f32cd5ff7bf4dfe&quot; style=&quot;width: 100.0%; height: 100.0%;&quot;&gt;3905&lt;/div&gt;`)[0];\n",
       "                popup_a405adcfe10704be08025ce747c2d63f.setContent(html_24124d470e7e77a83f32cd5ff7bf4dfe);\n",
       "            \n",
       "        \n",
       "\n",
       "        marker_8d386631f5c5ffae749b00c2bd21a6bf.bindPopup(popup_a405adcfe10704be08025ce747c2d63f)\n",
       "        ;\n",
       "\n",
       "        \n",
       "    \n",
       "    \n",
       "            var marker_a6dd4bae82812b97fabb6b250e31dce1 = L.marker(\n",
       "                [-15.90475134526757, -48.075263090432585],\n",
       "                {}\n",
       "            ).addTo(map_ad52b4fd3c9ae4e3321d8005d0425d35);\n",
       "        \n",
       "    \n",
       "        var popup_d6c98fc1e0f072233b128edc0aa24945 = L.popup({&quot;maxWidth&quot;: &quot;100%&quot;});\n",
       "\n",
       "        \n",
       "            \n",
       "                var html_be6c56f813916f3ea499aa33e56592b6 = $(`&lt;div id=&quot;html_be6c56f813916f3ea499aa33e56592b6&quot; style=&quot;width: 100.0%; height: 100.0%;&quot;&gt;3904&lt;/div&gt;`)[0];\n",
       "                popup_d6c98fc1e0f072233b128edc0aa24945.setContent(html_be6c56f813916f3ea499aa33e56592b6);\n",
       "            \n",
       "        \n",
       "\n",
       "        marker_a6dd4bae82812b97fabb6b250e31dce1.bindPopup(popup_d6c98fc1e0f072233b128edc0aa24945)\n",
       "        ;\n",
       "\n",
       "        \n",
       "    \n",
       "    \n",
       "            var marker_4b11cccf3ae3c449ffba6e10edc409a1 = L.marker(\n",
       "                [-15.871570983237856, -47.97481788694283],\n",
       "                {}\n",
       "            ).addTo(map_ad52b4fd3c9ae4e3321d8005d0425d35);\n",
       "        \n",
       "    \n",
       "        var popup_526c23fefac1161f721ab742714b37ea = L.popup({&quot;maxWidth&quot;: &quot;100%&quot;});\n",
       "\n",
       "        \n",
       "            \n",
       "                var html_6950923e27a60b1ea73954329aca7be4 = $(`&lt;div id=&quot;html_6950923e27a60b1ea73954329aca7be4&quot; style=&quot;width: 100.0%; height: 100.0%;&quot;&gt;6054&lt;/div&gt;`)[0];\n",
       "                popup_526c23fefac1161f721ab742714b37ea.setContent(html_6950923e27a60b1ea73954329aca7be4);\n",
       "            \n",
       "        \n",
       "\n",
       "        marker_4b11cccf3ae3c449ffba6e10edc409a1.bindPopup(popup_526c23fefac1161f721ab742714b37ea)\n",
       "        ;\n",
       "\n",
       "        \n",
       "    \n",
       "    \n",
       "            var marker_a66edb1af92235cf4e1231b6dbb8191b = L.marker(\n",
       "                [-15.9289187416444, -48.10868894292837],\n",
       "                {}\n",
       "            ).addTo(map_ad52b4fd3c9ae4e3321d8005d0425d35);\n",
       "        \n",
       "    \n",
       "        var popup_d0a575d6a338927b40f94e4f516d7c87 = L.popup({&quot;maxWidth&quot;: &quot;100%&quot;});\n",
       "\n",
       "        \n",
       "            \n",
       "                var html_498b49a12bb185b3483b7543f13b00f0 = $(`&lt;div id=&quot;html_498b49a12bb185b3483b7543f13b00f0&quot; style=&quot;width: 100.0%; height: 100.0%;&quot;&gt;3891&lt;/div&gt;`)[0];\n",
       "                popup_d0a575d6a338927b40f94e4f516d7c87.setContent(html_498b49a12bb185b3483b7543f13b00f0);\n",
       "            \n",
       "        \n",
       "\n",
       "        marker_a66edb1af92235cf4e1231b6dbb8191b.bindPopup(popup_d0a575d6a338927b40f94e4f516d7c87)\n",
       "        ;\n",
       "\n",
       "        \n",
       "    \n",
       "    \n",
       "            var marker_0bca2299aab80487f2fae4429a208974 = L.marker(\n",
       "                [-15.926671447944107, -48.10656869744007],\n",
       "                {}\n",
       "            ).addTo(map_ad52b4fd3c9ae4e3321d8005d0425d35);\n",
       "        \n",
       "    \n",
       "        var popup_663721e1dc3ca942d62c9a5e61da0f0d = L.popup({&quot;maxWidth&quot;: &quot;100%&quot;});\n",
       "\n",
       "        \n",
       "            \n",
       "                var html_ebb1a8cdc572009ec30d76ca4499d57a = $(`&lt;div id=&quot;html_ebb1a8cdc572009ec30d76ca4499d57a&quot; style=&quot;width: 100.0%; height: 100.0%;&quot;&gt;3892&lt;/div&gt;`)[0];\n",
       "                popup_663721e1dc3ca942d62c9a5e61da0f0d.setContent(html_ebb1a8cdc572009ec30d76ca4499d57a);\n",
       "            \n",
       "        \n",
       "\n",
       "        marker_0bca2299aab80487f2fae4429a208974.bindPopup(popup_663721e1dc3ca942d62c9a5e61da0f0d)\n",
       "        ;\n",
       "\n",
       "        \n",
       "    \n",
       "    \n",
       "            var marker_c33571f2f8eaaf7737248961ad822176 = L.marker(\n",
       "                [-15.898733, -48.054869],\n",
       "                {}\n",
       "            ).addTo(map_ad52b4fd3c9ae4e3321d8005d0425d35);\n",
       "        \n",
       "    \n",
       "        var popup_fe1b82292ed2c1ac7dfb0a1f3bc2f240 = L.popup({&quot;maxWidth&quot;: &quot;100%&quot;});\n",
       "\n",
       "        \n",
       "            \n",
       "                var html_bdee1c4299a1f6e17f89ae3116cc4639 = $(`&lt;div id=&quot;html_bdee1c4299a1f6e17f89ae3116cc4639&quot; style=&quot;width: 100.0%; height: 100.0%;&quot;&gt;7918&lt;/div&gt;`)[0];\n",
       "                popup_fe1b82292ed2c1ac7dfb0a1f3bc2f240.setContent(html_bdee1c4299a1f6e17f89ae3116cc4639);\n",
       "            \n",
       "        \n",
       "\n",
       "        marker_c33571f2f8eaaf7737248961ad822176.bindPopup(popup_fe1b82292ed2c1ac7dfb0a1f3bc2f240)\n",
       "        ;\n",
       "\n",
       "        \n",
       "    \n",
       "    \n",
       "            var marker_3eefbfe06e7a82151e64954285466b33 = L.marker(\n",
       "                [-15.898733, -48.054869],\n",
       "                {}\n",
       "            ).addTo(map_ad52b4fd3c9ae4e3321d8005d0425d35);\n",
       "        \n",
       "    \n",
       "        var popup_f064c6eee50660f0725713e4f6bd32e2 = L.popup({&quot;maxWidth&quot;: &quot;100%&quot;});\n",
       "\n",
       "        \n",
       "            \n",
       "                var html_4cac0b3df9869e26f7b79b7473c22ef8 = $(`&lt;div id=&quot;html_4cac0b3df9869e26f7b79b7473c22ef8&quot; style=&quot;width: 100.0%; height: 100.0%;&quot;&gt;7919&lt;/div&gt;`)[0];\n",
       "                popup_f064c6eee50660f0725713e4f6bd32e2.setContent(html_4cac0b3df9869e26f7b79b7473c22ef8);\n",
       "            \n",
       "        \n",
       "\n",
       "        marker_3eefbfe06e7a82151e64954285466b33.bindPopup(popup_f064c6eee50660f0725713e4f6bd32e2)\n",
       "        ;\n",
       "\n",
       "        \n",
       "    \n",
       "    \n",
       "            var marker_294a0218cbdc1a214b9dcdafc6ea3a38 = L.marker(\n",
       "                [-15.898733, -48.054869],\n",
       "                {}\n",
       "            ).addTo(map_ad52b4fd3c9ae4e3321d8005d0425d35);\n",
       "        \n",
       "    \n",
       "        var popup_b2febbc966ebe6d74dc3fc281057475f = L.popup({&quot;maxWidth&quot;: &quot;100%&quot;});\n",
       "\n",
       "        \n",
       "            \n",
       "                var html_96b4bfc6cbb2e3f1cf548f87ce403c3e = $(`&lt;div id=&quot;html_96b4bfc6cbb2e3f1cf548f87ce403c3e&quot; style=&quot;width: 100.0%; height: 100.0%;&quot;&gt;7920&lt;/div&gt;`)[0];\n",
       "                popup_b2febbc966ebe6d74dc3fc281057475f.setContent(html_96b4bfc6cbb2e3f1cf548f87ce403c3e);\n",
       "            \n",
       "        \n",
       "\n",
       "        marker_294a0218cbdc1a214b9dcdafc6ea3a38.bindPopup(popup_b2febbc966ebe6d74dc3fc281057475f)\n",
       "        ;\n",
       "\n",
       "        \n",
       "    \n",
       "    \n",
       "            var marker_4189ff24394bdca1fd835de35059591a = L.marker(\n",
       "                [-15.898709949993485, -48.05487915994132],\n",
       "                {}\n",
       "            ).addTo(map_ad52b4fd3c9ae4e3321d8005d0425d35);\n",
       "        \n",
       "    \n",
       "        var popup_01f7a91997c64960b8faa4e523192c3f = L.popup({&quot;maxWidth&quot;: &quot;100%&quot;});\n",
       "\n",
       "        \n",
       "            \n",
       "                var html_8ac0e3f4249b748cd5d64505051fd93f = $(`&lt;div id=&quot;html_8ac0e3f4249b748cd5d64505051fd93f&quot; style=&quot;width: 100.0%; height: 100.0%;&quot;&gt;3822&lt;/div&gt;`)[0];\n",
       "                popup_01f7a91997c64960b8faa4e523192c3f.setContent(html_8ac0e3f4249b748cd5d64505051fd93f);\n",
       "            \n",
       "        \n",
       "\n",
       "        marker_4189ff24394bdca1fd835de35059591a.bindPopup(popup_01f7a91997c64960b8faa4e523192c3f)\n",
       "        ;\n",
       "\n",
       "        \n",
       "    \n",
       "    \n",
       "            var marker_a8d6a2e0541795103a775f76d0fc8dbc = L.marker(\n",
       "                [-15.87546998873825, -48.033746649855836],\n",
       "                {}\n",
       "            ).addTo(map_ad52b4fd3c9ae4e3321d8005d0425d35);\n",
       "        \n",
       "    \n",
       "        var popup_fcb460e49498dc1fe6f86aa524336111 = L.popup({&quot;maxWidth&quot;: &quot;100%&quot;});\n",
       "\n",
       "        \n",
       "            \n",
       "                var html_12ac08b84a8f42efa1198276ddf63c16 = $(`&lt;div id=&quot;html_12ac08b84a8f42efa1198276ddf63c16&quot; style=&quot;width: 100.0%; height: 100.0%;&quot;&gt;4021&lt;/div&gt;`)[0];\n",
       "                popup_fcb460e49498dc1fe6f86aa524336111.setContent(html_12ac08b84a8f42efa1198276ddf63c16);\n",
       "            \n",
       "        \n",
       "\n",
       "        marker_a8d6a2e0541795103a775f76d0fc8dbc.bindPopup(popup_fcb460e49498dc1fe6f86aa524336111)\n",
       "        ;\n",
       "\n",
       "        \n",
       "    \n",
       "    \n",
       "            var marker_ec535da241b02e612886e985945176db = L.marker(\n",
       "                [-15.876096193611582, -48.02930795061011],\n",
       "                {}\n",
       "            ).addTo(map_ad52b4fd3c9ae4e3321d8005d0425d35);\n",
       "        \n",
       "    \n",
       "        var popup_a007b646666614a6b7e9eb847f79fe70 = L.popup({&quot;maxWidth&quot;: &quot;100%&quot;});\n",
       "\n",
       "        \n",
       "            \n",
       "                var html_eca8e2819f6d1d7481b28446fd1ccff4 = $(`&lt;div id=&quot;html_eca8e2819f6d1d7481b28446fd1ccff4&quot; style=&quot;width: 100.0%; height: 100.0%;&quot;&gt;4022&lt;/div&gt;`)[0];\n",
       "                popup_a007b646666614a6b7e9eb847f79fe70.setContent(html_eca8e2819f6d1d7481b28446fd1ccff4);\n",
       "            \n",
       "        \n",
       "\n",
       "        marker_ec535da241b02e612886e985945176db.bindPopup(popup_a007b646666614a6b7e9eb847f79fe70)\n",
       "        ;\n",
       "\n",
       "        \n",
       "    \n",
       "    \n",
       "            var marker_1a03445bd73ee34fe8851a7c2cebeb62 = L.marker(\n",
       "                [-15.876390893268065, -47.98769511151485],\n",
       "                {}\n",
       "            ).addTo(map_ad52b4fd3c9ae4e3321d8005d0425d35);\n",
       "        \n",
       "    \n",
       "        var popup_e62f4ffed88f703e7bb668b9a1291f67 = L.popup({&quot;maxWidth&quot;: &quot;100%&quot;});\n",
       "\n",
       "        \n",
       "            \n",
       "                var html_abfca3c8969934131e413cc9da7af16e = $(`&lt;div id=&quot;html_abfca3c8969934131e413cc9da7af16e&quot; style=&quot;width: 100.0%; height: 100.0%;&quot;&gt;6063&lt;/div&gt;`)[0];\n",
       "                popup_e62f4ffed88f703e7bb668b9a1291f67.setContent(html_abfca3c8969934131e413cc9da7af16e);\n",
       "            \n",
       "        \n",
       "\n",
       "        marker_1a03445bd73ee34fe8851a7c2cebeb62.bindPopup(popup_e62f4ffed88f703e7bb668b9a1291f67)\n",
       "        ;\n",
       "\n",
       "        \n",
       "    \n",
       "    \n",
       "            var marker_b6de3f242e8dda82b4f08fb5b4ac312a = L.marker(\n",
       "                [-15.876755940977297, -47.99203008744984],\n",
       "                {}\n",
       "            ).addTo(map_ad52b4fd3c9ae4e3321d8005d0425d35);\n",
       "        \n",
       "    \n",
       "        var popup_ed9cf11aa376046e442a02a0a4b314d3 = L.popup({&quot;maxWidth&quot;: &quot;100%&quot;});\n",
       "\n",
       "        \n",
       "            \n",
       "                var html_f741acac933b1a5f4634573675f639f2 = $(`&lt;div id=&quot;html_f741acac933b1a5f4634573675f639f2&quot; style=&quot;width: 100.0%; height: 100.0%;&quot;&gt;6052&lt;/div&gt;`)[0];\n",
       "                popup_ed9cf11aa376046e442a02a0a4b314d3.setContent(html_f741acac933b1a5f4634573675f639f2);\n",
       "            \n",
       "        \n",
       "\n",
       "        marker_b6de3f242e8dda82b4f08fb5b4ac312a.bindPopup(popup_ed9cf11aa376046e442a02a0a4b314d3)\n",
       "        ;\n",
       "\n",
       "        \n",
       "    \n",
       "    \n",
       "            var marker_258527723ea752cb756e4e96a68b2716 = L.marker(\n",
       "                [-15.876014476321995, -47.98426659742092],\n",
       "                {}\n",
       "            ).addTo(map_ad52b4fd3c9ae4e3321d8005d0425d35);\n",
       "        \n",
       "    \n",
       "        var popup_6eb7c4a06176c26b910cbb086790a473 = L.popup({&quot;maxWidth&quot;: &quot;100%&quot;});\n",
       "\n",
       "        \n",
       "            \n",
       "                var html_bcef7038e0baf6529abcf48ae033a025 = $(`&lt;div id=&quot;html_bcef7038e0baf6529abcf48ae033a025&quot; style=&quot;width: 100.0%; height: 100.0%;&quot;&gt;6053&lt;/div&gt;`)[0];\n",
       "                popup_6eb7c4a06176c26b910cbb086790a473.setContent(html_bcef7038e0baf6529abcf48ae033a025);\n",
       "            \n",
       "        \n",
       "\n",
       "        marker_258527723ea752cb756e4e96a68b2716.bindPopup(popup_6eb7c4a06176c26b910cbb086790a473)\n",
       "        ;\n",
       "\n",
       "        \n",
       "    \n",
       "    \n",
       "            var marker_1e9ef7ccc91be2ffa9f45a6b7d388238 = L.marker(\n",
       "                [-15.911888999999992, -48.094153],\n",
       "                {}\n",
       "            ).addTo(map_ad52b4fd3c9ae4e3321d8005d0425d35);\n",
       "        \n",
       "    \n",
       "        var popup_c4b09d421c0fec963ddd79497fcbdc7d = L.popup({&quot;maxWidth&quot;: &quot;100%&quot;});\n",
       "\n",
       "        \n",
       "            \n",
       "                var html_8a76b700912df5c39ac09b54e3cc630d = $(`&lt;div id=&quot;html_8a76b700912df5c39ac09b54e3cc630d&quot; style=&quot;width: 100.0%; height: 100.0%;&quot;&gt;7865&lt;/div&gt;`)[0];\n",
       "                popup_c4b09d421c0fec963ddd79497fcbdc7d.setContent(html_8a76b700912df5c39ac09b54e3cc630d);\n",
       "            \n",
       "        \n",
       "\n",
       "        marker_1e9ef7ccc91be2ffa9f45a6b7d388238.bindPopup(popup_c4b09d421c0fec963ddd79497fcbdc7d)\n",
       "        ;\n",
       "\n",
       "        \n",
       "    \n",
       "    \n",
       "            var marker_0714cb99ef2a3be43f17a564769a0831 = L.marker(\n",
       "                [-15.911841259651768, -48.09406068191614],\n",
       "                {}\n",
       "            ).addTo(map_ad52b4fd3c9ae4e3321d8005d0425d35);\n",
       "        \n",
       "    \n",
       "        var popup_ec034ae688eb40712ac970a8a3f1610e = L.popup({&quot;maxWidth&quot;: &quot;100%&quot;});\n",
       "\n",
       "        \n",
       "            \n",
       "                var html_64bed3da18003ef200a5fd871d6e7731 = $(`&lt;div id=&quot;html_64bed3da18003ef200a5fd871d6e7731&quot; style=&quot;width: 100.0%; height: 100.0%;&quot;&gt;3898&lt;/div&gt;`)[0];\n",
       "                popup_ec034ae688eb40712ac970a8a3f1610e.setContent(html_64bed3da18003ef200a5fd871d6e7731);\n",
       "            \n",
       "        \n",
       "\n",
       "        marker_0714cb99ef2a3be43f17a564769a0831.bindPopup(popup_ec034ae688eb40712ac970a8a3f1610e)\n",
       "        ;\n",
       "\n",
       "        \n",
       "    \n",
       "    \n",
       "            var marker_2f457067f5c4713ddc4f0ff8020a9379 = L.marker(\n",
       "                [-15.914083, -48.097389],\n",
       "                {}\n",
       "            ).addTo(map_ad52b4fd3c9ae4e3321d8005d0425d35);\n",
       "        \n",
       "    \n",
       "        var popup_6e72d8fcf6493a4d5178ffa2dacba2f0 = L.popup({&quot;maxWidth&quot;: &quot;100%&quot;});\n",
       "\n",
       "        \n",
       "            \n",
       "                var html_85409a213f675ca839952ae60bd00e5c = $(`&lt;div id=&quot;html_85409a213f675ca839952ae60bd00e5c&quot; style=&quot;width: 100.0%; height: 100.0%;&quot;&gt;8015&lt;/div&gt;`)[0];\n",
       "                popup_6e72d8fcf6493a4d5178ffa2dacba2f0.setContent(html_85409a213f675ca839952ae60bd00e5c);\n",
       "            \n",
       "        \n",
       "\n",
       "        marker_2f457067f5c4713ddc4f0ff8020a9379.bindPopup(popup_6e72d8fcf6493a4d5178ffa2dacba2f0)\n",
       "        ;\n",
       "\n",
       "        \n",
       "    \n",
       "    \n",
       "            var marker_cb32bf979957aed4d7d7ef1f7493bca6 = L.marker(\n",
       "                [-15.914072908245076, -48.09714676060153],\n",
       "                {}\n",
       "            ).addTo(map_ad52b4fd3c9ae4e3321d8005d0425d35);\n",
       "        \n",
       "    \n",
       "        var popup_67ccfe41eee6b176454410fee7522205 = L.popup({&quot;maxWidth&quot;: &quot;100%&quot;});\n",
       "\n",
       "        \n",
       "            \n",
       "                var html_278c134072b1aa03461bf28f6b8e00c4 = $(`&lt;div id=&quot;html_278c134072b1aa03461bf28f6b8e00c4&quot; style=&quot;width: 100.0%; height: 100.0%;&quot;&gt;3897&lt;/div&gt;`)[0];\n",
       "                popup_67ccfe41eee6b176454410fee7522205.setContent(html_278c134072b1aa03461bf28f6b8e00c4);\n",
       "            \n",
       "        \n",
       "\n",
       "        marker_cb32bf979957aed4d7d7ef1f7493bca6.bindPopup(popup_67ccfe41eee6b176454410fee7522205)\n",
       "        ;\n",
       "\n",
       "        \n",
       "    \n",
       "    \n",
       "            var marker_c28bfda995ea1bd88a76380f17f02203 = L.marker(\n",
       "                [-15.876264185865082, -48.04798756342396],\n",
       "                {}\n",
       "            ).addTo(map_ad52b4fd3c9ae4e3321d8005d0425d35);\n",
       "        \n",
       "    \n",
       "        var popup_b84b7284286bc2683df662449935ad05 = L.popup({&quot;maxWidth&quot;: &quot;100%&quot;});\n",
       "\n",
       "        \n",
       "            \n",
       "                var html_166a59947a1dc7817c10501aad8b13ca = $(`&lt;div id=&quot;html_166a59947a1dc7817c10501aad8b13ca&quot; style=&quot;width: 100.0%; height: 100.0%;&quot;&gt;4018&lt;/div&gt;`)[0];\n",
       "                popup_b84b7284286bc2683df662449935ad05.setContent(html_166a59947a1dc7817c10501aad8b13ca);\n",
       "            \n",
       "        \n",
       "\n",
       "        marker_c28bfda995ea1bd88a76380f17f02203.bindPopup(popup_b84b7284286bc2683df662449935ad05)\n",
       "        ;\n",
       "\n",
       "        \n",
       "    \n",
       "    \n",
       "            var marker_253e924ed3225b4e058eae630d9a3b75 = L.marker(\n",
       "                [-15.874655767236849, -48.0394544647222],\n",
       "                {}\n",
       "            ).addTo(map_ad52b4fd3c9ae4e3321d8005d0425d35);\n",
       "        \n",
       "    \n",
       "        var popup_28344a7c4a7ac297d51e3baece57b3fd = L.popup({&quot;maxWidth&quot;: &quot;100%&quot;});\n",
       "\n",
       "        \n",
       "            \n",
       "                var html_7fef0871bd66774bc147b9def09c169d = $(`&lt;div id=&quot;html_7fef0871bd66774bc147b9def09c169d&quot; style=&quot;width: 100.0%; height: 100.0%;&quot;&gt;5391&lt;/div&gt;`)[0];\n",
       "                popup_28344a7c4a7ac297d51e3baece57b3fd.setContent(html_7fef0871bd66774bc147b9def09c169d);\n",
       "            \n",
       "        \n",
       "\n",
       "        marker_253e924ed3225b4e058eae630d9a3b75.bindPopup(popup_28344a7c4a7ac297d51e3baece57b3fd)\n",
       "        ;\n",
       "\n",
       "        \n",
       "    \n",
       "    \n",
       "            var marker_e2c6491ac3694781daf91f9fd73a482e = L.marker(\n",
       "                [-15.874219321801254, -48.04365980236096],\n",
       "                {}\n",
       "            ).addTo(map_ad52b4fd3c9ae4e3321d8005d0425d35);\n",
       "        \n",
       "    \n",
       "        var popup_87ebb6089b197385d38c69aef095f446 = L.popup({&quot;maxWidth&quot;: &quot;100%&quot;});\n",
       "\n",
       "        \n",
       "            \n",
       "                var html_34ab18c5819226c41659cc5f6abe13a1 = $(`&lt;div id=&quot;html_34ab18c5819226c41659cc5f6abe13a1&quot; style=&quot;width: 100.0%; height: 100.0%;&quot;&gt;4019&lt;/div&gt;`)[0];\n",
       "                popup_87ebb6089b197385d38c69aef095f446.setContent(html_34ab18c5819226c41659cc5f6abe13a1);\n",
       "            \n",
       "        \n",
       "\n",
       "        marker_e2c6491ac3694781daf91f9fd73a482e.bindPopup(popup_87ebb6089b197385d38c69aef095f446)\n",
       "        ;\n",
       "\n",
       "        \n",
       "    \n",
       "    \n",
       "            var marker_242728bee772444568c5ac6cb9c4b293 = L.marker(\n",
       "                [-15.90659112552102, -48.08117391153368],\n",
       "                {}\n",
       "            ).addTo(map_ad52b4fd3c9ae4e3321d8005d0425d35);\n",
       "        \n",
       "    \n",
       "        var popup_5c33424a2d104068e5142ec8ed71a357 = L.popup({&quot;maxWidth&quot;: &quot;100%&quot;});\n",
       "\n",
       "        \n",
       "            \n",
       "                var html_e57c2d736f6737c9935b19198e796ab2 = $(`&lt;div id=&quot;html_e57c2d736f6737c9935b19198e796ab2&quot; style=&quot;width: 100.0%; height: 100.0%;&quot;&gt;3902&lt;/div&gt;`)[0];\n",
       "                popup_5c33424a2d104068e5142ec8ed71a357.setContent(html_e57c2d736f6737c9935b19198e796ab2);\n",
       "            \n",
       "        \n",
       "\n",
       "        marker_242728bee772444568c5ac6cb9c4b293.bindPopup(popup_5c33424a2d104068e5142ec8ed71a357)\n",
       "        ;\n",
       "\n",
       "        \n",
       "    \n",
       "    \n",
       "            var marker_e82c920e1e7075c525caeb6c6280d4fd = L.marker(\n",
       "                [-15.877039108227745, -48.022609565870326],\n",
       "                {}\n",
       "            ).addTo(map_ad52b4fd3c9ae4e3321d8005d0425d35);\n",
       "        \n",
       "    \n",
       "        var popup_f8d07d9f8e52b4910397be9f8afb3c8e = L.popup({&quot;maxWidth&quot;: &quot;100%&quot;});\n",
       "\n",
       "        \n",
       "            \n",
       "                var html_537642e1033174aba019d655ab9c33b1 = $(`&lt;div id=&quot;html_537642e1033174aba019d655ab9c33b1&quot; style=&quot;width: 100.0%; height: 100.0%;&quot;&gt;4023&lt;/div&gt;`)[0];\n",
       "                popup_f8d07d9f8e52b4910397be9f8afb3c8e.setContent(html_537642e1033174aba019d655ab9c33b1);\n",
       "            \n",
       "        \n",
       "\n",
       "        marker_e82c920e1e7075c525caeb6c6280d4fd.bindPopup(popup_f8d07d9f8e52b4910397be9f8afb3c8e)\n",
       "        ;\n",
       "\n",
       "        \n",
       "    \n",
       "    \n",
       "            var marker_b0039967494a5788ce083fc9358b898b = L.marker(\n",
       "                [-15.877544140261374, -48.01911238393973],\n",
       "                {}\n",
       "            ).addTo(map_ad52b4fd3c9ae4e3321d8005d0425d35);\n",
       "        \n",
       "    \n",
       "        var popup_add1fd472fed863357829ae126b031ed = L.popup({&quot;maxWidth&quot;: &quot;100%&quot;});\n",
       "\n",
       "        \n",
       "            \n",
       "                var html_aa47d9c3b19af97926dbee0fc439a7d2 = $(`&lt;div id=&quot;html_aa47d9c3b19af97926dbee0fc439a7d2&quot; style=&quot;width: 100.0%; height: 100.0%;&quot;&gt;4024&lt;/div&gt;`)[0];\n",
       "                popup_add1fd472fed863357829ae126b031ed.setContent(html_aa47d9c3b19af97926dbee0fc439a7d2);\n",
       "            \n",
       "        \n",
       "\n",
       "        marker_b0039967494a5788ce083fc9358b898b.bindPopup(popup_add1fd472fed863357829ae126b031ed)\n",
       "        ;\n",
       "\n",
       "        \n",
       "    \n",
       "    \n",
       "            var marker_11d239f8b35031a1ba63f9aa9e052ef6 = L.marker(\n",
       "                [-15.736227202321027, -47.906332156391095],\n",
       "                {}\n",
       "            ).addTo(map_ad52b4fd3c9ae4e3321d8005d0425d35);\n",
       "        \n",
       "    \n",
       "        var popup_7de0f996ccd9552c7e9a2eeaaaf5e1fb = L.popup({&quot;maxWidth&quot;: &quot;100%&quot;});\n",
       "\n",
       "        \n",
       "            \n",
       "                var html_ce9a024e5c2b6c979d58aa60be06ec27 = $(`&lt;div id=&quot;html_ce9a024e5c2b6c979d58aa60be06ec27&quot; style=&quot;width: 100.0%; height: 100.0%;&quot;&gt;6289&lt;/div&gt;`)[0];\n",
       "                popup_7de0f996ccd9552c7e9a2eeaaaf5e1fb.setContent(html_ce9a024e5c2b6c979d58aa60be06ec27);\n",
       "            \n",
       "        \n",
       "\n",
       "        marker_11d239f8b35031a1ba63f9aa9e052ef6.bindPopup(popup_7de0f996ccd9552c7e9a2eeaaaf5e1fb)\n",
       "        ;\n",
       "\n",
       "        \n",
       "    \n",
       "    \n",
       "            var marker_5a1f9229ebbac912641c885abff93e01 = L.marker(\n",
       "                [-15.878236735744501, -48.014479196442934],\n",
       "                {}\n",
       "            ).addTo(map_ad52b4fd3c9ae4e3321d8005d0425d35);\n",
       "        \n",
       "    \n",
       "        var popup_e34bf6839735540630560d8517abfd2c = L.popup({&quot;maxWidth&quot;: &quot;100%&quot;});\n",
       "\n",
       "        \n",
       "            \n",
       "                var html_8964ce26345574bd8e29b63912c569ff = $(`&lt;div id=&quot;html_8964ce26345574bd8e29b63912c569ff&quot; style=&quot;width: 100.0%; height: 100.0%;&quot;&gt;4025&lt;/div&gt;`)[0];\n",
       "                popup_e34bf6839735540630560d8517abfd2c.setContent(html_8964ce26345574bd8e29b63912c569ff);\n",
       "            \n",
       "        \n",
       "\n",
       "        marker_5a1f9229ebbac912641c885abff93e01.bindPopup(popup_e34bf6839735540630560d8517abfd2c)\n",
       "        ;\n",
       "\n",
       "        \n",
       "    \n",
       "    \n",
       "            var marker_622dfcf00b20dec4411f7ab3711a1392 = L.marker(\n",
       "                [-15.87819398719129, -48.00830349622176],\n",
       "                {}\n",
       "            ).addTo(map_ad52b4fd3c9ae4e3321d8005d0425d35);\n",
       "        \n",
       "    \n",
       "        var popup_448b4f31c4045a212739be9637fe97d8 = L.popup({&quot;maxWidth&quot;: &quot;100%&quot;});\n",
       "\n",
       "        \n",
       "            \n",
       "                var html_46a92c3aa42c2cd116bf59fff69f9939 = $(`&lt;div id=&quot;html_46a92c3aa42c2cd116bf59fff69f9939&quot; style=&quot;width: 100.0%; height: 100.0%;&quot;&gt;4026&lt;/div&gt;`)[0];\n",
       "                popup_448b4f31c4045a212739be9637fe97d8.setContent(html_46a92c3aa42c2cd116bf59fff69f9939);\n",
       "            \n",
       "        \n",
       "\n",
       "        marker_622dfcf00b20dec4411f7ab3711a1392.bindPopup(popup_448b4f31c4045a212739be9637fe97d8)\n",
       "        ;\n",
       "\n",
       "        \n",
       "    \n",
       "    \n",
       "            var marker_eabf4239d2549e1740d9ef19c4b3e26e = L.marker(\n",
       "                [-15.9044180218172, -48.068197398424736],\n",
       "                {}\n",
       "            ).addTo(map_ad52b4fd3c9ae4e3321d8005d0425d35);\n",
       "        \n",
       "    \n",
       "        var popup_14f25c55ec232692c1746bec7185f04d = L.popup({&quot;maxWidth&quot;: &quot;100%&quot;});\n",
       "\n",
       "        \n",
       "            \n",
       "                var html_087f32106a2f77a3d92d575d6019a5ac = $(`&lt;div id=&quot;html_087f32106a2f77a3d92d575d6019a5ac&quot; style=&quot;width: 100.0%; height: 100.0%;&quot;&gt;3906&lt;/div&gt;`)[0];\n",
       "                popup_14f25c55ec232692c1746bec7185f04d.setContent(html_087f32106a2f77a3d92d575d6019a5ac);\n",
       "            \n",
       "        \n",
       "\n",
       "        marker_eabf4239d2549e1740d9ef19c4b3e26e.bindPopup(popup_14f25c55ec232692c1746bec7185f04d)\n",
       "        ;\n",
       "\n",
       "        \n",
       "    \n",
       "    \n",
       "            var marker_751e88d296e8ac72a1642431d6f2d65f = L.marker(\n",
       "                [-15.90429257982713, -48.06538186779065],\n",
       "                {}\n",
       "            ).addTo(map_ad52b4fd3c9ae4e3321d8005d0425d35);\n",
       "        \n",
       "    \n",
       "        var popup_f76f4acb19c6da3dc3b6d9db9f894f40 = L.popup({&quot;maxWidth&quot;: &quot;100%&quot;});\n",
       "\n",
       "        \n",
       "            \n",
       "                var html_d8ec3928ef8f56356b0b58e9ebbefcc9 = $(`&lt;div id=&quot;html_d8ec3928ef8f56356b0b58e9ebbefcc9&quot; style=&quot;width: 100.0%; height: 100.0%;&quot;&gt;3907&lt;/div&gt;`)[0];\n",
       "                popup_f76f4acb19c6da3dc3b6d9db9f894f40.setContent(html_d8ec3928ef8f56356b0b58e9ebbefcc9);\n",
       "            \n",
       "        \n",
       "\n",
       "        marker_751e88d296e8ac72a1642431d6f2d65f.bindPopup(popup_f76f4acb19c6da3dc3b6d9db9f894f40)\n",
       "        ;\n",
       "\n",
       "        \n",
       "    \n",
       "    \n",
       "            var marker_4a3733869be2a7555b3791ed7ef42f87 = L.marker(\n",
       "                [-15.887040211574627, -48.05861497232256],\n",
       "                {}\n",
       "            ).addTo(map_ad52b4fd3c9ae4e3321d8005d0425d35);\n",
       "        \n",
       "    \n",
       "        var popup_38ee1727a0a47281c925f029df5e47d9 = L.popup({&quot;maxWidth&quot;: &quot;100%&quot;});\n",
       "\n",
       "        \n",
       "            \n",
       "                var html_a557234fb04434fd93f2af3cf7fd956a = $(`&lt;div id=&quot;html_a557234fb04434fd93f2af3cf7fd956a&quot; style=&quot;width: 100.0%; height: 100.0%;&quot;&gt;3825&lt;/div&gt;`)[0];\n",
       "                popup_38ee1727a0a47281c925f029df5e47d9.setContent(html_a557234fb04434fd93f2af3cf7fd956a);\n",
       "            \n",
       "        \n",
       "\n",
       "        marker_4a3733869be2a7555b3791ed7ef42f87.bindPopup(popup_38ee1727a0a47281c925f029df5e47d9)\n",
       "        ;\n",
       "\n",
       "        \n",
       "    \n",
       "    \n",
       "            var marker_3336420d5861c517df779c37f8dd0291 = L.marker(\n",
       "                [-15.910156000000002, -48.090839],\n",
       "                {}\n",
       "            ).addTo(map_ad52b4fd3c9ae4e3321d8005d0425d35);\n",
       "        \n",
       "    \n",
       "        var popup_d601c6fe448ff3eb8b3504dc050ff33a = L.popup({&quot;maxWidth&quot;: &quot;100%&quot;});\n",
       "\n",
       "        \n",
       "            \n",
       "                var html_f1ab867771572da5bcb9191fa5803ff5 = $(`&lt;div id=&quot;html_f1ab867771572da5bcb9191fa5803ff5&quot; style=&quot;width: 100.0%; height: 100.0%;&quot;&gt;7888&lt;/div&gt;`)[0];\n",
       "                popup_d601c6fe448ff3eb8b3504dc050ff33a.setContent(html_f1ab867771572da5bcb9191fa5803ff5);\n",
       "            \n",
       "        \n",
       "\n",
       "        marker_3336420d5861c517df779c37f8dd0291.bindPopup(popup_d601c6fe448ff3eb8b3504dc050ff33a)\n",
       "        ;\n",
       "\n",
       "        \n",
       "    \n",
       "    \n",
       "            var marker_ed6699f0d3e031d136f56bcfa28fbc6a = L.marker(\n",
       "                [-15.907720278953988, -48.08402278176974],\n",
       "                {}\n",
       "            ).addTo(map_ad52b4fd3c9ae4e3321d8005d0425d35);\n",
       "        \n",
       "    \n",
       "        var popup_3e1c5d1e5410bcc64beb2a8b09569f08 = L.popup({&quot;maxWidth&quot;: &quot;100%&quot;});\n",
       "\n",
       "        \n",
       "            \n",
       "                var html_9739c118fa4cef16fb2bc974bdffe19d = $(`&lt;div id=&quot;html_9739c118fa4cef16fb2bc974bdffe19d&quot; style=&quot;width: 100.0%; height: 100.0%;&quot;&gt;3901&lt;/div&gt;`)[0];\n",
       "                popup_3e1c5d1e5410bcc64beb2a8b09569f08.setContent(html_9739c118fa4cef16fb2bc974bdffe19d);\n",
       "            \n",
       "        \n",
       "\n",
       "        marker_ed6699f0d3e031d136f56bcfa28fbc6a.bindPopup(popup_3e1c5d1e5410bcc64beb2a8b09569f08)\n",
       "        ;\n",
       "\n",
       "        \n",
       "    \n",
       "    \n",
       "            var marker_11620c09beecf89becdc290d7f554d87 = L.marker(\n",
       "                [-15.91026472965508, -48.09104949228238],\n",
       "                {}\n",
       "            ).addTo(map_ad52b4fd3c9ae4e3321d8005d0425d35);\n",
       "        \n",
       "    \n",
       "        var popup_568f3dbecbcca78fe5ed504f5a2b9aab = L.popup({&quot;maxWidth&quot;: &quot;100%&quot;});\n",
       "\n",
       "        \n",
       "            \n",
       "                var html_d7695bf84cd5af8ddad2fd4904bf39e4 = $(`&lt;div id=&quot;html_d7695bf84cd5af8ddad2fd4904bf39e4&quot; style=&quot;width: 100.0%; height: 100.0%;&quot;&gt;3899&lt;/div&gt;`)[0];\n",
       "                popup_568f3dbecbcca78fe5ed504f5a2b9aab.setContent(html_d7695bf84cd5af8ddad2fd4904bf39e4);\n",
       "            \n",
       "        \n",
       "\n",
       "        marker_11620c09beecf89becdc290d7f554d87.bindPopup(popup_568f3dbecbcca78fe5ed504f5a2b9aab)\n",
       "        ;\n",
       "\n",
       "        \n",
       "    \n",
       "    \n",
       "            var marker_a39d66e05d2abd84f4188ddac83a5acc = L.marker(\n",
       "                [-15.909530868020195, -48.08802369672664],\n",
       "                {}\n",
       "            ).addTo(map_ad52b4fd3c9ae4e3321d8005d0425d35);\n",
       "        \n",
       "    \n",
       "        var popup_c13917c0791810dc64d1d7050cdc4865 = L.popup({&quot;maxWidth&quot;: &quot;100%&quot;});\n",
       "\n",
       "        \n",
       "            \n",
       "                var html_b698dc537c0d0490fc43881ad39dba72 = $(`&lt;div id=&quot;html_b698dc537c0d0490fc43881ad39dba72&quot; style=&quot;width: 100.0%; height: 100.0%;&quot;&gt;3900&lt;/div&gt;`)[0];\n",
       "                popup_c13917c0791810dc64d1d7050cdc4865.setContent(html_b698dc537c0d0490fc43881ad39dba72);\n",
       "            \n",
       "        \n",
       "\n",
       "        marker_a39d66e05d2abd84f4188ddac83a5acc.bindPopup(popup_c13917c0791810dc64d1d7050cdc4865)\n",
       "        ;\n",
       "\n",
       "        \n",
       "    \n",
       "    \n",
       "            var marker_34dacd9c03c081c0d821f2996dd6f3d8 = L.marker(\n",
       "                [-15.894557999999998, -48.056217],\n",
       "                {}\n",
       "            ).addTo(map_ad52b4fd3c9ae4e3321d8005d0425d35);\n",
       "        \n",
       "    \n",
       "        var popup_7d844aceea5ac86e3dbfeef95b30fbeb = L.popup({&quot;maxWidth&quot;: &quot;100%&quot;});\n",
       "\n",
       "        \n",
       "            \n",
       "                var html_82f739f51a06f83df4d9ac147c6f9e85 = $(`&lt;div id=&quot;html_82f739f51a06f83df4d9ac147c6f9e85&quot; style=&quot;width: 100.0%; height: 100.0%;&quot;&gt;7921&lt;/div&gt;`)[0];\n",
       "                popup_7d844aceea5ac86e3dbfeef95b30fbeb.setContent(html_82f739f51a06f83df4d9ac147c6f9e85);\n",
       "            \n",
       "        \n",
       "\n",
       "        marker_34dacd9c03c081c0d821f2996dd6f3d8.bindPopup(popup_7d844aceea5ac86e3dbfeef95b30fbeb)\n",
       "        ;\n",
       "\n",
       "        \n",
       "    \n",
       "    \n",
       "            var marker_7c009f53dfcf4a8d8d398f8d93087f3c = L.marker(\n",
       "                [-15.891674999999996, -48.057164],\n",
       "                {}\n",
       "            ).addTo(map_ad52b4fd3c9ae4e3321d8005d0425d35);\n",
       "        \n",
       "    \n",
       "        var popup_2b759e2bfd0a4dfc0392dc69daf1fe36 = L.popup({&quot;maxWidth&quot;: &quot;100%&quot;});\n",
       "\n",
       "        \n",
       "            \n",
       "                var html_ee9d44f0aa717044d8753162ad7eaf33 = $(`&lt;div id=&quot;html_ee9d44f0aa717044d8753162ad7eaf33&quot; style=&quot;width: 100.0%; height: 100.0%;&quot;&gt;7922&lt;/div&gt;`)[0];\n",
       "                popup_2b759e2bfd0a4dfc0392dc69daf1fe36.setContent(html_ee9d44f0aa717044d8753162ad7eaf33);\n",
       "            \n",
       "        \n",
       "\n",
       "        marker_7c009f53dfcf4a8d8d398f8d93087f3c.bindPopup(popup_2b759e2bfd0a4dfc0392dc69daf1fe36)\n",
       "        ;\n",
       "\n",
       "        \n",
       "    \n",
       "    \n",
       "            var marker_ab0d908d6cf385e3ead84c5f4b087d66 = L.marker(\n",
       "                [-15.891674999999996, -48.057164],\n",
       "                {}\n",
       "            ).addTo(map_ad52b4fd3c9ae4e3321d8005d0425d35);\n",
       "        \n",
       "    \n",
       "        var popup_14df81687e35345a9025f31fb4b121fa = L.popup({&quot;maxWidth&quot;: &quot;100%&quot;});\n",
       "\n",
       "        \n",
       "            \n",
       "                var html_15df1b6aa60eaa6ad73eba8aa0242bff = $(`&lt;div id=&quot;html_15df1b6aa60eaa6ad73eba8aa0242bff&quot; style=&quot;width: 100.0%; height: 100.0%;&quot;&gt;7923&lt;/div&gt;`)[0];\n",
       "                popup_14df81687e35345a9025f31fb4b121fa.setContent(html_15df1b6aa60eaa6ad73eba8aa0242bff);\n",
       "            \n",
       "        \n",
       "\n",
       "        marker_ab0d908d6cf385e3ead84c5f4b087d66.bindPopup(popup_14df81687e35345a9025f31fb4b121fa)\n",
       "        ;\n",
       "\n",
       "        \n",
       "    \n",
       "    \n",
       "            var marker_d290daf56380cd8b6e5d398e2b38f71e = L.marker(\n",
       "                [-15.89454093286884, -48.05621395775726],\n",
       "                {}\n",
       "            ).addTo(map_ad52b4fd3c9ae4e3321d8005d0425d35);\n",
       "        \n",
       "    \n",
       "        var popup_0036522e18c283438464927421b03265 = L.popup({&quot;maxWidth&quot;: &quot;100%&quot;});\n",
       "\n",
       "        \n",
       "            \n",
       "                var html_9d34a6468cf3f56b68894be42430051a = $(`&lt;div id=&quot;html_9d34a6468cf3f56b68894be42430051a&quot; style=&quot;width: 100.0%; height: 100.0%;&quot;&gt;3823&lt;/div&gt;`)[0];\n",
       "                popup_0036522e18c283438464927421b03265.setContent(html_9d34a6468cf3f56b68894be42430051a);\n",
       "            \n",
       "        \n",
       "\n",
       "        marker_d290daf56380cd8b6e5d398e2b38f71e.bindPopup(popup_0036522e18c283438464927421b03265)\n",
       "        ;\n",
       "\n",
       "        \n",
       "    \n",
       "    \n",
       "            var marker_a57d0fd7106be1b300f7056856cb77ee = L.marker(\n",
       "                [-15.892066753113202, -48.05697748106128],\n",
       "                {}\n",
       "            ).addTo(map_ad52b4fd3c9ae4e3321d8005d0425d35);\n",
       "        \n",
       "    \n",
       "        var popup_81374bdfbb9e2319af1e8e51dd61703d = L.popup({&quot;maxWidth&quot;: &quot;100%&quot;});\n",
       "\n",
       "        \n",
       "            \n",
       "                var html_b5c013aad79dc936e95e45cea4018b27 = $(`&lt;div id=&quot;html_b5c013aad79dc936e95e45cea4018b27&quot; style=&quot;width: 100.0%; height: 100.0%;&quot;&gt;3824&lt;/div&gt;`)[0];\n",
       "                popup_81374bdfbb9e2319af1e8e51dd61703d.setContent(html_b5c013aad79dc936e95e45cea4018b27);\n",
       "            \n",
       "        \n",
       "\n",
       "        marker_a57d0fd7106be1b300f7056856cb77ee.bindPopup(popup_81374bdfbb9e2319af1e8e51dd61703d)\n",
       "        ;\n",
       "\n",
       "        \n",
       "    \n",
       "    \n",
       "            var marker_bfea2a45ad7f0fc5d0caf03091a6d133 = L.marker(\n",
       "                [-15.9320432171429, -48.109250444235066],\n",
       "                {}\n",
       "            ).addTo(map_ad52b4fd3c9ae4e3321d8005d0425d35);\n",
       "        \n",
       "    \n",
       "        var popup_1945b2f7da0d06164fd925fcfcc87fa2 = L.popup({&quot;maxWidth&quot;: &quot;100%&quot;});\n",
       "\n",
       "        \n",
       "            \n",
       "                var html_4df06eda30ea81c55d7a2ed583d9b064 = $(`&lt;div id=&quot;html_4df06eda30ea81c55d7a2ed583d9b064&quot; style=&quot;width: 100.0%; height: 100.0%;&quot;&gt;3950&lt;/div&gt;`)[0];\n",
       "                popup_1945b2f7da0d06164fd925fcfcc87fa2.setContent(html_4df06eda30ea81c55d7a2ed583d9b064);\n",
       "            \n",
       "        \n",
       "\n",
       "        marker_bfea2a45ad7f0fc5d0caf03091a6d133.bindPopup(popup_1945b2f7da0d06164fd925fcfcc87fa2)\n",
       "        ;\n",
       "\n",
       "        \n",
       "    \n",
       "    \n",
       "            var marker_a3b55899f45b55e53ec2eeb846a224d5 = L.marker(\n",
       "                [-15.930804360099163, -48.11051481546714],\n",
       "                {}\n",
       "            ).addTo(map_ad52b4fd3c9ae4e3321d8005d0425d35);\n",
       "        \n",
       "    \n",
       "        var popup_d4b7165be1779b13f36eae1ed39ce58a = L.popup({&quot;maxWidth&quot;: &quot;100%&quot;});\n",
       "\n",
       "        \n",
       "            \n",
       "                var html_c7e31ccf50db64b227a7d1ab14cabe05 = $(`&lt;div id=&quot;html_c7e31ccf50db64b227a7d1ab14cabe05&quot; style=&quot;width: 100.0%; height: 100.0%;&quot;&gt;3890&lt;/div&gt;`)[0];\n",
       "                popup_d4b7165be1779b13f36eae1ed39ce58a.setContent(html_c7e31ccf50db64b227a7d1ab14cabe05);\n",
       "            \n",
       "        \n",
       "\n",
       "        marker_a3b55899f45b55e53ec2eeb846a224d5.bindPopup(popup_d4b7165be1779b13f36eae1ed39ce58a)\n",
       "        ;\n",
       "\n",
       "        \n",
       "    \n",
       "    \n",
       "            var marker_6227f77d9482a26b53dd2b462154552a = L.marker(\n",
       "                [-15.821642039849799, -47.91868013956277],\n",
       "                {}\n",
       "            ).addTo(map_ad52b4fd3c9ae4e3321d8005d0425d35);\n",
       "        \n",
       "    \n",
       "        var popup_58f7930915be9587d582cad9e4c97ced = L.popup({&quot;maxWidth&quot;: &quot;100%&quot;});\n",
       "\n",
       "        \n",
       "            \n",
       "                var html_c7c950e95d98df146b14ca7776948099 = $(`&lt;div id=&quot;html_c7c950e95d98df146b14ca7776948099&quot; style=&quot;width: 100.0%; height: 100.0%;&quot;&gt;3568&lt;/div&gt;`)[0];\n",
       "                popup_58f7930915be9587d582cad9e4c97ced.setContent(html_c7c950e95d98df146b14ca7776948099);\n",
       "            \n",
       "        \n",
       "\n",
       "        marker_6227f77d9482a26b53dd2b462154552a.bindPopup(popup_58f7930915be9587d582cad9e4c97ced)\n",
       "        ;\n",
       "\n",
       "        \n",
       "    \n",
       "    \n",
       "            var marker_4669ea4cd33be08880dc606dc28aa943 = L.marker(\n",
       "                [-15.750807913099322, -47.8949281116755],\n",
       "                {}\n",
       "            ).addTo(map_ad52b4fd3c9ae4e3321d8005d0425d35);\n",
       "        \n",
       "    \n",
       "        var popup_35d59a4ef2dde2ea45a540a25736bcf6 = L.popup({&quot;maxWidth&quot;: &quot;100%&quot;});\n",
       "\n",
       "        \n",
       "            \n",
       "                var html_326474158f3e1dc5e5ac5a4409667b08 = $(`&lt;div id=&quot;html_326474158f3e1dc5e5ac5a4409667b08&quot; style=&quot;width: 100.0%; height: 100.0%;&quot;&gt;3516&lt;/div&gt;`)[0];\n",
       "                popup_35d59a4ef2dde2ea45a540a25736bcf6.setContent(html_326474158f3e1dc5e5ac5a4409667b08);\n",
       "            \n",
       "        \n",
       "\n",
       "        marker_4669ea4cd33be08880dc606dc28aa943.bindPopup(popup_35d59a4ef2dde2ea45a540a25736bcf6)\n",
       "        ;\n",
       "\n",
       "        \n",
       "    \n",
       "    \n",
       "            var marker_30717424cbb2bae4fb6f05583b879583 = L.marker(\n",
       "                [-15.753694998623457, -47.89400504430343],\n",
       "                {}\n",
       "            ).addTo(map_ad52b4fd3c9ae4e3321d8005d0425d35);\n",
       "        \n",
       "    \n",
       "        var popup_3dbb62ba41208036c4058dab821f129e = L.popup({&quot;maxWidth&quot;: &quot;100%&quot;});\n",
       "\n",
       "        \n",
       "            \n",
       "                var html_2cf71648dc335cd2fcfc93f95c7cf087 = $(`&lt;div id=&quot;html_2cf71648dc335cd2fcfc93f95c7cf087&quot; style=&quot;width: 100.0%; height: 100.0%;&quot;&gt;3515&lt;/div&gt;`)[0];\n",
       "                popup_3dbb62ba41208036c4058dab821f129e.setContent(html_2cf71648dc335cd2fcfc93f95c7cf087);\n",
       "            \n",
       "        \n",
       "\n",
       "        marker_30717424cbb2bae4fb6f05583b879583.bindPopup(popup_3dbb62ba41208036c4058dab821f129e)\n",
       "        ;\n",
       "\n",
       "        \n",
       "    \n",
       "    \n",
       "            var marker_0878b8f323cab96a2160960fea44d42a = L.marker(\n",
       "                [-15.760012169623284, -47.891976176212104],\n",
       "                {}\n",
       "            ).addTo(map_ad52b4fd3c9ae4e3321d8005d0425d35);\n",
       "        \n",
       "    \n",
       "        var popup_2ac8f821b3ef508a8a44b180a7273d91 = L.popup({&quot;maxWidth&quot;: &quot;100%&quot;});\n",
       "\n",
       "        \n",
       "            \n",
       "                var html_704745a38bf4554c83227b3739178fcd = $(`&lt;div id=&quot;html_704745a38bf4554c83227b3739178fcd&quot; style=&quot;width: 100.0%; height: 100.0%;&quot;&gt;3513&lt;/div&gt;`)[0];\n",
       "                popup_2ac8f821b3ef508a8a44b180a7273d91.setContent(html_704745a38bf4554c83227b3739178fcd);\n",
       "            \n",
       "        \n",
       "\n",
       "        marker_0878b8f323cab96a2160960fea44d42a.bindPopup(popup_2ac8f821b3ef508a8a44b180a7273d91)\n",
       "        ;\n",
       "\n",
       "        \n",
       "    \n",
       "    \n",
       "            var marker_d9e347644a184a86e1380aab3b264b20 = L.marker(\n",
       "                [-15.757033653547683, -47.89293900668162],\n",
       "                {}\n",
       "            ).addTo(map_ad52b4fd3c9ae4e3321d8005d0425d35);\n",
       "        \n",
       "    \n",
       "        var popup_920e346ce4a9d6fbf90d1597634a976b = L.popup({&quot;maxWidth&quot;: &quot;100%&quot;});\n",
       "\n",
       "        \n",
       "            \n",
       "                var html_22fcc2aa9ffa121a73c2a4651c8ee5be = $(`&lt;div id=&quot;html_22fcc2aa9ffa121a73c2a4651c8ee5be&quot; style=&quot;width: 100.0%; height: 100.0%;&quot;&gt;3514&lt;/div&gt;`)[0];\n",
       "                popup_920e346ce4a9d6fbf90d1597634a976b.setContent(html_22fcc2aa9ffa121a73c2a4651c8ee5be);\n",
       "            \n",
       "        \n",
       "\n",
       "        marker_d9e347644a184a86e1380aab3b264b20.bindPopup(popup_920e346ce4a9d6fbf90d1597634a976b)\n",
       "        ;\n",
       "\n",
       "        \n",
       "    \n",
       "    \n",
       "            var marker_8b23d8c24995cb35b410c29af3601e21 = L.marker(\n",
       "                [-15.780738695652959, -47.887459438755265],\n",
       "                {}\n",
       "            ).addTo(map_ad52b4fd3c9ae4e3321d8005d0425d35);\n",
       "        \n",
       "    \n",
       "        var popup_564a5310145265a60975de9552fa97f2 = L.popup({&quot;maxWidth&quot;: &quot;100%&quot;});\n",
       "\n",
       "        \n",
       "            \n",
       "                var html_7ae611d7b2c71e2772a246a5fde4657f = $(`&lt;div id=&quot;html_7ae611d7b2c71e2772a246a5fde4657f&quot; style=&quot;width: 100.0%; height: 100.0%;&quot;&gt;3506&lt;/div&gt;`)[0];\n",
       "                popup_564a5310145265a60975de9552fa97f2.setContent(html_7ae611d7b2c71e2772a246a5fde4657f);\n",
       "            \n",
       "        \n",
       "\n",
       "        marker_8b23d8c24995cb35b410c29af3601e21.bindPopup(popup_564a5310145265a60975de9552fa97f2)\n",
       "        ;\n",
       "\n",
       "        \n",
       "    \n",
       "    \n",
       "            var marker_076ae3441994b08b9623226130e847d2 = L.marker(\n",
       "                [-15.777509708768566, -47.88773230535398],\n",
       "                {}\n",
       "            ).addTo(map_ad52b4fd3c9ae4e3321d8005d0425d35);\n",
       "        \n",
       "    \n",
       "        var popup_034bda9268be0285ebfae316c089ce1b = L.popup({&quot;maxWidth&quot;: &quot;100%&quot;});\n",
       "\n",
       "        \n",
       "            \n",
       "                var html_bd551fd8bd1944ec597ef0252b643254 = $(`&lt;div id=&quot;html_bd551fd8bd1944ec597ef0252b643254&quot; style=&quot;width: 100.0%; height: 100.0%;&quot;&gt;3507&lt;/div&gt;`)[0];\n",
       "                popup_034bda9268be0285ebfae316c089ce1b.setContent(html_bd551fd8bd1944ec597ef0252b643254);\n",
       "            \n",
       "        \n",
       "\n",
       "        marker_076ae3441994b08b9623226130e847d2.bindPopup(popup_034bda9268be0285ebfae316c089ce1b)\n",
       "        ;\n",
       "\n",
       "        \n",
       "    \n",
       "    \n",
       "            var marker_01e75b9cfac79e11c8a7df382c52820d = L.marker(\n",
       "                [-15.80164148572705, -47.89444234052956],\n",
       "                {}\n",
       "            ).addTo(map_ad52b4fd3c9ae4e3321d8005d0425d35);\n",
       "        \n",
       "    \n",
       "        var popup_15482f8417275229eb7b7ec4cf284880 = L.popup({&quot;maxWidth&quot;: &quot;100%&quot;});\n",
       "\n",
       "        \n",
       "            \n",
       "                var html_53cbf2c9b8d9ddf50eb9b1bdc8c08696 = $(`&lt;div id=&quot;html_53cbf2c9b8d9ddf50eb9b1bdc8c08696&quot; style=&quot;width: 100.0%; height: 100.0%;&quot;&gt;3577&lt;/div&gt;`)[0];\n",
       "                popup_15482f8417275229eb7b7ec4cf284880.setContent(html_53cbf2c9b8d9ddf50eb9b1bdc8c08696);\n",
       "            \n",
       "        \n",
       "\n",
       "        marker_01e75b9cfac79e11c8a7df382c52820d.bindPopup(popup_15482f8417275229eb7b7ec4cf284880)\n",
       "        ;\n",
       "\n",
       "        \n",
       "    \n",
       "    \n",
       "            var marker_358146fb051066f7d0cfe063ec78bf56 = L.marker(\n",
       "                [-15.804051771822037, -47.89656602660574],\n",
       "                {}\n",
       "            ).addTo(map_ad52b4fd3c9ae4e3321d8005d0425d35);\n",
       "        \n",
       "    \n",
       "        var popup_14381140f49959691015d0b4503ac7ef = L.popup({&quot;maxWidth&quot;: &quot;100%&quot;});\n",
       "\n",
       "        \n",
       "            \n",
       "                var html_81e611134f4f3066d1493ea888d0f7d9 = $(`&lt;div id=&quot;html_81e611134f4f3066d1493ea888d0f7d9&quot; style=&quot;width: 100.0%; height: 100.0%;&quot;&gt;3576&lt;/div&gt;`)[0];\n",
       "                popup_14381140f49959691015d0b4503ac7ef.setContent(html_81e611134f4f3066d1493ea888d0f7d9);\n",
       "            \n",
       "        \n",
       "\n",
       "        marker_358146fb051066f7d0cfe063ec78bf56.bindPopup(popup_14381140f49959691015d0b4503ac7ef)\n",
       "        ;\n",
       "\n",
       "        \n",
       "    \n",
       "    \n",
       "            var marker_476e2ff6d26270fa03ea9b4d0ef72b4f = L.marker(\n",
       "                [-15.771152364468017, -47.88868146558276],\n",
       "                {}\n",
       "            ).addTo(map_ad52b4fd3c9ae4e3321d8005d0425d35);\n",
       "        \n",
       "    \n",
       "        var popup_69485477925a490cb236a0ec6759e1ae = L.popup({&quot;maxWidth&quot;: &quot;100%&quot;});\n",
       "\n",
       "        \n",
       "            \n",
       "                var html_125880cc3b15aa34a4e7766f45e43675 = $(`&lt;div id=&quot;html_125880cc3b15aa34a4e7766f45e43675&quot; style=&quot;width: 100.0%; height: 100.0%;&quot;&gt;3509&lt;/div&gt;`)[0];\n",
       "                popup_69485477925a490cb236a0ec6759e1ae.setContent(html_125880cc3b15aa34a4e7766f45e43675);\n",
       "            \n",
       "        \n",
       "\n",
       "        marker_476e2ff6d26270fa03ea9b4d0ef72b4f.bindPopup(popup_69485477925a490cb236a0ec6759e1ae)\n",
       "        ;\n",
       "\n",
       "        \n",
       "    \n",
       "    \n",
       "            var marker_8030e88e71cdfacf5222416b20d6217d = L.marker(\n",
       "                [-15.774801330614789, -47.88800228388125],\n",
       "                {}\n",
       "            ).addTo(map_ad52b4fd3c9ae4e3321d8005d0425d35);\n",
       "        \n",
       "    \n",
       "        var popup_b2765deb0b27c9946f79408fbeff9e4f = L.popup({&quot;maxWidth&quot;: &quot;100%&quot;});\n",
       "\n",
       "        \n",
       "            \n",
       "                var html_8ea2f13e0efb6224bd23cbd9b7e4a34e = $(`&lt;div id=&quot;html_8ea2f13e0efb6224bd23cbd9b7e4a34e&quot; style=&quot;width: 100.0%; height: 100.0%;&quot;&gt;3508&lt;/div&gt;`)[0];\n",
       "                popup_b2765deb0b27c9946f79408fbeff9e4f.setContent(html_8ea2f13e0efb6224bd23cbd9b7e4a34e);\n",
       "            \n",
       "        \n",
       "\n",
       "        marker_8030e88e71cdfacf5222416b20d6217d.bindPopup(popup_b2765deb0b27c9946f79408fbeff9e4f)\n",
       "        ;\n",
       "\n",
       "        \n",
       "    \n",
       "    \n",
       "            var marker_9be6b2211c3480b0628966fe84f119e0 = L.marker(\n",
       "                [-15.766141701235163, -47.890017882666925],\n",
       "                {}\n",
       "            ).addTo(map_ad52b4fd3c9ae4e3321d8005d0425d35);\n",
       "        \n",
       "    \n",
       "        var popup_ab3603761341188f9dcdc827b6fa5a66 = L.popup({&quot;maxWidth&quot;: &quot;100%&quot;});\n",
       "\n",
       "        \n",
       "            \n",
       "                var html_8d9194cb859e936b2790a2fde0b08b7c = $(`&lt;div id=&quot;html_8d9194cb859e936b2790a2fde0b08b7c&quot; style=&quot;width: 100.0%; height: 100.0%;&quot;&gt;3511&lt;/div&gt;`)[0];\n",
       "                popup_ab3603761341188f9dcdc827b6fa5a66.setContent(html_8d9194cb859e936b2790a2fde0b08b7c);\n",
       "            \n",
       "        \n",
       "\n",
       "        marker_9be6b2211c3480b0628966fe84f119e0.bindPopup(popup_ab3603761341188f9dcdc827b6fa5a66)\n",
       "        ;\n",
       "\n",
       "        \n",
       "    \n",
       "    \n",
       "            var marker_d424565c9020352a3aef6eeb51a6eb92 = L.marker(\n",
       "                [-15.763216046795371, -47.89095602356193],\n",
       "                {}\n",
       "            ).addTo(map_ad52b4fd3c9ae4e3321d8005d0425d35);\n",
       "        \n",
       "    \n",
       "        var popup_df21e457f98dbf56f4730a3892d057ae = L.popup({&quot;maxWidth&quot;: &quot;100%&quot;});\n",
       "\n",
       "        \n",
       "            \n",
       "                var html_6c944a760069367348a431b040adc418 = $(`&lt;div id=&quot;html_6c944a760069367348a431b040adc418&quot; style=&quot;width: 100.0%; height: 100.0%;&quot;&gt;3512&lt;/div&gt;`)[0];\n",
       "                popup_df21e457f98dbf56f4730a3892d057ae.setContent(html_6c944a760069367348a431b040adc418);\n",
       "            \n",
       "        \n",
       "\n",
       "        marker_d424565c9020352a3aef6eeb51a6eb92.bindPopup(popup_df21e457f98dbf56f4730a3892d057ae)\n",
       "        ;\n",
       "\n",
       "        \n",
       "    \n",
       "    \n",
       "            var marker_12fa505a60d427f655bd5ce62fd6ca71 = L.marker(\n",
       "                [-15.769141094278112, -47.88915290178694],\n",
       "                {}\n",
       "            ).addTo(map_ad52b4fd3c9ae4e3321d8005d0425d35);\n",
       "        \n",
       "    \n",
       "        var popup_e5216c3b613778f46c48c33f3a3d209f = L.popup({&quot;maxWidth&quot;: &quot;100%&quot;});\n",
       "\n",
       "        \n",
       "            \n",
       "                var html_bc13dd7972de28047408fc852daa83f6 = $(`&lt;div id=&quot;html_bc13dd7972de28047408fc852daa83f6&quot; style=&quot;width: 100.0%; height: 100.0%;&quot;&gt;3510&lt;/div&gt;`)[0];\n",
       "                popup_e5216c3b613778f46c48c33f3a3d209f.setContent(html_bc13dd7972de28047408fc852daa83f6);\n",
       "            \n",
       "        \n",
       "\n",
       "        marker_12fa505a60d427f655bd5ce62fd6ca71.bindPopup(popup_e5216c3b613778f46c48c33f3a3d209f)\n",
       "        ;\n",
       "\n",
       "        \n",
       "    \n",
       "    \n",
       "            var marker_1054bd304e45e0a70f61a8f85afe3b2b = L.marker(\n",
       "                [-15.817759322090723, -47.913306202798566],\n",
       "                {}\n",
       "            ).addTo(map_ad52b4fd3c9ae4e3321d8005d0425d35);\n",
       "        \n",
       "    \n",
       "        var popup_d69dad8a5d73d66bfb0567c04fff3933 = L.popup({&quot;maxWidth&quot;: &quot;100%&quot;});\n",
       "\n",
       "        \n",
       "            \n",
       "                var html_20b26705f25fe8127e010d17d870d9aa = $(`&lt;div id=&quot;html_20b26705f25fe8127e010d17d870d9aa&quot; style=&quot;width: 100.0%; height: 100.0%;&quot;&gt;3570&lt;/div&gt;`)[0];\n",
       "                popup_d69dad8a5d73d66bfb0567c04fff3933.setContent(html_20b26705f25fe8127e010d17d870d9aa);\n",
       "            \n",
       "        \n",
       "\n",
       "        marker_1054bd304e45e0a70f61a8f85afe3b2b.bindPopup(popup_d69dad8a5d73d66bfb0567c04fff3933)\n",
       "        ;\n",
       "\n",
       "        \n",
       "    \n",
       "    \n",
       "            var marker_636410783d9650c8084e88f7bfc3ba52 = L.marker(\n",
       "                [-15.819700430682687, -47.91599181258493],\n",
       "                {}\n",
       "            ).addTo(map_ad52b4fd3c9ae4e3321d8005d0425d35);\n",
       "        \n",
       "    \n",
       "        var popup_2e4ef3d2a495eca538ea7ee31de645bc = L.popup({&quot;maxWidth&quot;: &quot;100%&quot;});\n",
       "\n",
       "        \n",
       "            \n",
       "                var html_8f69e1a1b2470ddc31384da72f92bb63 = $(`&lt;div id=&quot;html_8f69e1a1b2470ddc31384da72f92bb63&quot; style=&quot;width: 100.0%; height: 100.0%;&quot;&gt;3569&lt;/div&gt;`)[0];\n",
       "                popup_2e4ef3d2a495eca538ea7ee31de645bc.setContent(html_8f69e1a1b2470ddc31384da72f92bb63);\n",
       "            \n",
       "        \n",
       "\n",
       "        marker_636410783d9650c8084e88f7bfc3ba52.bindPopup(popup_2e4ef3d2a495eca538ea7ee31de645bc)\n",
       "        ;\n",
       "\n",
       "        \n",
       "    \n",
       "    \n",
       "            var marker_2a64ff065b65c0d7fda3dd7756b613d6 = L.marker(\n",
       "                [-15.845543768544298, -47.92273446326752],\n",
       "                {}\n",
       "            ).addTo(map_ad52b4fd3c9ae4e3321d8005d0425d35);\n",
       "        \n",
       "    \n",
       "        var popup_c78b2245fa22f1d1cf71047caf845892 = L.popup({&quot;maxWidth&quot;: &quot;100%&quot;});\n",
       "\n",
       "        \n",
       "            \n",
       "                var html_fa080a3d96a010f800269608fda09ee6 = $(`&lt;div id=&quot;html_fa080a3d96a010f800269608fda09ee6&quot; style=&quot;width: 100.0%; height: 100.0%;&quot;&gt;3283&lt;/div&gt;`)[0];\n",
       "                popup_c78b2245fa22f1d1cf71047caf845892.setContent(html_fa080a3d96a010f800269608fda09ee6);\n",
       "            \n",
       "        \n",
       "\n",
       "        marker_2a64ff065b65c0d7fda3dd7756b613d6.bindPopup(popup_c78b2245fa22f1d1cf71047caf845892)\n",
       "        ;\n",
       "\n",
       "        \n",
       "    \n",
       "    \n",
       "            var marker_a64383b6bff2df16dc54a6f5d977660d = L.marker(\n",
       "                [-15.8446518918745, -47.91992587940996],\n",
       "                {}\n",
       "            ).addTo(map_ad52b4fd3c9ae4e3321d8005d0425d35);\n",
       "        \n",
       "    \n",
       "        var popup_8c84faf6fe5277a5aba4ee1099c82751 = L.popup({&quot;maxWidth&quot;: &quot;100%&quot;});\n",
       "\n",
       "        \n",
       "            \n",
       "                var html_0f81563870b1aead60c800674f2afe77 = $(`&lt;div id=&quot;html_0f81563870b1aead60c800674f2afe77&quot; style=&quot;width: 100.0%; height: 100.0%;&quot;&gt;3284&lt;/div&gt;`)[0];\n",
       "                popup_8c84faf6fe5277a5aba4ee1099c82751.setContent(html_0f81563870b1aead60c800674f2afe77);\n",
       "            \n",
       "        \n",
       "\n",
       "        marker_a64383b6bff2df16dc54a6f5d977660d.bindPopup(popup_8c84faf6fe5277a5aba4ee1099c82751)\n",
       "        ;\n",
       "\n",
       "        \n",
       "    \n",
       "    \n",
       "            var marker_8f79cb4d8d15806227a7cda5c9f0e374 = L.marker(\n",
       "                [-15.841132138484848, -47.92105110477898],\n",
       "                {}\n",
       "            ).addTo(map_ad52b4fd3c9ae4e3321d8005d0425d35);\n",
       "        \n",
       "    \n",
       "        var popup_4aad46461b7794a0afe359143ed8c553 = L.popup({&quot;maxWidth&quot;: &quot;100%&quot;});\n",
       "\n",
       "        \n",
       "            \n",
       "                var html_7d0a8342e0fa55530b8c5521205205f1 = $(`&lt;div id=&quot;html_7d0a8342e0fa55530b8c5521205205f1&quot; style=&quot;width: 100.0%; height: 100.0%;&quot;&gt;3281&lt;/div&gt;`)[0];\n",
       "                popup_4aad46461b7794a0afe359143ed8c553.setContent(html_7d0a8342e0fa55530b8c5521205205f1);\n",
       "            \n",
       "        \n",
       "\n",
       "        marker_8f79cb4d8d15806227a7cda5c9f0e374.bindPopup(popup_4aad46461b7794a0afe359143ed8c553)\n",
       "        ;\n",
       "\n",
       "        \n",
       "    \n",
       "    \n",
       "            var marker_54ba0e65f2ee6eb0818036f7f6bcbbfb = L.marker(\n",
       "                [-15.844839672077953, -47.9416497019183],\n",
       "                {}\n",
       "            ).addTo(map_ad52b4fd3c9ae4e3321d8005d0425d35);\n",
       "        \n",
       "    \n",
       "        var popup_bcd6efef60e3d1ae2ae9e8daad6f1c46 = L.popup({&quot;maxWidth&quot;: &quot;100%&quot;});\n",
       "\n",
       "        \n",
       "            \n",
       "                var html_caf4625c04f219b08cceeb3534ee4a03 = $(`&lt;div id=&quot;html_caf4625c04f219b08cceeb3534ee4a03&quot; style=&quot;width: 100.0%; height: 100.0%;&quot;&gt;3673&lt;/div&gt;`)[0];\n",
       "                popup_bcd6efef60e3d1ae2ae9e8daad6f1c46.setContent(html_caf4625c04f219b08cceeb3534ee4a03);\n",
       "            \n",
       "        \n",
       "\n",
       "        marker_54ba0e65f2ee6eb0818036f7f6bcbbfb.bindPopup(popup_bcd6efef60e3d1ae2ae9e8daad6f1c46)\n",
       "        ;\n",
       "\n",
       "        \n",
       "    \n",
       "    \n",
       "            var marker_9a3ba0a8e70b62744c5dd346a5a93b57 = L.marker(\n",
       "                [-15.787162382832602, -47.887918091709295],\n",
       "                {}\n",
       "            ).addTo(map_ad52b4fd3c9ae4e3321d8005d0425d35);\n",
       "        \n",
       "    \n",
       "        var popup_5fed4d48cbc67405a38a90d4d55433dc = L.popup({&quot;maxWidth&quot;: &quot;100%&quot;});\n",
       "\n",
       "        \n",
       "            \n",
       "                var html_5abb755c8e6aca9bf765a88375b0ae8f = $(`&lt;div id=&quot;html_5abb755c8e6aca9bf765a88375b0ae8f&quot; style=&quot;width: 100.0%; height: 100.0%;&quot;&gt;3504&lt;/div&gt;`)[0];\n",
       "                popup_5fed4d48cbc67405a38a90d4d55433dc.setContent(html_5abb755c8e6aca9bf765a88375b0ae8f);\n",
       "            \n",
       "        \n",
       "\n",
       "        marker_9a3ba0a8e70b62744c5dd346a5a93b57.bindPopup(popup_5fed4d48cbc67405a38a90d4d55433dc)\n",
       "        ;\n",
       "\n",
       "        \n",
       "    \n",
       "    \n",
       "            var marker_18415f4ea08bcab14f59f294c92ce0bc = L.marker(\n",
       "                [-15.783898226654156, -47.88744731247922],\n",
       "                {}\n",
       "            ).addTo(map_ad52b4fd3c9ae4e3321d8005d0425d35);\n",
       "        \n",
       "    \n",
       "        var popup_afb94e006ba24567b825062d71310d3a = L.popup({&quot;maxWidth&quot;: &quot;100%&quot;});\n",
       "\n",
       "        \n",
       "            \n",
       "                var html_e49ab3285115d5dfe1979664b9cb79af = $(`&lt;div id=&quot;html_e49ab3285115d5dfe1979664b9cb79af&quot; style=&quot;width: 100.0%; height: 100.0%;&quot;&gt;3505&lt;/div&gt;`)[0];\n",
       "                popup_afb94e006ba24567b825062d71310d3a.setContent(html_e49ab3285115d5dfe1979664b9cb79af);\n",
       "            \n",
       "        \n",
       "\n",
       "        marker_18415f4ea08bcab14f59f294c92ce0bc.bindPopup(popup_afb94e006ba24567b825062d71310d3a)\n",
       "        ;\n",
       "\n",
       "        \n",
       "    \n",
       "    \n",
       "            var marker_0eeef2e3164a60754a441ba7a4bd46f3 = L.marker(\n",
       "                [-15.857910143892939, -47.955659883758],\n",
       "                {}\n",
       "            ).addTo(map_ad52b4fd3c9ae4e3321d8005d0425d35);\n",
       "        \n",
       "    \n",
       "        var popup_8594339bd0e8de3165ea4f004626cd7a = L.popup({&quot;maxWidth&quot;: &quot;100%&quot;});\n",
       "\n",
       "        \n",
       "            \n",
       "                var html_1fa7a50f2806ada7e24ad102dee00e12 = $(`&lt;div id=&quot;html_1fa7a50f2806ada7e24ad102dee00e12&quot; style=&quot;width: 100.0%; height: 100.0%;&quot;&gt;1233&lt;/div&gt;`)[0];\n",
       "                popup_8594339bd0e8de3165ea4f004626cd7a.setContent(html_1fa7a50f2806ada7e24ad102dee00e12);\n",
       "            \n",
       "        \n",
       "\n",
       "        marker_0eeef2e3164a60754a441ba7a4bd46f3.bindPopup(popup_8594339bd0e8de3165ea4f004626cd7a)\n",
       "        ;\n",
       "\n",
       "        \n",
       "    \n",
       "    \n",
       "            var marker_98515930b7bb5c72618bed98a93271e2 = L.marker(\n",
       "                [-15.857273654816499, -47.95573359509429],\n",
       "                {}\n",
       "            ).addTo(map_ad52b4fd3c9ae4e3321d8005d0425d35);\n",
       "        \n",
       "    \n",
       "        var popup_64b6561c0f34217d6fb3a363016974fe = L.popup({&quot;maxWidth&quot;: &quot;100%&quot;});\n",
       "\n",
       "        \n",
       "            \n",
       "                var html_1fdf4b94fab19dc81954e2f2941ca420 = $(`&lt;div id=&quot;html_1fdf4b94fab19dc81954e2f2941ca420&quot; style=&quot;width: 100.0%; height: 100.0%;&quot;&gt;1234&lt;/div&gt;`)[0];\n",
       "                popup_64b6561c0f34217d6fb3a363016974fe.setContent(html_1fdf4b94fab19dc81954e2f2941ca420);\n",
       "            \n",
       "        \n",
       "\n",
       "        marker_98515930b7bb5c72618bed98a93271e2.bindPopup(popup_64b6561c0f34217d6fb3a363016974fe)\n",
       "        ;\n",
       "\n",
       "        \n",
       "    \n",
       "    \n",
       "            var marker_f712f0e128dd31287e6e9a589e7c489c = L.marker(\n",
       "                [-15.879045439663862, -48.05214416419446],\n",
       "                {}\n",
       "            ).addTo(map_ad52b4fd3c9ae4e3321d8005d0425d35);\n",
       "        \n",
       "    \n",
       "        var popup_ea31f139c653d75ddb69a5c1729f8bbd = L.popup({&quot;maxWidth&quot;: &quot;100%&quot;});\n",
       "\n",
       "        \n",
       "            \n",
       "                var html_634bdf458b124438fb5fa64b148e82bc = $(`&lt;div id=&quot;html_634bdf458b124438fb5fa64b148e82bc&quot; style=&quot;width: 100.0%; height: 100.0%;&quot;&gt;4017&lt;/div&gt;`)[0];\n",
       "                popup_ea31f139c653d75ddb69a5c1729f8bbd.setContent(html_634bdf458b124438fb5fa64b148e82bc);\n",
       "            \n",
       "        \n",
       "\n",
       "        marker_f712f0e128dd31287e6e9a589e7c489c.bindPopup(popup_ea31f139c653d75ddb69a5c1729f8bbd)\n",
       "        ;\n",
       "\n",
       "        \n",
       "    \n",
       "    \n",
       "            var marker_b9e11f9f3d97bef5341e891436d676f7 = L.marker(\n",
       "                [-15.901506000000001, -48.056244],\n",
       "                {}\n",
       "            ).addTo(map_ad52b4fd3c9ae4e3321d8005d0425d35);\n",
       "        \n",
       "    \n",
       "        var popup_8f902687106023258a92057f5290d7f7 = L.popup({&quot;maxWidth&quot;: &quot;100%&quot;});\n",
       "\n",
       "        \n",
       "            \n",
       "                var html_adecbf748cb840559ecf9060d84c5ec7 = $(`&lt;div id=&quot;html_adecbf748cb840559ecf9060d84c5ec7&quot; style=&quot;width: 100.0%; height: 100.0%;&quot;&gt;7889&lt;/div&gt;`)[0];\n",
       "                popup_8f902687106023258a92057f5290d7f7.setContent(html_adecbf748cb840559ecf9060d84c5ec7);\n",
       "            \n",
       "        \n",
       "\n",
       "        marker_b9e11f9f3d97bef5341e891436d676f7.bindPopup(popup_8f902687106023258a92057f5290d7f7)\n",
       "        ;\n",
       "\n",
       "        \n",
       "    \n",
       "    \n",
       "            var marker_85448017ecf602828e00e8a2157bb5a3 = L.marker(\n",
       "                [-15.901506000000001, -48.056244],\n",
       "                {}\n",
       "            ).addTo(map_ad52b4fd3c9ae4e3321d8005d0425d35);\n",
       "        \n",
       "    \n",
       "        var popup_85dc68a48861ed05654cea3a47ce78c0 = L.popup({&quot;maxWidth&quot;: &quot;100%&quot;});\n",
       "\n",
       "        \n",
       "            \n",
       "                var html_82169b11b6c9636a0153b195fe8972e8 = $(`&lt;div id=&quot;html_82169b11b6c9636a0153b195fe8972e8&quot; style=&quot;width: 100.0%; height: 100.0%;&quot;&gt;7890&lt;/div&gt;`)[0];\n",
       "                popup_85dc68a48861ed05654cea3a47ce78c0.setContent(html_82169b11b6c9636a0153b195fe8972e8);\n",
       "            \n",
       "        \n",
       "\n",
       "        marker_85448017ecf602828e00e8a2157bb5a3.bindPopup(popup_85dc68a48861ed05654cea3a47ce78c0)\n",
       "        ;\n",
       "\n",
       "        \n",
       "    \n",
       "    \n",
       "            var marker_1cffd4ee7a7c4a7ef85393c84ca2bfbc = L.marker(\n",
       "                [-15.90324937694194, -48.06200257905907],\n",
       "                {}\n",
       "            ).addTo(map_ad52b4fd3c9ae4e3321d8005d0425d35);\n",
       "        \n",
       "    \n",
       "        var popup_45a9657e8d9da471f5e1c40de1229021 = L.popup({&quot;maxWidth&quot;: &quot;100%&quot;});\n",
       "\n",
       "        \n",
       "            \n",
       "                var html_32f3f9a3d55881652350820abc7dd39f = $(`&lt;div id=&quot;html_32f3f9a3d55881652350820abc7dd39f&quot; style=&quot;width: 100.0%; height: 100.0%;&quot;&gt;3908&lt;/div&gt;`)[0];\n",
       "                popup_45a9657e8d9da471f5e1c40de1229021.setContent(html_32f3f9a3d55881652350820abc7dd39f);\n",
       "            \n",
       "        \n",
       "\n",
       "        marker_1cffd4ee7a7c4a7ef85393c84ca2bfbc.bindPopup(popup_45a9657e8d9da471f5e1c40de1229021)\n",
       "        ;\n",
       "\n",
       "        \n",
       "    \n",
       "    \n",
       "            var marker_a510e2b97cb92c8d1de8a9280b65ce47 = L.marker(\n",
       "                [-15.90217438952289, -48.05847149849638],\n",
       "                {}\n",
       "            ).addTo(map_ad52b4fd3c9ae4e3321d8005d0425d35);\n",
       "        \n",
       "    \n",
       "        var popup_7cc4b029968c207149a0510079854f97 = L.popup({&quot;maxWidth&quot;: &quot;100%&quot;});\n",
       "\n",
       "        \n",
       "            \n",
       "                var html_4aef124618392bb7814c58c2b8739777 = $(`&lt;div id=&quot;html_4aef124618392bb7814c58c2b8739777&quot; style=&quot;width: 100.0%; height: 100.0%;&quot;&gt;3909&lt;/div&gt;`)[0];\n",
       "                popup_7cc4b029968c207149a0510079854f97.setContent(html_4aef124618392bb7814c58c2b8739777);\n",
       "            \n",
       "        \n",
       "\n",
       "        marker_a510e2b97cb92c8d1de8a9280b65ce47.bindPopup(popup_7cc4b029968c207149a0510079854f97)\n",
       "        ;\n",
       "\n",
       "        \n",
       "    \n",
       "    \n",
       "            var marker_0afd62b2ac0eb03aaad4c66c8f9342ee = L.marker(\n",
       "                [-15.901517401438511, -48.056316032829415],\n",
       "                {}\n",
       "            ).addTo(map_ad52b4fd3c9ae4e3321d8005d0425d35);\n",
       "        \n",
       "    \n",
       "        var popup_ef91698b62c82bf24e3d8ad1e2aefe4f = L.popup({&quot;maxWidth&quot;: &quot;100%&quot;});\n",
       "\n",
       "        \n",
       "            \n",
       "                var html_ce643389ba74402dd7d85028e27a7c69 = $(`&lt;div id=&quot;html_ce643389ba74402dd7d85028e27a7c69&quot; style=&quot;width: 100.0%; height: 100.0%;&quot;&gt;3910&lt;/div&gt;`)[0];\n",
       "                popup_ef91698b62c82bf24e3d8ad1e2aefe4f.setContent(html_ce643389ba74402dd7d85028e27a7c69);\n",
       "            \n",
       "        \n",
       "\n",
       "        marker_0afd62b2ac0eb03aaad4c66c8f9342ee.bindPopup(popup_ef91698b62c82bf24e3d8ad1e2aefe4f)\n",
       "        ;\n",
       "\n",
       "        \n",
       "    \n",
       "    \n",
       "            var marker_572e5d7672297f61ad4eff6447cb63b1 = L.marker(\n",
       "                [-15.79657539360549, -47.89113634914568],\n",
       "                {}\n",
       "            ).addTo(map_ad52b4fd3c9ae4e3321d8005d0425d35);\n",
       "        \n",
       "    \n",
       "        var popup_69ab60c55e263dd607c1b398600a0a7f = L.popup({&quot;maxWidth&quot;: &quot;100%&quot;});\n",
       "\n",
       "        \n",
       "            \n",
       "                var html_cb989c09711b5c1ab8d0eece6b5970c4 = $(`&lt;div id=&quot;html_cb989c09711b5c1ab8d0eece6b5970c4&quot; style=&quot;width: 100.0%; height: 100.0%;&quot;&gt;3579&lt;/div&gt;`)[0];\n",
       "                popup_69ab60c55e263dd607c1b398600a0a7f.setContent(html_cb989c09711b5c1ab8d0eece6b5970c4);\n",
       "            \n",
       "        \n",
       "\n",
       "        marker_572e5d7672297f61ad4eff6447cb63b1.bindPopup(popup_69ab60c55e263dd607c1b398600a0a7f)\n",
       "        ;\n",
       "\n",
       "        \n",
       "    \n",
       "    \n",
       "            var marker_da743a58d80538b701f5d9503bb5d5a6 = L.marker(\n",
       "                [-15.798567538343542, -47.89219857275555],\n",
       "                {}\n",
       "            ).addTo(map_ad52b4fd3c9ae4e3321d8005d0425d35);\n",
       "        \n",
       "    \n",
       "        var popup_fecfe0904cb7117273837047258f37dc = L.popup({&quot;maxWidth&quot;: &quot;100%&quot;});\n",
       "\n",
       "        \n",
       "            \n",
       "                var html_62fc0b5775da190cb84e6e158cba1b40 = $(`&lt;div id=&quot;html_62fc0b5775da190cb84e6e158cba1b40&quot; style=&quot;width: 100.0%; height: 100.0%;&quot;&gt;3578&lt;/div&gt;`)[0];\n",
       "                popup_fecfe0904cb7117273837047258f37dc.setContent(html_62fc0b5775da190cb84e6e158cba1b40);\n",
       "            \n",
       "        \n",
       "\n",
       "        marker_da743a58d80538b701f5d9503bb5d5a6.bindPopup(popup_fecfe0904cb7117273837047258f37dc)\n",
       "        ;\n",
       "\n",
       "        \n",
       "    \n",
       "    \n",
       "            var marker_756e97bba09fa04bea5c591fd6deedd5 = L.marker(\n",
       "                [-15.823589739821033, -47.92137852239049],\n",
       "                {}\n",
       "            ).addTo(map_ad52b4fd3c9ae4e3321d8005d0425d35);\n",
       "        \n",
       "    \n",
       "        var popup_f4b789270c308570292945b475caff06 = L.popup({&quot;maxWidth&quot;: &quot;100%&quot;});\n",
       "\n",
       "        \n",
       "            \n",
       "                var html_306077fdee922ec7fc1364ee57b7f812 = $(`&lt;div id=&quot;html_306077fdee922ec7fc1364ee57b7f812&quot; style=&quot;width: 100.0%; height: 100.0%;&quot;&gt;3567&lt;/div&gt;`)[0];\n",
       "                popup_f4b789270c308570292945b475caff06.setContent(html_306077fdee922ec7fc1364ee57b7f812);\n",
       "            \n",
       "        \n",
       "\n",
       "        marker_756e97bba09fa04bea5c591fd6deedd5.bindPopup(popup_f4b789270c308570292945b475caff06)\n",
       "        ;\n",
       "\n",
       "        \n",
       "    \n",
       "    \n",
       "            var marker_593babee71a7c9e1b7bb483a6d515aa0 = L.marker(\n",
       "                [-15.825534276356807, -47.92407131326225],\n",
       "                {}\n",
       "            ).addTo(map_ad52b4fd3c9ae4e3321d8005d0425d35);\n",
       "        \n",
       "    \n",
       "        var popup_620c08fc7c27cccdff17f8bd548ac925 = L.popup({&quot;maxWidth&quot;: &quot;100%&quot;});\n",
       "\n",
       "        \n",
       "            \n",
       "                var html_f5c3f5dc0159b14412e9e82d13b44935 = $(`&lt;div id=&quot;html_f5c3f5dc0159b14412e9e82d13b44935&quot; style=&quot;width: 100.0%; height: 100.0%;&quot;&gt;3566&lt;/div&gt;`)[0];\n",
       "                popup_620c08fc7c27cccdff17f8bd548ac925.setContent(html_f5c3f5dc0159b14412e9e82d13b44935);\n",
       "            \n",
       "        \n",
       "\n",
       "        marker_593babee71a7c9e1b7bb483a6d515aa0.bindPopup(popup_620c08fc7c27cccdff17f8bd548ac925)\n",
       "        ;\n",
       "\n",
       "        \n",
       "    \n",
       "    \n",
       "            var marker_7929d3017e33be4f9b451335df87b8d9 = L.marker(\n",
       "                [-15.827472215930385, -47.92675051633629],\n",
       "                {}\n",
       "            ).addTo(map_ad52b4fd3c9ae4e3321d8005d0425d35);\n",
       "        \n",
       "    \n",
       "        var popup_cb0d3a4a7c5761efbe6b1890b7321df5 = L.popup({&quot;maxWidth&quot;: &quot;100%&quot;});\n",
       "\n",
       "        \n",
       "            \n",
       "                var html_ffc52dbf606a35eeea2a660c934c2802 = $(`&lt;div id=&quot;html_ffc52dbf606a35eeea2a660c934c2802&quot; style=&quot;width: 100.0%; height: 100.0%;&quot;&gt;3565&lt;/div&gt;`)[0];\n",
       "                popup_cb0d3a4a7c5761efbe6b1890b7321df5.setContent(html_ffc52dbf606a35eeea2a660c934c2802);\n",
       "            \n",
       "        \n",
       "\n",
       "        marker_7929d3017e33be4f9b451335df87b8d9.bindPopup(popup_cb0d3a4a7c5761efbe6b1890b7321df5)\n",
       "        ;\n",
       "\n",
       "        \n",
       "    \n",
       "    \n",
       "            var marker_c340b9ada0dba25199052a7b67d47ce4 = L.marker(\n",
       "                [-15.808200459104249, -47.90064052596685],\n",
       "                {}\n",
       "            ).addTo(map_ad52b4fd3c9ae4e3321d8005d0425d35);\n",
       "        \n",
       "    \n",
       "        var popup_9c675051aaf11ca81afa6e9a886456d2 = L.popup({&quot;maxWidth&quot;: &quot;100%&quot;});\n",
       "\n",
       "        \n",
       "            \n",
       "                var html_60891cc74e115cbb0d8dbf69d327b2c3 = $(`&lt;div id=&quot;html_60891cc74e115cbb0d8dbf69d327b2c3&quot; style=&quot;width: 100.0%; height: 100.0%;&quot;&gt;3574&lt;/div&gt;`)[0];\n",
       "                popup_9c675051aaf11ca81afa6e9a886456d2.setContent(html_60891cc74e115cbb0d8dbf69d327b2c3);\n",
       "            \n",
       "        \n",
       "\n",
       "        marker_c340b9ada0dba25199052a7b67d47ce4.bindPopup(popup_9c675051aaf11ca81afa6e9a886456d2)\n",
       "        ;\n",
       "\n",
       "        \n",
       "    \n",
       "    \n",
       "            var marker_3e035df8fc43708314d5f48c3591aa84 = L.marker(\n",
       "                [-15.806247857893846, -47.898621300099805],\n",
       "                {}\n",
       "            ).addTo(map_ad52b4fd3c9ae4e3321d8005d0425d35);\n",
       "        \n",
       "    \n",
       "        var popup_e570531720c59c4e24030604aa6e9254 = L.popup({&quot;maxWidth&quot;: &quot;100%&quot;});\n",
       "\n",
       "        \n",
       "            \n",
       "                var html_f43de8bdd9c5af1507de0a9da815e17c = $(`&lt;div id=&quot;html_f43de8bdd9c5af1507de0a9da815e17c&quot; style=&quot;width: 100.0%; height: 100.0%;&quot;&gt;3575&lt;/div&gt;`)[0];\n",
       "                popup_e570531720c59c4e24030604aa6e9254.setContent(html_f43de8bdd9c5af1507de0a9da815e17c);\n",
       "            \n",
       "        \n",
       "\n",
       "        marker_3e035df8fc43708314d5f48c3591aa84.bindPopup(popup_e570531720c59c4e24030604aa6e9254)\n",
       "        ;\n",
       "\n",
       "        \n",
       "    \n",
       "    \n",
       "            var marker_3566ae27fae74961a6055bd4815f1660 = L.marker(\n",
       "                [-15.811932091357574, -47.90526178698546],\n",
       "                {}\n",
       "            ).addTo(map_ad52b4fd3c9ae4e3321d8005d0425d35);\n",
       "        \n",
       "    \n",
       "        var popup_80a1ea22de60f3316aa1dbb5ed8b80ea = L.popup({&quot;maxWidth&quot;: &quot;100%&quot;});\n",
       "\n",
       "        \n",
       "            \n",
       "                var html_1d51741a4248c89bb4034efba957f179 = $(`&lt;div id=&quot;html_1d51741a4248c89bb4034efba957f179&quot; style=&quot;width: 100.0%; height: 100.0%;&quot;&gt;3573&lt;/div&gt;`)[0];\n",
       "                popup_80a1ea22de60f3316aa1dbb5ed8b80ea.setContent(html_1d51741a4248c89bb4034efba957f179);\n",
       "            \n",
       "        \n",
       "\n",
       "        marker_3566ae27fae74961a6055bd4815f1660.bindPopup(popup_80a1ea22de60f3316aa1dbb5ed8b80ea)\n",
       "        ;\n",
       "\n",
       "        \n",
       "    \n",
       "    \n",
       "            var marker_16d65b697a585d2784e0bbe64b2916c3 = L.marker(\n",
       "                [-15.815806945688909, -47.91059247958316],\n",
       "                {}\n",
       "            ).addTo(map_ad52b4fd3c9ae4e3321d8005d0425d35);\n",
       "        \n",
       "    \n",
       "        var popup_0d06634c552c50cf7f8860dd3d2e4675 = L.popup({&quot;maxWidth&quot;: &quot;100%&quot;});\n",
       "\n",
       "        \n",
       "            \n",
       "                var html_d8e48e96ce73f92201a21775ce2035c2 = $(`&lt;div id=&quot;html_d8e48e96ce73f92201a21775ce2035c2&quot; style=&quot;width: 100.0%; height: 100.0%;&quot;&gt;3571&lt;/div&gt;`)[0];\n",
       "                popup_0d06634c552c50cf7f8860dd3d2e4675.setContent(html_d8e48e96ce73f92201a21775ce2035c2);\n",
       "            \n",
       "        \n",
       "\n",
       "        marker_16d65b697a585d2784e0bbe64b2916c3.bindPopup(popup_0d06634c552c50cf7f8860dd3d2e4675)\n",
       "        ;\n",
       "\n",
       "        \n",
       "    \n",
       "    \n",
       "            var marker_737f77bcf8407ad7779ff84878db6792 = L.marker(\n",
       "                [-15.813865081730327, -47.90790781376469],\n",
       "                {}\n",
       "            ).addTo(map_ad52b4fd3c9ae4e3321d8005d0425d35);\n",
       "        \n",
       "    \n",
       "        var popup_c008e8c5cc51a7998f9105e91482a83d = L.popup({&quot;maxWidth&quot;: &quot;100%&quot;});\n",
       "\n",
       "        \n",
       "            \n",
       "                var html_f844c79be86143e12bb2746ffeab6562 = $(`&lt;div id=&quot;html_f844c79be86143e12bb2746ffeab6562&quot; style=&quot;width: 100.0%; height: 100.0%;&quot;&gt;3572&lt;/div&gt;`)[0];\n",
       "                popup_c008e8c5cc51a7998f9105e91482a83d.setContent(html_f844c79be86143e12bb2746ffeab6562);\n",
       "            \n",
       "        \n",
       "\n",
       "        marker_737f77bcf8407ad7779ff84878db6792.bindPopup(popup_c008e8c5cc51a7998f9105e91482a83d)\n",
       "        ;\n",
       "\n",
       "        \n",
       "    \n",
       "    \n",
       "            var marker_2abd8cf1017b9a712f4f5aac8125c06d = L.marker(\n",
       "                [-15.73541921559784, -47.897317053648564],\n",
       "                {}\n",
       "            ).addTo(map_ad52b4fd3c9ae4e3321d8005d0425d35);\n",
       "        \n",
       "    \n",
       "        var popup_a33cba047cdff7678e4dda56e3fe7d51 = L.popup({&quot;maxWidth&quot;: &quot;100%&quot;});\n",
       "\n",
       "        \n",
       "            \n",
       "                var html_21da95ba75025762d0a4313f1c8acf4f = $(`&lt;div id=&quot;html_21da95ba75025762d0a4313f1c8acf4f&quot; style=&quot;width: 100.0%; height: 100.0%;&quot;&gt;3470&lt;/div&gt;`)[0];\n",
       "                popup_a33cba047cdff7678e4dda56e3fe7d51.setContent(html_21da95ba75025762d0a4313f1c8acf4f);\n",
       "            \n",
       "        \n",
       "\n",
       "        marker_2abd8cf1017b9a712f4f5aac8125c06d.bindPopup(popup_a33cba047cdff7678e4dda56e3fe7d51)\n",
       "        ;\n",
       "\n",
       "        \n",
       "    \n",
       "    \n",
       "            var marker_86b48b98cbbb83000f1ce96606f42704 = L.marker(\n",
       "                [-15.737021646013647, -47.89837691322528],\n",
       "                {}\n",
       "            ).addTo(map_ad52b4fd3c9ae4e3321d8005d0425d35);\n",
       "        \n",
       "    \n",
       "        var popup_7db09ece75b8b5661d94469e5602fc62 = L.popup({&quot;maxWidth&quot;: &quot;100%&quot;});\n",
       "\n",
       "        \n",
       "            \n",
       "                var html_b25340fe58f6076c4697f0ab4bc9c8c5 = $(`&lt;div id=&quot;html_b25340fe58f6076c4697f0ab4bc9c8c5&quot; style=&quot;width: 100.0%; height: 100.0%;&quot;&gt;3520&lt;/div&gt;`)[0];\n",
       "                popup_7db09ece75b8b5661d94469e5602fc62.setContent(html_b25340fe58f6076c4697f0ab4bc9c8c5);\n",
       "            \n",
       "        \n",
       "\n",
       "        marker_86b48b98cbbb83000f1ce96606f42704.bindPopup(popup_7db09ece75b8b5661d94469e5602fc62)\n",
       "        ;\n",
       "\n",
       "        \n",
       "    \n",
       "    \n",
       "            var marker_067856a87a38739214e02857a0dcfa94 = L.marker(\n",
       "                [-15.741101319354277, -47.898045528987495],\n",
       "                {}\n",
       "            ).addTo(map_ad52b4fd3c9ae4e3321d8005d0425d35);\n",
       "        \n",
       "    \n",
       "        var popup_225af26f58f5681658b1bbaa3aded880 = L.popup({&quot;maxWidth&quot;: &quot;100%&quot;});\n",
       "\n",
       "        \n",
       "            \n",
       "                var html_fbe91cb62871cf8f28af90247e8ff44d = $(`&lt;div id=&quot;html_fbe91cb62871cf8f28af90247e8ff44d&quot; style=&quot;width: 100.0%; height: 100.0%;&quot;&gt;3519&lt;/div&gt;`)[0];\n",
       "                popup_225af26f58f5681658b1bbaa3aded880.setContent(html_fbe91cb62871cf8f28af90247e8ff44d);\n",
       "            \n",
       "        \n",
       "\n",
       "        marker_067856a87a38739214e02857a0dcfa94.bindPopup(popup_225af26f58f5681658b1bbaa3aded880)\n",
       "        ;\n",
       "\n",
       "        \n",
       "    \n",
       "    \n",
       "            var marker_ffd1e8eaa82b6bdfb38e43064fd2a896 = L.marker(\n",
       "                [-15.744621728383612, -47.8969247962739],\n",
       "                {}\n",
       "            ).addTo(map_ad52b4fd3c9ae4e3321d8005d0425d35);\n",
       "        \n",
       "    \n",
       "        var popup_865b0b873ed5020020e201a60c68abd1 = L.popup({&quot;maxWidth&quot;: &quot;100%&quot;});\n",
       "\n",
       "        \n",
       "            \n",
       "                var html_595f8582b1c958eb50cda283d54ee331 = $(`&lt;div id=&quot;html_595f8582b1c958eb50cda283d54ee331&quot; style=&quot;width: 100.0%; height: 100.0%;&quot;&gt;3518&lt;/div&gt;`)[0];\n",
       "                popup_865b0b873ed5020020e201a60c68abd1.setContent(html_595f8582b1c958eb50cda283d54ee331);\n",
       "            \n",
       "        \n",
       "\n",
       "        marker_ffd1e8eaa82b6bdfb38e43064fd2a896.bindPopup(popup_865b0b873ed5020020e201a60c68abd1)\n",
       "        ;\n",
       "\n",
       "        \n",
       "    \n",
       "&lt;/script&gt;\n",
       "&lt;/html&gt;\" style=\"position:absolute;width:100%;height:100%;left:0;top:0;border:none !important;\" allowfullscreen webkitallowfullscreen mozallowfullscreen></iframe></div></div>"
      ],
      "text/plain": [
       "<folium.folium.Map at 0x7ff4c4c6e810>"
      ]
     },
     "execution_count": 42,
     "metadata": {},
     "output_type": "execute_result"
    }
   ],
   "source": [
    "import geopandas as gpd\n",
    "from shapely.geometry import LineString, Point\n",
    "import folium\n",
    "\n",
    "# Criar o objeto Linestring\n",
    "linestringRecanto = linestringRecanto.to_crs('EPSG:4326')\n",
    "\n",
    "# Obter o objeto LineString a partir da coluna \"geometry\" do DataFrame\n",
    "linestring = linestringRecanto.geometry.iloc[0]\n",
    "\n",
    "# Lista para armazenar as paradas encontradas\n",
    "paradas_encontradas = []\n",
    "\n",
    "# Função para aproximar as coordenadas para 2 casas decimais\n",
    "\n",
    "#def aproximar_coordenadas(coord):\n",
    "#    return round(coord, )\n",
    "\n",
    "# Definir o limite de proximidade aceitável (em graus)\n",
    "limite_proximidade = 0.0002\n",
    "\n",
    "#Iterar sobre os pontos de paradas e verificar se estão próximos da Linestring\n",
    "for idx, ponto_parada in paradas.iterrows():\n",
    "    ponto = ponto_parada[\"geometry\"]\n",
    "    distancia = linestring.distance(ponto)\n",
    "    if distancia <= limite_proximidade:\n",
    "        paradas_encontradas.append(ponto_parada)\n",
    "\n",
    "\n",
    "# Criar um novo GeoDataFrame com as paradas encontradas\n",
    "gdf_paradas_encontradas = gpd.GeoDataFrame(paradas_encontradas, crs='EPSG:4326')\n",
    "display(gdf_paradas_encontradas)\n",
    "# Plotar as paradas de ônibus no mapa com o Folium\n",
    "m = folium.Map(location=[-15.76050, -47.78134], zoom_start=10)\n",
    "\n",
    "for idx, ponto_parada in gdf_paradas_encontradas.iterrows():\n",
    "    lat, lon = ponto_parada[\"geometry\"].y, ponto_parada[\"geometry\"].x\n",
    "    folium.Marker([lat, lon], popup=ponto_parada['parada']).add_to(m)\n",
    "\n",
    "# Mostrar o mapa com as paradas de ônibus\n",
    "m.save('mapa_paradas_onibus.html')\n",
    "m"
   ]
  },
  {
   "cell_type": "code",
   "execution_count": 43,
   "metadata": {},
   "outputs": [
    {
     "data": {
      "text/plain": [
       "'0.018'"
      ]
     },
     "metadata": {},
     "output_type": "display_data"
    },
    {
     "data": {
      "text/plain": [
       "'0.946'"
      ]
     },
     "metadata": {},
     "output_type": "display_data"
    },
    {
     "data": {
      "text/plain": [
       "'0.373'"
      ]
     },
     "metadata": {},
     "output_type": "display_data"
    },
    {
     "data": {
      "text/plain": [
       "'503.3'"
      ]
     },
     "metadata": {},
     "output_type": "display_data"
    },
    {
     "data": {
      "text/plain": [
       "'531.1'"
      ]
     },
     "metadata": {},
     "output_type": "display_data"
    },
    {
     "data": {
      "text/plain": [
       "'0.851'"
      ]
     },
     "metadata": {},
     "output_type": "display_data"
    },
    {
     "data": {
      "text/plain": [
       "'330.1'"
      ]
     },
     "metadata": {},
     "output_type": "display_data"
    },
    {
     "data": {
      "text/plain": [
       "'0.522'"
      ]
     },
     "metadata": {},
     "output_type": "display_data"
    },
    {
     "data": {
      "text/plain": [
       "'519.3'"
      ]
     },
     "metadata": {},
     "output_type": "display_data"
    },
    {
     "data": {
      "text/plain": [
       "'0.520'"
      ]
     },
     "metadata": {},
     "output_type": "display_data"
    },
    {
     "data": {
      "text/plain": [
       "'932.4'"
      ]
     },
     "metadata": {},
     "output_type": "display_data"
    },
    {
     "data": {
      "text/plain": [
       "'0.550'"
      ]
     },
     "metadata": {},
     "output_type": "display_data"
    },
    {
     "data": {
      "text/plain": [
       "'0.853'"
      ]
     },
     "metadata": {},
     "output_type": "display_data"
    },
    {
     "data": {
      "text/plain": [
       "'0.882'"
      ]
     },
     "metadata": {},
     "output_type": "display_data"
    },
    {
     "data": {
      "text/plain": [
       "'807.4'"
      ]
     },
     "metadata": {},
     "output_type": "display_data"
    },
    {
     "data": {
      "text/plain": [
       "'617.2'"
      ]
     },
     "metadata": {},
     "output_type": "display_data"
    },
    {
     "data": {
      "text/plain": [
       "'920.4'"
      ]
     },
     "metadata": {},
     "output_type": "display_data"
    },
    {
     "data": {
      "text/plain": [
       "'0.883'"
      ]
     },
     "metadata": {},
     "output_type": "display_data"
    },
    {
     "data": {
      "text/plain": [
       "'156.7'"
      ]
     },
     "metadata": {},
     "output_type": "display_data"
    },
    {
     "data": {
      "text/plain": [
       "'1001'"
      ]
     },
     "metadata": {},
     "output_type": "display_data"
    },
    {
     "data": {
      "text/plain": [
       "'515.6'"
      ]
     },
     "metadata": {},
     "output_type": "display_data"
    },
    {
     "data": {
      "text/plain": [
       "'506.4'"
      ]
     },
     "metadata": {},
     "output_type": "display_data"
    },
    {
     "data": {
      "text/plain": [
       "'2205'"
      ]
     },
     "metadata": {},
     "output_type": "display_data"
    },
    {
     "data": {
      "text/plain": [
       "'0.958'"
      ]
     },
     "metadata": {},
     "output_type": "display_data"
    },
    {
     "data": {
      "text/plain": [
       "'0.555'"
      ]
     },
     "metadata": {},
     "output_type": "display_data"
    },
    {
     "data": {
      "text/plain": [
       "'376.2'"
      ]
     },
     "metadata": {},
     "output_type": "display_data"
    },
    {
     "data": {
      "text/plain": [
       "'759.1'"
      ]
     },
     "metadata": {},
     "output_type": "display_data"
    },
    {
     "data": {
      "text/plain": [
       "'206.9'"
      ]
     },
     "metadata": {},
     "output_type": "display_data"
    },
    {
     "data": {
      "text/plain": [
       "'504.5'"
      ]
     },
     "metadata": {},
     "output_type": "display_data"
    },
    {
     "data": {
      "text/plain": [
       "'305.4'"
      ]
     },
     "metadata": {},
     "output_type": "display_data"
    },
    {
     "data": {
      "text/plain": [
       "'0.305'"
      ]
     },
     "metadata": {},
     "output_type": "display_data"
    },
    {
     "data": {
      "text/plain": [
       "'136.9'"
      ]
     },
     "metadata": {},
     "output_type": "display_data"
    },
    {
     "data": {
      "text/plain": [
       "'300.1'"
      ]
     },
     "metadata": {},
     "output_type": "display_data"
    },
    {
     "data": {
      "text/plain": [
       "'823.2'"
      ]
     },
     "metadata": {},
     "output_type": "display_data"
    },
    {
     "data": {
      "text/plain": [
       "'0.181'"
      ]
     },
     "metadata": {},
     "output_type": "display_data"
    },
    {
     "data": {
      "text/plain": [
       "'156.9'"
      ]
     },
     "metadata": {},
     "output_type": "display_data"
    },
    {
     "data": {
      "text/plain": [
       "'0.101'"
      ]
     },
     "metadata": {},
     "output_type": "display_data"
    },
    {
     "data": {
      "text/plain": [
       "'0.322'"
      ]
     },
     "metadata": {},
     "output_type": "display_data"
    },
    {
     "data": {
      "text/plain": [
       "'0.175'"
      ]
     },
     "metadata": {},
     "output_type": "display_data"
    },
    {
     "data": {
      "text/plain": [
       "'167.1'"
      ]
     },
     "metadata": {},
     "output_type": "display_data"
    },
    {
     "data": {
      "text/plain": [
       "'0.370'"
      ]
     },
     "metadata": {},
     "output_type": "display_data"
    },
    {
     "data": {
      "text/plain": [
       "'158.3'"
      ]
     },
     "metadata": {},
     "output_type": "display_data"
    },
    {
     "data": {
      "text/plain": [
       "'348.1'"
      ]
     },
     "metadata": {},
     "output_type": "display_data"
    },
    {
     "data": {
      "text/plain": [
       "'147.2'"
      ]
     },
     "metadata": {},
     "output_type": "display_data"
    },
    {
     "data": {
      "text/plain": [
       "'807.8'"
      ]
     },
     "metadata": {},
     "output_type": "display_data"
    },
    {
     "data": {
      "text/plain": [
       "'0.624'"
      ]
     },
     "metadata": {},
     "output_type": "display_data"
    },
    {
     "data": {
      "text/plain": [
       "'0.382'"
      ]
     },
     "metadata": {},
     "output_type": "display_data"
    },
    {
     "data": {
      "text/plain": [
       "'0.394'"
      ]
     },
     "metadata": {},
     "output_type": "display_data"
    },
    {
     "data": {
      "text/plain": [
       "'557.1'"
      ]
     },
     "metadata": {},
     "output_type": "display_data"
    },
    {
     "data": {
      "text/plain": [
       "'373.2'"
      ]
     },
     "metadata": {},
     "output_type": "display_data"
    },
    {
     "data": {
      "text/plain": [
       "'761.1'"
      ]
     },
     "metadata": {},
     "output_type": "display_data"
    },
    {
     "data": {
      "text/plain": [
       "'194.1'"
      ]
     },
     "metadata": {},
     "output_type": "display_data"
    },
    {
     "data": {
      "text/plain": [
       "'501.2'"
      ]
     },
     "metadata": {},
     "output_type": "display_data"
    },
    {
     "data": {
      "text/plain": [
       "'136.6'"
      ]
     },
     "metadata": {},
     "output_type": "display_data"
    },
    {
     "data": {
      "text/plain": [
       "'0.871'"
      ]
     },
     "metadata": {},
     "output_type": "display_data"
    },
    {
     "data": {
      "text/plain": [
       "'600.2'"
      ]
     },
     "metadata": {},
     "output_type": "display_data"
    },
    {
     "data": {
      "text/plain": [
       "'519.1'"
      ]
     },
     "metadata": {},
     "output_type": "display_data"
    },
    {
     "data": {
      "text/plain": [
       "'501.3'"
      ]
     },
     "metadata": {},
     "output_type": "display_data"
    },
    {
     "data": {
      "text/plain": [
       "'322.1'"
      ]
     },
     "metadata": {},
     "output_type": "display_data"
    },
    {
     "data": {
      "text/plain": [
       "'190.2'"
      ]
     },
     "metadata": {},
     "output_type": "display_data"
    },
    {
     "data": {
      "text/plain": [
       "'844.2'"
      ]
     },
     "metadata": {},
     "output_type": "display_data"
    },
    {
     "data": {
      "text/plain": [
       "'180.2'"
      ]
     },
     "metadata": {},
     "output_type": "display_data"
    },
    {
     "data": {
      "text/plain": [
       "'396.3'"
      ]
     },
     "metadata": {},
     "output_type": "display_data"
    },
    {
     "data": {
      "text/plain": [
       "'100.8'"
      ]
     },
     "metadata": {},
     "output_type": "display_data"
    },
    {
     "data": {
      "text/plain": [
       "'413.2'"
      ]
     },
     "metadata": {},
     "output_type": "display_data"
    },
    {
     "data": {
      "text/plain": [
       "'0.420'"
      ]
     },
     "metadata": {},
     "output_type": "display_data"
    },
    {
     "data": {
      "text/plain": [
       "'0.421'"
      ]
     },
     "metadata": {},
     "output_type": "display_data"
    },
    {
     "data": {
      "text/plain": [
       "'413.4'"
      ]
     },
     "metadata": {},
     "output_type": "display_data"
    },
    {
     "data": {
      "text/plain": [
       "'136.7'"
      ]
     },
     "metadata": {},
     "output_type": "display_data"
    },
    {
     "data": {
      "text/plain": [
       "'2306'"
      ]
     },
     "metadata": {},
     "output_type": "display_data"
    },
    {
     "data": {
      "text/plain": [
       "'199.1'"
      ]
     },
     "metadata": {},
     "output_type": "display_data"
    },
    {
     "data": {
      "text/plain": [
       "'340.1'"
      ]
     },
     "metadata": {},
     "output_type": "display_data"
    },
    {
     "data": {
      "text/plain": [
       "'197.3'"
      ]
     },
     "metadata": {},
     "output_type": "display_data"
    },
    {
     "data": {
      "text/plain": [
       "'611.1'"
      ]
     },
     "metadata": {},
     "output_type": "display_data"
    },
    {
     "data": {
      "text/plain": [
       "'0.412'"
      ]
     },
     "metadata": {},
     "output_type": "display_data"
    },
    {
     "data": {
      "text/plain": [
       "'0.403'"
      ]
     },
     "metadata": {},
     "output_type": "display_data"
    },
    {
     "data": {
      "text/plain": [
       "'0.404'"
      ]
     },
     "metadata": {},
     "output_type": "display_data"
    },
    {
     "data": {
      "text/plain": [
       "'0.930'"
      ]
     },
     "metadata": {},
     "output_type": "display_data"
    },
    {
     "data": {
      "text/plain": [
       "'413.1'"
      ]
     },
     "metadata": {},
     "output_type": "display_data"
    },
    {
     "data": {
      "text/plain": [
       "'0.503'"
      ]
     },
     "metadata": {},
     "output_type": "display_data"
    },
    {
     "data": {
      "text/plain": [
       "'0.611'"
      ]
     },
     "metadata": {},
     "output_type": "display_data"
    },
    {
     "data": {
      "text/plain": [
       "'3317'"
      ]
     },
     "metadata": {},
     "output_type": "display_data"
    },
    {
     "data": {
      "text/plain": [
       "'100.9'"
      ]
     },
     "metadata": {},
     "output_type": "display_data"
    },
    {
     "data": {
      "text/plain": [
       "'0.773'"
      ]
     },
     "metadata": {},
     "output_type": "display_data"
    },
    {
     "data": {
      "text/plain": [
       "'0.884'"
      ]
     },
     "metadata": {},
     "output_type": "display_data"
    },
    {
     "data": {
      "text/plain": [
       "'638.1'"
      ]
     },
     "metadata": {},
     "output_type": "display_data"
    },
    {
     "data": {
      "text/plain": [
       "'0.819'"
      ]
     },
     "metadata": {},
     "output_type": "display_data"
    },
    {
     "data": {
      "text/plain": [
       "'0.511'"
      ]
     },
     "metadata": {},
     "output_type": "display_data"
    },
    {
     "data": {
      "text/plain": [
       "'616.3'"
      ]
     },
     "metadata": {},
     "output_type": "display_data"
    },
    {
     "data": {
      "text/plain": [
       "'392.2'"
      ]
     },
     "metadata": {},
     "output_type": "display_data"
    },
    {
     "data": {
      "text/plain": [
       "'813.2'"
      ]
     },
     "metadata": {},
     "output_type": "display_data"
    },
    {
     "data": {
      "text/plain": [
       "'630.2'"
      ]
     },
     "metadata": {},
     "output_type": "display_data"
    },
    {
     "data": {
      "text/plain": [
       "'501.7'"
      ]
     },
     "metadata": {},
     "output_type": "display_data"
    },
    {
     "data": {
      "text/plain": [
       "'3311'"
      ]
     },
     "metadata": {},
     "output_type": "display_data"
    },
    {
     "data": {
      "text/plain": [
       "'423.1'"
      ]
     },
     "metadata": {},
     "output_type": "display_data"
    },
    {
     "data": {
      "text/plain": [
       "'0.527'"
      ]
     },
     "metadata": {},
     "output_type": "display_data"
    },
    {
     "data": {
      "text/plain": [
       "'136.3'"
      ]
     },
     "metadata": {},
     "output_type": "display_data"
    },
    {
     "data": {
      "text/plain": [
       "'181.4'"
      ]
     },
     "metadata": {},
     "output_type": "display_data"
    },
    {
     "data": {
      "text/plain": [
       "'411.1'"
      ]
     },
     "metadata": {},
     "output_type": "display_data"
    },
    {
     "data": {
      "text/plain": [
       "'0.913'"
      ]
     },
     "metadata": {},
     "output_type": "display_data"
    },
    {
     "data": {
      "text/plain": [
       "'100.2'"
      ]
     },
     "metadata": {},
     "output_type": "display_data"
    },
    {
     "data": {
      "text/plain": [
       "'808.1'"
      ]
     },
     "metadata": {},
     "output_type": "display_data"
    },
    {
     "data": {
      "text/plain": [
       "'196.2'"
      ]
     },
     "metadata": {},
     "output_type": "display_data"
    },
    {
     "data": {
      "text/plain": [
       "'170.1'"
      ]
     },
     "metadata": {},
     "output_type": "display_data"
    },
    {
     "data": {
      "text/plain": [
       "'807.9'"
      ]
     },
     "metadata": {},
     "output_type": "display_data"
    },
    {
     "data": {
      "text/plain": [
       "'0.911'"
      ]
     },
     "metadata": {},
     "output_type": "display_data"
    },
    {
     "data": {
      "text/plain": [
       "'0.622'"
      ]
     },
     "metadata": {},
     "output_type": "display_data"
    },
    {
     "data": {
      "text/plain": [
       "'0.346'"
      ]
     },
     "metadata": {},
     "output_type": "display_data"
    },
    {
     "data": {
      "text/plain": [
       "'0.374'"
      ]
     },
     "metadata": {},
     "output_type": "display_data"
    },
    {
     "data": {
      "text/plain": [
       "'374.2'"
      ]
     },
     "metadata": {},
     "output_type": "display_data"
    },
    {
     "data": {
      "text/plain": [
       "'0.756'"
      ]
     },
     "metadata": {},
     "output_type": "display_data"
    },
    {
     "data": {
      "text/plain": [
       "'0.526'"
      ]
     },
     "metadata": {},
     "output_type": "display_data"
    },
    {
     "data": {
      "text/plain": [
       "'0.771'"
      ]
     },
     "metadata": {},
     "output_type": "display_data"
    },
    {
     "data": {
      "text/plain": [
       "'0.878'"
      ]
     },
     "metadata": {},
     "output_type": "display_data"
    },
    {
     "data": {
      "text/plain": [
       "'963.1'"
      ]
     },
     "metadata": {},
     "output_type": "display_data"
    },
    {
     "data": {
      "text/plain": [
       "'0.850'"
      ]
     },
     "metadata": {},
     "output_type": "display_data"
    },
    {
     "data": {
      "text/plain": [
       "'172.7'"
      ]
     },
     "metadata": {},
     "output_type": "display_data"
    },
    {
     "data": {
      "text/plain": [
       "'0.640'"
      ]
     },
     "metadata": {},
     "output_type": "display_data"
    },
    {
     "data": {
      "text/plain": [
       "'0.903'"
      ]
     },
     "metadata": {},
     "output_type": "display_data"
    },
    {
     "data": {
      "text/plain": [
       "'0.513'"
      ]
     },
     "metadata": {},
     "output_type": "display_data"
    },
    {
     "data": {
      "text/plain": [
       "'871.3'"
      ]
     },
     "metadata": {},
     "output_type": "display_data"
    },
    {
     "data": {
      "text/plain": [
       "'206.3'"
      ]
     },
     "metadata": {},
     "output_type": "display_data"
    },
    {
     "data": {
      "text/plain": [
       "'0.377'"
      ]
     },
     "metadata": {},
     "output_type": "display_data"
    },
    {
     "data": {
      "text/plain": [
       "'0.617'"
      ]
     },
     "metadata": {},
     "output_type": "display_data"
    },
    {
     "data": {
      "text/plain": [
       "'0.182'"
      ]
     },
     "metadata": {},
     "output_type": "display_data"
    },
    {
     "data": {
      "text/plain": [
       "'643.1'"
      ]
     },
     "metadata": {},
     "output_type": "display_data"
    },
    {
     "data": {
      "text/plain": [
       "'323.2'"
      ]
     },
     "metadata": {},
     "output_type": "display_data"
    },
    {
     "data": {
      "text/plain": [
       "'154.3'"
      ]
     },
     "metadata": {},
     "output_type": "display_data"
    },
    {
     "data": {
      "text/plain": [
       "'147.7'"
      ]
     },
     "metadata": {},
     "output_type": "display_data"
    },
    {
     "data": {
      "text/plain": [
       "'382.1'"
      ]
     },
     "metadata": {},
     "output_type": "display_data"
    },
    {
     "data": {
      "text/plain": [
       "'806.1'"
      ]
     },
     "metadata": {},
     "output_type": "display_data"
    },
    {
     "data": {
      "text/plain": [
       "'616.4'"
      ]
     },
     "metadata": {},
     "output_type": "display_data"
    },
    {
     "data": {
      "text/plain": [
       "'181.1'"
      ]
     },
     "metadata": {},
     "output_type": "display_data"
    },
    {
     "data": {
      "text/plain": [
       "'400.2'"
      ]
     },
     "metadata": {},
     "output_type": "display_data"
    },
    {
     "data": {
      "text/plain": [
       "'0.376'"
      ]
     },
     "metadata": {},
     "output_type": "display_data"
    },
    {
     "data": {
      "text/plain": [
       "'376.3'"
      ]
     },
     "metadata": {},
     "output_type": "display_data"
    },
    {
     "data": {
      "text/plain": [
       "'305.6'"
      ]
     },
     "metadata": {},
     "output_type": "display_data"
    },
    {
     "data": {
      "text/plain": [
       "'910.1'"
      ]
     },
     "metadata": {},
     "output_type": "display_data"
    },
    {
     "data": {
      "text/plain": [
       "'411.2'"
      ]
     },
     "metadata": {},
     "output_type": "display_data"
    },
    {
     "data": {
      "text/plain": [
       "'0.764'"
      ]
     },
     "metadata": {},
     "output_type": "display_data"
    },
    {
     "data": {
      "text/plain": [
       "'0.942'"
      ]
     },
     "metadata": {},
     "output_type": "display_data"
    },
    {
     "data": {
      "text/plain": [
       "'376.1'"
      ]
     },
     "metadata": {},
     "output_type": "display_data"
    },
    {
     "data": {
      "text/plain": [
       "'0.378'"
      ]
     },
     "metadata": {},
     "output_type": "display_data"
    },
    {
     "data": {
      "text/plain": [
       "'0.808'"
      ]
     },
     "metadata": {},
     "output_type": "display_data"
    },
    {
     "data": {
      "text/plain": [
       "'180.0'"
      ]
     },
     "metadata": {},
     "output_type": "display_data"
    },
    {
     "data": {
      "text/plain": [
       "'160.1'"
      ]
     },
     "metadata": {},
     "output_type": "display_data"
    },
    {
     "data": {
      "text/plain": [
       "'0.198'"
      ]
     },
     "metadata": {},
     "output_type": "display_data"
    },
    {
     "data": {
      "text/plain": [
       "'0.314'"
      ]
     },
     "metadata": {},
     "output_type": "display_data"
    },
    {
     "data": {
      "text/plain": [
       "'0.818'"
      ]
     },
     "metadata": {},
     "output_type": "display_data"
    },
    {
     "data": {
      "text/plain": [
       "'0.806'"
      ]
     },
     "metadata": {},
     "output_type": "display_data"
    },
    {
     "data": {
      "text/plain": [
       "'624.1'"
      ]
     },
     "metadata": {},
     "output_type": "display_data"
    },
    {
     "data": {
      "text/plain": [
       "'0.317'"
      ]
     },
     "metadata": {},
     "output_type": "display_data"
    },
    {
     "data": {
      "text/plain": [
       "'0.762'"
      ]
     },
     "metadata": {},
     "output_type": "display_data"
    },
    {
     "data": {
      "text/plain": [
       "'0.375'"
      ]
     },
     "metadata": {},
     "output_type": "display_data"
    },
    {
     "data": {
      "text/plain": [
       "'372.9'"
      ]
     },
     "metadata": {},
     "output_type": "display_data"
    },
    {
     "data": {
      "text/plain": [
       "'0.918'"
      ]
     },
     "metadata": {},
     "output_type": "display_data"
    },
    {
     "data": {
      "text/plain": [
       "'515.3'"
      ]
     },
     "metadata": {},
     "output_type": "display_data"
    },
    {
     "data": {
      "text/plain": [
       "'0.834'"
      ]
     },
     "metadata": {},
     "output_type": "display_data"
    },
    {
     "data": {
      "text/plain": [
       "'373.3'"
      ]
     },
     "metadata": {},
     "output_type": "display_data"
    },
    {
     "data": {
      "text/plain": [
       "'0.199'"
      ]
     },
     "metadata": {},
     "output_type": "display_data"
    },
    {
     "data": {
      "text/plain": [
       "'808.5'"
      ]
     },
     "metadata": {},
     "output_type": "display_data"
    },
    {
     "data": {
      "text/plain": [
       "'540.1'"
      ]
     },
     "metadata": {},
     "output_type": "display_data"
    },
    {
     "data": {
      "text/plain": [
       "'335.1'"
      ]
     },
     "metadata": {},
     "output_type": "display_data"
    },
    {
     "data": {
      "text/plain": [
       "'0.258'"
      ]
     },
     "metadata": {},
     "output_type": "display_data"
    },
    {
     "data": {
      "text/plain": [
       "'147.9'"
      ]
     },
     "metadata": {},
     "output_type": "display_data"
    },
    {
     "data": {
      "text/plain": [
       "'0.215'"
      ]
     },
     "metadata": {},
     "output_type": "display_data"
    },
    {
     "data": {
      "text/plain": [
       "'336.1'"
      ]
     },
     "metadata": {},
     "output_type": "display_data"
    },
    {
     "data": {
      "text/plain": [
       "'147.4'"
      ]
     },
     "metadata": {},
     "output_type": "display_data"
    },
    {
     "data": {
      "text/plain": [
       "'160.2'"
      ]
     },
     "metadata": {},
     "output_type": "display_data"
    },
    {
     "data": {
      "text/plain": [
       "'533.1'"
      ]
     },
     "metadata": {},
     "output_type": "display_data"
    },
    {
     "data": {
      "text/plain": [
       "'398.1'"
      ]
     },
     "metadata": {},
     "output_type": "display_data"
    },
    {
     "data": {
      "text/plain": [
       "'0.821'"
      ]
     },
     "metadata": {},
     "output_type": "display_data"
    },
    {
     "data": {
      "text/plain": [
       "'0.424'"
      ]
     },
     "metadata": {},
     "output_type": "display_data"
    },
    {
     "data": {
      "text/plain": [
       "'600.3'"
      ]
     },
     "metadata": {},
     "output_type": "display_data"
    },
    {
     "data": {
      "text/plain": [
       "'850.1'"
      ]
     },
     "metadata": {},
     "output_type": "display_data"
    },
    {
     "data": {
      "text/plain": [
       "'182.2'"
      ]
     },
     "metadata": {},
     "output_type": "display_data"
    },
    {
     "data": {
      "text/plain": [
       "'2303'"
      ]
     },
     "metadata": {},
     "output_type": "display_data"
    },
    {
     "data": {
      "text/plain": [
       "'0.153'"
      ]
     },
     "metadata": {},
     "output_type": "display_data"
    },
    {
     "data": {
      "text/plain": [
       "'336.2'"
      ]
     },
     "metadata": {},
     "output_type": "display_data"
    },
    {
     "data": {
      "text/plain": [
       "'0.380'"
      ]
     },
     "metadata": {},
     "output_type": "display_data"
    },
    {
     "data": {
      "text/plain": [
       "'386.1'"
      ]
     },
     "metadata": {},
     "output_type": "display_data"
    },
    {
     "data": {
      "text/plain": [
       "'343.2'"
      ]
     },
     "metadata": {},
     "output_type": "display_data"
    },
    {
     "data": {
      "text/plain": [
       "'504.4'"
      ]
     },
     "metadata": {},
     "output_type": "display_data"
    },
    {
     "data": {
      "text/plain": [
       "'760.1'"
      ]
     },
     "metadata": {},
     "output_type": "display_data"
    },
    {
     "data": {
      "text/plain": [
       "'825.1'"
      ]
     },
     "metadata": {},
     "output_type": "display_data"
    },
    {
     "data": {
      "text/plain": [
       "'0.768'"
      ]
     },
     "metadata": {},
     "output_type": "display_data"
    },
    {
     "data": {
      "text/plain": [
       "'0.205'"
      ]
     },
     "metadata": {},
     "output_type": "display_data"
    },
    {
     "data": {
      "text/plain": [
       "'0.234'"
      ]
     },
     "metadata": {},
     "output_type": "display_data"
    },
    {
     "data": {
      "text/plain": [
       "'0.841'"
      ]
     },
     "metadata": {},
     "output_type": "display_data"
    },
    {
     "data": {
      "text/plain": [
       "'0.331'"
      ]
     },
     "metadata": {},
     "output_type": "display_data"
    },
    {
     "data": {
      "text/plain": [
       "'0.162'"
      ]
     },
     "metadata": {},
     "output_type": "display_data"
    },
    {
     "data": {
      "text/plain": [
       "'3312'"
      ]
     },
     "metadata": {},
     "output_type": "display_data"
    },
    {
     "data": {
      "text/plain": [
       "'942.2'"
      ]
     },
     "metadata": {},
     "output_type": "display_data"
    },
    {
     "data": {
      "text/plain": [
       "'604.3'"
      ]
     },
     "metadata": {},
     "output_type": "display_data"
    },
    {
     "data": {
      "text/plain": [
       "'0.525'"
      ]
     },
     "metadata": {},
     "output_type": "display_data"
    },
    {
     "data": {
      "text/plain": [
       "'0.330'"
      ]
     },
     "metadata": {},
     "output_type": "display_data"
    },
    {
     "data": {
      "text/plain": [
       "'0.631'"
      ]
     },
     "metadata": {},
     "output_type": "display_data"
    },
    {
     "data": {
      "text/plain": [
       "'0.962'"
      ]
     },
     "metadata": {},
     "output_type": "display_data"
    },
    {
     "data": {
      "text/plain": [
       "'147.3'"
      ]
     },
     "metadata": {},
     "output_type": "display_data"
    },
    {
     "data": {
      "text/plain": [
       "'616.6'"
      ]
     },
     "metadata": {},
     "output_type": "display_data"
    },
    {
     "data": {
      "text/plain": [
       "'0.185'"
      ]
     },
     "metadata": {},
     "output_type": "display_data"
    },
    {
     "data": {
      "text/plain": [
       "'100.4'"
      ]
     },
     "metadata": {},
     "output_type": "display_data"
    },
    {
     "data": {
      "text/plain": [
       "'0.953'"
      ]
     },
     "metadata": {},
     "output_type": "display_data"
    },
    {
     "data": {
      "text/plain": [
       "'367.8'"
      ]
     },
     "metadata": {},
     "output_type": "display_data"
    },
    {
     "data": {
      "text/plain": [
       "'374.1'"
      ]
     },
     "metadata": {},
     "output_type": "display_data"
    },
    {
     "data": {
      "text/plain": [
       "'640.1'"
      ]
     },
     "metadata": {},
     "output_type": "display_data"
    },
    {
     "data": {
      "text/plain": [
       "'197.1'"
      ]
     },
     "metadata": {},
     "output_type": "display_data"
    },
    {
     "data": {
      "text/plain": [
       "'0.147'"
      ]
     },
     "metadata": {},
     "output_type": "display_data"
    },
    {
     "data": {
      "text/plain": [
       "'519.2'"
      ]
     },
     "metadata": {},
     "output_type": "display_data"
    },
    {
     "data": {
      "text/plain": [
       "'0.554'"
      ]
     },
     "metadata": {},
     "output_type": "display_data"
    },
    {
     "data": {
      "text/plain": [
       "'147.5'"
      ]
     },
     "metadata": {},
     "output_type": "display_data"
    },
    {
     "data": {
      "text/plain": [
       "'0.910'"
      ]
     },
     "metadata": {},
     "output_type": "display_data"
    },
    {
     "data": {
      "text/plain": [
       "'0.519'"
      ]
     },
     "metadata": {},
     "output_type": "display_data"
    },
    {
     "data": {
      "text/plain": [
       "'0.194'"
      ]
     },
     "metadata": {},
     "output_type": "display_data"
    },
    {
     "data": {
      "text/plain": [
       "'379.1'"
      ]
     },
     "metadata": {},
     "output_type": "display_data"
    },
    {
     "data": {
      "text/plain": [
       "'2202'"
      ]
     },
     "metadata": {},
     "output_type": "display_data"
    },
    {
     "data": {
      "text/plain": [
       "'630.1'"
      ]
     },
     "metadata": {},
     "output_type": "display_data"
    },
    {
     "data": {
      "text/plain": [
       "'0.781'"
      ]
     },
     "metadata": {},
     "output_type": "display_data"
    },
    {
     "data": {
      "text/plain": [
       "'0.255'"
      ]
     },
     "metadata": {},
     "output_type": "display_data"
    },
    {
     "data": {
      "text/plain": [
       "'780.1'"
      ]
     },
     "metadata": {},
     "output_type": "display_data"
    },
    {
     "data": {
      "text/plain": [
       "'0.881'"
      ]
     },
     "metadata": {},
     "output_type": "display_data"
    },
    {
     "data": {
      "text/plain": [
       "'158.4'"
      ]
     },
     "metadata": {},
     "output_type": "display_data"
    },
    {
     "data": {
      "text/plain": [
       "'389.1'"
      ]
     },
     "metadata": {},
     "output_type": "display_data"
    },
    {
     "data": {
      "text/plain": [
       "'0.310'"
      ]
     },
     "metadata": {},
     "output_type": "display_data"
    },
    {
     "data": {
      "text/plain": [
       "'640.2'"
      ]
     },
     "metadata": {},
     "output_type": "display_data"
    },
    {
     "data": {
      "text/plain": [
       "'152.3'"
      ]
     },
     "metadata": {},
     "output_type": "display_data"
    },
    {
     "data": {
      "text/plain": [
       "'188.1'"
      ]
     },
     "metadata": {},
     "output_type": "display_data"
    },
    {
     "data": {
      "text/plain": [
       "'620.1'"
      ]
     },
     "metadata": {},
     "output_type": "display_data"
    },
    {
     "data": {
      "text/plain": [
       "'132.3'"
      ]
     },
     "metadata": {},
     "output_type": "display_data"
    },
    {
     "data": {
      "text/plain": [
       "'0.400'"
      ]
     },
     "metadata": {},
     "output_type": "display_data"
    },
    {
     "data": {
      "text/plain": [
       "'0.906'"
      ]
     },
     "metadata": {},
     "output_type": "display_data"
    },
    {
     "data": {
      "text/plain": [
       "'0.638'"
      ]
     },
     "metadata": {},
     "output_type": "display_data"
    },
    {
     "data": {
      "text/plain": [
       "'805.7'"
      ]
     },
     "metadata": {},
     "output_type": "display_data"
    },
    {
     "data": {
      "text/plain": [
       "'512.1'"
      ]
     },
     "metadata": {},
     "output_type": "display_data"
    },
    {
     "data": {
      "text/plain": [
       "'0.300'"
      ]
     },
     "metadata": {},
     "output_type": "display_data"
    },
    {
     "data": {
      "text/plain": [
       "'0.516'"
      ]
     },
     "metadata": {},
     "output_type": "display_data"
    },
    {
     "data": {
      "text/plain": [
       "'3310'"
      ]
     },
     "metadata": {},
     "output_type": "display_data"
    },
    {
     "data": {
      "text/plain": [
       "'0.340'"
      ]
     },
     "metadata": {},
     "output_type": "display_data"
    },
    {
     "data": {
      "text/plain": [
       "'0.769'"
      ]
     },
     "metadata": {},
     "output_type": "display_data"
    },
    {
     "data": {
      "text/plain": [
       "'2203'"
      ]
     },
     "metadata": {},
     "output_type": "display_data"
    },
    {
     "data": {
      "text/plain": [
       "'306.5'"
      ]
     },
     "metadata": {},
     "output_type": "display_data"
    },
    {
     "data": {
      "text/plain": [
       "'0.338'"
      ]
     },
     "metadata": {},
     "output_type": "display_data"
    },
    {
     "data": {
      "text/plain": [
       "'0.216'"
      ]
     },
     "metadata": {},
     "output_type": "display_data"
    },
    {
     "data": {
      "text/plain": [
       "'0.954'"
      ]
     },
     "metadata": {},
     "output_type": "display_data"
    },
    {
     "data": {
      "text/plain": [
       "'0.405'"
      ]
     },
     "metadata": {},
     "output_type": "display_data"
    },
    {
     "data": {
      "text/plain": [
       "'0.160'"
      ]
     },
     "metadata": {},
     "output_type": "display_data"
    },
    {
     "data": {
      "text/plain": [
       "'334.4'"
      ]
     },
     "metadata": {},
     "output_type": "display_data"
    },
    {
     "data": {
      "text/plain": [
       "'0.552'"
      ]
     },
     "metadata": {},
     "output_type": "display_data"
    },
    {
     "data": {
      "text/plain": [
       "'0.324'"
      ]
     },
     "metadata": {},
     "output_type": "display_data"
    },
    {
     "data": {
      "text/plain": [
       "'0.385'"
      ]
     },
     "metadata": {},
     "output_type": "display_data"
    },
    {
     "data": {
      "text/plain": [
       "'600.8'"
      ]
     },
     "metadata": {},
     "output_type": "display_data"
    },
    {
     "data": {
      "text/plain": [
       "'206.8'"
      ]
     },
     "metadata": {},
     "output_type": "display_data"
    },
    {
     "data": {
      "text/plain": [
       "'0.763'"
      ]
     },
     "metadata": {},
     "output_type": "display_data"
    },
    {
     "data": {
      "text/plain": [
       "'0.180'"
      ]
     },
     "metadata": {},
     "output_type": "display_data"
    },
    {
     "data": {
      "text/plain": [
       "'602.1'"
      ]
     },
     "metadata": {},
     "output_type": "display_data"
    },
    {
     "data": {
      "text/plain": [
       "'932.1'"
      ]
     },
     "metadata": {},
     "output_type": "display_data"
    },
    {
     "data": {
      "text/plain": [
       "'616.5'"
      ]
     },
     "metadata": {},
     "output_type": "display_data"
    },
    {
     "data": {
      "text/plain": [
       "'0.604'"
      ]
     },
     "metadata": {},
     "output_type": "display_data"
    },
    {
     "data": {
      "text/plain": [
       "'0.605'"
      ]
     },
     "metadata": {},
     "output_type": "display_data"
    },
    {
     "data": {
      "text/plain": [
       "'0.835'"
      ]
     },
     "metadata": {},
     "output_type": "display_data"
    },
    {
     "data": {
      "text/plain": [
       "'384.1'"
      ]
     },
     "metadata": {},
     "output_type": "display_data"
    },
    {
     "data": {
      "text/plain": [
       "'0.391'"
      ]
     },
     "metadata": {},
     "output_type": "display_data"
    },
    {
     "data": {
      "text/plain": [
       "'0.616'"
      ]
     },
     "metadata": {},
     "output_type": "display_data"
    },
    {
     "data": {
      "text/plain": [
       "'616.2'"
      ]
     },
     "metadata": {},
     "output_type": "display_data"
    },
    {
     "data": {
      "text/plain": [
       "'306.2'"
      ]
     },
     "metadata": {},
     "output_type": "display_data"
    },
    {
     "data": {
      "text/plain": [
       "'844.1'"
      ]
     },
     "metadata": {},
     "output_type": "display_data"
    },
    {
     "data": {
      "text/plain": [
       "'604.1'"
      ]
     },
     "metadata": {},
     "output_type": "display_data"
    },
    {
     "data": {
      "text/plain": [
       "'604.2'"
      ]
     },
     "metadata": {},
     "output_type": "display_data"
    },
    {
     "data": {
      "text/plain": [
       "'764.2'"
      ]
     },
     "metadata": {},
     "output_type": "display_data"
    },
    {
     "data": {
      "text/plain": [
       "'932.3'"
      ]
     },
     "metadata": {},
     "output_type": "display_data"
    },
    {
     "data": {
      "text/plain": [
       "'0.517'"
      ]
     },
     "metadata": {},
     "output_type": "display_data"
    },
    {
     "data": {
      "text/plain": [
       "'0.760'"
      ]
     },
     "metadata": {},
     "output_type": "display_data"
    },
    {
     "data": {
      "text/plain": [
       "'605.1'"
      ]
     },
     "metadata": {},
     "output_type": "display_data"
    },
    {
     "data": {
      "text/plain": [
       "'515.4'"
      ]
     },
     "metadata": {},
     "output_type": "display_data"
    },
    {
     "data": {
      "text/plain": [
       "'346.1'"
      ]
     },
     "metadata": {},
     "output_type": "display_data"
    },
    {
     "data": {
      "text/plain": [
       "'550.1'"
      ]
     },
     "metadata": {},
     "output_type": "display_data"
    },
    {
     "data": {
      "text/plain": [
       "'0.907'"
      ]
     },
     "metadata": {},
     "output_type": "display_data"
    },
    {
     "data": {
      "text/plain": [
       "'380.4'"
      ]
     },
     "metadata": {},
     "output_type": "display_data"
    },
    {
     "data": {
      "text/plain": [
       "'615.1'"
      ]
     },
     "metadata": {},
     "output_type": "display_data"
    },
    {
     "data": {
      "text/plain": [
       "'0.558'"
      ]
     },
     "metadata": {},
     "output_type": "display_data"
    },
    {
     "data": {
      "text/plain": [
       "'811.1'"
      ]
     },
     "metadata": {},
     "output_type": "display_data"
    },
    {
     "data": {
      "text/plain": [
       "'902.2'"
      ]
     },
     "metadata": {},
     "output_type": "display_data"
    },
    {
     "data": {
      "text/plain": [
       "'932.2'"
      ]
     },
     "metadata": {},
     "output_type": "display_data"
    },
    {
     "data": {
      "text/plain": [
       "'0.392'"
      ]
     },
     "metadata": {},
     "output_type": "display_data"
    },
    {
     "data": {
      "text/plain": [
       "'173.1'"
      ]
     },
     "metadata": {},
     "output_type": "display_data"
    },
    {
     "data": {
      "text/plain": [
       "'0.366'"
      ]
     },
     "metadata": {},
     "output_type": "display_data"
    },
    {
     "data": {
      "text/plain": [
       "'0.334'"
      ]
     },
     "metadata": {},
     "output_type": "display_data"
    },
    {
     "data": {
      "text/plain": [
       "'0.170'"
      ]
     },
     "metadata": {},
     "output_type": "display_data"
    },
    {
     "data": {
      "text/plain": [
       "'506.0'"
      ]
     },
     "metadata": {},
     "output_type": "display_data"
    },
    {
     "data": {
      "text/plain": [
       "'0.627'"
      ]
     },
     "metadata": {},
     "output_type": "display_data"
    },
    {
     "data": {
      "text/plain": [
       "'2206'"
      ]
     },
     "metadata": {},
     "output_type": "display_data"
    },
    {
     "data": {
      "text/plain": [
       "'0.186'"
      ]
     },
     "metadata": {},
     "output_type": "display_data"
    },
    {
     "data": {
      "text/plain": [
       "'180.1'"
      ]
     },
     "metadata": {},
     "output_type": "display_data"
    },
    {
     "data": {
      "text/plain": [
       "'0.167'"
      ]
     },
     "metadata": {},
     "output_type": "display_data"
    },
    {
     "data": {
      "text/plain": [
       "'0.301'"
      ]
     },
     "metadata": {},
     "output_type": "display_data"
    },
    {
     "data": {
      "text/plain": [
       "'600.7'"
      ]
     },
     "metadata": {},
     "output_type": "display_data"
    },
    {
     "data": {
      "text/plain": [
       "'255.2'"
      ]
     },
     "metadata": {},
     "output_type": "display_data"
    },
    {
     "data": {
      "text/plain": [
       "'170.6'"
      ]
     },
     "metadata": {},
     "output_type": "display_data"
    },
    {
     "data": {
      "text/plain": [
       "'100.6'"
      ]
     },
     "metadata": {},
     "output_type": "display_data"
    },
    {
     "data": {
      "text/plain": [
       "'517.2'"
      ]
     },
     "metadata": {},
     "output_type": "display_data"
    },
    {
     "data": {
      "text/plain": [
       "'396.2'"
      ]
     },
     "metadata": {},
     "output_type": "display_data"
    },
    {
     "data": {
      "text/plain": [
       "'158.6'"
      ]
     },
     "metadata": {},
     "output_type": "display_data"
    },
    {
     "data": {
      "text/plain": [
       "'0.224'"
      ]
     },
     "metadata": {},
     "output_type": "display_data"
    },
    {
     "data": {
      "text/plain": [
       "'0.518'"
      ]
     },
     "metadata": {},
     "output_type": "display_data"
    },
    {
     "data": {
      "text/plain": [
       "'648.1'"
      ]
     },
     "metadata": {},
     "output_type": "display_data"
    },
    {
     "data": {
      "text/plain": [
       "'087.5'"
      ]
     },
     "metadata": {},
     "output_type": "display_data"
    },
    {
     "data": {
      "text/plain": [
       "'0.275'"
      ]
     },
     "metadata": {},
     "output_type": "display_data"
    },
    {
     "data": {
      "text/plain": [
       "'207.2'"
      ]
     },
     "metadata": {},
     "output_type": "display_data"
    },
    {
     "data": {
      "text/plain": [
       "'874.4'"
      ]
     },
     "metadata": {},
     "output_type": "display_data"
    },
    {
     "data": {
      "text/plain": [
       "'0.349'"
      ]
     },
     "metadata": {},
     "output_type": "display_data"
    },
    {
     "data": {
      "text/plain": [
       "'180.3'"
      ]
     },
     "metadata": {},
     "output_type": "display_data"
    },
    {
     "data": {
      "text/plain": [
       "'504.1'"
      ]
     },
     "metadata": {},
     "output_type": "display_data"
    },
    {
     "data": {
      "text/plain": [
       "'2309'"
      ]
     },
     "metadata": {},
     "output_type": "display_data"
    },
    {
     "data": {
      "text/plain": [
       "'0.531'"
      ]
     },
     "metadata": {},
     "output_type": "display_data"
    },
    {
     "data": {
      "text/plain": [
       "'0.556'"
      ]
     },
     "metadata": {},
     "output_type": "display_data"
    },
    {
     "data": {
      "text/plain": [
       "'366.5'"
      ]
     },
     "metadata": {},
     "output_type": "display_data"
    },
    {
     "data": {
      "text/plain": [
       "'0.641'"
      ]
     },
     "metadata": {},
     "output_type": "display_data"
    },
    {
     "data": {
      "text/plain": [
       "'383.3'"
      ]
     },
     "metadata": {},
     "output_type": "display_data"
    },
    {
     "data": {
      "text/plain": [
       "'616.7'"
      ]
     },
     "metadata": {},
     "output_type": "display_data"
    },
    {
     "data": {
      "text/plain": [
       "'340.3'"
      ]
     },
     "metadata": {},
     "output_type": "display_data"
    },
    {
     "data": {
      "text/plain": [
       "'380.2'"
      ]
     },
     "metadata": {},
     "output_type": "display_data"
    },
    {
     "data": {
      "text/plain": [
       "'0.312'"
      ]
     },
     "metadata": {},
     "output_type": "display_data"
    },
    {
     "data": {
      "text/plain": [
       "'0.602'"
      ]
     },
     "metadata": {},
     "output_type": "display_data"
    },
    {
     "data": {
      "text/plain": [
       "'343.6'"
      ]
     },
     "metadata": {},
     "output_type": "display_data"
    },
    {
     "data": {
      "text/plain": [
       "'865.1'"
      ]
     },
     "metadata": {},
     "output_type": "display_data"
    },
    {
     "data": {
      "text/plain": [
       "'509.1'"
      ]
     },
     "metadata": {},
     "output_type": "display_data"
    },
    {
     "data": {
      "text/plain": [
       "'2208'"
      ]
     },
     "metadata": {},
     "output_type": "display_data"
    },
    {
     "data": {
      "text/plain": [
       "'0.960'"
      ]
     },
     "metadata": {},
     "output_type": "display_data"
    },
    {
     "data": {
      "text/plain": [
       "'0.092'"
      ]
     },
     "metadata": {},
     "output_type": "display_data"
    },
    {
     "data": {
      "text/plain": [
       "'0.601'"
      ]
     },
     "metadata": {},
     "output_type": "display_data"
    },
    {
     "data": {
      "text/plain": [
       "'942.1'"
      ]
     },
     "metadata": {},
     "output_type": "display_data"
    },
    {
     "data": {
      "text/plain": [
       "'625.1'"
      ]
     },
     "metadata": {},
     "output_type": "display_data"
    },
    {
     "data": {
      "text/plain": [
       "'379.2'"
      ]
     },
     "metadata": {},
     "output_type": "display_data"
    },
    {
     "data": {
      "text/plain": [
       "'190.4'"
      ]
     },
     "metadata": {},
     "output_type": "display_data"
    },
    {
     "data": {
      "text/plain": [
       "'394.1'"
      ]
     },
     "metadata": {},
     "output_type": "display_data"
    },
    {
     "data": {
      "text/plain": [
       "'0.197'"
      ]
     },
     "metadata": {},
     "output_type": "display_data"
    },
    {
     "data": {
      "text/plain": [
       "'0.816'"
      ]
     },
     "metadata": {},
     "output_type": "display_data"
    },
    {
     "data": {
      "text/plain": [
       "'066.1'"
      ]
     },
     "metadata": {},
     "output_type": "display_data"
    },
    {
     "data": {
      "text/plain": [
       "'163.1'"
      ]
     },
     "metadata": {},
     "output_type": "display_data"
    },
    {
     "data": {
      "text/plain": [
       "'206.2'"
      ]
     },
     "metadata": {},
     "output_type": "display_data"
    },
    {
     "data": {
      "text/plain": [
       "'194.2'"
      ]
     },
     "metadata": {},
     "output_type": "display_data"
    },
    {
     "data": {
      "text/plain": [
       "'2212'"
      ]
     },
     "metadata": {},
     "output_type": "display_data"
    },
    {
     "data": {
      "text/plain": [
       "'0.195'"
      ]
     },
     "metadata": {},
     "output_type": "display_data"
    },
    {
     "data": {
      "text/plain": [
       "'2310'"
      ]
     },
     "metadata": {},
     "output_type": "display_data"
    },
    {
     "data": {
      "text/plain": [
       "'206.5'"
      ]
     },
     "metadata": {},
     "output_type": "display_data"
    },
    {
     "data": {
      "text/plain": [
       "'0.348'"
      ]
     },
     "metadata": {},
     "output_type": "display_data"
    },
    {
     "data": {
      "text/plain": [
       "'0.811'"
      ]
     },
     "metadata": {},
     "output_type": "display_data"
    },
    {
     "data": {
      "text/plain": [
       "'338.1'"
      ]
     },
     "metadata": {},
     "output_type": "display_data"
    },
    {
     "data": {
      "text/plain": [
       "'0.411'"
      ]
     },
     "metadata": {},
     "output_type": "display_data"
    },
    {
     "data": {
      "text/plain": [
       "'0.339'"
      ]
     },
     "metadata": {},
     "output_type": "display_data"
    },
    {
     "data": {
      "text/plain": [
       "'870.1'"
      ]
     },
     "metadata": {},
     "output_type": "display_data"
    },
    {
     "data": {
      "text/plain": [
       "'197.6'"
      ]
     },
     "metadata": {},
     "output_type": "display_data"
    },
    {
     "data": {
      "text/plain": [
       "'158.7'"
      ]
     },
     "metadata": {},
     "output_type": "display_data"
    },
    {
     "data": {
      "text/plain": [
       "'260.3'"
      ]
     },
     "metadata": {},
     "output_type": "display_data"
    },
    {
     "data": {
      "text/plain": [
       "'616.1'"
      ]
     },
     "metadata": {},
     "output_type": "display_data"
    },
    {
     "data": {
      "text/plain": [
       "'0.345'"
      ]
     },
     "metadata": {},
     "output_type": "display_data"
    },
    {
     "data": {
      "text/plain": [
       "'322.2'"
      ]
     },
     "metadata": {},
     "output_type": "display_data"
    },
    {
     "data": {
      "text/plain": [
       "'0.273'"
      ]
     },
     "metadata": {},
     "output_type": "display_data"
    },
    {
     "data": {
      "text/plain": [
       "'0.643'"
      ]
     },
     "metadata": {},
     "output_type": "display_data"
    },
    {
     "data": {
      "text/plain": [
       "'0.379'"
      ]
     },
     "metadata": {},
     "output_type": "display_data"
    },
    {
     "data": {
      "text/plain": [
       "'806.8'"
      ]
     },
     "metadata": {},
     "output_type": "display_data"
    },
    {
     "data": {
      "text/plain": [
       "'642.1'"
      ]
     },
     "metadata": {},
     "output_type": "display_data"
    },
    {
     "data": {
      "text/plain": [
       "'397.2'"
      ]
     },
     "metadata": {},
     "output_type": "display_data"
    },
    {
     "data": {
      "text/plain": [
       "'0.914'"
      ]
     },
     "metadata": {},
     "output_type": "display_data"
    },
    {
     "data": {
      "text/plain": [
       "'3211'"
      ]
     },
     "metadata": {},
     "output_type": "display_data"
    },
    {
     "data": {
      "text/plain": [
       "'0.196'"
      ]
     },
     "metadata": {},
     "output_type": "display_data"
    },
    {
     "data": {
      "text/plain": [
       "'0.920'"
      ]
     },
     "metadata": {},
     "output_type": "display_data"
    },
    {
     "data": {
      "text/plain": [
       "'0.176'"
      ]
     },
     "metadata": {},
     "output_type": "display_data"
    },
    {
     "data": {
      "text/plain": [
       "'313.2'"
      ]
     },
     "metadata": {},
     "output_type": "display_data"
    },
    {
     "data": {
      "text/plain": [
       "'0.761'"
      ]
     },
     "metadata": {},
     "output_type": "display_data"
    },
    {
     "data": {
      "text/plain": [
       "'0.813'"
      ]
     },
     "metadata": {},
     "output_type": "display_data"
    },
    {
     "data": {
      "text/plain": [
       "'391.3'"
      ]
     },
     "metadata": {},
     "output_type": "display_data"
    },
    {
     "data": {
      "text/plain": [
       "'0.600'"
      ]
     },
     "metadata": {},
     "output_type": "display_data"
    },
    {
     "data": {
      "text/plain": [
       "'0.620'"
      ]
     },
     "metadata": {},
     "output_type": "display_data"
    },
    {
     "data": {
      "text/plain": [
       "'603.1'"
      ]
     },
     "metadata": {},
     "output_type": "display_data"
    },
    {
     "data": {
      "text/plain": [
       "'147.6'"
      ]
     },
     "metadata": {},
     "output_type": "display_data"
    },
    {
     "data": {
      "text/plain": [
       "'2307'"
      ]
     },
     "metadata": {},
     "output_type": "display_data"
    },
    {
     "data": {
      "text/plain": [
       "'845.2'"
      ]
     },
     "metadata": {},
     "output_type": "display_data"
    },
    {
     "data": {
      "text/plain": [
       "'101.8'"
      ]
     },
     "metadata": {},
     "output_type": "display_data"
    },
    {
     "data": {
      "text/plain": [
       "'0.603'"
      ]
     },
     "metadata": {},
     "output_type": "display_data"
    },
    {
     "data": {
      "text/plain": [
       "'805.3'"
      ]
     },
     "metadata": {},
     "output_type": "display_data"
    },
    {
     "data": {
      "text/plain": [
       "'160.3'"
      ]
     },
     "metadata": {},
     "output_type": "display_data"
    },
    {
     "data": {
      "text/plain": [
       "'0.780'"
      ]
     },
     "metadata": {},
     "output_type": "display_data"
    },
    {
     "data": {
      "text/plain": [
       "'2301'"
      ]
     },
     "metadata": {},
     "output_type": "display_data"
    },
    {
     "data": {
      "text/plain": [
       "'2201'"
      ]
     },
     "metadata": {},
     "output_type": "display_data"
    },
    {
     "data": {
      "text/plain": [
       "'156.8'"
      ]
     },
     "metadata": {},
     "output_type": "display_data"
    },
    {
     "data": {
      "text/plain": [
       "'823.1'"
      ]
     },
     "metadata": {},
     "output_type": "display_data"
    },
    {
     "data": {
      "text/plain": [
       "'383.1'"
      ]
     },
     "metadata": {},
     "output_type": "display_data"
    },
    {
     "data": {
      "text/plain": [
       "'0.504'"
      ]
     },
     "metadata": {},
     "output_type": "display_data"
    },
    {
     "data": {
      "text/plain": [
       "'870.7'"
      ]
     },
     "metadata": {},
     "output_type": "display_data"
    },
    {
     "data": {
      "text/plain": [
       "'511.4'"
      ]
     },
     "metadata": {},
     "output_type": "display_data"
    },
    {
     "data": {
      "text/plain": [
       "'158.2'"
      ]
     },
     "metadata": {},
     "output_type": "display_data"
    },
    {
     "data": {
      "text/plain": [
       "'3313'"
      ]
     },
     "metadata": {},
     "output_type": "display_data"
    },
    {
     "data": {
      "text/plain": [
       "'0.648'"
      ]
     },
     "metadata": {},
     "output_type": "display_data"
    },
    {
     "data": {
      "text/plain": [
       "'0.129'"
      ]
     },
     "metadata": {},
     "output_type": "display_data"
    },
    {
     "data": {
      "text/plain": [
       "'324.1'"
      ]
     },
     "metadata": {},
     "output_type": "display_data"
    },
    {
     "data": {
      "text/plain": [
       "'0.825'"
      ]
     },
     "metadata": {},
     "output_type": "display_data"
    },
    {
     "data": {
      "text/plain": [
       "'0.902'"
      ]
     },
     "metadata": {},
     "output_type": "display_data"
    },
    {
     "data": {
      "text/plain": [
       "'600.4'"
      ]
     },
     "metadata": {},
     "output_type": "display_data"
    },
    {
     "data": {
      "text/plain": [
       "'760.2'"
      ]
     },
     "metadata": {},
     "output_type": "display_data"
    },
    {
     "data": {
      "text/plain": [
       "'366.7'"
      ]
     },
     "metadata": {},
     "output_type": "display_data"
    },
    {
     "data": {
      "text/plain": [
       "'197.5'"
      ]
     },
     "metadata": {},
     "output_type": "display_data"
    },
    {
     "data": {
      "text/plain": [
       "'531.3'"
      ]
     },
     "metadata": {},
     "output_type": "display_data"
    },
    {
     "data": {
      "text/plain": [
       "'156.1'"
      ]
     },
     "metadata": {},
     "output_type": "display_data"
    },
    {
     "data": {
      "text/plain": [
       "'306.1'"
      ]
     },
     "metadata": {},
     "output_type": "display_data"
    },
    {
     "data": {
      "text/plain": [
       "'154.2'"
      ]
     },
     "metadata": {},
     "output_type": "display_data"
    },
    {
     "data": {
      "text/plain": [
       "'205.1'"
      ]
     },
     "metadata": {},
     "output_type": "display_data"
    },
    {
     "data": {
      "text/plain": [
       "'0.372'"
      ]
     },
     "metadata": {},
     "output_type": "display_data"
    },
    {
     "data": {
      "text/plain": [
       "'0.515'"
      ]
     },
     "metadata": {},
     "output_type": "display_data"
    },
    {
     "data": {
      "text/plain": [
       "'0.810'"
      ]
     },
     "metadata": {},
     "output_type": "display_data"
    },
    {
     "data": {
      "text/plain": [
       "'0.822'"
      ]
     },
     "metadata": {},
     "output_type": "display_data"
    },
    {
     "data": {
      "text/plain": [
       "'398.3'"
      ]
     },
     "metadata": {},
     "output_type": "display_data"
    },
    {
     "data": {
      "text/plain": [
       "'2302'"
      ]
     },
     "metadata": {},
     "output_type": "display_data"
    },
    {
     "data": {
      "text/plain": [
       "'0.253'"
      ]
     },
     "metadata": {},
     "output_type": "display_data"
    },
    {
     "data": {
      "text/plain": [
       "'642.2'"
      ]
     },
     "metadata": {},
     "output_type": "display_data"
    },
    {
     "data": {
      "text/plain": [
       "'0.383'"
      ]
     },
     "metadata": {},
     "output_type": "display_data"
    },
    {
     "data": {
      "text/plain": [
       "'505.4'"
      ]
     },
     "metadata": {},
     "output_type": "display_data"
    },
    {
     "data": {
      "text/plain": [
       "'0.765'"
      ]
     },
     "metadata": {},
     "output_type": "display_data"
    },
    {
     "data": {
      "text/plain": [
       "'0.642'"
      ]
     },
     "metadata": {},
     "output_type": "display_data"
    },
    {
     "data": {
      "text/plain": [
       "'0.886'"
      ]
     },
     "metadata": {},
     "output_type": "display_data"
    },
    {
     "data": {
      "text/plain": [
       "'818.1'"
      ]
     },
     "metadata": {},
     "output_type": "display_data"
    },
    {
     "data": {
      "text/plain": [
       "'0.759'"
      ]
     },
     "metadata": {},
     "output_type": "display_data"
    },
    {
     "data": {
      "text/plain": [
       "'813.1'"
      ]
     },
     "metadata": {},
     "output_type": "display_data"
    },
    {
     "data": {
      "text/plain": [
       "'761.2'"
      ]
     },
     "metadata": {},
     "output_type": "display_data"
    },
    {
     "data": {
      "text/plain": [
       "'067.1'"
      ]
     },
     "metadata": {},
     "output_type": "display_data"
    },
    {
     "data": {
      "text/plain": [
       "'197.7'"
      ]
     },
     "metadata": {},
     "output_type": "display_data"
    },
    {
     "data": {
      "text/plain": [
       "'0.965'"
      ]
     },
     "metadata": {},
     "output_type": "display_data"
    },
    {
     "data": {
      "text/plain": [
       "'101.1'"
      ]
     },
     "metadata": {},
     "output_type": "display_data"
    },
    {
     "data": {
      "text/plain": [
       "'2308'"
      ]
     },
     "metadata": {},
     "output_type": "display_data"
    },
    {
     "data": {
      "text/plain": [
       "'872.3'"
      ]
     },
     "metadata": {},
     "output_type": "display_data"
    },
    {
     "data": {
      "text/plain": [
       "'0.158'"
      ]
     },
     "metadata": {},
     "output_type": "display_data"
    },
    {
     "data": {
      "text/plain": [
       "'0.171'"
      ]
     },
     "metadata": {},
     "output_type": "display_data"
    },
    {
     "data": {
      "text/plain": [
       "'0.397'"
      ]
     },
     "metadata": {},
     "output_type": "display_data"
    },
    {
     "data": {
      "text/plain": [
       "'0.343'"
      ]
     },
     "metadata": {},
     "output_type": "display_data"
    },
    {
     "data": {
      "text/plain": [
       "'642.3'"
      ]
     },
     "metadata": {},
     "output_type": "display_data"
    },
    {
     "data": {
      "text/plain": [
       "'0.371'"
      ]
     },
     "metadata": {},
     "output_type": "display_data"
    },
    {
     "data": {
      "text/plain": [
       "'380.3'"
      ]
     },
     "metadata": {},
     "output_type": "display_data"
    },
    {
     "data": {
      "text/plain": [
       "'366.1'"
      ]
     },
     "metadata": {},
     "output_type": "display_data"
    },
    {
     "data": {
      "text/plain": [
       "'207.3'"
      ]
     },
     "metadata": {},
     "output_type": "display_data"
    },
    {
     "data": {
      "text/plain": [
       "'0.132'"
      ]
     },
     "metadata": {},
     "output_type": "display_data"
    },
    {
     "data": {
      "text/plain": [
       "'157.9'"
      ]
     },
     "metadata": {},
     "output_type": "display_data"
    },
    {
     "data": {
      "text/plain": [
       "'600.5'"
      ]
     },
     "metadata": {},
     "output_type": "display_data"
    },
    {
     "data": {
      "text/plain": [
       "'394.4'"
      ]
     },
     "metadata": {},
     "output_type": "display_data"
    },
    {
     "data": {
      "text/plain": [
       "'0.509'"
      ]
     },
     "metadata": {},
     "output_type": "display_data"
    },
    {
     "data": {
      "text/plain": [
       "'670.3'"
      ]
     },
     "metadata": {},
     "output_type": "display_data"
    },
    {
     "data": {
      "text/plain": [
       "'158.5'"
      ]
     },
     "metadata": {},
     "output_type": "display_data"
    },
    {
     "data": {
      "text/plain": [
       "'372.2'"
      ]
     },
     "metadata": {},
     "output_type": "display_data"
    },
    {
     "data": {
      "text/plain": [
       "'0.966'"
      ]
     },
     "metadata": {},
     "output_type": "display_data"
    },
    {
     "data": {
      "text/plain": [
       "'870.9'"
      ]
     },
     "metadata": {},
     "output_type": "display_data"
    },
    {
     "data": {
      "text/plain": [
       "'0.932'"
      ]
     },
     "metadata": {},
     "output_type": "display_data"
    },
    {
     "data": {
      "text/plain": [
       "'0.306'"
      ]
     },
     "metadata": {},
     "output_type": "display_data"
    },
    {
     "data": {
      "text/plain": [
       "'0.225'"
      ]
     },
     "metadata": {},
     "output_type": "display_data"
    },
    {
     "data": {
      "text/plain": [
       "'807.1'"
      ]
     },
     "metadata": {},
     "output_type": "display_data"
    },
    {
     "data": {
      "text/plain": [
       "'501.1'"
      ]
     },
     "metadata": {},
     "output_type": "display_data"
    },
    {
     "data": {
      "text/plain": [
       "'0.845'"
      ]
     },
     "metadata": {},
     "output_type": "display_data"
    },
    {
     "data": {
      "text/plain": [
       "'2210'"
      ]
     },
     "metadata": {},
     "output_type": "display_data"
    },
    {
     "data": {
      "text/plain": [
       "'0.159'"
      ]
     },
     "metadata": {},
     "output_type": "display_data"
    },
    {
     "data": {
      "text/plain": [
       "'0.670'"
      ]
     },
     "metadata": {},
     "output_type": "display_data"
    },
    {
     "data": {
      "text/plain": [
       "'0.809'"
      ]
     },
     "metadata": {},
     "output_type": "display_data"
    },
    {
     "data": {
      "text/plain": [
       "'157.5'"
      ]
     },
     "metadata": {},
     "output_type": "display_data"
    },
    {
     "data": {
      "text/plain": [
       "'0.521'"
      ]
     },
     "metadata": {},
     "output_type": "display_data"
    },
    {
     "data": {
      "text/plain": [
       "'0.876'"
      ]
     },
     "metadata": {},
     "output_type": "display_data"
    },
    {
     "data": {
      "text/plain": [
       "'844.3'"
      ]
     },
     "metadata": {},
     "output_type": "display_data"
    },
    {
     "data": {
      "text/plain": [
       "'0.900'"
      ]
     },
     "metadata": {},
     "output_type": "display_data"
    },
    {
     "data": {
      "text/plain": [
       "'310.1'"
      ]
     },
     "metadata": {},
     "output_type": "display_data"
    },
    {
     "data": {
      "text/plain": [
       "'180.6'"
      ]
     },
     "metadata": {},
     "output_type": "display_data"
    },
    {
     "data": {
      "text/plain": [
       "'180.5'"
      ]
     },
     "metadata": {},
     "output_type": "display_data"
    },
    {
     "data": {
      "text/plain": [
       "'501.5'"
      ]
     },
     "metadata": {},
     "output_type": "display_data"
    },
    {
     "data": {
      "text/plain": [
       "'0.512'"
      ]
     },
     "metadata": {},
     "output_type": "display_data"
    },
    {
     "data": {
      "text/plain": [
       "'337.1'"
      ]
     },
     "metadata": {},
     "output_type": "display_data"
    },
    {
     "data": {
      "text/plain": [
       "'600.6'"
      ]
     },
     "metadata": {},
     "output_type": "display_data"
    },
    {
     "data": {
      "text/plain": [
       "'0.399'"
      ]
     },
     "metadata": {},
     "output_type": "display_data"
    },
    {
     "data": {
      "text/plain": [
       "'0.501'"
      ]
     },
     "metadata": {},
     "output_type": "display_data"
    },
    {
     "data": {
      "text/plain": [
       "'0.336'"
      ]
     },
     "metadata": {},
     "output_type": "display_data"
    },
    {
     "data": {
      "text/plain": [
       "'206.1'"
      ]
     },
     "metadata": {},
     "output_type": "display_data"
    },
    {
     "data": {
      "text/plain": [
       "'385.1'"
      ]
     },
     "metadata": {},
     "output_type": "display_data"
    },
    {
     "data": {
      "text/plain": [
       "'0.823'"
      ]
     },
     "metadata": {},
     "output_type": "display_data"
    },
    {
     "data": {
      "text/plain": [
       "'401.1'"
      ]
     },
     "metadata": {},
     "output_type": "display_data"
    },
    {
     "data": {
      "text/plain": [
       "'637.2'"
      ]
     },
     "metadata": {},
     "output_type": "display_data"
    },
    {
     "data": {
      "text/plain": [
       "'0.347'"
      ]
     },
     "metadata": {},
     "output_type": "display_data"
    },
    {
     "data": {
      "text/plain": [
       "'100.3'"
      ]
     },
     "metadata": {},
     "output_type": "display_data"
    },
    {
     "data": {
      "text/plain": [
       "'0.873'"
      ]
     },
     "metadata": {},
     "output_type": "display_data"
    },
    {
     "data": {
      "text/plain": [
       "'0.844'"
      ]
     },
     "metadata": {},
     "output_type": "display_data"
    },
    {
     "data": {
      "text/plain": [
       "'0.172'"
      ]
     },
     "metadata": {},
     "output_type": "display_data"
    },
    {
     "data": {
      "text/plain": [
       "'805.6'"
      ]
     },
     "metadata": {},
     "output_type": "display_data"
    },
    {
     "data": {
      "text/plain": [
       "'506.2'"
      ]
     },
     "metadata": {},
     "output_type": "display_data"
    },
    {
     "data": {
      "text/plain": [
       "'813.3'"
      ]
     },
     "metadata": {},
     "output_type": "display_data"
    }
   ],
   "source": [
    "linestringLinhas = linhas[linhas['sentido']=='IDA']\n",
    "for i in range(linestringLinhas.shape[0]):\n",
    "     line = linestringLinhas.iloc[i]\n",
    "     display(line.linha)"
   ]
  },
  {
   "cell_type": "code",
   "execution_count": 44,
   "metadata": {},
   "outputs": [
    {
     "name": "stderr",
     "output_type": "stream",
     "text": [
      "/home/luiz/.pyenv/versions/3.11.3/envs/dev/lib/python3.11/site-packages/shapely/measurement.py:74: RuntimeWarning: invalid value encountered in distance\n",
      "  return lib.distance(a, b, **kwargs)\n",
      "/home/luiz/.pyenv/versions/3.11.3/envs/dev/lib/python3.11/site-packages/shapely/measurement.py:74: RuntimeWarning: invalid value encountered in distance\n",
      "  return lib.distance(a, b, **kwargs)\n",
      "/home/luiz/.pyenv/versions/3.11.3/envs/dev/lib/python3.11/site-packages/shapely/measurement.py:74: RuntimeWarning: invalid value encountered in distance\n",
      "  return lib.distance(a, b, **kwargs)\n"
     ]
    }
   ],
   "source": [
    "import geopandas as gpd\n",
    "from shapely.geometry import LineString, Point\n",
    "import folium\n",
    "import pandas as pd\n",
    "\n",
    "# Filtrando a linestring apenas pelas linhas de onibus de ida\n",
    "linestringLinhas = linhas[linhas['sentido']=='IDA']\n",
    "linestringLinhas = linestringLinhas.to_crs('EPSG:4326')\n",
    "# Criando um pandasdatagrame para armazenar todas as nossas linhas\n",
    "df = pd.DataFrame(columns=['linha', 'parada'])\n",
    "\n",
    "# Fazendo um loop para percorrer todas as linhas de onibus\n",
    "for i in range(linestringLinhas.shape[0]):\n",
    "    line = linestringLinhas.iloc[i]\n",
    "    linestring = linestringLinhas.geometry.iloc[i]   \n",
    "\n",
    "    # Criando listas para armazenar as paradas e dados dos ids da paradas encontradas\n",
    "    paradas_encontradas = []\n",
    "    data = []\n",
    "\n",
    "    limite_proximidade = 0.0002\n",
    "\n",
    "    # Iterar sobre os pontos de paradas e verificar se estão próximos da Linestring\n",
    "    for idx, ponto_parada in paradas.iterrows():\n",
    "        ponto = ponto_parada[\"geometry\"]\n",
    "        distancia = linestring.distance(ponto)\n",
    "        if distancia <= limite_proximidade:\n",
    "            paradas_encontradas.append(ponto_parada)\n",
    "\n",
    "    # Criar um novo GeoDataFrame com as paradas encontradas\n",
    "    gdf_paradas_encontradas = gpd.GeoDataFrame(paradas_encontradas, crs='EPSG:4326')\n",
    "\n",
    "    # Plotar as paradas de ônibus no mapa com o Folium\n",
    "    # m = folium.Map(location=[-15.76050, -47.78134], zoom_start=10)\n",
    "\n",
    "    for idx, ponto_parada in gdf_paradas_encontradas.iterrows():\n",
    "        lat, lon = ponto_parada[\"geometry\"].y, ponto_parada[\"geometry\"].x\n",
    "        data.append([lat, lon, ponto_parada['parada']])\n",
    "        # folium.Marker([lat, lon], popup=ponto_parada['parada']).add_to(m)\n",
    "    df.loc[i] = [line.linha, data]"
   ]
  },
  {
   "cell_type": "code",
   "execution_count": 45,
   "metadata": {},
   "outputs": [],
   "source": [
    "import os\n",
    "\n",
    "if not os.path.exists('../databases/luiz_dataset'):\n",
    "    os.makedirs('../databases/luiz_dataset')\n",
    "df.to_csv('../databases/luiz_dataset/paradas_linestrings_ida.csv')"
   ]
  },
  {
   "cell_type": "code",
   "execution_count": 46,
   "metadata": {},
   "outputs": [
    {
     "name": "stderr",
     "output_type": "stream",
     "text": [
      "/home/luiz/.pyenv/versions/3.11.3/envs/dev/lib/python3.11/site-packages/shapely/measurement.py:74: RuntimeWarning: invalid value encountered in distance\n",
      "  return lib.distance(a, b, **kwargs)\n",
      "/home/luiz/.pyenv/versions/3.11.3/envs/dev/lib/python3.11/site-packages/shapely/measurement.py:74: RuntimeWarning: invalid value encountered in distance\n",
      "  return lib.distance(a, b, **kwargs)\n",
      "/home/luiz/.pyenv/versions/3.11.3/envs/dev/lib/python3.11/site-packages/shapely/measurement.py:74: RuntimeWarning: invalid value encountered in distance\n",
      "  return lib.distance(a, b, **kwargs)\n"
     ]
    }
   ],
   "source": [
    "import geopandas as gpd\n",
    "from shapely.geometry import LineString, Point\n",
    "import folium\n",
    "import pandas as pd\n",
    "\n",
    "# Filtrando a linestring apenas pelas linhas de onibus de ida\n",
    "linestringLinhas = linhas[linhas['sentido']=='VOLTA']\n",
    "linestringLinhas = linestringLinhas.to_crs('EPSG:4326')\n",
    "# Criando um pandasdatagrame para armazenar todas as nossas linhas\n",
    "df = pd.DataFrame(columns=['linha', 'parada'])\n",
    "\n",
    "# Fazendo um loop para percorrer todas as linhas de onibus\n",
    "for i in range(linestringLinhas.shape[0]):\n",
    "    line = linestringLinhas.iloc[i]\n",
    "    linestring = linestringLinhas.geometry.iloc[i]   \n",
    "\n",
    "    # Criando listas para armazenar as paradas e dados dos ids da paradas encontradas\n",
    "    paradas_encontradas = []\n",
    "    data = []\n",
    "\n",
    "    limite_proximidade = 0.0002\n",
    "\n",
    "    # Iterar sobre os pontos de paradas e verificar se estão próximos da Linestring\n",
    "    for idx, ponto_parada in paradas.iterrows():\n",
    "        ponto = ponto_parada[\"geometry\"]\n",
    "        distancia = linestring.distance(ponto)\n",
    "        if distancia <= limite_proximidade:\n",
    "            paradas_encontradas.append(ponto_parada)\n",
    "\n",
    "    # Criar um novo GeoDataFrame com as paradas encontradas\n",
    "    gdf_paradas_encontradas = gpd.GeoDataFrame(paradas_encontradas, crs='EPSG:4326')\n",
    "\n",
    "    # Plotar as paradas de ônibus no mapa com o Folium\n",
    "    # m = folium.Map(location=[-15.76050, -47.78134], zoom_start=10)\n",
    "\n",
    "    for idx, ponto_parada in gdf_paradas_encontradas.iterrows():\n",
    "        lat, lon = ponto_parada[\"geometry\"].y, ponto_parada[\"geometry\"].x\n",
    "        data.append([lat, lon, ponto_parada['parada']])\n",
    "        # folium.Marker([lat, lon], popup=ponto_parada['parada']).add_to(m)\n",
    "    df.loc[i] = [line.linha, data]\n",
    "    "
   ]
  },
  {
   "cell_type": "code",
   "execution_count": 47,
   "metadata": {},
   "outputs": [
    {
     "data": {
      "text/html": [
       "<div>\n",
       "<style scoped>\n",
       "    .dataframe tbody tr th:only-of-type {\n",
       "        vertical-align: middle;\n",
       "    }\n",
       "\n",
       "    .dataframe tbody tr th {\n",
       "        vertical-align: top;\n",
       "    }\n",
       "\n",
       "    .dataframe thead th {\n",
       "        text-align: right;\n",
       "    }\n",
       "</style>\n",
       "<table border=\"1\" class=\"dataframe\">\n",
       "  <thead>\n",
       "    <tr style=\"text-align: right;\">\n",
       "      <th></th>\n",
       "      <th>linha</th>\n",
       "      <th>parada</th>\n",
       "    </tr>\n",
       "  </thead>\n",
       "  <tbody>\n",
       "    <tr>\n",
       "      <th>0</th>\n",
       "      <td>0.018</td>\n",
       "      <td>[[-15.767293, -47.788723, 7557], [-15.77012499...</td>\n",
       "    </tr>\n",
       "    <tr>\n",
       "      <th>1</th>\n",
       "      <td>100.2</td>\n",
       "      <td>[[-15.858748568353112, -47.92771717852002, 250...</td>\n",
       "    </tr>\n",
       "    <tr>\n",
       "      <th>2</th>\n",
       "      <td>531.1</td>\n",
       "      <td>[[-15.638937404577504, -47.82260762728512, 491...</td>\n",
       "    </tr>\n",
       "    <tr>\n",
       "      <th>3</th>\n",
       "      <td>396.2</td>\n",
       "      <td>[[-15.866860500781998, -47.96679853983349, 605...</td>\n",
       "    </tr>\n",
       "    <tr>\n",
       "      <th>4</th>\n",
       "      <td>0.851</td>\n",
       "      <td>[[-15.866860500781998, -47.96679853983349, 605...</td>\n",
       "    </tr>\n",
       "    <tr>\n",
       "      <th>...</th>\n",
       "      <td>...</td>\n",
       "      <td>...</td>\n",
       "    </tr>\n",
       "    <tr>\n",
       "      <th>472</th>\n",
       "      <td>0.844</td>\n",
       "      <td>[[-15.880512000000007, -48.122922, 7626], [-15...</td>\n",
       "    </tr>\n",
       "    <tr>\n",
       "      <th>473</th>\n",
       "      <td>0.845</td>\n",
       "      <td>[[-15.898521115410318, -48.12156066472963, 411...</td>\n",
       "    </tr>\n",
       "    <tr>\n",
       "      <th>474</th>\n",
       "      <td>0.172</td>\n",
       "      <td>[[-15.866860500781998, -47.96679853983349, 605...</td>\n",
       "    </tr>\n",
       "    <tr>\n",
       "      <th>475</th>\n",
       "      <td>805.6</td>\n",
       "      <td>[[-15.86461088791683, -48.02439841365415, 5335...</td>\n",
       "    </tr>\n",
       "    <tr>\n",
       "      <th>476</th>\n",
       "      <td>506.2</td>\n",
       "      <td>[[-15.638590438131189, -47.82156276939281, 487...</td>\n",
       "    </tr>\n",
       "  </tbody>\n",
       "</table>\n",
       "<p>477 rows × 2 columns</p>\n",
       "</div>"
      ],
      "text/plain": [
       "     linha                                             parada\n",
       "0    0.018  [[-15.767293, -47.788723, 7557], [-15.77012499...\n",
       "1    100.2  [[-15.858748568353112, -47.92771717852002, 250...\n",
       "2    531.1  [[-15.638937404577504, -47.82260762728512, 491...\n",
       "3    396.2  [[-15.866860500781998, -47.96679853983349, 605...\n",
       "4    0.851  [[-15.866860500781998, -47.96679853983349, 605...\n",
       "..     ...                                                ...\n",
       "472  0.844  [[-15.880512000000007, -48.122922, 7626], [-15...\n",
       "473  0.845  [[-15.898521115410318, -48.12156066472963, 411...\n",
       "474  0.172  [[-15.866860500781998, -47.96679853983349, 605...\n",
       "475  805.6  [[-15.86461088791683, -48.02439841365415, 5335...\n",
       "476  506.2  [[-15.638590438131189, -47.82156276939281, 487...\n",
       "\n",
       "[477 rows x 2 columns]"
      ]
     },
     "execution_count": 47,
     "metadata": {},
     "output_type": "execute_result"
    }
   ],
   "source": [
    "df"
   ]
  },
  {
   "cell_type": "code",
   "execution_count": 48,
   "metadata": {},
   "outputs": [
    {
     "name": "stdout",
     "output_type": "stream",
     "text": [
      "0.018\n"
     ]
    },
    {
     "data": {
      "text/plain": [
       "[[-15.767293, -47.788723, '7557'],\n",
       " [-15.770124999999993, -47.788733, '7558'],\n",
       " [-15.76816299999999, -47.79217, '7559'],\n",
       " [-15.76878769178167, -47.79181613649742, '6849'],\n",
       " [-15.80215197439144, -47.85334236319928, '3274'],\n",
       " [-15.810564155657119, -47.84685850621892, '2442'],\n",
       " [-15.736023802288491, -47.9043530752539, '6287'],\n",
       " [-15.803428845776875, -47.79425505968125, '2396'],\n",
       " [-15.809442370814327, -47.80092191122717, '2395'],\n",
       " [-15.803454253894726, -47.79461287922536, '2397'],\n",
       " [-15.829392241144253, -47.81058449567555, '2389'],\n",
       " [-15.831581136451492, -47.8129618471711, '2388'],\n",
       " [-15.798766726003029, -47.87085223489018, '3270'],\n",
       " [-15.799287300335465, -47.86919901400948, '3271'],\n",
       " [-15.798242350178315, -47.872512648437414, '3269'],\n",
       " [-15.800349949694871, -47.865823638647186, '3272'],\n",
       " [-15.80140481164999, -47.86245692727506, '3273'],\n",
       " [-15.817478071398625, -47.805750824839436, '2393'],\n",
       " [-15.822977042333191, -47.805016085485335, '2391'],\n",
       " [-15.820146118518355, -47.80504912316825, '2392'],\n",
       " [-15.812808239882703, -47.804775773344375, '2394'],\n",
       " [-15.826122070013904, -47.807021230860975, '2390'],\n",
       " [-15.818830353576622, -47.83326930713607, '2443'],\n",
       " [-15.764157999999997, -47.793713, '7560'],\n",
       " [-15.763024000000007, -47.792896, '7561'],\n",
       " [-15.762654999999999, -47.785836, '7555'],\n",
       " [-15.764453999999999, -47.788622, '7556'],\n",
       " [-15.763012000000002, -47.78935, '7562'],\n",
       " [-15.763044999999995, -47.78651, '7563'],\n",
       " [-15.762564999999999, -47.784828, '7564'],\n",
       " [-15.762653033595509, -47.78497118582577, '6855'],\n",
       " [-15.762575142626542, -47.78549231060707, '6856'],\n",
       " [-15.7824250556501, -47.778203171611075, '2697'],\n",
       " [-15.782404999999997, -47.778199, '7797'],\n",
       " [-15.780086814616286, -47.77954208413691, '2698'],\n",
       " [-15.831128089996014, -47.82619049996033, '2444'],\n",
       " [-15.79501763943123, -47.78276348911926, '2350'],\n",
       " [-15.785406445712793, -47.77728909161838, '2696'],\n",
       " [-15.83530412611058, -47.821769542188825, '2386'],\n",
       " [-15.835294075181668, -47.81849649042615, '2387'],\n",
       " [-15.754208960654712, -47.89424438985205, '3528'],\n",
       " [-15.75717373866217, -47.89329530076313, '3529'],\n",
       " [-15.760465433818393, -47.89223559810704, '3530'],\n",
       " [-15.750964679369993, -47.89528324932769, '3527'],\n",
       " [-15.780964411486119, -47.887867366820046, '3537'],\n",
       " [-15.777867601935073, -47.88808519169229, '3536'],\n",
       " [-15.79595522497425, -47.88008167282463, '3268'],\n",
       " [-15.763359943029167, -47.89131190194332, '3531'],\n",
       " [-15.766656694428423, -47.8902569120232, '3532'],\n",
       " [-15.76925722178799, -47.88955468811846, '3533'],\n",
       " [-15.771805359502322, -47.888934384031636, '3534'],\n",
       " [-15.7748788137897, -47.88843148773567, '3535'],\n",
       " [-15.748031643828298, -47.89622512072298, '3526'],\n",
       " [-15.78523008062385, -47.88797392390371, '3538'],\n",
       " [-15.761097194970981, -47.78061837239957, '2707'],\n",
       " [-15.738477194215498, -47.89929609836221, '3523'],\n",
       " [-15.741813505314967, -47.898220834748756, '3524'],\n",
       " [-15.744737354143842, -47.89728338606178, '3525']]"
      ]
     },
     "execution_count": 48,
     "metadata": {},
     "output_type": "execute_result"
    }
   ],
   "source": [
    "print(df.linha[0]) # linha de ida da 0.018\n",
    "df.parada[0] # Verificando os pontos de paradas com seus respectivos números. "
   ]
  },
  {
   "cell_type": "code",
   "execution_count": 49,
   "metadata": {},
   "outputs": [
    {
     "data": {
      "text/plain": [
       "(58, 3)"
      ]
     },
     "execution_count": 49,
     "metadata": {},
     "output_type": "execute_result"
    }
   ],
   "source": [
    "# Trabalhando com o dataframe criado\n",
    "# Primeiro convertendo para array m*3\n",
    "import numpy as np\n",
    "a = np.array(df.parada[0])\n",
    "a.shape"
   ]
  },
  {
   "cell_type": "code",
   "execution_count": 50,
   "metadata": {},
   "outputs": [
    {
     "data": {
      "text/html": [
       "<div style=\"width:100%;\"><div style=\"position:relative;width:100%;height:0;padding-bottom:60%;\"><span style=\"color:#565656\">Make this Notebook Trusted to load map: File -> Trust Notebook</span><iframe srcdoc=\"&lt;!DOCTYPE html&gt;\n",
       "&lt;html&gt;\n",
       "&lt;head&gt;\n",
       "    \n",
       "    &lt;meta http-equiv=&quot;content-type&quot; content=&quot;text/html; charset=UTF-8&quot; /&gt;\n",
       "    \n",
       "        &lt;script&gt;\n",
       "            L_NO_TOUCH = false;\n",
       "            L_DISABLE_3D = false;\n",
       "        &lt;/script&gt;\n",
       "    \n",
       "    &lt;style&gt;html, body {width: 100%;height: 100%;margin: 0;padding: 0;}&lt;/style&gt;\n",
       "    &lt;style&gt;#map {position:absolute;top:0;bottom:0;right:0;left:0;}&lt;/style&gt;\n",
       "    &lt;script src=&quot;https://cdn.jsdelivr.net/npm/leaflet@1.9.3/dist/leaflet.js&quot;&gt;&lt;/script&gt;\n",
       "    &lt;script src=&quot;https://code.jquery.com/jquery-1.12.4.min.js&quot;&gt;&lt;/script&gt;\n",
       "    &lt;script src=&quot;https://cdn.jsdelivr.net/npm/bootstrap@5.2.2/dist/js/bootstrap.bundle.min.js&quot;&gt;&lt;/script&gt;\n",
       "    &lt;script src=&quot;https://cdnjs.cloudflare.com/ajax/libs/Leaflet.awesome-markers/2.0.2/leaflet.awesome-markers.js&quot;&gt;&lt;/script&gt;\n",
       "    &lt;link rel=&quot;stylesheet&quot; href=&quot;https://cdn.jsdelivr.net/npm/leaflet@1.9.3/dist/leaflet.css&quot;/&gt;\n",
       "    &lt;link rel=&quot;stylesheet&quot; href=&quot;https://cdn.jsdelivr.net/npm/bootstrap@5.2.2/dist/css/bootstrap.min.css&quot;/&gt;\n",
       "    &lt;link rel=&quot;stylesheet&quot; href=&quot;https://netdna.bootstrapcdn.com/bootstrap/3.0.0/css/bootstrap.min.css&quot;/&gt;\n",
       "    &lt;link rel=&quot;stylesheet&quot; href=&quot;https://cdn.jsdelivr.net/npm/@fortawesome/fontawesome-free@6.2.0/css/all.min.css&quot;/&gt;\n",
       "    &lt;link rel=&quot;stylesheet&quot; href=&quot;https://cdnjs.cloudflare.com/ajax/libs/Leaflet.awesome-markers/2.0.2/leaflet.awesome-markers.css&quot;/&gt;\n",
       "    &lt;link rel=&quot;stylesheet&quot; href=&quot;https://cdn.jsdelivr.net/gh/python-visualization/folium/folium/templates/leaflet.awesome.rotate.min.css&quot;/&gt;\n",
       "    \n",
       "            &lt;meta name=&quot;viewport&quot; content=&quot;width=device-width,\n",
       "                initial-scale=1.0, maximum-scale=1.0, user-scalable=no&quot; /&gt;\n",
       "            &lt;style&gt;\n",
       "                #map_04e8a856477d50a49c2a41414bf58aea {\n",
       "                    position: relative;\n",
       "                    width: 100.0%;\n",
       "                    height: 100.0%;\n",
       "                    left: 0.0%;\n",
       "                    top: 0.0%;\n",
       "                }\n",
       "                .leaflet-container { font-size: 1rem; }\n",
       "            &lt;/style&gt;\n",
       "        \n",
       "&lt;/head&gt;\n",
       "&lt;body&gt;\n",
       "    \n",
       "    \n",
       "            &lt;div class=&quot;folium-map&quot; id=&quot;map_04e8a856477d50a49c2a41414bf58aea&quot; &gt;&lt;/div&gt;\n",
       "        \n",
       "&lt;/body&gt;\n",
       "&lt;script&gt;\n",
       "    \n",
       "    \n",
       "            var map_04e8a856477d50a49c2a41414bf58aea = L.map(\n",
       "                &quot;map_04e8a856477d50a49c2a41414bf58aea&quot;,\n",
       "                {\n",
       "                    center: [-15.912965715195082, -48.0991417564201],\n",
       "                    crs: L.CRS.EPSG3857,\n",
       "                    zoom: 13,\n",
       "                    zoomControl: true,\n",
       "                    preferCanvas: false,\n",
       "                }\n",
       "            );\n",
       "\n",
       "            \n",
       "\n",
       "        \n",
       "    \n",
       "            var tile_layer_a630f5df906e319b92ef88ce0728fd93 = L.tileLayer(\n",
       "                &quot;https://{s}.tile.openstreetmap.org/{z}/{x}/{y}.png&quot;,\n",
       "                {&quot;attribution&quot;: &quot;Data by \\u0026copy; \\u003ca target=\\&quot;_blank\\&quot; href=\\&quot;http://openstreetmap.org\\&quot;\\u003eOpenStreetMap\\u003c/a\\u003e, under \\u003ca target=\\&quot;_blank\\&quot; href=\\&quot;http://www.openstreetmap.org/copyright\\&quot;\\u003eODbL\\u003c/a\\u003e.&quot;, &quot;detectRetina&quot;: false, &quot;maxNativeZoom&quot;: 18, &quot;maxZoom&quot;: 18, &quot;minZoom&quot;: 0, &quot;noWrap&quot;: false, &quot;opacity&quot;: 1, &quot;subdomains&quot;: &quot;abc&quot;, &quot;tms&quot;: false}\n",
       "            ).addTo(map_04e8a856477d50a49c2a41414bf58aea);\n",
       "        \n",
       "    \n",
       "            var marker_e82ad42c69fb9ae853808c2892d8de28 = L.marker(\n",
       "                [-15.912965715195082, -48.0991417564201],\n",
       "                {}\n",
       "            ).addTo(map_04e8a856477d50a49c2a41414bf58aea);\n",
       "        \n",
       "    \n",
       "        var popup_4f8a4707f9fd8a7148fbdbc709fc767c = L.popup({&quot;maxWidth&quot;: &quot;100%&quot;});\n",
       "\n",
       "        \n",
       "            \n",
       "                var html_e59d1e7ff6f8f16ab7cf52fd05dcfb4f = $(`&lt;div id=&quot;html_e59d1e7ff6f8f16ab7cf52fd05dcfb4f&quot; style=&quot;width: 100.0%; height: 100.0%;&quot;&gt;3882&lt;/div&gt;`)[0];\n",
       "                popup_4f8a4707f9fd8a7148fbdbc709fc767c.setContent(html_e59d1e7ff6f8f16ab7cf52fd05dcfb4f);\n",
       "            \n",
       "        \n",
       "\n",
       "        marker_e82ad42c69fb9ae853808c2892d8de28.bindPopup(popup_4f8a4707f9fd8a7148fbdbc709fc767c)\n",
       "        ;\n",
       "\n",
       "        \n",
       "    \n",
       "    \n",
       "            var marker_f22140eaf0bf5900d86b443f590c0d6f = L.marker(\n",
       "                [-15.914350055552772, -48.10134574919791],\n",
       "                {}\n",
       "            ).addTo(map_04e8a856477d50a49c2a41414bf58aea);\n",
       "        \n",
       "    \n",
       "        var popup_6ffcd854587b6da31398f3eaaa9afa47 = L.popup({&quot;maxWidth&quot;: &quot;100%&quot;});\n",
       "\n",
       "        \n",
       "            \n",
       "                var html_99313199d9ec1733b4c1df9c266e9a26 = $(`&lt;div id=&quot;html_99313199d9ec1733b4c1df9c266e9a26&quot; style=&quot;width: 100.0%; height: 100.0%;&quot;&gt;3883&lt;/div&gt;`)[0];\n",
       "                popup_6ffcd854587b6da31398f3eaaa9afa47.setContent(html_99313199d9ec1733b4c1df9c266e9a26);\n",
       "            \n",
       "        \n",
       "\n",
       "        marker_f22140eaf0bf5900d86b443f590c0d6f.bindPopup(popup_6ffcd854587b6da31398f3eaaa9afa47)\n",
       "        ;\n",
       "\n",
       "        \n",
       "    \n",
       "    \n",
       "            var marker_05a032194b1867920d7aac7e55c8fd8c = L.marker(\n",
       "                [-15.918457625116746, -48.10193728176956],\n",
       "                {}\n",
       "            ).addTo(map_04e8a856477d50a49c2a41414bf58aea);\n",
       "        \n",
       "    \n",
       "        var popup_5ba29543266a82dba48737030de521e4 = L.popup({&quot;maxWidth&quot;: &quot;100%&quot;});\n",
       "\n",
       "        \n",
       "            \n",
       "                var html_a90a34e6408afc92564e54f4ed37452c = $(`&lt;div id=&quot;html_a90a34e6408afc92564e54f4ed37452c&quot; style=&quot;width: 100.0%; height: 100.0%;&quot;&gt;3884&lt;/div&gt;`)[0];\n",
       "                popup_5ba29543266a82dba48737030de521e4.setContent(html_a90a34e6408afc92564e54f4ed37452c);\n",
       "            \n",
       "        \n",
       "\n",
       "        marker_05a032194b1867920d7aac7e55c8fd8c.bindPopup(popup_5ba29543266a82dba48737030de521e4)\n",
       "        ;\n",
       "\n",
       "        \n",
       "    \n",
       "    \n",
       "            var marker_38f58b9058367bad48c387fcd62de3ef = L.marker(\n",
       "                [-15.921831326303028, -48.103734162546544],\n",
       "                {}\n",
       "            ).addTo(map_04e8a856477d50a49c2a41414bf58aea);\n",
       "        \n",
       "    \n",
       "        var popup_5bb7cd283daf92139b00debc1e9776c7 = L.popup({&quot;maxWidth&quot;: &quot;100%&quot;});\n",
       "\n",
       "        \n",
       "            \n",
       "                var html_0a1771759abbe73021f6d3082cb015e7 = $(`&lt;div id=&quot;html_0a1771759abbe73021f6d3082cb015e7&quot; style=&quot;width: 100.0%; height: 100.0%;&quot;&gt;3885&lt;/div&gt;`)[0];\n",
       "                popup_5bb7cd283daf92139b00debc1e9776c7.setContent(html_0a1771759abbe73021f6d3082cb015e7);\n",
       "            \n",
       "        \n",
       "\n",
       "        marker_38f58b9058367bad48c387fcd62de3ef.bindPopup(popup_5bb7cd283daf92139b00debc1e9776c7)\n",
       "        ;\n",
       "\n",
       "        \n",
       "    \n",
       "    \n",
       "            var marker_0e4c2148b6689cd5eda0283567058576 = L.marker(\n",
       "                [-15.923482770153871, -48.104634244060826],\n",
       "                {}\n",
       "            ).addTo(map_04e8a856477d50a49c2a41414bf58aea);\n",
       "        \n",
       "    \n",
       "        var popup_94fa7e778213cfdb45639e54372e4af5 = L.popup({&quot;maxWidth&quot;: &quot;100%&quot;});\n",
       "\n",
       "        \n",
       "            \n",
       "                var html_301cc658d1e717cbaf181ddf4439a25b = $(`&lt;div id=&quot;html_301cc658d1e717cbaf181ddf4439a25b&quot; style=&quot;width: 100.0%; height: 100.0%;&quot;&gt;3886&lt;/div&gt;`)[0];\n",
       "                popup_94fa7e778213cfdb45639e54372e4af5.setContent(html_301cc658d1e717cbaf181ddf4439a25b);\n",
       "            \n",
       "        \n",
       "\n",
       "        marker_0e4c2148b6689cd5eda0283567058576.bindPopup(popup_94fa7e778213cfdb45639e54372e4af5)\n",
       "        ;\n",
       "\n",
       "        \n",
       "    \n",
       "    \n",
       "            var marker_4dde57afc5db845e356ead3a894679a8 = L.marker(\n",
       "                [-15.903534453011293, -48.071709884449426],\n",
       "                {}\n",
       "            ).addTo(map_04e8a856477d50a49c2a41414bf58aea);\n",
       "        \n",
       "    \n",
       "        var popup_79ffa649e1ea4fa76704b5900c719c03 = L.popup({&quot;maxWidth&quot;: &quot;100%&quot;});\n",
       "\n",
       "        \n",
       "            \n",
       "                var html_92d0640ce58cb7e94c26efc1eb66c362 = $(`&lt;div id=&quot;html_92d0640ce58cb7e94c26efc1eb66c362&quot; style=&quot;width: 100.0%; height: 100.0%;&quot;&gt;3873&lt;/div&gt;`)[0];\n",
       "                popup_79ffa649e1ea4fa76704b5900c719c03.setContent(html_92d0640ce58cb7e94c26efc1eb66c362);\n",
       "            \n",
       "        \n",
       "\n",
       "        marker_4dde57afc5db845e356ead3a894679a8.bindPopup(popup_79ffa649e1ea4fa76704b5900c719c03)\n",
       "        ;\n",
       "\n",
       "        \n",
       "    \n",
       "    \n",
       "            var marker_c8373f194e7f0cfe20fa268d4827b4b5 = L.marker(\n",
       "                [-15.904556, -48.075886],\n",
       "                {}\n",
       "            ).addTo(map_04e8a856477d50a49c2a41414bf58aea);\n",
       "        \n",
       "    \n",
       "        var popup_f9c9b119c1b4a300c6bb3bf6866ef5dc = L.popup({&quot;maxWidth&quot;: &quot;100%&quot;});\n",
       "\n",
       "        \n",
       "            \n",
       "                var html_74aeea6e33c2a9f1b50e6e197cc14a9d = $(`&lt;div id=&quot;html_74aeea6e33c2a9f1b50e6e197cc14a9d&quot; style=&quot;width: 100.0%; height: 100.0%;&quot;&gt;7864&lt;/div&gt;`)[0];\n",
       "                popup_f9c9b119c1b4a300c6bb3bf6866ef5dc.setContent(html_74aeea6e33c2a9f1b50e6e197cc14a9d);\n",
       "            \n",
       "        \n",
       "\n",
       "        marker_c8373f194e7f0cfe20fa268d4827b4b5.bindPopup(popup_f9c9b119c1b4a300c6bb3bf6866ef5dc)\n",
       "        ;\n",
       "\n",
       "        \n",
       "    \n",
       "    \n",
       "            var marker_d4e91533a14f04b7449ae1f96a0e7804 = L.marker(\n",
       "                [-15.905478610060333, -48.07880978775035],\n",
       "                {}\n",
       "            ).addTo(map_04e8a856477d50a49c2a41414bf58aea);\n",
       "        \n",
       "    \n",
       "        var popup_535da4470ca73a42bd8006426343f542 = L.popup({&quot;maxWidth&quot;: &quot;100%&quot;});\n",
       "\n",
       "        \n",
       "            \n",
       "                var html_44d0a9fb0d54f83110bf332b0e2ce685 = $(`&lt;div id=&quot;html_44d0a9fb0d54f83110bf332b0e2ce685&quot; style=&quot;width: 100.0%; height: 100.0%;&quot;&gt;3875&lt;/div&gt;`)[0];\n",
       "                popup_535da4470ca73a42bd8006426343f542.setContent(html_44d0a9fb0d54f83110bf332b0e2ce685);\n",
       "            \n",
       "        \n",
       "\n",
       "        marker_d4e91533a14f04b7449ae1f96a0e7804.bindPopup(popup_535da4470ca73a42bd8006426343f542)\n",
       "        ;\n",
       "\n",
       "        \n",
       "    \n",
       "    \n",
       "            var marker_bf6249eeba4c2934472da2812dd46cb9 = L.marker(\n",
       "                [-15.90440333257121, -48.075383581990195],\n",
       "                {}\n",
       "            ).addTo(map_04e8a856477d50a49c2a41414bf58aea);\n",
       "        \n",
       "    \n",
       "        var popup_d1ef65088058c8c2c30fc68cbf178454 = L.popup({&quot;maxWidth&quot;: &quot;100%&quot;});\n",
       "\n",
       "        \n",
       "            \n",
       "                var html_883ebca80fdd5d85632be350dfe0ace8 = $(`&lt;div id=&quot;html_883ebca80fdd5d85632be350dfe0ace8&quot; style=&quot;width: 100.0%; height: 100.0%;&quot;&gt;3874&lt;/div&gt;`)[0];\n",
       "                popup_d1ef65088058c8c2c30fc68cbf178454.setContent(html_883ebca80fdd5d85632be350dfe0ace8);\n",
       "            \n",
       "        \n",
       "\n",
       "        marker_bf6249eeba4c2934472da2812dd46cb9.bindPopup(popup_d1ef65088058c8c2c30fc68cbf178454)\n",
       "        ;\n",
       "\n",
       "        \n",
       "    \n",
       "    \n",
       "            var marker_f74f7be7b4a5358aad9b1508eefa418d = L.marker(\n",
       "                [-15.928946971874419, -48.10924831595734],\n",
       "                {}\n",
       "            ).addTo(map_04e8a856477d50a49c2a41414bf58aea);\n",
       "        \n",
       "    \n",
       "        var popup_55d82d8c9e3763a05041640a8c66e123 = L.popup({&quot;maxWidth&quot;: &quot;100%&quot;});\n",
       "\n",
       "        \n",
       "            \n",
       "                var html_bc0fcba0f3e087f886f5cb2500f96cf9 = $(`&lt;div id=&quot;html_bc0fcba0f3e087f886f5cb2500f96cf9&quot; style=&quot;width: 100.0%; height: 100.0%;&quot;&gt;3888&lt;/div&gt;`)[0];\n",
       "                popup_55d82d8c9e3763a05041640a8c66e123.setContent(html_bc0fcba0f3e087f886f5cb2500f96cf9);\n",
       "            \n",
       "        \n",
       "\n",
       "        marker_f74f7be7b4a5358aad9b1508eefa418d.bindPopup(popup_55d82d8c9e3763a05041640a8c66e123)\n",
       "        ;\n",
       "\n",
       "        \n",
       "    \n",
       "    \n",
       "            var marker_e3849508f65ad7c7ee1e7fb1cf7e5c7f = L.marker(\n",
       "                [-15.925649744285199, -48.10617426102641],\n",
       "                {}\n",
       "            ).addTo(map_04e8a856477d50a49c2a41414bf58aea);\n",
       "        \n",
       "    \n",
       "        var popup_59405b5cdb3982901e68e0c875fb94b2 = L.popup({&quot;maxWidth&quot;: &quot;100%&quot;});\n",
       "\n",
       "        \n",
       "            \n",
       "                var html_de3cb62e393635b956b63ab21c1eb0b5 = $(`&lt;div id=&quot;html_de3cb62e393635b956b63ab21c1eb0b5&quot; style=&quot;width: 100.0%; height: 100.0%;&quot;&gt;3887&lt;/div&gt;`)[0];\n",
       "                popup_59405b5cdb3982901e68e0c875fb94b2.setContent(html_de3cb62e393635b956b63ab21c1eb0b5);\n",
       "            \n",
       "        \n",
       "\n",
       "        marker_e3849508f65ad7c7ee1e7fb1cf7e5c7f.bindPopup(popup_59405b5cdb3982901e68e0c875fb94b2)\n",
       "        ;\n",
       "\n",
       "        \n",
       "    \n",
       "    \n",
       "            var marker_8c5e4a9e5b2d92450eaa5df5a45c4fb4 = L.marker(\n",
       "                [-15.898841999999998, -48.055275],\n",
       "                {}\n",
       "            ).addTo(map_04e8a856477d50a49c2a41414bf58aea);\n",
       "        \n",
       "    \n",
       "        var popup_b28f7f95fab793439ad75c63d6121ebb = L.popup({&quot;maxWidth&quot;: &quot;100%&quot;});\n",
       "\n",
       "        \n",
       "            \n",
       "                var html_c556c8e70d5dce31fb27b019676f2b50 = $(`&lt;div id=&quot;html_c556c8e70d5dce31fb27b019676f2b50&quot; style=&quot;width: 100.0%; height: 100.0%;&quot;&gt;7883&lt;/div&gt;`)[0];\n",
       "                popup_b28f7f95fab793439ad75c63d6121ebb.setContent(html_c556c8e70d5dce31fb27b019676f2b50);\n",
       "            \n",
       "        \n",
       "\n",
       "        marker_8c5e4a9e5b2d92450eaa5df5a45c4fb4.bindPopup(popup_b28f7f95fab793439ad75c63d6121ebb)\n",
       "        ;\n",
       "\n",
       "        \n",
       "    \n",
       "    \n",
       "            var marker_c0ec241c3b2f72a726ffc19e8ce790ce = L.marker(\n",
       "                [-15.898841999999998, -48.055275],\n",
       "                {}\n",
       "            ).addTo(map_04e8a856477d50a49c2a41414bf58aea);\n",
       "        \n",
       "    \n",
       "        var popup_6d2380e4a9345f8992aed07098a94414 = L.popup({&quot;maxWidth&quot;: &quot;100%&quot;});\n",
       "\n",
       "        \n",
       "            \n",
       "                var html_92ad76ef213268d640f961a9e822aaf4 = $(`&lt;div id=&quot;html_92ad76ef213268d640f961a9e822aaf4&quot; style=&quot;width: 100.0%; height: 100.0%;&quot;&gt;7884&lt;/div&gt;`)[0];\n",
       "                popup_6d2380e4a9345f8992aed07098a94414.setContent(html_92ad76ef213268d640f961a9e822aaf4);\n",
       "            \n",
       "        \n",
       "\n",
       "        marker_c0ec241c3b2f72a726ffc19e8ce790ce.bindPopup(popup_6d2380e4a9345f8992aed07098a94414)\n",
       "        ;\n",
       "\n",
       "        \n",
       "    \n",
       "    \n",
       "            var marker_eeb4cd502dd9afee028af49f2a3baf67 = L.marker(\n",
       "                [-15.898928000000002, -48.055253],\n",
       "                {}\n",
       "            ).addTo(map_04e8a856477d50a49c2a41414bf58aea);\n",
       "        \n",
       "    \n",
       "        var popup_6b4d35b76b12099053e1f84b8eed1a83 = L.popup({&quot;maxWidth&quot;: &quot;100%&quot;});\n",
       "\n",
       "        \n",
       "            \n",
       "                var html_f52a7501138022c0d06f5e4c0ebcf9d7 = $(`&lt;div id=&quot;html_f52a7501138022c0d06f5e4c0ebcf9d7&quot; style=&quot;width: 100.0%; height: 100.0%;&quot;&gt;7886&lt;/div&gt;`)[0];\n",
       "                popup_6b4d35b76b12099053e1f84b8eed1a83.setContent(html_f52a7501138022c0d06f5e4c0ebcf9d7);\n",
       "            \n",
       "        \n",
       "\n",
       "        marker_eeb4cd502dd9afee028af49f2a3baf67.bindPopup(popup_6b4d35b76b12099053e1f84b8eed1a83)\n",
       "        ;\n",
       "\n",
       "        \n",
       "    \n",
       "    \n",
       "            var marker_69f568a4f7934854c128176df9033a84 = L.marker(\n",
       "                [-15.898838355652625, -48.05526464032733],\n",
       "                {}\n",
       "            ).addTo(map_04e8a856477d50a49c2a41414bf58aea);\n",
       "        \n",
       "    \n",
       "        var popup_42a68ea3b4061d16ef954cd85b7e5007 = L.popup({&quot;maxWidth&quot;: &quot;100%&quot;});\n",
       "\n",
       "        \n",
       "            \n",
       "                var html_ade9ca24a2265de1ca115f754bd998cb = $(`&lt;div id=&quot;html_ade9ca24a2265de1ca115f754bd998cb&quot; style=&quot;width: 100.0%; height: 100.0%;&quot;&gt;3793&lt;/div&gt;`)[0];\n",
       "                popup_42a68ea3b4061d16ef954cd85b7e5007.setContent(html_ade9ca24a2265de1ca115f754bd998cb);\n",
       "            \n",
       "        \n",
       "\n",
       "        marker_69f568a4f7934854c128176df9033a84.bindPopup(popup_42a68ea3b4061d16ef954cd85b7e5007)\n",
       "        ;\n",
       "\n",
       "        \n",
       "    \n",
       "    \n",
       "            var marker_1414feac52d1ef5c30932b51ed794913 = L.marker(\n",
       "                [-15.874862615360769, -48.03234464047525],\n",
       "                {}\n",
       "            ).addTo(map_04e8a856477d50a49c2a41414bf58aea);\n",
       "        \n",
       "    \n",
       "        var popup_257a9009aa8734036829bef53626a269 = L.popup({&quot;maxWidth&quot;: &quot;100%&quot;});\n",
       "\n",
       "        \n",
       "            \n",
       "                var html_d6a26b1369a703b7f7885a8b67e90414 = $(`&lt;div id=&quot;html_d6a26b1369a703b7f7885a8b67e90414&quot; style=&quot;width: 100.0%; height: 100.0%;&quot;&gt;5387&lt;/div&gt;`)[0];\n",
       "                popup_257a9009aa8734036829bef53626a269.setContent(html_d6a26b1369a703b7f7885a8b67e90414);\n",
       "            \n",
       "        \n",
       "\n",
       "        marker_1414feac52d1ef5c30932b51ed794913.bindPopup(popup_257a9009aa8734036829bef53626a269)\n",
       "        ;\n",
       "\n",
       "        \n",
       "    \n",
       "    \n",
       "            var marker_977f89aa05e76ce21ebc8308550b6ec9 = L.marker(\n",
       "                [-15.867722551191601, -48.03240296677416],\n",
       "                {}\n",
       "            ).addTo(map_04e8a856477d50a49c2a41414bf58aea);\n",
       "        \n",
       "    \n",
       "        var popup_4d401c755fd999fc113a0967881f9a9d = L.popup({&quot;maxWidth&quot;: &quot;100%&quot;});\n",
       "\n",
       "        \n",
       "            \n",
       "                var html_ffa3db5d43662a6522ce9d02efdd6f8e = $(`&lt;div id=&quot;html_ffa3db5d43662a6522ce9d02efdd6f8e&quot; style=&quot;width: 100.0%; height: 100.0%;&quot;&gt;4973&lt;/div&gt;`)[0];\n",
       "                popup_4d401c755fd999fc113a0967881f9a9d.setContent(html_ffa3db5d43662a6522ce9d02efdd6f8e);\n",
       "            \n",
       "        \n",
       "\n",
       "        marker_977f89aa05e76ce21ebc8308550b6ec9.bindPopup(popup_4d401c755fd999fc113a0967881f9a9d)\n",
       "        ;\n",
       "\n",
       "        \n",
       "    \n",
       "    \n",
       "            var marker_3ce65bdef5335577f982acfdb01adada = L.marker(\n",
       "                [-15.872535720251461, -48.029875441297115],\n",
       "                {}\n",
       "            ).addTo(map_04e8a856477d50a49c2a41414bf58aea);\n",
       "        \n",
       "    \n",
       "        var popup_3f76abb4b7aef0503bf84b930e0fc1f2 = L.popup({&quot;maxWidth&quot;: &quot;100%&quot;});\n",
       "\n",
       "        \n",
       "            \n",
       "                var html_caabeb0320c86139c60293e25668af53 = $(`&lt;div id=&quot;html_caabeb0320c86139c60293e25668af53&quot; style=&quot;width: 100.0%; height: 100.0%;&quot;&gt;4974&lt;/div&gt;`)[0];\n",
       "                popup_3f76abb4b7aef0503bf84b930e0fc1f2.setContent(html_caabeb0320c86139c60293e25668af53);\n",
       "            \n",
       "        \n",
       "\n",
       "        marker_3ce65bdef5335577f982acfdb01adada.bindPopup(popup_3f76abb4b7aef0503bf84b930e0fc1f2)\n",
       "        ;\n",
       "\n",
       "        \n",
       "    \n",
       "    \n",
       "            var marker_d9be5c0d7a3f564635a0b8f65fbcca84 = L.marker(\n",
       "                [-15.850627304904341, -48.04152877478687],\n",
       "                {}\n",
       "            ).addTo(map_04e8a856477d50a49c2a41414bf58aea);\n",
       "        \n",
       "    \n",
       "        var popup_5b7a823e18fbb9dccb2dbdc9e5fbde75 = L.popup({&quot;maxWidth&quot;: &quot;100%&quot;});\n",
       "\n",
       "        \n",
       "            \n",
       "                var html_fd43f48381c2a3817aac7c64d63719f2 = $(`&lt;div id=&quot;html_fd43f48381c2a3817aac7c64d63719f2&quot; style=&quot;width: 100.0%; height: 100.0%;&quot;&gt;4968&lt;/div&gt;`)[0];\n",
       "                popup_5b7a823e18fbb9dccb2dbdc9e5fbde75.setContent(html_fd43f48381c2a3817aac7c64d63719f2);\n",
       "            \n",
       "        \n",
       "\n",
       "        marker_d9be5c0d7a3f564635a0b8f65fbcca84.bindPopup(popup_5b7a823e18fbb9dccb2dbdc9e5fbde75)\n",
       "        ;\n",
       "\n",
       "        \n",
       "    \n",
       "    \n",
       "            var marker_a321bf15110fcaf2aa987a84fcedf4ff = L.marker(\n",
       "                [-15.85222529247888, -48.04075937532698],\n",
       "                {}\n",
       "            ).addTo(map_04e8a856477d50a49c2a41414bf58aea);\n",
       "        \n",
       "    \n",
       "        var popup_56190037752eab4ff172a8a45bb586c4 = L.popup({&quot;maxWidth&quot;: &quot;100%&quot;});\n",
       "\n",
       "        \n",
       "            \n",
       "                var html_02436c435aa691706f785c094cb86f34 = $(`&lt;div id=&quot;html_02436c435aa691706f785c094cb86f34&quot; style=&quot;width: 100.0%; height: 100.0%;&quot;&gt;6233&lt;/div&gt;`)[0];\n",
       "                popup_56190037752eab4ff172a8a45bb586c4.setContent(html_02436c435aa691706f785c094cb86f34);\n",
       "            \n",
       "        \n",
       "\n",
       "        marker_a321bf15110fcaf2aa987a84fcedf4ff.bindPopup(popup_56190037752eab4ff172a8a45bb586c4)\n",
       "        ;\n",
       "\n",
       "        \n",
       "    \n",
       "    \n",
       "            var marker_d984ed508922acccd525a12f9aeb0ea3 = L.marker(\n",
       "                [-15.855632132217814, -48.03889617952265],\n",
       "                {}\n",
       "            ).addTo(map_04e8a856477d50a49c2a41414bf58aea);\n",
       "        \n",
       "    \n",
       "        var popup_baee54195cffd76dfe243c9515746807 = L.popup({&quot;maxWidth&quot;: &quot;100%&quot;});\n",
       "\n",
       "        \n",
       "            \n",
       "                var html_4b559973f613199180ffe6f7f26d700c = $(`&lt;div id=&quot;html_4b559973f613199180ffe6f7f26d700c&quot; style=&quot;width: 100.0%; height: 100.0%;&quot;&gt;4969&lt;/div&gt;`)[0];\n",
       "                popup_baee54195cffd76dfe243c9515746807.setContent(html_4b559973f613199180ffe6f7f26d700c);\n",
       "            \n",
       "        \n",
       "\n",
       "        marker_d984ed508922acccd525a12f9aeb0ea3.bindPopup(popup_baee54195cffd76dfe243c9515746807)\n",
       "        ;\n",
       "\n",
       "        \n",
       "    \n",
       "    \n",
       "            var marker_8e3389592fbd31edc143d1d8ad2ab5bb = L.marker(\n",
       "                [-15.910957586862233, -48.09326934423694],\n",
       "                {}\n",
       "            ).addTo(map_04e8a856477d50a49c2a41414bf58aea);\n",
       "        \n",
       "    \n",
       "        var popup_7b96776c4a671dfa4c44b1877f67c63d = L.popup({&quot;maxWidth&quot;: &quot;100%&quot;});\n",
       "\n",
       "        \n",
       "            \n",
       "                var html_cc2eee241089669fdf4b7d836bf02522 = $(`&lt;div id=&quot;html_cc2eee241089669fdf4b7d836bf02522&quot; style=&quot;width: 100.0%; height: 100.0%;&quot;&gt;3880&lt;/div&gt;`)[0];\n",
       "                popup_7b96776c4a671dfa4c44b1877f67c63d.setContent(html_cc2eee241089669fdf4b7d836bf02522);\n",
       "            \n",
       "        \n",
       "\n",
       "        marker_8e3389592fbd31edc143d1d8ad2ab5bb.bindPopup(popup_7b96776c4a671dfa4c44b1877f67c63d)\n",
       "        ;\n",
       "\n",
       "        \n",
       "    \n",
       "    \n",
       "            var marker_4b724cd241572449fc3831b3e0e966f1 = L.marker(\n",
       "                [-15.912519701376944, -48.095946614091766],\n",
       "                {}\n",
       "            ).addTo(map_04e8a856477d50a49c2a41414bf58aea);\n",
       "        \n",
       "    \n",
       "        var popup_4f9f6570651240990f8b281106bea04b = L.popup({&quot;maxWidth&quot;: &quot;100%&quot;});\n",
       "\n",
       "        \n",
       "            \n",
       "                var html_3e20a5293fba45c3e1a8d7cf7b6060ae = $(`&lt;div id=&quot;html_3e20a5293fba45c3e1a8d7cf7b6060ae&quot; style=&quot;width: 100.0%; height: 100.0%;&quot;&gt;3881&lt;/div&gt;`)[0];\n",
       "                popup_4f9f6570651240990f8b281106bea04b.setContent(html_3e20a5293fba45c3e1a8d7cf7b6060ae);\n",
       "            \n",
       "        \n",
       "\n",
       "        marker_4b724cd241572449fc3831b3e0e966f1.bindPopup(popup_4f9f6570651240990f8b281106bea04b)\n",
       "        ;\n",
       "\n",
       "        \n",
       "    \n",
       "    \n",
       "            var marker_10ad7098212e51cae0baf7b1af45247e = L.marker(\n",
       "                [-15.874567000000008, -48.046914],\n",
       "                {}\n",
       "            ).addTo(map_04e8a856477d50a49c2a41414bf58aea);\n",
       "        \n",
       "    \n",
       "        var popup_d9789035dd3ba05902aeb941c84dc262 = L.popup({&quot;maxWidth&quot;: &quot;100%&quot;});\n",
       "\n",
       "        \n",
       "            \n",
       "                var html_7f3da16f40ea9675d0ba209f7f7386fd = $(`&lt;div id=&quot;html_7f3da16f40ea9675d0ba209f7f7386fd&quot; style=&quot;width: 100.0%; height: 100.0%;&quot;&gt;7982&lt;/div&gt;`)[0];\n",
       "                popup_d9789035dd3ba05902aeb941c84dc262.setContent(html_7f3da16f40ea9675d0ba209f7f7386fd);\n",
       "            \n",
       "        \n",
       "\n",
       "        marker_10ad7098212e51cae0baf7b1af45247e.bindPopup(popup_d9789035dd3ba05902aeb941c84dc262)\n",
       "        ;\n",
       "\n",
       "        \n",
       "    \n",
       "    \n",
       "            var marker_3b29dc6c0db8ac1294550030855f0c1f = L.marker(\n",
       "                [-15.874111394112967, -48.03750623028307],\n",
       "                {}\n",
       "            ).addTo(map_04e8a856477d50a49c2a41414bf58aea);\n",
       "        \n",
       "    \n",
       "        var popup_f3082339b154a9ba0312215651c85596 = L.popup({&quot;maxWidth&quot;: &quot;100%&quot;});\n",
       "\n",
       "        \n",
       "            \n",
       "                var html_5fa50daef73d9c95a9b51e78aa99d97b = $(`&lt;div id=&quot;html_5fa50daef73d9c95a9b51e78aa99d97b&quot; style=&quot;width: 100.0%; height: 100.0%;&quot;&gt;5388&lt;/div&gt;`)[0];\n",
       "                popup_f3082339b154a9ba0312215651c85596.setContent(html_5fa50daef73d9c95a9b51e78aa99d97b);\n",
       "            \n",
       "        \n",
       "\n",
       "        marker_3b29dc6c0db8ac1294550030855f0c1f.bindPopup(popup_f3082339b154a9ba0312215651c85596)\n",
       "        ;\n",
       "\n",
       "        \n",
       "    \n",
       "    \n",
       "            var marker_a16c50ef5bc7469f99bcdee8d176c87c = L.marker(\n",
       "                [-15.873542459479093, -48.041496705677105],\n",
       "                {}\n",
       "            ).addTo(map_04e8a856477d50a49c2a41414bf58aea);\n",
       "        \n",
       "    \n",
       "        var popup_f78f98a4a11997dae09a95c12ad194ca = L.popup({&quot;maxWidth&quot;: &quot;100%&quot;});\n",
       "\n",
       "        \n",
       "            \n",
       "                var html_748e8cdc29486276f03a715d4a54ad22 = $(`&lt;div id=&quot;html_748e8cdc29486276f03a715d4a54ad22&quot; style=&quot;width: 100.0%; height: 100.0%;&quot;&gt;5389&lt;/div&gt;`)[0];\n",
       "                popup_f78f98a4a11997dae09a95c12ad194ca.setContent(html_748e8cdc29486276f03a715d4a54ad22);\n",
       "            \n",
       "        \n",
       "\n",
       "        marker_a16c50ef5bc7469f99bcdee8d176c87c.bindPopup(popup_f78f98a4a11997dae09a95c12ad194ca)\n",
       "        ;\n",
       "\n",
       "        \n",
       "    \n",
       "    \n",
       "            var marker_b662f6badb6fc3fd1a99f87b349ae2b3 = L.marker(\n",
       "                [-15.90683612725338, -48.0829242502795],\n",
       "                {}\n",
       "            ).addTo(map_04e8a856477d50a49c2a41414bf58aea);\n",
       "        \n",
       "    \n",
       "        var popup_7fffa101cce6f4f53629cedb92556426 = L.popup({&quot;maxWidth&quot;: &quot;100%&quot;});\n",
       "\n",
       "        \n",
       "            \n",
       "                var html_a21d234ed6d023f266316605b1da6caf = $(`&lt;div id=&quot;html_a21d234ed6d023f266316605b1da6caf&quot; style=&quot;width: 100.0%; height: 100.0%;&quot;&gt;3876&lt;/div&gt;`)[0];\n",
       "                popup_7fffa101cce6f4f53629cedb92556426.setContent(html_a21d234ed6d023f266316605b1da6caf);\n",
       "            \n",
       "        \n",
       "\n",
       "        marker_b662f6badb6fc3fd1a99f87b349ae2b3.bindPopup(popup_7fffa101cce6f4f53629cedb92556426)\n",
       "        ;\n",
       "\n",
       "        \n",
       "    \n",
       "    \n",
       "            var marker_ff900aff5eb7989538378b4f8a1468d0 = L.marker(\n",
       "                [-15.736023802288491, -47.9043530752539],\n",
       "                {}\n",
       "            ).addTo(map_04e8a856477d50a49c2a41414bf58aea);\n",
       "        \n",
       "    \n",
       "        var popup_45f2f2129c5258401e66e0a0f08ba01a = L.popup({&quot;maxWidth&quot;: &quot;100%&quot;});\n",
       "\n",
       "        \n",
       "            \n",
       "                var html_3f2cad32ac1c25fbc7221c2e098f23ae = $(`&lt;div id=&quot;html_3f2cad32ac1c25fbc7221c2e098f23ae&quot; style=&quot;width: 100.0%; height: 100.0%;&quot;&gt;6287&lt;/div&gt;`)[0];\n",
       "                popup_45f2f2129c5258401e66e0a0f08ba01a.setContent(html_3f2cad32ac1c25fbc7221c2e098f23ae);\n",
       "            \n",
       "        \n",
       "\n",
       "        marker_ff900aff5eb7989538378b4f8a1468d0.bindPopup(popup_45f2f2129c5258401e66e0a0f08ba01a)\n",
       "        ;\n",
       "\n",
       "        \n",
       "    \n",
       "    \n",
       "            var marker_9be071c25c25affec8edfe52226e8c29 = L.marker(\n",
       "                [-15.90398476899251, -48.068530233891344],\n",
       "                {}\n",
       "            ).addTo(map_04e8a856477d50a49c2a41414bf58aea);\n",
       "        \n",
       "    \n",
       "        var popup_d48d5ced30a91ce50c730ab7843c63cc = L.popup({&quot;maxWidth&quot;: &quot;100%&quot;});\n",
       "\n",
       "        \n",
       "            \n",
       "                var html_480b749f053b6efc5cb5fb252309e020 = $(`&lt;div id=&quot;html_480b749f053b6efc5cb5fb252309e020&quot; style=&quot;width: 100.0%; height: 100.0%;&quot;&gt;3872&lt;/div&gt;`)[0];\n",
       "                popup_d48d5ced30a91ce50c730ab7843c63cc.setContent(html_480b749f053b6efc5cb5fb252309e020);\n",
       "            \n",
       "        \n",
       "\n",
       "        marker_9be071c25c25affec8edfe52226e8c29.bindPopup(popup_d48d5ced30a91ce50c730ab7843c63cc)\n",
       "        ;\n",
       "\n",
       "        \n",
       "    \n",
       "    \n",
       "            var marker_7df97a7c8ce724338ca56acaf54e799c = L.marker(\n",
       "                [-15.903880152435947, -48.0652975148702],\n",
       "                {}\n",
       "            ).addTo(map_04e8a856477d50a49c2a41414bf58aea);\n",
       "        \n",
       "    \n",
       "        var popup_7d7cedfa6d450f22f9f5af0a0f8d455c = L.popup({&quot;maxWidth&quot;: &quot;100%&quot;});\n",
       "\n",
       "        \n",
       "            \n",
       "                var html_947feb83ee3995faaa6e53eb34d54850 = $(`&lt;div id=&quot;html_947feb83ee3995faaa6e53eb34d54850&quot; style=&quot;width: 100.0%; height: 100.0%;&quot;&gt;3871&lt;/div&gt;`)[0];\n",
       "                popup_7d7cedfa6d450f22f9f5af0a0f8d455c.setContent(html_947feb83ee3995faaa6e53eb34d54850);\n",
       "            \n",
       "        \n",
       "\n",
       "        marker_7df97a7c8ce724338ca56acaf54e799c.bindPopup(popup_7d7cedfa6d450f22f9f5af0a0f8d455c)\n",
       "        ;\n",
       "\n",
       "        \n",
       "    \n",
       "    \n",
       "            var marker_83514711d1e53906bb51fb37dba62034 = L.marker(\n",
       "                [-15.88716655393049, -48.05902485881138],\n",
       "                {}\n",
       "            ).addTo(map_04e8a856477d50a49c2a41414bf58aea);\n",
       "        \n",
       "    \n",
       "        var popup_51c92aa20857ef3b456c804fb7ee66b6 = L.popup({&quot;maxWidth&quot;: &quot;100%&quot;});\n",
       "\n",
       "        \n",
       "            \n",
       "                var html_6c489d210466c8b4171fa9eb40fb6f70 = $(`&lt;div id=&quot;html_6c489d210466c8b4171fa9eb40fb6f70&quot; style=&quot;width: 100.0%; height: 100.0%;&quot;&gt;3789&lt;/div&gt;`)[0];\n",
       "                popup_51c92aa20857ef3b456c804fb7ee66b6.setContent(html_6c489d210466c8b4171fa9eb40fb6f70);\n",
       "            \n",
       "        \n",
       "\n",
       "        marker_83514711d1e53906bb51fb37dba62034.bindPopup(popup_51c92aa20857ef3b456c804fb7ee66b6)\n",
       "        ;\n",
       "\n",
       "        \n",
       "    \n",
       "    \n",
       "            var marker_4aa92bc7b25288488b7cead356dff543 = L.marker(\n",
       "                [-15.90959435740752, -48.09006943396089],\n",
       "                {}\n",
       "            ).addTo(map_04e8a856477d50a49c2a41414bf58aea);\n",
       "        \n",
       "    \n",
       "        var popup_1ff347dee52eb9f2818647fee6f768f3 = L.popup({&quot;maxWidth&quot;: &quot;100%&quot;});\n",
       "\n",
       "        \n",
       "            \n",
       "                var html_487f5840177761c13fc95aa719afdcc3 = $(`&lt;div id=&quot;html_487f5840177761c13fc95aa719afdcc3&quot; style=&quot;width: 100.0%; height: 100.0%;&quot;&gt;3879&lt;/div&gt;`)[0];\n",
       "                popup_1ff347dee52eb9f2818647fee6f768f3.setContent(html_487f5840177761c13fc95aa719afdcc3);\n",
       "            \n",
       "        \n",
       "\n",
       "        marker_4aa92bc7b25288488b7cead356dff543.bindPopup(popup_1ff347dee52eb9f2818647fee6f768f3)\n",
       "        ;\n",
       "\n",
       "        \n",
       "    \n",
       "    \n",
       "            var marker_ea020e575933e72ca070618923af5ec7 = L.marker(\n",
       "                [-15.908115726395849, -48.085560172134066],\n",
       "                {}\n",
       "            ).addTo(map_04e8a856477d50a49c2a41414bf58aea);\n",
       "        \n",
       "    \n",
       "        var popup_071e25622f4c990daa6e7baff41d3ea9 = L.popup({&quot;maxWidth&quot;: &quot;100%&quot;});\n",
       "\n",
       "        \n",
       "            \n",
       "                var html_8cdb35391e8130bf51014a1604f57d73 = $(`&lt;div id=&quot;html_8cdb35391e8130bf51014a1604f57d73&quot; style=&quot;width: 100.0%; height: 100.0%;&quot;&gt;3877&lt;/div&gt;`)[0];\n",
       "                popup_071e25622f4c990daa6e7baff41d3ea9.setContent(html_8cdb35391e8130bf51014a1604f57d73);\n",
       "            \n",
       "        \n",
       "\n",
       "        marker_ea020e575933e72ca070618923af5ec7.bindPopup(popup_071e25622f4c990daa6e7baff41d3ea9)\n",
       "        ;\n",
       "\n",
       "        \n",
       "    \n",
       "    \n",
       "            var marker_b26dbdae3d5662c80172282757d129a7 = L.marker(\n",
       "                [-15.909135010320384, -48.08785729601502],\n",
       "                {}\n",
       "            ).addTo(map_04e8a856477d50a49c2a41414bf58aea);\n",
       "        \n",
       "    \n",
       "        var popup_9aaf3e6c6a50ff8a1a41a2736342fe66 = L.popup({&quot;maxWidth&quot;: &quot;100%&quot;});\n",
       "\n",
       "        \n",
       "            \n",
       "                var html_359b1866449b488a3c7440c26dd83965 = $(`&lt;div id=&quot;html_359b1866449b488a3c7440c26dd83965&quot; style=&quot;width: 100.0%; height: 100.0%;&quot;&gt;3878&lt;/div&gt;`)[0];\n",
       "                popup_9aaf3e6c6a50ff8a1a41a2736342fe66.setContent(html_359b1866449b488a3c7440c26dd83965);\n",
       "            \n",
       "        \n",
       "\n",
       "        marker_b26dbdae3d5662c80172282757d129a7.bindPopup(popup_9aaf3e6c6a50ff8a1a41a2736342fe66)\n",
       "        ;\n",
       "\n",
       "        \n",
       "    \n",
       "    \n",
       "            var marker_f7cc5abfacc5b756769cc4bfa6f1ba56 = L.marker(\n",
       "                [-15.862253000000003, -48.035317],\n",
       "                {}\n",
       "            ).addTo(map_04e8a856477d50a49c2a41414bf58aea);\n",
       "        \n",
       "    \n",
       "        var popup_1c243ecd6c942432466e6c4a04e2b1fa = L.popup({&quot;maxWidth&quot;: &quot;100%&quot;});\n",
       "\n",
       "        \n",
       "            \n",
       "                var html_d9f83eb92696cd45d708a0af6a8de022 = $(`&lt;div id=&quot;html_d9f83eb92696cd45d708a0af6a8de022&quot; style=&quot;width: 100.0%; height: 100.0%;&quot;&gt;7834&lt;/div&gt;`)[0];\n",
       "                popup_1c243ecd6c942432466e6c4a04e2b1fa.setContent(html_d9f83eb92696cd45d708a0af6a8de022);\n",
       "            \n",
       "        \n",
       "\n",
       "        marker_f7cc5abfacc5b756769cc4bfa6f1ba56.bindPopup(popup_1c243ecd6c942432466e6c4a04e2b1fa)\n",
       "        ;\n",
       "\n",
       "        \n",
       "    \n",
       "    \n",
       "            var marker_c9186e79064b5581932bdc2c54eb723f = L.marker(\n",
       "                [-15.862253000000003, -48.035317],\n",
       "                {}\n",
       "            ).addTo(map_04e8a856477d50a49c2a41414bf58aea);\n",
       "        \n",
       "    \n",
       "        var popup_81f9848ad6c6cdca69f02a313641dff0 = L.popup({&quot;maxWidth&quot;: &quot;100%&quot;});\n",
       "\n",
       "        \n",
       "            \n",
       "                var html_df27537ad827f039a2b50e7b1337c451 = $(`&lt;div id=&quot;html_df27537ad827f039a2b50e7b1337c451&quot; style=&quot;width: 100.0%; height: 100.0%;&quot;&gt;7835&lt;/div&gt;`)[0];\n",
       "                popup_81f9848ad6c6cdca69f02a313641dff0.setContent(html_df27537ad827f039a2b50e7b1337c451);\n",
       "            \n",
       "        \n",
       "\n",
       "        marker_c9186e79064b5581932bdc2c54eb723f.bindPopup(popup_81f9848ad6c6cdca69f02a313641dff0)\n",
       "        ;\n",
       "\n",
       "        \n",
       "    \n",
       "    \n",
       "            var marker_1bdc07a54b73a90c3e033366f74f0445 = L.marker(\n",
       "                [-15.86002670586365, -48.036539976238394],\n",
       "                {}\n",
       "            ).addTo(map_04e8a856477d50a49c2a41414bf58aea);\n",
       "        \n",
       "    \n",
       "        var popup_b047fa1783b313fa4b9623868a5f2da0 = L.popup({&quot;maxWidth&quot;: &quot;100%&quot;});\n",
       "\n",
       "        \n",
       "            \n",
       "                var html_0b4bbe1ffa8c536d5e648ab9e97e1ade = $(`&lt;div id=&quot;html_0b4bbe1ffa8c536d5e648ab9e97e1ade&quot; style=&quot;width: 100.0%; height: 100.0%;&quot;&gt;4970&lt;/div&gt;`)[0];\n",
       "                popup_b047fa1783b313fa4b9623868a5f2da0.setContent(html_0b4bbe1ffa8c536d5e648ab9e97e1ade);\n",
       "            \n",
       "        \n",
       "\n",
       "        marker_1bdc07a54b73a90c3e033366f74f0445.bindPopup(popup_b047fa1783b313fa4b9623868a5f2da0)\n",
       "        ;\n",
       "\n",
       "        \n",
       "    \n",
       "    \n",
       "            var marker_eacdf78817d4054e5abd6de7d22ed71f = L.marker(\n",
       "                [-15.862263392911801, -48.0353327357938],\n",
       "                {}\n",
       "            ).addTo(map_04e8a856477d50a49c2a41414bf58aea);\n",
       "        \n",
       "    \n",
       "        var popup_5de0634e1d541c1af325cb9b8cc360de = L.popup({&quot;maxWidth&quot;: &quot;100%&quot;});\n",
       "\n",
       "        \n",
       "            \n",
       "                var html_248bedba333fd3f7a61b1a71f013bf1b = $(`&lt;div id=&quot;html_248bedba333fd3f7a61b1a71f013bf1b&quot; style=&quot;width: 100.0%; height: 100.0%;&quot;&gt;4971&lt;/div&gt;`)[0];\n",
       "                popup_5de0634e1d541c1af325cb9b8cc360de.setContent(html_248bedba333fd3f7a61b1a71f013bf1b);\n",
       "            \n",
       "        \n",
       "\n",
       "        marker_eacdf78817d4054e5abd6de7d22ed71f.bindPopup(popup_5de0634e1d541c1af325cb9b8cc360de)\n",
       "        ;\n",
       "\n",
       "        \n",
       "    \n",
       "    \n",
       "            var marker_7fb0889756286451387dfc9e1855577f = L.marker(\n",
       "                [-15.892324406161302, -48.05735451335248],\n",
       "                {}\n",
       "            ).addTo(map_04e8a856477d50a49c2a41414bf58aea);\n",
       "        \n",
       "    \n",
       "        var popup_6b2c504bd774b055b10a15cc3f43b53c = L.popup({&quot;maxWidth&quot;: &quot;100%&quot;});\n",
       "\n",
       "        \n",
       "            \n",
       "                var html_dd18d9d9d06d6fd5441377daefc453ea = $(`&lt;div id=&quot;html_dd18d9d9d06d6fd5441377daefc453ea&quot; style=&quot;width: 100.0%; height: 100.0%;&quot;&gt;3791&lt;/div&gt;`)[0];\n",
       "                popup_6b2c504bd774b055b10a15cc3f43b53c.setContent(html_dd18d9d9d06d6fd5441377daefc453ea);\n",
       "            \n",
       "        \n",
       "\n",
       "        marker_7fb0889756286451387dfc9e1855577f.bindPopup(popup_6b2c504bd774b055b10a15cc3f43b53c)\n",
       "        ;\n",
       "\n",
       "        \n",
       "    \n",
       "    \n",
       "            var marker_98a48c0874d1cda126ac61244ddbc174 = L.marker(\n",
       "                [-15.892341999999996, -48.057356],\n",
       "                {}\n",
       "            ).addTo(map_04e8a856477d50a49c2a41414bf58aea);\n",
       "        \n",
       "    \n",
       "        var popup_b0409274c5aff25563a795e91367e0e6 = L.popup({&quot;maxWidth&quot;: &quot;100%&quot;});\n",
       "\n",
       "        \n",
       "            \n",
       "                var html_fb8006dd34a1be74d8864f1e12e82c56 = $(`&lt;div id=&quot;html_fb8006dd34a1be74d8864f1e12e82c56&quot; style=&quot;width: 100.0%; height: 100.0%;&quot;&gt;7881&lt;/div&gt;`)[0];\n",
       "                popup_b0409274c5aff25563a795e91367e0e6.setContent(html_fb8006dd34a1be74d8864f1e12e82c56);\n",
       "            \n",
       "        \n",
       "\n",
       "        marker_98a48c0874d1cda126ac61244ddbc174.bindPopup(popup_b0409274c5aff25563a795e91367e0e6)\n",
       "        ;\n",
       "\n",
       "        \n",
       "    \n",
       "    \n",
       "            var marker_3958014538f58a5aa21b5a187cd99f05 = L.marker(\n",
       "                [-15.892341999999996, -48.057356],\n",
       "                {}\n",
       "            ).addTo(map_04e8a856477d50a49c2a41414bf58aea);\n",
       "        \n",
       "    \n",
       "        var popup_bd24713c4b5a6edcb273099c1b164704 = L.popup({&quot;maxWidth&quot;: &quot;100%&quot;});\n",
       "\n",
       "        \n",
       "            \n",
       "                var html_9ea9ac71ba9d01e9299f21c0915d5ab9 = $(`&lt;div id=&quot;html_9ea9ac71ba9d01e9299f21c0915d5ab9&quot; style=&quot;width: 100.0%; height: 100.0%;&quot;&gt;7882&lt;/div&gt;`)[0];\n",
       "                popup_bd24713c4b5a6edcb273099c1b164704.setContent(html_9ea9ac71ba9d01e9299f21c0915d5ab9);\n",
       "            \n",
       "        \n",
       "\n",
       "        marker_3958014538f58a5aa21b5a187cd99f05.bindPopup(popup_bd24713c4b5a6edcb273099c1b164704)\n",
       "        ;\n",
       "\n",
       "        \n",
       "    \n",
       "    \n",
       "            var marker_69b4a7f55a8d45ba9a1d5e54649e839c = L.marker(\n",
       "                [-15.894924999999994, -48.056533],\n",
       "                {}\n",
       "            ).addTo(map_04e8a856477d50a49c2a41414bf58aea);\n",
       "        \n",
       "    \n",
       "        var popup_ef075cf61d4c576919caa0f22eb4ec14 = L.popup({&quot;maxWidth&quot;: &quot;100%&quot;});\n",
       "\n",
       "        \n",
       "            \n",
       "                var html_3ba175220c5805505490b4f9101a528b = $(`&lt;div id=&quot;html_3ba175220c5805505490b4f9101a528b&quot; style=&quot;width: 100.0%; height: 100.0%;&quot;&gt;7885&lt;/div&gt;`)[0];\n",
       "                popup_ef075cf61d4c576919caa0f22eb4ec14.setContent(html_3ba175220c5805505490b4f9101a528b);\n",
       "            \n",
       "        \n",
       "\n",
       "        marker_69b4a7f55a8d45ba9a1d5e54649e839c.bindPopup(popup_ef075cf61d4c576919caa0f22eb4ec14)\n",
       "        ;\n",
       "\n",
       "        \n",
       "    \n",
       "    \n",
       "            var marker_4cda36408f9d7633b107cee52c1eb441 = L.marker(\n",
       "                [-15.894912647994747, -48.056526373708984],\n",
       "                {}\n",
       "            ).addTo(map_04e8a856477d50a49c2a41414bf58aea);\n",
       "        \n",
       "    \n",
       "        var popup_92381409da119c8db2059fca21cc632c = L.popup({&quot;maxWidth&quot;: &quot;100%&quot;});\n",
       "\n",
       "        \n",
       "            \n",
       "                var html_d3efff4472f5a7e273d413e5c97b7be1 = $(`&lt;div id=&quot;html_d3efff4472f5a7e273d413e5c97b7be1&quot; style=&quot;width: 100.0%; height: 100.0%;&quot;&gt;3792&lt;/div&gt;`)[0];\n",
       "                popup_92381409da119c8db2059fca21cc632c.setContent(html_d3efff4472f5a7e273d413e5c97b7be1);\n",
       "            \n",
       "        \n",
       "\n",
       "        marker_4cda36408f9d7633b107cee52c1eb441.bindPopup(popup_92381409da119c8db2059fca21cc632c)\n",
       "        ;\n",
       "\n",
       "        \n",
       "    \n",
       "    \n",
       "            var marker_5c319ac1e042923251329049384c822b = L.marker(\n",
       "                [-15.930647630272311, -48.11079293563709],\n",
       "                {}\n",
       "            ).addTo(map_04e8a856477d50a49c2a41414bf58aea);\n",
       "        \n",
       "    \n",
       "        var popup_23826854d7c4442d67c3588bf83b23ce = L.popup({&quot;maxWidth&quot;: &quot;100%&quot;});\n",
       "\n",
       "        \n",
       "            \n",
       "                var html_5d233bc820bdd15174ea25c32d063fc6 = $(`&lt;div id=&quot;html_5d233bc820bdd15174ea25c32d063fc6&quot; style=&quot;width: 100.0%; height: 100.0%;&quot;&gt;3889&lt;/div&gt;`)[0];\n",
       "                popup_23826854d7c4442d67c3588bf83b23ce.setContent(html_5d233bc820bdd15174ea25c32d063fc6);\n",
       "            \n",
       "        \n",
       "\n",
       "        marker_5c319ac1e042923251329049384c822b.bindPopup(popup_23826854d7c4442d67c3588bf83b23ce)\n",
       "        ;\n",
       "\n",
       "        \n",
       "    \n",
       "    \n",
       "            var marker_d40c31d64c76795c7a6502b896f36f5a = L.marker(\n",
       "                [-15.80723039956119, -47.965717691510676],\n",
       "                {}\n",
       "            ).addTo(map_04e8a856477d50a49c2a41414bf58aea);\n",
       "        \n",
       "    \n",
       "        var popup_2a64df5435c35aa7b44881435afd9fd9 = L.popup({&quot;maxWidth&quot;: &quot;100%&quot;});\n",
       "\n",
       "        \n",
       "            \n",
       "                var html_e4977c537b756a299d594229b646004f = $(`&lt;div id=&quot;html_e4977c537b756a299d594229b646004f&quot; style=&quot;width: 100.0%; height: 100.0%;&quot;&gt;2245&lt;/div&gt;`)[0];\n",
       "                popup_2a64df5435c35aa7b44881435afd9fd9.setContent(html_e4977c537b756a299d594229b646004f);\n",
       "            \n",
       "        \n",
       "\n",
       "        marker_d40c31d64c76795c7a6502b896f36f5a.bindPopup(popup_2a64df5435c35aa7b44881435afd9fd9)\n",
       "        ;\n",
       "\n",
       "        \n",
       "    \n",
       "    \n",
       "            var marker_03e39edd8aca95d09218d1350edf135a = L.marker(\n",
       "                [-15.807387213338785, -47.96643198290074],\n",
       "                {}\n",
       "            ).addTo(map_04e8a856477d50a49c2a41414bf58aea);\n",
       "        \n",
       "    \n",
       "        var popup_23dc82c5b4923806a508b61950190922 = L.popup({&quot;maxWidth&quot;: &quot;100%&quot;});\n",
       "\n",
       "        \n",
       "            \n",
       "                var html_f2caae489782f62ea89879ccee9d76f4 = $(`&lt;div id=&quot;html_f2caae489782f62ea89879ccee9d76f4&quot; style=&quot;width: 100.0%; height: 100.0%;&quot;&gt;7063&lt;/div&gt;`)[0];\n",
       "                popup_23dc82c5b4923806a508b61950190922.setContent(html_f2caae489782f62ea89879ccee9d76f4);\n",
       "            \n",
       "        \n",
       "\n",
       "        marker_03e39edd8aca95d09218d1350edf135a.bindPopup(popup_23dc82c5b4923806a508b61950190922)\n",
       "        ;\n",
       "\n",
       "        \n",
       "    \n",
       "    \n",
       "            var marker_7a1d14fcff24825f48d143eb16d1c98b = L.marker(\n",
       "                [-15.80753658912316, -47.96546680359306],\n",
       "                {}\n",
       "            ).addTo(map_04e8a856477d50a49c2a41414bf58aea);\n",
       "        \n",
       "    \n",
       "        var popup_a7879cb05afa0a117d978e5e1d1fd14e = L.popup({&quot;maxWidth&quot;: &quot;100%&quot;});\n",
       "\n",
       "        \n",
       "            \n",
       "                var html_171565e6af5999cd6ec5c57e60d71305 = $(`&lt;div id=&quot;html_171565e6af5999cd6ec5c57e60d71305&quot; style=&quot;width: 100.0%; height: 100.0%;&quot;&gt;7064&lt;/div&gt;`)[0];\n",
       "                popup_a7879cb05afa0a117d978e5e1d1fd14e.setContent(html_171565e6af5999cd6ec5c57e60d71305);\n",
       "            \n",
       "        \n",
       "\n",
       "        marker_7a1d14fcff24825f48d143eb16d1c98b.bindPopup(popup_a7879cb05afa0a117d978e5e1d1fd14e)\n",
       "        ;\n",
       "\n",
       "        \n",
       "    \n",
       "    \n",
       "            var marker_5f69590f8e79e22aad806df7bf19ac98 = L.marker(\n",
       "                [-15.807063277527064, -47.96682246252339],\n",
       "                {}\n",
       "            ).addTo(map_04e8a856477d50a49c2a41414bf58aea);\n",
       "        \n",
       "    \n",
       "        var popup_62a2aa11bf8cc65a707fb769a819132e = L.popup({&quot;maxWidth&quot;: &quot;100%&quot;});\n",
       "\n",
       "        \n",
       "            \n",
       "                var html_87e4be48cbe797093dbad361fe451e10 = $(`&lt;div id=&quot;html_87e4be48cbe797093dbad361fe451e10&quot; style=&quot;width: 100.0%; height: 100.0%;&quot;&gt;2246&lt;/div&gt;`)[0];\n",
       "                popup_62a2aa11bf8cc65a707fb769a819132e.setContent(html_87e4be48cbe797093dbad361fe451e10);\n",
       "            \n",
       "        \n",
       "\n",
       "        marker_5f69590f8e79e22aad806df7bf19ac98.bindPopup(popup_62a2aa11bf8cc65a707fb769a819132e)\n",
       "        ;\n",
       "\n",
       "        \n",
       "    \n",
       "    \n",
       "            var marker_9c4f02099b35ed1c5f5d3095ef9e3e01 = L.marker(\n",
       "                [-15.821860457646126, -48.021861664072624],\n",
       "                {}\n",
       "            ).addTo(map_04e8a856477d50a49c2a41414bf58aea);\n",
       "        \n",
       "    \n",
       "        var popup_25ab8965dddf40ab873238ae67a9b55a = L.popup({&quot;maxWidth&quot;: &quot;100%&quot;});\n",
       "\n",
       "        \n",
       "            \n",
       "                var html_50479059bf88f56808ae99511276c4b9 = $(`&lt;div id=&quot;html_50479059bf88f56808ae99511276c4b9&quot; style=&quot;width: 100.0%; height: 100.0%;&quot;&gt;7048&lt;/div&gt;`)[0];\n",
       "                popup_25ab8965dddf40ab873238ae67a9b55a.setContent(html_50479059bf88f56808ae99511276c4b9);\n",
       "            \n",
       "        \n",
       "\n",
       "        marker_9c4f02099b35ed1c5f5d3095ef9e3e01.bindPopup(popup_25ab8965dddf40ab873238ae67a9b55a)\n",
       "        ;\n",
       "\n",
       "        \n",
       "    \n",
       "    \n",
       "            var marker_d45790cbd5524bcde48c1ad5a3c09a8c = L.marker(\n",
       "                [-15.847763999999998, -48.043242],\n",
       "                {}\n",
       "            ).addTo(map_04e8a856477d50a49c2a41414bf58aea);\n",
       "        \n",
       "    \n",
       "        var popup_f908381b2848e92cc4cf6c192b361880 = L.popup({&quot;maxWidth&quot;: &quot;100%&quot;});\n",
       "\n",
       "        \n",
       "            \n",
       "                var html_af62f0139377e3ed379c05a11f6a1670 = $(`&lt;div id=&quot;html_af62f0139377e3ed379c05a11f6a1670&quot; style=&quot;width: 100.0%; height: 100.0%;&quot;&gt;7850&lt;/div&gt;`)[0];\n",
       "                popup_f908381b2848e92cc4cf6c192b361880.setContent(html_af62f0139377e3ed379c05a11f6a1670);\n",
       "            \n",
       "        \n",
       "\n",
       "        marker_d45790cbd5524bcde48c1ad5a3c09a8c.bindPopup(popup_f908381b2848e92cc4cf6c192b361880)\n",
       "        ;\n",
       "\n",
       "        \n",
       "    \n",
       "    \n",
       "            var marker_bb442143562994698bd7e5ef7ba20649 = L.marker(\n",
       "                [-15.844236968163136, -48.044999551106486],\n",
       "                {}\n",
       "            ).addTo(map_04e8a856477d50a49c2a41414bf58aea);\n",
       "        \n",
       "    \n",
       "        var popup_80a231589c724f18b1538ea1878d16cb = L.popup({&quot;maxWidth&quot;: &quot;100%&quot;});\n",
       "\n",
       "        \n",
       "            \n",
       "                var html_74547164defa17114befcaf5cffecd02 = $(`&lt;div id=&quot;html_74547164defa17114befcaf5cffecd02&quot; style=&quot;width: 100.0%; height: 100.0%;&quot;&gt;4966&lt;/div&gt;`)[0];\n",
       "                popup_80a231589c724f18b1538ea1878d16cb.setContent(html_74547164defa17114befcaf5cffecd02);\n",
       "            \n",
       "        \n",
       "\n",
       "        marker_bb442143562994698bd7e5ef7ba20649.bindPopup(popup_80a231589c724f18b1538ea1878d16cb)\n",
       "        ;\n",
       "\n",
       "        \n",
       "    \n",
       "    \n",
       "            var marker_4ab24f3cb4289c666fdd99d481d559b9 = L.marker(\n",
       "                [-15.84096211453132, -48.04677718477763],\n",
       "                {}\n",
       "            ).addTo(map_04e8a856477d50a49c2a41414bf58aea);\n",
       "        \n",
       "    \n",
       "        var popup_42ef70dc1ff58e9696cb4a9cdb9e6004 = L.popup({&quot;maxWidth&quot;: &quot;100%&quot;});\n",
       "\n",
       "        \n",
       "            \n",
       "                var html_3f4aa886325ddfcd6f42cbb6dd439e34 = $(`&lt;div id=&quot;html_3f4aa886325ddfcd6f42cbb6dd439e34&quot; style=&quot;width: 100.0%; height: 100.0%;&quot;&gt;4965&lt;/div&gt;`)[0];\n",
       "                popup_42ef70dc1ff58e9696cb4a9cdb9e6004.setContent(html_3f4aa886325ddfcd6f42cbb6dd439e34);\n",
       "            \n",
       "        \n",
       "\n",
       "        marker_4ab24f3cb4289c666fdd99d481d559b9.bindPopup(popup_42ef70dc1ff58e9696cb4a9cdb9e6004)\n",
       "        ;\n",
       "\n",
       "        \n",
       "    \n",
       "    \n",
       "            var marker_05824ddb53452675eae65a235b3b546e = L.marker(\n",
       "                [-15.811009250196394, -47.977077741767246],\n",
       "                {}\n",
       "            ).addTo(map_04e8a856477d50a49c2a41414bf58aea);\n",
       "        \n",
       "    \n",
       "        var popup_dc9a4061d01cb9b170617e272d70d371 = L.popup({&quot;maxWidth&quot;: &quot;100%&quot;});\n",
       "\n",
       "        \n",
       "            \n",
       "                var html_2141c27b41710c0be0b11657761b721e = $(`&lt;div id=&quot;html_2141c27b41710c0be0b11657761b721e&quot; style=&quot;width: 100.0%; height: 100.0%;&quot;&gt;7062&lt;/div&gt;`)[0];\n",
       "                popup_dc9a4061d01cb9b170617e272d70d371.setContent(html_2141c27b41710c0be0b11657761b721e);\n",
       "            \n",
       "        \n",
       "\n",
       "        marker_05824ddb53452675eae65a235b3b546e.bindPopup(popup_dc9a4061d01cb9b170617e272d70d371)\n",
       "        ;\n",
       "\n",
       "        \n",
       "    \n",
       "    \n",
       "            var marker_af596b91eba6ee605a716213d0f8c25c = L.marker(\n",
       "                [-15.865639938206881, -48.033526220197736],\n",
       "                {}\n",
       "            ).addTo(map_04e8a856477d50a49c2a41414bf58aea);\n",
       "        \n",
       "    \n",
       "        var popup_3dc1ce75dba97a078ac7f9d445a3b23f = L.popup({&quot;maxWidth&quot;: &quot;100%&quot;});\n",
       "\n",
       "        \n",
       "            \n",
       "                var html_0737aa7be123a5184008fb07491c67e7 = $(`&lt;div id=&quot;html_0737aa7be123a5184008fb07491c67e7&quot; style=&quot;width: 100.0%; height: 100.0%;&quot;&gt;4972&lt;/div&gt;`)[0];\n",
       "                popup_3dc1ce75dba97a078ac7f9d445a3b23f.setContent(html_0737aa7be123a5184008fb07491c67e7);\n",
       "            \n",
       "        \n",
       "\n",
       "        marker_af596b91eba6ee605a716213d0f8c25c.bindPopup(popup_3dc1ce75dba97a078ac7f9d445a3b23f)\n",
       "        ;\n",
       "\n",
       "        \n",
       "    \n",
       "    \n",
       "            var marker_0b4fb0c0d1da21000fc55268f2fe7c48 = L.marker(\n",
       "                [-15.807851940323099, -47.96150790311419],\n",
       "                {}\n",
       "            ).addTo(map_04e8a856477d50a49c2a41414bf58aea);\n",
       "        \n",
       "    \n",
       "        var popup_13d9d46c2885ef4311c4de475eb2ca11 = L.popup({&quot;maxWidth&quot;: &quot;100%&quot;});\n",
       "\n",
       "        \n",
       "            \n",
       "                var html_136105a25ba4ee9bb2f8a92da65190e1 = $(`&lt;div id=&quot;html_136105a25ba4ee9bb2f8a92da65190e1&quot; style=&quot;width: 100.0%; height: 100.0%;&quot;&gt;2244&lt;/div&gt;`)[0];\n",
       "                popup_13d9d46c2885ef4311c4de475eb2ca11.setContent(html_136105a25ba4ee9bb2f8a92da65190e1);\n",
       "            \n",
       "        \n",
       "\n",
       "        marker_0b4fb0c0d1da21000fc55268f2fe7c48.bindPopup(popup_13d9d46c2885ef4311c4de475eb2ca11)\n",
       "        ;\n",
       "\n",
       "        \n",
       "    \n",
       "    \n",
       "            var marker_2ba7d857126978cc6ce03d222311d931 = L.marker(\n",
       "                [-15.808631527822117, -47.95823986090622],\n",
       "                {}\n",
       "            ).addTo(map_04e8a856477d50a49c2a41414bf58aea);\n",
       "        \n",
       "    \n",
       "        var popup_1265f7274b42bb08703eea26168ac7ae = L.popup({&quot;maxWidth&quot;: &quot;100%&quot;});\n",
       "\n",
       "        \n",
       "            \n",
       "                var html_dacc8f9be40f2e9b35231807766e2918 = $(`&lt;div id=&quot;html_dacc8f9be40f2e9b35231807766e2918&quot; style=&quot;width: 100.0%; height: 100.0%;&quot;&gt;7065&lt;/div&gt;`)[0];\n",
       "                popup_1265f7274b42bb08703eea26168ac7ae.setContent(html_dacc8f9be40f2e9b35231807766e2918);\n",
       "            \n",
       "        \n",
       "\n",
       "        marker_2ba7d857126978cc6ce03d222311d931.bindPopup(popup_1265f7274b42bb08703eea26168ac7ae)\n",
       "        ;\n",
       "\n",
       "        \n",
       "    \n",
       "    \n",
       "            var marker_5383adaaae66752c8c0e02b1b40df927 = L.marker(\n",
       "                [-15.808795200905783, -47.957187265319384],\n",
       "                {}\n",
       "            ).addTo(map_04e8a856477d50a49c2a41414bf58aea);\n",
       "        \n",
       "    \n",
       "        var popup_41f7b15b4f4efb17d9e4d129b1c5891f = L.popup({&quot;maxWidth&quot;: &quot;100%&quot;});\n",
       "\n",
       "        \n",
       "            \n",
       "                var html_b2d6ba32be90ce5f9a9161ead196bc42 = $(`&lt;div id=&quot;html_b2d6ba32be90ce5f9a9161ead196bc42&quot; style=&quot;width: 100.0%; height: 100.0%;&quot;&gt;7066&lt;/div&gt;`)[0];\n",
       "                popup_41f7b15b4f4efb17d9e4d129b1c5891f.setContent(html_b2d6ba32be90ce5f9a9161ead196bc42);\n",
       "            \n",
       "        \n",
       "\n",
       "        marker_5383adaaae66752c8c0e02b1b40df927.bindPopup(popup_41f7b15b4f4efb17d9e4d129b1c5891f)\n",
       "        ;\n",
       "\n",
       "        \n",
       "    \n",
       "    \n",
       "            var marker_6ba3d7052f21bbd0c788e21c99233eb2 = L.marker(\n",
       "                [-15.808407149387623, -47.95770254569179],\n",
       "                {}\n",
       "            ).addTo(map_04e8a856477d50a49c2a41414bf58aea);\n",
       "        \n",
       "    \n",
       "        var popup_ebc9df6ab3bc9ef38f1e0291e508a950 = L.popup({&quot;maxWidth&quot;: &quot;100%&quot;});\n",
       "\n",
       "        \n",
       "            \n",
       "                var html_4fb0f3b2f3380bc34f2759d97b257710 = $(`&lt;div id=&quot;html_4fb0f3b2f3380bc34f2759d97b257710&quot; style=&quot;width: 100.0%; height: 100.0%;&quot;&gt;2242&lt;/div&gt;`)[0];\n",
       "                popup_ebc9df6ab3bc9ef38f1e0291e508a950.setContent(html_4fb0f3b2f3380bc34f2759d97b257710);\n",
       "            \n",
       "        \n",
       "\n",
       "        marker_6ba3d7052f21bbd0c788e21c99233eb2.bindPopup(popup_ebc9df6ab3bc9ef38f1e0291e508a950)\n",
       "        ;\n",
       "\n",
       "        \n",
       "    \n",
       "    \n",
       "            var marker_def8a2492dcf29e5d2b6205c54d4dac4 = L.marker(\n",
       "                [-15.82113426291191, -47.918606667816576],\n",
       "                {}\n",
       "            ).addTo(map_04e8a856477d50a49c2a41414bf58aea);\n",
       "        \n",
       "    \n",
       "        var popup_38386da2e05b3175c54ac9ed945fa32e = L.popup({&quot;maxWidth&quot;: &quot;100%&quot;});\n",
       "\n",
       "        \n",
       "            \n",
       "                var html_a47ac8b41fdadc6b65df5bd9a07cff72 = $(`&lt;div id=&quot;html_a47ac8b41fdadc6b65df5bd9a07cff72&quot; style=&quot;width: 100.0%; height: 100.0%;&quot;&gt;3556&lt;/div&gt;`)[0];\n",
       "                popup_38386da2e05b3175c54ac9ed945fa32e.setContent(html_a47ac8b41fdadc6b65df5bd9a07cff72);\n",
       "            \n",
       "        \n",
       "\n",
       "        marker_def8a2492dcf29e5d2b6205c54d4dac4.bindPopup(popup_38386da2e05b3175c54ac9ed945fa32e)\n",
       "        ;\n",
       "\n",
       "        \n",
       "    \n",
       "    \n",
       "            var marker_f12c93f342c4917f0c9d3bfc01efe632 = L.marker(\n",
       "                [-15.754208960654712, -47.89424438985205],\n",
       "                {}\n",
       "            ).addTo(map_04e8a856477d50a49c2a41414bf58aea);\n",
       "        \n",
       "    \n",
       "        var popup_3e01cddd957076497b9c13eca78da6fb = L.popup({&quot;maxWidth&quot;: &quot;100%&quot;});\n",
       "\n",
       "        \n",
       "            \n",
       "                var html_4840497d5e778c8e2131987b654c102b = $(`&lt;div id=&quot;html_4840497d5e778c8e2131987b654c102b&quot; style=&quot;width: 100.0%; height: 100.0%;&quot;&gt;3528&lt;/div&gt;`)[0];\n",
       "                popup_3e01cddd957076497b9c13eca78da6fb.setContent(html_4840497d5e778c8e2131987b654c102b);\n",
       "            \n",
       "        \n",
       "\n",
       "        marker_f12c93f342c4917f0c9d3bfc01efe632.bindPopup(popup_3e01cddd957076497b9c13eca78da6fb)\n",
       "        ;\n",
       "\n",
       "        \n",
       "    \n",
       "    \n",
       "            var marker_963ae2a478d26f8b0f5c56c240c4ee0d = L.marker(\n",
       "                [-15.75717373866217, -47.89329530076313],\n",
       "                {}\n",
       "            ).addTo(map_04e8a856477d50a49c2a41414bf58aea);\n",
       "        \n",
       "    \n",
       "        var popup_7d2f160bd3faa17dcc5a9eedef199fb0 = L.popup({&quot;maxWidth&quot;: &quot;100%&quot;});\n",
       "\n",
       "        \n",
       "            \n",
       "                var html_1cd0276ce6ee9ff191c551313b4ada62 = $(`&lt;div id=&quot;html_1cd0276ce6ee9ff191c551313b4ada62&quot; style=&quot;width: 100.0%; height: 100.0%;&quot;&gt;3529&lt;/div&gt;`)[0];\n",
       "                popup_7d2f160bd3faa17dcc5a9eedef199fb0.setContent(html_1cd0276ce6ee9ff191c551313b4ada62);\n",
       "            \n",
       "        \n",
       "\n",
       "        marker_963ae2a478d26f8b0f5c56c240c4ee0d.bindPopup(popup_7d2f160bd3faa17dcc5a9eedef199fb0)\n",
       "        ;\n",
       "\n",
       "        \n",
       "    \n",
       "    \n",
       "            var marker_8ddd169c844532a07787af873ba337f4 = L.marker(\n",
       "                [-15.760465433818393, -47.89223559810704],\n",
       "                {}\n",
       "            ).addTo(map_04e8a856477d50a49c2a41414bf58aea);\n",
       "        \n",
       "    \n",
       "        var popup_995dddfbe0faf7c4481ce7c3a742124e = L.popup({&quot;maxWidth&quot;: &quot;100%&quot;});\n",
       "\n",
       "        \n",
       "            \n",
       "                var html_583a5a634f46ce1fa46fc67eec32981c = $(`&lt;div id=&quot;html_583a5a634f46ce1fa46fc67eec32981c&quot; style=&quot;width: 100.0%; height: 100.0%;&quot;&gt;3530&lt;/div&gt;`)[0];\n",
       "                popup_995dddfbe0faf7c4481ce7c3a742124e.setContent(html_583a5a634f46ce1fa46fc67eec32981c);\n",
       "            \n",
       "        \n",
       "\n",
       "        marker_8ddd169c844532a07787af873ba337f4.bindPopup(popup_995dddfbe0faf7c4481ce7c3a742124e)\n",
       "        ;\n",
       "\n",
       "        \n",
       "    \n",
       "    \n",
       "            var marker_85e22e44c2e4256054811d4428df5d03 = L.marker(\n",
       "                [-15.750964679369993, -47.89528324932769],\n",
       "                {}\n",
       "            ).addTo(map_04e8a856477d50a49c2a41414bf58aea);\n",
       "        \n",
       "    \n",
       "        var popup_284b469d1ed6c55f20df98823380d854 = L.popup({&quot;maxWidth&quot;: &quot;100%&quot;});\n",
       "\n",
       "        \n",
       "            \n",
       "                var html_abbdc6d97fe74102ced270a774910bce = $(`&lt;div id=&quot;html_abbdc6d97fe74102ced270a774910bce&quot; style=&quot;width: 100.0%; height: 100.0%;&quot;&gt;3527&lt;/div&gt;`)[0];\n",
       "                popup_284b469d1ed6c55f20df98823380d854.setContent(html_abbdc6d97fe74102ced270a774910bce);\n",
       "            \n",
       "        \n",
       "\n",
       "        marker_85e22e44c2e4256054811d4428df5d03.bindPopup(popup_284b469d1ed6c55f20df98823380d854)\n",
       "        ;\n",
       "\n",
       "        \n",
       "    \n",
       "    \n",
       "            var marker_767a0044add8278fb1e45f2d6ced6c05 = L.marker(\n",
       "                [-15.780964411486119, -47.887867366820046],\n",
       "                {}\n",
       "            ).addTo(map_04e8a856477d50a49c2a41414bf58aea);\n",
       "        \n",
       "    \n",
       "        var popup_fae8e5a3f2b4bd8dc80110877c603d8c = L.popup({&quot;maxWidth&quot;: &quot;100%&quot;});\n",
       "\n",
       "        \n",
       "            \n",
       "                var html_6941d2104819fce15a887c06e0ea9ea9 = $(`&lt;div id=&quot;html_6941d2104819fce15a887c06e0ea9ea9&quot; style=&quot;width: 100.0%; height: 100.0%;&quot;&gt;3537&lt;/div&gt;`)[0];\n",
       "                popup_fae8e5a3f2b4bd8dc80110877c603d8c.setContent(html_6941d2104819fce15a887c06e0ea9ea9);\n",
       "            \n",
       "        \n",
       "\n",
       "        marker_767a0044add8278fb1e45f2d6ced6c05.bindPopup(popup_fae8e5a3f2b4bd8dc80110877c603d8c)\n",
       "        ;\n",
       "\n",
       "        \n",
       "    \n",
       "    \n",
       "            var marker_fed27e34e9ab7296a1225f257869ada2 = L.marker(\n",
       "                [-15.777867601935073, -47.88808519169229],\n",
       "                {}\n",
       "            ).addTo(map_04e8a856477d50a49c2a41414bf58aea);\n",
       "        \n",
       "    \n",
       "        var popup_b1496212992e92c79a707327d80a49be = L.popup({&quot;maxWidth&quot;: &quot;100%&quot;});\n",
       "\n",
       "        \n",
       "            \n",
       "                var html_256920a5be2f85b3bc2931366d7226d4 = $(`&lt;div id=&quot;html_256920a5be2f85b3bc2931366d7226d4&quot; style=&quot;width: 100.0%; height: 100.0%;&quot;&gt;3536&lt;/div&gt;`)[0];\n",
       "                popup_b1496212992e92c79a707327d80a49be.setContent(html_256920a5be2f85b3bc2931366d7226d4);\n",
       "            \n",
       "        \n",
       "\n",
       "        marker_fed27e34e9ab7296a1225f257869ada2.bindPopup(popup_b1496212992e92c79a707327d80a49be)\n",
       "        ;\n",
       "\n",
       "        \n",
       "    \n",
       "    \n",
       "            var marker_678d5e501d2f3dcbd367f3ccd22265fa = L.marker(\n",
       "                [-15.803832548281662, -47.8968733783559],\n",
       "                {}\n",
       "            ).addTo(map_04e8a856477d50a49c2a41414bf58aea);\n",
       "        \n",
       "    \n",
       "        var popup_d73a7ce671efcd99ccdd36736722aa1b = L.popup({&quot;maxWidth&quot;: &quot;100%&quot;});\n",
       "\n",
       "        \n",
       "            \n",
       "                var html_5f7094cb0b93b399eca21fea18f62871 = $(`&lt;div id=&quot;html_5f7094cb0b93b399eca21fea18f62871&quot; style=&quot;width: 100.0%; height: 100.0%;&quot;&gt;3549&lt;/div&gt;`)[0];\n",
       "                popup_d73a7ce671efcd99ccdd36736722aa1b.setContent(html_5f7094cb0b93b399eca21fea18f62871);\n",
       "            \n",
       "        \n",
       "\n",
       "        marker_678d5e501d2f3dcbd367f3ccd22265fa.bindPopup(popup_d73a7ce671efcd99ccdd36736722aa1b)\n",
       "        ;\n",
       "\n",
       "        \n",
       "    \n",
       "    \n",
       "            var marker_829b90c99c971030dd7be1238d71df90 = L.marker(\n",
       "                [-15.763359943029167, -47.89131190194332],\n",
       "                {}\n",
       "            ).addTo(map_04e8a856477d50a49c2a41414bf58aea);\n",
       "        \n",
       "    \n",
       "        var popup_bf53b92f56df9bba2348bad963f245de = L.popup({&quot;maxWidth&quot;: &quot;100%&quot;});\n",
       "\n",
       "        \n",
       "            \n",
       "                var html_23e30dcdd0a68df63609f69c4f459871 = $(`&lt;div id=&quot;html_23e30dcdd0a68df63609f69c4f459871&quot; style=&quot;width: 100.0%; height: 100.0%;&quot;&gt;3531&lt;/div&gt;`)[0];\n",
       "                popup_bf53b92f56df9bba2348bad963f245de.setContent(html_23e30dcdd0a68df63609f69c4f459871);\n",
       "            \n",
       "        \n",
       "\n",
       "        marker_829b90c99c971030dd7be1238d71df90.bindPopup(popup_bf53b92f56df9bba2348bad963f245de)\n",
       "        ;\n",
       "\n",
       "        \n",
       "    \n",
       "    \n",
       "            var marker_3b76ab89ed23bffd2a435e2c2b22b074 = L.marker(\n",
       "                [-15.766656694428423, -47.8902569120232],\n",
       "                {}\n",
       "            ).addTo(map_04e8a856477d50a49c2a41414bf58aea);\n",
       "        \n",
       "    \n",
       "        var popup_e06fb41858d2bd7a560a2143d24c2a13 = L.popup({&quot;maxWidth&quot;: &quot;100%&quot;});\n",
       "\n",
       "        \n",
       "            \n",
       "                var html_496a9dd276d69d6aec1dd84a88d139a0 = $(`&lt;div id=&quot;html_496a9dd276d69d6aec1dd84a88d139a0&quot; style=&quot;width: 100.0%; height: 100.0%;&quot;&gt;3532&lt;/div&gt;`)[0];\n",
       "                popup_e06fb41858d2bd7a560a2143d24c2a13.setContent(html_496a9dd276d69d6aec1dd84a88d139a0);\n",
       "            \n",
       "        \n",
       "\n",
       "        marker_3b76ab89ed23bffd2a435e2c2b22b074.bindPopup(popup_e06fb41858d2bd7a560a2143d24c2a13)\n",
       "        ;\n",
       "\n",
       "        \n",
       "    \n",
       "    \n",
       "            var marker_b54338b7f5be09d5cb6c560f74412a37 = L.marker(\n",
       "                [-15.76925722178799, -47.88955468811846],\n",
       "                {}\n",
       "            ).addTo(map_04e8a856477d50a49c2a41414bf58aea);\n",
       "        \n",
       "    \n",
       "        var popup_1af98959344f4cb33884def6280292f5 = L.popup({&quot;maxWidth&quot;: &quot;100%&quot;});\n",
       "\n",
       "        \n",
       "            \n",
       "                var html_abbbdd46c1157eaf6ffe582a7f460ef5 = $(`&lt;div id=&quot;html_abbbdd46c1157eaf6ffe582a7f460ef5&quot; style=&quot;width: 100.0%; height: 100.0%;&quot;&gt;3533&lt;/div&gt;`)[0];\n",
       "                popup_1af98959344f4cb33884def6280292f5.setContent(html_abbbdd46c1157eaf6ffe582a7f460ef5);\n",
       "            \n",
       "        \n",
       "\n",
       "        marker_b54338b7f5be09d5cb6c560f74412a37.bindPopup(popup_1af98959344f4cb33884def6280292f5)\n",
       "        ;\n",
       "\n",
       "        \n",
       "    \n",
       "    \n",
       "            var marker_a705ec6360c8157162a3f311da52e842 = L.marker(\n",
       "                [-15.771805359502322, -47.888934384031636],\n",
       "                {}\n",
       "            ).addTo(map_04e8a856477d50a49c2a41414bf58aea);\n",
       "        \n",
       "    \n",
       "        var popup_74d2cb5681b9746c5cbbc9c39c3df410 = L.popup({&quot;maxWidth&quot;: &quot;100%&quot;});\n",
       "\n",
       "        \n",
       "            \n",
       "                var html_4858a7ed7142028cc8db3650cbaa343d = $(`&lt;div id=&quot;html_4858a7ed7142028cc8db3650cbaa343d&quot; style=&quot;width: 100.0%; height: 100.0%;&quot;&gt;3534&lt;/div&gt;`)[0];\n",
       "                popup_74d2cb5681b9746c5cbbc9c39c3df410.setContent(html_4858a7ed7142028cc8db3650cbaa343d);\n",
       "            \n",
       "        \n",
       "\n",
       "        marker_a705ec6360c8157162a3f311da52e842.bindPopup(popup_74d2cb5681b9746c5cbbc9c39c3df410)\n",
       "        ;\n",
       "\n",
       "        \n",
       "    \n",
       "    \n",
       "            var marker_9275728db826dcd1ef1d203f2fccbbdf = L.marker(\n",
       "                [-15.7748788137897, -47.88843148773567],\n",
       "                {}\n",
       "            ).addTo(map_04e8a856477d50a49c2a41414bf58aea);\n",
       "        \n",
       "    \n",
       "        var popup_ca5768bb37b2d71d4cc88f3bc70d7fc2 = L.popup({&quot;maxWidth&quot;: &quot;100%&quot;});\n",
       "\n",
       "        \n",
       "            \n",
       "                var html_8f0de06617273081eceb2e5ebb0a2c37 = $(`&lt;div id=&quot;html_8f0de06617273081eceb2e5ebb0a2c37&quot; style=&quot;width: 100.0%; height: 100.0%;&quot;&gt;3535&lt;/div&gt;`)[0];\n",
       "                popup_ca5768bb37b2d71d4cc88f3bc70d7fc2.setContent(html_8f0de06617273081eceb2e5ebb0a2c37);\n",
       "            \n",
       "        \n",
       "\n",
       "        marker_9275728db826dcd1ef1d203f2fccbbdf.bindPopup(popup_ca5768bb37b2d71d4cc88f3bc70d7fc2)\n",
       "        ;\n",
       "\n",
       "        \n",
       "    \n",
       "    \n",
       "            var marker_4174cad210ffdac6895319f73fad4aea = L.marker(\n",
       "                [-15.810874260354762, -47.994095844937696],\n",
       "                {}\n",
       "            ).addTo(map_04e8a856477d50a49c2a41414bf58aea);\n",
       "        \n",
       "    \n",
       "        var popup_7b30b8e06d64e035bdb8de0b6d3277f7 = L.popup({&quot;maxWidth&quot;: &quot;100%&quot;});\n",
       "\n",
       "        \n",
       "            \n",
       "                var html_bb26a94d864a141079bf30057450ab08 = $(`&lt;div id=&quot;html_bb26a94d864a141079bf30057450ab08&quot; style=&quot;width: 100.0%; height: 100.0%;&quot;&gt;7056&lt;/div&gt;`)[0];\n",
       "                popup_7b30b8e06d64e035bdb8de0b6d3277f7.setContent(html_bb26a94d864a141079bf30057450ab08);\n",
       "            \n",
       "        \n",
       "\n",
       "        marker_4174cad210ffdac6895319f73fad4aea.bindPopup(popup_7b30b8e06d64e035bdb8de0b6d3277f7)\n",
       "        ;\n",
       "\n",
       "        \n",
       "    \n",
       "    \n",
       "            var marker_eab569370f873be2d0086c618c7031dc = L.marker(\n",
       "                [-15.817119684437223, -47.9130425169935],\n",
       "                {}\n",
       "            ).addTo(map_04e8a856477d50a49c2a41414bf58aea);\n",
       "        \n",
       "    \n",
       "        var popup_8951bbcccb153c9b75cfafe9bbdddd0e = L.popup({&quot;maxWidth&quot;: &quot;100%&quot;});\n",
       "\n",
       "        \n",
       "            \n",
       "                var html_21e55839540cf144c120e146b6b749ca = $(`&lt;div id=&quot;html_21e55839540cf144c120e146b6b749ca&quot; style=&quot;width: 100.0%; height: 100.0%;&quot;&gt;3554&lt;/div&gt;`)[0];\n",
       "                popup_8951bbcccb153c9b75cfafe9bbdddd0e.setContent(html_21e55839540cf144c120e146b6b749ca);\n",
       "            \n",
       "        \n",
       "\n",
       "        marker_eab569370f873be2d0086c618c7031dc.bindPopup(popup_8951bbcccb153c9b75cfafe9bbdddd0e)\n",
       "        ;\n",
       "\n",
       "        \n",
       "    \n",
       "    \n",
       "            var marker_89ffe34725ff78b695f02987bc6caccf = L.marker(\n",
       "                [-15.819241243681317, -47.91597920692626],\n",
       "                {}\n",
       "            ).addTo(map_04e8a856477d50a49c2a41414bf58aea);\n",
       "        \n",
       "    \n",
       "        var popup_e578e00330d5f80400061aaaf2f7df48 = L.popup({&quot;maxWidth&quot;: &quot;100%&quot;});\n",
       "\n",
       "        \n",
       "            \n",
       "                var html_6ba39defbac423f471e0d72422ed5801 = $(`&lt;div id=&quot;html_6ba39defbac423f471e0d72422ed5801&quot; style=&quot;width: 100.0%; height: 100.0%;&quot;&gt;3555&lt;/div&gt;`)[0];\n",
       "                popup_e578e00330d5f80400061aaaf2f7df48.setContent(html_6ba39defbac423f471e0d72422ed5801);\n",
       "            \n",
       "        \n",
       "\n",
       "        marker_89ffe34725ff78b695f02987bc6caccf.bindPopup(popup_e578e00330d5f80400061aaaf2f7df48)\n",
       "        ;\n",
       "\n",
       "        \n",
       "    \n",
       "    \n",
       "            var marker_26256f75b11371d9f924a7025ac6d9da = L.marker(\n",
       "                [-15.748031643828298, -47.89622512072298],\n",
       "                {}\n",
       "            ).addTo(map_04e8a856477d50a49c2a41414bf58aea);\n",
       "        \n",
       "    \n",
       "        var popup_16ab50ea51509ed6e2e6f6f52fbdee30 = L.popup({&quot;maxWidth&quot;: &quot;100%&quot;});\n",
       "\n",
       "        \n",
       "            \n",
       "                var html_6692797761829c4ecb043f434ff90fd8 = $(`&lt;div id=&quot;html_6692797761829c4ecb043f434ff90fd8&quot; style=&quot;width: 100.0%; height: 100.0%;&quot;&gt;3526&lt;/div&gt;`)[0];\n",
       "                popup_16ab50ea51509ed6e2e6f6f52fbdee30.setContent(html_6692797761829c4ecb043f434ff90fd8);\n",
       "            \n",
       "        \n",
       "\n",
       "        marker_26256f75b11371d9f924a7025ac6d9da.bindPopup(popup_16ab50ea51509ed6e2e6f6f52fbdee30)\n",
       "        ;\n",
       "\n",
       "        \n",
       "    \n",
       "    \n",
       "            var marker_b814d58f7bce3adcdf0abb4cb982929a = L.marker(\n",
       "                [-15.83090131155041, -48.04334965991338],\n",
       "                {}\n",
       "            ).addTo(map_04e8a856477d50a49c2a41414bf58aea);\n",
       "        \n",
       "    \n",
       "        var popup_5e45033a8e5af5516a02cb5d696026be = L.popup({&quot;maxWidth&quot;: &quot;100%&quot;});\n",
       "\n",
       "        \n",
       "            \n",
       "                var html_40ece562aa178aed1e7ecb099c03b2e0 = $(`&lt;div id=&quot;html_40ece562aa178aed1e7ecb099c03b2e0&quot; style=&quot;width: 100.0%; height: 100.0%;&quot;&gt;7039&lt;/div&gt;`)[0];\n",
       "                popup_5e45033a8e5af5516a02cb5d696026be.setContent(html_40ece562aa178aed1e7ecb099c03b2e0);\n",
       "            \n",
       "        \n",
       "\n",
       "        marker_b814d58f7bce3adcdf0abb4cb982929a.bindPopup(popup_5e45033a8e5af5516a02cb5d696026be)\n",
       "        ;\n",
       "\n",
       "        \n",
       "    \n",
       "    \n",
       "            var marker_c4b54060a77b181889e68061e85ce220 = L.marker(\n",
       "                [-15.830763786421896, -48.0422543275836],\n",
       "                {}\n",
       "            ).addTo(map_04e8a856477d50a49c2a41414bf58aea);\n",
       "        \n",
       "    \n",
       "        var popup_8abb25ab37a5b52ad9583e025962a099 = L.popup({&quot;maxWidth&quot;: &quot;100%&quot;});\n",
       "\n",
       "        \n",
       "            \n",
       "                var html_a9c14fa8adff9db3e620d661a545142a = $(`&lt;div id=&quot;html_a9c14fa8adff9db3e620d661a545142a&quot; style=&quot;width: 100.0%; height: 100.0%;&quot;&gt;7040&lt;/div&gt;`)[0];\n",
       "                popup_8abb25ab37a5b52ad9583e025962a099.setContent(html_a9c14fa8adff9db3e620d661a545142a);\n",
       "            \n",
       "        \n",
       "\n",
       "        marker_c4b54060a77b181889e68061e85ce220.bindPopup(popup_8abb25ab37a5b52ad9583e025962a099)\n",
       "        ;\n",
       "\n",
       "        \n",
       "    \n",
       "    \n",
       "            var marker_adbb13a3ceca5da6929b7db8a6a0f084 = L.marker(\n",
       "                [-15.829843081637053, -48.03601408177246],\n",
       "                {}\n",
       "            ).addTo(map_04e8a856477d50a49c2a41414bf58aea);\n",
       "        \n",
       "    \n",
       "        var popup_d50c7ec38cad06caa002c0242532f377 = L.popup({&quot;maxWidth&quot;: &quot;100%&quot;});\n",
       "\n",
       "        \n",
       "            \n",
       "                var html_3a21284db3334719fa9515fd74940db2 = $(`&lt;div id=&quot;html_3a21284db3334719fa9515fd74940db2&quot; style=&quot;width: 100.0%; height: 100.0%;&quot;&gt;7042&lt;/div&gt;`)[0];\n",
       "                popup_d50c7ec38cad06caa002c0242532f377.setContent(html_3a21284db3334719fa9515fd74940db2);\n",
       "            \n",
       "        \n",
       "\n",
       "        marker_adbb13a3ceca5da6929b7db8a6a0f084.bindPopup(popup_d50c7ec38cad06caa002c0242532f377)\n",
       "        ;\n",
       "\n",
       "        \n",
       "    \n",
       "    \n",
       "            var marker_0befafb2634e277454fb82ff6ce9987f = L.marker(\n",
       "                [-15.8312520086486, -48.045936321652164],\n",
       "                {}\n",
       "            ).addTo(map_04e8a856477d50a49c2a41414bf58aea);\n",
       "        \n",
       "    \n",
       "        var popup_1da663ae14eae76073888f76db8bf1f1 = L.popup({&quot;maxWidth&quot;: &quot;100%&quot;});\n",
       "\n",
       "        \n",
       "            \n",
       "                var html_e1e86bf319775a2d60769fcfc02198d9 = $(`&lt;div id=&quot;html_e1e86bf319775a2d60769fcfc02198d9&quot; style=&quot;width: 100.0%; height: 100.0%;&quot;&gt;7038&lt;/div&gt;`)[0];\n",
       "                popup_1da663ae14eae76073888f76db8bf1f1.setContent(html_e1e86bf319775a2d60769fcfc02198d9);\n",
       "            \n",
       "        \n",
       "\n",
       "        marker_0befafb2634e277454fb82ff6ce9987f.bindPopup(popup_1da663ae14eae76073888f76db8bf1f1)\n",
       "        ;\n",
       "\n",
       "        \n",
       "    \n",
       "    \n",
       "            var marker_7db6e5dbb6485d627ca6d7c283ebba49 = L.marker(\n",
       "                [-15.831385772840454, -48.04712784694789],\n",
       "                {}\n",
       "            ).addTo(map_04e8a856477d50a49c2a41414bf58aea);\n",
       "        \n",
       "    \n",
       "        var popup_29ccc13b53143581eea1e1fa83b1ac22 = L.popup({&quot;maxWidth&quot;: &quot;100%&quot;});\n",
       "\n",
       "        \n",
       "            \n",
       "                var html_ad82171afed73ef755523719ec3838d0 = $(`&lt;div id=&quot;html_ad82171afed73ef755523719ec3838d0&quot; style=&quot;width: 100.0%; height: 100.0%;&quot;&gt;7037&lt;/div&gt;`)[0];\n",
       "                popup_29ccc13b53143581eea1e1fa83b1ac22.setContent(html_ad82171afed73ef755523719ec3838d0);\n",
       "            \n",
       "        \n",
       "\n",
       "        marker_7db6e5dbb6485d627ca6d7c283ebba49.bindPopup(popup_29ccc13b53143581eea1e1fa83b1ac22)\n",
       "        ;\n",
       "\n",
       "        \n",
       "    \n",
       "    \n",
       "            var marker_8a21ce3f67075384b967f7121da26c45 = L.marker(\n",
       "                [-15.808980396218939, -47.93940203467356],\n",
       "                {}\n",
       "            ).addTo(map_04e8a856477d50a49c2a41414bf58aea);\n",
       "        \n",
       "    \n",
       "        var popup_38bdf5fa0da7b06ed3c22fcf0afacb70 = L.popup({&quot;maxWidth&quot;: &quot;100%&quot;});\n",
       "\n",
       "        \n",
       "            \n",
       "                var html_76b0acbfc47109a4148abd9e070a699d = $(`&lt;div id=&quot;html_76b0acbfc47109a4148abd9e070a699d&quot; style=&quot;width: 100.0%; height: 100.0%;&quot;&gt;1777&lt;/div&gt;`)[0];\n",
       "                popup_38bdf5fa0da7b06ed3c22fcf0afacb70.setContent(html_76b0acbfc47109a4148abd9e070a699d);\n",
       "            \n",
       "        \n",
       "\n",
       "        marker_8a21ce3f67075384b967f7121da26c45.bindPopup(popup_38bdf5fa0da7b06ed3c22fcf0afacb70)\n",
       "        ;\n",
       "\n",
       "        \n",
       "    \n",
       "    \n",
       "            var marker_9bb9f11f25ed9689cc704ac5deabbf3c = L.marker(\n",
       "                [-15.81060427583457, -47.943237032134896],\n",
       "                {}\n",
       "            ).addTo(map_04e8a856477d50a49c2a41414bf58aea);\n",
       "        \n",
       "    \n",
       "        var popup_ddeae6eae189a4b14bb783c805ddde01 = L.popup({&quot;maxWidth&quot;: &quot;100%&quot;});\n",
       "\n",
       "        \n",
       "            \n",
       "                var html_b763eb59b5d5fef578e62f65919f159f = $(`&lt;div id=&quot;html_b763eb59b5d5fef578e62f65919f159f&quot; style=&quot;width: 100.0%; height: 100.0%;&quot;&gt;1827&lt;/div&gt;`)[0];\n",
       "                popup_ddeae6eae189a4b14bb783c805ddde01.setContent(html_b763eb59b5d5fef578e62f65919f159f);\n",
       "            \n",
       "        \n",
       "\n",
       "        marker_9bb9f11f25ed9689cc704ac5deabbf3c.bindPopup(popup_ddeae6eae189a4b14bb783c805ddde01)\n",
       "        ;\n",
       "\n",
       "        \n",
       "    \n",
       "    \n",
       "            var marker_7bf36319678f2af822b8fe466d395900 = L.marker(\n",
       "                [-15.8267213311457, -48.02997918843741],\n",
       "                {}\n",
       "            ).addTo(map_04e8a856477d50a49c2a41414bf58aea);\n",
       "        \n",
       "    \n",
       "        var popup_2a997d7c29ee9dbd12287c16e4fa30e9 = L.popup({&quot;maxWidth&quot;: &quot;100%&quot;});\n",
       "\n",
       "        \n",
       "            \n",
       "                var html_bdbb5cf4a464e4464719f291e5bd5207 = $(`&lt;div id=&quot;html_bdbb5cf4a464e4464719f291e5bd5207&quot; style=&quot;width: 100.0%; height: 100.0%;&quot;&gt;7044&lt;/div&gt;`)[0];\n",
       "                popup_2a997d7c29ee9dbd12287c16e4fa30e9.setContent(html_bdbb5cf4a464e4464719f291e5bd5207);\n",
       "            \n",
       "        \n",
       "\n",
       "        marker_7bf36319678f2af822b8fe466d395900.bindPopup(popup_2a997d7c29ee9dbd12287c16e4fa30e9)\n",
       "        ;\n",
       "\n",
       "        \n",
       "    \n",
       "    \n",
       "            var marker_5db7da3152b5a70d0fb51b6199cd9e34 = L.marker(\n",
       "                [-15.824435919798796, -48.026145880057264],\n",
       "                {}\n",
       "            ).addTo(map_04e8a856477d50a49c2a41414bf58aea);\n",
       "        \n",
       "    \n",
       "        var popup_b65d02de852071f4b5e9b99d94857435 = L.popup({&quot;maxWidth&quot;: &quot;100%&quot;});\n",
       "\n",
       "        \n",
       "            \n",
       "                var html_2528f571de97da8750515138a0d4c183 = $(`&lt;div id=&quot;html_2528f571de97da8750515138a0d4c183&quot; style=&quot;width: 100.0%; height: 100.0%;&quot;&gt;7046&lt;/div&gt;`)[0];\n",
       "                popup_b65d02de852071f4b5e9b99d94857435.setContent(html_2528f571de97da8750515138a0d4c183);\n",
       "            \n",
       "        \n",
       "\n",
       "        marker_5db7da3152b5a70d0fb51b6199cd9e34.bindPopup(popup_b65d02de852071f4b5e9b99d94857435)\n",
       "        ;\n",
       "\n",
       "        \n",
       "    \n",
       "    \n",
       "            var marker_f9257150f10d488f9a484150feee737b = L.marker(\n",
       "                [-15.78523008062385, -47.88797392390371],\n",
       "                {}\n",
       "            ).addTo(map_04e8a856477d50a49c2a41414bf58aea);\n",
       "        \n",
       "    \n",
       "        var popup_e1b6836915593136b16e6728c13afc4c = L.popup({&quot;maxWidth&quot;: &quot;100%&quot;});\n",
       "\n",
       "        \n",
       "            \n",
       "                var html_a845dd027c20b6f733eb6a268c100e06 = $(`&lt;div id=&quot;html_a845dd027c20b6f733eb6a268c100e06&quot; style=&quot;width: 100.0%; height: 100.0%;&quot;&gt;3538&lt;/div&gt;`)[0];\n",
       "                popup_e1b6836915593136b16e6728c13afc4c.setContent(html_a845dd027c20b6f733eb6a268c100e06);\n",
       "            \n",
       "        \n",
       "\n",
       "        marker_f9257150f10d488f9a484150feee737b.bindPopup(popup_e1b6836915593136b16e6728c13afc4c)\n",
       "        ;\n",
       "\n",
       "        \n",
       "    \n",
       "    \n",
       "            var marker_6e55df121f9a58252d0398f71f6d792a = L.marker(\n",
       "                [-15.808970894529612, -47.95407137683966],\n",
       "                {}\n",
       "            ).addTo(map_04e8a856477d50a49c2a41414bf58aea);\n",
       "        \n",
       "    \n",
       "        var popup_6a1b06133db09755e447cf0393e98d47 = L.popup({&quot;maxWidth&quot;: &quot;100%&quot;});\n",
       "\n",
       "        \n",
       "            \n",
       "                var html_d255a323095e55c4f98b0f0a05ea9e52 = $(`&lt;div id=&quot;html_d255a323095e55c4f98b0f0a05ea9e52&quot; style=&quot;width: 100.0%; height: 100.0%;&quot;&gt;2240&lt;/div&gt;`)[0];\n",
       "                popup_6a1b06133db09755e447cf0393e98d47.setContent(html_d255a323095e55c4f98b0f0a05ea9e52);\n",
       "            \n",
       "        \n",
       "\n",
       "        marker_6e55df121f9a58252d0398f71f6d792a.bindPopup(popup_6a1b06133db09755e447cf0393e98d47)\n",
       "        ;\n",
       "\n",
       "        \n",
       "    \n",
       "    \n",
       "            var marker_ad3e2243d69be4ecc6dd6e2f90565454 = L.marker(\n",
       "                [-15.8121358352868, -47.98420389362696],\n",
       "                {}\n",
       "            ).addTo(map_04e8a856477d50a49c2a41414bf58aea);\n",
       "        \n",
       "    \n",
       "        var popup_51cb212e079d0d32539dcff68a99c7f1 = L.popup({&quot;maxWidth&quot;: &quot;100%&quot;});\n",
       "\n",
       "        \n",
       "            \n",
       "                var html_6794d23badc30cd71ec8e2ef600b28e8 = $(`&lt;div id=&quot;html_6794d23badc30cd71ec8e2ef600b28e8&quot; style=&quot;width: 100.0%; height: 100.0%;&quot;&gt;7060&lt;/div&gt;`)[0];\n",
       "                popup_51cb212e079d0d32539dcff68a99c7f1.setContent(html_6794d23badc30cd71ec8e2ef600b28e8);\n",
       "            \n",
       "        \n",
       "\n",
       "        marker_ad3e2243d69be4ecc6dd6e2f90565454.bindPopup(popup_51cb212e079d0d32539dcff68a99c7f1)\n",
       "        ;\n",
       "\n",
       "        \n",
       "    \n",
       "    \n",
       "            var marker_d2101c0717e006fdd6d968f341ad486b = L.marker(\n",
       "                [-15.848165938579161, -48.0428694822236],\n",
       "                {}\n",
       "            ).addTo(map_04e8a856477d50a49c2a41414bf58aea);\n",
       "        \n",
       "    \n",
       "        var popup_7bd092964cc58dc4d21272a02b8c16e0 = L.popup({&quot;maxWidth&quot;: &quot;100%&quot;});\n",
       "\n",
       "        \n",
       "            \n",
       "                var html_afead99e281b09d60150c0e6e926f956 = $(`&lt;div id=&quot;html_afead99e281b09d60150c0e6e926f956&quot; style=&quot;width: 100.0%; height: 100.0%;&quot;&gt;4967&lt;/div&gt;`)[0];\n",
       "                popup_7bd092964cc58dc4d21272a02b8c16e0.setContent(html_afead99e281b09d60150c0e6e926f956);\n",
       "            \n",
       "        \n",
       "\n",
       "        marker_d2101c0717e006fdd6d968f341ad486b.bindPopup(popup_7bd092964cc58dc4d21272a02b8c16e0)\n",
       "        ;\n",
       "\n",
       "        \n",
       "    \n",
       "    \n",
       "            var marker_7465fb4515d42104f8526fc82e993741 = L.marker(\n",
       "                [-15.811477095014453, -47.98901499079689],\n",
       "                {}\n",
       "            ).addTo(map_04e8a856477d50a49c2a41414bf58aea);\n",
       "        \n",
       "    \n",
       "        var popup_499eaccf3e4fb2618c9a649053ff43d8 = L.popup({&quot;maxWidth&quot;: &quot;100%&quot;});\n",
       "\n",
       "        \n",
       "            \n",
       "                var html_557edbd14fb66e694fc6609b64e6e9fb = $(`&lt;div id=&quot;html_557edbd14fb66e694fc6609b64e6e9fb&quot; style=&quot;width: 100.0%; height: 100.0%;&quot;&gt;7058&lt;/div&gt;`)[0];\n",
       "                popup_499eaccf3e4fb2618c9a649053ff43d8.setContent(html_557edbd14fb66e694fc6609b64e6e9fb);\n",
       "            \n",
       "        \n",
       "\n",
       "        marker_7465fb4515d42104f8526fc82e993741.bindPopup(popup_499eaccf3e4fb2618c9a649053ff43d8)\n",
       "        ;\n",
       "\n",
       "        \n",
       "    \n",
       "    \n",
       "            var marker_0b73ddff2cf83b531140e866d135145e = L.marker(\n",
       "                [-15.878547712176404, -48.05289719400619],\n",
       "                {}\n",
       "            ).addTo(map_04e8a856477d50a49c2a41414bf58aea);\n",
       "        \n",
       "    \n",
       "        var popup_da76855c645e0cd857bd4c2878b6de81 = L.popup({&quot;maxWidth&quot;: &quot;100%&quot;});\n",
       "\n",
       "        \n",
       "            \n",
       "                var html_883d7cfa8c54aa94fc311e5c8a929005 = $(`&lt;div id=&quot;html_883d7cfa8c54aa94fc311e5c8a929005&quot; style=&quot;width: 100.0%; height: 100.0%;&quot;&gt;4029&lt;/div&gt;`)[0];\n",
       "                popup_da76855c645e0cd857bd4c2878b6de81.setContent(html_883d7cfa8c54aa94fc311e5c8a929005);\n",
       "            \n",
       "        \n",
       "\n",
       "        marker_0b73ddff2cf83b531140e866d135145e.bindPopup(popup_da76855c645e0cd857bd4c2878b6de81)\n",
       "        ;\n",
       "\n",
       "        \n",
       "    \n",
       "    \n",
       "            var marker_6b0d50216ee627da9c57ccedf13b272b = L.marker(\n",
       "                [-15.901938999999995, -48.058869],\n",
       "                {}\n",
       "            ).addTo(map_04e8a856477d50a49c2a41414bf58aea);\n",
       "        \n",
       "    \n",
       "        var popup_e758e5dbb1bd4e938b6b97b62201bd93 = L.popup({&quot;maxWidth&quot;: &quot;100%&quot;});\n",
       "\n",
       "        \n",
       "            \n",
       "                var html_d162d24c8e179e350fa8ce7ecaf88d72 = $(`&lt;div id=&quot;html_d162d24c8e179e350fa8ce7ecaf88d72&quot; style=&quot;width: 100.0%; height: 100.0%;&quot;&gt;7887&lt;/div&gt;`)[0];\n",
       "                popup_e758e5dbb1bd4e938b6b97b62201bd93.setContent(html_d162d24c8e179e350fa8ce7ecaf88d72);\n",
       "            \n",
       "        \n",
       "\n",
       "        marker_6b0d50216ee627da9c57ccedf13b272b.bindPopup(popup_e758e5dbb1bd4e938b6b97b62201bd93)\n",
       "        ;\n",
       "\n",
       "        \n",
       "    \n",
       "    \n",
       "            var marker_b94b62ec871225c241af3f998c57e808 = L.marker(\n",
       "                [-15.901119281187693, -48.056252645117894],\n",
       "                {}\n",
       "            ).addTo(map_04e8a856477d50a49c2a41414bf58aea);\n",
       "        \n",
       "    \n",
       "        var popup_26bf6fe80ad91f2c373b261d0bace5b1 = L.popup({&quot;maxWidth&quot;: &quot;100%&quot;});\n",
       "\n",
       "        \n",
       "            \n",
       "                var html_6090ba330b6a3c4c8b6191c8c93437cc = $(`&lt;div id=&quot;html_6090ba330b6a3c4c8b6191c8c93437cc&quot; style=&quot;width: 100.0%; height: 100.0%;&quot;&gt;3868&lt;/div&gt;`)[0];\n",
       "                popup_26bf6fe80ad91f2c373b261d0bace5b1.setContent(html_6090ba330b6a3c4c8b6191c8c93437cc);\n",
       "            \n",
       "        \n",
       "\n",
       "        marker_b94b62ec871225c241af3f998c57e808.bindPopup(popup_26bf6fe80ad91f2c373b261d0bace5b1)\n",
       "        ;\n",
       "\n",
       "        \n",
       "    \n",
       "    \n",
       "            var marker_eaf417da152f1b0c29ddac090c6f8971 = L.marker(\n",
       "                [-15.901926274765938, -48.05885181272419],\n",
       "                {}\n",
       "            ).addTo(map_04e8a856477d50a49c2a41414bf58aea);\n",
       "        \n",
       "    \n",
       "        var popup_d1e974b58d51311f8515a4033ca8af8d = L.popup({&quot;maxWidth&quot;: &quot;100%&quot;});\n",
       "\n",
       "        \n",
       "            \n",
       "                var html_a22ed9452c6ccba5ee25349b68fb8216 = $(`&lt;div id=&quot;html_a22ed9452c6ccba5ee25349b68fb8216&quot; style=&quot;width: 100.0%; height: 100.0%;&quot;&gt;3869&lt;/div&gt;`)[0];\n",
       "                popup_d1e974b58d51311f8515a4033ca8af8d.setContent(html_a22ed9452c6ccba5ee25349b68fb8216);\n",
       "            \n",
       "        \n",
       "\n",
       "        marker_eaf417da152f1b0c29ddac090c6f8971.bindPopup(popup_d1e974b58d51311f8515a4033ca8af8d)\n",
       "        ;\n",
       "\n",
       "        \n",
       "    \n",
       "    \n",
       "            var marker_badbcb53f5f43e298ebbeb5fccf2219a = L.marker(\n",
       "                [-15.90291768028956, -48.06211634596284],\n",
       "                {}\n",
       "            ).addTo(map_04e8a856477d50a49c2a41414bf58aea);\n",
       "        \n",
       "    \n",
       "        var popup_4bb3b88ede0f9fd4d25f8e456f4f7ba0 = L.popup({&quot;maxWidth&quot;: &quot;100%&quot;});\n",
       "\n",
       "        \n",
       "            \n",
       "                var html_5c8ec43f294ece77ec7577832453e859 = $(`&lt;div id=&quot;html_5c8ec43f294ece77ec7577832453e859&quot; style=&quot;width: 100.0%; height: 100.0%;&quot;&gt;3870&lt;/div&gt;`)[0];\n",
       "                popup_4bb3b88ede0f9fd4d25f8e456f4f7ba0.setContent(html_5c8ec43f294ece77ec7577832453e859);\n",
       "            \n",
       "        \n",
       "\n",
       "        marker_badbcb53f5f43e298ebbeb5fccf2219a.bindPopup(popup_4bb3b88ede0f9fd4d25f8e456f4f7ba0)\n",
       "        ;\n",
       "\n",
       "        \n",
       "    \n",
       "    \n",
       "            var marker_4b960502308e08bc0bdf796b6974ba4e = L.marker(\n",
       "                [-15.798380421975773, -47.892521340318204],\n",
       "                {}\n",
       "            ).addTo(map_04e8a856477d50a49c2a41414bf58aea);\n",
       "        \n",
       "    \n",
       "        var popup_936ee5208fc8075a89e88cc654b4bb36 = L.popup({&quot;maxWidth&quot;: &quot;100%&quot;});\n",
       "\n",
       "        \n",
       "            \n",
       "                var html_b4d4a22412190e57aaecfe395282e52e = $(`&lt;div id=&quot;html_b4d4a22412190e57aaecfe395282e52e&quot; style=&quot;width: 100.0%; height: 100.0%;&quot;&gt;3546&lt;/div&gt;`)[0];\n",
       "                popup_936ee5208fc8075a89e88cc654b4bb36.setContent(html_b4d4a22412190e57aaecfe395282e52e);\n",
       "            \n",
       "        \n",
       "\n",
       "        marker_4b960502308e08bc0bdf796b6974ba4e.bindPopup(popup_936ee5208fc8075a89e88cc654b4bb36)\n",
       "        ;\n",
       "\n",
       "        \n",
       "    \n",
       "    \n",
       "            var marker_3c67260d02221062d902dbeeca2e8cbf = L.marker(\n",
       "                [-15.796571158659427, -47.89156399751735],\n",
       "                {}\n",
       "            ).addTo(map_04e8a856477d50a49c2a41414bf58aea);\n",
       "        \n",
       "    \n",
       "        var popup_353f826a9b905d9d6d632a3623a5e7ee = L.popup({&quot;maxWidth&quot;: &quot;100%&quot;});\n",
       "\n",
       "        \n",
       "            \n",
       "                var html_3f149ef94c4b7b7c757539c8bcc644e4 = $(`&lt;div id=&quot;html_3f149ef94c4b7b7c757539c8bcc644e4&quot; style=&quot;width: 100.0%; height: 100.0%;&quot;&gt;3562&lt;/div&gt;`)[0];\n",
       "                popup_353f826a9b905d9d6d632a3623a5e7ee.setContent(html_3f149ef94c4b7b7c757539c8bcc644e4);\n",
       "            \n",
       "        \n",
       "\n",
       "        marker_3c67260d02221062d902dbeeca2e8cbf.bindPopup(popup_353f826a9b905d9d6d632a3623a5e7ee)\n",
       "        ;\n",
       "\n",
       "        \n",
       "    \n",
       "    \n",
       "            var marker_68d5ddcfdefc65fb300c363f10147bae = L.marker(\n",
       "                [-15.796817015018108, -47.89167735948861],\n",
       "                {}\n",
       "            ).addTo(map_04e8a856477d50a49c2a41414bf58aea);\n",
       "        \n",
       "    \n",
       "        var popup_d85e1de91e4354e1a698423b9f58c89c = L.popup({&quot;maxWidth&quot;: &quot;100%&quot;});\n",
       "\n",
       "        \n",
       "            \n",
       "                var html_871058993db016b80a248bb310e9ac87 = $(`&lt;div id=&quot;html_871058993db016b80a248bb310e9ac87&quot; style=&quot;width: 100.0%; height: 100.0%;&quot;&gt;3388&lt;/div&gt;`)[0];\n",
       "                popup_d85e1de91e4354e1a698423b9f58c89c.setContent(html_871058993db016b80a248bb310e9ac87);\n",
       "            \n",
       "        \n",
       "\n",
       "        marker_68d5ddcfdefc65fb300c363f10147bae.bindPopup(popup_d85e1de91e4354e1a698423b9f58c89c)\n",
       "        ;\n",
       "\n",
       "        \n",
       "    \n",
       "    \n",
       "            var marker_d3b7fcef3b3a4f900153fdade423408d = L.marker(\n",
       "                [-15.796440151869843, -47.89150734716131],\n",
       "                {}\n",
       "            ).addTo(map_04e8a856477d50a49c2a41414bf58aea);\n",
       "        \n",
       "    \n",
       "        var popup_a4cb367ae08c9f891892ef32b2adb1ea = L.popup({&quot;maxWidth&quot;: &quot;100%&quot;});\n",
       "\n",
       "        \n",
       "            \n",
       "                var html_fa5595a4c4124a7dfb50e68df257c2ed = $(`&lt;div id=&quot;html_fa5595a4c4124a7dfb50e68df257c2ed&quot; style=&quot;width: 100.0%; height: 100.0%;&quot;&gt;3542&lt;/div&gt;`)[0];\n",
       "                popup_a4cb367ae08c9f891892ef32b2adb1ea.setContent(html_fa5595a4c4124a7dfb50e68df257c2ed);\n",
       "            \n",
       "        \n",
       "\n",
       "        marker_d3b7fcef3b3a4f900153fdade423408d.bindPopup(popup_a4cb367ae08c9f891892ef32b2adb1ea)\n",
       "        ;\n",
       "\n",
       "        \n",
       "    \n",
       "    \n",
       "            var marker_145c2e043624903d1a07672ab72669ba = L.marker(\n",
       "                [-15.800222344952411, -47.893789488241296],\n",
       "                {}\n",
       "            ).addTo(map_04e8a856477d50a49c2a41414bf58aea);\n",
       "        \n",
       "    \n",
       "        var popup_6f8a41126b891ad7a1dd8766f37c39b5 = L.popup({&quot;maxWidth&quot;: &quot;100%&quot;});\n",
       "\n",
       "        \n",
       "            \n",
       "                var html_60cfe385780fc33380618cd0f2ad6705 = $(`&lt;div id=&quot;html_60cfe385780fc33380618cd0f2ad6705&quot; style=&quot;width: 100.0%; height: 100.0%;&quot;&gt;3548&lt;/div&gt;`)[0];\n",
       "                popup_6f8a41126b891ad7a1dd8766f37c39b5.setContent(html_60cfe385780fc33380618cd0f2ad6705);\n",
       "            \n",
       "        \n",
       "\n",
       "        marker_145c2e043624903d1a07672ab72669ba.bindPopup(popup_6f8a41126b891ad7a1dd8766f37c39b5)\n",
       "        ;\n",
       "\n",
       "        \n",
       "    \n",
       "    \n",
       "            var marker_fc76bf42e04b8bc2e3644433a342b559 = L.marker(\n",
       "                [-15.796693649729766, -47.89162232213451],\n",
       "                {}\n",
       "            ).addTo(map_04e8a856477d50a49c2a41414bf58aea);\n",
       "        \n",
       "    \n",
       "        var popup_24f78262ec814001f9fb5331962b5c9e = L.popup({&quot;maxWidth&quot;: &quot;100%&quot;});\n",
       "\n",
       "        \n",
       "            \n",
       "                var html_c933fdaf33691a5624b69fbdc054230b = $(`&lt;div id=&quot;html_c933fdaf33691a5624b69fbdc054230b&quot; style=&quot;width: 100.0%; height: 100.0%;&quot;&gt;3563&lt;/div&gt;`)[0];\n",
       "                popup_24f78262ec814001f9fb5331962b5c9e.setContent(html_c933fdaf33691a5624b69fbdc054230b);\n",
       "            \n",
       "        \n",
       "\n",
       "        marker_fc76bf42e04b8bc2e3644433a342b559.bindPopup(popup_24f78262ec814001f9fb5331962b5c9e)\n",
       "        ;\n",
       "\n",
       "        \n",
       "    \n",
       "    \n",
       "            var marker_da321ecc9cab6c4b3663111215f69162 = L.marker(\n",
       "                [-15.83774191967895, -48.04848009733608],\n",
       "                {}\n",
       "            ).addTo(map_04e8a856477d50a49c2a41414bf58aea);\n",
       "        \n",
       "    \n",
       "        var popup_003b107d3d19eb5a443630dbc662637c = L.popup({&quot;maxWidth&quot;: &quot;100%&quot;});\n",
       "\n",
       "        \n",
       "            \n",
       "                var html_6ac1efa5969018a64e6a8c23321c7d79 = $(`&lt;div id=&quot;html_6ac1efa5969018a64e6a8c23321c7d79&quot; style=&quot;width: 100.0%; height: 100.0%;&quot;&gt;4964&lt;/div&gt;`)[0];\n",
       "                popup_003b107d3d19eb5a443630dbc662637c.setContent(html_6ac1efa5969018a64e6a8c23321c7d79);\n",
       "            \n",
       "        \n",
       "\n",
       "        marker_da321ecc9cab6c4b3663111215f69162.bindPopup(popup_003b107d3d19eb5a443630dbc662637c)\n",
       "        ;\n",
       "\n",
       "        \n",
       "    \n",
       "    \n",
       "            var marker_d10b668ffe662e3773a1591ea3fe4428 = L.marker(\n",
       "                [-15.823073205663594, -47.921288029206],\n",
       "                {}\n",
       "            ).addTo(map_04e8a856477d50a49c2a41414bf58aea);\n",
       "        \n",
       "    \n",
       "        var popup_bbfcc96a0261e236a1fadb0bf6fc1f03 = L.popup({&quot;maxWidth&quot;: &quot;100%&quot;});\n",
       "\n",
       "        \n",
       "            \n",
       "                var html_d52bc0b13052c9e29894618d87379f4e = $(`&lt;div id=&quot;html_d52bc0b13052c9e29894618d87379f4e&quot; style=&quot;width: 100.0%; height: 100.0%;&quot;&gt;3557&lt;/div&gt;`)[0];\n",
       "                popup_bbfcc96a0261e236a1fadb0bf6fc1f03.setContent(html_d52bc0b13052c9e29894618d87379f4e);\n",
       "            \n",
       "        \n",
       "\n",
       "        marker_d10b668ffe662e3773a1591ea3fe4428.bindPopup(popup_bbfcc96a0261e236a1fadb0bf6fc1f03)\n",
       "        ;\n",
       "\n",
       "        \n",
       "    \n",
       "    \n",
       "            var marker_653d8cc8079ec75396880ff565f0490b = L.marker(\n",
       "                [-15.825054283962409, -47.924030562027426],\n",
       "                {}\n",
       "            ).addTo(map_04e8a856477d50a49c2a41414bf58aea);\n",
       "        \n",
       "    \n",
       "        var popup_fc61687001c87e235009e4ddf2d30898 = L.popup({&quot;maxWidth&quot;: &quot;100%&quot;});\n",
       "\n",
       "        \n",
       "            \n",
       "                var html_141dfa02f64deb4fd640754be8549e96 = $(`&lt;div id=&quot;html_141dfa02f64deb4fd640754be8549e96&quot; style=&quot;width: 100.0%; height: 100.0%;&quot;&gt;3558&lt;/div&gt;`)[0];\n",
       "                popup_fc61687001c87e235009e4ddf2d30898.setContent(html_141dfa02f64deb4fd640754be8549e96);\n",
       "            \n",
       "        \n",
       "\n",
       "        marker_653d8cc8079ec75396880ff565f0490b.bindPopup(popup_fc61687001c87e235009e4ddf2d30898)\n",
       "        ;\n",
       "\n",
       "        \n",
       "    \n",
       "    \n",
       "            var marker_ffd2cf575c8128be4a104e4e0e0d55ac = L.marker(\n",
       "                [-15.827876175327669, -47.9279248664852],\n",
       "                {}\n",
       "            ).addTo(map_04e8a856477d50a49c2a41414bf58aea);\n",
       "        \n",
       "    \n",
       "        var popup_b7b8219ffe200603aba546721168ab51 = L.popup({&quot;maxWidth&quot;: &quot;100%&quot;});\n",
       "\n",
       "        \n",
       "            \n",
       "                var html_e6742c8da19f41ddd570f7d67c8b8726 = $(`&lt;div id=&quot;html_e6742c8da19f41ddd570f7d67c8b8726&quot; style=&quot;width: 100.0%; height: 100.0%;&quot;&gt;3560&lt;/div&gt;`)[0];\n",
       "                popup_b7b8219ffe200603aba546721168ab51.setContent(html_e6742c8da19f41ddd570f7d67c8b8726);\n",
       "            \n",
       "        \n",
       "\n",
       "        marker_ffd2cf575c8128be4a104e4e0e0d55ac.bindPopup(popup_b7b8219ffe200603aba546721168ab51)\n",
       "        ;\n",
       "\n",
       "        \n",
       "    \n",
       "    \n",
       "            var marker_64714d39e08b7b032b02c636c64d7726 = L.marker(\n",
       "                [-15.820306548869024, -47.936330215467216],\n",
       "                {}\n",
       "            ).addTo(map_04e8a856477d50a49c2a41414bf58aea);\n",
       "        \n",
       "    \n",
       "        var popup_3f9d37c031d40d664eddba0333de9473 = L.popup({&quot;maxWidth&quot;: &quot;100%&quot;});\n",
       "\n",
       "        \n",
       "            \n",
       "                var html_81f9c3fef06a94aa5c3006fa449c91ca = $(`&lt;div id=&quot;html_81f9c3fef06a94aa5c3006fa449c91ca&quot; style=&quot;width: 100.0%; height: 100.0%;&quot;&gt;3676&lt;/div&gt;`)[0];\n",
       "                popup_3f9d37c031d40d664eddba0333de9473.setContent(html_81f9c3fef06a94aa5c3006fa449c91ca);\n",
       "            \n",
       "        \n",
       "\n",
       "        marker_64714d39e08b7b032b02c636c64d7726.bindPopup(popup_3f9d37c031d40d664eddba0333de9473)\n",
       "        ;\n",
       "\n",
       "        \n",
       "    \n",
       "    \n",
       "            var marker_b25bb531b01ed7b7f961ad167e39c771 = L.marker(\n",
       "                [-15.816759815678573, -47.93707549861569],\n",
       "                {}\n",
       "            ).addTo(map_04e8a856477d50a49c2a41414bf58aea);\n",
       "        \n",
       "    \n",
       "        var popup_9ab7f124ddb6187dd5c58e8aec31e97d = L.popup({&quot;maxWidth&quot;: &quot;100%&quot;});\n",
       "\n",
       "        \n",
       "            \n",
       "                var html_5b7d57c254c69c9e3bf7c5025f9310eb = $(`&lt;div id=&quot;html_5b7d57c254c69c9e3bf7c5025f9310eb&quot; style=&quot;width: 100.0%; height: 100.0%;&quot;&gt;3677&lt;/div&gt;`)[0];\n",
       "                popup_9ab7f124ddb6187dd5c58e8aec31e97d.setContent(html_5b7d57c254c69c9e3bf7c5025f9310eb);\n",
       "            \n",
       "        \n",
       "\n",
       "        marker_b25bb531b01ed7b7f961ad167e39c771.bindPopup(popup_9ab7f124ddb6187dd5c58e8aec31e97d)\n",
       "        ;\n",
       "\n",
       "        \n",
       "    \n",
       "    \n",
       "            var marker_fa0f05450338e156c21a0dd40a0cbf53 = L.marker(\n",
       "                [-15.82709663490517, -47.93178785366626],\n",
       "                {}\n",
       "            ).addTo(map_04e8a856477d50a49c2a41414bf58aea);\n",
       "        \n",
       "    \n",
       "        var popup_4ed76b996a9f048b5eb0bbbdf7dca514 = L.popup({&quot;maxWidth&quot;: &quot;100%&quot;});\n",
       "\n",
       "        \n",
       "            \n",
       "                var html_ef04f18bfa134a2c148947ff118f2cf7 = $(`&lt;div id=&quot;html_ef04f18bfa134a2c148947ff118f2cf7&quot; style=&quot;width: 100.0%; height: 100.0%;&quot;&gt;3675&lt;/div&gt;`)[0];\n",
       "                popup_4ed76b996a9f048b5eb0bbbdf7dca514.setContent(html_ef04f18bfa134a2c148947ff118f2cf7);\n",
       "            \n",
       "        \n",
       "\n",
       "        marker_fa0f05450338e156c21a0dd40a0cbf53.bindPopup(popup_4ed76b996a9f048b5eb0bbbdf7dca514)\n",
       "        ;\n",
       "\n",
       "        \n",
       "    \n",
       "    \n",
       "            var marker_1d7df09a8b424d955c7747afd5aa549b = L.marker(\n",
       "                [-15.826891875442579, -47.926576622944935],\n",
       "                {}\n",
       "            ).addTo(map_04e8a856477d50a49c2a41414bf58aea);\n",
       "        \n",
       "    \n",
       "        var popup_549d3970d0b0ff222662c7f2090a9fcd = L.popup({&quot;maxWidth&quot;: &quot;100%&quot;});\n",
       "\n",
       "        \n",
       "            \n",
       "                var html_08a586cc4907098bd1ec6b8f0a980747 = $(`&lt;div id=&quot;html_08a586cc4907098bd1ec6b8f0a980747&quot; style=&quot;width: 100.0%; height: 100.0%;&quot;&gt;3559&lt;/div&gt;`)[0];\n",
       "                popup_549d3970d0b0ff222662c7f2090a9fcd.setContent(html_08a586cc4907098bd1ec6b8f0a980747);\n",
       "            \n",
       "        \n",
       "\n",
       "        marker_1d7df09a8b424d955c7747afd5aa549b.bindPopup(popup_549d3970d0b0ff222662c7f2090a9fcd)\n",
       "        ;\n",
       "\n",
       "        \n",
       "    \n",
       "    \n",
       "            var marker_7a590c6d8bb72959956d60428c9cb347 = L.marker(\n",
       "                [-15.816058132690555, -48.008993671247076],\n",
       "                {}\n",
       "            ).addTo(map_04e8a856477d50a49c2a41414bf58aea);\n",
       "        \n",
       "    \n",
       "        var popup_b83f378d8337d6af7ade1a368275b4fd = L.popup({&quot;maxWidth&quot;: &quot;100%&quot;});\n",
       "\n",
       "        \n",
       "            \n",
       "                var html_999749bca89ce6c870dfa316c316958e = $(`&lt;div id=&quot;html_999749bca89ce6c870dfa316c316958e&quot; style=&quot;width: 100.0%; height: 100.0%;&quot;&gt;7050&lt;/div&gt;`)[0];\n",
       "                popup_b83f378d8337d6af7ade1a368275b4fd.setContent(html_999749bca89ce6c870dfa316c316958e);\n",
       "            \n",
       "        \n",
       "\n",
       "        marker_7a590c6d8bb72959956d60428c9cb347.bindPopup(popup_b83f378d8337d6af7ade1a368275b4fd)\n",
       "        ;\n",
       "\n",
       "        \n",
       "    \n",
       "    \n",
       "            var marker_6545bd1b636fc5c718a0b1df7fedcc91 = L.marker(\n",
       "                [-15.814980459702838, -48.00607563994645],\n",
       "                {}\n",
       "            ).addTo(map_04e8a856477d50a49c2a41414bf58aea);\n",
       "        \n",
       "    \n",
       "        var popup_bca8ad5c1034a8200423be8c91eefbc8 = L.popup({&quot;maxWidth&quot;: &quot;100%&quot;});\n",
       "\n",
       "        \n",
       "            \n",
       "                var html_76cbf663dce06e856cde7042ccc58783 = $(`&lt;div id=&quot;html_76cbf663dce06e856cde7042ccc58783&quot; style=&quot;width: 100.0%; height: 100.0%;&quot;&gt;7052&lt;/div&gt;`)[0];\n",
       "                popup_bca8ad5c1034a8200423be8c91eefbc8.setContent(html_76cbf663dce06e856cde7042ccc58783);\n",
       "            \n",
       "        \n",
       "\n",
       "        marker_6545bd1b636fc5c718a0b1df7fedcc91.bindPopup(popup_bca8ad5c1034a8200423be8c91eefbc8)\n",
       "        ;\n",
       "\n",
       "        \n",
       "    \n",
       "    \n",
       "            var marker_50b3cc30f4ed5dacdc2781e365bde0ee = L.marker(\n",
       "                [-15.811993934339025, -47.9979644761659],\n",
       "                {}\n",
       "            ).addTo(map_04e8a856477d50a49c2a41414bf58aea);\n",
       "        \n",
       "    \n",
       "        var popup_f4b74e411bd6e0ea2f4c74ecb401e493 = L.popup({&quot;maxWidth&quot;: &quot;100%&quot;});\n",
       "\n",
       "        \n",
       "            \n",
       "                var html_24584bf7686c6a2f6f39efc4471c42a1 = $(`&lt;div id=&quot;html_24584bf7686c6a2f6f39efc4471c42a1&quot; style=&quot;width: 100.0%; height: 100.0%;&quot;&gt;7054&lt;/div&gt;`)[0];\n",
       "                popup_f4b74e411bd6e0ea2f4c74ecb401e493.setContent(html_24584bf7686c6a2f6f39efc4471c42a1);\n",
       "            \n",
       "        \n",
       "\n",
       "        marker_50b3cc30f4ed5dacdc2781e365bde0ee.bindPopup(popup_f4b74e411bd6e0ea2f4c74ecb401e493)\n",
       "        ;\n",
       "\n",
       "        \n",
       "    \n",
       "    \n",
       "            var marker_87c0209d679fcfc551eb057ab5267786 = L.marker(\n",
       "                [-15.807984212354986, -47.90096608759629],\n",
       "                {}\n",
       "            ).addTo(map_04e8a856477d50a49c2a41414bf58aea);\n",
       "        \n",
       "    \n",
       "        var popup_ced649fd3a4bebcd452e91014de79ed7 = L.popup({&quot;maxWidth&quot;: &quot;100%&quot;});\n",
       "\n",
       "        \n",
       "            \n",
       "                var html_874ba1dbd86fe48ebd5bb85a44082f09 = $(`&lt;div id=&quot;html_874ba1dbd86fe48ebd5bb85a44082f09&quot; style=&quot;width: 100.0%; height: 100.0%;&quot;&gt;3550&lt;/div&gt;`)[0];\n",
       "                popup_ced649fd3a4bebcd452e91014de79ed7.setContent(html_874ba1dbd86fe48ebd5bb85a44082f09);\n",
       "            \n",
       "        \n",
       "\n",
       "        marker_87c0209d679fcfc551eb057ab5267786.bindPopup(popup_ced649fd3a4bebcd452e91014de79ed7)\n",
       "        ;\n",
       "\n",
       "        \n",
       "    \n",
       "    \n",
       "            var marker_66c172829c3f7521581ab17be6e4e836 = L.marker(\n",
       "                [-15.81170736531152, -47.90555987625302],\n",
       "                {}\n",
       "            ).addTo(map_04e8a856477d50a49c2a41414bf58aea);\n",
       "        \n",
       "    \n",
       "        var popup_5a259ec74095b06a8f2be519734a4af5 = L.popup({&quot;maxWidth&quot;: &quot;100%&quot;});\n",
       "\n",
       "        \n",
       "            \n",
       "                var html_73f05e889659eb02eb189d455608c6c1 = $(`&lt;div id=&quot;html_73f05e889659eb02eb189d455608c6c1&quot; style=&quot;width: 100.0%; height: 100.0%;&quot;&gt;3551&lt;/div&gt;`)[0];\n",
       "                popup_5a259ec74095b06a8f2be519734a4af5.setContent(html_73f05e889659eb02eb189d455608c6c1);\n",
       "            \n",
       "        \n",
       "\n",
       "        marker_66c172829c3f7521581ab17be6e4e836.bindPopup(popup_5a259ec74095b06a8f2be519734a4af5)\n",
       "        ;\n",
       "\n",
       "        \n",
       "    \n",
       "    \n",
       "            var marker_d522689947bd3e51b507ae501247821d = L.marker(\n",
       "                [-15.81387059690064, -47.90853860716472],\n",
       "                {}\n",
       "            ).addTo(map_04e8a856477d50a49c2a41414bf58aea);\n",
       "        \n",
       "    \n",
       "        var popup_b702c390cd268be80331b590ca52cb5d = L.popup({&quot;maxWidth&quot;: &quot;100%&quot;});\n",
       "\n",
       "        \n",
       "            \n",
       "                var html_cc27a80890f73c6f719706eb9cf380b7 = $(`&lt;div id=&quot;html_cc27a80890f73c6f719706eb9cf380b7&quot; style=&quot;width: 100.0%; height: 100.0%;&quot;&gt;3552&lt;/div&gt;`)[0];\n",
       "                popup_b702c390cd268be80331b590ca52cb5d.setContent(html_cc27a80890f73c6f719706eb9cf380b7);\n",
       "            \n",
       "        \n",
       "\n",
       "        marker_d522689947bd3e51b507ae501247821d.bindPopup(popup_b702c390cd268be80331b590ca52cb5d)\n",
       "        ;\n",
       "\n",
       "        \n",
       "    \n",
       "    \n",
       "            var marker_8163e0eb2880e0d8339bb903542fa120 = L.marker(\n",
       "                [-15.815582610347516, -47.91091143488871],\n",
       "                {}\n",
       "            ).addTo(map_04e8a856477d50a49c2a41414bf58aea);\n",
       "        \n",
       "    \n",
       "        var popup_76c108642b29ba715bca95bdb8402635 = L.popup({&quot;maxWidth&quot;: &quot;100%&quot;});\n",
       "\n",
       "        \n",
       "            \n",
       "                var html_24a269ac4e144ea4c42aa53d5f9ed251 = $(`&lt;div id=&quot;html_24a269ac4e144ea4c42aa53d5f9ed251&quot; style=&quot;width: 100.0%; height: 100.0%;&quot;&gt;3553&lt;/div&gt;`)[0];\n",
       "                popup_76c108642b29ba715bca95bdb8402635.setContent(html_24a269ac4e144ea4c42aa53d5f9ed251);\n",
       "            \n",
       "        \n",
       "\n",
       "        marker_8163e0eb2880e0d8339bb903542fa120.bindPopup(popup_76c108642b29ba715bca95bdb8402635)\n",
       "        ;\n",
       "\n",
       "        \n",
       "    \n",
       "    \n",
       "            var marker_d768c2d64e803490b28a891fe67d15af = L.marker(\n",
       "                [-15.738477194215498, -47.89929609836221],\n",
       "                {}\n",
       "            ).addTo(map_04e8a856477d50a49c2a41414bf58aea);\n",
       "        \n",
       "    \n",
       "        var popup_eab4cc714df5f6615b902d8d30991b5e = L.popup({&quot;maxWidth&quot;: &quot;100%&quot;});\n",
       "\n",
       "        \n",
       "            \n",
       "                var html_4cfe6085e6a2221067f451766a023970 = $(`&lt;div id=&quot;html_4cfe6085e6a2221067f451766a023970&quot; style=&quot;width: 100.0%; height: 100.0%;&quot;&gt;3523&lt;/div&gt;`)[0];\n",
       "                popup_eab4cc714df5f6615b902d8d30991b5e.setContent(html_4cfe6085e6a2221067f451766a023970);\n",
       "            \n",
       "        \n",
       "\n",
       "        marker_d768c2d64e803490b28a891fe67d15af.bindPopup(popup_eab4cc714df5f6615b902d8d30991b5e)\n",
       "        ;\n",
       "\n",
       "        \n",
       "    \n",
       "    \n",
       "            var marker_3d4982c75a347024a30b80db28703268 = L.marker(\n",
       "                [-15.741813505314967, -47.898220834748756],\n",
       "                {}\n",
       "            ).addTo(map_04e8a856477d50a49c2a41414bf58aea);\n",
       "        \n",
       "    \n",
       "        var popup_5841f167a788c4ad01b92c2f3ed57795 = L.popup({&quot;maxWidth&quot;: &quot;100%&quot;});\n",
       "\n",
       "        \n",
       "            \n",
       "                var html_984518711ae1777d5feddc681e03caa5 = $(`&lt;div id=&quot;html_984518711ae1777d5feddc681e03caa5&quot; style=&quot;width: 100.0%; height: 100.0%;&quot;&gt;3524&lt;/div&gt;`)[0];\n",
       "                popup_5841f167a788c4ad01b92c2f3ed57795.setContent(html_984518711ae1777d5feddc681e03caa5);\n",
       "            \n",
       "        \n",
       "\n",
       "        marker_3d4982c75a347024a30b80db28703268.bindPopup(popup_5841f167a788c4ad01b92c2f3ed57795)\n",
       "        ;\n",
       "\n",
       "        \n",
       "    \n",
       "    \n",
       "            var marker_62ff64ba059fbb748098ca0882228a44 = L.marker(\n",
       "                [-15.744737354143842, -47.89728338606178],\n",
       "                {}\n",
       "            ).addTo(map_04e8a856477d50a49c2a41414bf58aea);\n",
       "        \n",
       "    \n",
       "        var popup_aa81ee712f3957f458af75824d7c8292 = L.popup({&quot;maxWidth&quot;: &quot;100%&quot;});\n",
       "\n",
       "        \n",
       "            \n",
       "                var html_f8e350882dca08a8d2929c09f5306ab1 = $(`&lt;div id=&quot;html_f8e350882dca08a8d2929c09f5306ab1&quot; style=&quot;width: 100.0%; height: 100.0%;&quot;&gt;3525&lt;/div&gt;`)[0];\n",
       "                popup_aa81ee712f3957f458af75824d7c8292.setContent(html_f8e350882dca08a8d2929c09f5306ab1);\n",
       "            \n",
       "        \n",
       "\n",
       "        marker_62ff64ba059fbb748098ca0882228a44.bindPopup(popup_aa81ee712f3957f458af75824d7c8292)\n",
       "        ;\n",
       "\n",
       "        \n",
       "    \n",
       "&lt;/script&gt;\n",
       "&lt;/html&gt;\" style=\"position:absolute;width:100%;height:100%;left:0;top:0;border:none !important;\" allowfullscreen webkitallowfullscreen mozallowfullscreen></iframe></div></div>"
      ],
      "text/plain": [
       "<folium.folium.Map at 0x7ff49176ca10>"
      ]
     },
     "execution_count": 50,
     "metadata": {},
     "output_type": "execute_result"
    }
   ],
   "source": [
    "import folium\n",
    "from shapely.geometry import LineString\n",
    "\n",
    "df1 = df[df['linha']=='0.813']\n",
    "\n",
    "\n",
    "linha_exemplo = df1.iloc[0]\n",
    "\n",
    "linha_coordinates = [(lat, lon) for lat, lon, _ in linha_exemplo['parada']]\n",
    "paradas_coordinates = [(lat, lon) for lat, lon, _ in linha_exemplo['parada']]\n",
    "\n",
    "linha_onibus = LineString(linha_coordinates)\n",
    "\n",
    "m = folium.Map(location=[linha_coordinates[0][0], linha_coordinates[0][1]], zoom_start=13)\n",
    "\n",
    "for lat, lon, popup_text in linha_exemplo['parada']:\n",
    "    folium.Marker([lat, lon], popup=popup_text).add_to(m)\n",
    "m\n"
   ]
  },
  {
   "cell_type": "code",
   "execution_count": null,
   "metadata": {},
   "outputs": [],
   "source": []
  },
  {
   "cell_type": "code",
   "execution_count": 51,
   "metadata": {},
   "outputs": [],
   "source": [
    "import os\n",
    "\n",
    "if not os.path.exists('../databases/luiz_dataset'):\n",
    "    os.makedirs('../databases/luiz_dataset')\n",
    "df.to_csv('../databases/luiz_dataset/paradas_linestrings_volta.csv')"
   ]
  },
  {
   "cell_type": "markdown",
   "metadata": {},
   "source": [
    "### Como ler o arquivo das paradas corretamente no python\n",
    "\n",
    "Para evitar o erro do tipo de dado das linhas serem strings, é necessário passar para o atributo\n",
    "'converters' = {'NOME DA COLUNA': pd.eval}\n",
    "```python\n",
    "dt = pd.read_csv(\"../databases/luiz_dataset/paradas_linestrings.csv\", converters={'parada': pd.eval})\n",
    "```"
   ]
  }
 ],
 "metadata": {
  "kernelspec": {
   "display_name": "Python 3 (ipykernel)",
   "language": "python",
   "name": "python3"
  },
  "language_info": {
   "codemirror_mode": {
    "name": "ipython",
    "version": 3
   },
   "file_extension": ".py",
   "mimetype": "text/x-python",
   "name": "python",
   "nbconvert_exporter": "python",
   "pygments_lexer": "ipython3",
   "version": "3.11.3"
  }
 },
 "nbformat": 4,
 "nbformat_minor": 2
}
