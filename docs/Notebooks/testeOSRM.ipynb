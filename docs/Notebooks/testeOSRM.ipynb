{
 "cells": [
  {
   "attachments": {},
   "cell_type": "markdown",
   "metadata": {},
   "source": [
    "docker run -t -v \"${PWD}:/data\" ghcr.io/project-osrm/osrm-backend osrm-extract -p /opt/car.lua /data/centro-oeste-latest.osm.pbf || echo \"osrm-extract failed\" \n",
    "\n",
    "\n",
    "docker run -t -v \"${PWD}:/data\" ghcr.io/project-osrm/osrm-backend osrm-partition /data/centro-oeste-latest.osrm || echo \"osrm-partition failed\"\n",
    "docker run -t -v \"${PWD}:/data\" ghcr.io/project-osrm/osrm-backend osrm-customize /data/centro-oeste-latest.osrm || echo \"osrm-customize failed\"\n",
    "\n",
    "docker run -t -i -p 5000:5000 -v \"${PWD}:/data\" ghcr.io/project-osrm/osrm-backend osrm-routed --algorithm mld /data/centro-oeste-latest.osrm\n",
    "\n",
    "curl \"http://127.0.0.1:5000/route/v1/driving/-15.801795,-47.896361;13.385983,52.496891?steps=true\""
   ]
  },
  {
   "cell_type": "code",
   "execution_count": 3,
   "metadata": {},
   "outputs": [],
   "source": [
    "import requests\n",
    "import folium\n",
    "import polyline\n",
    "import numpy as np\n",
    "import pandas as pd"
   ]
  },
  {
   "cell_type": "code",
   "execution_count": 4,
   "metadata": {},
   "outputs": [
    {
     "data": {
      "text/plain": [
       "{'code': 'Ok',\n",
       " 'routes': [{'geometry': 'f|s`BpufdHnEtC}E|ItX|RmJ`Pei@m@_uDioEqLzRecB~sA_v@xb@unJnwBgjAgb@ePr@w_@se@_Pwf@{qAdj@oWuj@vGgCvBvE',\n",
       "   'legs': [{'steps': [],\n",
       "     'summary': '',\n",
       "     'weight': 1698.7,\n",
       "     'duration': 1698.7,\n",
       "     'distance': 23945.3}],\n",
       "   'weight_name': 'routability',\n",
       "   'weight': 1698.7,\n",
       "   'duration': 1698.7,\n",
       "   'distance': 23945.3}],\n",
       " 'waypoints': [{'hint': 'BGoQgApqEIAXAAAAAAAAAHQAAAB9AAAAW4IbQQAAAACHxkFC8otRQhcAAAAAAAAAdAAAAH0AAADCAAAA6OUi_bfdC_-d6SL9pdsL_wEALwJgC8Vo',\n",
       "   'distance': 117.30249163,\n",
       "   'name': '',\n",
       "   'location': [-48.044568, -15.999561]},\n",
       "  {'hint': 'v6UTgP___389AAAAQQAAAAAAAABZAAAAaPGjQiO-qUAAAAAAN6e4Qj0AAABBAAAAAAAAAFkAAADCAAAAm-ki_ahEDv-d6SL9o0QO_wAAXw9gC8Vo',\n",
       "   'distance': 0.593319936,\n",
       "   'name': 'Avenida Arniqueira',\n",
       "   'location': [-48.043621, -15.842136]}]}"
      ]
     },
     "execution_count": 4,
     "metadata": {},
     "output_type": "execute_result"
    }
   ],
   "source": [
    "url = \"http://127.0.0.1:5000/route/v1/driving/-48.043619,-16.000091;-48.043619,-15.842141\"\n",
    "r = requests.get(url)\n",
    "res = r.json()\n",
    "res"
   ]
  },
  {
   "cell_type": "code",
   "execution_count": 5,
   "metadata": {},
   "outputs": [
    {
     "data": {
      "text/plain": [
       "[(-15.99956, -48.04457),\n",
       " (-16.0006, -48.04532),\n",
       " (-15.99949, -48.04707),\n",
       " (-16.0036, -48.05026),\n",
       " (-16.00177, -48.05299),\n",
       " (-15.99502, -48.05276),\n",
       " (-15.9659, -48.01943),\n",
       " (-15.96373, -48.02261),\n",
       " (-15.9477, -48.03621),\n",
       " (-15.9389, -48.04194),\n",
       " (-15.88007, -48.06122),\n",
       " (-15.86803, -48.05558),\n",
       " (-15.86528, -48.05584),\n",
       " (-15.86004, -48.04966),\n",
       " (-15.85732, -48.0433),\n",
       " (-15.84406, -48.05021),\n",
       " (-15.84014, -48.04322),\n",
       " (-15.84154, -48.04254),\n",
       " (-15.84214, -48.04362)]"
      ]
     },
     "execution_count": 5,
     "metadata": {},
     "output_type": "execute_result"
    }
   ],
   "source": [
    "polyline.decode('f|s`BpufdHnEtC}E|ItX|RmJ`Pei@m@_uDioEqLzRecB~sA_v@xb@unJnwBgjAgb@ePr@w_@se@_Pwf@{qAdj@oWuj@vGgCvBvE')"
   ]
  },
  {
   "cell_type": "code",
   "execution_count": 6,
   "metadata": {},
   "outputs": [],
   "source": [
    "def get_route(pickup_lon, pickup_lat, dropoff_lon, dropoff_lat):\n",
    "    \n",
    "    loc = \"{},{};{},{}\".format(pickup_lon, pickup_lat, dropoff_lon, dropoff_lat)\n",
    "    url = \"http://127.0.0.1:5000/route/v1/driving/\"\n",
    "    r = requests.get(url + loc) \n",
    "    if r.status_code!= 200:\n",
    "        return {}\n",
    "  \n",
    "    res = r.json()   \n",
    "    routes = polyline.decode(res['routes'][0]['geometry'])\n",
    "    start_point = [res['waypoints'][0]['location'][1], res['waypoints'][0]['location'][0]]\n",
    "    end_point = [res['waypoints'][1]['location'][1], res['waypoints'][1]['location'][0]]\n",
    "    distance = res['routes'][0]['distance']\n",
    "    \n",
    "    out = {'route':routes,\n",
    "           'start_point':start_point,\n",
    "           'end_point':end_point,\n",
    "           'distance':distance\n",
    "          }\n",
    "\n",
    "    return out"
   ]
  },
  {
   "cell_type": "code",
   "execution_count": 7,
   "metadata": {},
   "outputs": [
    {
     "data": {
      "text/plain": [
       "{'route': [(-16.00009, -48.05936),\n",
       "  (-15.9975, -48.05801),\n",
       "  (-15.99324, -48.05046),\n",
       "  (-15.96603, -48.01943),\n",
       "  (-15.9477, -48.03621),\n",
       "  (-15.9389, -48.04194),\n",
       "  (-15.88007, -48.06122),\n",
       "  (-15.86803, -48.05558),\n",
       "  (-15.86528, -48.05584),\n",
       "  (-15.86004, -48.04966),\n",
       "  (-15.85732, -48.0433),\n",
       "  (-15.84406, -48.05021),\n",
       "  (-15.84014, -48.04322),\n",
       "  (-15.84154, -48.04254),\n",
       "  (-15.84214, -48.04362)],\n",
       " 'start_point': [-16.000091, -48.05936],\n",
       " 'end_point': [-15.842136, -48.043621],\n",
       " 'distance': 22854.3}"
      ]
     },
     "execution_count": 7,
     "metadata": {},
     "output_type": "execute_result"
    }
   ],
   "source": [
    "pickup_lon, pickup_lat, dropoff_lon, dropoff_lat = -48.059358,-16.000091,-48.043619,-15.842141\n",
    "test_route = get_route(pickup_lon, pickup_lat, dropoff_lon, dropoff_lat)\n",
    "test_route"
   ]
  },
  {
   "cell_type": "code",
   "execution_count": 8,
   "metadata": {},
   "outputs": [],
   "source": [
    "def get_map(route):\n",
    "    \n",
    "    m = folium.Map(location=[(route['start_point'][0] + route['end_point'][0])/2, \n",
    "                             (route['start_point'][1] + route['end_point'][1])/2], \n",
    "                   zoom_start=13)\n",
    "\n",
    "    folium.PolyLine(\n",
    "        route['route'],\n",
    "        weight=8,\n",
    "        color='blue',\n",
    "        opacity=0.6\n",
    "    ).add_to(m)\n",
    "\n",
    "    folium.Marker(\n",
    "        location=route['start_point'],\n",
    "        icon=folium.Icon(icon='play', color='green')\n",
    "    ).add_to(m)\n",
    "\n",
    "    folium.Marker(\n",
    "        location=route['end_point'],\n",
    "        icon=folium.Icon(icon='stop', color='red')\n",
    "    ).add_to(m)\n",
    "\n",
    "    return m"
   ]
  },
  {
   "cell_type": "code",
   "execution_count": 9,
   "metadata": {},
   "outputs": [
    {
     "data": {
      "text/html": [
       "<div style=\"width:100%;\"><div style=\"position:relative;width:100%;height:0;padding-bottom:60%;\"><span style=\"color:#565656\">Make this Notebook Trusted to load map: File -> Trust Notebook</span><iframe srcdoc=\"&lt;!DOCTYPE html&gt;\n",
       "&lt;html&gt;\n",
       "&lt;head&gt;\n",
       "    \n",
       "    &lt;meta http-equiv=&quot;content-type&quot; content=&quot;text/html; charset=UTF-8&quot; /&gt;\n",
       "    \n",
       "        &lt;script&gt;\n",
       "            L_NO_TOUCH = false;\n",
       "            L_DISABLE_3D = false;\n",
       "        &lt;/script&gt;\n",
       "    \n",
       "    &lt;style&gt;html, body {width: 100%;height: 100%;margin: 0;padding: 0;}&lt;/style&gt;\n",
       "    &lt;style&gt;#map {position:absolute;top:0;bottom:0;right:0;left:0;}&lt;/style&gt;\n",
       "    &lt;script src=&quot;https://cdn.jsdelivr.net/npm/leaflet@1.9.3/dist/leaflet.js&quot;&gt;&lt;/script&gt;\n",
       "    &lt;script src=&quot;https://code.jquery.com/jquery-1.12.4.min.js&quot;&gt;&lt;/script&gt;\n",
       "    &lt;script src=&quot;https://cdn.jsdelivr.net/npm/bootstrap@5.2.2/dist/js/bootstrap.bundle.min.js&quot;&gt;&lt;/script&gt;\n",
       "    &lt;script src=&quot;https://cdnjs.cloudflare.com/ajax/libs/Leaflet.awesome-markers/2.0.2/leaflet.awesome-markers.js&quot;&gt;&lt;/script&gt;\n",
       "    &lt;link rel=&quot;stylesheet&quot; href=&quot;https://cdn.jsdelivr.net/npm/leaflet@1.9.3/dist/leaflet.css&quot;/&gt;\n",
       "    &lt;link rel=&quot;stylesheet&quot; href=&quot;https://cdn.jsdelivr.net/npm/bootstrap@5.2.2/dist/css/bootstrap.min.css&quot;/&gt;\n",
       "    &lt;link rel=&quot;stylesheet&quot; href=&quot;https://netdna.bootstrapcdn.com/bootstrap/3.0.0/css/bootstrap.min.css&quot;/&gt;\n",
       "    &lt;link rel=&quot;stylesheet&quot; href=&quot;https://cdn.jsdelivr.net/npm/@fortawesome/fontawesome-free@6.2.0/css/all.min.css&quot;/&gt;\n",
       "    &lt;link rel=&quot;stylesheet&quot; href=&quot;https://cdnjs.cloudflare.com/ajax/libs/Leaflet.awesome-markers/2.0.2/leaflet.awesome-markers.css&quot;/&gt;\n",
       "    &lt;link rel=&quot;stylesheet&quot; href=&quot;https://cdn.jsdelivr.net/gh/python-visualization/folium/folium/templates/leaflet.awesome.rotate.min.css&quot;/&gt;\n",
       "    \n",
       "            &lt;meta name=&quot;viewport&quot; content=&quot;width=device-width,\n",
       "                initial-scale=1.0, maximum-scale=1.0, user-scalable=no&quot; /&gt;\n",
       "            &lt;style&gt;\n",
       "                #map_3b2c5e6aeaf5cbf3c742ffa7e64018b8 {\n",
       "                    position: relative;\n",
       "                    width: 100.0%;\n",
       "                    height: 100.0%;\n",
       "                    left: 0.0%;\n",
       "                    top: 0.0%;\n",
       "                }\n",
       "                .leaflet-container { font-size: 1rem; }\n",
       "            &lt;/style&gt;\n",
       "        \n",
       "&lt;/head&gt;\n",
       "&lt;body&gt;\n",
       "    \n",
       "    \n",
       "            &lt;div class=&quot;folium-map&quot; id=&quot;map_3b2c5e6aeaf5cbf3c742ffa7e64018b8&quot; &gt;&lt;/div&gt;\n",
       "        \n",
       "&lt;/body&gt;\n",
       "&lt;script&gt;\n",
       "    \n",
       "    \n",
       "            var map_3b2c5e6aeaf5cbf3c742ffa7e64018b8 = L.map(\n",
       "                &quot;map_3b2c5e6aeaf5cbf3c742ffa7e64018b8&quot;,\n",
       "                {\n",
       "                    center: [-15.9211135, -48.0514905],\n",
       "                    crs: L.CRS.EPSG3857,\n",
       "                    zoom: 13,\n",
       "                    zoomControl: true,\n",
       "                    preferCanvas: false,\n",
       "                }\n",
       "            );\n",
       "\n",
       "            \n",
       "\n",
       "        \n",
       "    \n",
       "            var tile_layer_b6e0a0cb7d115274e7af2105d8f686ca = L.tileLayer(\n",
       "                &quot;https://{s}.tile.openstreetmap.org/{z}/{x}/{y}.png&quot;,\n",
       "                {&quot;attribution&quot;: &quot;Data by \\u0026copy; \\u003ca target=\\&quot;_blank\\&quot; href=\\&quot;http://openstreetmap.org\\&quot;\\u003eOpenStreetMap\\u003c/a\\u003e, under \\u003ca target=\\&quot;_blank\\&quot; href=\\&quot;http://www.openstreetmap.org/copyright\\&quot;\\u003eODbL\\u003c/a\\u003e.&quot;, &quot;detectRetina&quot;: false, &quot;maxNativeZoom&quot;: 18, &quot;maxZoom&quot;: 18, &quot;minZoom&quot;: 0, &quot;noWrap&quot;: false, &quot;opacity&quot;: 1, &quot;subdomains&quot;: &quot;abc&quot;, &quot;tms&quot;: false}\n",
       "            ).addTo(map_3b2c5e6aeaf5cbf3c742ffa7e64018b8);\n",
       "        \n",
       "    \n",
       "            var poly_line_0881ca53f6fc8a43908c6eaedde34dd5 = L.polyline(\n",
       "                [[-16.00009, -48.05936], [-15.9975, -48.05801], [-15.99324, -48.05046], [-15.96603, -48.01943], [-15.9477, -48.03621], [-15.9389, -48.04194], [-15.88007, -48.06122], [-15.86803, -48.05558], [-15.86528, -48.05584], [-15.86004, -48.04966], [-15.85732, -48.0433], [-15.84406, -48.05021], [-15.84014, -48.04322], [-15.84154, -48.04254], [-15.84214, -48.04362]],\n",
       "                {&quot;bubblingMouseEvents&quot;: true, &quot;color&quot;: &quot;blue&quot;, &quot;dashArray&quot;: null, &quot;dashOffset&quot;: null, &quot;fill&quot;: false, &quot;fillColor&quot;: &quot;blue&quot;, &quot;fillOpacity&quot;: 0.2, &quot;fillRule&quot;: &quot;evenodd&quot;, &quot;lineCap&quot;: &quot;round&quot;, &quot;lineJoin&quot;: &quot;round&quot;, &quot;noClip&quot;: false, &quot;opacity&quot;: 0.6, &quot;smoothFactor&quot;: 1.0, &quot;stroke&quot;: true, &quot;weight&quot;: 8}\n",
       "            ).addTo(map_3b2c5e6aeaf5cbf3c742ffa7e64018b8);\n",
       "        \n",
       "    \n",
       "            var marker_f829e5fe60552665a309c88109db9964 = L.marker(\n",
       "                [-16.000091, -48.05936],\n",
       "                {}\n",
       "            ).addTo(map_3b2c5e6aeaf5cbf3c742ffa7e64018b8);\n",
       "        \n",
       "    \n",
       "            var icon_3e3c2d38e35cd1e430e22892afeb43e9 = L.AwesomeMarkers.icon(\n",
       "                {&quot;extraClasses&quot;: &quot;fa-rotate-0&quot;, &quot;icon&quot;: &quot;play&quot;, &quot;iconColor&quot;: &quot;white&quot;, &quot;markerColor&quot;: &quot;green&quot;, &quot;prefix&quot;: &quot;glyphicon&quot;}\n",
       "            );\n",
       "            marker_f829e5fe60552665a309c88109db9964.setIcon(icon_3e3c2d38e35cd1e430e22892afeb43e9);\n",
       "        \n",
       "    \n",
       "            var marker_068bcf9cb38f7a7d0abf1cda0038c0c7 = L.marker(\n",
       "                [-15.842136, -48.043621],\n",
       "                {}\n",
       "            ).addTo(map_3b2c5e6aeaf5cbf3c742ffa7e64018b8);\n",
       "        \n",
       "    \n",
       "            var icon_de0a795ebe529788f2d6030b899d391d = L.AwesomeMarkers.icon(\n",
       "                {&quot;extraClasses&quot;: &quot;fa-rotate-0&quot;, &quot;icon&quot;: &quot;stop&quot;, &quot;iconColor&quot;: &quot;white&quot;, &quot;markerColor&quot;: &quot;red&quot;, &quot;prefix&quot;: &quot;glyphicon&quot;}\n",
       "            );\n",
       "            marker_068bcf9cb38f7a7d0abf1cda0038c0c7.setIcon(icon_de0a795ebe529788f2d6030b899d391d);\n",
       "        \n",
       "&lt;/script&gt;\n",
       "&lt;/html&gt;\" style=\"position:absolute;width:100%;height:100%;left:0;top:0;border:none !important;\" allowfullscreen webkitallowfullscreen mozallowfullscreen></iframe></div></div>"
      ],
      "text/plain": [
       "<folium.folium.Map at 0x7fc1e0ff1d20>"
      ]
     },
     "execution_count": 9,
     "metadata": {},
     "output_type": "execute_result"
    }
   ],
   "source": [
    "get_map(test_route)"
   ]
  },
  {
   "cell_type": "code",
   "execution_count": 17,
   "metadata": {},
   "outputs": [],
   "source": [
    "lon1 = np.random.uniform(-48.0,-49.0, 100).round(6)\n",
    "lon2 = np.random.uniform(-48,-49.0, 100).round(6)\n",
    "lat1 = np.random.uniform(-15.8,-16.0, 100).round(6)\n",
    "lat2 = np.random.uniform(-15.8,-16.0, 100).round(6)\n",
    "df = pd.DataFrame({'pickup_lon': lon1,\n",
    "              'pickup_lat': lat1,\n",
    "              'dropoff_lon': lon2,\n",
    "              'dropoff_lat': lat2,\n",
    "             })"
   ]
  },
  {
   "cell_type": "code",
   "execution_count": 18,
   "metadata": {},
   "outputs": [
    {
     "data": {
      "text/html": [
       "<div>\n",
       "<style scoped>\n",
       "    .dataframe tbody tr th:only-of-type {\n",
       "        vertical-align: middle;\n",
       "    }\n",
       "\n",
       "    .dataframe tbody tr th {\n",
       "        vertical-align: top;\n",
       "    }\n",
       "\n",
       "    .dataframe thead th {\n",
       "        text-align: right;\n",
       "    }\n",
       "</style>\n",
       "<table border=\"1\" class=\"dataframe\">\n",
       "  <thead>\n",
       "    <tr style=\"text-align: right;\">\n",
       "      <th></th>\n",
       "      <th>pickup_lon</th>\n",
       "      <th>pickup_lat</th>\n",
       "      <th>dropoff_lon</th>\n",
       "      <th>dropoff_lat</th>\n",
       "    </tr>\n",
       "  </thead>\n",
       "  <tbody>\n",
       "    <tr>\n",
       "      <th>0</th>\n",
       "      <td>-48.132756</td>\n",
       "      <td>-15.894332</td>\n",
       "      <td>-48.637013</td>\n",
       "      <td>-15.987327</td>\n",
       "    </tr>\n",
       "    <tr>\n",
       "      <th>1</th>\n",
       "      <td>-48.446214</td>\n",
       "      <td>-15.905397</td>\n",
       "      <td>-48.598804</td>\n",
       "      <td>-15.969770</td>\n",
       "    </tr>\n",
       "    <tr>\n",
       "      <th>2</th>\n",
       "      <td>-48.253975</td>\n",
       "      <td>-15.899657</td>\n",
       "      <td>-48.448997</td>\n",
       "      <td>-15.976297</td>\n",
       "    </tr>\n",
       "    <tr>\n",
       "      <th>3</th>\n",
       "      <td>-48.238285</td>\n",
       "      <td>-15.880506</td>\n",
       "      <td>-48.162568</td>\n",
       "      <td>-15.955455</td>\n",
       "    </tr>\n",
       "    <tr>\n",
       "      <th>4</th>\n",
       "      <td>-48.149664</td>\n",
       "      <td>-15.929175</td>\n",
       "      <td>-48.285919</td>\n",
       "      <td>-15.838962</td>\n",
       "    </tr>\n",
       "  </tbody>\n",
       "</table>\n",
       "</div>"
      ],
      "text/plain": [
       "   pickup_lon  pickup_lat  dropoff_lon  dropoff_lat\n",
       "0  -48.132756  -15.894332   -48.637013   -15.987327\n",
       "1  -48.446214  -15.905397   -48.598804   -15.969770\n",
       "2  -48.253975  -15.899657   -48.448997   -15.976297\n",
       "3  -48.238285  -15.880506   -48.162568   -15.955455\n",
       "4  -48.149664  -15.929175   -48.285919   -15.838962"
      ]
     },
     "execution_count": 18,
     "metadata": {},
     "output_type": "execute_result"
    }
   ],
   "source": [
    "df.head()"
   ]
  },
  {
   "cell_type": "code",
   "execution_count": 19,
   "metadata": {},
   "outputs": [
    {
     "name": "stdout",
     "output_type": "stream",
     "text": [
      "CPU times: user 123 ms, sys: 16.3 ms, total: 139 ms\n",
      "Wall time: 239 ms\n"
     ]
    }
   ],
   "source": [
    "%%time\n",
    "df['routes'] = df.apply(lambda x: get_route(x['pickup_lon'], \n",
    "                                            x['pickup_lat'],\n",
    "                                            x['dropoff_lon'], \n",
    "                                            x['dropoff_lat']), axis=1)"
   ]
  },
  {
   "cell_type": "code",
   "execution_count": 13,
   "metadata": {},
   "outputs": [
    {
     "data": {
      "text/html": [
       "<div style=\"width:100%;\"><div style=\"position:relative;width:100%;height:0;padding-bottom:60%;\"><span style=\"color:#565656\">Make this Notebook Trusted to load map: File -> Trust Notebook</span><iframe srcdoc=\"&lt;!DOCTYPE html&gt;\n",
       "&lt;html&gt;\n",
       "&lt;head&gt;\n",
       "    \n",
       "    &lt;meta http-equiv=&quot;content-type&quot; content=&quot;text/html; charset=UTF-8&quot; /&gt;\n",
       "    \n",
       "        &lt;script&gt;\n",
       "            L_NO_TOUCH = false;\n",
       "            L_DISABLE_3D = false;\n",
       "        &lt;/script&gt;\n",
       "    \n",
       "    &lt;style&gt;html, body {width: 100%;height: 100%;margin: 0;padding: 0;}&lt;/style&gt;\n",
       "    &lt;style&gt;#map {position:absolute;top:0;bottom:0;right:0;left:0;}&lt;/style&gt;\n",
       "    &lt;script src=&quot;https://cdn.jsdelivr.net/npm/leaflet@1.9.3/dist/leaflet.js&quot;&gt;&lt;/script&gt;\n",
       "    &lt;script src=&quot;https://code.jquery.com/jquery-1.12.4.min.js&quot;&gt;&lt;/script&gt;\n",
       "    &lt;script src=&quot;https://cdn.jsdelivr.net/npm/bootstrap@5.2.2/dist/js/bootstrap.bundle.min.js&quot;&gt;&lt;/script&gt;\n",
       "    &lt;script src=&quot;https://cdnjs.cloudflare.com/ajax/libs/Leaflet.awesome-markers/2.0.2/leaflet.awesome-markers.js&quot;&gt;&lt;/script&gt;\n",
       "    &lt;link rel=&quot;stylesheet&quot; href=&quot;https://cdn.jsdelivr.net/npm/leaflet@1.9.3/dist/leaflet.css&quot;/&gt;\n",
       "    &lt;link rel=&quot;stylesheet&quot; href=&quot;https://cdn.jsdelivr.net/npm/bootstrap@5.2.2/dist/css/bootstrap.min.css&quot;/&gt;\n",
       "    &lt;link rel=&quot;stylesheet&quot; href=&quot;https://netdna.bootstrapcdn.com/bootstrap/3.0.0/css/bootstrap.min.css&quot;/&gt;\n",
       "    &lt;link rel=&quot;stylesheet&quot; href=&quot;https://cdn.jsdelivr.net/npm/@fortawesome/fontawesome-free@6.2.0/css/all.min.css&quot;/&gt;\n",
       "    &lt;link rel=&quot;stylesheet&quot; href=&quot;https://cdnjs.cloudflare.com/ajax/libs/Leaflet.awesome-markers/2.0.2/leaflet.awesome-markers.css&quot;/&gt;\n",
       "    &lt;link rel=&quot;stylesheet&quot; href=&quot;https://cdn.jsdelivr.net/gh/python-visualization/folium/folium/templates/leaflet.awesome.rotate.min.css&quot;/&gt;\n",
       "    \n",
       "            &lt;meta name=&quot;viewport&quot; content=&quot;width=device-width,\n",
       "                initial-scale=1.0, maximum-scale=1.0, user-scalable=no&quot; /&gt;\n",
       "            &lt;style&gt;\n",
       "                #map_4dc2480c1770fe8ff014374a3b958b35 {\n",
       "                    position: relative;\n",
       "                    width: 100.0%;\n",
       "                    height: 100.0%;\n",
       "                    left: 0.0%;\n",
       "                    top: 0.0%;\n",
       "                }\n",
       "                .leaflet-container { font-size: 1rem; }\n",
       "            &lt;/style&gt;\n",
       "        \n",
       "&lt;/head&gt;\n",
       "&lt;body&gt;\n",
       "    \n",
       "    \n",
       "            &lt;div class=&quot;folium-map&quot; id=&quot;map_4dc2480c1770fe8ff014374a3b958b35&quot; &gt;&lt;/div&gt;\n",
       "        \n",
       "&lt;/body&gt;\n",
       "&lt;script&gt;\n",
       "    \n",
       "    \n",
       "            var map_4dc2480c1770fe8ff014374a3b958b35 = L.map(\n",
       "                &quot;map_4dc2480c1770fe8ff014374a3b958b35&quot;,\n",
       "                {\n",
       "                    center: [-15.893052, -48.4767525],\n",
       "                    crs: L.CRS.EPSG3857,\n",
       "                    zoom: 13,\n",
       "                    zoomControl: true,\n",
       "                    preferCanvas: false,\n",
       "                }\n",
       "            );\n",
       "\n",
       "            \n",
       "\n",
       "        \n",
       "    \n",
       "            var tile_layer_1cca87fd3f3afdd31a78f1b13fa5f062 = L.tileLayer(\n",
       "                &quot;https://{s}.tile.openstreetmap.org/{z}/{x}/{y}.png&quot;,\n",
       "                {&quot;attribution&quot;: &quot;Data by \\u0026copy; \\u003ca target=\\&quot;_blank\\&quot; href=\\&quot;http://openstreetmap.org\\&quot;\\u003eOpenStreetMap\\u003c/a\\u003e, under \\u003ca target=\\&quot;_blank\\&quot; href=\\&quot;http://www.openstreetmap.org/copyright\\&quot;\\u003eODbL\\u003c/a\\u003e.&quot;, &quot;detectRetina&quot;: false, &quot;maxNativeZoom&quot;: 18, &quot;maxZoom&quot;: 18, &quot;minZoom&quot;: 0, &quot;noWrap&quot;: false, &quot;opacity&quot;: 1, &quot;subdomains&quot;: &quot;abc&quot;, &quot;tms&quot;: false}\n",
       "            ).addTo(map_4dc2480c1770fe8ff014374a3b958b35);\n",
       "        \n",
       "    \n",
       "            var poly_line_006d2d77f8733e9a4547812dd0bb8b76 = L.polyline(\n",
       "                [[-15.8924, -48.81995], [-15.91925, -48.81205], [-15.91879, -48.80909], [-15.92136, -48.80763], [-15.91905, -48.80386], [-15.92305, -48.78925], [-15.91436, -48.77708], [-15.92278, -48.74749], [-15.92071, -48.71343], [-15.91539, -48.69419], [-15.92406, -48.68614], [-15.92638, -48.67241], [-15.93711, -48.65141], [-15.93258, -48.62792], [-15.93997, -48.61618], [-15.93963, -48.60204], [-15.96528, -48.58223], [-16.03377, -48.54973], [-16.04839, -48.53595], [-16.05347, -48.52559], [-16.07885, -48.51495], [-16.08005, -48.50735], [-16.08925, -48.50822], [-16.09046, -48.49761], [-16.10186, -48.46667], [-16.10269, -48.45524], [-16.12079, -48.42736], [-16.1222, -48.41159], [-16.11415, -48.38848], [-16.11886, -48.37541], [-16.10859, -48.3609], [-16.11702, -48.31728], [-16.10226, -48.28818], [-16.08888, -48.27325], [-16.07622, -48.26689], [-16.02488, -48.25294], [-15.99839, -48.24253], [-15.98965, -48.22911], [-15.9734, -48.18743], [-15.95789, -48.17605], [-15.91462, -48.1632], [-15.90867, -48.14393], [-15.89927, -48.14731], [-15.8937, -48.13355]],\n",
       "                {&quot;bubblingMouseEvents&quot;: true, &quot;color&quot;: &quot;blue&quot;, &quot;dashArray&quot;: null, &quot;dashOffset&quot;: null, &quot;fill&quot;: false, &quot;fillColor&quot;: &quot;blue&quot;, &quot;fillOpacity&quot;: 0.2, &quot;fillRule&quot;: &quot;evenodd&quot;, &quot;lineCap&quot;: &quot;round&quot;, &quot;lineJoin&quot;: &quot;round&quot;, &quot;noClip&quot;: false, &quot;opacity&quot;: 0.6, &quot;smoothFactor&quot;: 1.0, &quot;stroke&quot;: true, &quot;weight&quot;: 8}\n",
       "            ).addTo(map_4dc2480c1770fe8ff014374a3b958b35);\n",
       "        \n",
       "    \n",
       "            var marker_01f355b3e4543269b4098ad3fcd03c9c = L.marker(\n",
       "                [-15.892401, -48.819951],\n",
       "                {}\n",
       "            ).addTo(map_4dc2480c1770fe8ff014374a3b958b35);\n",
       "        \n",
       "    \n",
       "            var icon_b23e9511b16e25bf9a835a3f747816a0 = L.AwesomeMarkers.icon(\n",
       "                {&quot;extraClasses&quot;: &quot;fa-rotate-0&quot;, &quot;icon&quot;: &quot;play&quot;, &quot;iconColor&quot;: &quot;white&quot;, &quot;markerColor&quot;: &quot;green&quot;, &quot;prefix&quot;: &quot;glyphicon&quot;}\n",
       "            );\n",
       "            marker_01f355b3e4543269b4098ad3fcd03c9c.setIcon(icon_b23e9511b16e25bf9a835a3f747816a0);\n",
       "        \n",
       "    \n",
       "            var marker_b7c9f7970d6199ad201a866d826ad6f4 = L.marker(\n",
       "                [-15.893703, -48.133554],\n",
       "                {}\n",
       "            ).addTo(map_4dc2480c1770fe8ff014374a3b958b35);\n",
       "        \n",
       "    \n",
       "            var icon_2474d49e0377bd685353456fa55556dc = L.AwesomeMarkers.icon(\n",
       "                {&quot;extraClasses&quot;: &quot;fa-rotate-0&quot;, &quot;icon&quot;: &quot;stop&quot;, &quot;iconColor&quot;: &quot;white&quot;, &quot;markerColor&quot;: &quot;red&quot;, &quot;prefix&quot;: &quot;glyphicon&quot;}\n",
       "            );\n",
       "            marker_b7c9f7970d6199ad201a866d826ad6f4.setIcon(icon_2474d49e0377bd685353456fa55556dc);\n",
       "        \n",
       "&lt;/script&gt;\n",
       "&lt;/html&gt;\" style=\"position:absolute;width:100%;height:100%;left:0;top:0;border:none !important;\" allowfullscreen webkitallowfullscreen mozallowfullscreen></iframe></div></div>"
      ],
      "text/plain": [
       "<folium.folium.Map at 0x7fc1e100c040>"
      ]
     },
     "execution_count": 13,
     "metadata": {},
     "output_type": "execute_result"
    }
   ],
   "source": [
    "get_map(df.loc[45,'routes'])"
   ]
  }
 ],
 "metadata": {
  "kernelspec": {
   "display_name": ".env",
   "language": "python",
   "name": "python3"
  },
  "language_info": {
   "codemirror_mode": {
    "name": "ipython",
    "version": 3
   },
   "file_extension": ".py",
   "mimetype": "text/x-python",
   "name": "python",
   "nbconvert_exporter": "python",
   "pygments_lexer": "ipython3",
   "version": "3.10.6"
  },
  "orig_nbformat": 4
 },
 "nbformat": 4,
 "nbformat_minor": 2
}
