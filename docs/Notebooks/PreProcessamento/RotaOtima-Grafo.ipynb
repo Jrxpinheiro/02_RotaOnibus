{
 "cells": [
  {
   "cell_type": "code",
   "execution_count": 1,
   "metadata": {},
   "outputs": [],
   "source": [
    "import geopandas as gpd\n",
    "import pandas as pd\n",
    "import networkx as nx\n",
    "import osmnx as ox\n",
    "import folium\n",
    "import pickle\n",
    "from shapely.geometry import box, Point"
   ]
  },
  {
   "cell_type": "markdown",
   "metadata": {},
   "source": [
    "### Carregando o Grafo"
   ]
  },
  {
   "cell_type": "code",
   "execution_count": 2,
   "metadata": {},
   "outputs": [],
   "source": [
    "# Ler o grafo de um arquivo usando pickle\n",
    "with open('grafo_linhas.grafo', 'rb') as f:\n",
    "    G = pickle.load(f)"
   ]
  },
  {
   "cell_type": "code",
   "execution_count": 5,
   "metadata": {},
   "outputs": [
    {
     "name": "stdout",
     "output_type": "stream",
     "text": [
      "4544\n"
     ]
    }
   ],
   "source": [
    "print(len(G.nodes))"
   ]
  },
  {
   "cell_type": "code",
   "execution_count": 4,
   "metadata": {},
   "outputs": [
    {
     "name": "stdout",
     "output_type": "stream",
     "text": [
      "Node  data: {'coords': <POINT (-47.785 -15.763)>}\n",
      "Edge data: {'dist': 0.0036503507675291267, 'linha': 141.8}\n"
     ]
    }
   ],
   "source": [
    "for node, data in G.nodes(data=True):\n",
    "    print(f\"Node  data: {data}\")\n",
    "    break\n",
    "\n",
    "for _, _, data in G.edges(data=True):\n",
    "    print(f\"Edge data: {data}\")\n",
    "    break\n"
   ]
  },
  {
   "cell_type": "markdown",
   "metadata": {},
   "source": [
    "### Receber 2 pontos (origem e destino) com suas respectivas coordenadas "
   ]
  },
  {
   "cell_type": "code",
   "execution_count": 3,
   "metadata": {},
   "outputs": [
    {
     "name": "stdout",
     "output_type": "stream",
     "text": [
      "7672 3482\n"
     ]
    }
   ],
   "source": [
    "origem = (-15.989444964529529, -48.044418962814866) # Unb Gama\n",
    "destino = (-15.79113644987054, -47.88317800514907)   # Conjunto Nacional\n",
    "\n",
    "G.graph[\"crs\"] = 'EPSG:31983'\n",
    "\n",
    "def nearest_node(G, long, lat):\n",
    "    distancias = {}\n",
    "    ponto = Point(long, lat)\n",
    "    for node in G.nodes():\n",
    "        node_coords = Point(G.nodes[node]['coords'])  \n",
    "        dist = node_coords.distance(ponto)\n",
    "        distancias[node] = {'dist': dist}\n",
    "    # Find the nodes with the shortest distancias to the origin and destination\n",
    "    nearest_node = min(distancias, key=lambda x: distancias[x]['dist'])\n",
    "    return nearest_node\n",
    "\n",
    "orig_node = nearest_node(G, origem[1], origem[0])\n",
    "dest_node = nearest_node(G, destino[1], destino[0])\n",
    "\n",
    "print(orig_node, dest_node)"
   ]
  },
  {
   "cell_type": "markdown",
   "metadata": {},
   "source": [
    "### Verificando com o Folium"
   ]
  },
  {
   "cell_type": "code",
   "execution_count": 4,
   "metadata": {},
   "outputs": [
    {
     "data": {
      "text/html": [
       "<div style=\"width:100%;\"><div style=\"position:relative;width:100%;height:0;padding-bottom:60%;\"><span style=\"color:#565656\">Make this Notebook Trusted to load map: File -> Trust Notebook</span><iframe srcdoc=\"&lt;!DOCTYPE html&gt;\n",
       "&lt;html&gt;\n",
       "&lt;head&gt;\n",
       "    \n",
       "    &lt;meta http-equiv=&quot;content-type&quot; content=&quot;text/html; charset=UTF-8&quot; /&gt;\n",
       "    \n",
       "        &lt;script&gt;\n",
       "            L_NO_TOUCH = false;\n",
       "            L_DISABLE_3D = false;\n",
       "        &lt;/script&gt;\n",
       "    \n",
       "    &lt;style&gt;html, body {width: 100%;height: 100%;margin: 0;padding: 0;}&lt;/style&gt;\n",
       "    &lt;style&gt;#map {position:absolute;top:0;bottom:0;right:0;left:0;}&lt;/style&gt;\n",
       "    &lt;script src=&quot;https://cdn.jsdelivr.net/npm/leaflet@1.9.3/dist/leaflet.js&quot;&gt;&lt;/script&gt;\n",
       "    &lt;script src=&quot;https://code.jquery.com/jquery-1.12.4.min.js&quot;&gt;&lt;/script&gt;\n",
       "    &lt;script src=&quot;https://cdn.jsdelivr.net/npm/bootstrap@5.2.2/dist/js/bootstrap.bundle.min.js&quot;&gt;&lt;/script&gt;\n",
       "    &lt;script src=&quot;https://cdnjs.cloudflare.com/ajax/libs/Leaflet.awesome-markers/2.0.2/leaflet.awesome-markers.js&quot;&gt;&lt;/script&gt;\n",
       "    &lt;link rel=&quot;stylesheet&quot; href=&quot;https://cdn.jsdelivr.net/npm/leaflet@1.9.3/dist/leaflet.css&quot;/&gt;\n",
       "    &lt;link rel=&quot;stylesheet&quot; href=&quot;https://cdn.jsdelivr.net/npm/bootstrap@5.2.2/dist/css/bootstrap.min.css&quot;/&gt;\n",
       "    &lt;link rel=&quot;stylesheet&quot; href=&quot;https://netdna.bootstrapcdn.com/bootstrap/3.0.0/css/bootstrap.min.css&quot;/&gt;\n",
       "    &lt;link rel=&quot;stylesheet&quot; href=&quot;https://cdn.jsdelivr.net/npm/@fortawesome/fontawesome-free@6.2.0/css/all.min.css&quot;/&gt;\n",
       "    &lt;link rel=&quot;stylesheet&quot; href=&quot;https://cdnjs.cloudflare.com/ajax/libs/Leaflet.awesome-markers/2.0.2/leaflet.awesome-markers.css&quot;/&gt;\n",
       "    &lt;link rel=&quot;stylesheet&quot; href=&quot;https://cdn.jsdelivr.net/gh/python-visualization/folium/folium/templates/leaflet.awesome.rotate.min.css&quot;/&gt;\n",
       "    \n",
       "            &lt;meta name=&quot;viewport&quot; content=&quot;width=device-width,\n",
       "                initial-scale=1.0, maximum-scale=1.0, user-scalable=no&quot; /&gt;\n",
       "            &lt;style&gt;\n",
       "                #map_87f89b0218cc9460794d9307635ff03a {\n",
       "                    position: relative;\n",
       "                    width: 100.0%;\n",
       "                    height: 100.0%;\n",
       "                    left: 0.0%;\n",
       "                    top: 0.0%;\n",
       "                }\n",
       "                .leaflet-container { font-size: 1rem; }\n",
       "            &lt;/style&gt;\n",
       "        \n",
       "&lt;/head&gt;\n",
       "&lt;body&gt;\n",
       "    \n",
       "    \n",
       "            &lt;div class=&quot;folium-map&quot; id=&quot;map_87f89b0218cc9460794d9307635ff03a&quot; &gt;&lt;/div&gt;\n",
       "        \n",
       "&lt;/body&gt;\n",
       "&lt;script&gt;\n",
       "    \n",
       "    \n",
       "            var map_87f89b0218cc9460794d9307635ff03a = L.map(\n",
       "                &quot;map_87f89b0218cc9460794d9307635ff03a&quot;,\n",
       "                {\n",
       "                    center: [-15.7942, -47.8825],\n",
       "                    crs: L.CRS.EPSG3857,\n",
       "                    zoom: 12,\n",
       "                    zoomControl: true,\n",
       "                    preferCanvas: false,\n",
       "                }\n",
       "            );\n",
       "\n",
       "            \n",
       "\n",
       "        \n",
       "    \n",
       "            var tile_layer_b3a0b20ef29f78425c4984b7dff5d0fa = L.tileLayer(\n",
       "                &quot;https://{s}.tile.openstreetmap.org/{z}/{x}/{y}.png&quot;,\n",
       "                {&quot;attribution&quot;: &quot;Data by \\u0026copy; \\u003ca target=\\&quot;_blank\\&quot; href=\\&quot;http://openstreetmap.org\\&quot;\\u003eOpenStreetMap\\u003c/a\\u003e, under \\u003ca target=\\&quot;_blank\\&quot; href=\\&quot;http://www.openstreetmap.org/copyright\\&quot;\\u003eODbL\\u003c/a\\u003e.&quot;, &quot;detectRetina&quot;: false, &quot;maxNativeZoom&quot;: 18, &quot;maxZoom&quot;: 18, &quot;minZoom&quot;: 0, &quot;noWrap&quot;: false, &quot;opacity&quot;: 1, &quot;subdomains&quot;: &quot;abc&quot;, &quot;tms&quot;: false}\n",
       "            ).addTo(map_87f89b0218cc9460794d9307635ff03a);\n",
       "        \n",
       "    \n",
       "            var marker_d5a4a0f6c9a655b9886b091efe1e657f = L.marker(\n",
       "                [-15.987903000000001, -48.044692],\n",
       "                {}\n",
       "            ).addTo(map_87f89b0218cc9460794d9307635ff03a);\n",
       "        \n",
       "    \n",
       "        var popup_cc365cf6863b76b6a1d4f7a73f520a27 = L.popup({&quot;maxWidth&quot;: &quot;100%&quot;});\n",
       "\n",
       "        \n",
       "            \n",
       "                var html_2d7c0456f6afa116f0a082b68068c8d9 = $(`&lt;div id=&quot;html_2d7c0456f6afa116f0a082b68068c8d9&quot; style=&quot;width: 100.0%; height: 100.0%;&quot;&gt;Parada 7672&lt;/div&gt;`)[0];\n",
       "                popup_cc365cf6863b76b6a1d4f7a73f520a27.setContent(html_2d7c0456f6afa116f0a082b68068c8d9);\n",
       "            \n",
       "        \n",
       "\n",
       "        marker_d5a4a0f6c9a655b9886b091efe1e657f.bindPopup(popup_cc365cf6863b76b6a1d4f7a73f520a27)\n",
       "        ;\n",
       "\n",
       "        \n",
       "    \n",
       "    \n",
       "            var marker_bcd1c84ddeb4aae9d72348ff99554cf5 = L.marker(\n",
       "                [-15.790681969817701, -47.88247931341703],\n",
       "                {}\n",
       "            ).addTo(map_87f89b0218cc9460794d9307635ff03a);\n",
       "        \n",
       "    \n",
       "        var popup_de71d12e0c0d4b0cbdaf075446610f54 = L.popup({&quot;maxWidth&quot;: &quot;100%&quot;});\n",
       "\n",
       "        \n",
       "            \n",
       "                var html_1537656ec7c79d5f6ab7a09cbca958c4 = $(`&lt;div id=&quot;html_1537656ec7c79d5f6ab7a09cbca958c4&quot; style=&quot;width: 100.0%; height: 100.0%;&quot;&gt;Parada 3482&lt;/div&gt;`)[0];\n",
       "                popup_de71d12e0c0d4b0cbdaf075446610f54.setContent(html_1537656ec7c79d5f6ab7a09cbca958c4);\n",
       "            \n",
       "        \n",
       "\n",
       "        marker_bcd1c84ddeb4aae9d72348ff99554cf5.bindPopup(popup_de71d12e0c0d4b0cbdaf075446610f54)\n",
       "        ;\n",
       "\n",
       "        \n",
       "    \n",
       "&lt;/script&gt;\n",
       "&lt;/html&gt;\" style=\"position:absolute;width:100%;height:100%;left:0;top:0;border:none !important;\" allowfullscreen webkitallowfullscreen mozallowfullscreen></iframe></div></div>"
      ],
      "text/plain": [
       "<folium.folium.Map at 0x7f3ed3ad2b00>"
      ]
     },
     "execution_count": 4,
     "metadata": {},
     "output_type": "execute_result"
    }
   ],
   "source": [
    "# # Inicializar o mapa do Folium (ajuste as coordenadas iniciais conforme necessário)\n",
    "m = folium.Map(location=[-15.7942, -47.8825], zoom_start=12)\n",
    "\n",
    "# Adicionar as paradas como marcadores no mapa\n",
    "\n",
    "lat1, long1 = G.nodes[orig_node]['coords'].y, G.nodes[orig_node]['coords'].x\n",
    "lat2, long2 = G.nodes[dest_node]['coords'].y, G.nodes[dest_node]['coords'].x\n",
    "\n",
    "folium.Marker([lat1, long1], popup=f'Parada {orig_node}').add_to(m)\n",
    "folium.Marker([lat2, long2], popup=f'Parada {dest_node}').add_to(m)\n",
    "\n",
    "m"
   ]
  }
 ],
 "metadata": {
  "kernelspec": {
   "display_name": "brisa",
   "language": "python",
   "name": "python3"
  },
  "language_info": {
   "codemirror_mode": {
    "name": "ipython",
    "version": 3
   },
   "file_extension": ".py",
   "mimetype": "text/x-python",
   "name": "python",
   "nbconvert_exporter": "python",
   "pygments_lexer": "ipython3",
   "version": "3.10.12"
  },
  "orig_nbformat": 4
 },
 "nbformat": 4,
 "nbformat_minor": 2
}
