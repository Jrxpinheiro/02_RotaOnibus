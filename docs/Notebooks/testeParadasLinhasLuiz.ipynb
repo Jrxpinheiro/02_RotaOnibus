{
 "cells": [
  {
   "cell_type": "code",
   "execution_count": 2,
   "metadata": {},
   "outputs": [],
   "source": [
    "import geopandas as gpd\n",
    "import matplotlib.pyplot as plt\n",
    "import contextily as cx\n",
    "from shapely.geometry import box, Point, Polygon, MultiPolygon\n",
    "from shapely.wkt import loads"
   ]
  },
  {
   "cell_type": "code",
   "execution_count": 3,
   "metadata": {},
   "outputs": [],
   "source": [
    "# lendo o arquivo .shp\n",
    "caminho_shp = '../Estudos/datasets/movi/data/paradas.shp'\n",
    "df = gpd.read_file(caminho_shp)"
   ]
  },
  {
   "cell_type": "code",
   "execution_count": 4,
   "metadata": {},
   "outputs": [
    {
     "name": "stdout",
     "output_type": "stream",
     "text": [
      "<class 'geopandas.geodataframe.GeoDataFrame'>\n",
      "RangeIndex: 5457 entries, 0 to 5456\n",
      "Data columns (total 6 columns):\n",
      " #   Column      Non-Null Count  Dtype   \n",
      "---  ------      --------------  -----   \n",
      " 0   parada      5457 non-null   object  \n",
      " 1   descricao   5456 non-null   object  \n",
      " 2   situacao    5457 non-null   object  \n",
      " 3   estrutura_  4948 non-null   object  \n",
      " 4   tipo        5455 non-null   object  \n",
      " 5   geometry    5457 non-null   geometry\n",
      "dtypes: geometry(1), object(5)\n",
      "memory usage: 255.9+ KB\n"
     ]
    }
   ],
   "source": [
    "# pegando algumas informações\n",
    "df.info()"
   ]
  },
  {
   "cell_type": "code",
   "execution_count": 5,
   "metadata": {},
   "outputs": [
    {
     "data": {
      "text/plain": [
       "0       POINT (203628.051 8238910.255)\n",
       "1       POINT (203626.569 8238879.548)\n",
       "2       POINT (203515.071 8238613.416)\n",
       "3       POINT (203481.047 8238551.784)\n",
       "4       POINT (203579.703 8239213.734)\n",
       "                     ...              \n",
       "5452    POINT (167354.394 8264495.757)\n",
       "5453    POINT (167311.355 8264500.454)\n",
       "5454    POINT (163265.979 8265332.396)\n",
       "5455    POINT (162912.871 8269061.030)\n",
       "5456    POINT (163217.911 8264159.565)\n",
       "Name: geometry, Length: 5457, dtype: geometry"
      ]
     },
     "execution_count": 5,
     "metadata": {},
     "output_type": "execute_result"
    }
   ],
   "source": [
    "# O que temos na coluna 'geometry' ?\n",
    "df['geometry']"
   ]
  },
  {
   "cell_type": "code",
   "execution_count": 6,
   "metadata": {},
   "outputs": [
    {
     "data": {
      "text/plain": [
       "<Projected CRS: EPSG:31983>\n",
       "Name: SIRGAS 2000 / UTM zone 23S\n",
       "Axis Info [cartesian]:\n",
       "- E[east]: Easting (metre)\n",
       "- N[north]: Northing (metre)\n",
       "Area of Use:\n",
       "- name: Brazil - between 48°W and 42°W, northern and southern hemispheres, onshore and offshore.\n",
       "- bounds: (-48.0, -33.5, -42.0, 5.13)\n",
       "Coordinate Operation:\n",
       "- name: UTM zone 23S\n",
       "- method: Transverse Mercator\n",
       "Datum: Sistema de Referencia Geocentrico para las AmericaS 2000\n",
       "- Ellipsoid: GRS 1980\n",
       "- Prime Meridian: Greenwich"
      ]
     },
     "execution_count": 6,
     "metadata": {},
     "output_type": "execute_result"
    }
   ],
   "source": [
    "# Qual sistemas estamos?\n",
    "# acessando o atributo crs\n",
    "df.crs"
   ]
  },
  {
   "cell_type": "code",
   "execution_count": 7,
   "metadata": {},
   "outputs": [],
   "source": [
    "# O folium trabalha no sistema WGS 84(EPSG:4326), o correto é converter para esse formato\n",
    "df = df.to_crs('EPSG:4326')"
   ]
  },
  {
   "cell_type": "code",
   "execution_count": 8,
   "metadata": {},
   "outputs": [
    {
     "name": "stdout",
     "output_type": "stream",
     "text": [
      "Coordenada x: -47.76791017881488\n",
      "Coordena y: -15.911319542624627\n"
     ]
    }
   ],
   "source": [
    "# Agora conseguimos plotar\n",
    "\n",
    "# Pegando uma cordenada pelo indice\n",
    "x = df.geometry.x.iloc[0] # longitude\n",
    "y = df.geometry.y.iloc[0] # latidute\n",
    "print(f'Coordenada x: {x}\\nCoordena y: {y}')"
   ]
  },
  {
   "cell_type": "code",
   "execution_count": 9,
   "metadata": {},
   "outputs": [
    {
     "data": {
      "text/html": [
       "<div style=\"width:100%;\"><div style=\"position:relative;width:100%;height:0;padding-bottom:60%;\"><span style=\"color:#565656\">Make this Notebook Trusted to load map: File -> Trust Notebook</span><iframe srcdoc=\"&lt;!DOCTYPE html&gt;\n",
       "&lt;html&gt;\n",
       "&lt;head&gt;\n",
       "    \n",
       "    &lt;meta http-equiv=&quot;content-type&quot; content=&quot;text/html; charset=UTF-8&quot; /&gt;\n",
       "    \n",
       "        &lt;script&gt;\n",
       "            L_NO_TOUCH = false;\n",
       "            L_DISABLE_3D = false;\n",
       "        &lt;/script&gt;\n",
       "    \n",
       "    &lt;style&gt;html, body {width: 100%;height: 100%;margin: 0;padding: 0;}&lt;/style&gt;\n",
       "    &lt;style&gt;#map {position:absolute;top:0;bottom:0;right:0;left:0;}&lt;/style&gt;\n",
       "    &lt;script src=&quot;https://cdn.jsdelivr.net/npm/leaflet@1.9.3/dist/leaflet.js&quot;&gt;&lt;/script&gt;\n",
       "    &lt;script src=&quot;https://code.jquery.com/jquery-1.12.4.min.js&quot;&gt;&lt;/script&gt;\n",
       "    &lt;script src=&quot;https://cdn.jsdelivr.net/npm/bootstrap@5.2.2/dist/js/bootstrap.bundle.min.js&quot;&gt;&lt;/script&gt;\n",
       "    &lt;script src=&quot;https://cdnjs.cloudflare.com/ajax/libs/Leaflet.awesome-markers/2.0.2/leaflet.awesome-markers.js&quot;&gt;&lt;/script&gt;\n",
       "    &lt;link rel=&quot;stylesheet&quot; href=&quot;https://cdn.jsdelivr.net/npm/leaflet@1.9.3/dist/leaflet.css&quot;/&gt;\n",
       "    &lt;link rel=&quot;stylesheet&quot; href=&quot;https://cdn.jsdelivr.net/npm/bootstrap@5.2.2/dist/css/bootstrap.min.css&quot;/&gt;\n",
       "    &lt;link rel=&quot;stylesheet&quot; href=&quot;https://netdna.bootstrapcdn.com/bootstrap/3.0.0/css/bootstrap.min.css&quot;/&gt;\n",
       "    &lt;link rel=&quot;stylesheet&quot; href=&quot;https://cdn.jsdelivr.net/npm/@fortawesome/fontawesome-free@6.2.0/css/all.min.css&quot;/&gt;\n",
       "    &lt;link rel=&quot;stylesheet&quot; href=&quot;https://cdnjs.cloudflare.com/ajax/libs/Leaflet.awesome-markers/2.0.2/leaflet.awesome-markers.css&quot;/&gt;\n",
       "    &lt;link rel=&quot;stylesheet&quot; href=&quot;https://cdn.jsdelivr.net/gh/python-visualization/folium/folium/templates/leaflet.awesome.rotate.min.css&quot;/&gt;\n",
       "    \n",
       "            &lt;meta name=&quot;viewport&quot; content=&quot;width=device-width,\n",
       "                initial-scale=1.0, maximum-scale=1.0, user-scalable=no&quot; /&gt;\n",
       "            &lt;style&gt;\n",
       "                #map_1718ea7c8702d47da7eac6c57309aad1 {\n",
       "                    position: relative;\n",
       "                    width: 100.0%;\n",
       "                    height: 100.0%;\n",
       "                    left: 0.0%;\n",
       "                    top: 0.0%;\n",
       "                }\n",
       "                .leaflet-container { font-size: 1rem; }\n",
       "            &lt;/style&gt;\n",
       "        \n",
       "&lt;/head&gt;\n",
       "&lt;body&gt;\n",
       "    \n",
       "    \n",
       "            &lt;div class=&quot;folium-map&quot; id=&quot;map_1718ea7c8702d47da7eac6c57309aad1&quot; &gt;&lt;/div&gt;\n",
       "        \n",
       "&lt;/body&gt;\n",
       "&lt;script&gt;\n",
       "    \n",
       "    \n",
       "            var map_1718ea7c8702d47da7eac6c57309aad1 = L.map(\n",
       "                &quot;map_1718ea7c8702d47da7eac6c57309aad1&quot;,\n",
       "                {\n",
       "                    center: [-15.911319542624627, -47.76791017881488],\n",
       "                    crs: L.CRS.EPSG3857,\n",
       "                    zoom: 12,\n",
       "                    zoomControl: true,\n",
       "                    preferCanvas: false,\n",
       "                }\n",
       "            );\n",
       "\n",
       "            \n",
       "\n",
       "        \n",
       "    \n",
       "            var tile_layer_612fc8e95135bc2b7b4899dc21be7ba7 = L.tileLayer(\n",
       "                &quot;https://{s}.tile.openstreetmap.org/{z}/{x}/{y}.png&quot;,\n",
       "                {&quot;attribution&quot;: &quot;Data by \\u0026copy; \\u003ca target=\\&quot;_blank\\&quot; href=\\&quot;http://openstreetmap.org\\&quot;\\u003eOpenStreetMap\\u003c/a\\u003e, under \\u003ca target=\\&quot;_blank\\&quot; href=\\&quot;http://www.openstreetmap.org/copyright\\&quot;\\u003eODbL\\u003c/a\\u003e.&quot;, &quot;detectRetina&quot;: false, &quot;maxNativeZoom&quot;: 18, &quot;maxZoom&quot;: 18, &quot;minZoom&quot;: 0, &quot;noWrap&quot;: false, &quot;opacity&quot;: 1, &quot;subdomains&quot;: &quot;abc&quot;, &quot;tms&quot;: false}\n",
       "            ).addTo(map_1718ea7c8702d47da7eac6c57309aad1);\n",
       "        \n",
       "    \n",
       "            var marker_24969818c27b9d0695f04bdffa7e9711 = L.marker(\n",
       "                [-15.911319542624627, -47.76791017881488],\n",
       "                {}\n",
       "            ).addTo(map_1718ea7c8702d47da7eac6c57309aad1);\n",
       "        \n",
       "&lt;/script&gt;\n",
       "&lt;/html&gt;\" style=\"position:absolute;width:100%;height:100%;left:0;top:0;border:none !important;\" allowfullscreen webkitallowfullscreen mozallowfullscreen></iframe></div></div>"
      ],
      "text/plain": [
       "<folium.folium.Map at 0x7f15dfae6310>"
      ]
     },
     "execution_count": 9,
     "metadata": {},
     "output_type": "execute_result"
    }
   ],
   "source": [
    "import folium\n",
    "\n",
    "# Criar um mapa Folium centrado nas coordenadas do ponto selecionado\n",
    "mapa = folium.Map(location=[y, x], zoom_start=12)\n",
    "\n",
    "# Adicionar um marcador para o ponto no mapa\n",
    "folium.Marker(location=[y, x]).add_to(mapa)\n",
    "\n",
    "# Exibir o mapa\n",
    "mapa"
   ]
  },
  {
   "cell_type": "code",
   "execution_count": 10,
   "metadata": {},
   "outputs": [
    {
     "data": {
      "text/plain": [
       "'Avenida Morro da Cruz'"
      ]
     },
     "execution_count": 10,
     "metadata": {},
     "output_type": "execute_result"
    }
   ],
   "source": [
    "df['descricao'].iloc[0]"
   ]
  },
  {
   "cell_type": "code",
   "execution_count": 14,
   "metadata": {},
   "outputs": [
    {
     "data": {
      "text/html": [
       "<div>\n",
       "<style scoped>\n",
       "    .dataframe tbody tr th:only-of-type {\n",
       "        vertical-align: middle;\n",
       "    }\n",
       "\n",
       "    .dataframe tbody tr th {\n",
       "        vertical-align: top;\n",
       "    }\n",
       "\n",
       "    .dataframe thead th {\n",
       "        text-align: right;\n",
       "    }\n",
       "</style>\n",
       "<table border=\"1\" class=\"dataframe\">\n",
       "  <thead>\n",
       "    <tr style=\"text-align: right;\">\n",
       "      <th></th>\n",
       "      <th>id</th>\n",
       "      <th>linha</th>\n",
       "      <th>nome</th>\n",
       "      <th>sentido</th>\n",
       "      <th>faixa_tari</th>\n",
       "      <th>tarifa</th>\n",
       "      <th>situacao</th>\n",
       "      <th>bacia</th>\n",
       "      <th>tipo_da_li</th>\n",
       "      <th>situacao_d</th>\n",
       "      <th>geometry</th>\n",
       "    </tr>\n",
       "  </thead>\n",
       "  <tbody>\n",
       "    <tr>\n",
       "      <th>0</th>\n",
       "      <td>14832</td>\n",
       "      <td>0.018</td>\n",
       "      <td>PARANOÁ PARQUE / W3 NORTE (VIA PONTE JK)</td>\n",
       "      <td>IDA</td>\n",
       "      <td>METROPOLITANA 2</td>\n",
       "      <td>5.5</td>\n",
       "      <td>Ativa</td>\n",
       "      <td>2</td>\n",
       "      <td>Rodoviária</td>\n",
       "      <td>T</td>\n",
       "      <td>LINESTRING (201967.451 8255590.195, 201946.837...</td>\n",
       "    </tr>\n",
       "    <tr>\n",
       "      <th>1</th>\n",
       "      <td>14833</td>\n",
       "      <td>0.018</td>\n",
       "      <td>PARANOÁ PARQUE / W3 NORTE (VIA PONTE JK)</td>\n",
       "      <td>VOLTA</td>\n",
       "      <td>METROPOLITANA 2</td>\n",
       "      <td>5.5</td>\n",
       "      <td>Ativa</td>\n",
       "      <td>2</td>\n",
       "      <td>Rodoviária</td>\n",
       "      <td>T</td>\n",
       "      <td>LINESTRING (188410.823 8258088.738, 188394.509...</td>\n",
       "    </tr>\n",
       "    <tr>\n",
       "      <th>2</th>\n",
       "      <td>13249</td>\n",
       "      <td>100.2</td>\n",
       "      <td>Paranoá (Paranoá Parque) / Rodoviária do Plano...</td>\n",
       "      <td>VOLTA</td>\n",
       "      <td>METROPOLITANA 2</td>\n",
       "      <td>5.5</td>\n",
       "      <td>Ativa</td>\n",
       "      <td>2</td>\n",
       "      <td>Rodoviária</td>\n",
       "      <td>T</td>\n",
       "      <td>LINESTRING (191217.354 8251726.387, 191224.211...</td>\n",
       "    </tr>\n",
       "    <tr>\n",
       "      <th>3</th>\n",
       "      <td>10696</td>\n",
       "      <td>0.946</td>\n",
       "      <td>Vicente Pires / Rodoviária do Plano Piloto (EIXO)</td>\n",
       "      <td>IDA</td>\n",
       "      <td>METROPOLITANA 2</td>\n",
       "      <td>5.5</td>\n",
       "      <td>Ativa</td>\n",
       "      <td>5</td>\n",
       "      <td>Rodoviária</td>\n",
       "      <td>T</td>\n",
       "      <td>LINESTRING (172882.705 8251337.072, 172882.582...</td>\n",
       "    </tr>\n",
       "    <tr>\n",
       "      <th>4</th>\n",
       "      <td>15435</td>\n",
       "      <td>0.373</td>\n",
       "      <td>Samambaia Norte (2 Avenida) / Rodoviária do Pl...</td>\n",
       "      <td>IDA</td>\n",
       "      <td>METROPOLITANA 2</td>\n",
       "      <td>5.5</td>\n",
       "      <td>Ativa</td>\n",
       "      <td>3</td>\n",
       "      <td>Rodoviária</td>\n",
       "      <td>T</td>\n",
       "      <td>LINESTRING (162573.278 8241365.140, 162605.242...</td>\n",
       "    </tr>\n",
       "  </tbody>\n",
       "</table>\n",
       "</div>"
      ],
      "text/plain": [
       "      id  linha                                               nome sentido  \\\n",
       "0  14832  0.018           PARANOÁ PARQUE / W3 NORTE (VIA PONTE JK)     IDA   \n",
       "1  14833  0.018           PARANOÁ PARQUE / W3 NORTE (VIA PONTE JK)   VOLTA   \n",
       "2  13249  100.2  Paranoá (Paranoá Parque) / Rodoviária do Plano...   VOLTA   \n",
       "3  10696  0.946  Vicente Pires / Rodoviária do Plano Piloto (EIXO)     IDA   \n",
       "4  15435  0.373  Samambaia Norte (2 Avenida) / Rodoviária do Pl...     IDA   \n",
       "\n",
       "        faixa_tari  tarifa situacao  bacia  tipo_da_li situacao_d  \\\n",
       "0  METROPOLITANA 2     5.5    Ativa      2  Rodoviária          T   \n",
       "1  METROPOLITANA 2     5.5    Ativa      2  Rodoviária          T   \n",
       "2  METROPOLITANA 2     5.5    Ativa      2  Rodoviária          T   \n",
       "3  METROPOLITANA 2     5.5    Ativa      5  Rodoviária          T   \n",
       "4  METROPOLITANA 2     5.5    Ativa      3  Rodoviária          T   \n",
       "\n",
       "                                            geometry  \n",
       "0  LINESTRING (201967.451 8255590.195, 201946.837...  \n",
       "1  LINESTRING (188410.823 8258088.738, 188394.509...  \n",
       "2  LINESTRING (191217.354 8251726.387, 191224.211...  \n",
       "3  LINESTRING (172882.705 8251337.072, 172882.582...  \n",
       "4  LINESTRING (162573.278 8241365.140, 162605.242...  "
      ]
     },
     "execution_count": 14,
     "metadata": {},
     "output_type": "execute_result"
    }
   ],
   "source": [
    "# Lendo o arquivo das linhas\n",
    "file = '../Estudos/datasets/movi/data/Linhas.shp'\n",
    "linhas = gpd.read_file(file)\n",
    "linhas.head(5)"
   ]
  },
  {
   "cell_type": "code",
   "execution_count": 15,
   "metadata": {},
   "outputs": [
    {
     "name": "stdout",
     "output_type": "stream",
     "text": [
      "Requirement already satisfied: shapely in /home/luiz/.pyenv/versions/3.11.3/envs/dev/lib/python3.11/site-packages (2.0.1)\n",
      "Requirement already satisfied: numpy>=1.14 in /home/luiz/.pyenv/versions/3.11.3/envs/dev/lib/python3.11/site-packages (from shapely) (1.24.3)\n",
      "\n",
      "\u001b[1m[\u001b[0m\u001b[34;49mnotice\u001b[0m\u001b[1;39;49m]\u001b[0m\u001b[39;49m A new release of pip is available: \u001b[0m\u001b[31;49m23.1.2\u001b[0m\u001b[39;49m -> \u001b[0m\u001b[32;49m23.2.1\u001b[0m\n",
      "\u001b[1m[\u001b[0m\u001b[34;49mnotice\u001b[0m\u001b[1;39;49m]\u001b[0m\u001b[39;49m To update, run: \u001b[0m\u001b[32;49mpip install --upgrade pip\u001b[0m\n",
      "Note: you may need to restart the kernel to use updated packages.\n"
     ]
    }
   ],
   "source": [
    "# instalando uma nova biblioteca necessária\n",
    "%pip install shapely\n"
   ]
  },
  {
   "cell_type": "code",
   "execution_count": 24,
   "metadata": {},
   "outputs": [],
   "source": []
  },
  {
   "cell_type": "code",
   "execution_count": 30,
   "metadata": {},
   "outputs": [],
   "source": [
    "import folium\n",
    "from shapely.geometry import LineString\n",
    "\n",
    "# Criar o objeto Linestring\n",
    "linhas = linhas.to_crs('EPSG:4326')\n",
    "\n",
    "# Criar um mapa inicial\n",
    "m = folium.Map(location=[-15.76050, -47.78134], zoom_start=10)\n",
    "\n",
    "# Obter o objeto LineString a partir da coluna \"geometry\" do DataFrame\n",
    "linestring = linhas.geometry.iloc[0]\n",
    "\n",
    "# Converter as coordenadas do Linestring para o formato que o Folium espera (latitude, longitude)\n",
    "lat_lon_coords = [(lat, lon) for lon, lat in linestring.coords]\n",
    "\n",
    "# Adicionar o Linestring ao mapa como uma polilinha (linha poligonal)\n",
    "folium.PolyLine(locations=lat_lon_coords, color='blue', tooltip=linhas['linha'].iloc[0]).add_to(m)\n",
    "\n",
    "# Mostrar o mapa\n",
    "m.save('mapaLinestring.html')\n"
   ]
  }
 ],
 "metadata": {
  "kernelspec": {
   "display_name": "dev",
   "language": "python",
   "name": "python3"
  },
  "language_info": {
   "codemirror_mode": {
    "name": "ipython",
    "version": 3
   },
   "file_extension": ".py",
   "mimetype": "text/x-python",
   "name": "python",
   "nbconvert_exporter": "python",
   "pygments_lexer": "ipython3",
   "version": "3.11.3"
  },
  "orig_nbformat": 4
 },
 "nbformat": 4,
 "nbformat_minor": 2
}
