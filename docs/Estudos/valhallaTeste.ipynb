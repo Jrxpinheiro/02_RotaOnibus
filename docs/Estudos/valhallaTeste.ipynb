{
 "cells": [
  {
   "cell_type": "code",
   "execution_count": 2,
   "metadata": {},
   "outputs": [],
   "source": [
    "from valhalla import Actor, get_config\n",
    "from valhalla.utils import decode_polyline\n",
    "from shapely.geometry import LineString\n",
    "import folium"
   ]
  },
  {
   "cell_type": "code",
   "execution_count": 2,
   "metadata": {},
   "outputs": [
    {
     "name": "stdout",
     "output_type": "stream",
     "text": [
      "2023/07/24 01:01:10.211504 \u001b[32;1m[INFO]\u001b[0m Tile extract successfully loaded with tile count: 16\n",
      "2023/07/24 01:01:10.211565 \u001b[33;1m[WARN]\u001b[0m (stat): /data/valhalla/traffic.tar No such file or directory\n",
      "2023/07/24 01:01:10.211567 \u001b[33;1m[WARN]\u001b[0m Traffic tile extract could not be loaded\n"
     ]
    }
   ],
   "source": [
    "config = get_config(tile_extract='./custom_files/valhalla_tiles.tar', verbose=True)\n",
    "# instantiate Actor to load graph and call actions\n",
    "actor = Actor(config)"
   ]
  },
  {
   "cell_type": "code",
   "execution_count": 3,
   "metadata": {},
   "outputs": [
    {
     "name": "stdout",
     "output_type": "stream",
     "text": [
      "Não foi possível calcular a rota.\n"
     ]
    },
    {
     "ename": "NameError",
     "evalue": "name 'geom' is not defined",
     "output_type": "error",
     "traceback": [
      "\u001b[0;31m---------------------------------------------------------------------------\u001b[0m",
      "\u001b[0;31mNameError\u001b[0m                                 Traceback (most recent call last)",
      "Cell \u001b[0;32mIn[3], line 32\u001b[0m\n\u001b[1;32m     29\u001b[0m mapa \u001b[39m=\u001b[39m folium\u001b[39m.\u001b[39mMap(location\u001b[39m=\u001b[39m[from_coords[\u001b[39m0\u001b[39m], from_coords[\u001b[39m1\u001b[39m]], zoom_start\u001b[39m=\u001b[39m\u001b[39m13\u001b[39m)\n\u001b[1;32m     31\u001b[0m \u001b[39m# Adicionar a rota ao mapa usando Folium.PolyLine\u001b[39;00m\n\u001b[0;32m---> 32\u001b[0m folium\u001b[39m.\u001b[39mPolyLine(locations\u001b[39m=\u001b[39m[(lat, lon) \u001b[39mfor\u001b[39;00m lon, lat \u001b[39min\u001b[39;00m geom], color\u001b[39m=\u001b[39m\u001b[39m'\u001b[39m\u001b[39mblue\u001b[39m\u001b[39m'\u001b[39m, weight\u001b[39m=\u001b[39m\u001b[39m3\u001b[39m)\u001b[39m.\u001b[39madd_to(mapa)\n\u001b[1;32m     34\u001b[0m \u001b[39m# Exibir o mapa\u001b[39;00m\n\u001b[1;32m     35\u001b[0m mapa\n",
      "\u001b[0;31mNameError\u001b[0m: name 'geom' is not defined"
     ]
    }
   ],
   "source": [
    "from valhalla import Actor, get_config\n",
    "from valhalla.utils import decode_polyline\n",
    "from shapely.geometry import LineString\n",
    "import folium\n",
    "\n",
    "# Coordenadas dos pontos de origem e destino\n",
    "from_coords = (1.5187038736476666, 42.50567414694345)  # Latitude e longitude do ponto de origem\n",
    "to_coords = (1.5230295675733032, 42.506775773358584)  # Latitude e longitude do ponto de destino\n",
    "\n",
    "# Calcular a rota entre os dois pontos\n",
    "# Calcular a rota entre os dois pontos\n",
    "query = {\n",
    "    \"locations\": [\n",
    "        {\"lat\": from_coords[0], \"lon\": from_coords[1]},\n",
    "        {\"lat\": to_coords[0], \"lon\": to_coords[1]}\n",
    "    ],\n",
    "    \"costing\": \"auto\",\n",
    "    # Você pode adicionar mais parâmetros de configuração aqui, se necessário\n",
    "}\n",
    "\n",
    "try:\n",
    "    route = actor.route(query)\n",
    "    geom = decode_polyline(route[\"trip\"][\"legs\"][1][\"shape\"])\n",
    "    route_geometry = LineString(geom)\n",
    "except RuntimeError:\n",
    "    print(\"Não foi possível calcular a rota.\")\n",
    "\n",
    "# Criar um objeto Folium.Map com as coordenadas do ponto de origem\n",
    "mapa = folium.Map(location=[from_coords[0], from_coords[1]], zoom_start=13)\n",
    "\n",
    "# Adicionar a rota ao mapa usando Folium.PolyLine\n",
    "folium.PolyLine(locations=[(lat, lon) for lon, lat in geom], color='blue', weight=3).add_to(mapa)\n",
    "\n",
    "# Exibir o mapa\n",
    "mapa\n"
   ]
  }
 ],
 "metadata": {
  "kernelspec": {
   "display_name": "dev",
   "language": "python",
   "name": "python3"
  },
  "language_info": {
   "codemirror_mode": {
    "name": "ipython",
    "version": 3
   },
   "file_extension": ".py",
   "mimetype": "text/x-python",
   "name": "python",
   "nbconvert_exporter": "python",
   "pygments_lexer": "ipython3",
   "version": "3.11.3"
  },
  "orig_nbformat": 4
 },
 "nbformat": 4,
 "nbformat_minor": 2
}
