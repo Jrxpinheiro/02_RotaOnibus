{
 "cells": [
  {
   "cell_type": "code",
   "execution_count": 3,
   "metadata": {},
   "outputs": [],
   "source": [
    "import osmnx as ox\n",
    "\n",
    "# Baixe a rede de ruas para todo o Distrito Federal\n",
    "place = \"Distrito Federal, Brazil\"\n",
    "G_DF = ox.graph.graph_from_place(place, network_type='drive', simplify=False, retain_all=False, truncate_by_edge=False, which_result=None, buffer_dist=None, clean_periphery=None, custom_filter=None)\n",
    "\n",
    "# Salve a rede para um arquivo .graphml\n",
    "ox.save_graphml(G_DF, filepath=\"distrito_federal.graphml\")"
   ]
  },
  {
   "cell_type": "code",
   "execution_count": 4,
   "metadata": {},
   "outputs": [],
   "source": [
    "import osmnx as ox\n",
    "\n",
    "# Baixe a rede de ruas para todo o Distrito Federal\n",
    "place = \"Distrito Federal, Brazil\"\n",
    "G_DF = ox.graph.graph_from_place(place, network_type='drive', simplify=True, retain_all=False, truncate_by_edge=False, which_result=None, buffer_dist=None, clean_periphery=None, custom_filter=None)\n",
    "\n",
    "# Salve a rede para um arquivo .graphml\n",
    "ox.save_graphml(G_DF, filepath=\"leve_distrito_federal.graphml\")"
   ]
  }
 ],
 "metadata": {
  "kernelspec": {
   "display_name": ".venv",
   "language": "python",
   "name": "python3"
  },
  "language_info": {
   "codemirror_mode": {
    "name": "ipython",
    "version": 3
   },
   "file_extension": ".py",
   "mimetype": "text/x-python",
   "name": "python",
   "nbconvert_exporter": "python",
   "pygments_lexer": "ipython3",
   "version": "3.10.12"
  },
  "orig_nbformat": 4
 },
 "nbformat": 4,
 "nbformat_minor": 2
}
